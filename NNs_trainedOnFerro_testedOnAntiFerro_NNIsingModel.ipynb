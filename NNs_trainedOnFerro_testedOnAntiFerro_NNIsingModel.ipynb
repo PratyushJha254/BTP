{
  "cells": [
    {
      "cell_type": "markdown",
      "metadata": {
        "id": "view-in-github",
        "colab_type": "text"
      },
      "source": [
        "<a href=\"https://colab.research.google.com/github/PratyushJha254/BTP/blob/main/NNs_trainedOnFerro_testedOnAntiFerro_NNIsingModel.ipynb\" target=\"_parent\"><img src=\"https://colab.research.google.com/assets/colab-badge.svg\" alt=\"Open In Colab\"/></a>"
      ]
    },
    {
      "cell_type": "markdown",
      "source": [
        "Do the following:\n",
        "1.   Code NNs using pytorch, test over NNN Ising Model.\n",
        "2.   Train the model using antiferro data.\n",
        "3.   Train on ferro test on anti-ferro (first discuss with Sir).\n",
        "\n",
        "\n"
      ],
      "metadata": {
        "id": "Tih5gFAocas0"
      }
    },
    {
      "cell_type": "code",
      "execution_count": 1,
      "metadata": {
        "id": "CH9ENwKBYeOY"
      },
      "outputs": [],
      "source": [
        "import numpy as np\n",
        "from matplotlib import pyplot as plt\n",
        "import tensorflow as tf\n",
        "from tensorflow import keras\n",
        "from sklearn.model_selection import train_test_split\n",
        "from keras.utils import to_categorical\n",
        "import pickle\n",
        "from sklearn.manifold import TSNE\n",
        "import numpy as np\n",
        "import matplotlib.pyplot as plt\n",
        "import matplotlib.colors as mcol\n",
        "import matplotlib.cm as cm\n",
        "from keras.utils import to_categorical\n",
        "import keras.layers as layers\n",
        "from keras import Sequential\n",
        "from numba import jit\n",
        "\n",
        "import numpy as np\n",
        "import torch\n",
        "import torch.nn as nn\n",
        "import torch.optim as optim\n",
        "from torch.utils.data import Dataset, DataLoader\n",
        "import torchvision.utils as vutils\n",
        "import matplotlib.pyplot as plt\n",
        "import sys\n",
        "from torch.autograd import Variable\n",
        "from torch.autograd import grad as torch_grad\n",
        "import seaborn as sns\n"
      ]
    },
    {
      "cell_type": "markdown",
      "source": [
        "#### Metropolis Algorithm"
      ],
      "metadata": {
        "id": "DZUcbnKRp0LW"
      }
    },
    {
      "cell_type": "code",
      "execution_count": null,
      "metadata": {
        "id": "JxP8qAFiZ5eZ"
      },
      "outputs": [],
      "source": [
        "import numpy as np\n",
        "from numba import jit\n",
        "\n",
        "@jit(nopython=True)\n",
        "def data_generation_internal(l, J=1):\n",
        "    # J = 1  # coupling strength\n",
        "    L = l  # grid size\n",
        "\n",
        "    temperatures = np.arange(1, 3.51, 0.1)  # 26\n",
        "    ntherm = 100  # thermalization steps\n",
        "    nsamples = 100  # number of samples for every starting configuration\n",
        "    nbin = 10  # number of starting configurations\n",
        "\n",
        "    n = len(temperatures) * nbin * nsamples  # total number of samples\n",
        "\n",
        "    C = np.empty((n, L, L))\n",
        "    T = np.empty(n)\n",
        "\n",
        "    # checkerboard pattern\n",
        "    x = np.zeros((L, L), dtype=np.int64)\n",
        "    x[1::2, 0::2] = 1\n",
        "    x[0::2, 1::2] = 1\n",
        "\n",
        "    c = 0\n",
        "    for t in temperatures:\n",
        "        for i in range(nbin):\n",
        "            # start with polarized state\n",
        "            grid = np.ones((L, L)) * (-1)**(i % 2)\n",
        "            # draw a number of sample configurations\n",
        "            for j in range(nsamples):\n",
        "                # perform a number of updates until thermalization\n",
        "                for k in range(ntherm):\n",
        "                    # Calculate neighbors without using np.roll()\n",
        "                    neighbors = np.zeros((L, L))\n",
        "                    neighbors[:-1, :] += grid[1:, :]\n",
        "                    neighbors[1:, :] += grid[:-1, :]\n",
        "                    neighbors[:, :-1] += grid[:, 1:]\n",
        "                    neighbors[:, 1:] += grid[:, :-1]\n",
        "                    # calculate the potential changes in energy\n",
        "                    dE = 2 * J * (grid * neighbors)\n",
        "                    # calculate the transition probabilities\n",
        "                    p = np.exp(-dE / t)\n",
        "                    # decide which transitions will occur\n",
        "                    # (avoid updating neighbors using alternating checkerboard pattern)\n",
        "                    grid *= 1 - 2 * np.multiply((np.random.rand(L, L) < p).astype(np.int8), x ^ (k % 2))\n",
        "\n",
        "                C[c] = grid\n",
        "                T[c] = t\n",
        "                c += 1\n",
        "\n",
        "    return C, T"
      ]
    },
    {
      "cell_type": "code",
      "source": [
        "def data_generation(l, name, J):\n",
        "    C, T = data_generation_internal(l, J)\n",
        "    p = np.random.permutation(len(C))\n",
        "    np.savez_compressed(name, X=C[p], y=T[p])"
      ],
      "metadata": {
        "id": "_695L5ZXJIuG"
      },
      "execution_count": null,
      "outputs": []
    },
    {
      "cell_type": "code",
      "execution_count": null,
      "metadata": {
        "id": "vhxKd4C0Z5ea"
      },
      "outputs": [],
      "source": [
        "# data_generation(10, 'data1.npz', 1)\n",
        "# data_generation(20, 'data2.npz', 1)\n",
        "# data_generation(30, 'data3.npz', 1)\n",
        "# data_generation(40, 'data4.npz', 1)\n",
        "data_generation(64, 'data_anti.npz', -1)"
      ]
    },
    {
      "cell_type": "markdown",
      "source": [
        "#### Loading the file"
      ],
      "metadata": {
        "id": "bm-eCHQ5p5dz"
      }
    },
    {
      "cell_type": "code",
      "source": [
        "nu_G = 10\n",
        "Ny = 64\n",
        "Nx = 64\n",
        "nc = 1\n",
        "nz = 100\n",
        "ngf = 64\n",
        "ndf = 64\n",
        "num_epochs = 50\n",
        "lr = 0.001\n",
        "beta1 = 0.5\n",
        "ngpu = 1\n",
        "N = Ny * Nx\n",
        "device = torch.device('cuda:0' if (torch.cuda.is_available() and ngpu > 0) else 'cpu')"
      ],
      "metadata": {
        "id": "Z2YO9EViStuz"
      },
      "execution_count": 74,
      "outputs": []
    },
    {
      "cell_type": "code",
      "execution_count": 7,
      "metadata": {
        "id": "Wwq4a69qZ5eb"
      },
      "outputs": [],
      "source": [
        "def file_loader(file_name):\n",
        "    data = np.load(file_name)\n",
        "    X = data['X']\n",
        "    y = data['y']\n",
        "    X_train, X_test, Y_train, Y_test = train_test_split(X, y, test_size=0.15)\n",
        "    Tc = 2.27 # For a square lattice following Ising Model\n",
        "    y_train = Y_train > Tc\n",
        "    y_test = Y_test > Tc\n",
        "    y_train = to_categorical(y_train.astype(int))\n",
        "    y_test = to_categorical(y_test.astype(int))\n",
        "    return X_train, X_test, y_train, y_test, Y_train, Y_test"
      ]
    },
    {
      "cell_type": "code",
      "execution_count": 8,
      "metadata": {
        "id": "Y_8X1AJRZAaN"
      },
      "outputs": [],
      "source": [
        "# data -\n",
        "\n",
        "# X_train1, X_test1, y_train1, y_test1, Y_train1, Y_test1 = file_loader('data1.npz')\n",
        "\n",
        "# X_train2, X_test2, y_train2, y_test2, Y_train2, Y_test2 = file_loader('data2.npz')\n",
        "\n",
        "# X_train3, X_test3, y_train3, y_test3, Y_train3, Y_test3 = file_loader('data3.npz')\n",
        "\n",
        "# X_train4, X_test4, y_train4, y_test4, Y_train4, Y_test4 = file_loader('data4.npz')\n",
        "\n",
        "X_train, X_test, y_train, y_test, Y_train, Y_test = file_loader('data.npz')"
      ]
    },
    {
      "cell_type": "code",
      "source": [
        "X_train_anti, X_test_anti, y_train_anti, y_test_anti, Y_train_anti, Y_test_anti = file_loader('data_anti.npz')"
      ],
      "metadata": {
        "id": "puu1oIW8oxg1"
      },
      "execution_count": 9,
      "outputs": []
    },
    {
      "cell_type": "markdown",
      "source": [
        "#### Dataset and DataLoader"
      ],
      "metadata": {
        "id": "BSS1i0APqJnU"
      }
    },
    {
      "cell_type": "code",
      "source": [
        "class IsingDataset(Dataset):\n",
        "    def __init__(self, x, y):\n",
        "        self.n_samples = x.shape[0]\n",
        "        self.x = torch.tensor(torch.from_numpy(x))\n",
        "        self.y = torch.tensor(torch.from_numpy(y))\n",
        "\n",
        "    def __getitem__(self, index):\n",
        "        return self.x[index], self.y[index]\n",
        "\n",
        "    def __len__(self):\n",
        "        return self.n_samples"
      ],
      "metadata": {
        "id": "OvGVpjWwJi8J"
      },
      "execution_count": 70,
      "outputs": []
    },
    {
      "cell_type": "code",
      "source": [
        "training_dataset = IsingDataset(X_train, y_train)\n",
        "testing_dataset = IsingDataset(X_test, y_test)\n",
        "batch_size = 128\n",
        "train_dataloader = DataLoader(dataset = training_dataset, batch_size = batch_size, shuffle = False)\n",
        "test_dataloader = DataLoader(dataset = testing_dataset, batch_size = batch_size, shuffle = False)"
      ],
      "metadata": {
        "colab": {
          "base_uri": "https://localhost:8080/"
        },
        "id": "MxE4frNKJw4y",
        "outputId": "a0d0dd21-df01-406f-ddae-822ccae9635b"
      },
      "execution_count": 71,
      "outputs": [
        {
          "output_type": "stream",
          "name": "stderr",
          "text": [
            "<ipython-input-70-de2182b412d1>:4: UserWarning: To copy construct from a tensor, it is recommended to use sourceTensor.clone().detach() or sourceTensor.clone().detach().requires_grad_(True), rather than torch.tensor(sourceTensor).\n",
            "  self.x = torch.tensor(torch.from_numpy(x))\n",
            "<ipython-input-70-de2182b412d1>:5: UserWarning: To copy construct from a tensor, it is recommended to use sourceTensor.clone().detach() or sourceTensor.clone().detach().requires_grad_(True), rather than torch.tensor(sourceTensor).\n",
            "  self.y = torch.tensor(torch.from_numpy(y))\n"
          ]
        }
      ]
    },
    {
      "cell_type": "code",
      "source": [
        "training_dataset_anti = IsingDataset(X_train_anti, y_train_anti)\n",
        "testing_dataset_anti = IsingDataset(X_test_anti, y_test_anti)\n",
        "batch_size = 128\n",
        "train_dataloader_anti = DataLoader(dataset = training_dataset_anti, batch_size = batch_size, shuffle = False)\n",
        "test_dataloader_anti = DataLoader(dataset = testing_dataset_anti, batch_size = batch_size, shuffle = False)"
      ],
      "metadata": {
        "colab": {
          "base_uri": "https://localhost:8080/"
        },
        "id": "TWZOcCBUobIc",
        "outputId": "cadf59ca-f603-40ec-b76e-724ce92d73c0"
      },
      "execution_count": 72,
      "outputs": [
        {
          "output_type": "stream",
          "name": "stderr",
          "text": [
            "<ipython-input-70-de2182b412d1>:4: UserWarning: To copy construct from a tensor, it is recommended to use sourceTensor.clone().detach() or sourceTensor.clone().detach().requires_grad_(True), rather than torch.tensor(sourceTensor).\n",
            "  self.x = torch.tensor(torch.from_numpy(x))\n",
            "<ipython-input-70-de2182b412d1>:5: UserWarning: To copy construct from a tensor, it is recommended to use sourceTensor.clone().detach() or sourceTensor.clone().detach().requires_grad_(True), rather than torch.tensor(sourceTensor).\n",
            "  self.y = torch.tensor(torch.from_numpy(y))\n"
          ]
        }
      ]
    },
    {
      "cell_type": "markdown",
      "source": [
        "#### Accuracy, train and test functions"
      ],
      "metadata": {
        "id": "RZDqQL9sqtt5"
      }
    },
    {
      "cell_type": "code",
      "source": [
        "def calculate_accuracy(outputs, labels):\n",
        "    # Threshold the outputs at 0.5 to get binary predictions: below 0.5 becomes 0, above becomes 1\n",
        "    predicted = (outputs > 0.5).float()\n",
        "\n",
        "    # The labels need to have the same dimensions as the predictions for comparison\n",
        "    # Assuming labels are already in the correct shape (batch_size, 1) or (batch_size,)\n",
        "    # If not, you might need to adjust labels' shape, e.g., labels = labels.view(-1, 1)\n",
        "\n",
        "    # Calculate the number of correct predictions\n",
        "    correct = (predicted == labels).float().sum().item()/2\n",
        "\n",
        "    # Calculate the total number of labels (which is also the batch size)\n",
        "    total = labels.size(0)\n",
        "\n",
        "    # Calculate accuracy as the percentage of correct predictions\n",
        "    accuracy = correct / total\n",
        "    return accuracy\n"
      ],
      "metadata": {
        "id": "hOTDhh6OcgX9"
      },
      "execution_count": 2,
      "outputs": []
    },
    {
      "cell_type": "code",
      "source": [
        "def train(model, num_epochs, criterion, optimizer, train_dataloader):\n",
        "  for epoch in range(num_epochs):\n",
        "    for i, (x, label) in enumerate(train_dataloader):\n",
        "      x = x.to(device).float()\n",
        "      label = label.to(device).float()\n",
        "      b_size = x.size(0)\n",
        "      model.zero_grad()\n",
        "      output = model(x)\n",
        "      if(epoch==0 and i==0):\n",
        "        print(output)\n",
        "      error = criterion(output, label)\n",
        "      error.backward()\n",
        "      optimizer.step()\n",
        "      acc_train = calculate_accuracy(output, label)\n",
        "      if i % 20 == 0:\n",
        "        print('Loss:', error.item(),',Train accuracy:', acc_train)"
      ],
      "metadata": {
        "id": "nOqtvmF4R72B"
      },
      "execution_count": 56,
      "outputs": []
    },
    {
      "cell_type": "code",
      "source": [
        "def test(model, criterion, test_dataloader):\n",
        "    for i, (x, label) in enumerate(test_dataloader):\n",
        "      x = x.to(device).float()\n",
        "      label = label.to(device).float()\n",
        "      output = model(x)\n",
        "      error = criterion(output, label)\n",
        "      acc_train = calculate_accuracy(output, label)\n",
        "      if i % 20 == 0:\n",
        "        print('Loss:', error.item(),',Test accuracy:', acc_train)"
      ],
      "metadata": {
        "id": "lkWQ7iweqBZ9"
      },
      "execution_count": 4,
      "outputs": []
    },
    {
      "cell_type": "code",
      "source": [
        "def get_predictions(test_loader, model):\n",
        "    # Assuming `test_loader` is your DataLoader for the test dataset\n",
        "    # Iterate over the test data and make predictions\n",
        "    all_predictions = []\n",
        "    with torch.no_grad():  # Disable gradient tracking during inference\n",
        "        for inputs in test_loader:\n",
        "            inputs = inputs.to(device)  # Move inputs to the device (e.g., GPU)\n",
        "            _, predicted = torch.max(outputs, 1)  # Get the predicted class indices\n",
        "            all_predictions.extend(outputs.cpu().numpy())  # Convert predictions to CPU and store them\n",
        "\n",
        "    # Now `all_predictions` contains the predicted class indices for all test samples\n",
        "    # You can further process or save these predictions as needed\n"
      ],
      "metadata": {
        "id": "RZQwaexTynZw"
      },
      "execution_count": 5,
      "outputs": []
    },
    {
      "cell_type": "markdown",
      "metadata": {
        "id": "Jru3T1Rz1aRh"
      },
      "source": [
        "#### Fully Connected Neural Network"
      ]
    },
    {
      "cell_type": "code",
      "source": [
        "class neural_network(nn.Module):\n",
        "  def __init__(self):\n",
        "    super(neural_network, self).__init__()\n",
        "    self.main = nn.Sequential(\n",
        "        nn.Flatten(start_dim=1,end_dim=-1),\n",
        "        nn.Linear(Nx*Ny, 100),\n",
        "        nn.Sigmoid(),\n",
        "        nn.Linear(100, 2),\n",
        "        nn.Sigmoid()\n",
        "    )\n",
        "  def forward(self, input):\n",
        "      return self.main(input)"
      ],
      "metadata": {
        "id": "0lSfsrZCJ-0V"
      },
      "execution_count": 109,
      "outputs": []
    },
    {
      "cell_type": "code",
      "source": [
        "device"
      ],
      "metadata": {
        "colab": {
          "base_uri": "https://localhost:8080/"
        },
        "id": "PziWo7Y6U9GY",
        "outputId": "a2df0a79-03cf-4a46-c9ab-dde08c929c03"
      },
      "execution_count": 110,
      "outputs": [
        {
          "output_type": "execute_result",
          "data": {
            "text/plain": [
              "device(type='cuda', index=0)"
            ]
          },
          "metadata": {},
          "execution_count": 110
        }
      ]
    },
    {
      "cell_type": "code",
      "source": [
        "FCNN = neural_network().to(device)\n",
        "criterion_FCNN = nn.BCELoss()\n",
        "optimizer_FCNN = optim.Adam(FCNN.parameters(), lr=lr, betas=(0.9, 0.999))"
      ],
      "metadata": {
        "id": "K-euoH6nSSQP"
      },
      "execution_count": 111,
      "outputs": []
    },
    {
      "cell_type": "code",
      "source": [
        "num_epochs = 50\n",
        "train(FCNN, num_epochs, criterion_FCNN, optimizer_FCNN, train_dataloader)"
      ],
      "metadata": {
        "id": "yam54zMZeAXy",
        "colab": {
          "base_uri": "https://localhost:8080/"
        },
        "outputId": "179c68d0-ca31-43d3-c31b-fe8259aceb02"
      },
      "execution_count": 112,
      "outputs": [
        {
          "output_type": "stream",
          "name": "stdout",
          "text": [
            "tensor([[0.3712, 0.4709],\n",
            "        [0.3539, 0.4499],\n",
            "        [0.3542, 0.4511],\n",
            "        [0.3708, 0.4715],\n",
            "        [0.3688, 0.4860],\n",
            "        [0.3831, 0.4698],\n",
            "        [0.3410, 0.4622],\n",
            "        [0.3744, 0.4673],\n",
            "        [0.3580, 0.4440],\n",
            "        [0.3502, 0.5152],\n",
            "        [0.3472, 0.4766],\n",
            "        [0.3710, 0.4709],\n",
            "        [0.3654, 0.4616],\n",
            "        [0.3701, 0.4811],\n",
            "        [0.3486, 0.4710],\n",
            "        [0.3403, 0.4381],\n",
            "        [0.3976, 0.4630],\n",
            "        [0.3729, 0.4687],\n",
            "        [0.3935, 0.4552],\n",
            "        [0.3730, 0.4715],\n",
            "        [0.3660, 0.4674],\n",
            "        [0.3639, 0.4560],\n",
            "        [0.3344, 0.4789],\n",
            "        [0.3725, 0.4534],\n",
            "        [0.3547, 0.4532],\n",
            "        [0.3544, 0.4470],\n",
            "        [0.3577, 0.4630],\n",
            "        [0.3529, 0.4501],\n",
            "        [0.3673, 0.4612],\n",
            "        [0.3722, 0.4720],\n",
            "        [0.3727, 0.4701],\n",
            "        [0.3297, 0.4403],\n",
            "        [0.3658, 0.4639],\n",
            "        [0.3700, 0.4679],\n",
            "        [0.3701, 0.4690],\n",
            "        [0.3564, 0.4558],\n",
            "        [0.3837, 0.4497],\n",
            "        [0.3734, 0.4718],\n",
            "        [0.3434, 0.4698],\n",
            "        [0.3931, 0.4348],\n",
            "        [0.3632, 0.4451],\n",
            "        [0.3568, 0.4595],\n",
            "        [0.3520, 0.4499],\n",
            "        [0.3616, 0.4529],\n",
            "        [0.3538, 0.4470],\n",
            "        [0.3547, 0.4501],\n",
            "        [0.3660, 0.4300],\n",
            "        [0.3500, 0.4623],\n",
            "        [0.3886, 0.4359],\n",
            "        [0.3613, 0.4462],\n",
            "        [0.3468, 0.4574],\n",
            "        [0.3492, 0.4656],\n",
            "        [0.3733, 0.4665],\n",
            "        [0.3542, 0.4510],\n",
            "        [0.3715, 0.4770],\n",
            "        [0.3547, 0.4493],\n",
            "        [0.3379, 0.4375],\n",
            "        [0.3232, 0.4742],\n",
            "        [0.3540, 0.4537],\n",
            "        [0.3361, 0.4323],\n",
            "        [0.3493, 0.4835],\n",
            "        [0.3619, 0.4694],\n",
            "        [0.3570, 0.4357],\n",
            "        [0.3569, 0.4486],\n",
            "        [0.3595, 0.4428],\n",
            "        [0.3552, 0.4469],\n",
            "        [0.3748, 0.4840],\n",
            "        [0.3573, 0.4962],\n",
            "        [0.3822, 0.4857],\n",
            "        [0.3823, 0.4729],\n",
            "        [0.3750, 0.4732],\n",
            "        [0.3540, 0.4495],\n",
            "        [0.3955, 0.4664],\n",
            "        [0.3528, 0.4238],\n",
            "        [0.3812, 0.4511],\n",
            "        [0.3541, 0.4506],\n",
            "        [0.3687, 0.4687],\n",
            "        [0.3511, 0.4395],\n",
            "        [0.3687, 0.4669],\n",
            "        [0.3643, 0.4616],\n",
            "        [0.3585, 0.4950],\n",
            "        [0.3368, 0.4701],\n",
            "        [0.3785, 0.4438],\n",
            "        [0.3681, 0.4716],\n",
            "        [0.3255, 0.4751],\n",
            "        [0.3797, 0.4400],\n",
            "        [0.3684, 0.4723],\n",
            "        [0.3745, 0.4591],\n",
            "        [0.3830, 0.4615],\n",
            "        [0.3524, 0.4475],\n",
            "        [0.3704, 0.4691],\n",
            "        [0.3684, 0.4446],\n",
            "        [0.3572, 0.4609],\n",
            "        [0.3424, 0.4953],\n",
            "        [0.3439, 0.5037],\n",
            "        [0.3681, 0.4694],\n",
            "        [0.3566, 0.4155],\n",
            "        [0.3830, 0.4601],\n",
            "        [0.3727, 0.4711],\n",
            "        [0.3580, 0.4785],\n",
            "        [0.3736, 0.4703],\n",
            "        [0.3825, 0.4515],\n",
            "        [0.3553, 0.4502],\n",
            "        [0.3537, 0.4485],\n",
            "        [0.3634, 0.4115],\n",
            "        [0.3494, 0.4596],\n",
            "        [0.3726, 0.4669],\n",
            "        [0.3777, 0.4552],\n",
            "        [0.3704, 0.4655],\n",
            "        [0.3707, 0.4724],\n",
            "        [0.3533, 0.4506],\n",
            "        [0.3563, 0.4536],\n",
            "        [0.3070, 0.4978],\n",
            "        [0.3635, 0.4560],\n",
            "        [0.3615, 0.5010],\n",
            "        [0.3889, 0.4442],\n",
            "        [0.3730, 0.4659],\n",
            "        [0.3535, 0.4511],\n",
            "        [0.3963, 0.4719],\n",
            "        [0.3697, 0.4714],\n",
            "        [0.3538, 0.4493],\n",
            "        [0.3553, 0.4502],\n",
            "        [0.3475, 0.4575],\n",
            "        [0.3750, 0.4493],\n",
            "        [0.3538, 0.4505],\n",
            "        [0.3823, 0.4641],\n",
            "        [0.3312, 0.4448],\n",
            "        [0.3640, 0.4609]], device='cuda:0', grad_fn=<SigmoidBackward0>)\n",
            "Loss: 0.7103176116943359 ,Train accuracy: 0.51171875\n",
            "Loss: 0.7077020406723022 ,Train accuracy: 0.51953125\n",
            "Loss: 0.7028015851974487 ,Train accuracy: 0.49609375\n",
            "Loss: 0.6817879676818848 ,Train accuracy: 0.7578125\n",
            "Loss: 0.6854248642921448 ,Train accuracy: 0.5078125\n",
            "Loss: 0.6753628849983215 ,Train accuracy: 0.51953125\n",
            "Loss: 0.6838704347610474 ,Train accuracy: 0.51171875\n",
            "Loss: 0.6728823781013489 ,Train accuracy: 0.55859375\n",
            "Loss: 0.7080448865890503 ,Train accuracy: 0.44921875\n",
            "Loss: 0.6016685962677002 ,Train accuracy: 0.6640625\n",
            "Loss: 0.6262301802635193 ,Train accuracy: 0.75\n",
            "Loss: 0.6218240261077881 ,Train accuracy: 0.8515625\n",
            "Loss: 0.6359854936599731 ,Train accuracy: 0.8125\n",
            "Loss: 0.6015794277191162 ,Train accuracy: 0.8125\n",
            "Loss: 0.614544153213501 ,Train accuracy: 0.79296875\n",
            "Loss: 0.607441782951355 ,Train accuracy: 0.80078125\n",
            "Loss: 0.5987750291824341 ,Train accuracy: 0.8125\n",
            "Loss: 0.6615151762962341 ,Train accuracy: 0.765625\n",
            "Loss: 0.552579402923584 ,Train accuracy: 0.83203125\n",
            "Loss: 0.5364428758621216 ,Train accuracy: 0.80078125\n",
            "Loss: 0.5302817821502686 ,Train accuracy: 0.82421875\n",
            "Loss: 0.5371535420417786 ,Train accuracy: 0.8515625\n",
            "Loss: 0.4846554100513458 ,Train accuracy: 0.87109375\n",
            "Loss: 0.49879980087280273 ,Train accuracy: 0.8125\n",
            "Loss: 0.47105535864830017 ,Train accuracy: 0.86328125\n",
            "Loss: 0.4943804144859314 ,Train accuracy: 0.84375\n",
            "Loss: 0.5623419880867004 ,Train accuracy: 0.828125\n",
            "Loss: 0.4642666280269623 ,Train accuracy: 0.83984375\n",
            "Loss: 0.42350125312805176 ,Train accuracy: 0.83984375\n",
            "Loss: 0.4070143699645996 ,Train accuracy: 0.90625\n",
            "Loss: 0.3759791851043701 ,Train accuracy: 0.921875\n",
            "Loss: 0.35306018590927124 ,Train accuracy: 0.9140625\n",
            "Loss: 0.3494531512260437 ,Train accuracy: 0.91796875\n",
            "Loss: 0.3055460751056671 ,Train accuracy: 0.94921875\n",
            "Loss: 0.34167319536209106 ,Train accuracy: 0.88671875\n",
            "Loss: 0.3872040808200836 ,Train accuracy: 0.890625\n",
            "Loss: 0.2984640300273895 ,Train accuracy: 0.91015625\n",
            "Loss: 0.2847839295864105 ,Train accuracy: 0.8984375\n",
            "Loss: 0.2644350528717041 ,Train accuracy: 0.94921875\n",
            "Loss: 0.22133766114711761 ,Train accuracy: 0.96484375\n",
            "Loss: 0.20315584540367126 ,Train accuracy: 0.96484375\n",
            "Loss: 0.20618250966072083 ,Train accuracy: 0.953125\n",
            "Loss: 0.16776078939437866 ,Train accuracy: 0.96875\n",
            "Loss: 0.19087491929531097 ,Train accuracy: 0.9375\n",
            "Loss: 0.20321668684482574 ,Train accuracy: 0.95703125\n",
            "Loss: 0.1602131724357605 ,Train accuracy: 0.96875\n",
            "Loss: 0.14990705251693726 ,Train accuracy: 0.94921875\n",
            "Loss: 0.14726024866104126 ,Train accuracy: 0.984375\n",
            "Loss: 0.1276320070028305 ,Train accuracy: 0.9921875\n",
            "Loss: 0.11040063947439194 ,Train accuracy: 0.9921875\n",
            "Loss: 0.11909287422895432 ,Train accuracy: 0.984375\n",
            "Loss: 0.08504533022642136 ,Train accuracy: 1.0\n",
            "Loss: 0.09405777603387833 ,Train accuracy: 0.9921875\n",
            "Loss: 0.10472416877746582 ,Train accuracy: 0.984375\n",
            "Loss: 0.08355476707220078 ,Train accuracy: 0.9921875\n",
            "Loss: 0.08405520766973495 ,Train accuracy: 0.9765625\n",
            "Loss: 0.07656562328338623 ,Train accuracy: 0.9921875\n",
            "Loss: 0.0777495875954628 ,Train accuracy: 0.9921875\n",
            "Loss: 0.06798997521400452 ,Train accuracy: 1.0\n",
            "Loss: 0.07080709934234619 ,Train accuracy: 0.9921875\n",
            "Loss: 0.04464304447174072 ,Train accuracy: 1.0\n",
            "Loss: 0.05631266161799431 ,Train accuracy: 1.0\n",
            "Loss: 0.06722329556941986 ,Train accuracy: 0.9921875\n",
            "Loss: 0.05176397040486336 ,Train accuracy: 0.99609375\n",
            "Loss: 0.04465522617101669 ,Train accuracy: 1.0\n",
            "Loss: 0.04491019248962402 ,Train accuracy: 1.0\n",
            "Loss: 0.04602176696062088 ,Train accuracy: 0.9921875\n",
            "Loss: 0.03924386948347092 ,Train accuracy: 1.0\n",
            "Loss: 0.04975317418575287 ,Train accuracy: 0.9921875\n",
            "Loss: 0.029162803664803505 ,Train accuracy: 1.0\n",
            "Loss: 0.039223428815603256 ,Train accuracy: 1.0\n",
            "Loss: 0.04460207372903824 ,Train accuracy: 0.9921875\n",
            "Loss: 0.03210707753896713 ,Train accuracy: 1.0\n",
            "Loss: 0.02660386450588703 ,Train accuracy: 1.0\n",
            "Loss: 0.03131363168358803 ,Train accuracy: 1.0\n",
            "Loss: 0.03449302539229393 ,Train accuracy: 1.0\n",
            "Loss: 0.02684938535094261 ,Train accuracy: 1.0\n",
            "Loss: 0.03283769637346268 ,Train accuracy: 0.9921875\n",
            "Loss: 0.019027508795261383 ,Train accuracy: 1.0\n",
            "Loss: 0.02371983975172043 ,Train accuracy: 1.0\n",
            "Loss: 0.028544940054416656 ,Train accuracy: 1.0\n",
            "Loss: 0.01932607963681221 ,Train accuracy: 1.0\n",
            "Loss: 0.019622333347797394 ,Train accuracy: 1.0\n",
            "Loss: 0.024175060912966728 ,Train accuracy: 1.0\n",
            "Loss: 0.02246253378689289 ,Train accuracy: 1.0\n",
            "Loss: 0.017739277333021164 ,Train accuracy: 1.0\n",
            "Loss: 0.021381720900535583 ,Train accuracy: 0.9921875\n",
            "Loss: 0.013453459367156029 ,Train accuracy: 1.0\n",
            "Loss: 0.017901312559843063 ,Train accuracy: 1.0\n",
            "Loss: 0.01908905990421772 ,Train accuracy: 1.0\n",
            "Loss: 0.014432640746235847 ,Train accuracy: 1.0\n",
            "Loss: 0.014145532622933388 ,Train accuracy: 1.0\n",
            "Loss: 0.017430029809474945 ,Train accuracy: 1.0\n",
            "Loss: 0.015991782769560814 ,Train accuracy: 1.0\n",
            "Loss: 0.01346990279853344 ,Train accuracy: 1.0\n",
            "Loss: 0.014497078955173492 ,Train accuracy: 1.0\n",
            "Loss: 0.009991621598601341 ,Train accuracy: 1.0\n",
            "Loss: 0.013040078803896904 ,Train accuracy: 1.0\n",
            "Loss: 0.01395696122199297 ,Train accuracy: 1.0\n",
            "Loss: 0.009799869731068611 ,Train accuracy: 1.0\n",
            "Loss: 0.010274562984704971 ,Train accuracy: 1.0\n",
            "Loss: 0.009934164583683014 ,Train accuracy: 1.0\n",
            "Loss: 0.011276526376605034 ,Train accuracy: 1.0\n",
            "Loss: 0.009644091129302979 ,Train accuracy: 1.0\n",
            "Loss: 0.010917749255895615 ,Train accuracy: 1.0\n",
            "Loss: 0.0074402568861842155 ,Train accuracy: 1.0\n",
            "Loss: 0.009404436685144901 ,Train accuracy: 1.0\n",
            "Loss: 0.010420645587146282 ,Train accuracy: 1.0\n",
            "Loss: 0.007571257650852203 ,Train accuracy: 1.0\n",
            "Loss: 0.00756825739517808 ,Train accuracy: 1.0\n",
            "Loss: 0.007584961596876383 ,Train accuracy: 1.0\n",
            "Loss: 0.008755534887313843 ,Train accuracy: 1.0\n",
            "Loss: 0.007679395377635956 ,Train accuracy: 1.0\n",
            "Loss: 0.008824031800031662 ,Train accuracy: 1.0\n",
            "Loss: 0.006082912441343069 ,Train accuracy: 1.0\n",
            "Loss: 0.006920464802533388 ,Train accuracy: 1.0\n",
            "Loss: 0.008037650026381016 ,Train accuracy: 1.0\n",
            "Loss: 0.005948526319116354 ,Train accuracy: 1.0\n",
            "Loss: 0.006115440279245377 ,Train accuracy: 1.0\n",
            "Loss: 0.006276820786297321 ,Train accuracy: 1.0\n",
            "Loss: 0.006735336966812611 ,Train accuracy: 1.0\n",
            "Loss: 0.005997328087687492 ,Train accuracy: 1.0\n",
            "Loss: 0.007182057481259108 ,Train accuracy: 1.0\n",
            "Loss: 0.005004946608096361 ,Train accuracy: 1.0\n",
            "Loss: 0.005243794992566109 ,Train accuracy: 1.0\n",
            "Loss: 0.006850250530987978 ,Train accuracy: 1.0\n",
            "Loss: 0.004924974404275417 ,Train accuracy: 1.0\n",
            "Loss: 0.004766573663800955 ,Train accuracy: 1.0\n",
            "Loss: 0.005075397435575724 ,Train accuracy: 1.0\n",
            "Loss: 0.00547294644638896 ,Train accuracy: 1.0\n",
            "Loss: 0.00488674221560359 ,Train accuracy: 1.0\n",
            "Loss: 0.005931091494858265 ,Train accuracy: 1.0\n",
            "Loss: 0.00409833574667573 ,Train accuracy: 1.0\n",
            "Loss: 0.004369385540485382 ,Train accuracy: 1.0\n",
            "Loss: 0.00557240005582571 ,Train accuracy: 1.0\n",
            "Loss: 0.00417975103482604 ,Train accuracy: 1.0\n",
            "Loss: 0.003955774940550327 ,Train accuracy: 1.0\n",
            "Loss: 0.004232044331729412 ,Train accuracy: 1.0\n",
            "Loss: 0.004532500170171261 ,Train accuracy: 1.0\n",
            "Loss: 0.0040741185657680035 ,Train accuracy: 1.0\n",
            "Loss: 0.005043036304414272 ,Train accuracy: 1.0\n",
            "Loss: 0.003375223372131586 ,Train accuracy: 1.0\n",
            "Loss: 0.0036437390372157097 ,Train accuracy: 1.0\n",
            "Loss: 0.00450019259005785 ,Train accuracy: 1.0\n",
            "Loss: 0.0035510906018316746 ,Train accuracy: 1.0\n",
            "Loss: 0.003293619491159916 ,Train accuracy: 1.0\n",
            "Loss: 0.00357248866930604 ,Train accuracy: 1.0\n",
            "Loss: 0.003813273971900344 ,Train accuracy: 1.0\n",
            "Loss: 0.003453027456998825 ,Train accuracy: 1.0\n",
            "Loss: 0.00440911203622818 ,Train accuracy: 1.0\n",
            "Loss: 0.0028320327401161194 ,Train accuracy: 1.0\n",
            "Loss: 0.003106584306806326 ,Train accuracy: 1.0\n",
            "Loss: 0.0037446487694978714 ,Train accuracy: 1.0\n",
            "Loss: 0.0030280756764113903 ,Train accuracy: 1.0\n",
            "Loss: 0.002800465328618884 ,Train accuracy: 1.0\n",
            "Loss: 0.0030287555418908596 ,Train accuracy: 1.0\n",
            "Loss: 0.003254308830946684 ,Train accuracy: 1.0\n",
            "Loss: 0.0029495093040168285 ,Train accuracy: 1.0\n",
            "Loss: 0.003779554506763816 ,Train accuracy: 1.0\n",
            "Loss: 0.0024135757703334093 ,Train accuracy: 1.0\n",
            "Loss: 0.00266769016161561 ,Train accuracy: 1.0\n",
            "Loss: 0.0031643109396100044 ,Train accuracy: 1.0\n",
            "Loss: 0.002585765440016985 ,Train accuracy: 1.0\n",
            "Loss: 0.0024066930636763573 ,Train accuracy: 1.0\n",
            "Loss: 0.002594634657725692 ,Train accuracy: 1.0\n",
            "Loss: 0.002808674704283476 ,Train accuracy: 1.0\n",
            "Loss: 0.0025376540143042803 ,Train accuracy: 1.0\n",
            "Loss: 0.003059591632336378 ,Train accuracy: 1.0\n",
            "Loss: 0.0020775601733475924 ,Train accuracy: 1.0\n",
            "Loss: 0.002304574940353632 ,Train accuracy: 1.0\n",
            "Loss: 0.002700208220630884 ,Train accuracy: 1.0\n",
            "Loss: 0.002209319733083248 ,Train accuracy: 1.0\n",
            "Loss: 0.0020814575254917145 ,Train accuracy: 1.0\n",
            "Loss: 0.0022436322178691626 ,Train accuracy: 1.0\n",
            "Loss: 0.002437128219753504 ,Train accuracy: 1.0\n",
            "Loss: 0.002193354768678546 ,Train accuracy: 1.0\n",
            "Loss: 0.0023954357020556927 ,Train accuracy: 1.0\n",
            "Loss: 0.0017976630479097366 ,Train accuracy: 1.0\n",
            "Loss: 0.0020023109391331673 ,Train accuracy: 1.0\n",
            "Loss: 0.0023291734978556633 ,Train accuracy: 1.0\n",
            "Loss: 0.0018993219127878547 ,Train accuracy: 1.0\n",
            "Loss: 0.0018103329930454493 ,Train accuracy: 1.0\n",
            "Loss: 0.0019513643346726894 ,Train accuracy: 1.0\n",
            "Loss: 0.00212043896317482 ,Train accuracy: 1.0\n",
            "Loss: 0.0019053936703130603 ,Train accuracy: 1.0\n",
            "Loss: 0.002062071580439806 ,Train accuracy: 1.0\n",
            "Loss: 0.0015695428010076284 ,Train accuracy: 1.0\n",
            "Loss: 0.0017483343835920095 ,Train accuracy: 1.0\n",
            "Loss: 0.0020254163537174463 ,Train accuracy: 1.0\n",
            "Loss: 0.0016423809574916959 ,Train accuracy: 1.0\n",
            "Loss: 0.0015801968984305859 ,Train accuracy: 1.0\n",
            "Loss: 0.0017073660856112838 ,Train accuracy: 1.0\n",
            "Loss: 0.0018510868540033698 ,Train accuracy: 1.0\n",
            "Loss: 0.0016604237025603652 ,Train accuracy: 1.0\n",
            "Loss: 0.0018062915187329054 ,Train accuracy: 1.0\n",
            "Loss: 0.0013768026838079095 ,Train accuracy: 1.0\n",
            "Loss: 0.001533888978883624 ,Train accuracy: 1.0\n",
            "Loss: 0.0017684240592643619 ,Train accuracy: 1.0\n",
            "Loss: 0.0014309508260339499 ,Train accuracy: 1.0\n",
            "Loss: 0.0013858610764145851 ,Train accuracy: 1.0\n",
            "Loss: 0.0015012604417279363 ,Train accuracy: 1.0\n",
            "Loss: 0.0016229404136538506 ,Train accuracy: 1.0\n",
            "Loss: 0.001453154836781323 ,Train accuracy: 1.0\n",
            "Loss: 0.0015911813825368881 ,Train accuracy: 1.0\n",
            "Loss: 0.0012121277395635843 ,Train accuracy: 1.0\n",
            "Loss: 0.00135059654712677 ,Train accuracy: 1.0\n",
            "Loss: 0.0015520001761615276 ,Train accuracy: 1.0\n",
            "Loss: 0.0012539728777483106 ,Train accuracy: 1.0\n",
            "Loss: 0.0012201552744954824 ,Train accuracy: 1.0\n",
            "Loss: 0.001327351201325655 ,Train accuracy: 1.0\n",
            "Loss: 0.0014273578999564052 ,Train accuracy: 1.0\n",
            "Loss: 0.001276256749406457 ,Train accuracy: 1.0\n",
            "Loss: 0.0013963140081614256 ,Train accuracy: 1.0\n",
            "Loss: 0.001070334343239665 ,Train accuracy: 1.0\n",
            "Loss: 0.001193705014884472 ,Train accuracy: 1.0\n",
            "Loss: 0.0013676711823791265 ,Train accuracy: 1.0\n",
            "Loss: 0.0011040857061743736 ,Train accuracy: 1.0\n",
            "Loss: 0.0010782098397612572 ,Train accuracy: 1.0\n",
            "Loss: 0.0011793849989771843 ,Train accuracy: 1.0\n",
            "Loss: 0.0012577513698488474 ,Train accuracy: 1.0\n",
            "Loss: 0.0011241177562624216 ,Train accuracy: 1.0\n",
            "Loss: 0.001213874900713563 ,Train accuracy: 1.0\n",
            "Loss: 0.0009473446989431977 ,Train accuracy: 1.0\n",
            "Loss: 0.0010573496110737324 ,Train accuracy: 1.0\n",
            "Loss: 0.0012083039619028568 ,Train accuracy: 1.0\n",
            "Loss: 0.0009761248948052526 ,Train accuracy: 1.0\n",
            "Loss: 0.0009561232291162014 ,Train accuracy: 1.0\n",
            "Loss: 0.0010494934394955635 ,Train accuracy: 1.0\n",
            "Loss: 0.0011126763420179486 ,Train accuracy: 1.0\n",
            "Loss: 0.0009924955666065216 ,Train accuracy: 1.0\n",
            "Loss: 0.0010551030281931162 ,Train accuracy: 1.0\n",
            "Loss: 0.0008400048827752471 ,Train accuracy: 1.0\n",
            "Loss: 0.0009390975465066731 ,Train accuracy: 1.0\n",
            "Loss: 0.001070697559043765 ,Train accuracy: 1.0\n",
            "Loss: 0.0008660174207761884 ,Train accuracy: 1.0\n",
            "Loss: 0.0008501519914716482 ,Train accuracy: 1.0\n",
            "Loss: 0.0009350904729217291 ,Train accuracy: 1.0\n",
            "Loss: 0.0009879046119749546 ,Train accuracy: 1.0\n",
            "Loss: 0.0008783841039985418 ,Train accuracy: 1.0\n",
            "Loss: 0.0009330552420578897 ,Train accuracy: 1.0\n",
            "Loss: 0.0007468810654245317 ,Train accuracy: 1.0\n",
            "Loss: 0.0008357667829841375 ,Train accuracy: 1.0\n",
            "Loss: 0.0009511979878880084 ,Train accuracy: 1.0\n",
            "Loss: 0.0007703889859840274 ,Train accuracy: 1.0\n",
            "Loss: 0.0007576480857096612 ,Train accuracy: 1.0\n",
            "Loss: 0.0008342590881511569 ,Train accuracy: 1.0\n",
            "Loss: 0.000879839644767344 ,Train accuracy: 1.0\n",
            "Loss: 0.0007794731063768268 ,Train accuracy: 1.0\n",
            "Loss: 0.0008341382490471005 ,Train accuracy: 1.0\n",
            "Loss: 0.0006658786442130804 ,Train accuracy: 1.0\n",
            "Loss: 0.0007451499113813043 ,Train accuracy: 1.0\n",
            "Loss: 0.000846787472255528 ,Train accuracy: 1.0\n",
            "Loss: 0.0006868526106700301 ,Train accuracy: 1.0\n",
            "Loss: 0.0006765714497305453 ,Train accuracy: 1.0\n",
            "Loss: 0.0007454562000930309 ,Train accuracy: 1.0\n",
            "Loss: 0.0007861822959966958 ,Train accuracy: 1.0\n",
            "Loss: 0.0006934747798368335 ,Train accuracy: 1.0\n",
            "Loss: 0.0007478502229787409 ,Train accuracy: 1.0\n",
            "Loss: 0.0005948360194452107 ,Train accuracy: 1.0\n",
            "Loss: 0.000665677769575268 ,Train accuracy: 1.0\n",
            "Loss: 0.0007550452137365937 ,Train accuracy: 1.0\n",
            "Loss: 0.0006136844167485833 ,Train accuracy: 1.0\n",
            "Loss: 0.0006053539691492915 ,Train accuracy: 1.0\n",
            "Loss: 0.0006671249866485596 ,Train accuracy: 1.0\n",
            "Loss: 0.0007042912184260786 ,Train accuracy: 1.0\n",
            "Loss: 0.000618392659816891 ,Train accuracy: 1.0\n",
            "Loss: 0.0006707991124130785 ,Train accuracy: 1.0\n",
            "Loss: 0.0005320023046806455 ,Train accuracy: 1.0\n",
            "Loss: 0.0005958323599770665 ,Train accuracy: 1.0\n",
            "Loss: 0.0006741749821230769 ,Train accuracy: 1.0\n",
            "Loss: 0.0005493901553563774 ,Train accuracy: 1.0\n",
            "Loss: 0.0005426318384706974 ,Train accuracy: 1.0\n",
            "Loss: 0.0005978142144158483 ,Train accuracy: 1.0\n",
            "Loss: 0.0006318435771390796 ,Train accuracy: 1.0\n",
            "Loss: 0.0005527266184799373 ,Train accuracy: 1.0\n",
            "Loss: 0.0006016327533870935 ,Train accuracy: 1.0\n",
            "Loss: 0.00047640595585107803 ,Train accuracy: 1.0\n",
            "Loss: 0.000534170656464994 ,Train accuracy: 1.0\n",
            "Loss: 0.0006026843329891562 ,Train accuracy: 1.0\n",
            "Loss: 0.0004927110858261585 ,Train accuracy: 1.0\n",
            "Loss: 0.00048716686433181167 ,Train accuracy: 1.0\n",
            "Loss: 0.0005363888340070844 ,Train accuracy: 1.0\n",
            "Loss: 0.0005672042607329786 ,Train accuracy: 1.0\n",
            "Loss: 0.0004953286261297762 ,Train accuracy: 1.0\n",
            "Loss: 0.0005400213412940502 ,Train accuracy: 1.0\n",
            "Loss: 0.00042727880645543337 ,Train accuracy: 1.0\n",
            "Loss: 0.00047950836597010493 ,Train accuracy: 1.0\n",
            "Loss: 0.0005393075989559293 ,Train accuracy: 1.0\n",
            "Loss: 0.00044259551214054227 ,Train accuracy: 1.0\n",
            "Loss: 0.00043787015601992607 ,Train accuracy: 1.0\n",
            "Loss: 0.0004820235481020063 ,Train accuracy: 1.0\n",
            "Loss: 0.0005089995684102178 ,Train accuracy: 1.0\n",
            "Loss: 0.00044492987217381597 ,Train accuracy: 1.0\n",
            "Loss: 0.000485887547256425 ,Train accuracy: 1.0\n",
            "Loss: 0.0003838001284748316 ,Train accuracy: 1.0\n",
            "Loss: 0.0004309161158744246 ,Train accuracy: 1.0\n",
            "Loss: 0.00048304026131518185 ,Train accuracy: 1.0\n",
            "Loss: 0.00039818757795728743 ,Train accuracy: 1.0\n",
            "Loss: 0.0003938256995752454 ,Train accuracy: 1.0\n",
            "Loss: 0.00043373621883802116 ,Train accuracy: 1.0\n",
            "Loss: 0.00045630824752151966 ,Train accuracy: 1.0\n",
            "Loss: 0.00040032179094851017 ,Train accuracy: 1.0\n",
            "Loss: 0.0004388017114251852 ,Train accuracy: 1.0\n",
            "Loss: 0.00034520580084063113 ,Train accuracy: 1.0\n",
            "Loss: 0.0003875891852658242 ,Train accuracy: 1.0\n",
            "Loss: 0.0004330128722358495 ,Train accuracy: 1.0\n",
            "Loss: 0.00035870171268470585 ,Train accuracy: 1.0\n",
            "Loss: 0.0003543291240930557 ,Train accuracy: 1.0\n",
            "Loss: 0.00039073702646419406 ,Train accuracy: 1.0\n",
            "Loss: 0.00040907348738983274 ,Train accuracy: 1.0\n",
            "Loss: 0.00036070222267881036 ,Train accuracy: 1.0\n",
            "Loss: 0.0003975146682932973 ,Train accuracy: 1.0\n",
            "Loss: 0.00031083132489584386 ,Train accuracy: 1.0\n",
            "Loss: 0.0003488719812594354 ,Train accuracy: 1.0\n",
            "Loss: 0.00038861215580254793 ,Train accuracy: 1.0\n",
            "Loss: 0.0003234444884583354 ,Train accuracy: 1.0\n",
            "Loss: 0.00031891578692011535 ,Train accuracy: 1.0\n",
            "Loss: 0.0003523969207890332 ,Train accuracy: 1.0\n",
            "Loss: 0.00036743131931871176 ,Train accuracy: 1.0\n",
            "Loss: 0.00032528460724279284 ,Train accuracy: 1.0\n",
            "Loss: 0.0003608266997616738 ,Train accuracy: 1.0\n",
            "Loss: 0.0002801011432893574 ,Train accuracy: 1.0\n",
            "Loss: 0.0003142436617054045 ,Train accuracy: 1.0\n",
            "Loss: 0.0003492684045340866 ,Train accuracy: 1.0\n",
            "Loss: 0.0002918235841207206 ,Train accuracy: 1.0\n",
            "Loss: 0.0002871839387807995 ,Train accuracy: 1.0\n",
            "Loss: 0.00031809075153432786 ,Train accuracy: 1.0\n",
            "Loss: 0.00033118054852820933 ,Train accuracy: 1.0\n",
            "Loss: 0.00029332388658076525 ,Train accuracy: 1.0\n",
            "Loss: 0.00032795482547953725 ,Train accuracy: 1.0\n",
            "Loss: 0.0002525377203710377 ,Train accuracy: 1.0\n",
            "Loss: 0.0002833486068993807 ,Train accuracy: 1.0\n",
            "Loss: 0.00031434145057573915 ,Train accuracy: 1.0\n",
            "Loss: 0.0002633637632243335 ,Train accuracy: 1.0\n",
            "Loss: 0.0002588024362921715 ,Train accuracy: 1.0\n",
            "Loss: 0.0002872939803637564 ,Train accuracy: 1.0\n",
            "Loss: 0.0002992372610606253 ,Train accuracy: 1.0\n",
            "Loss: 0.0002643035550136119 ,Train accuracy: 1.0\n",
            "Loss: 0.0002984816674143076 ,Train accuracy: 1.0\n",
            "Loss: 0.00022785851615481079 ,Train accuracy: 1.0\n",
            "Loss: 0.0002558262785896659 ,Train accuracy: 1.0\n",
            "Loss: 0.000283150642644614 ,Train accuracy: 1.0\n",
            "Loss: 0.00023803535441402346 ,Train accuracy: 1.0\n",
            "Loss: 0.00023385556414723396 ,Train accuracy: 1.0\n",
            "Loss: 0.00025971548166126013 ,Train accuracy: 1.0\n",
            "Loss: 0.0002705198130570352 ,Train accuracy: 1.0\n",
            "Loss: 0.00023815235181245953 ,Train accuracy: 1.0\n",
            "Loss: 0.0002721016062423587 ,Train accuracy: 1.0\n",
            "Loss: 0.00020583825244102627 ,Train accuracy: 1.0\n",
            "Loss: 0.00023102384875528514 ,Train accuracy: 1.0\n",
            "Loss: 0.00025514248409308493 ,Train accuracy: 1.0\n",
            "Loss: 0.00021543828188441694 ,Train accuracy: 1.0\n",
            "Loss: 0.00021117134019732475 ,Train accuracy: 1.0\n",
            "Loss: 0.0002349041315028444 ,Train accuracy: 1.0\n",
            "Loss: 0.00024484278401359916 ,Train accuracy: 1.0\n",
            "Loss: 0.00021499163995031267 ,Train accuracy: 1.0\n",
            "Loss: 0.0002483408898115158 ,Train accuracy: 1.0\n",
            "Loss: 0.00018602414638735354 ,Train accuracy: 1.0\n",
            "Loss: 0.00020890285668428987 ,Train accuracy: 1.0\n",
            "Loss: 0.00023017401690594852 ,Train accuracy: 1.0\n",
            "Loss: 0.00019520217028912157 ,Train accuracy: 1.0\n",
            "Loss: 0.00019078297191299498 ,Train accuracy: 1.0\n",
            "Loss: 0.00021263724192976952 ,Train accuracy: 1.0\n",
            "Loss: 0.00022186418937053531 ,Train accuracy: 1.0\n",
            "Loss: 0.00019457697635516524 ,Train accuracy: 1.0\n",
            "Loss: 0.00022689629986416548 ,Train accuracy: 1.0\n",
            "Loss: 0.00016823169426061213 ,Train accuracy: 1.0\n",
            "Loss: 0.00018909497885033488 ,Train accuracy: 1.0\n",
            "Loss: 0.00020783334912266582 ,Train accuracy: 1.0\n",
            "Loss: 0.00017704605124890804 ,Train accuracy: 1.0\n",
            "Loss: 0.00017258423031307757 ,Train accuracy: 1.0\n",
            "Loss: 0.00019262396381236613 ,Train accuracy: 1.0\n",
            "Loss: 0.00020119012333452702 ,Train accuracy: 1.0\n",
            "Loss: 0.00017640815349295735 ,Train accuracy: 1.0\n",
            "Loss: 0.0002074294025078416 ,Train accuracy: 1.0\n",
            "Loss: 0.00015229340351652354 ,Train accuracy: 1.0\n",
            "Loss: 0.00017122839926742017 ,Train accuracy: 1.0\n",
            "Loss: 0.00018754509801510721 ,Train accuracy: 1.0\n",
            "Loss: 0.00016065608360804617 ,Train accuracy: 1.0\n",
            "Loss: 0.0001563786354381591 ,Train accuracy: 1.0\n",
            "Loss: 0.00017452200700063258 ,Train accuracy: 1.0\n",
            "Loss: 0.00018235191237181425 ,Train accuracy: 1.0\n",
            "Loss: 0.00016013599815778434 ,Train accuracy: 1.0\n",
            "Loss: 0.00018973216356243938 ,Train accuracy: 1.0\n",
            "Loss: 0.00013785531336907297 ,Train accuracy: 1.0\n",
            "Loss: 0.0001551165769342333 ,Train accuracy: 1.0\n",
            "Loss: 0.00016938537009991705 ,Train accuracy: 1.0\n",
            "Loss: 0.00014587899204343557 ,Train accuracy: 1.0\n",
            "Loss: 0.00014192229718901217 ,Train accuracy: 1.0\n",
            "Loss: 0.00015814622747711837 ,Train accuracy: 1.0\n",
            "Loss: 0.00016514354501850903 ,Train accuracy: 1.0\n",
            "Loss: 0.00014552162610925734 ,Train accuracy: 1.0\n",
            "Loss: 0.0001735157275106758 ,Train accuracy: 1.0\n",
            "Loss: 0.0001248235785169527 ,Train accuracy: 1.0\n",
            "Loss: 0.00014056598593015224 ,Train accuracy: 1.0\n",
            "Loss: 0.0001532730966573581 ,Train accuracy: 1.0\n",
            "Loss: 0.00013250584015622735 ,Train accuracy: 1.0\n",
            "Loss: 0.00012894791143480688 ,Train accuracy: 1.0\n",
            "Loss: 0.00014332009595818818 ,Train accuracy: 1.0\n",
            "Loss: 0.00014955592632759362 ,Train accuracy: 1.0\n",
            "Loss: 0.0001322879979852587 ,Train accuracy: 1.0\n",
            "Loss: 0.00015870193601585925 ,Train accuracy: 1.0\n",
            "Loss: 0.00011316248128423467 ,Train accuracy: 1.0\n",
            "Loss: 0.0001275152899324894 ,Train accuracy: 1.0\n",
            "Loss: 0.00013883094652555883 ,Train accuracy: 1.0\n",
            "Loss: 0.00012040154979331419 ,Train accuracy: 1.0\n",
            "Loss: 0.00011724683281499892 ,Train accuracy: 1.0\n",
            "Loss: 0.00012993025302421302 ,Train accuracy: 1.0\n",
            "Loss: 0.00013559691433329135 ,Train accuracy: 1.0\n",
            "Loss: 0.00012025592877762392 ,Train accuracy: 1.0\n",
            "Loss: 0.00014513422502204776 ,Train accuracy: 1.0\n",
            "Loss: 0.00010266967001371086 ,Train accuracy: 1.0\n",
            "Loss: 0.00011574914969969541 ,Train accuracy: 1.0\n",
            "Loss: 0.0001259044511243701 ,Train accuracy: 1.0\n",
            "Loss: 0.00010944785026367754 ,Train accuracy: 1.0\n",
            "Loss: 0.00010658882092684507 ,Train accuracy: 1.0\n",
            "Loss: 0.00011779752094298601 ,Train accuracy: 1.0\n",
            "Loss: 0.00012304866686463356 ,Train accuracy: 1.0\n",
            "Loss: 0.00010928801930276677 ,Train accuracy: 1.0\n",
            "Loss: 0.00013271530042402446 ,Train accuracy: 1.0\n",
            "Loss: 9.320276149082929e-05 ,Train accuracy: 1.0\n",
            "Loss: 0.0001051104482030496 ,Train accuracy: 1.0\n",
            "Loss: 0.00011428957805037498 ,Train accuracy: 1.0\n",
            "Loss: 9.94912552414462e-05 ,Train accuracy: 1.0\n",
            "Loss: 9.680442599346861e-05 ,Train accuracy: 1.0\n",
            "Loss: 0.00010682697757147253 ,Train accuracy: 1.0\n",
            "Loss: 0.0001117606952902861 ,Train accuracy: 1.0\n",
            "Loss: 9.926203347276896e-05 ,Train accuracy: 1.0\n",
            "Loss: 0.00012123602209612727 ,Train accuracy: 1.0\n",
            "Loss: 8.464457641821355e-05 ,Train accuracy: 1.0\n",
            "Loss: 9.54401766648516e-05 ,Train accuracy: 1.0\n",
            "Loss: 0.0001037939073285088 ,Train accuracy: 1.0\n",
            "Loss: 9.041557495947927e-05 ,Train accuracy: 1.0\n",
            "Loss: 8.799924398772418e-05 ,Train accuracy: 1.0\n",
            "Loss: 9.692234016256407e-05 ,Train accuracy: 1.0\n",
            "Loss: 0.0001016636670101434 ,Train accuracy: 1.0\n",
            "Loss: 9.024946484714746e-05 ,Train accuracy: 1.0\n",
            "Loss: 0.00011042536061722785 ,Train accuracy: 1.0\n",
            "Loss: 7.687602192163467e-05 ,Train accuracy: 1.0\n",
            "Loss: 8.673231059219688e-05 ,Train accuracy: 1.0\n",
            "Loss: 9.43643826758489e-05 ,Train accuracy: 1.0\n",
            "Loss: 8.220231393352151e-05 ,Train accuracy: 1.0\n",
            "Loss: 7.998204819159582e-05 ,Train accuracy: 1.0\n",
            "Loss: 8.787726983428001e-05 ,Train accuracy: 1.0\n",
            "Loss: 9.24963824218139e-05 ,Train accuracy: 1.0\n",
            "Loss: 8.205086487578228e-05 ,Train accuracy: 1.0\n",
            "Loss: 0.00010015761654358357 ,Train accuracy: 1.0\n",
            "Loss: 6.985836807871237e-05 ,Train accuracy: 1.0\n",
            "Loss: 7.873668801039457e-05 ,Train accuracy: 1.0\n",
            "Loss: 8.580152643844485e-05 ,Train accuracy: 1.0\n"
          ]
        }
      ]
    },
    {
      "cell_type": "code",
      "source": [
        "test(FCNN, criterion_FCNN, test_dataloader)"
      ],
      "metadata": {
        "colab": {
          "base_uri": "https://localhost:8080/"
        },
        "id": "B3n_xRaZrrwa",
        "outputId": "99c744c2-69e2-41f2-af7a-33c3b28339e5"
      },
      "execution_count": 113,
      "outputs": [
        {
          "output_type": "stream",
          "name": "stdout",
          "text": [
            "Loss: 0.10503491759300232 ,Test accuracy: 0.9609375\n",
            "Loss: 0.3403957784175873 ,Test accuracy: 0.9296875\n"
          ]
        }
      ]
    },
    {
      "cell_type": "markdown",
      "source": [
        "Saving the trained weights"
      ],
      "metadata": {
        "id": "8j8UUsWIq4tq"
      }
    },
    {
      "cell_type": "code",
      "source": [
        "torch.save(FCNN.state_dict(), 'NeuralNetwork_weights_anti64.pth')"
      ],
      "metadata": {
        "id": "s7A28z4Cjrip"
      },
      "execution_count": null,
      "outputs": []
    },
    {
      "cell_type": "markdown",
      "source": [
        "Loading the trained weights"
      ],
      "metadata": {
        "id": "wCTl8j7YrBcw"
      }
    },
    {
      "cell_type": "code",
      "source": [
        "FCNN.load_state_dict(torch.load('model_weights.pth'))"
      ],
      "metadata": {
        "id": "p0d8eIZdtcjZ"
      },
      "execution_count": null,
      "outputs": []
    },
    {
      "cell_type": "markdown",
      "source": [
        "#### CNN"
      ],
      "metadata": {
        "id": "ahyH_oUYpvUa"
      }
    },
    {
      "cell_type": "code",
      "source": [
        "# model = Sequential([\n",
        "#           layers.Reshape(target_shape=(40,40,1), input_shape=(40,40)),\n",
        "#           layers.Conv2D(128, (3,3), padding='valid', activation='relu'),\n",
        "#           layers.Flatten(),\n",
        "#           layers.Dense(128, activation='relu'),\n",
        "#           layers.Dropout(.5),\n",
        "#           layers.Dense(2, activation='softmax')\n",
        "#         ])\n",
        "import torch.nn.functional as F\n",
        "\n",
        "class ConvNet(nn.Module):\n",
        "    def __init__(self, Nx, Ny):\n",
        "        super(ConvNet, self).__init__()\n",
        "        # Equivalent to Reshape in Keras, but in PyTorch, reshaping is typically done in the forward method.\n",
        "        # Conv2D layer with 128 filters, kernel size of 3x3, padding='valid' implies no padding in PyTorch\n",
        "        self.conv1 = nn.Conv2d(1, 128, kernel_size=3, padding=0)\n",
        "        # Determine the output size of the first convolutional layer\n",
        "        out_conv1 = self._calculate_output_size((Nx, Ny), kernel_size=3, padding=0)\n",
        "        # Dense layer with 128 units\n",
        "        self.fc1 = nn.Linear(128 * out_conv1[0] * out_conv1[1], 128)\n",
        "        # Dropout layer with p=0.5\n",
        "        self.dropout = nn.Dropout(p=0.5)\n",
        "        # Output Dense layer with 2 units for softmax output\n",
        "        self.fc2 = nn.Linear(128, 2)\n",
        "        self.flatten = nn.Flatten()\n",
        "\n",
        "    def forward(self, x):\n",
        "        # Reshape input to have one channel\n",
        "        x = x.view(-1, 1, x.size(1), x.size(2))\n",
        "        # Applying Convolutional Layer\n",
        "        x = F.relu(self.conv1(x))\n",
        "        # Flattening the output of the conv layer\n",
        "        x = self.flatten(x)     # ------------------\n",
        "        # Dense layer with ReLU activation\n",
        "        x = F.relu(self.fc1(x))\n",
        "        # Dropout layer\n",
        "        x = self.dropout(x)\n",
        "        # Output layer with softmax activation\n",
        "        x = self.fc2(x)\n",
        "        return F.softmax(x, dim=1)\n",
        "\n",
        "    def _calculate_output_size(self, input_size, kernel_size, padding):\n",
        "        # Calculate output size after convolutional layer\n",
        "        out_size = [(input_size[0] - kernel_size + 2 * padding) + 1,\n",
        "                    (input_size[1] - kernel_size + 2 * padding) + 1]\n",
        "        return out_size\n"
      ],
      "metadata": {
        "id": "4eyt1PidREIM"
      },
      "execution_count": 117,
      "outputs": []
    },
    {
      "cell_type": "code",
      "source": [
        "# model.compile(optimizer='adam',\n",
        "#               loss='binary_crossentropy',\n",
        "#               metrics=['binary_accuracy'])\n",
        "CNN = ConvNet(Nx, Ny).to(device)\n",
        "criterion_CNN = nn.BCELoss()\n",
        "optimizer_CNN = optim.Adam(CNN.parameters(), lr=lr, betas=(0.9, 0.999))"
      ],
      "metadata": {
        "id": "qiEhnYvsrOcv"
      },
      "execution_count": 118,
      "outputs": []
    },
    {
      "cell_type": "code",
      "source": [
        "train(CNN, 10, criterion_CNN, optimizer_CNN, train_dataloader)"
      ],
      "metadata": {
        "colab": {
          "base_uri": "https://localhost:8080/"
        },
        "id": "HBQPkd7RsPuA",
        "outputId": "486bbbde-effe-4627-877b-2a561a72dd73"
      },
      "execution_count": 119,
      "outputs": [
        {
          "output_type": "stream",
          "name": "stdout",
          "text": [
            "tensor([[0.4780, 0.5220],\n",
            "        [0.5543, 0.4457],\n",
            "        [0.5361, 0.4639],\n",
            "        [0.5466, 0.4534],\n",
            "        [0.4472, 0.5528],\n",
            "        [0.5058, 0.4942],\n",
            "        [0.5929, 0.4071],\n",
            "        [0.5377, 0.4623],\n",
            "        [0.5004, 0.4996],\n",
            "        [0.5794, 0.4206],\n",
            "        [0.5884, 0.4116],\n",
            "        [0.4986, 0.5014],\n",
            "        [0.5812, 0.4188],\n",
            "        [0.5103, 0.4897],\n",
            "        [0.5502, 0.4498],\n",
            "        [0.5014, 0.4986],\n",
            "        [0.5728, 0.4272],\n",
            "        [0.4188, 0.5812],\n",
            "        [0.5493, 0.4507],\n",
            "        [0.5012, 0.4988],\n",
            "        [0.5858, 0.4142],\n",
            "        [0.5213, 0.4787],\n",
            "        [0.5395, 0.4605],\n",
            "        [0.4668, 0.5332],\n",
            "        [0.5648, 0.4352],\n",
            "        [0.5160, 0.4840],\n",
            "        [0.6187, 0.3813],\n",
            "        [0.5667, 0.4333],\n",
            "        [0.4915, 0.5085],\n",
            "        [0.5721, 0.4279],\n",
            "        [0.6411, 0.3589],\n",
            "        [0.5707, 0.4293],\n",
            "        [0.5912, 0.4088],\n",
            "        [0.5270, 0.4730],\n",
            "        [0.6177, 0.3823],\n",
            "        [0.4824, 0.5176],\n",
            "        [0.5185, 0.4815],\n",
            "        [0.5136, 0.4864],\n",
            "        [0.4748, 0.5252],\n",
            "        [0.5156, 0.4844],\n",
            "        [0.5500, 0.4500],\n",
            "        [0.5041, 0.4959],\n",
            "        [0.4616, 0.5384],\n",
            "        [0.5486, 0.4514],\n",
            "        [0.5316, 0.4684],\n",
            "        [0.4834, 0.5166],\n",
            "        [0.5004, 0.4996],\n",
            "        [0.5464, 0.4536],\n",
            "        [0.5418, 0.4582],\n",
            "        [0.4582, 0.5418],\n",
            "        [0.5672, 0.4328],\n",
            "        [0.4607, 0.5393],\n",
            "        [0.5152, 0.4848],\n",
            "        [0.6012, 0.3988],\n",
            "        [0.5645, 0.4355],\n",
            "        [0.5145, 0.4855],\n",
            "        [0.4748, 0.5252],\n",
            "        [0.5467, 0.4533],\n",
            "        [0.5439, 0.4561],\n",
            "        [0.5505, 0.4495],\n",
            "        [0.5590, 0.4410],\n",
            "        [0.5735, 0.4265],\n",
            "        [0.5191, 0.4809],\n",
            "        [0.5237, 0.4763],\n",
            "        [0.5105, 0.4895],\n",
            "        [0.5136, 0.4864],\n",
            "        [0.5900, 0.4100],\n",
            "        [0.4917, 0.5083],\n",
            "        [0.5612, 0.4388],\n",
            "        [0.5050, 0.4950],\n",
            "        [0.5655, 0.4345],\n",
            "        [0.5754, 0.4246],\n",
            "        [0.5689, 0.4311],\n",
            "        [0.5177, 0.4823],\n",
            "        [0.5768, 0.4232],\n",
            "        [0.5153, 0.4847],\n",
            "        [0.5694, 0.4306],\n",
            "        [0.4756, 0.5244],\n",
            "        [0.5284, 0.4716],\n",
            "        [0.5258, 0.4742],\n",
            "        [0.5465, 0.4535],\n",
            "        [0.5107, 0.4893],\n",
            "        [0.4625, 0.5375],\n",
            "        [0.5797, 0.4203],\n",
            "        [0.5180, 0.4820],\n",
            "        [0.5148, 0.4852],\n",
            "        [0.4974, 0.5026],\n",
            "        [0.5290, 0.4710],\n",
            "        [0.4902, 0.5098],\n",
            "        [0.6396, 0.3604],\n",
            "        [0.5736, 0.4264],\n",
            "        [0.6072, 0.3928],\n",
            "        [0.5287, 0.4713],\n",
            "        [0.5240, 0.4760],\n",
            "        [0.5455, 0.4545],\n",
            "        [0.5577, 0.4423],\n",
            "        [0.4717, 0.5283],\n",
            "        [0.4897, 0.5103],\n",
            "        [0.5219, 0.4781],\n",
            "        [0.4932, 0.5068],\n",
            "        [0.6575, 0.3425],\n",
            "        [0.5652, 0.4348],\n",
            "        [0.5190, 0.4810],\n",
            "        [0.5219, 0.4781],\n",
            "        [0.4753, 0.5247],\n",
            "        [0.5360, 0.4640],\n",
            "        [0.5355, 0.4645],\n",
            "        [0.4878, 0.5122],\n",
            "        [0.5638, 0.4362],\n",
            "        [0.6017, 0.3983],\n",
            "        [0.5165, 0.4835],\n",
            "        [0.4894, 0.5106],\n",
            "        [0.5940, 0.4060],\n",
            "        [0.5449, 0.4551],\n",
            "        [0.5928, 0.4072],\n",
            "        [0.5705, 0.4295],\n",
            "        [0.6087, 0.3913],\n",
            "        [0.5350, 0.4650],\n",
            "        [0.5644, 0.4356],\n",
            "        [0.5315, 0.4685],\n",
            "        [0.5053, 0.4947],\n",
            "        [0.5250, 0.4750],\n",
            "        [0.5017, 0.4983],\n",
            "        [0.5794, 0.4206],\n",
            "        [0.5328, 0.4672],\n",
            "        [0.4130, 0.5870],\n",
            "        [0.5042, 0.4958],\n",
            "        [0.4478, 0.5522]], device='cuda:0', grad_fn=<SoftmaxBackward0>)\n",
            "Loss: 0.6927299499511719 ,Train accuracy: 0.5625\n",
            "Loss: 6.586808204650879 ,Train accuracy: 0.9140625\n",
            "Loss: 5.915210247039795 ,Train accuracy: 0.9296875\n",
            "Loss: 3.858910083770752 ,Train accuracy: 0.953125\n",
            "Loss: 8.48310375213623 ,Train accuracy: 0.90625\n",
            "Loss: 6.132816314697266 ,Train accuracy: 0.9375\n",
            "Loss: 9.863898277282715 ,Train accuracy: 0.8984375\n",
            "Loss: 33.5013542175293 ,Train accuracy: 0.6640625\n",
            "Loss: 21.65397834777832 ,Train accuracy: 0.7734375\n",
            "Loss: 11.325502395629883 ,Train accuracy: 0.875\n",
            "Loss: 13.75579833984375 ,Train accuracy: 0.859375\n",
            "Loss: 12.5 ,Train accuracy: 0.875\n",
            "Loss: 15.65298843383789 ,Train accuracy: 0.8359375\n",
            "Loss: 11.207741737365723 ,Train accuracy: 0.8828125\n",
            "Loss: 7.767677307128906 ,Train accuracy: 0.921875\n",
            "Loss: 24.377113342285156 ,Train accuracy: 0.7421875\n",
            "Loss: 36.13475799560547 ,Train accuracy: 0.6328125\n",
            "Loss: 40.625 ,Train accuracy: 0.59375\n",
            "Loss: 22.998611450195312 ,Train accuracy: 0.765625\n",
            "Loss: 27.897811889648438 ,Train accuracy: 0.71875\n",
            "Loss: 32.81250762939453 ,Train accuracy: 0.671875\n",
            "Loss: 30.46875 ,Train accuracy: 0.6953125\n",
            "Loss: 25.174015045166016 ,Train accuracy: 0.734375\n",
            "Loss: 24.16948699951172 ,Train accuracy: 0.7578125\n",
            "Loss: 17.655868530273438 ,Train accuracy: 0.8203125\n",
            "Loss: 24.04503631591797 ,Train accuracy: 0.7578125\n",
            "Loss: 15.646896362304688 ,Train accuracy: 0.8359375\n",
            "Loss: 19.221481323242188 ,Train accuracy: 0.8046875\n",
            "Loss: 25.78125 ,Train accuracy: 0.7421875\n",
            "Loss: 28.90625 ,Train accuracy: 0.7109375\n",
            "Loss: 31.93714141845703 ,Train accuracy: 0.6796875\n",
            "Loss: 27.34375 ,Train accuracy: 0.7265625\n",
            "Loss: 28.243526458740234 ,Train accuracy: 0.7109375\n",
            "Loss: 22.65625 ,Train accuracy: 0.7734375\n",
            "Loss: 24.21875 ,Train accuracy: 0.7578125\n",
            "Loss: 23.4375 ,Train accuracy: 0.765625\n",
            "Loss: 28.125 ,Train accuracy: 0.71875\n",
            "Loss: 27.34375 ,Train accuracy: 0.7265625\n",
            "Loss: 25.78125 ,Train accuracy: 0.7421875\n",
            "Loss: 21.011245727539062 ,Train accuracy: 0.7890625\n",
            "Loss: 23.95215606689453 ,Train accuracy: 0.7578125\n",
            "Loss: 21.681854248046875 ,Train accuracy: 0.78125\n",
            "Loss: 27.34375 ,Train accuracy: 0.7265625\n",
            "Loss: 28.125 ,Train accuracy: 0.71875\n",
            "Loss: 30.211280822753906 ,Train accuracy: 0.6953125\n",
            "Loss: 26.5625 ,Train accuracy: 0.734375\n",
            "Loss: 25.0 ,Train accuracy: 0.75\n",
            "Loss: 22.328582763671875 ,Train accuracy: 0.7734375\n",
            "Loss: 26.5625 ,Train accuracy: 0.734375\n",
            "Loss: 27.135269165039062 ,Train accuracy: 0.71875\n",
            "Loss: 28.125 ,Train accuracy: 0.71875\n",
            "Loss: 24.21875 ,Train accuracy: 0.7578125\n",
            "Loss: 34.375 ,Train accuracy: 0.65625\n",
            "Loss: 30.46875 ,Train accuracy: 0.6953125\n",
            "Loss: 31.25 ,Train accuracy: 0.6875\n",
            "Loss: 42.1875 ,Train accuracy: 0.578125\n",
            "Loss: 33.50860595703125 ,Train accuracy: 0.6640625\n",
            "Loss: 33.3521728515625 ,Train accuracy: 0.6640625\n",
            "Loss: 38.90234375 ,Train accuracy: 0.609375\n",
            "Loss: 37.5 ,Train accuracy: 0.625\n",
            "Loss: 43.75 ,Train accuracy: 0.5625\n",
            "Loss: 47.65625 ,Train accuracy: 0.5234375\n",
            "Loss: 51.5625 ,Train accuracy: 0.484375\n",
            "Loss: 50.78125 ,Train accuracy: 0.4921875\n",
            "Loss: 57.8125 ,Train accuracy: 0.421875\n",
            "Loss: 34.910186767578125 ,Train accuracy: 0.6484375\n",
            "Loss: 25.78125 ,Train accuracy: 0.7421875\n",
            "Loss: 28.125 ,Train accuracy: 0.71875\n",
            "Loss: 30.46875 ,Train accuracy: 0.6953125\n",
            "Loss: 43.75 ,Train accuracy: 0.5625\n",
            "Loss: 47.65625 ,Train accuracy: 0.5234375\n",
            "Loss: 42.262451171875 ,Train accuracy: 0.5703125\n",
            "Loss: 43.75 ,Train accuracy: 0.5625\n",
            "Loss: 52.912109375 ,Train accuracy: 0.46875\n",
            "Loss: 29.6875 ,Train accuracy: 0.703125\n",
            "Loss: 29.6875 ,Train accuracy: 0.703125\n",
            "Loss: 36.719017028808594 ,Train accuracy: 0.6328125\n",
            "Loss: 40.625 ,Train accuracy: 0.59375\n",
            "Loss: 42.96875 ,Train accuracy: 0.5703125\n",
            "Loss: 40.330970764160156 ,Train accuracy: 0.5859375\n",
            "Loss: 36.71875 ,Train accuracy: 0.6328125\n",
            "Loss: 40.625 ,Train accuracy: 0.59375\n",
            "Loss: 36.71875 ,Train accuracy: 0.6328125\n",
            "Loss: 34.375 ,Train accuracy: 0.65625\n",
            "Loss: 35.9375 ,Train accuracy: 0.640625\n",
            "Loss: 32.8125 ,Train accuracy: 0.671875\n",
            "Loss: 35.9375 ,Train accuracy: 0.640625\n",
            "Loss: 37.5 ,Train accuracy: 0.625\n",
            "Loss: 37.22088623046875 ,Train accuracy: 0.625\n",
            "Loss: 38.28125 ,Train accuracy: 0.6171875\n"
          ]
        }
      ]
    },
    {
      "cell_type": "code",
      "source": [
        "test(CNN, criterion_CNN, test_dataloader)"
      ],
      "metadata": {
        "id": "WOSpMELUtN7j"
      },
      "execution_count": null,
      "outputs": []
    },
    {
      "cell_type": "code",
      "source": [
        "outputs = get_predictions(test_dataloader, CNN)\n",
        "plt.scatter(outputs, Y_test)"
      ],
      "metadata": {
        "id": "z4dt_1iszAkO"
      },
      "execution_count": null,
      "outputs": []
    },
    {
      "cell_type": "markdown",
      "source": [
        "#### Previous code"
      ],
      "metadata": {
        "id": "sXnoLyrUTSb6"
      }
    },
    {
      "cell_type": "markdown",
      "source": [
        "-----------------------------------------------------\n",
        "Write a code to evaluate the model, you may do so by adding evaluation related steps in the training loop as well.<br>\n",
        "Plot the graphs as required.<br>\n",
        "Plot the graph by testing the model on NNN case as well.<br>\n",
        "Code a CNN model and perform all the actions as performed on an neural network."
      ],
      "metadata": {
        "id": "9W3iZDGskNdQ"
      }
    },
    {
      "cell_type": "code",
      "execution_count": null,
      "metadata": {
        "id": "WpH37d3OZ5ee",
        "outputId": "51d82fd6-6f01-4c43-e210-58caab927f99"
      },
      "outputs": [
        {
          "name": "stdout",
          "output_type": "stream",
          "text": [
            "MODEL1\n",
            "122/122 [==============================] - 4s 2ms/step - loss: 0.1936 - accuracy: 0.9279\n",
            "MODEL3\n",
            "122/122 [==============================] - 4s 2ms/step - loss: 0.1081 - accuracy: 0.9708\n",
            "MODEL4\n",
            "122/122 [==============================] - 4s 2ms/step - loss: 0.1187 - accuracy: 0.9697\n"
          ]
        }
      ],
      "source": [
        "print('MODEL1')\n",
        "model1 = keras.Sequential()\n",
        "model1 = neural(model1, X_train1, X_test1, y_train1, y_test1)\n",
        "print('MODEL3')\n",
        "model3 = keras.Sequential()\n",
        "model3 = neural(model3, X_train3, X_test3, y_train3, y_test3)\n",
        "print('MODEL4')\n",
        "model4 = keras.Sequential()\n",
        "model4 = neural(model4, X_train4, X_test4, y_train4, y_test4)\n"
      ]
    },
    {
      "cell_type": "code",
      "execution_count": null,
      "metadata": {
        "id": "5SoVN2ljZ5ef",
        "outputId": "1429eff5-a274-4649-b257-57f48f156311"
      },
      "outputs": [
        {
          "data": {
            "text/plain": [
              "Text(0, 0.5, 'Accuracy')"
            ]
          },
          "execution_count": 272,
          "metadata": {},
          "output_type": "execute_result"
        },
        {
          "data": {
            "image/png": "[encoded data removed]",
            "text/plain": [
              "<Figure size 432x288 with 1 Axes>"
            ]
          },
          "metadata": {
            "needs_background": "light"
          },
          "output_type": "display_data"
        }
      ],
      "source": [
        "plt.plot([10,20,30], [0.9279,0.9644, 0.9708])\n",
        "plt.scatter([10,20,30], [0.9279,0.9644, 0.9708])\n",
        "plt.xlabel('Lattice size')\n",
        "plt.ylabel('Accuracy')"
      ]
    },
    {
      "cell_type": "code",
      "execution_count": null,
      "metadata": {
        "id": "BADZ6t5TZ5ef"
      },
      "outputs": [],
      "source": [
        "def preds(model, X_test, size):\n",
        "    l = []\n",
        "\n",
        "#     print('PREDICTIONS:')\n",
        "    for i in range(1,size):\n",
        "#         print('i=',i)\n",
        "        l.append(model.predict(X_test[(i-1):(i)], verbose = 0))\n",
        "    l = np.array(l)\n",
        "\n",
        "    return l"
      ]
    },
    {
      "cell_type": "code",
      "execution_count": null,
      "metadata": {
        "id": "s284mcL9Z5ef"
      },
      "outputs": [],
      "source": [
        "def sortIt(l, y):\n",
        "    size = l.shape[0]\n",
        "    a = np.zeros(size)\n",
        "    b = np.zeros(size)\n",
        "    l1 = np.zeros(size)\n",
        "    l2 = np.zeros(size)\n",
        "    for x in range(size):\n",
        "      a[x]=l[x][0][0]\n",
        "      b[x]=l[x][0][1]\n",
        "      l1[x]=y[x]\n",
        "\n",
        "    c = np.array([l1, a])\n",
        "    sorted_c = c.T[l1.argsort()]\n",
        "\n",
        "    d = np.array([l1, b])\n",
        "    sorted_d = d.T[l1.argsort()]\n",
        "\n",
        "    return sorted_c, sorted_d"
      ]
    },
    {
      "cell_type": "code",
      "execution_count": null,
      "metadata": {
        "id": "hr-CIgUaZ5ef"
      },
      "outputs": [],
      "source": [
        "def plotIt(sorted, y_test, yes=True):\n",
        "\n",
        "    t = np.arange(1, 3.51, 0.1)\n",
        "    vals = np.zeros(t.shape[0])\n",
        "    x_axisc = sorted[:,0]\n",
        "    y_axis = sorted[:,1]\n",
        "    k2=0\n",
        "\n",
        "    for i in t:\n",
        "        val=0\n",
        "        count=0\n",
        "        flag=0\n",
        "        k=0\n",
        "        for j in x_axis:\n",
        "            if(i==j):\n",
        "                val=val+y_axis[k]\n",
        "                count=count+1\n",
        "                flag=1\n",
        "            k=k+1\n",
        "        if(flag==1):\n",
        "            vals[k2] = val/count\n",
        "        if(flag==0 and k2!=0):\n",
        "            vals[k2] = vals[k2-1]\n",
        "        k2+=1\n",
        "\n",
        "    plt.plot(t, vals)\n",
        "\n",
        "#     if(yes):\n",
        "#         first_line = LineString(np.column_stack((t, vals)))\n",
        "#         return first_line\n",
        "#     else:\n",
        "#         second_line = LineString(np.column_stack((t, vals)))\n",
        "#         return second_line"
      ]
    },
    {
      "cell_type": "code",
      "execution_count": null,
      "metadata": {
        "id": "IqvqVG2tZ5ef"
      },
      "outputs": [],
      "source": [
        "l1 = preds(model1, X_test1, size)"
      ]
    },
    {
      "cell_type": "code",
      "execution_count": null,
      "metadata": {
        "id": "8L9SkZYEZ5ef"
      },
      "outputs": [],
      "source": [
        "# l = preds(model, X_test2, size)\n"
      ]
    },
    {
      "cell_type": "code",
      "execution_count": null,
      "metadata": {
        "id": "E4neWAjpZ5ef"
      },
      "outputs": [],
      "source": [
        "l3 = preds(model3, X_test3, size)\n"
      ]
    },
    {
      "cell_type": "code",
      "execution_count": null,
      "metadata": {
        "id": "bnCR4R83Z5eg"
      },
      "outputs": [],
      "source": [
        "# l4 = preds(model3, X_test4, size)"
      ]
    },
    {
      "cell_type": "code",
      "execution_count": null,
      "metadata": {
        "id": "_krNFGidZ5eg"
      },
      "outputs": [],
      "source": [
        "def plot_all(model, l, X_test2, y_test2, Y_test2, size = 100):\n",
        "\n",
        "#     l = preds(model, X_test2, size)\n",
        "    sorted_c, sorted_d = sortIt(l, Y_test2)\n",
        "    plotIt(sorted_c, y_test2)\n",
        "    plotIt(sorted_d, y_test2)\n",
        "    return sorted_c[:,0], sorted_c[:,1], sorted_d[:,0], sorted_d[:,1], val1, val2"
      ]
    },
    {
      "cell_type": "code",
      "execution_count": null,
      "metadata": {
        "scrolled": true,
        "id": "-nU82v-KZ5eg",
        "outputId": "0eb79da6-800f-44b3-98f6-d3c2adbad410"
      },
      "outputs": [
        {
          "data": {
            "text/plain": [
              "Text(0, 0.5, 'Output Layer')"
            ]
          },
          "execution_count": 270,
          "metadata": {},
          "output_type": "execute_result"
        },
        {
          "data": {
            "image/png": "[encoded data removed]",
            "text/plain": [
              "<Figure size 432x288 with 1 Axes>"
            ]
          },
          "metadata": {
            "needs_background": "light"
          },
          "output_type": "display_data"
        }
      ],
      "source": [
        "from shapely.geometry import LineString\n",
        "\n",
        "scx1, scy1, sdx1, sdy1 = plot_all(model1, l1, X_test1, y_test1, Y_test1)\n",
        "plt.scatter(scx1, scy1)\n",
        "plt.scatter(sdx1, sdy1)\n",
        "plt.plot(np.linspace(2.27,2.27,scy3.shape[0]),scy3)\n",
        "# scx2, scy2, sdx2, sdy2 = plot_all(model3, l, X_test2, y_test2, Y_test2)\n",
        "# scx3, scy3, sdx3, sdy3 = plot_all(model3, l3, X_test3, y_test3, Y_test3)\n",
        "plt.xlabel('T/J')\n",
        "plt.ylabel('Output Layer')\n",
        "\n"
      ]
    },
    {
      "cell_type": "code",
      "execution_count": null,
      "metadata": {
        "id": "jBDBS_aJZ5eg",
        "outputId": "e3eeed86-e6d2-4ea1-d6be-de648c29d4c1"
      },
      "outputs": [
        {
          "data": {
            "text/plain": [
              "Text(0, 0.5, 'Output Layer')"
            ]
          },
          "execution_count": 259,
          "metadata": {},
          "output_type": "execute_result"
        },
        {
          "data": {
            "image/png": "[encoded data removed]",
            "text/plain": [
              "<Figure size 432x288 with 1 Axes>"
            ]
          },
          "metadata": {
            "needs_background": "light"
          },
          "output_type": "display_data"
        }
      ],
      "source": [
        "scx2, scy2, sdx2, sdy2 = plot_all(model3, l, X_test2, y_test2, Y_test2)\n",
        "plt.scatter(scx2, scy2)\n",
        "plt.scatter(sdx2, sdy2)\n",
        "plt.plot(np.linspace(2.27,2.27,scy3.shape[0]),scy3)\n",
        "plt.xlabel('T/J')\n",
        "plt.ylabel('Output Layer')"
      ]
    },
    {
      "cell_type": "code",
      "execution_count": null,
      "metadata": {
        "id": "u35lZI77Z5eg",
        "outputId": "9af944ae-5aad-4d1e-bca4-084bbd2e1aa8"
      },
      "outputs": [
        {
          "data": {
            "text/plain": [
              "Text(0, 0.5, 'Output Layer')"
            ]
          },
          "execution_count": 261,
          "metadata": {},
          "output_type": "execute_result"
        },
        {
          "data": {
            "image/png": "[encoded data removed]",
            "text/plain": [
              "<Figure size 432x288 with 1 Axes>"
            ]
          },
          "metadata": {
            "needs_background": "light"
          },
          "output_type": "display_data"
        }
      ],
      "source": [
        "plt.scatter(scx3, scy3)\n",
        "plt.scatter(sdx3, sdy3)\n",
        "# plt.scatter(sdx3, sdy3)\n",
        "plt.plot(np.linspace(2.27,2.27,scy3.shape[0]),scy3, color='g')\n",
        "plt.xlabel('T/J')\n",
        "plt.ylabel('Output Layer')"
      ]
    },
    {
      "cell_type": "code",
      "execution_count": null,
      "metadata": {
        "id": "UlV7QaWKZ5eg"
      },
      "outputs": [],
      "source": [
        "def plotIt2(sorted, y_test, latt):\n",
        "\n",
        "    t = np.arange(1, 3.51, 0.1)\n",
        "    vals = np.zeros(t.shape[0])\n",
        "    x_axisc = sorted[:,0]\n",
        "    y_axis = sorted[:,1]\n",
        "    k2=0\n",
        "\n",
        "    for i in t:\n",
        "        val=0\n",
        "        count=0\n",
        "        flag=0\n",
        "        k=0\n",
        "        for j in x_axis:\n",
        "            if(i==j):\n",
        "                val=val+y_axis[k]\n",
        "                count=count+1\n",
        "                flag=1\n",
        "            k=k+1\n",
        "        if(flag==1):\n",
        "            vals[k2] = val/count\n",
        "        if(flag==0 and k2!=0):\n",
        "            vals[k2] = vals[k2-1]\n",
        "        k2+=1\n",
        "\n",
        "    plt.plot(t, (vals-2.27)*(latt))"
      ]
    },
    {
      "cell_type": "code",
      "execution_count": null,
      "metadata": {
        "id": "9aV4w6YAZ5eh"
      },
      "outputs": [],
      "source": [
        "# plt.scatter(scx1, (scy1-2.27)*(10))\n",
        "# plt.scatter(sdx1, (sdy1-2.27)*(10))\n",
        "# sorted_c, sorted_d = sortIt(l, Y_test1)\n",
        "# plotIt2(sorted_c, y_test1, 10)\n",
        "# plotIt2(sorted_d, y_test1, 10)\n",
        "# plt.xlabel('$tL^{1/v}$')\n",
        "# plt.ylabel('Output Layer')"
      ]
    },
    {
      "cell_type": "code",
      "execution_count": null,
      "metadata": {
        "id": "P1kBTfArZ5eh"
      },
      "outputs": [],
      "source": []
    },
    {
      "cell_type": "markdown",
      "metadata": {
        "id": "bYkujZv-1YfP"
      },
      "source": [
        "##### CNN"
      ]
    },
    {
      "cell_type": "code",
      "execution_count": null,
      "metadata": {
        "colab": {
          "base_uri": "https://localhost:8080/"
        },
        "id": "vnSEJIB0KFKT",
        "outputId": "9b38133d-8bc5-4240-cb0b-ca0054c9f968"
      },
      "outputs": [
        {
          "name": "stdout",
          "output_type": "stream",
          "text": [
            "Epoch 1/10\n",
            "32/32 [==============================] - 16s 369ms/step - loss: 0.5765 - binary_accuracy: 0.9080 - val_loss: 0.0919 - val_binary_accuracy: 0.9700\n",
            "Epoch 2/10\n",
            "32/32 [==============================] - 11s 341ms/step - loss: 0.0624 - binary_accuracy: 0.9820 - val_loss: 0.0451 - val_binary_accuracy: 0.9800\n",
            "Epoch 3/10\n",
            "32/32 [==============================] - 11s 345ms/step - loss: 0.0301 - binary_accuracy: 0.9930 - val_loss: 0.0032 - val_binary_accuracy: 1.0000\n",
            "Epoch 4/10\n",
            "32/32 [==============================] - 11s 338ms/step - loss: 0.0195 - binary_accuracy: 0.9950 - val_loss: 0.0496 - val_binary_accuracy: 0.9900\n",
            "Epoch 5/10\n",
            "32/32 [==============================] - 11s 342ms/step - loss: 0.0116 - binary_accuracy: 0.9960 - val_loss: 0.0022 - val_binary_accuracy: 1.0000\n",
            "Epoch 6/10\n",
            "32/32 [==============================] - 9s 289ms/step - loss: 0.0056 - binary_accuracy: 0.9980 - val_loss: 0.0131 - val_binary_accuracy: 0.9900\n",
            "Epoch 7/10\n",
            "32/32 [==============================] - 9s 288ms/step - loss: 0.0029 - binary_accuracy: 0.9990 - val_loss: 0.0180 - val_binary_accuracy: 1.0000\n",
            "Epoch 8/10\n",
            "32/32 [==============================] - 9s 281ms/step - loss: 0.0051 - binary_accuracy: 0.9990 - val_loss: 0.0049 - val_binary_accuracy: 1.0000\n",
            "Epoch 9/10\n",
            "32/32 [==============================] - 10s 299ms/step - loss: 0.0030 - binary_accuracy: 1.0000 - val_loss: 0.0152 - val_binary_accuracy: 0.9900\n",
            "Epoch 10/10\n",
            "32/32 [==============================] - 9s 276ms/step - loss: 0.0024 - binary_accuracy: 1.0000 - val_loss: 0.0158 - val_binary_accuracy: 0.9900\n"
          ]
        }
      ],
      "source": [
        "model = Sequential([\n",
        "          layers.Reshape(target_shape=(40,40,1), input_shape=(40,40)),\n",
        "          layers.Conv2D(128, (3,3), padding='valid', activation='relu'),\n",
        "          layers.Flatten(),\n",
        "          layers.Dense(128, activation='relu'),\n",
        "          layers.Dropout(.5),\n",
        "          layers.Dense(2, activation='softmax')\n",
        "        ])\n",
        "\n",
        "\n",
        "model.compile(optimizer='adam',\n",
        "              loss='binary_crossentropy',\n",
        "              metrics=['binary_accuracy'])\n",
        "\n",
        "hist = model.fit(X_train4[:1000], y_train4[:1000], epochs=10, batch_size=32, validation_data = (X_test4[:100], y_test4[:100]))\n"
      ]
    }
  ],
  "metadata": {
    "colab": {
      "provenance": [],
      "gpuType": "T4",
      "include_colab_link": true
    },
    "kernelspec": {
      "display_name": "Python 3",
      "name": "python3"
    },
    "language_info": {
      "codemirror_mode": {
        "name": "ipython",
        "version": 3
      },
      "file_extension": ".py",
      "mimetype": "text/x-python",
      "name": "python",
      "nbconvert_exporter": "python",
      "pygments_lexer": "ipython3",
      "version": "3.9.7"
    },
    "accelerator": "GPU"
  },
  "nbformat": 4,
  "nbformat_minor": 0
}