{
  "cells": [
    {
      "cell_type": "markdown",
      "metadata": {
        "id": "view-in-github",
        "colab_type": "text"
      },
      "source": [
        "<a href=\"https://colab.research.google.com/github/PratyushJha254/BTP/blob/main/NNs_trainedOnFerro_testedOnAntiFerro_NNIsingModel.ipynb\" target=\"_parent\"><img src=\"https://colab.research.google.com/assets/colab-badge.svg\" alt=\"Open In Colab\"/></a>"
      ]
    },
    {
      "cell_type": "markdown",
      "source": [
        "Do the following:\n",
        "1.   Code NNs using pytorch, test over NNN Ising Model.\n",
        "2.   Train the model using antiferro data [Note the results].\n",
        "3.   Train on ferro test on anti-ferro [Note the results].\n",
        "\n",
        "\n"
      ],
      "metadata": {
        "id": "Tih5gFAocas0"
      }
    },
    {
      "cell_type": "code",
      "execution_count": 1,
      "metadata": {
        "id": "CH9ENwKBYeOY"
      },
      "outputs": [],
      "source": [
        "import numpy as np\n",
        "from matplotlib import pyplot as plt\n",
        "import tensorflow as tf\n",
        "from tensorflow import keras\n",
        "from sklearn.model_selection import train_test_split\n",
        "from keras.utils import to_categorical\n",
        "import pickle\n",
        "from sklearn.manifold import TSNE\n",
        "import numpy as np\n",
        "import matplotlib.pyplot as plt\n",
        "import matplotlib.colors as mcol\n",
        "import matplotlib.cm as cm\n",
        "from keras.utils import to_categorical\n",
        "import keras.layers as layers\n",
        "from keras import Sequential\n",
        "from numba import jit\n",
        "\n",
        "import numpy as np\n",
        "import torch\n",
        "import torch.nn as nn\n",
        "import torch.optim as optim\n",
        "from torch.utils.data import Dataset, DataLoader\n",
        "import torchvision.utils as vutils\n",
        "import matplotlib.pyplot as plt\n",
        "import sys\n",
        "from torch.autograd import Variable\n",
        "from torch.autograd import grad as torch_grad\n",
        "import seaborn as sns\n"
      ]
    },
    {
      "cell_type": "markdown",
      "source": [
        "#### Metropolis Algorithm"
      ],
      "metadata": {
        "id": "DZUcbnKRp0LW"
      }
    },
    {
      "cell_type": "code",
      "execution_count": null,
      "metadata": {
        "id": "JxP8qAFiZ5eZ"
      },
      "outputs": [],
      "source": [
        "import numpy as np\n",
        "from numba import jit\n",
        "\n",
        "@jit(nopython=True)\n",
        "def data_generation_internal(l, J=1):\n",
        "    # J = 1  # coupling strength\n",
        "    L = l  # grid size\n",
        "\n",
        "    temperatures = np.arange(1, 3.51, 0.1)  # 26\n",
        "    ntherm = 100  # thermalization steps\n",
        "    nsamples = 100  # number of samples for every starting configuration\n",
        "    nbin = 10  # number of starting configurations\n",
        "\n",
        "    n = len(temperatures) * nbin * nsamples  # total number of samples\n",
        "\n",
        "    C = np.empty((n, L, L))\n",
        "    T = np.empty(n)\n",
        "\n",
        "    # checkerboard pattern\n",
        "    x = np.zeros((L, L), dtype=np.int64)\n",
        "    x[1::2, 0::2] = 1\n",
        "    x[0::2, 1::2] = 1\n",
        "\n",
        "    c = 0\n",
        "    for t in temperatures:\n",
        "        for i in range(nbin):\n",
        "            # start with polarized state\n",
        "            grid = np.ones((L, L)) * (-1)**(i % 2)\n",
        "            # draw a number of sample configurations\n",
        "            for j in range(nsamples):\n",
        "                # perform a number of updates until thermalization\n",
        "                for k in range(ntherm):\n",
        "                    # Calculate neighbors without using np.roll()\n",
        "                    neighbors = np.zeros((L, L))\n",
        "                    neighbors[:-1, :] += grid[1:, :]\n",
        "                    neighbors[1:, :] += grid[:-1, :]\n",
        "                    neighbors[:, :-1] += grid[:, 1:]\n",
        "                    neighbors[:, 1:] += grid[:, :-1]\n",
        "                    # calculate the potential changes in energy\n",
        "                    dE = 2 * J * (grid * neighbors)\n",
        "                    # calculate the transition probabilities\n",
        "                    p = np.exp(-dE / t)\n",
        "                    # decide which transitions will occur\n",
        "                    # (avoid updating neighbors using alternating checkerboard pattern)\n",
        "                    grid *= 1 - 2 * np.multiply((np.random.rand(L, L) < p).astype(np.int8), x ^ (k % 2))\n",
        "\n",
        "                C[c] = grid\n",
        "                T[c] = t\n",
        "                c += 1\n",
        "\n",
        "    return C, T"
      ]
    },
    {
      "cell_type": "code",
      "source": [
        "def data_generation(l, name, J):\n",
        "    C, T = data_generation_internal(l, J)\n",
        "    p = np.random.permutation(len(C))\n",
        "    np.savez_compressed(name, X=C[p], y=T[p])"
      ],
      "metadata": {
        "id": "_695L5ZXJIuG"
      },
      "execution_count": null,
      "outputs": []
    },
    {
      "cell_type": "code",
      "execution_count": null,
      "metadata": {
        "id": "vhxKd4C0Z5ea"
      },
      "outputs": [],
      "source": [
        "# data_generation(10, 'data1.npz', 1)\n",
        "# data_generation(20, 'data2.npz', 1)\n",
        "# data_generation(30, 'data3.npz', 1)\n",
        "# data_generation(40, 'data4.npz', 1)\n",
        "data_generation(64, 'data_anti.npz', -1)"
      ]
    },
    {
      "cell_type": "markdown",
      "source": [
        "#### Loading the file"
      ],
      "metadata": {
        "id": "bm-eCHQ5p5dz"
      }
    },
    {
      "cell_type": "code",
      "source": [
        "nu_G = 10\n",
        "Ny = 64\n",
        "Nx = 64\n",
        "nc = 1\n",
        "nz = 100\n",
        "ngf = 64\n",
        "ndf = 64\n",
        "num_epochs = 50\n",
        "lr = 0.001\n",
        "beta1 = 0.5\n",
        "ngpu = 1\n",
        "N = Ny * Nx\n",
        "device = torch.device('cuda:0' if (torch.cuda.is_available() and ngpu > 0) else 'cpu')"
      ],
      "metadata": {
        "id": "Z2YO9EViStuz"
      },
      "execution_count": 8,
      "outputs": []
    },
    {
      "cell_type": "code",
      "execution_count": 10,
      "metadata": {
        "id": "Wwq4a69qZ5eb"
      },
      "outputs": [],
      "source": [
        "def file_loader(file_name):\n",
        "    data = np.load(file_name)\n",
        "    X = data['X']\n",
        "    y = data['y']\n",
        "    X_train, X_test, Y_train, Y_test = train_test_split(X, y, test_size=0.15)\n",
        "    Tc = 2.27 # For a square lattice following Ising Model\n",
        "    y_train = Y_train > Tc\n",
        "    y_test = Y_test > Tc\n",
        "    y_train = to_categorical(y_train.astype(int))\n",
        "    y_test = to_categorical(y_test.astype(int))\n",
        "    return X_train, X_test, y_train, y_test, Y_train, Y_test"
      ]
    },
    {
      "cell_type": "code",
      "source": [
        "def full_file_loader(file_name):\n",
        "    data = np.load(file_name)\n",
        "    X = data['X']\n",
        "    Y = data['y']\n",
        "    Tc = 2.27 # For a square lattice following Ising Model\n",
        "    y = Y > Tc\n",
        "    y = to_categorical(y.astype(int))\n",
        "    return X, y, Y"
      ],
      "metadata": {
        "id": "Fy5Nz7d0SY1C"
      },
      "execution_count": null,
      "outputs": []
    },
    {
      "cell_type": "code",
      "execution_count": 11,
      "metadata": {
        "id": "Y_8X1AJRZAaN"
      },
      "outputs": [],
      "source": [
        "# data -\n",
        "\n",
        "# X_train1, X_test1, y_train1, y_test1, Y_train1, Y_test1 = file_loader('data1.npz')\n",
        "\n",
        "# X_train2, X_test2, y_train2, y_test2, Y_train2, Y_test2 = file_loader('data2.npz')\n",
        "\n",
        "# X_train3, X_test3, y_train3, y_test3, Y_train3, Y_test3 = file_loader('data3.npz')\n",
        "\n",
        "# X_train4, X_test4, y_train4, y_test4, Y_train4, Y_test4 = file_loader('data4.npz')\n",
        "\n",
        "X_train, X_test, y_train, y_test, Y_train, Y_test = file_loader('data.npz')"
      ]
    },
    {
      "cell_type": "code",
      "source": [
        "X_train_anti, X_test_anti, y_train_anti, y_test_anti, Y_train_anti, Y_test_anti = file_loader('data_anti.npz')"
      ],
      "metadata": {
        "id": "puu1oIW8oxg1"
      },
      "execution_count": 12,
      "outputs": []
    },
    {
      "cell_type": "code",
      "source": [
        "X_anti, y_anti, Y_anti = full_file_loader('data_anti.npz')"
      ],
      "metadata": {
        "id": "8CYCj5PSSWFl"
      },
      "execution_count": null,
      "outputs": []
    },
    {
      "cell_type": "markdown",
      "source": [
        "#### Dataset and DataLoader"
      ],
      "metadata": {
        "id": "BSS1i0APqJnU"
      }
    },
    {
      "cell_type": "code",
      "source": [
        "class IsingDataset(Dataset):\n",
        "    def __init__(self, x, y, anti_ferro=False):\n",
        "        self.n_samples = x.shape[0]\n",
        "        self.x = torch.tensor(torch.from_numpy(x))\n",
        "        self.y = torch.tensor(torch.from_numpy(y))\n",
        "        self.anti_ferro = anti_ferro\n",
        "\n",
        "    def __getitem__(self, index):\n",
        "        if self.anti_ferro:\n",
        "            x_transformed = self._apply_anti_ferro(self.x[index])\n",
        "            return x_transformed, self.y[index]\n",
        "        else:\n",
        "            return self.x[index], self.y[index]\n",
        "\n",
        "    def __len__(self):\n",
        "        return self.n_samples\n",
        "\n",
        "    def _apply_anti_ferro(self, x):\n",
        "        # Apply anti-ferromagnetic transformation\n",
        "        return (-1) ** torch.arange(x.size(0)).unsqueeze(1) + (-1) ** torch.arange(x.size(1))\n",
        "\n",
        "# # Example usage\n",
        "# x = ...  # Your input data\n",
        "# y = ...  # Your target labels\n",
        "# anti_ferro = True  # Set to True to apply the anti-ferromagnetic transformation\n",
        "# dataset = IsingDataset(x, y, anti_ferro=anti_ferro)\n"
      ],
      "metadata": {
        "id": "OvGVpjWwJi8J"
      },
      "execution_count": 13,
      "outputs": []
    },
    {
      "cell_type": "code",
      "source": [
        "training_dataset = IsingDataset(X_train, y_train)\n",
        "testing_dataset = IsingDataset(X_test, y_test)\n",
        "batch_size = 128\n",
        "train_dataloader = DataLoader(dataset = training_dataset, batch_size = batch_size, shuffle = False)\n",
        "test_dataloader = DataLoader(dataset = testing_dataset, batch_size = batch_size, shuffle = False)"
      ],
      "metadata": {
        "colab": {
          "base_uri": "https://localhost:8080/"
        },
        "id": "MxE4frNKJw4y",
        "outputId": "5adbdfba-d7e9-48c9-deba-48958215428e"
      },
      "execution_count": 14,
      "outputs": [
        {
          "output_type": "stream",
          "name": "stderr",
          "text": [
            "<ipython-input-13-de2182b412d1>:4: UserWarning: To copy construct from a tensor, it is recommended to use sourceTensor.clone().detach() or sourceTensor.clone().detach().requires_grad_(True), rather than torch.tensor(sourceTensor).\n",
            "  self.x = torch.tensor(torch.from_numpy(x))\n",
            "<ipython-input-13-de2182b412d1>:5: UserWarning: To copy construct from a tensor, it is recommended to use sourceTensor.clone().detach() or sourceTensor.clone().detach().requires_grad_(True), rather than torch.tensor(sourceTensor).\n",
            "  self.y = torch.tensor(torch.from_numpy(y))\n"
          ]
        }
      ]
    },
    {
      "cell_type": "code",
      "source": [
        "training_dataset_anti = IsingDataset(X_train_anti, y_train_anti)\n",
        "testing_dataset_anti = IsingDataset(X_test_anti, y_test_anti)\n",
        "batch_size = 128\n",
        "train_dataloader_anti = DataLoader(dataset = training_dataset_anti, batch_size = batch_size, shuffle = False)\n",
        "test_dataloader_anti = DataLoader(dataset = testing_dataset_anti, batch_size = batch_size, shuffle = False)"
      ],
      "metadata": {
        "colab": {
          "base_uri": "https://localhost:8080/"
        },
        "id": "TWZOcCBUobIc",
        "outputId": "3f7759f7-9656-4911-e5bd-feb1a64ae965"
      },
      "execution_count": 15,
      "outputs": [
        {
          "output_type": "stream",
          "name": "stderr",
          "text": [
            "<ipython-input-13-de2182b412d1>:4: UserWarning: To copy construct from a tensor, it is recommended to use sourceTensor.clone().detach() or sourceTensor.clone().detach().requires_grad_(True), rather than torch.tensor(sourceTensor).\n",
            "  self.x = torch.tensor(torch.from_numpy(x))\n",
            "<ipython-input-13-de2182b412d1>:5: UserWarning: To copy construct from a tensor, it is recommended to use sourceTensor.clone().detach() or sourceTensor.clone().detach().requires_grad_(True), rather than torch.tensor(sourceTensor).\n",
            "  self.y = torch.tensor(torch.from_numpy(y))\n"
          ]
        }
      ]
    },
    {
      "cell_type": "code",
      "source": [
        "# training_dataset_anti_modified = IsingDataset(X_train_anti, y_train_anti, anti_ferro = True)\n",
        "# testing_dataset_anti_modified = IsingDataset(X_test_anti, y_test_anti, anti_ferro = True)\n",
        "# batch_size = 128\n",
        "# train_dataloader_anti_modified = DataLoader(dataset = training_dataset_anti_modified, batch_size = batch_size, shuffle = False)\n",
        "# test_dataloader_anti_modified = DataLoader(dataset = testing_dataset_anti_modified, batch_size = batch_size, shuffle = False)"
      ],
      "metadata": {
        "id": "r5VXqQT0MaP8"
      },
      "execution_count": null,
      "outputs": []
    },
    {
      "cell_type": "code",
      "source": [
        "dataset_anti_modified = IsingDataset(X_anti, y_anti, anti_ferro = True)\n",
        "batch_size = 128\n",
        "dataloader_anti_modified = DataLoader(dataset = dataset_anti_modified, batch_size = batch_size, shuffle = False)"
      ],
      "metadata": {
        "id": "HFApST16Sw-a"
      },
      "execution_count": null,
      "outputs": []
    },
    {
      "cell_type": "markdown",
      "source": [
        "#### Accuracy, train and test functions"
      ],
      "metadata": {
        "id": "RZDqQL9sqtt5"
      }
    },
    {
      "cell_type": "code",
      "source": [
        "def calculate_accuracy(outputs, labels):\n",
        "    # Threshold the outputs at 0.5 to get binary predictions: below 0.5 becomes 0, above becomes 1\n",
        "    predicted = (outputs > 0.5).float()\n",
        "\n",
        "    # The labels need to have the same dimensions as the predictions for comparison\n",
        "    # Assuming labels are already in the correct shape (batch_size, 1) or (batch_size,)\n",
        "    # If not, you might need to adjust labels' shape, e.g., labels = labels.view(-1, 1)\n",
        "\n",
        "    # Calculate the number of correct predictions\n",
        "    correct = (predicted == labels).float().sum().item()/2\n",
        "\n",
        "    # Calculate the total number of labels (which is also the batch size)\n",
        "    total = labels.size(0)\n",
        "\n",
        "    # Calculate accuracy as the percentage of correct predictions\n",
        "    accuracy = correct / total\n",
        "    return accuracy\n"
      ],
      "metadata": {
        "id": "hOTDhh6OcgX9"
      },
      "execution_count": 2,
      "outputs": []
    },
    {
      "cell_type": "code",
      "source": [
        "def train(model, num_epochs, criterion, optimizer, train_dataloader):\n",
        "  for epoch in range(num_epochs):\n",
        "    for i, (x, label) in enumerate(train_dataloader):\n",
        "      x = x.to(device).float()\n",
        "      label = label.to(device).float()\n",
        "      b_size = x.size(0)\n",
        "      model.zero_grad()\n",
        "      output = model(x)\n",
        "      # if(epoch==0 and i==0):\n",
        "      #   print(output)\n",
        "      error = criterion(output, label)\n",
        "      error.backward()\n",
        "      optimizer.step()\n",
        "      acc_train = calculate_accuracy(output, label)\n",
        "      if i % 20 == 0:\n",
        "        print('Loss:', error.item(),',Train accuracy:', acc_train)"
      ],
      "metadata": {
        "id": "nOqtvmF4R72B"
      },
      "execution_count": 62,
      "outputs": []
    },
    {
      "cell_type": "code",
      "source": [
        "def test(model, criterion, test_dataloader):\n",
        "    for i, (x, label) in enumerate(test_dataloader):\n",
        "      x = x.to(device).float()\n",
        "      label = label.to(device).float()\n",
        "      output = model(x)\n",
        "      error = criterion(output, label)\n",
        "      acc_train = calculate_accuracy(output, label)\n",
        "      if i % 20 == 0:\n",
        "        print('Loss:', error.item(),',Test accuracy:', acc_train)"
      ],
      "metadata": {
        "id": "lkWQ7iweqBZ9"
      },
      "execution_count": 4,
      "outputs": []
    },
    {
      "cell_type": "code",
      "source": [
        "def get_predictions(test_loader, model):\n",
        "    # Assuming `test_loader` is your DataLoader for the test dataset\n",
        "    # Initialize lists to store predictions for each class\n",
        "    predictions_class_1 = []\n",
        "    predictions_class_2 = []\n",
        "\n",
        "    with torch.no_grad():  # Disable gradient tracking during inference\n",
        "        for inputs, _ in test_loader:\n",
        "            inputs = inputs.to(device).float()  # Move inputs to the device (e.g., GPU)\n",
        "            outputs = model(inputs)  # Forward pass to get predictions\n",
        "\n",
        "            # Assuming the output is softmax probabilities\n",
        "            # Separate the probabilities for class-1 and class-2\n",
        "            class_1_probs = outputs[:, 0].cpu().numpy()  # Probabilities for class-1\n",
        "            class_2_probs = outputs[:, 1].cpu().numpy()  # Probabilities for class-2\n",
        "\n",
        "            predictions_class_1.extend(class_1_probs)\n",
        "            predictions_class_2.extend(class_2_probs)\n",
        "\n",
        "    # `predictions_class_1` contains the probabilities for class-1 for all test samples\n",
        "    # `predictions_class_2` contains the probabilities for class-2 for all test samples\n",
        "    # You can further process or save these predictions as needed\n",
        "    return predictions_class_1, predictions_class_2\n"
      ],
      "metadata": {
        "id": "RZQwaexTynZw"
      },
      "execution_count": 80,
      "outputs": []
    },
    {
      "cell_type": "markdown",
      "metadata": {
        "id": "Jru3T1Rz1aRh"
      },
      "source": [
        "#### Fully Connected Neural Network"
      ]
    },
    {
      "cell_type": "code",
      "source": [
        "class neural_network(nn.Module):\n",
        "  def __init__(self):\n",
        "    super(neural_network, self).__init__()\n",
        "    self.main = nn.Sequential(\n",
        "        nn.Flatten(start_dim=1,end_dim=-1),\n",
        "        nn.Linear(Nx*Ny, 100),\n",
        "        nn.Sigmoid(),\n",
        "        nn.Linear(100, 2),\n",
        "        nn.Sigmoid()\n",
        "    )\n",
        "  def forward(self, input):\n",
        "      return self.main(input)"
      ],
      "metadata": {
        "id": "0lSfsrZCJ-0V"
      },
      "execution_count": 109,
      "outputs": []
    },
    {
      "cell_type": "code",
      "source": [
        "FCNN = neural_network().to(device)\n",
        "criterion_FCNN = nn.BCELoss()\n",
        "optimizer_FCNN = optim.Adam(FCNN.parameters(), lr=lr, betas=(0.9, 0.999))"
      ],
      "metadata": {
        "id": "K-euoH6nSSQP"
      },
      "execution_count": 111,
      "outputs": []
    },
    {
      "cell_type": "code",
      "source": [
        "num_epochs = 10\n",
        "train(FCNN, num_epochs, criterion_FCNN, optimizer_FCNN, train_dataloader)"
      ],
      "metadata": {
        "id": "yam54zMZeAXy"
      },
      "execution_count": null,
      "outputs": []
    },
    {
      "cell_type": "code",
      "source": [
        "test(FCNN, criterion_FCNN, test_dataloader)"
      ],
      "metadata": {
        "colab": {
          "base_uri": "https://localhost:8080/"
        },
        "id": "B3n_xRaZrrwa",
        "outputId": "99c744c2-69e2-41f2-af7a-33c3b28339e5"
      },
      "execution_count": 113,
      "outputs": [
        {
          "output_type": "stream",
          "name": "stdout",
          "text": [
            "Loss: 0.10503491759300232 ,Test accuracy: 0.9609375\n",
            "Loss: 0.3403957784175873 ,Test accuracy: 0.9296875\n"
          ]
        }
      ]
    },
    {
      "cell_type": "markdown",
      "source": [
        "Saving the trained weights"
      ],
      "metadata": {
        "id": "8j8UUsWIq4tq"
      }
    },
    {
      "cell_type": "code",
      "source": [
        "torch.save(FCNN.state_dict(), 'NeuralNetwork_weights_anti64.pth')"
      ],
      "metadata": {
        "id": "s7A28z4Cjrip"
      },
      "execution_count": null,
      "outputs": []
    },
    {
      "cell_type": "markdown",
      "source": [
        "Loading the trained weights"
      ],
      "metadata": {
        "id": "wCTl8j7YrBcw"
      }
    },
    {
      "cell_type": "code",
      "source": [
        "FCNN.load_state_dict(torch.load('model_weights.pth'))"
      ],
      "metadata": {
        "id": "p0d8eIZdtcjZ"
      },
      "execution_count": null,
      "outputs": []
    },
    {
      "cell_type": "markdown",
      "source": [
        "#### CNN"
      ],
      "metadata": {
        "id": "ahyH_oUYpvUa"
      }
    },
    {
      "cell_type": "code",
      "source": [
        "# model = Sequential([\n",
        "#           layers.Reshape(target_shape=(40,40,1), input_shape=(40,40)),\n",
        "#           layers.Conv2D(128, (3,3), padding='valid', activation='relu'),\n",
        "#           layers.Flatten(),\n",
        "#           layers.Dense(128, activation='relu'),\n",
        "#           layers.Dropout(.5),\n",
        "#           layers.Dense(2, activation='softmax')\n",
        "#         ])\n",
        "import torch.nn.functional as F\n",
        "\n",
        "class ConvNet(nn.Module):\n",
        "    def __init__(self, Nx, Ny):\n",
        "        super(ConvNet, self).__init__()\n",
        "        # Equivalent to Reshape in Keras, but in PyTorch, reshaping is typically done in the forward method.\n",
        "        # Conv2D layer with 128 filters, kernel size of 3x3, padding='valid' implies no padding in PyTorch\n",
        "        self.conv1 = nn.Conv2d(1, 64, kernel_size=2, padding=0)\n",
        "        # Determine the output size of the first convolutional layer\n",
        "        self.out_conv1 = self._calculate_output_size((Nx, Ny), kernel_size=2, padding=0)\n",
        "        # Dense layer with 128 units\n",
        "        self.fc1 = nn.Linear(64 * self.out_conv1[0] * self.out_conv1[1], 64)\n",
        "        # Dropout layer with p=0.5\n",
        "        self.dropout = nn.Dropout(p=0.5)\n",
        "        # Output Dense layer with 2 units for softmax output\n",
        "        self.fc2 = nn.Linear(64, 2)\n",
        "        self.flatten = nn.Flatten()\n",
        "\n",
        "    def forward(self, x):\n",
        "        # Reshape input to have one channel\n",
        "        x = x.view(-1, 1, x.size(1), x.size(2))\n",
        "        # Applying Convolutional Layer\n",
        "        x = F.relu(self.conv1(x))\n",
        "        # Flattening the output of the conv layer\n",
        "        x = x.view(-1, 64 * self.out_conv1[0] * self.out_conv1[1])    # ------------------\n",
        "        # Dense layer with ReLU activation\n",
        "        x = F.relu(self.fc1(x))\n",
        "        # Dropout layer\n",
        "        x = self.dropout(x)\n",
        "        # Output layer with softmax activation\n",
        "        return F.softmax(self.fc2(x))\n",
        "\n",
        "    def _calculate_output_size(self, input_size, kernel_size, padding):\n",
        "        # Calculate output size after convolutional layer\n",
        "        out_size = [(input_size[0] - kernel_size + 2 * padding) + 1,\n",
        "                    (input_size[1] - kernel_size + 2 * padding) + 1]\n",
        "        return out_size\n"
      ],
      "metadata": {
        "id": "4eyt1PidREIM"
      },
      "execution_count": 52,
      "outputs": []
    },
    {
      "cell_type": "code",
      "source": [
        "# import torch\n",
        "# import torch.nn as nn\n",
        "# import torch.nn.functional as F\n",
        "\n",
        "# class ConvNet(nn.Module):\n",
        "#     def __init__(self, Nx, Ny):\n",
        "#         super(ConvNet, self).__init__()\n",
        "#         self.Nx = Nx  # Width of the input matrix\n",
        "#         self.Ny = Ny  # Height of the input matrix\n",
        "\n",
        "#         # Convolutional Layer 1: input channels = 1, output channels = 8, kernel size = 3x3\n",
        "#         self.conv1 = nn.Conv2d(1, 8, kernel_size=3, padding=1)\n",
        "#         # Convolutional Layer 2: input channels = 8, output channels = 16, kernel size = 3x3\n",
        "#         self.conv2 = nn.Conv2d(8, 16, kernel_size=3, padding=1)\n",
        "#         # Max pooling layer reduces size by a factor of 2\n",
        "#         self.pool = nn.MaxPool2d(kernel_size=2, stride=2)\n",
        "\n",
        "#         # Calculate the size of the output from the last conv layer after max pooling\n",
        "#         # This is necessary to know how many input features the first fully connected layer expects\n",
        "#         self.final_dim_x = Nx // 2  # Division by 2 due to max pooling\n",
        "#         self.final_dim_y = Ny // 2\n",
        "\n",
        "#         # Fully Connected Layer\n",
        "#         self.fc1 = nn.Linear(16 * self.final_dim_x * self.final_dim_y, 32)\n",
        "#         # Output layer with a single unit for binary classification\n",
        "#         self.output = nn.Linear(32, 2)\n",
        "\n",
        "#     def forward(self, x):\n",
        "#         x = x.view(-1, 1, self.Nx, self.Ny)\n",
        "#         x = F.relu(self.conv1(x))\n",
        "#         x = F.relu(self.conv2(x))\n",
        "#         x = self.pool(x)\n",
        "#         # Flatten the output for the fully connected layer\n",
        "#         x = x.view(-1, 16 * self.final_dim_x * self.final_dim_y)\n",
        "#         x = F.relu(self.fc1(x))\n",
        "#         x = torch.nn.functional.softmax(self.output(x))\n",
        "#         return x\n",
        "\n"
      ],
      "metadata": {
        "id": "aE_h1CEUd7O1"
      },
      "execution_count": 39,
      "outputs": []
    },
    {
      "cell_type": "code",
      "source": [
        "# model.compile(optimizer='adam',\n",
        "#               loss='binary_crossentropy',\n",
        "#               metrics=['binary_accuracy'])\n",
        "CNN = ConvNet(Nx, Ny).to(device)\n",
        "criterion_CNN = nn.BCELoss()\n",
        "optimizer_CNN = optim.Adam(CNN.parameters(), lr=1e-4, betas=(0.9, 0.999))"
      ],
      "metadata": {
        "id": "qiEhnYvsrOcv"
      },
      "execution_count": 53,
      "outputs": []
    },
    {
      "cell_type": "code",
      "source": [
        "train(CNN, 10, criterion_CNN, optimizer_CNN, train_dataloader)"
      ],
      "metadata": {
        "id": "HBQPkd7RsPuA"
      },
      "execution_count": null,
      "outputs": []
    },
    {
      "cell_type": "code",
      "source": [
        "test(CNN, criterion_CNN, test_dataloader)"
      ],
      "metadata": {
        "colab": {
          "base_uri": "https://localhost:8080/"
        },
        "id": "WOSpMELUtN7j",
        "outputId": "494b1432-7d98-430a-ac96-43d2cd4b3c95"
      },
      "execution_count": 56,
      "outputs": [
        {
          "output_type": "stream",
          "name": "stderr",
          "text": [
            "<ipython-input-52-f45b59c371fa>:39: UserWarning: Implicit dimension choice for softmax has been deprecated. Change the call to include dim=X as an argument.\n",
            "  return F.softmax(self.fc2(x))\n"
          ]
        },
        {
          "output_type": "stream",
          "name": "stdout",
          "text": [
            "Loss: 0.05853045731782913 ,Test accuracy: 0.9765625\n",
            "Loss: 0.0017994147492572665 ,Test accuracy: 1.0\n"
          ]
        }
      ]
    },
    {
      "cell_type": "code",
      "source": [
        "pred_class1, pred_class2 = get_predictions(test_dataloader, CNN)"
      ],
      "metadata": {
        "colab": {
          "base_uri": "https://localhost:8080/"
        },
        "id": "z4dt_1iszAkO",
        "outputId": "bcfb0899-a203-4d3a-9bad-a45852c4d06d"
      },
      "execution_count": 81,
      "outputs": [
        {
          "output_type": "stream",
          "name": "stderr",
          "text": [
            "<ipython-input-52-f45b59c371fa>:39: UserWarning: Implicit dimension choice for softmax has been deprecated. Change the call to include dim=X as an argument.\n",
            "  return F.softmax(self.fc2(x))\n"
          ]
        }
      ]
    },
    {
      "cell_type": "code",
      "source": [
        "plt.scatter(Y_test, pred_class1)\n",
        "plt.scatter(Y_test, pred_class2)"
      ],
      "metadata": {
        "colab": {
          "base_uri": "https://localhost:8080/",
          "height": 447
        },
        "id": "DloldQlHmFNv",
        "outputId": "597fc146-b909-48f3-d40a-04774252ac6c"
      },
      "execution_count": 91,
      "outputs": [
        {
          "output_type": "execute_result",
          "data": {
            "text/plain": [
              "<matplotlib.collections.PathCollection at 0x7cbde4f65270>"
            ]
          },
          "metadata": {},
          "execution_count": 91
        },
        {
          "output_type": "display_data",
          "data": {
            "text/plain": [
              "<Figure size 640x480 with 1 Axes>"
            ],
            "image/png": "[encoded data removed]"
          },
          "metadata": {}
        }
      ]
    },
    {
      "cell_type": "markdown",
      "source": [
        "#### Training and testing on anti-ferromagnetic Ising model case"
      ],
      "metadata": {
        "id": "wFRUTvcrOEyp"
      }
    },
    {
      "cell_type": "markdown",
      "source": [
        "##### FCNN"
      ],
      "metadata": {
        "id": "GBSvKWHaO92g"
      }
    },
    {
      "cell_type": "markdown",
      "source": [
        "###### Training and testing on antiferromagnetic Ising model data"
      ],
      "metadata": {
        "id": "HfC-Y_GOQ6Mg"
      }
    },
    {
      "cell_type": "code",
      "source": [
        "FCNN_anti = neural_network().to(device)\n",
        "criterion_FCNN_anti = nn.BCELoss()\n",
        "optimizer_FCNN_anti = optim.Adam(FCNN_anti.parameters(), lr=lr, betas=(0.9, 0.999))"
      ],
      "metadata": {
        "id": "kiP7p_A0LZp0"
      },
      "execution_count": null,
      "outputs": []
    },
    {
      "cell_type": "code",
      "source": [
        "num_epochs = 10\n",
        "train(FCNN_anti, num_epochs, criterion_FCNN_anti, optimizer_FCNN_anti, train_dataloader_anti)"
      ],
      "metadata": {
        "id": "pK5_G-VuOmNe"
      },
      "execution_count": null,
      "outputs": []
    },
    {
      "cell_type": "code",
      "source": [
        "test(FCNN_anti, criterion_FCNN_anti, test_dataloader_anti)"
      ],
      "metadata": {
        "colab": {
          "base_uri": "https://localhost:8080/"
        },
        "outputId": "99c744c2-69e2-41f2-af7a-33c3b28339e5",
        "id": "H_KWvB7mOmNf"
      },
      "execution_count": null,
      "outputs": [
        {
          "output_type": "stream",
          "name": "stdout",
          "text": [
            "Loss: 0.10503491759300232 ,Test accuracy: 0.9609375\n",
            "Loss: 0.3403957784175873 ,Test accuracy: 0.9296875\n"
          ]
        }
      ]
    },
    {
      "cell_type": "markdown",
      "source": [
        "###### Saving/loading the trained weights"
      ],
      "metadata": {
        "id": "mpcDN1FDOmNg"
      }
    },
    {
      "cell_type": "code",
      "source": [
        "# torch.save(FCNN_anti.state_dict(), 'NeuralNetwork_weights_anti64.pth')"
      ],
      "metadata": {
        "id": "F-taUz4oOmNh"
      },
      "execution_count": null,
      "outputs": []
    },
    {
      "cell_type": "code",
      "source": [
        "# FCNN_anti.load_state_dict(torch.load('NeuralNetwork_weights_anti64.pth'))"
      ],
      "metadata": {
        "id": "TGu2nXdQOmNi"
      },
      "execution_count": null,
      "outputs": []
    },
    {
      "cell_type": "markdown",
      "source": [
        "###### Results"
      ],
      "metadata": {
        "id": "qeD9t5eDQAPt"
      }
    },
    {
      "cell_type": "code",
      "source": [
        "pred_class1, pred_class2 = get_predictions(test_dataloader_anti, FCNN_anti)"
      ],
      "metadata": {
        "id": "fLYlbaIkP4w3"
      },
      "execution_count": null,
      "outputs": []
    },
    {
      "cell_type": "code",
      "source": [
        "plt.scatter(Y_test_anti, pred_class1)\n",
        "plt.scatter(Y_test_anti, pred_class2)"
      ],
      "metadata": {
        "id": "iXfdAAOSP4w3"
      },
      "execution_count": null,
      "outputs": []
    },
    {
      "cell_type": "markdown",
      "source": [
        "##### CNN"
      ],
      "metadata": {
        "id": "MgyzloBIPHai"
      }
    },
    {
      "cell_type": "markdown",
      "source": [
        "###### Training and testing on antiferromagnetic Ising model data"
      ],
      "metadata": {
        "id": "oPc7MBUfQd2z"
      }
    },
    {
      "cell_type": "code",
      "source": [
        "CNN_anti = ConvNet().to(device)\n",
        "criterion_CNN_anti = nn.BCELoss()\n",
        "optimizer_CNN_anti = optim.Adam(CNN_anti.parameters(), lr=0.0001, betas=(0.9, 0.999))"
      ],
      "metadata": {
        "id": "BczVa9gKPTHz"
      },
      "execution_count": null,
      "outputs": []
    },
    {
      "cell_type": "code",
      "source": [
        "num_epochs = 10\n",
        "train(CNN_anti, num_epochs, criterion_CNN_anti, optimizer_CNN_anti, train_dataloader_anti)"
      ],
      "metadata": {
        "id": "Qzr0x5hOPTH7"
      },
      "execution_count": null,
      "outputs": []
    },
    {
      "cell_type": "code",
      "source": [
        "test(CNN_anti, criterion_CNN_anti, test_dataloader_anti)"
      ],
      "metadata": {
        "colab": {
          "base_uri": "https://localhost:8080/"
        },
        "outputId": "99c744c2-69e2-41f2-af7a-33c3b28339e5",
        "id": "vgHDSqD9PTH8"
      },
      "execution_count": null,
      "outputs": [
        {
          "output_type": "stream",
          "name": "stdout",
          "text": [
            "Loss: 0.10503491759300232 ,Test accuracy: 0.9609375\n",
            "Loss: 0.3403957784175873 ,Test accuracy: 0.9296875\n"
          ]
        }
      ]
    },
    {
      "cell_type": "markdown",
      "source": [
        "###### Saving/loading the trained weights"
      ],
      "metadata": {
        "id": "IWCxL9rpPTH8"
      }
    },
    {
      "cell_type": "code",
      "source": [
        "# torch.save(CNN_anti.state_dict(), 'CNN_weights_anti64.pth')"
      ],
      "metadata": {
        "id": "m9QefMI6PTH8"
      },
      "execution_count": null,
      "outputs": []
    },
    {
      "cell_type": "code",
      "source": [
        "# CNN_anti.load_state_dict(torch.load('CNN_weights_anti64.pth'))"
      ],
      "metadata": {
        "id": "96cFQyV0PTH9"
      },
      "execution_count": null,
      "outputs": []
    },
    {
      "cell_type": "markdown",
      "source": [
        "###### Results"
      ],
      "metadata": {
        "id": "rTI3oT8bQFvU"
      }
    },
    {
      "cell_type": "code",
      "source": [
        "pred_class1, pred_class2 = get_predictions(test_dataloader_anti, CNN_anti)"
      ],
      "metadata": {
        "id": "J6DFRlzLQFvd"
      },
      "execution_count": null,
      "outputs": []
    },
    {
      "cell_type": "code",
      "source": [
        "plt.scatter(Y_test_anti, pred_class1)\n",
        "plt.scatter(Y_test_anti, pred_class2)"
      ],
      "metadata": {
        "id": "qjyULd2ZQFvd"
      },
      "execution_count": null,
      "outputs": []
    },
    {
      "cell_type": "code",
      "source": [
        "# Implement cross validation\n",
        "# Re-implement training the anti_ferro data on an FCNN and a CNN\n",
        "# Make changes in the anti_ferro and use our ferro model to predict it"
      ],
      "metadata": {
        "id": "zPYLfI-iomFn"
      },
      "execution_count": null,
      "outputs": []
    },
    {
      "cell_type": "markdown",
      "source": [
        "#### Using model trained on ferromagnetic data to predict antiferromagnetic phase transition"
      ],
      "metadata": {
        "id": "LvQ7pDYrRDjB"
      }
    },
    {
      "cell_type": "markdown",
      "source": [
        "FCNN"
      ],
      "metadata": {
        "id": "BMHTSGOfR6vU"
      }
    },
    {
      "cell_type": "code",
      "source": [
        "test(FCNN, criterion_FCNN, dataloader_anti_modified)"
      ],
      "metadata": {
        "colab": {
          "base_uri": "https://localhost:8080/"
        },
        "outputId": "99c744c2-69e2-41f2-af7a-33c3b28339e5",
        "id": "nsLLzMiwRlZt"
      },
      "execution_count": null,
      "outputs": [
        {
          "output_type": "stream",
          "name": "stdout",
          "text": [
            "Loss: 0.10503491759300232 ,Test accuracy: 0.9609375\n",
            "Loss: 0.3403957784175873 ,Test accuracy: 0.9296875\n"
          ]
        }
      ]
    },
    {
      "cell_type": "code",
      "source": [
        "pred_class1, pred_class2 = get_predictions(dataloader_anti_modified, FCNN)"
      ],
      "metadata": {
        "id": "9iiye8pXRlZu"
      },
      "execution_count": null,
      "outputs": []
    },
    {
      "cell_type": "code",
      "source": [
        "plt.scatter(Y_anti_modified, pred_class1)\n",
        "plt.scatter(Y_anti_modified, pred_class2)"
      ],
      "metadata": {
        "id": "dD30RR7ZRlZu"
      },
      "execution_count": null,
      "outputs": []
    },
    {
      "cell_type": "markdown",
      "source": [
        "CNN"
      ],
      "metadata": {
        "id": "2tLa_DAXR8qE"
      }
    },
    {
      "cell_type": "code",
      "source": [
        "test(CNN, criterion_CNN, dataloader_anti_modified)"
      ],
      "metadata": {
        "colab": {
          "base_uri": "https://localhost:8080/"
        },
        "outputId": "99c744c2-69e2-41f2-af7a-33c3b28339e5",
        "id": "w3Ykm-vJSAzV"
      },
      "execution_count": null,
      "outputs": [
        {
          "output_type": "stream",
          "name": "stdout",
          "text": [
            "Loss: 0.10503491759300232 ,Test accuracy: 0.9609375\n",
            "Loss: 0.3403957784175873 ,Test accuracy: 0.9296875\n"
          ]
        }
      ]
    },
    {
      "cell_type": "code",
      "source": [
        "pred_class1, pred_class2 = get_predictions(dataloader_anti_modified, CNN)"
      ],
      "metadata": {
        "id": "lLNbDBOMSAzc"
      },
      "execution_count": null,
      "outputs": []
    },
    {
      "cell_type": "code",
      "source": [
        "plt.scatter(Y_anti_modified, pred_class1)\n",
        "plt.scatter(Y_anti_modified, pred_class2)"
      ],
      "metadata": {
        "id": "7DNpsLmsSAzc"
      },
      "execution_count": null,
      "outputs": []
    },
    {
      "cell_type": "markdown",
      "source": [
        "#### Previous code"
      ],
      "metadata": {
        "id": "sXnoLyrUTSb6"
      }
    },
    {
      "cell_type": "markdown",
      "source": [
        "-----------------------------------------------------\n",
        "Write a code to evaluate the model, you may do so by adding evaluation related steps in the training loop as well.<br>\n",
        "Plot the graphs as required.<br>\n",
        "Plot the graph by testing the model on NNN case as well.<br>\n",
        "Code a CNN model and perform all the actions as performed on an neural network."
      ],
      "metadata": {
        "id": "9W3iZDGskNdQ"
      }
    },
    {
      "cell_type": "code",
      "execution_count": null,
      "metadata": {
        "id": "WpH37d3OZ5ee",
        "outputId": "51d82fd6-6f01-4c43-e210-58caab927f99"
      },
      "outputs": [
        {
          "name": "stdout",
          "output_type": "stream",
          "text": [
            "MODEL1\n",
            "122/122 [==============================] - 4s 2ms/step - loss: 0.1936 - accuracy: 0.9279\n",
            "MODEL3\n",
            "122/122 [==============================] - 4s 2ms/step - loss: 0.1081 - accuracy: 0.9708\n",
            "MODEL4\n",
            "122/122 [==============================] - 4s 2ms/step - loss: 0.1187 - accuracy: 0.9697\n"
          ]
        }
      ],
      "source": [
        "print('MODEL1')\n",
        "model1 = keras.Sequential()\n",
        "model1 = neural(model1, X_train1, X_test1, y_train1, y_test1)\n",
        "print('MODEL3')\n",
        "model3 = keras.Sequential()\n",
        "model3 = neural(model3, X_train3, X_test3, y_train3, y_test3)\n",
        "print('MODEL4')\n",
        "model4 = keras.Sequential()\n",
        "model4 = neural(model4, X_train4, X_test4, y_train4, y_test4)\n"
      ]
    },
    {
      "cell_type": "code",
      "execution_count": null,
      "metadata": {
        "id": "5SoVN2ljZ5ef",
        "outputId": "1429eff5-a274-4649-b257-57f48f156311"
      },
      "outputs": [
        {
          "data": {
            "text/plain": [
              "Text(0, 0.5, 'Accuracy')"
            ]
          },
          "execution_count": 272,
          "metadata": {},
          "output_type": "execute_result"
        },
        {
          "data": {
            "image/png": "[encoded data removed]",
            "text/plain": [
              "<Figure size 432x288 with 1 Axes>"
            ]
          },
          "metadata": {
            "needs_background": "light"
          },
          "output_type": "display_data"
        }
      ],
      "source": [
        "plt.plot([10,20,30], [0.9279,0.9644, 0.9708])\n",
        "plt.scatter([10,20,30], [0.9279,0.9644, 0.9708])\n",
        "plt.xlabel('Lattice size')\n",
        "plt.ylabel('Accuracy')"
      ]
    },
    {
      "cell_type": "code",
      "execution_count": null,
      "metadata": {
        "id": "BADZ6t5TZ5ef"
      },
      "outputs": [],
      "source": [
        "def preds(model, X_test, size):\n",
        "    l = []\n",
        "\n",
        "#     print('PREDICTIONS:')\n",
        "    for i in range(1,size):\n",
        "#         print('i=',i)\n",
        "        l.append(model.predict(X_test[(i-1):(i)], verbose = 0))\n",
        "    l = np.array(l)\n",
        "\n",
        "    return l"
      ]
    },
    {
      "cell_type": "code",
      "execution_count": null,
      "metadata": {
        "id": "s284mcL9Z5ef"
      },
      "outputs": [],
      "source": [
        "def sortIt(l, y):\n",
        "    size = l.shape[0]\n",
        "    a = np.zeros(size)\n",
        "    b = np.zeros(size)\n",
        "    l1 = np.zeros(size)\n",
        "    l2 = np.zeros(size)\n",
        "    for x in range(size):\n",
        "      a[x]=l[x][0][0]\n",
        "      b[x]=l[x][0][1]\n",
        "      l1[x]=y[x]\n",
        "\n",
        "    c = np.array([l1, a])\n",
        "    sorted_c = c.T[l1.argsort()]\n",
        "\n",
        "    d = np.array([l1, b])\n",
        "    sorted_d = d.T[l1.argsort()]\n",
        "\n",
        "    return sorted_c, sorted_d"
      ]
    },
    {
      "cell_type": "code",
      "execution_count": null,
      "metadata": {
        "id": "hr-CIgUaZ5ef"
      },
      "outputs": [],
      "source": [
        "def plotIt(sorted, y_test, yes=True):\n",
        "\n",
        "    t = np.arange(1, 3.51, 0.1)\n",
        "    vals = np.zeros(t.shape[0])\n",
        "    x_axisc = sorted[:,0]\n",
        "    y_axis = sorted[:,1]\n",
        "    k2=0\n",
        "\n",
        "    for i in t:\n",
        "        val=0\n",
        "        count=0\n",
        "        flag=0\n",
        "        k=0\n",
        "        for j in x_axis:\n",
        "            if(i==j):\n",
        "                val=val+y_axis[k]\n",
        "                count=count+1\n",
        "                flag=1\n",
        "            k=k+1\n",
        "        if(flag==1):\n",
        "            vals[k2] = val/count\n",
        "        if(flag==0 and k2!=0):\n",
        "            vals[k2] = vals[k2-1]\n",
        "        k2+=1\n",
        "\n",
        "    plt.plot(t, vals)\n",
        "\n",
        "#     if(yes):\n",
        "#         first_line = LineString(np.column_stack((t, vals)))\n",
        "#         return first_line\n",
        "#     else:\n",
        "#         second_line = LineString(np.column_stack((t, vals)))\n",
        "#         return second_line"
      ]
    },
    {
      "cell_type": "code",
      "execution_count": null,
      "metadata": {
        "id": "IqvqVG2tZ5ef"
      },
      "outputs": [],
      "source": [
        "l1 = preds(model1, X_test1, size)"
      ]
    },
    {
      "cell_type": "code",
      "execution_count": null,
      "metadata": {
        "id": "8L9SkZYEZ5ef"
      },
      "outputs": [],
      "source": [
        "# l = preds(model, X_test2, size)\n"
      ]
    },
    {
      "cell_type": "code",
      "execution_count": null,
      "metadata": {
        "id": "E4neWAjpZ5ef"
      },
      "outputs": [],
      "source": [
        "l3 = preds(model3, X_test3, size)\n"
      ]
    },
    {
      "cell_type": "code",
      "execution_count": null,
      "metadata": {
        "id": "bnCR4R83Z5eg"
      },
      "outputs": [],
      "source": [
        "# l4 = preds(model3, X_test4, size)"
      ]
    },
    {
      "cell_type": "code",
      "execution_count": null,
      "metadata": {
        "id": "_krNFGidZ5eg"
      },
      "outputs": [],
      "source": [
        "def plot_all(model, l, X_test2, y_test2, Y_test2, size = 100):\n",
        "\n",
        "#     l = preds(model, X_test2, size)\n",
        "    sorted_c, sorted_d = sortIt(l, Y_test2)\n",
        "    plotIt(sorted_c, y_test2)\n",
        "    plotIt(sorted_d, y_test2)\n",
        "    return sorted_c[:,0], sorted_c[:,1], sorted_d[:,0], sorted_d[:,1], val1, val2"
      ]
    },
    {
      "cell_type": "code",
      "execution_count": null,
      "metadata": {
        "scrolled": true,
        "id": "-nU82v-KZ5eg",
        "outputId": "0eb79da6-800f-44b3-98f6-d3c2adbad410"
      },
      "outputs": [
        {
          "data": {
            "text/plain": [
              "Text(0, 0.5, 'Output Layer')"
            ]
          },
          "execution_count": 270,
          "metadata": {},
          "output_type": "execute_result"
        },
        {
          "data": {
            "image/png": "[encoded data removed]",
            "text/plain": [
              "<Figure size 432x288 with 1 Axes>"
            ]
          },
          "metadata": {
            "needs_background": "light"
          },
          "output_type": "display_data"
        }
      ],
      "source": [
        "from shapely.geometry import LineString\n",
        "\n",
        "scx1, scy1, sdx1, sdy1 = plot_all(model1, l1, X_test1, y_test1, Y_test1)\n",
        "plt.scatter(scx1, scy1)\n",
        "plt.scatter(sdx1, sdy1)\n",
        "plt.plot(np.linspace(2.27,2.27,scy3.shape[0]),scy3)\n",
        "# scx2, scy2, sdx2, sdy2 = plot_all(model3, l, X_test2, y_test2, Y_test2)\n",
        "# scx3, scy3, sdx3, sdy3 = plot_all(model3, l3, X_test3, y_test3, Y_test3)\n",
        "plt.xlabel('T/J')\n",
        "plt.ylabel('Output Layer')\n",
        "\n"
      ]
    },
    {
      "cell_type": "code",
      "execution_count": null,
      "metadata": {
        "id": "jBDBS_aJZ5eg",
        "outputId": "e3eeed86-e6d2-4ea1-d6be-de648c29d4c1"
      },
      "outputs": [
        {
          "data": {
            "text/plain": [
              "Text(0, 0.5, 'Output Layer')"
            ]
          },
          "execution_count": 259,
          "metadata": {},
          "output_type": "execute_result"
        },
        {
          "data": {
            "image/png": "[encoded data removed]",
            "text/plain": [
              "<Figure size 432x288 with 1 Axes>"
            ]
          },
          "metadata": {
            "needs_background": "light"
          },
          "output_type": "display_data"
        }
      ],
      "source": [
        "scx2, scy2, sdx2, sdy2 = plot_all(model3, l, X_test2, y_test2, Y_test2)\n",
        "plt.scatter(scx2, scy2)\n",
        "plt.scatter(sdx2, sdy2)\n",
        "plt.plot(np.linspace(2.27,2.27,scy3.shape[0]),scy3)\n",
        "plt.xlabel('T/J')\n",
        "plt.ylabel('Output Layer')"
      ]
    },
    {
      "cell_type": "code",
      "execution_count": null,
      "metadata": {
        "id": "u35lZI77Z5eg",
        "outputId": "9af944ae-5aad-4d1e-bca4-084bbd2e1aa8"
      },
      "outputs": [
        {
          "data": {
            "text/plain": [
              "Text(0, 0.5, 'Output Layer')"
            ]
          },
          "execution_count": 261,
          "metadata": {},
          "output_type": "execute_result"
        },
        {
          "data": {
            "image/png": "[encoded data removed]",
            "text/plain": [
              "<Figure size 432x288 with 1 Axes>"
            ]
          },
          "metadata": {
            "needs_background": "light"
          },
          "output_type": "display_data"
        }
      ],
      "source": [
        "plt.scatter(scx3, scy3)\n",
        "plt.scatter(sdx3, sdy3)\n",
        "# plt.scatter(sdx3, sdy3)\n",
        "plt.plot(np.linspace(2.27,2.27,scy3.shape[0]),scy3, color='g')\n",
        "plt.xlabel('T/J')\n",
        "plt.ylabel('Output Layer')"
      ]
    },
    {
      "cell_type": "code",
      "execution_count": null,
      "metadata": {
        "id": "UlV7QaWKZ5eg"
      },
      "outputs": [],
      "source": [
        "def plotIt2(sorted, y_test, latt):\n",
        "\n",
        "    t = np.arange(1, 3.51, 0.1)\n",
        "    vals = np.zeros(t.shape[0])\n",
        "    x_axisc = sorted[:,0]\n",
        "    y_axis = sorted[:,1]\n",
        "    k2=0\n",
        "\n",
        "    for i in t:\n",
        "        val=0\n",
        "        count=0\n",
        "        flag=0\n",
        "        k=0\n",
        "        for j in x_axis:\n",
        "            if(i==j):\n",
        "                val=val+y_axis[k]\n",
        "                count=count+1\n",
        "                flag=1\n",
        "            k=k+1\n",
        "        if(flag==1):\n",
        "            vals[k2] = val/count\n",
        "        if(flag==0 and k2!=0):\n",
        "            vals[k2] = vals[k2-1]\n",
        "        k2+=1\n",
        "\n",
        "    plt.plot(t, (vals-2.27)*(latt))"
      ]
    },
    {
      "cell_type": "code",
      "execution_count": null,
      "metadata": {
        "id": "9aV4w6YAZ5eh"
      },
      "outputs": [],
      "source": [
        "# plt.scatter(scx1, (scy1-2.27)*(10))\n",
        "# plt.scatter(sdx1, (sdy1-2.27)*(10))\n",
        "# sorted_c, sorted_d = sortIt(l, Y_test1)\n",
        "# plotIt2(sorted_c, y_test1, 10)\n",
        "# plotIt2(sorted_d, y_test1, 10)\n",
        "# plt.xlabel('$tL^{1/v}$')\n",
        "# plt.ylabel('Output Layer')"
      ]
    },
    {
      "cell_type": "code",
      "execution_count": null,
      "metadata": {
        "id": "P1kBTfArZ5eh"
      },
      "outputs": [],
      "source": []
    },
    {
      "cell_type": "markdown",
      "metadata": {
        "id": "bYkujZv-1YfP"
      },
      "source": [
        "##### CNN"
      ]
    },
    {
      "cell_type": "code",
      "execution_count": null,
      "metadata": {
        "colab": {
          "base_uri": "https://localhost:8080/"
        },
        "id": "vnSEJIB0KFKT",
        "outputId": "9b38133d-8bc5-4240-cb0b-ca0054c9f968"
      },
      "outputs": [
        {
          "name": "stdout",
          "output_type": "stream",
          "text": [
            "Epoch 1/10\n",
            "32/32 [==============================] - 16s 369ms/step - loss: 0.5765 - binary_accuracy: 0.9080 - val_loss: 0.0919 - val_binary_accuracy: 0.9700\n",
            "Epoch 2/10\n",
            "32/32 [==============================] - 11s 341ms/step - loss: 0.0624 - binary_accuracy: 0.9820 - val_loss: 0.0451 - val_binary_accuracy: 0.9800\n",
            "Epoch 3/10\n",
            "32/32 [==============================] - 11s 345ms/step - loss: 0.0301 - binary_accuracy: 0.9930 - val_loss: 0.0032 - val_binary_accuracy: 1.0000\n",
            "Epoch 4/10\n",
            "32/32 [==============================] - 11s 338ms/step - loss: 0.0195 - binary_accuracy: 0.9950 - val_loss: 0.0496 - val_binary_accuracy: 0.9900\n",
            "Epoch 5/10\n",
            "32/32 [==============================] - 11s 342ms/step - loss: 0.0116 - binary_accuracy: 0.9960 - val_loss: 0.0022 - val_binary_accuracy: 1.0000\n",
            "Epoch 6/10\n",
            "32/32 [==============================] - 9s 289ms/step - loss: 0.0056 - binary_accuracy: 0.9980 - val_loss: 0.0131 - val_binary_accuracy: 0.9900\n",
            "Epoch 7/10\n",
            "32/32 [==============================] - 9s 288ms/step - loss: 0.0029 - binary_accuracy: 0.9990 - val_loss: 0.0180 - val_binary_accuracy: 1.0000\n",
            "Epoch 8/10\n",
            "32/32 [==============================] - 9s 281ms/step - loss: 0.0051 - binary_accuracy: 0.9990 - val_loss: 0.0049 - val_binary_accuracy: 1.0000\n",
            "Epoch 9/10\n",
            "32/32 [==============================] - 10s 299ms/step - loss: 0.0030 - binary_accuracy: 1.0000 - val_loss: 0.0152 - val_binary_accuracy: 0.9900\n",
            "Epoch 10/10\n",
            "32/32 [==============================] - 9s 276ms/step - loss: 0.0024 - binary_accuracy: 1.0000 - val_loss: 0.0158 - val_binary_accuracy: 0.9900\n"
          ]
        }
      ],
      "source": [
        "model = Sequential([\n",
        "          layers.Reshape(target_shape=(40,40,1), input_shape=(40,40)),\n",
        "          layers.Conv2D(128, (3,3), padding='valid', activation='relu'),\n",
        "          layers.Flatten(),\n",
        "          layers.Dense(128, activation='relu'),\n",
        "          layers.Dropout(.5),\n",
        "          layers.Dense(2, activation='softmax')\n",
        "        ])\n",
        "\n",
        "\n",
        "model.compile(optimizer='adam',\n",
        "              loss='binary_crossentropy',\n",
        "              metrics=['binary_accuracy'])\n",
        "\n",
        "hist = model.fit(X_train4[:1000], y_train4[:1000], epochs=10, batch_size=32, validation_data = (X_test4[:100], y_test4[:100]))\n"
      ]
    }
  ],
  "metadata": {
    "colab": {
      "provenance": [],
      "gpuType": "T4",
      "include_colab_link": true
    },
    "kernelspec": {
      "display_name": "Python 3",
      "name": "python3"
    },
    "language_info": {
      "codemirror_mode": {
        "name": "ipython",
        "version": 3
      },
      "file_extension": ".py",
      "mimetype": "text/x-python",
      "name": "python",
      "nbconvert_exporter": "python",
      "pygments_lexer": "ipython3",
      "version": "3.9.7"
    },
    "accelerator": "GPU"
  },
  "nbformat": 4,
  "nbformat_minor": 0
}