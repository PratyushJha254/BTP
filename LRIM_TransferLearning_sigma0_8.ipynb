{
  "nbformat": 4,
  "nbformat_minor": 0,
  "metadata": {
    "colab": {
      "provenance": [],
      "gpuType": "T4",
      "include_colab_link": true
    },
    "kernelspec": {
      "name": "python3",
      "display_name": "Python 3"
    },
    "language_info": {
      "name": "python"
    },
    "accelerator": "GPU"
  },
  "cells": [
    {
      "cell_type": "markdown",
      "metadata": {
        "id": "view-in-github",
        "colab_type": "text"
      },
      "source": [
        "<a href=\"https://colab.research.google.com/github/PratyushJha254/BTP/blob/main/LRIM_TransferLearning_sigma0_8.ipynb\" target=\"_parent\"><img src=\"https://colab.research.google.com/assets/colab-badge.svg\" alt=\"Open In Colab\"/></a>"
      ]
    },
    {
      "cell_type": "markdown",
      "source": [
        "# BTP"
      ],
      "metadata": {
        "id": "P0Bia1WipsUn"
      }
    },
    {
      "cell_type": "code",
      "execution_count": 1,
      "metadata": {
        "id": "CH9ENwKBYeOY"
      },
      "outputs": [],
      "source": [
        "import numpy as np\n",
        "from matplotlib import pyplot as plt\n",
        "import tensorflow as tf\n",
        "from tensorflow import keras\n",
        "from sklearn.model_selection import train_test_split\n",
        "from keras.utils import to_categorical\n",
        "import pickle\n",
        "from sklearn.manifold import TSNE\n",
        "import numpy as np\n",
        "import matplotlib.pyplot as plt\n",
        "import matplotlib.colors as mcol\n",
        "import matplotlib.cm as cm\n",
        "from keras.utils import to_categorical\n",
        "import keras.layers as layers\n",
        "from keras import Sequential\n",
        "from numba import jit\n",
        "\n",
        "import numpy as np\n",
        "import torch\n",
        "import torch.nn as nn\n",
        "import torch.optim as optim\n",
        "from torch.utils.data import Dataset, DataLoader\n",
        "import torchvision.utils as vutils\n",
        "import matplotlib.pyplot as plt\n",
        "import sys\n",
        "from torch.autograd import Variable\n",
        "from torch.autograd import grad as torch_grad\n",
        "import seaborn as sns\n"
      ]
    },
    {
      "cell_type": "code",
      "source": [
        "\n",
        "nu_G = 10\n",
        "Ny = 64\n",
        "Nx = 64\n",
        "nc = 1\n",
        "nz = 100\n",
        "ngf = 64\n",
        "ndf = 64\n",
        "num_epochs = 50\n",
        "lr = 0.001\n",
        "beta1 = 0.5\n",
        "ngpu = 1\n",
        "N = Ny * Nx\n",
        "device = torch.device('cuda:0' if (torch.cuda.is_available() and ngpu > 0) else 'cpu')"
      ],
      "metadata": {
        "id": "G0UzsRA7hLJk"
      },
      "execution_count": 2,
      "outputs": []
    },
    {
      "cell_type": "markdown",
      "source": [
        "### Plot function"
      ],
      "metadata": {
        "id": "COj_-UnAXe3u"
      }
    },
    {
      "cell_type": "code",
      "source": [
        "def avg_prob(unique_temperatures, predictions, temperatures):\n",
        "  # Initialize an array to store average prediction probabilities for each unique temperature\n",
        "  average_probabilities = np.zeros_like(unique_temperatures, dtype=float)\n",
        "\n",
        "  # Calculate average prediction probability for each unique temperature\n",
        "  for i, temp in enumerate(unique_temperatures):\n",
        "      # Find indices corresponding to the current unique temperature\n",
        "      temp_indices = np.where(temperatures == temp)\n",
        "      # Extract prediction probabilities for these indices\n",
        "      temp_predictions = predictions[temp_indices]\n",
        "      # Calculate average prediction probability\n",
        "      average_prob = np.mean(temp_predictions)\n",
        "      # Store the average probability\n",
        "      average_probabilities[i] = average_prob\n",
        "  return average_probabilities"
      ],
      "metadata": {
        "id": "dHOtcRFsVuPa"
      },
      "execution_count": 3,
      "outputs": []
    },
    {
      "cell_type": "code",
      "source": [
        "import numpy as np\n",
        "import matplotlib.pyplot as plt\n",
        "\n",
        "# Assuming 'predictions' is the array containing prediction probabilities\n",
        "# and 'temperatures' is the array containing corresponding temperatures\n",
        "def plot_proba(temperatures, predictions1, predictions2, label1 = 'Ordered state', label2 = 'Disordered state'):\n",
        "# Calculate unique temperature values and their corresponding indices\n",
        "  unique_temperatures, indices = np.unique(temperatures, return_inverse=True)\n",
        "  avg_proba1 = avg_prob(unique_temperatures, predictions1, temperatures)\n",
        "  avg_proba2 = avg_prob(unique_temperatures, predictions2, temperatures)\n",
        "\n",
        "  # Plot the average prediction probabilities against temperature\n",
        "  plt.figure(figsize=(8, 6))\n",
        "  plt.plot(unique_temperatures, avg_proba1, marker='o', linestyle='-', label = label1)\n",
        "  plt.plot(unique_temperatures, avg_proba2, marker='o', linestyle='-', label = label2)\n",
        "  plt.legend()\n",
        "  plt.xlabel('Temperature')\n",
        "  plt.ylabel('Average Prediction Probability')\n",
        "  plt.title('Average Prediction Probability per Temperature')\n",
        "\n",
        "  plt.grid(True)\n",
        "  plt.show()\n"
      ],
      "metadata": {
        "id": "WfvDi2WNS6B1"
      },
      "execution_count": 4,
      "outputs": []
    },
    {
      "cell_type": "markdown",
      "source": [
        "### Concatenate npz files"
      ],
      "metadata": {
        "id": "5bxg3KIwc0W7"
      }
    },
    {
      "cell_type": "code",
      "source": [
        "def combine_npz_files(file1, file2, combined_file):\n",
        "    # Load data and labels from the first .npz file\n",
        "    data1 = np.load(file1)['X']\n",
        "    labels1 = np.load(file1)['y']\n",
        "\n",
        "    # Load data and labels from the second .npz file\n",
        "    data2 = np.load(file2)['X']\n",
        "    labels2 = np.load(file2)['y']\n",
        "\n",
        "    # Concatenate data and labels along the appropriate axis\n",
        "    combined_data = np.concatenate((data1, data2), axis=0)\n",
        "    combined_labels = np.concatenate((labels1, labels2), axis=0)\n",
        "\n",
        "    # Save the combined data and labels into a new .npz file\n",
        "    np.savez(combined_file, X=combined_data, y=combined_labels)"
      ],
      "metadata": {
        "id": "IsCsHCNuc4u7"
      },
      "execution_count": 5,
      "outputs": []
    },
    {
      "cell_type": "markdown",
      "source": [
        "### Model"
      ],
      "metadata": {
        "id": "3A3wbLIJpZjQ"
      }
    },
    {
      "cell_type": "markdown",
      "source": [
        "#### Accuracy, train and test functions"
      ],
      "metadata": {
        "id": "RZDqQL9sqtt5"
      }
    },
    {
      "cell_type": "code",
      "source": [
        "def calculate_accuracy(outputs, labels):\n",
        "    # Threshold the outputs at 0.5 to get binary predictions: below 0.5 becomes 0, above becomes 1\n",
        "    predicted = (outputs > 0.5).float()\n",
        "\n",
        "    # The labels need to have the same dimensions as the predictions for comparison\n",
        "    # Assuming labels are already in the correct shape (batch_size, 1) or (batch_size,)\n",
        "    # If not, you might need to adjust labels' shape, e.g., labels = labels.view(-1, 1)\n",
        "\n",
        "    # Calculate the number of correct predictions\n",
        "    correct = (predicted == labels).float().sum().item()/2\n",
        "\n",
        "    # Calculate the total number of labels (which is also the batch size)\n",
        "    total = labels.size(0)\n",
        "\n",
        "    # Calculate accuracy as the percentage of correct predictions\n",
        "    accuracy = correct / total\n",
        "    return accuracy\n"
      ],
      "metadata": {
        "id": "hOTDhh6OcgX9"
      },
      "execution_count": 6,
      "outputs": []
    },
    {
      "cell_type": "code",
      "source": [
        "import numpy as np\n",
        "\n",
        "def calculate_accuracy_np(outputs, labels):\n",
        "    # Threshold the outputs at 0.5 to get binary predictions: below 0.5 becomes 0, above becomes 1\n",
        "    predicted = (outputs > 0.5).astype(float)\n",
        "\n",
        "    # The labels need to have the same dimensions as the predictions for comparison\n",
        "    # Assuming labels are already in the correct shape (batch_size, 1) or (batch_size,)\n",
        "    # If not, you might need to adjust labels' shape\n",
        "\n",
        "    # Calculate the number of correct predictions\n",
        "    correct = np.sum(predicted == labels).astype(float) / 2\n",
        "\n",
        "    # Calculate the total number of labels (which is also the batch size)\n",
        "    total = labels.shape[0]\n",
        "\n",
        "    # Calculate accuracy as the percentage of correct predictions\n",
        "    accuracy = correct / total\n",
        "    return accuracy\n"
      ],
      "metadata": {
        "id": "zxxxVsHS1gjc"
      },
      "execution_count": 7,
      "outputs": []
    },
    {
      "cell_type": "code",
      "source": [
        "def train(model, num_epochs, criterion, optimizer, train_dataloader):\n",
        "  model.train()\n",
        "  for epoch in range(num_epochs):\n",
        "    for i, (x, label) in enumerate(train_dataloader):\n",
        "      x = x.to(device).float()\n",
        "      label = label.to(device).float()\n",
        "      b_size = x.size(0)\n",
        "      model.zero_grad()\n",
        "      output = model(x)\n",
        "      # if(epoch==0 and i==0):\n",
        "      #   print(output)\n",
        "      error = criterion(output, label)\n",
        "      error.backward()\n",
        "      optimizer.step()\n",
        "      acc_train = calculate_accuracy(output, label)\n",
        "      if i % 2 == 0:\n",
        "        print('Loss:', error.item(),',Train accuracy:', acc_train)"
      ],
      "metadata": {
        "id": "nOqtvmF4R72B"
      },
      "execution_count": 70,
      "outputs": []
    },
    {
      "cell_type": "code",
      "source": [
        "def test(model, criterion, test_dataloader):\n",
        "    for i, (x, label) in enumerate(test_dataloader):\n",
        "      x = x.to(device).float()\n",
        "      label = label.to(device).float()\n",
        "      output = model(x)\n",
        "      error = criterion(output, label)\n",
        "      acc_train = calculate_accuracy(output, label)\n",
        "      # if i % 20 == 0:\n",
        "      print(i,':: Loss:', error.item(),',Test accuracy:', acc_train)"
      ],
      "metadata": {
        "id": "lkWQ7iweqBZ9"
      },
      "execution_count": 9,
      "outputs": []
    },
    {
      "cell_type": "code",
      "source": [
        "def get_predictions(test_loader, model):\n",
        "    # Assuming `test_loader` is your DataLoader for the test dataset\n",
        "    # Initialize lists to store predictions for each class\n",
        "    model.eval()\n",
        "    predictions_class_1 = []\n",
        "    predictions_class_2 = []\n",
        "\n",
        "    with torch.no_grad():  # Disable gradient tracking during inference\n",
        "        for inputs, _ in test_loader:\n",
        "            inputs = inputs.to(device).float()  # Move inputs to the device (e.g., GPU)\n",
        "            outputs = model(inputs)  # Forward pass to get predictions\n",
        "\n",
        "            # Assuming the output is softmax probabilities\n",
        "            # Separate the probabilities for class-1 and class-2\n",
        "            class_1_probs = outputs[:, 0].cpu().numpy()  # Probabilities for class-1\n",
        "            class_2_probs = outputs[:, 1].cpu().numpy()  # Probabilities for class-2\n",
        "\n",
        "            predictions_class_1.extend(class_1_probs)\n",
        "            predictions_class_2.extend(class_2_probs)\n",
        "\n",
        "    # `predictions_class_1` contains the probabilities for class-1 for all test samples\n",
        "    # `predictions_class_2` contains the probabilities for class-2 for all test samples\n",
        "    # You can further process or save these predictions as needed\n",
        "    return predictions_class_1, predictions_class_2\n"
      ],
      "metadata": {
        "id": "RZQwaexTynZw"
      },
      "execution_count": 263,
      "outputs": []
    },
    {
      "cell_type": "code",
      "source": [
        "def get_predictions_np(input_matrix, model, device):\n",
        "    # Convert numpy matrix to PyTorch tensor\n",
        "    inputs = torch.tensor(input_matrix).to(device).float()\n",
        "\n",
        "    # Forward pass to get predictions\n",
        "    with torch.no_grad():  # Disable gradient tracking during inference\n",
        "        outputs = model(inputs)  # Forward pass to get predictions\n",
        "\n",
        "        # Assuming the output is softmax probabilities\n",
        "        # Separate the probabilities for class-1 and class-2\n",
        "        class_1_probs = outputs[:, 0].cpu().numpy()  # Probabilities for class-1\n",
        "        class_2_probs = outputs[:, 1].cpu().numpy()  # Probabilities for class-2\n",
        "\n",
        "    # `class_1_probs` contains the probabilities for class-1 for all samples\n",
        "    # `class_2_probs` contains the probabilities for class-2 for all samples\n",
        "    # You can further process or save these predictions as needed\n",
        "    return class_1_probs, class_2_probs\n"
      ],
      "metadata": {
        "id": "VKMyp3Tf8a6L"
      },
      "execution_count": 11,
      "outputs": []
    },
    {
      "cell_type": "markdown",
      "source": [
        "#### File loaders"
      ],
      "metadata": {
        "id": "o4VE9sWbq1Bt"
      }
    },
    {
      "cell_type": "code",
      "source": [
        "import torch\n",
        "from torch.utils.data import DataLoader, ConcatDataset\n",
        "from torchvision import transforms\n",
        "\n",
        "# Define a function to generate rotated data\n",
        "def rotate_data(X):\n",
        "    rotated_X = torch.rot90(X, k=1, dims=(0, 1))  # Rotate data by 90 degrees clockwise\n",
        "    return rotated_X\n",
        "\n",
        "# Modify the dataset to include both original and rotated data\n",
        "def create_combined_dataset_with_augmentation(original_dataset):\n",
        "    combined_dataset = []\n",
        "    for X, Y in original_dataset:\n",
        "        rotated_X = rotate_data(X)\n",
        "        combined_dataset.append((X, Y))  # Add original data\n",
        "        combined_dataset.append((rotated_X, Y))  # Add rotated data\n",
        "    return combined_dataset"
      ],
      "metadata": {
        "id": "uvH1pCvm3VmY"
      },
      "execution_count": 12,
      "outputs": []
    },
    {
      "cell_type": "code",
      "source": [
        "def create_combined_dataset(dataset1, dataset2):\n",
        "    combined_dataset = []\n",
        "    for X, Y in dataset1:\n",
        "        combined_dataset.append((X, Y))  # Add original data\n",
        "    for X, Y in dataset2:\n",
        "        combined_dataset.append((X, Y))  # Add original data\n",
        "    return combined_dataset"
      ],
      "metadata": {
        "id": "99GN9mgJGROc"
      },
      "execution_count": 13,
      "outputs": []
    },
    {
      "cell_type": "code",
      "execution_count": 51,
      "metadata": {
        "id": "Wwq4a69qZ5eb"
      },
      "outputs": [],
      "source": [
        "def file_loader(file_name, Tc = 2.27):\n",
        "    data = np.load(file_name)\n",
        "    X = data['X']\n",
        "    y = data['y']\n",
        "    X_train, X_test, Y_train, Y_test = train_test_split(X, y, test_size=0.15)\n",
        "    # Tc = 2.27 # For a square lattice following Ising Model\n",
        "    y_train = Y_train > Tc\n",
        "    y_test = Y_test > Tc\n",
        "    y_train = to_categorical(y_train.astype(int))\n",
        "    y_test = to_categorical(y_test.astype(int))\n",
        "    return X_train, X_test, y_train, y_test, Y_train, Y_test"
      ]
    },
    {
      "cell_type": "code",
      "source": [
        "def full_file_loader(file_name, Tc = 2.27):\n",
        "    data = np.load(file_name)\n",
        "    X = data['X']\n",
        "    Y = data['y']\n",
        "    # Tc = 2.27 # For a square lattice following Ising Model\n",
        "    y = Y > Tc\n",
        "    y = to_categorical(y.astype(int))\n",
        "    return X, y, Y"
      ],
      "metadata": {
        "id": "Fy5Nz7d0SY1C"
      },
      "execution_count": 52,
      "outputs": []
    },
    {
      "cell_type": "markdown",
      "source": [
        "#### Dataset and DataLoader"
      ],
      "metadata": {
        "id": "BSS1i0APqJnU"
      }
    },
    {
      "cell_type": "code",
      "source": [
        "class IsingDataset(Dataset):\n",
        "    def __init__(self, x, y, anti_ferro=False):\n",
        "        self.n_samples = x.shape[0]\n",
        "        self.x = torch.tensor(torch.from_numpy(x))\n",
        "        self.y = torch.tensor(torch.from_numpy(y))\n",
        "        self.anti_ferro = anti_ferro\n",
        "\n",
        "    def __getitem__(self, index):\n",
        "        if self.anti_ferro:\n",
        "            x_transformed = self._apply_anti_ferro(self.x[index])\n",
        "            return x_transformed, self.y[index]\n",
        "        else:\n",
        "            return self.x[index], self.y[index]\n",
        "\n",
        "    def __len__(self):\n",
        "        return self.n_samples\n",
        "\n",
        "    def _apply_anti_ferro(self, x):\n",
        "        # Apply anti-ferromagnetic transformation\n",
        "        return (-1) ** torch.arange(x.size(0)).unsqueeze(1) + (-1) ** torch.arange(x.size(1))\n",
        "\n",
        "# # Example usage\n",
        "# x = ...  # Your input data\n",
        "# y = ...  # Your target labels\n",
        "# anti_ferro = True  # Set to True to apply the anti-ferromagnetic transformation\n",
        "# dataset = IsingDataset(x, y, anti_ferro=anti_ferro)\n"
      ],
      "metadata": {
        "id": "OvGVpjWwJi8J"
      },
      "execution_count": 16,
      "outputs": []
    },
    {
      "cell_type": "code",
      "source": [
        "import torch\n",
        "from torch.utils.data import DataLoader\n",
        "\n",
        "# Assuming you have a DataLoader named original_dataloader\n",
        "# Define a new DataLoader class to subset the original DataLoader\n",
        "class SubsetDataLoader(DataLoader):\n",
        "    def __init__(self, dataloader, num_batches):\n",
        "        super(SubsetDataLoader, self).__init__(dataloader.dataset, batch_size=dataloader.batch_size)\n",
        "        self.dataloader = dataloader\n",
        "        self.num_batches = num_batches\n",
        "        self.current_batch = 0\n",
        "\n",
        "    def __iter__(self):\n",
        "        self.current_batch = 0\n",
        "        self.dataloader_iter = iter(self.dataloader)\n",
        "        return self\n",
        "\n",
        "    def __next__(self):\n",
        "        if self.current_batch >= self.num_batches:\n",
        "            raise StopIteration\n",
        "        self.current_batch += 1\n",
        "        return next(self.dataloader_iter)"
      ],
      "metadata": {
        "id": "djo-WsfyEF7U"
      },
      "execution_count": 17,
      "outputs": []
    },
    {
      "cell_type": "markdown",
      "source": [
        "Train and test data:"
      ],
      "metadata": {
        "id": "xivu-5krocYa"
      }
    },
    {
      "cell_type": "code",
      "source": [
        "# # Anti-ferromagnetic dataset: train and test\n",
        "\n",
        "# X_train, X_test, y_train, y_test, Y_train, Y_test = file_loader('data.npz')"
      ],
      "metadata": {
        "id": "EPDeqNkssA1U"
      },
      "execution_count": 18,
      "outputs": []
    },
    {
      "cell_type": "code",
      "source": [
        "# training_dataset = IsingDataset(X_train, y_train)\n",
        "# testing_dataset = IsingDataset(X_test, y_test)\n",
        "# batch_size = 128\n",
        "# train_dataloader = DataLoader(dataset = training_dataset, batch_size = batch_size, shuffle = False)\n",
        "# test_dataloader = DataLoader(dataset = testing_dataset, batch_size = batch_size, shuffle = False)"
      ],
      "metadata": {
        "id": "n9wVRpRWsA1U"
      },
      "execution_count": 19,
      "outputs": []
    },
    {
      "cell_type": "code",
      "source": [
        "# Anti-ferromagnetic dataset: train and test\n",
        "\n",
        "X_train_anti, X_test_anti, y_train_anti, y_test_anti, Y_train_anti, Y_test_anti = file_loader('data.npz')"
      ],
      "metadata": {
        "id": "puu1oIW8oxg1"
      },
      "execution_count": 20,
      "outputs": []
    },
    {
      "cell_type": "code",
      "source": [
        "training_dataset_anti = IsingDataset(X_train_anti, y_train_anti)\n",
        "testing_dataset_anti = IsingDataset(X_test_anti, y_test_anti)\n",
        "batch_size = 128\n",
        "train_dataloader_anti = DataLoader(dataset = training_dataset_anti, batch_size = batch_size, shuffle = False)\n",
        "test_dataloader_anti = DataLoader(dataset = testing_dataset_anti, batch_size = batch_size, shuffle = False)"
      ],
      "metadata": {
        "colab": {
          "base_uri": "https://localhost:8080/"
        },
        "id": "TWZOcCBUobIc",
        "outputId": "0c643fde-6040-44c7-8cd5-e958cd491cad"
      },
      "execution_count": 21,
      "outputs": [
        {
          "output_type": "stream",
          "name": "stderr",
          "text": [
            "<ipython-input-16-2d1bccbc4b53>:4: UserWarning: To copy construct from a tensor, it is recommended to use sourceTensor.clone().detach() or sourceTensor.clone().detach().requires_grad_(True), rather than torch.tensor(sourceTensor).\n",
            "  self.x = torch.tensor(torch.from_numpy(x))\n",
            "<ipython-input-16-2d1bccbc4b53>:5: UserWarning: To copy construct from a tensor, it is recommended to use sourceTensor.clone().detach() or sourceTensor.clone().detach().requires_grad_(True), rather than torch.tensor(sourceTensor).\n",
            "  self.y = torch.tensor(torch.from_numpy(y))\n"
          ]
        }
      ]
    },
    {
      "cell_type": "code",
      "source": [
        "plt.imshow(X_train_anti[30])\n",
        "print(\"Class:\", y_train_anti[30])\n",
        "print(\"Temperature:\", Y_train_anti[30])"
      ],
      "metadata": {
        "colab": {
          "base_uri": "https://localhost:8080/",
          "height": 467
        },
        "id": "6-dJRZvbsGgY",
        "outputId": "4ac6efe5-3475-4d95-c8db-85452172ede7"
      },
      "execution_count": 22,
      "outputs": [
        {
          "output_type": "stream",
          "name": "stdout",
          "text": [
            "Class: [0. 1.]\n",
            "Temperature: 2.9000000000000004\n"
          ]
        },
        {
          "output_type": "display_data",
          "data": {
            "text/plain": [
              "<Figure size 640x480 with 1 Axes>"
            ],
            "image/png": "[encoded data removed]"
          },
          "metadata": {}
        }
      ]
    },
    {
      "cell_type": "markdown",
      "source": [
        "#### CNN:"
      ],
      "metadata": {
        "id": "wuEBPp6emlIe"
      }
    },
    {
      "cell_type": "code",
      "source": [
        "import torch\n",
        "import torch.nn as nn\n",
        "import torch.nn.functional as F\n",
        "import matplotlib.pyplot as plt\n",
        "\n",
        "class ConvNet(nn.Module):\n",
        "    def __init__(self, Nx, Ny):\n",
        "        super(ConvNet, self).__init__()\n",
        "        self.conv1 = nn.Conv2d(1, 64, kernel_size=2, padding=0)\n",
        "        self.out_conv1 = self._calculate_output_size((Nx, Ny), kernel_size=2, padding=0)\n",
        "        self.fc1 = nn.Linear(64 * self.out_conv1[0] * self.out_conv1[1], 64)\n",
        "        self.dropout = nn.Dropout(p=0.5)\n",
        "        self.fc2 = nn.Linear(64, 2)\n",
        "        self.flatten = nn.Flatten()\n",
        "\n",
        "    def forward(self, x, return_feature_maps=False):\n",
        "        x = x.view(-1, 1, x.size(1), x.size(2))\n",
        "        x = F.relu(self.conv1(x))\n",
        "        if return_feature_maps:\n",
        "            return x\n",
        "        x = self.flatten(x)\n",
        "        x = F.relu(self.fc1(x))\n",
        "        x = self.dropout(x)\n",
        "        return F.softmax(self.fc2(x), dim=1)\n",
        "\n",
        "    def _calculate_output_size(self, input_size, kernel_size, padding):\n",
        "        out_size = [(input_size[0] - kernel_size + 2 * padding) + 1,\n",
        "                    (input_size[1] - kernel_size + 2 * padding) + 1]\n",
        "        return out_size\n",
        "\n",
        "## Example Usage:\n",
        "# model = ConvNet(40, 40)\n",
        "# x = torch.randn(1, 40, 40)\n",
        "# feature_maps = model(x, return_feature_maps=True)\n",
        "\n",
        "## Plotting the first feature map from the first sample in the batch\n",
        "# plt.imshow(feature_maps[0, 0].detach().numpy(), cmap='gray')\n",
        "# plt.colorbar()\n",
        "# plt.title('Feature Map from Conv1')\n",
        "# plt.show()\n"
      ],
      "metadata": {
        "id": "pRR-FLa7cegZ"
      },
      "execution_count": 25,
      "outputs": []
    },
    {
      "cell_type": "code",
      "source": [
        "import torch\n",
        "import torch.nn as nn\n",
        "import torch.nn.functional as F\n",
        "import matplotlib.pyplot as plt\n",
        "\n",
        "class ConvNet_for(nn.Module):\n",
        "    def __init__(self, Nx, Ny):\n",
        "        super(ConvNet, self).__init__()\n",
        "        self.conv1 = nn.Conv2d(1, 64, kernel_size=2, padding=0)\n",
        "        self.out_conv1 = self._calculate_output_size((Nx, Ny), kernel_size=2, padding=0)\n",
        "        self.fc1 = nn.Linear(64 * self.out_conv1[0] * self.out_conv1[1], 64)\n",
        "        self.dropout = nn.Dropout(p=0.5)\n",
        "        self.fc2 = nn.Linear(64, 2)\n",
        "        self.flatten = nn.Flatten()\n",
        "\n",
        "    def forward(self, x, return_feature_maps=False):\n",
        "        x = x.view(-1, 1, x.size(1), x.size(2))\n",
        "        x = F.relu(self.conv1(x))\n",
        "        if return_feature_maps:\n",
        "            return x\n",
        "        x = self.flatten(x)\n",
        "        x = F.relu(self.fc1(x))\n",
        "        x = self.dropout(x)\n",
        "        return F.softmax(self.fc2(x), dim=1)\n",
        "\n",
        "    def _calculate_output_size(self, input_size, kernel_size, padding):\n",
        "        out_size = [(input_size[0] - kernel_size + 2 * padding) + 1,\n",
        "                    (input_size[1] - kernel_size + 2 * padding) + 1]\n",
        "        return out_size\n",
        "\n",
        "## Example Usage:\n",
        "# model = ConvNet(40, 40)\n",
        "# x = torch.randn(1, 40, 40)\n",
        "# feature_maps = model(x, return_feature_maps=True)\n",
        "\n",
        "## Plotting the first feature map from the first sample in the batch\n",
        "# plt.imshow(feature_maps[0, 0].detach().numpy(), cmap='gray')\n",
        "# plt.colorbar()\n",
        "# plt.title('Feature Map from Conv1')\n",
        "# plt.show()\n"
      ],
      "metadata": {
        "id": "HmItdo0Xx2mg"
      },
      "execution_count": 26,
      "outputs": []
    },
    {
      "cell_type": "code",
      "source": [
        "CNN = ConvNet(Nx, Ny).to(device)\n",
        "criterion_CNN = nn.BCELoss()\n",
        "optimizer_CNN = optim.Adam(CNN.parameters(), lr=1e-4, betas=(0.9, 0.999))"
      ],
      "metadata": {
        "id": "qiEhnYvsrOcv"
      },
      "execution_count": 27,
      "outputs": []
    },
    {
      "cell_type": "code",
      "source": [
        "train(CNN, 10, criterion_CNN, optimizer_CNN, train_dataloader_anti)"
      ],
      "metadata": {
        "id": "HBQPkd7RsPuA",
        "colab": {
          "base_uri": "https://localhost:8080/"
        },
        "outputId": "7e41b78d-497a-4c74-cb52-adc303a8e0e9"
      },
      "execution_count": 28,
      "outputs": [
        {
          "output_type": "stream",
          "name": "stdout",
          "text": [
            "Loss: 0.694180428981781 ,Train accuracy: 0.5546875\n",
            "Loss: 0.091684490442276 ,Train accuracy: 0.96875\n",
            "Loss: 0.0309482142329216 ,Train accuracy: 0.9921875\n",
            "Loss: 0.05860332399606705 ,Train accuracy: 0.984375\n",
            "Loss: 0.05501620098948479 ,Train accuracy: 0.9765625\n",
            "Loss: 0.06583795696496964 ,Train accuracy: 0.96875\n",
            "Loss: 0.03266631066799164 ,Train accuracy: 0.984375\n",
            "Loss: 0.010611946694552898 ,Train accuracy: 1.0\n",
            "Loss: 0.06847458332777023 ,Train accuracy: 0.9765625\n",
            "Loss: 0.03438694402575493 ,Train accuracy: 0.9921875\n",
            "Loss: 0.03491698578000069 ,Train accuracy: 0.9921875\n",
            "Loss: 0.014724770560860634 ,Train accuracy: 0.9921875\n",
            "Loss: 0.015350587666034698 ,Train accuracy: 0.9921875\n",
            "Loss: 0.0418313592672348 ,Train accuracy: 0.9765625\n",
            "Loss: 0.04304971545934677 ,Train accuracy: 0.9765625\n",
            "Loss: 0.015512876212596893 ,Train accuracy: 1.0\n",
            "Loss: 0.030398424714803696 ,Train accuracy: 0.9921875\n",
            "Loss: 0.059331782162189484 ,Train accuracy: 0.9765625\n",
            "Loss: 0.028810463845729828 ,Train accuracy: 0.984375\n",
            "Loss: 0.02512824349105358 ,Train accuracy: 1.0\n",
            "Loss: 0.008295740932226181 ,Train accuracy: 0.9921875\n",
            "Loss: 0.023869868367910385 ,Train accuracy: 1.0\n",
            "Loss: 0.05434998497366905 ,Train accuracy: 0.984375\n",
            "Loss: 0.024843338876962662 ,Train accuracy: 0.9921875\n",
            "Loss: 0.010948719456791878 ,Train accuracy: 1.0\n",
            "Loss: 0.0052335141226649284 ,Train accuracy: 1.0\n",
            "Loss: 0.015585684217512608 ,Train accuracy: 0.9921875\n",
            "Loss: 0.01520628109574318 ,Train accuracy: 0.9921875\n",
            "Loss: 0.02022688463330269 ,Train accuracy: 1.0\n",
            "Loss: 0.02430330589413643 ,Train accuracy: 0.9921875\n",
            "Loss: 0.015843940898776054 ,Train accuracy: 0.9921875\n",
            "Loss: 0.02682146430015564 ,Train accuracy: 0.984375\n",
            "Loss: 0.016024772077798843 ,Train accuracy: 0.9921875\n",
            "Loss: 0.0031734914518892765 ,Train accuracy: 1.0\n",
            "Loss: 0.00450510997325182 ,Train accuracy: 1.0\n",
            "Loss: 0.013866374269127846 ,Train accuracy: 0.9921875\n",
            "Loss: 0.021212156862020493 ,Train accuracy: 0.9921875\n",
            "Loss: 0.02027071639895439 ,Train accuracy: 0.9921875\n",
            "Loss: 0.006855291314423084 ,Train accuracy: 1.0\n",
            "Loss: 0.022699857130646706 ,Train accuracy: 0.9921875\n",
            "Loss: 0.023315032944083214 ,Train accuracy: 1.0\n",
            "Loss: 0.012706784531474113 ,Train accuracy: 0.9921875\n",
            "Loss: 0.008253092877566814 ,Train accuracy: 1.0\n",
            "Loss: 0.01574140228331089 ,Train accuracy: 0.9921875\n",
            "Loss: 0.01724839396774769 ,Train accuracy: 0.9921875\n",
            "Loss: 0.00755348801612854 ,Train accuracy: 0.9921875\n",
            "Loss: 0.035205334424972534 ,Train accuracy: 0.984375\n",
            "Loss: 0.007528392598032951 ,Train accuracy: 0.9921875\n",
            "Loss: 0.0070701418444514275 ,Train accuracy: 0.9921875\n",
            "Loss: 0.02815783955156803 ,Train accuracy: 0.984375\n",
            "Loss: 0.013757908716797829 ,Train accuracy: 0.9921875\n",
            "Loss: 0.0036700465716421604 ,Train accuracy: 1.0\n",
            "Loss: 0.006378347519785166 ,Train accuracy: 1.0\n",
            "Loss: 0.018783120438456535 ,Train accuracy: 0.9921875\n",
            "Loss: 0.02463194541633129 ,Train accuracy: 0.9921875\n",
            "Loss: 0.013782044872641563 ,Train accuracy: 1.0\n",
            "Loss: 0.012218057177960873 ,Train accuracy: 0.9921875\n",
            "Loss: 0.00901499018073082 ,Train accuracy: 1.0\n",
            "Loss: 0.009210317395627499 ,Train accuracy: 1.0\n",
            "Loss: 0.021053750067949295 ,Train accuracy: 0.9921875\n",
            "Loss: 0.0017850234871730208 ,Train accuracy: 1.0\n",
            "Loss: 0.0024674669839441776 ,Train accuracy: 1.0\n",
            "Loss: 0.006733940914273262 ,Train accuracy: 1.0\n",
            "Loss: 0.016489477828145027 ,Train accuracy: 0.9921875\n",
            "Loss: 0.020319674164056778 ,Train accuracy: 0.9921875\n",
            "Loss: 0.014618397690355778 ,Train accuracy: 1.0\n",
            "Loss: 0.01757539063692093 ,Train accuracy: 0.9921875\n",
            "Loss: 0.0228170994669199 ,Train accuracy: 0.9921875\n",
            "Loss: 0.004826960153877735 ,Train accuracy: 1.0\n",
            "Loss: 0.0010476539609953761 ,Train accuracy: 1.0\n",
            "Loss: 0.0013326643966138363 ,Train accuracy: 1.0\n",
            "Loss: 0.01578586921095848 ,Train accuracy: 0.9921875\n",
            "Loss: 0.010223040357232094 ,Train accuracy: 0.9921875\n",
            "Loss: 0.009354188106954098 ,Train accuracy: 1.0\n",
            "Loss: 0.004894944839179516 ,Train accuracy: 1.0\n",
            "Loss: 0.0067391954362392426 ,Train accuracy: 1.0\n",
            "Loss: 0.0077235400676727295 ,Train accuracy: 1.0\n",
            "Loss: 0.00219750520773232 ,Train accuracy: 1.0\n",
            "Loss: 0.0054266382940113544 ,Train accuracy: 1.0\n",
            "Loss: 0.00025552260922268033 ,Train accuracy: 1.0\n",
            "Loss: 0.005385576747357845 ,Train accuracy: 1.0\n",
            "Loss: 0.004550510086119175 ,Train accuracy: 1.0\n",
            "Loss: 0.009582347236573696 ,Train accuracy: 1.0\n",
            "Loss: 0.010660781525075436 ,Train accuracy: 0.9921875\n",
            "Loss: 0.006713252514600754 ,Train accuracy: 1.0\n",
            "Loss: 0.02698797546327114 ,Train accuracy: 0.9921875\n",
            "Loss: 0.0026073274202644825 ,Train accuracy: 1.0\n",
            "Loss: 0.0029229673091322184 ,Train accuracy: 1.0\n",
            "Loss: 0.008560918271541595 ,Train accuracy: 1.0\n",
            "Loss: 0.0015332393813878298 ,Train accuracy: 1.0\n"
          ]
        }
      ]
    },
    {
      "cell_type": "code",
      "source": [
        "test(CNN, criterion_CNN, test_dataloader_anti)"
      ],
      "metadata": {
        "colab": {
          "base_uri": "https://localhost:8080/"
        },
        "id": "WOSpMELUtN7j",
        "outputId": "095d3d1b-ac2d-47c4-c408-a8b898c4d18d"
      },
      "execution_count": 29,
      "outputs": [
        {
          "output_type": "stream",
          "name": "stdout",
          "text": [
            "0 :: Loss: 0.002001099521294236 ,Test accuracy: 1.0\n",
            "1 :: Loss: 0.0010269650956615806 ,Test accuracy: 1.0\n",
            "2 :: Loss: 0.016443293541669846 ,Test accuracy: 0.9921875\n",
            "3 :: Loss: 0.016720939427614212 ,Test accuracy: 0.9921875\n",
            "4 :: Loss: 0.03182162344455719 ,Test accuracy: 0.9765625\n",
            "5 :: Loss: 0.0119164464995265 ,Test accuracy: 0.9921875\n",
            "6 :: Loss: 0.10629545152187347 ,Test accuracy: 0.9921875\n",
            "7 :: Loss: 0.02815145254135132 ,Test accuracy: 0.9921875\n",
            "8 :: Loss: 0.04754095524549484 ,Test accuracy: 0.9921875\n",
            "9 :: Loss: 0.014696341939270496 ,Test accuracy: 0.9921875\n",
            "10 :: Loss: 0.010660064406692982 ,Test accuracy: 1.0\n",
            "11 :: Loss: 0.002374469768255949 ,Test accuracy: 1.0\n",
            "12 :: Loss: 0.030262451618909836 ,Test accuracy: 0.9921875\n",
            "13 :: Loss: 0.0038443137891590595 ,Test accuracy: 1.0\n",
            "14 :: Loss: 0.040764905512332916 ,Test accuracy: 0.984375\n",
            "15 :: Loss: 0.011587338522076607 ,Test accuracy: 1.0\n",
            "16 :: Loss: 0.03969980776309967 ,Test accuracy: 0.9921875\n",
            "17 :: Loss: 0.0951177254319191 ,Test accuracy: 0.9765625\n",
            "18 :: Loss: 0.02189720794558525 ,Test accuracy: 0.9921875\n",
            "19 :: Loss: 0.0010996648343279958 ,Test accuracy: 1.0\n",
            "20 :: Loss: 0.0015781925758346915 ,Test accuracy: 1.0\n",
            "21 :: Loss: 0.0021450885105878115 ,Test accuracy: 1.0\n",
            "22 :: Loss: 0.02299763262271881 ,Test accuracy: 0.9921875\n",
            "23 :: Loss: 0.002170426771044731 ,Test accuracy: 1.0\n",
            "24 :: Loss: 0.01846940815448761 ,Test accuracy: 0.9921875\n",
            "25 :: Loss: 0.046717360615730286 ,Test accuracy: 0.9765625\n",
            "26 :: Loss: 0.016725165769457817 ,Test accuracy: 0.9921875\n",
            "27 :: Loss: 0.007065285928547382 ,Test accuracy: 1.0\n",
            "28 :: Loss: 0.005444232374429703 ,Test accuracy: 1.0\n",
            "29 :: Loss: 0.010757353156805038 ,Test accuracy: 0.9921875\n",
            "30 :: Loss: 0.002966822125017643 ,Test accuracy: 1.0\n"
          ]
        }
      ]
    },
    {
      "cell_type": "code",
      "source": [
        "torch.save(CNN.state_dict(), 'CNN_anti.pth')"
      ],
      "metadata": {
        "id": "lTzY7GrAfB6s"
      },
      "execution_count": 30,
      "outputs": []
    },
    {
      "cell_type": "markdown",
      "source": [
        "### CNN 2"
      ],
      "metadata": {
        "id": "tq589ECh7EJX"
      }
    },
    {
      "cell_type": "code",
      "source": [
        "import torch\n",
        "import torch.nn as nn\n",
        "import torch.nn.functional as F\n",
        "import matplotlib.pyplot as plt\n",
        "\n",
        "class ConvNet2(nn.Module):\n",
        "    def __init__(self, Nx, Ny):\n",
        "        super(ConvNet2, self).__init__()\n",
        "        self.conv1 = nn.Conv2d(1, 32, kernel_size=3, padding=0)\n",
        "        self.out_conv1 = self._calculate_output_size((Nx, Ny), kernel_size=2, padding=0)\n",
        "        self.conv2 = nn.Conv2d(32, 64, kernel_size=3, padding=0)\n",
        "        self.conv3 = nn.Conv2d(64, 64, kernel_size=3, padding=0)\n",
        "        self.max_pool_layer = nn.MaxPool2d(kernel_size=2, stride=2)\n",
        "        # self.out_conv2 = self._calculate_output_size(self.out_conv1, kernel_size=2, padding=0)\n",
        "        self.fc1 = nn.Linear(9216, 64)  # Adjusted input size for fc1\n",
        "        self.fc2 = nn.Linear(64, 2)\n",
        "        self.dropout = nn.Dropout(p=0.5)\n",
        "        self.flatten = nn.Flatten()\n",
        "\n",
        "    def forward(self, x, return_feature_maps=False):\n",
        "        x = x.view(-1, 1, x.size(1), x.size(2))\n",
        "        x = self.max_pool_layer(F.relu(self.conv1(x)))\n",
        "        x = self.max_pool_layer(F.relu(self.conv2(x)))\n",
        "        x = F.relu(self.conv3(x))\n",
        "        if return_feature_maps:\n",
        "            return x\n",
        "        x = self.flatten(x)\n",
        "        x = F.relu(self.fc1(x))\n",
        "        x = self.dropout(x)\n",
        "        return F.softmax(self.fc2(x), dim=1)\n",
        "\n",
        "    def _calculate_output_size(self, input_size, kernel_size, padding):\n",
        "        out_size = [(input_size[0] - kernel_size + 2 * padding) + 1,\n",
        "                    (input_size[1] - kernel_size + 2 * padding) + 1]\n",
        "        return out_size\n",
        "\n",
        "# Example Usage:\n",
        "# model = ConvNet(40, 40)\n",
        "# x = torch.randn(1, 40, 40)\n",
        "# feature_maps = model(x, return_feature_maps=True)\n",
        "\n",
        "# Plotting the first feature map from the first sample in the batch\n",
        "# plt.imshow(feature_maps[0, 0].detach().numpy(), cmap='gray')\n",
        "# plt.colorbar()\n",
        "# plt.title('Feature Map from Conv1')\n",
        "# plt.show()\n"
      ],
      "metadata": {
        "id": "nD7KBc2f7CPS"
      },
      "execution_count": 31,
      "outputs": []
    },
    {
      "cell_type": "code",
      "source": [
        "CNN_2 = ConvNet2(Nx, Ny).to(device)\n",
        "criterion_CNN_2 = nn.BCELoss()\n",
        "optimizer_CNN_2 = optim.Adam(CNN_2.parameters(), lr=1e-4, betas=(0.9, 0.999))"
      ],
      "metadata": {
        "id": "TERfGtQLFssg"
      },
      "execution_count": 32,
      "outputs": []
    },
    {
      "cell_type": "code",
      "source": [
        "train(CNN_2, 10, criterion_CNN_2, optimizer_CNN_2, train_dataloader_anti)"
      ],
      "metadata": {
        "colab": {
          "base_uri": "https://localhost:8080/"
        },
        "outputId": "940cd31e-cca8-4b9a-addb-5d8d897eeb96",
        "id": "LMbWX3zSFsss"
      },
      "execution_count": 33,
      "outputs": [
        {
          "output_type": "stream",
          "name": "stdout",
          "text": [
            "Loss: 0.6858808398246765 ,Train accuracy: 0.671875\n",
            "Loss: 0.26490074396133423 ,Train accuracy: 0.96875\n",
            "Loss: 0.02777155116200447 ,Train accuracy: 1.0\n",
            "Loss: 0.01879196986556053 ,Train accuracy: 0.9921875\n",
            "Loss: 0.08497613668441772 ,Train accuracy: 0.96875\n",
            "Loss: 0.03263227641582489 ,Train accuracy: 0.9921875\n",
            "Loss: 0.012102596461772919 ,Train accuracy: 0.9921875\n",
            "Loss: 0.016618140041828156 ,Train accuracy: 1.0\n",
            "Loss: 0.04262743890285492 ,Train accuracy: 0.984375\n",
            "Loss: 0.039221424609422684 ,Train accuracy: 0.9921875\n",
            "Loss: 0.04507254809141159 ,Train accuracy: 0.984375\n",
            "Loss: 0.0023563141003251076 ,Train accuracy: 1.0\n",
            "Loss: 0.009854448959231377 ,Train accuracy: 1.0\n",
            "Loss: 0.04992075264453888 ,Train accuracy: 0.9765625\n",
            "Loss: 0.02676323428750038 ,Train accuracy: 0.9921875\n",
            "Loss: 0.006158291362226009 ,Train accuracy: 1.0\n",
            "Loss: 0.01574324630200863 ,Train accuracy: 0.9921875\n",
            "Loss: 0.05229845270514488 ,Train accuracy: 0.9765625\n",
            "Loss: 0.040618330240249634 ,Train accuracy: 0.984375\n",
            "Loss: 0.03130965679883957 ,Train accuracy: 0.984375\n",
            "Loss: 0.004155909642577171 ,Train accuracy: 1.0\n",
            "Loss: 0.007506160065531731 ,Train accuracy: 1.0\n",
            "Loss: 0.03661886602640152 ,Train accuracy: 0.9765625\n",
            "Loss: 0.056397445499897 ,Train accuracy: 0.984375\n",
            "Loss: 0.005161298904567957 ,Train accuracy: 1.0\n",
            "Loss: 0.0021695950999855995 ,Train accuracy: 1.0\n",
            "Loss: 0.04104406386613846 ,Train accuracy: 0.9921875\n",
            "Loss: 0.014978316612541676 ,Train accuracy: 0.9921875\n",
            "Loss: 0.04873800277709961 ,Train accuracy: 0.96875\n",
            "Loss: 0.0011419004295021296 ,Train accuracy: 1.0\n",
            "Loss: 0.010662013664841652 ,Train accuracy: 1.0\n",
            "Loss: 0.04253591597080231 ,Train accuracy: 0.9765625\n",
            "Loss: 0.01542003732174635 ,Train accuracy: 0.9921875\n",
            "Loss: 0.006258315406739712 ,Train accuracy: 1.0\n",
            "Loss: 0.001859809271991253 ,Train accuracy: 1.0\n",
            "Loss: 0.029959362000226974 ,Train accuracy: 0.984375\n",
            "Loss: 0.022176072001457214 ,Train accuracy: 0.9921875\n",
            "Loss: 0.042281147092580795 ,Train accuracy: 0.96875\n",
            "Loss: 0.0022684396244585514 ,Train accuracy: 1.0\n",
            "Loss: 0.01747909002006054 ,Train accuracy: 0.9921875\n",
            "Loss: 0.03662975877523422 ,Train accuracy: 0.9765625\n",
            "Loss: 0.05297953635454178 ,Train accuracy: 0.9921875\n",
            "Loss: 0.001838413067162037 ,Train accuracy: 1.0\n",
            "Loss: 0.005018763244152069 ,Train accuracy: 1.0\n",
            "Loss: 0.024384748190641403 ,Train accuracy: 0.9921875\n",
            "Loss: 0.03088899701833725 ,Train accuracy: 0.9921875\n",
            "Loss: 0.040668465197086334 ,Train accuracy: 0.9765625\n",
            "Loss: 0.0015524975024163723 ,Train accuracy: 1.0\n",
            "Loss: 0.012653828598558903 ,Train accuracy: 0.9921875\n",
            "Loss: 0.03129441291093826 ,Train accuracy: 0.984375\n",
            "Loss: 0.023679042235016823 ,Train accuracy: 0.9921875\n",
            "Loss: 0.0010121747618541121 ,Train accuracy: 1.0\n",
            "Loss: 0.002011211821809411 ,Train accuracy: 1.0\n",
            "Loss: 0.03480667620897293 ,Train accuracy: 0.9921875\n",
            "Loss: 0.04515353962779045 ,Train accuracy: 0.9921875\n",
            "Loss: 0.040592752397060394 ,Train accuracy: 0.984375\n",
            "Loss: 0.0011772383004426956 ,Train accuracy: 1.0\n",
            "Loss: 0.005930956453084946 ,Train accuracy: 1.0\n",
            "Loss: 0.023353954777121544 ,Train accuracy: 0.984375\n",
            "Loss: 0.020118050277233124 ,Train accuracy: 0.9921875\n",
            "Loss: 0.0027331621386110783 ,Train accuracy: 1.0\n",
            "Loss: 0.0030774159822613 ,Train accuracy: 1.0\n",
            "Loss: 0.03351133316755295 ,Train accuracy: 0.9921875\n",
            "Loss: 0.04191569983959198 ,Train accuracy: 0.9921875\n",
            "Loss: 0.02728009596467018 ,Train accuracy: 0.9921875\n",
            "Loss: 0.0009176564635708928 ,Train accuracy: 1.0\n",
            "Loss: 0.007276316173374653 ,Train accuracy: 1.0\n",
            "Loss: 0.0243084654211998 ,Train accuracy: 0.9921875\n",
            "Loss: 0.0362599678337574 ,Train accuracy: 0.9921875\n",
            "Loss: 0.0028035640716552734 ,Train accuracy: 1.0\n",
            "Loss: 0.003495694836601615 ,Train accuracy: 1.0\n",
            "Loss: 0.019689124077558517 ,Train accuracy: 0.9921875\n",
            "Loss: 0.050370462238788605 ,Train accuracy: 0.9921875\n",
            "Loss: 0.026713382452726364 ,Train accuracy: 0.9765625\n",
            "Loss: 0.0010711030336096883 ,Train accuracy: 1.0\n",
            "Loss: 0.007134394720196724 ,Train accuracy: 1.0\n",
            "Loss: 0.03667128086090088 ,Train accuracy: 0.96875\n",
            "Loss: 0.031150227412581444 ,Train accuracy: 0.9921875\n",
            "Loss: 0.0013787084026262164 ,Train accuracy: 1.0\n",
            "Loss: 0.001995894592255354 ,Train accuracy: 1.0\n",
            "Loss: 0.023848041892051697 ,Train accuracy: 0.9921875\n",
            "Loss: 0.03600335493683815 ,Train accuracy: 0.9921875\n",
            "Loss: 0.041962314397096634 ,Train accuracy: 0.984375\n",
            "Loss: 0.0007081562071107328 ,Train accuracy: 1.0\n",
            "Loss: 0.010518594644963741 ,Train accuracy: 0.9921875\n",
            "Loss: 0.018286075443029404 ,Train accuracy: 0.9921875\n",
            "Loss: 0.02015281468629837 ,Train accuracy: 0.9921875\n",
            "Loss: 0.0008045622380450368 ,Train accuracy: 1.0\n",
            "Loss: 0.0028157448396086693 ,Train accuracy: 1.0\n",
            "Loss: 0.011482811532914639 ,Train accuracy: 0.9921875\n"
          ]
        }
      ]
    },
    {
      "cell_type": "code",
      "source": [
        "test(CNN_2, criterion_CNN_2, test_dataloader_anti)"
      ],
      "metadata": {
        "colab": {
          "base_uri": "https://localhost:8080/"
        },
        "outputId": "a0f98d35-7432-44cd-ac0e-9a963d66c703",
        "id": "x8qdoJg4Fsss"
      },
      "execution_count": 34,
      "outputs": [
        {
          "output_type": "stream",
          "name": "stdout",
          "text": [
            "0 :: Loss: 0.000864170491695404 ,Test accuracy: 1.0\n",
            "1 :: Loss: 0.0010691341012716293 ,Test accuracy: 1.0\n",
            "2 :: Loss: 0.0038888948038220406 ,Test accuracy: 1.0\n",
            "3 :: Loss: 0.010985901579260826 ,Test accuracy: 0.9921875\n",
            "4 :: Loss: 0.03735170513391495 ,Test accuracy: 0.9921875\n",
            "5 :: Loss: 0.019228115677833557 ,Test accuracy: 0.984375\n",
            "6 :: Loss: 0.035684019327163696 ,Test accuracy: 0.9921875\n",
            "7 :: Loss: 0.0161492507904768 ,Test accuracy: 0.9921875\n",
            "8 :: Loss: 0.004515614826232195 ,Test accuracy: 1.0\n",
            "9 :: Loss: 0.007624246180057526 ,Test accuracy: 0.9921875\n",
            "10 :: Loss: 0.001673333696089685 ,Test accuracy: 1.0\n",
            "11 :: Loss: 0.0005465545691549778 ,Test accuracy: 1.0\n",
            "12 :: Loss: 0.012964227236807346 ,Test accuracy: 0.9921875\n",
            "13 :: Loss: 0.001207627821713686 ,Test accuracy: 1.0\n",
            "14 :: Loss: 0.04750431329011917 ,Test accuracy: 0.984375\n",
            "15 :: Loss: 0.005758853629231453 ,Test accuracy: 1.0\n",
            "16 :: Loss: 0.016678208485245705 ,Test accuracy: 0.9921875\n",
            "17 :: Loss: 0.02184533141553402 ,Test accuracy: 0.984375\n",
            "18 :: Loss: 0.0045476192608475685 ,Test accuracy: 1.0\n",
            "19 :: Loss: 0.00014297549205366522 ,Test accuracy: 1.0\n",
            "20 :: Loss: 0.00039358960930258036 ,Test accuracy: 1.0\n",
            "21 :: Loss: 0.016579391434788704 ,Test accuracy: 0.984375\n",
            "22 :: Loss: 0.001498500001616776 ,Test accuracy: 1.0\n",
            "23 :: Loss: 0.000382828526198864 ,Test accuracy: 1.0\n",
            "24 :: Loss: 0.034745439887046814 ,Test accuracy: 0.9921875\n",
            "25 :: Loss: 0.003950858023017645 ,Test accuracy: 1.0\n",
            "26 :: Loss: 0.014699188992381096 ,Test accuracy: 0.9921875\n",
            "27 :: Loss: 0.0006289366283454001 ,Test accuracy: 1.0\n",
            "28 :: Loss: 0.0015178543981164694 ,Test accuracy: 1.0\n",
            "29 :: Loss: 0.007578624412417412 ,Test accuracy: 1.0\n",
            "30 :: Loss: 7.02011602697894e-05 ,Test accuracy: 1.0\n"
          ]
        }
      ]
    },
    {
      "cell_type": "code",
      "source": [
        "torch.save(CNN_2.state_dict(), 'CNN_anti.pth')"
      ],
      "metadata": {
        "id": "VyVENyzaFsst"
      },
      "execution_count": 35,
      "outputs": []
    },
    {
      "cell_type": "markdown",
      "source": [
        "### Transfer Learning"
      ],
      "metadata": {
        "id": "UiWxZDJRjvY2"
      }
    },
    {
      "cell_type": "markdown",
      "source": [
        "#### Loading the Dataset"
      ],
      "metadata": {
        "id": "hLtJ_z4uuKiQ"
      }
    },
    {
      "cell_type": "markdown",
      "source": [
        "Full Data"
      ],
      "metadata": {
        "id": "urp2wXLeuxWp"
      }
    },
    {
      "cell_type": "code",
      "source": [
        "X2, y2, Y2 = full_file_loader('LRIM_FT_64L_maxepochs_M.npz', 9.1)"
      ],
      "metadata": {
        "id": "lIr2mJcZuj09"
      },
      "execution_count": 53,
      "outputs": []
    },
    {
      "cell_type": "code",
      "source": [
        "dataset2 = IsingDataset(X2, y2)\n",
        "batch_size = 128\n",
        "dataloader2 = DataLoader(dataset = dataset2, batch_size = batch_size, shuffle = False)"
      ],
      "metadata": {
        "colab": {
          "base_uri": "https://localhost:8080/"
        },
        "outputId": "315a12b4-00f3-49e5-9c7d-65146a794a4e",
        "id": "r9wkQSOguj1E"
      },
      "execution_count": 54,
      "outputs": [
        {
          "output_type": "stream",
          "name": "stderr",
          "text": [
            "<ipython-input-16-2d1bccbc4b53>:4: UserWarning: To copy construct from a tensor, it is recommended to use sourceTensor.clone().detach() or sourceTensor.clone().detach().requires_grad_(True), rather than torch.tensor(sourceTensor).\n",
            "  self.x = torch.tensor(torch.from_numpy(x))\n",
            "<ipython-input-16-2d1bccbc4b53>:5: UserWarning: To copy construct from a tensor, it is recommended to use sourceTensor.clone().detach() or sourceTensor.clone().detach().requires_grad_(True), rather than torch.tensor(sourceTensor).\n",
            "  self.y = torch.tensor(torch.from_numpy(y))\n"
          ]
        }
      ]
    },
    {
      "cell_type": "markdown",
      "source": [
        "Train and test data"
      ],
      "metadata": {
        "id": "XQXqaC7wuzcW"
      }
    },
    {
      "cell_type": "code",
      "source": [
        "X_train2, X_test2, y_train2, y_test2, Y_train2, Y_test2 = file_loader('LRIM_FT_64L_maxepochs_M.npz', 9.1)"
      ],
      "metadata": {
        "id": "DDhAg4OUttXy"
      },
      "execution_count": 55,
      "outputs": []
    },
    {
      "cell_type": "code",
      "source": [
        "training_dataset2 = IsingDataset(X_train2, y_train2)\n",
        "testing_dataset2 = IsingDataset(X_test2, y_test2)\n",
        "batch_size = 128\n",
        "train_dataloader2 = DataLoader(dataset = training_dataset2, batch_size = batch_size, shuffle = False)\n",
        "test_dataloader2 = DataLoader(dataset = testing_dataset2, batch_size = batch_size, shuffle = False)"
      ],
      "metadata": {
        "colab": {
          "base_uri": "https://localhost:8080/"
        },
        "outputId": "93d6c9a1-0305-418a-a835-3d0be966bbbe",
        "id": "4YWNezKattXy"
      },
      "execution_count": 56,
      "outputs": [
        {
          "output_type": "stream",
          "name": "stderr",
          "text": [
            "<ipython-input-16-2d1bccbc4b53>:4: UserWarning: To copy construct from a tensor, it is recommended to use sourceTensor.clone().detach() or sourceTensor.clone().detach().requires_grad_(True), rather than torch.tensor(sourceTensor).\n",
            "  self.x = torch.tensor(torch.from_numpy(x))\n",
            "<ipython-input-16-2d1bccbc4b53>:5: UserWarning: To copy construct from a tensor, it is recommended to use sourceTensor.clone().detach() or sourceTensor.clone().detach().requires_grad_(True), rather than torch.tensor(sourceTensor).\n",
            "  self.y = torch.tensor(torch.from_numpy(y))\n"
          ]
        }
      ]
    },
    {
      "cell_type": "markdown",
      "source": [
        "#### Training a model to compare the results"
      ],
      "metadata": {
        "id": "1rxf6_M5qXTK"
      }
    },
    {
      "cell_type": "code",
      "source": [
        "import torch\n",
        "import torch.nn as nn\n",
        "import torch.optim as optim\n",
        "\n",
        "CNN2 = ConvNet2(Nx, Ny)\n",
        "CNN2.to(device)\n",
        "\n",
        "# Setup optimizer\n",
        "optimizer = optim.Adam(CNN2.parameters(), lr=1e-4, betas=[0.9,0.999])\n",
        "\n",
        "# Define the loss function\n",
        "criterion = nn.BCELoss()\n",
        "\n",
        "# Example usage of the training function with dataloader8\n",
        "train(CNN2, num_epochs=50, criterion=criterion, optimizer=optimizer, train_dataloader=train_dataloader2)\n",
        "# train(CNN2, num_epochs=10, criterion=criterion, optimizer=optimizer, train_dataloader=dataset34)"
      ],
      "metadata": {
        "colab": {
          "base_uri": "https://localhost:8080/"
        },
        "id": "9-0JTV5ItjTA",
        "outputId": "7eb1f745-e596-4507-d811-33f14e0872c9"
      },
      "execution_count": 40,
      "outputs": [
        {
          "output_type": "stream",
          "name": "stdout",
          "text": [
            "Loss: 0.6464437246322632 ,Train accuracy: 0.875\n",
            "Loss: 0.23013918101787567 ,Train accuracy: 0.8828125\n",
            "Loss: 0.24407844245433807 ,Train accuracy: 0.8828125\n",
            "Loss: 0.18877343833446503 ,Train accuracy: 0.8828125\n",
            "Loss: 0.16394631564617157 ,Train accuracy: 0.8828125\n",
            "Loss: 0.1416999101638794 ,Train accuracy: 0.8828125\n",
            "Loss: 0.13219653069972992 ,Train accuracy: 0.8828125\n",
            "Loss: 0.12541964650154114 ,Train accuracy: 0.8828125\n",
            "Loss: 0.12052565813064575 ,Train accuracy: 0.8828125\n",
            "Loss: 0.11630047112703323 ,Train accuracy: 0.8828125\n",
            "Loss: 0.11378446221351624 ,Train accuracy: 0.8828125\n",
            "Loss: 0.11782193928956985 ,Train accuracy: 0.8828125\n",
            "Loss: 0.11365676671266556 ,Train accuracy: 0.8828125\n",
            "Loss: 0.11292611807584763 ,Train accuracy: 0.8828125\n",
            "Loss: 0.109126016497612 ,Train accuracy: 0.8828125\n",
            "Loss: 0.10601448267698288 ,Train accuracy: 0.8828125\n",
            "Loss: 0.1087944358587265 ,Train accuracy: 0.8828125\n",
            "Loss: 0.10630901902914047 ,Train accuracy: 0.8828125\n",
            "Loss: 0.1064770519733429 ,Train accuracy: 0.8828125\n",
            "Loss: 0.10176769644021988 ,Train accuracy: 0.8828125\n",
            "Loss: 0.10310348868370056 ,Train accuracy: 0.8828125\n",
            "Loss: 0.10168005526065826 ,Train accuracy: 0.8828125\n",
            "Loss: 0.1037319004535675 ,Train accuracy: 0.8828125\n",
            "Loss: 0.10341794788837433 ,Train accuracy: 0.8828125\n",
            "Loss: 0.10416367650032043 ,Train accuracy: 0.8828125\n",
            "Loss: 0.10050391405820847 ,Train accuracy: 0.8828125\n",
            "Loss: 0.09891804307699203 ,Train accuracy: 0.8828125\n",
            "Loss: 0.09663596749305725 ,Train accuracy: 0.8828125\n",
            "Loss: 0.09720182418823242 ,Train accuracy: 0.8828125\n",
            "Loss: 0.09728965163230896 ,Train accuracy: 0.8828125\n",
            "Loss: 0.09809692949056625 ,Train accuracy: 0.8828125\n",
            "Loss: 0.09801001846790314 ,Train accuracy: 0.8828125\n",
            "Loss: 0.09818500280380249 ,Train accuracy: 0.8828125\n",
            "Loss: 0.09376487880945206 ,Train accuracy: 0.8828125\n",
            "Loss: 0.09612919390201569 ,Train accuracy: 0.8828125\n",
            "Loss: 0.09567727148532867 ,Train accuracy: 0.8828125\n",
            "Loss: 0.09567394852638245 ,Train accuracy: 0.8828125\n",
            "Loss: 0.0940040796995163 ,Train accuracy: 0.8828125\n",
            "Loss: 0.09538203477859497 ,Train accuracy: 0.8828125\n",
            "Loss: 0.0939168706536293 ,Train accuracy: 0.8828125\n",
            "Loss: 0.0949515849351883 ,Train accuracy: 0.8828125\n",
            "Loss: 0.09335975348949432 ,Train accuracy: 0.8828125\n",
            "Loss: 0.09372687339782715 ,Train accuracy: 0.8828125\n",
            "Loss: 0.09213592112064362 ,Train accuracy: 0.8828125\n",
            "Loss: 0.09205377101898193 ,Train accuracy: 0.8828125\n",
            "Loss: 0.09073522686958313 ,Train accuracy: 0.8828125\n",
            "Loss: 0.09087101370096207 ,Train accuracy: 0.8828125\n",
            "Loss: 0.0901632159948349 ,Train accuracy: 0.8828125\n",
            "Loss: 0.0891534686088562 ,Train accuracy: 0.8828125\n",
            "Loss: 0.09111707657575607 ,Train accuracy: 0.8828125\n"
          ]
        }
      ]
    },
    {
      "cell_type": "code",
      "source": [
        "test(CNN2, criterion, test_dataloader2)"
      ],
      "metadata": {
        "colab": {
          "base_uri": "https://localhost:8080/"
        },
        "id": "4V8ut_AQt-sd",
        "outputId": "a73a7aa7-c8f0-498f-cad6-d0257f7bc28e"
      },
      "execution_count": 41,
      "outputs": [
        {
          "output_type": "stream",
          "name": "stdout",
          "text": [
            "0 :: Loss: 0.052144426852464676 ,Test accuracy: 0.9375\n",
            "1 :: Loss: 0.104607492685318 ,Test accuracy: 0.865979381443299\n"
          ]
        }
      ]
    },
    {
      "cell_type": "code",
      "source": [
        "pred_class1, pred_class2 = get_predictions(train_dataloader2, CNN2)"
      ],
      "metadata": {
        "id": "-h0cHbESuFJv"
      },
      "execution_count": 42,
      "outputs": []
    },
    {
      "cell_type": "code",
      "source": [
        "plot_proba(np.array(Y_train2), np.array(pred_class1), np.array(pred_class2), 'Ferromagnetic', 'Paramagnetic')"
      ],
      "metadata": {
        "id": "YwC61BjSUSbY",
        "outputId": "bf1fc102-7350-4825-d1e0-ad08aa5a8569",
        "colab": {
          "base_uri": "https://localhost:8080/",
          "height": 564
        }
      },
      "execution_count": 43,
      "outputs": [
        {
          "output_type": "display_data",
          "data": {
            "text/plain": [
              "<Figure size 800x600 with 1 Axes>"
            ],
            "image/png": "[encoded data removed]"
          },
          "metadata": {}
        }
      ]
    },
    {
      "cell_type": "code",
      "source": [
        "plt.scatter(Y_train2, pred_class1, label='Ferromagnetic')\n",
        "plt.scatter(Y_train2, pred_class2, label='Paramagnetic')\n",
        "plt.legend()"
      ],
      "metadata": {
        "colab": {
          "base_uri": "https://localhost:8080/",
          "height": 447
        },
        "id": "96mOKdCcuINA",
        "outputId": "0dd2fc0e-fb0c-4883-9ef2-851e31a3e058"
      },
      "execution_count": 44,
      "outputs": [
        {
          "output_type": "execute_result",
          "data": {
            "text/plain": [
              "<matplotlib.legend.Legend at 0x7eaff4ec7310>"
            ]
          },
          "metadata": {},
          "execution_count": 44
        },
        {
          "output_type": "display_data",
          "data": {
            "text/plain": [
              "<Figure size 640x480 with 1 Axes>"
            ],
            "image/png": "[encoded data removed]"
          },
          "metadata": {}
        }
      ]
    },
    {
      "cell_type": "code",
      "source": [
        "y_comb1234 = np.array([item[1] for item in combined_dataloader_wo_aug1234.dataset])"
      ],
      "metadata": {
        "id": "qx_1U7EDYoJc"
      },
      "execution_count": null,
      "outputs": []
    },
    {
      "cell_type": "code",
      "source": [
        "calculate_accuracy_np(np.column_stack((pred_class1, pred_class2)), y_comb1234)"
      ],
      "metadata": {
        "id": "p96-9DBU2Py8",
        "outputId": "b7a67a23-6573-4670-f4d1-17a89d47d423",
        "colab": {
          "base_uri": "https://localhost:8080/"
        }
      },
      "execution_count": null,
      "outputs": [
        {
          "output_type": "execute_result",
          "data": {
            "text/plain": [
              "0.9558888888888889"
            ]
          },
          "metadata": {},
          "execution_count": 253
        }
      ]
    },
    {
      "cell_type": "markdown",
      "source": [
        "#### Transfer learning on NNN R=+2 data, model pre-trained on Ferro NN"
      ],
      "metadata": {
        "id": "2lRHIdStAkUK"
      }
    },
    {
      "cell_type": "markdown",
      "source": [
        "##### Both weights not initialized:"
      ],
      "metadata": {
        "id": "Y8iV1eOgYud0"
      }
    },
    {
      "cell_type": "code",
      "source": [
        "X2_filter = X2[(Y2 < 10.0) & (Y2 > 8.0)]\n",
        "y2_filter = y2[(Y2 < 10.0) & (Y2 > 8.0)]\n",
        "Y2_filter = Y2[(Y2 < 10.0) & (Y2 > 8.0)]\n",
        "\n",
        "dataset2_filter = IsingDataset(X2_filter, y2_filter)\n",
        "batch_size = 128\n",
        "dataloader2_filter = DataLoader(dataset = dataset2_filter, batch_size = batch_size, shuffle = False)"
      ],
      "metadata": {
        "id": "f0OAX28uSUeA",
        "outputId": "35ecd67c-a729-42a5-aff2-f422e0885797",
        "colab": {
          "base_uri": "https://localhost:8080/"
        }
      },
      "execution_count": 170,
      "outputs": [
        {
          "output_type": "stream",
          "name": "stderr",
          "text": [
            "<ipython-input-16-2d1bccbc4b53>:4: UserWarning: To copy construct from a tensor, it is recommended to use sourceTensor.clone().detach() or sourceTensor.clone().detach().requires_grad_(True), rather than torch.tensor(sourceTensor).\n",
            "  self.x = torch.tensor(torch.from_numpy(x))\n",
            "<ipython-input-16-2d1bccbc4b53>:5: UserWarning: To copy construct from a tensor, it is recommended to use sourceTensor.clone().detach() or sourceTensor.clone().detach().requires_grad_(True), rather than torch.tensor(sourceTensor).\n",
            "  self.y = torch.tensor(torch.from_numpy(y))\n"
          ]
        }
      ]
    },
    {
      "cell_type": "markdown",
      "source": [
        "For Tc=8.9"
      ],
      "metadata": {
        "id": "a_kU04oCcPM4"
      }
    },
    {
      "cell_type": "code",
      "source": [
        "import torch\n",
        "import torch.nn as nn\n",
        "import torch.optim as optim\n",
        "\n",
        "# Load your pre-trained model\n",
        "model2 = ConvNet2(Nx, Ny)  # or load from saved state\n",
        "pretrained_model = ConvNet2(Nx, Ny)\n",
        "state_dict = torch.load(\"CNN_anti.pth\")\n",
        "pretrained_model.load_state_dict(state_dict)\n",
        "model2.conv1.weight.data = pretrained_model.conv1.weight.data\n",
        "model2.conv1.bias.data = pretrained_model.conv1.bias.data\n",
        "model2.conv2.weight.data = pretrained_model.conv2.weight.data\n",
        "model2.conv2.bias.data = pretrained_model.conv2.bias.data\n",
        "model2.conv3.weight.data = pretrained_model.conv3.weight.data\n",
        "model2.conv3.bias.data = pretrained_model.conv3.bias.data\n",
        "####\n",
        "model2.fc1.weight.data = pretrained_model.fc1.weight.data\n",
        "model2.fc1.bias.data = pretrained_model.fc1.bias.data\n",
        "\n",
        "model2.fc2.weight.data = pretrained_model.fc2.weight.data\n",
        "model2.fc2.bias.data = pretrained_model.fc2.bias.data\n",
        "\n",
        "# Freeze all parameters in the model first\n",
        "for param in model2.parameters():\n",
        "    param.requires_grad = False\n",
        "\n",
        "# Unfreeze the layers that you want to train (fc1 and fc2)\n",
        "model2.fc1.weight.requires_grad = True\n",
        "model2.fc1.bias.requires_grad = True\n",
        "model2.fc2.weight.requires_grad = True\n",
        "model2.fc2.bias.requires_grad = True\n",
        "model2.conv1.weight.requires_grad = True\n",
        "model2.conv1.bias.requires_grad = True\n",
        "model2.conv2.weight.requires_grad = True\n",
        "model2.conv2.bias.requires_grad = True\n",
        "model2.conv3.weight.requires_grad = True\n",
        "model2.conv3.bias.requires_grad = True\n",
        "\n",
        "model2.to(device)\n",
        "\n",
        "# Setup optimizer - only optimize the unfrozen parameters\n",
        "optimizer = optim.Adam([\n",
        "    {'params': model2.fc1.parameters()},\n",
        "    {'params': model2.fc2.parameters()}\n",
        "], lr=6*1e-4, betas=[0.9,0.999])\n",
        "# optimizer = optim.Adam(model.parameters(), lr=1e-4, betas=[0.9,0.999])\n",
        "\n",
        "# Define the loss function\n",
        "criterion = nn.BCELoss()\n",
        "\n",
        "# lr=3*1e-4 and 6*1e-4, num_epochs=40,50,60 all worked (6e-4 and 60 worked well -> Tc=8.8)\n",
        "# Example usage of the training function with dataloader8\n",
        "train(model2, num_epochs=40, criterion=criterion, optimizer=optimizer, train_dataloader=dataloader2)\n",
        "train(model2, num_epochs=10, criterion=criterion, optimizer=optimizer, train_dataloader=dataloader2_filter)"
      ],
      "metadata": {
        "id": "a1QqhgRlNHFa",
        "outputId": "b53f4637-4fdb-4275-c0b5-710b06823a2a",
        "colab": {
          "base_uri": "https://localhost:8080/"
        }
      },
      "execution_count": 306,
      "outputs": [
        {
          "output_type": "stream",
          "name": "stderr",
          "text": [
            "<ipython-input-306-4761ff82a583>:8: FutureWarning: You are using `torch.load` with `weights_only=False` (the current default value), which uses the default pickle module implicitly. It is possible to construct malicious pickle data which will execute arbitrary code during unpickling (See https://github.com/pytorch/pytorch/blob/main/SECURITY.md#untrusted-models for more details). In a future release, the default value for `weights_only` will be flipped to `True`. This limits the functions that could be executed during unpickling. Arbitrary objects will no longer be allowed to be loaded via this mode unless they are explicitly allowlisted by the user via `torch.serialization.add_safe_globals`. We recommend you start setting `weights_only=True` for any use case where you don't have full control of the loaded file. Please open an issue on GitHub for any issues related to this experimental feature.\n",
            "  state_dict = torch.load(\"CNN_anti.pth\")\n"
          ]
        },
        {
          "output_type": "stream",
          "name": "stdout",
          "text": [
            "Loss: 2.4746052531554596e-06 ,Train accuracy: 1.0\n",
            "Loss: 3.1495580969931325e-06 ,Train accuracy: 1.0\n",
            "Loss: 1.7694113921606913e-05 ,Train accuracy: 1.0\n",
            "Loss: 24.79972267150879 ,Train accuracy: 0.203125\n",
            "Loss: 4.263314622221515e-06 ,Train accuracy: 1.0\n",
            "Loss: 1.1980051567661576e-05 ,Train accuracy: 1.0\n",
            "Loss: 2.490993522563656e-10 ,Train accuracy: 1.0\n",
            "Loss: 3.787543167987906e-09 ,Train accuracy: 1.0\n",
            "Loss: 2.455193168771075e-07 ,Train accuracy: 1.0\n",
            "Loss: 4.05061149597168 ,Train accuracy: 0.34375\n",
            "Loss: 0.3611873388290405 ,Train accuracy: 0.8515625\n",
            "Loss: 0.31042173504829407 ,Train accuracy: 0.8828125\n",
            "Loss: 1.6592265061898814e-10 ,Train accuracy: 1.0\n",
            "Loss: 1.4173009987850094e-10 ,Train accuracy: 1.0\n",
            "Loss: 2.6006608422335376e-08 ,Train accuracy: 1.0\n",
            "Loss: 3.5237796306610107 ,Train accuracy: 0.3359375\n",
            "Loss: 0.06041191518306732 ,Train accuracy: 0.9765625\n",
            "Loss: 0.04250132665038109 ,Train accuracy: 0.9765625\n",
            "Loss: 3.146589933056276e-11 ,Train accuracy: 1.0\n",
            "Loss: 3.3284879640362898e-15 ,Train accuracy: 1.0\n",
            "Loss: 4.686066645831488e-09 ,Train accuracy: 1.0\n",
            "Loss: 3.2155776023864746 ,Train accuracy: 0.3671875\n",
            "Loss: 0.21773001551628113 ,Train accuracy: 0.8984375\n",
            "Loss: 0.09816336631774902 ,Train accuracy: 0.9609375\n",
            "Loss: 7.526114176314991e-10 ,Train accuracy: 1.0\n",
            "Loss: 1.1633676335644216e-13 ,Train accuracy: 1.0\n",
            "Loss: 2.1537650135572406e-11 ,Train accuracy: 1.0\n",
            "Loss: 2.7672431468963623 ,Train accuracy: 0.421875\n",
            "Loss: 0.15375807881355286 ,Train accuracy: 0.921875\n",
            "Loss: 0.15384609997272491 ,Train accuracy: 0.921875\n",
            "Loss: 3.4294288298042375e-08 ,Train accuracy: 1.0\n",
            "Loss: 1.0629528263443253e-13 ,Train accuracy: 1.0\n",
            "Loss: 2.614036938297648e-11 ,Train accuracy: 1.0\n",
            "Loss: 3.0589237213134766 ,Train accuracy: 0.3984375\n",
            "Loss: 0.07522120326757431 ,Train accuracy: 0.96875\n",
            "Loss: 0.15831883251667023 ,Train accuracy: 0.9453125\n",
            "Loss: 3.1682317126959403e-16 ,Train accuracy: 1.0\n",
            "Loss: 4.132215674235856e-14 ,Train accuracy: 1.0\n",
            "Loss: 1.8729437445408337e-10 ,Train accuracy: 1.0\n",
            "Loss: 2.6920104026794434 ,Train accuracy: 0.4296875\n",
            "Loss: 0.11719837784767151 ,Train accuracy: 0.9609375\n",
            "Loss: 0.22649279236793518 ,Train accuracy: 0.9296875\n",
            "Loss: 5.354410779367285e-16 ,Train accuracy: 1.0\n",
            "Loss: 2.4888642257298596e-15 ,Train accuracy: 1.0\n",
            "Loss: 3.6683004724091806e-12 ,Train accuracy: 1.0\n",
            "Loss: 2.762193441390991 ,Train accuracy: 0.40625\n",
            "Loss: 0.10392667353153229 ,Train accuracy: 0.9609375\n",
            "Loss: 0.14054086804389954 ,Train accuracy: 0.953125\n",
            "Loss: 3.970773142664965e-15 ,Train accuracy: 1.0\n",
            "Loss: 3.5904454964708066e-09 ,Train accuracy: 1.0\n",
            "Loss: 3.118768535526756e-13 ,Train accuracy: 1.0\n",
            "Loss: 2.448775291442871 ,Train accuracy: 0.484375\n",
            "Loss: 0.16695569455623627 ,Train accuracy: 0.9453125\n",
            "Loss: 0.14923489093780518 ,Train accuracy: 0.9375\n",
            "Loss: 4.3068376099037487e-19 ,Train accuracy: 1.0\n",
            "Loss: 1.0055157895357851e-17 ,Train accuracy: 1.0\n",
            "Loss: 3.0484448109270937e-14 ,Train accuracy: 1.0\n",
            "Loss: 3.0501742362976074 ,Train accuracy: 0.40625\n",
            "Loss: 0.020878996700048447 ,Train accuracy: 0.9921875\n",
            "Loss: 0.03616948053240776 ,Train accuracy: 0.9921875\n",
            "Loss: 1.3509173683124364e-20 ,Train accuracy: 1.0\n",
            "Loss: 6.7708582273811814e-21 ,Train accuracy: 1.0\n",
            "Loss: 4.935182833552083e-15 ,Train accuracy: 1.0\n",
            "Loss: 2.6657369136810303 ,Train accuracy: 0.4609375\n",
            "Loss: 0.15594127774238586 ,Train accuracy: 0.953125\n",
            "Loss: 0.09375983476638794 ,Train accuracy: 0.953125\n",
            "Loss: 3.4068280095654605e-20 ,Train accuracy: 1.0\n",
            "Loss: 9.905127052226535e-16 ,Train accuracy: 1.0\n",
            "Loss: 1.873059812720207e-13 ,Train accuracy: 1.0\n",
            "Loss: 2.4573590755462646 ,Train accuracy: 0.4609375\n",
            "Loss: 0.07559485733509064 ,Train accuracy: 0.96875\n",
            "Loss: 0.07154972851276398 ,Train accuracy: 0.9609375\n",
            "Loss: 1.8582207142503616e-18 ,Train accuracy: 1.0\n",
            "Loss: 9.720852850794545e-18 ,Train accuracy: 1.0\n",
            "Loss: 3.278110150102748e-17 ,Train accuracy: 1.0\n",
            "Loss: 2.1281185150146484 ,Train accuracy: 0.5078125\n",
            "Loss: 0.19019979238510132 ,Train accuracy: 0.9375\n",
            "Loss: 0.15066927671432495 ,Train accuracy: 0.953125\n",
            "Loss: 2.548466114730956e-23 ,Train accuracy: 1.0\n",
            "Loss: 9.790613910304223e-23 ,Train accuracy: 1.0\n",
            "Loss: 9.143032197230644e-14 ,Train accuracy: 1.0\n",
            "Loss: 2.3938117027282715 ,Train accuracy: 0.5078125\n",
            "Loss: 0.025311395525932312 ,Train accuracy: 0.9921875\n",
            "Loss: 0.04571028798818588 ,Train accuracy: 0.9921875\n",
            "Loss: 1.6359214436743332e-23 ,Train accuracy: 1.0\n",
            "Loss: 1.2748304941417187e-18 ,Train accuracy: 1.0\n",
            "Loss: 7.777164329203501e-12 ,Train accuracy: 1.0\n",
            "Loss: 2.169541120529175 ,Train accuracy: 0.53125\n",
            "Loss: 0.10045858472585678 ,Train accuracy: 0.96875\n",
            "Loss: 0.08336018025875092 ,Train accuracy: 0.9765625\n",
            "Loss: 2.9721069247618214e-17 ,Train accuracy: 1.0\n",
            "Loss: 5.739209795735626e-20 ,Train accuracy: 1.0\n",
            "Loss: 9.16111109905025e-15 ,Train accuracy: 1.0\n",
            "Loss: 2.000235080718994 ,Train accuracy: 0.5390625\n",
            "Loss: 0.07712849974632263 ,Train accuracy: 0.953125\n",
            "Loss: 0.050612013787031174 ,Train accuracy: 0.9765625\n",
            "Loss: 2.000084050459584e-18 ,Train accuracy: 1.0\n",
            "Loss: 4.22375061317055e-20 ,Train accuracy: 1.0\n",
            "Loss: 4.549332565130572e-17 ,Train accuracy: 1.0\n",
            "Loss: 1.39828622341156 ,Train accuracy: 0.6171875\n",
            "Loss: 0.15898343920707703 ,Train accuracy: 0.9296875\n",
            "Loss: 0.14878582954406738 ,Train accuracy: 0.9375\n",
            "Loss: 1.7218985840037476e-13 ,Train accuracy: 1.0\n",
            "Loss: 6.070735901181666e-19 ,Train accuracy: 1.0\n",
            "Loss: 1.98188209956816e-14 ,Train accuracy: 1.0\n",
            "Loss: 2.180422782897949 ,Train accuracy: 0.546875\n",
            "Loss: 0.032535478472709656 ,Train accuracy: 0.9921875\n",
            "Loss: 0.08595222234725952 ,Train accuracy: 0.953125\n",
            "Loss: 5.458257092888423e-21 ,Train accuracy: 1.0\n",
            "Loss: 1.2413330926650382e-22 ,Train accuracy: 1.0\n",
            "Loss: 1.1472507835030912e-19 ,Train accuracy: 1.0\n",
            "Loss: 1.7390267848968506 ,Train accuracy: 0.5546875\n",
            "Loss: 0.13964420557022095 ,Train accuracy: 0.9375\n",
            "Loss: 0.10440660268068314 ,Train accuracy: 0.953125\n",
            "Loss: 2.3435707998222288e-18 ,Train accuracy: 1.0\n",
            "Loss: 1.062816419411969e-21 ,Train accuracy: 1.0\n",
            "Loss: 2.6224993432687497e-15 ,Train accuracy: 1.0\n",
            "Loss: 1.8666448593139648 ,Train accuracy: 0.5546875\n",
            "Loss: 0.034767888486385345 ,Train accuracy: 0.9921875\n",
            "Loss: 0.053411319851875305 ,Train accuracy: 0.9765625\n",
            "Loss: 5.290003790313092e-22 ,Train accuracy: 1.0\n",
            "Loss: 6.838724297088805e-22 ,Train accuracy: 1.0\n",
            "Loss: 5.281750870401157e-18 ,Train accuracy: 1.0\n",
            "Loss: 1.6868846416473389 ,Train accuracy: 0.6328125\n",
            "Loss: 0.07439866662025452 ,Train accuracy: 0.9921875\n",
            "Loss: 0.12737682461738586 ,Train accuracy: 0.9296875\n",
            "Loss: 4.0336166062473446e-21 ,Train accuracy: 1.0\n",
            "Loss: 1.621857500425474e-15 ,Train accuracy: 1.0\n",
            "Loss: 2.3664650425879452e-14 ,Train accuracy: 1.0\n",
            "Loss: 1.7150113582611084 ,Train accuracy: 0.6015625\n",
            "Loss: 0.04489923268556595 ,Train accuracy: 0.9765625\n",
            "Loss: 0.03844108805060387 ,Train accuracy: 1.0\n",
            "Loss: 3.324941177987965e-22 ,Train accuracy: 1.0\n",
            "Loss: 1.1069682948061654e-09 ,Train accuracy: 1.0\n",
            "Loss: 1.1241875869879503e-17 ,Train accuracy: 1.0\n",
            "Loss: 1.2896301746368408 ,Train accuracy: 0.6328125\n",
            "Loss: 0.1517520248889923 ,Train accuracy: 0.9375\n",
            "Loss: 0.12495721876621246 ,Train accuracy: 0.9453125\n",
            "Loss: 4.2354730862221345e-24 ,Train accuracy: 1.0\n",
            "Loss: 3.312025518107354e-21 ,Train accuracy: 1.0\n",
            "Loss: 1.0290761506089569e-23 ,Train accuracy: 1.0\n",
            "Loss: 1.9146146774291992 ,Train accuracy: 0.5390625\n",
            "Loss: 0.037168316543102264 ,Train accuracy: 1.0\n",
            "Loss: 0.039531074464321136 ,Train accuracy: 1.0\n",
            "Loss: 9.322439196469967e-14 ,Train accuracy: 1.0\n",
            "Loss: 1.3968812657692827e-24 ,Train accuracy: 1.0\n",
            "Loss: 2.037094925795395e-14 ,Train accuracy: 1.0\n",
            "Loss: 1.4310448169708252 ,Train accuracy: 0.6015625\n",
            "Loss: 0.1699184626340866 ,Train accuracy: 0.90625\n",
            "Loss: 0.08127434551715851 ,Train accuracy: 0.9609375\n",
            "Loss: 6.5492889402626084e-18 ,Train accuracy: 1.0\n",
            "Loss: 1.2624972336319338e-21 ,Train accuracy: 1.0\n",
            "Loss: 7.368993653125711e-13 ,Train accuracy: 1.0\n",
            "Loss: 1.7228236198425293 ,Train accuracy: 0.546875\n",
            "Loss: 0.027289995923638344 ,Train accuracy: 1.0\n",
            "Loss: 0.03729616105556488 ,Train accuracy: 1.0\n",
            "Loss: 4.110547332230665e-27 ,Train accuracy: 1.0\n",
            "Loss: 1.0953264944098116e-16 ,Train accuracy: 1.0\n",
            "Loss: 1.0065769391772155e-14 ,Train accuracy: 1.0\n",
            "Loss: 1.3749933242797852 ,Train accuracy: 0.6015625\n",
            "Loss: 0.07184511423110962 ,Train accuracy: 0.96875\n",
            "Loss: 0.13215714693069458 ,Train accuracy: 0.921875\n",
            "Loss: 1.4011096235333503e-16 ,Train accuracy: 1.0\n",
            "Loss: 4.2102851992805345e-22 ,Train accuracy: 1.0\n",
            "Loss: 2.784851432053292e-17 ,Train accuracy: 1.0\n",
            "Loss: 1.2988007068634033 ,Train accuracy: 0.59375\n",
            "Loss: 0.06958001852035522 ,Train accuracy: 0.984375\n",
            "Loss: 0.06927613914012909 ,Train accuracy: 0.9921875\n",
            "Loss: 3.21909163042664e-25 ,Train accuracy: 1.0\n",
            "Loss: 1.1671754189597798e-17 ,Train accuracy: 1.0\n",
            "Loss: 3.074694871992538e-23 ,Train accuracy: 1.0\n",
            "Loss: 1.302858591079712 ,Train accuracy: 0.6640625\n",
            "Loss: 0.08082512766122818 ,Train accuracy: 0.96875\n",
            "Loss: 0.10170868039131165 ,Train accuracy: 0.9765625\n",
            "Loss: 5.334366187956319e-24 ,Train accuracy: 1.0\n",
            "Loss: 6.218773864387942e-27 ,Train accuracy: 1.0\n",
            "Loss: 5.254182588483641e-21 ,Train accuracy: 1.0\n",
            "Loss: 1.3134876489639282 ,Train accuracy: 0.6484375\n",
            "Loss: 0.05349619686603546 ,Train accuracy: 0.9921875\n",
            "Loss: 0.07292245328426361 ,Train accuracy: 0.9921875\n",
            "Loss: 9.442693631703326e-25 ,Train accuracy: 1.0\n",
            "Loss: 1.2446820696272119e-26 ,Train accuracy: 1.0\n",
            "Loss: 1.3064347413252778e-21 ,Train accuracy: 1.0\n",
            "Loss: 1.183821201324463 ,Train accuracy: 0.6640625\n",
            "Loss: 0.13368558883666992 ,Train accuracy: 0.9453125\n",
            "Loss: 0.09299127757549286 ,Train accuracy: 0.9609375\n",
            "Loss: 4.1476353176919474e-23 ,Train accuracy: 1.0\n",
            "Loss: 2.7115612576845047e-27 ,Train accuracy: 1.0\n",
            "Loss: 2.1822841709518527e-16 ,Train accuracy: 1.0\n",
            "Loss: 1.2235084772109985 ,Train accuracy: 0.6640625\n",
            "Loss: 0.0741908848285675 ,Train accuracy: 0.984375\n",
            "Loss: 0.07694366574287415 ,Train accuracy: 0.984375\n",
            "Loss: 4.976350679473903e-28 ,Train accuracy: 1.0\n",
            "Loss: 1.8882137649515206e-26 ,Train accuracy: 1.0\n",
            "Loss: 7.040006238937814e-20 ,Train accuracy: 1.0\n",
            "Loss: 1.3296449184417725 ,Train accuracy: 0.6640625\n",
            "Loss: 0.04603948816657066 ,Train accuracy: 1.0\n",
            "Loss: 0.07843150198459625 ,Train accuracy: 0.984375\n",
            "Loss: 2.7431217831521864e-18 ,Train accuracy: 1.0\n",
            "Loss: 1.3050321457167002e-12 ,Train accuracy: 1.0\n",
            "Loss: 4.971049596670619e-15 ,Train accuracy: 1.0\n",
            "Loss: 0.9432429075241089 ,Train accuracy: 0.6953125\n",
            "Loss: 0.06756460666656494 ,Train accuracy: 0.9921875\n",
            "Loss: 0.09178683161735535 ,Train accuracy: 0.9765625\n",
            "Loss: 5.071946369305101e-26 ,Train accuracy: 1.0\n",
            "Loss: 8.93635044069751e-25 ,Train accuracy: 1.0\n",
            "Loss: 2.559067189901023e-17 ,Train accuracy: 1.0\n",
            "Loss: 1.3913172483444214 ,Train accuracy: 0.640625\n",
            "Loss: 0.05136137083172798 ,Train accuracy: 1.0\n",
            "Loss: 0.05076617747545242 ,Train accuracy: 1.0\n",
            "Loss: 1.4763336203706741e-21 ,Train accuracy: 1.0\n",
            "Loss: 2.7167887611843064e-28 ,Train accuracy: 1.0\n",
            "Loss: 9.113593261360828e-21 ,Train accuracy: 1.0\n",
            "Loss: 0.9399358034133911 ,Train accuracy: 0.65625\n",
            "Loss: 0.08031941950321198 ,Train accuracy: 0.984375\n",
            "Loss: 0.07261213660240173 ,Train accuracy: 1.0\n",
            "Loss: 9.565248430155193e-29 ,Train accuracy: 1.0\n",
            "Loss: 1.8017306973931082e-25 ,Train accuracy: 1.0\n",
            "Loss: 1.356713367934633e-20 ,Train accuracy: 1.0\n",
            "Loss: 0.8940405249595642 ,Train accuracy: 0.71875\n",
            "Loss: 0.11493761837482452 ,Train accuracy: 0.9765625\n",
            "Loss: 0.06173991411924362 ,Train accuracy: 1.0\n",
            "Loss: 3.725475106744506e-20 ,Train accuracy: 1.0\n",
            "Loss: 4.857070059066585e-30 ,Train accuracy: 1.0\n",
            "Loss: 5.492344971671599e-23 ,Train accuracy: 1.0\n",
            "Loss: 1.2068203687667847 ,Train accuracy: 0.6640625\n",
            "Loss: 0.03547128662467003 ,Train accuracy: 1.0\n",
            "Loss: 0.05416775494813919 ,Train accuracy: 1.0\n",
            "Loss: 2.290223907451157e-26 ,Train accuracy: 1.0\n",
            "Loss: 2.6129392925019327e-25 ,Train accuracy: 1.0\n",
            "Loss: 4.900775468496997e-18 ,Train accuracy: 1.0\n",
            "Loss: 1.2105594873428345 ,Train accuracy: 0.65625\n",
            "Loss: 0.06293469667434692 ,Train accuracy: 1.0\n",
            "Loss: 0.09079784154891968 ,Train accuracy: 0.984375\n",
            "Loss: 4.2245415191868765e-36 ,Train accuracy: 1.0\n",
            "Loss: 2.0492273261514696e-24 ,Train accuracy: 1.0\n",
            "Loss: 6.0158277555179726e-18 ,Train accuracy: 1.0\n",
            "Loss: 1.0350335836410522 ,Train accuracy: 0.6875\n",
            "Loss: 0.07019136101007462 ,Train accuracy: 0.9921875\n",
            "Loss: 0.0968889594078064 ,Train accuracy: 0.96875\n",
            "Loss: 0.8087314367294312 ,Train accuracy: 0.7109375\n",
            "Loss: 0.7716660499572754 ,Train accuracy: 0.7265625\n",
            "Loss: 0.511396050453186 ,Train accuracy: 0.796875\n",
            "Loss: 0.44848278164863586 ,Train accuracy: 0.78125\n",
            "Loss: 0.4755268692970276 ,Train accuracy: 0.7890625\n",
            "Loss: 0.5528245568275452 ,Train accuracy: 0.78125\n",
            "Loss: 0.657676100730896 ,Train accuracy: 0.71875\n",
            "Loss: 0.4694060683250427 ,Train accuracy: 0.796875\n",
            "Loss: 0.5066776275634766 ,Train accuracy: 0.7890625\n",
            "Loss: 0.5057588219642639 ,Train accuracy: 0.796875\n"
          ]
        }
      ]
    },
    {
      "cell_type": "code",
      "source": [
        "import numpy as np\n",
        "import matplotlib.pyplot as plt\n",
        "\n",
        "# Function to calculate average probability at each unique temperature\n",
        "def avg_prob(unique_temperatures, predictions, temperatures):\n",
        "    avg_probs = []\n",
        "    for T in unique_temperatures:\n",
        "        avg_probs.append(np.mean(predictions[temperatures == T]))\n",
        "    return np.array(avg_probs)\n",
        "\n",
        "# Function to plot probabilities with intersection point\n",
        "def plot_proba(temperatures, predictions1, predictions2, label1='Ordered state', label2='Disordered state'):\n",
        "    # Get unique temperatures and their average probabilities\n",
        "    unique_temperatures = np.sort(np.unique(temperatures))\n",
        "    avg_proba1 = avg_prob(unique_temperatures, predictions1, temperatures)\n",
        "    avg_proba2 = avg_prob(unique_temperatures, predictions2, temperatures)\n",
        "\n",
        "    # Find the intersection point (where probabilities are closest)\n",
        "    diff = np.abs(avg_proba1 - avg_proba2)\n",
        "    Tc_index = np.argmin(diff)  # Index of closest probability difference\n",
        "    Tc = unique_temperatures[Tc_index]  # Temperature at intersection\n",
        "\n",
        "    # Plot the average prediction probabilities\n",
        "    plt.figure(figsize=(8, 6))\n",
        "    plt.plot(unique_temperatures, avg_proba1, marker='o', linestyle='-', label=label1)\n",
        "    plt.plot(unique_temperatures, avg_proba2, marker='o', linestyle='-', label=label2)\n",
        "\n",
        "    # Mark the intersection point\n",
        "    plt.axvline(x=Tc, color='black', linestyle='--', label=f\"Tc ≈ {Tc:.2f}\")\n",
        "    plt.scatter([Tc], [avg_proba1[Tc_index]], color='black', zorder=3)\n",
        "\n",
        "    # Labels and title\n",
        "    plt.xlabel('Temperature', fontsize=14)\n",
        "    plt.ylabel('Average Prediction Probability', fontsize=14)\n",
        "    plt.title('Average Prediction Probability per Temperature', fontsize=16)\n",
        "    plt.legend()\n",
        "    plt.grid(True)\n",
        "    plt.show()\n",
        "\n",
        "# Example usage:\n",
        "# plot_proba(np.array(Y2), np.array(pred_class1), np.array(pred_class2))\n"
      ],
      "metadata": {
        "id": "r9m7X69UVzVo"
      },
      "execution_count": 307,
      "outputs": []
    },
    {
      "cell_type": "code",
      "source": [
        "pred_class1, pred_class2 = get_predictions(dataloader2, model2)\n",
        "plt.scatter(Y2, pred_class1, label='Ferromagnetic')\n",
        "plt.scatter(Y2, pred_class2, label='Paramagnetic')\n",
        "plt.legend()"
      ],
      "metadata": {
        "id": "D8lbY9u4Loio",
        "outputId": "80fb8f6d-60c0-4485-8985-cdf92cf60204",
        "colab": {
          "base_uri": "https://localhost:8080/",
          "height": 447
        }
      },
      "execution_count": 308,
      "outputs": [
        {
          "output_type": "execute_result",
          "data": {
            "text/plain": [
              "<matplotlib.legend.Legend at 0x7eaef9abb590>"
            ]
          },
          "metadata": {},
          "execution_count": 308
        },
        {
          "output_type": "display_data",
          "data": {
            "text/plain": [
              "<Figure size 640x480 with 1 Axes>"
            ],
            "image/png": "[encoded data removed]"
          },
          "metadata": {}
        }
      ]
    },
    {
      "cell_type": "code",
      "source": [
        "plot_proba(np.array(Y2), np.array(pred_class1), np.array(pred_class2), 'Ferromagnetic', 'Paramagnetic')"
      ],
      "metadata": {
        "colab": {
          "base_uri": "https://localhost:8080/",
          "height": 571
        },
        "id": "SV_hPnFLXAej",
        "outputId": "6e5f924b-59f7-4b55-b7e8-cef6739b7427"
      },
      "execution_count": 309,
      "outputs": [
        {
          "output_type": "display_data",
          "data": {
            "text/plain": [
              "<Figure size 800x600 with 1 Axes>"
            ],
            "image/png": "[encoded data removed]"
          },
          "metadata": {}
        }
      ]
    },
    {
      "cell_type": "markdown",
      "source": [
        "Exploring hyperparameters"
      ],
      "metadata": {
        "id": "vIcjDZnxcizu"
      }
    },
    {
      "cell_type": "code",
      "source": [
        "import torch\n",
        "import torch.nn as nn\n",
        "import torch.optim as optim\n",
        "\n",
        "# Load your pre-trained model\n",
        "model2 = ConvNet2(Nx, Ny)  # or load from saved state\n",
        "pretrained_model = ConvNet2(Nx, Ny)\n",
        "state_dict = torch.load(\"CNN_anti.pth\")\n",
        "pretrained_model.load_state_dict(state_dict)\n",
        "model2.conv1.weight.data = pretrained_model.conv1.weight.data\n",
        "model2.conv1.bias.data = pretrained_model.conv1.bias.data\n",
        "model2.conv2.weight.data = pretrained_model.conv2.weight.data\n",
        "model2.conv2.bias.data = pretrained_model.conv2.bias.data\n",
        "model2.conv3.weight.data = pretrained_model.conv3.weight.data\n",
        "model2.conv3.bias.data = pretrained_model.conv3.bias.data\n",
        "####\n",
        "model2.fc1.weight.data = pretrained_model.fc1.weight.data\n",
        "model2.fc1.bias.data = pretrained_model.fc1.bias.data\n",
        "\n",
        "model2.fc2.weight.data = pretrained_model.fc2.weight.data\n",
        "model2.fc2.bias.data = pretrained_model.fc2.bias.data\n",
        "\n",
        "# Freeze all parameters in the model first\n",
        "for param in model2.parameters():\n",
        "    param.requires_grad = False\n",
        "\n",
        "# Unfreeze the layers that you want to train (fc1 and fc2)\n",
        "model2.fc1.weight.requires_grad = True\n",
        "model2.fc1.bias.requires_grad = True\n",
        "model2.fc2.weight.requires_grad = True\n",
        "model2.fc2.bias.requires_grad = True\n",
        "model2.conv1.weight.requires_grad = True\n",
        "model2.conv1.bias.requires_grad = True\n",
        "model2.conv2.weight.requires_grad = True\n",
        "model2.conv2.bias.requires_grad = True\n",
        "model2.conv3.weight.requires_grad = True\n",
        "model2.conv3.bias.requires_grad = True\n",
        "\n",
        "model2.to(device)\n",
        "\n",
        "# Setup optimizer - only optimize the unfrozen parameters\n",
        "optimizer = optim.Adam([\n",
        "    {'params': model2.fc1.parameters()},\n",
        "    {'params': model2.fc2.parameters()}\n",
        "], lr=3*1e-4, betas=[0.9,0.999])\n",
        "# optimizer = optim.Adam(model.parameters(), lr=1e-4, betas=[0.9,0.999])\n",
        "\n",
        "# Define the loss function\n",
        "criterion = nn.BCELoss()\n",
        "\n",
        "# lr=3*1e-4 and 6*1e-4, num_epochs=40,50,60 all worked (6e-4 and 60 worked well -> Tc=8.8)\n",
        "# Example usage of the training function with dataloader8\n",
        "train(model2, num_epochs=40, criterion=criterion, optimizer=optimizer, train_dataloader=dataloader2)\n"
      ],
      "metadata": {
        "id": "1WuaJkpyciVD",
        "outputId": "ba259717-8243-48ca-cd5a-339bb5d33ce7",
        "colab": {
          "base_uri": "https://localhost:8080/"
        }
      },
      "execution_count": 316,
      "outputs": [
        {
          "output_type": "stream",
          "name": "stderr",
          "text": [
            "<ipython-input-316-1f958a7c54ca>:8: FutureWarning: You are using `torch.load` with `weights_only=False` (the current default value), which uses the default pickle module implicitly. It is possible to construct malicious pickle data which will execute arbitrary code during unpickling (See https://github.com/pytorch/pytorch/blob/main/SECURITY.md#untrusted-models for more details). In a future release, the default value for `weights_only` will be flipped to `True`. This limits the functions that could be executed during unpickling. Arbitrary objects will no longer be allowed to be loaded via this mode unless they are explicitly allowlisted by the user via `torch.serialization.add_safe_globals`. We recommend you start setting `weights_only=True` for any use case where you don't have full control of the loaded file. Please open an issue on GitHub for any issues related to this experimental feature.\n",
            "  state_dict = torch.load(\"CNN_anti.pth\")\n"
          ]
        },
        {
          "output_type": "stream",
          "name": "stdout",
          "text": [
            "Loss: 5.158442036190536e-06 ,Train accuracy: 1.0\n",
            "Loss: 4.829081262869295e-06 ,Train accuracy: 1.0\n",
            "Loss: 8.390408038394526e-05 ,Train accuracy: 1.0\n",
            "Loss: 29.381364822387695 ,Train accuracy: 0.203125\n",
            "Loss: 1.0210387699771672e-06 ,Train accuracy: 1.0\n",
            "Loss: 7.527406751250965e-07 ,Train accuracy: 1.0\n",
            "Loss: 1.6049835949161206e-06 ,Train accuracy: 1.0\n",
            "Loss: 4.29685030667315e-07 ,Train accuracy: 1.0\n",
            "Loss: 1.0573063264018856e-05 ,Train accuracy: 1.0\n",
            "Loss: 16.38692855834961 ,Train accuracy: 0.203125\n",
            "Loss: 3.933870539185591e-05 ,Train accuracy: 1.0\n",
            "Loss: 7.361057214438915e-05 ,Train accuracy: 1.0\n",
            "Loss: 1.3796491202811012e-06 ,Train accuracy: 1.0\n",
            "Loss: 1.3357314365691764e-08 ,Train accuracy: 1.0\n",
            "Loss: 9.848702120507369e-07 ,Train accuracy: 1.0\n",
            "Loss: 5.0457763671875 ,Train accuracy: 0.3046875\n",
            "Loss: 0.023029454052448273 ,Train accuracy: 1.0\n",
            "Loss: 0.1978570967912674 ,Train accuracy: 0.953125\n",
            "Loss: 7.330741569333554e-10 ,Train accuracy: 1.0\n",
            "Loss: 1.2090680456822156e-08 ,Train accuracy: 1.0\n",
            "Loss: 7.296980797377728e-09 ,Train accuracy: 1.0\n",
            "Loss: 2.109459400177002 ,Train accuracy: 0.484375\n",
            "Loss: 0.6675429344177246 ,Train accuracy: 0.765625\n",
            "Loss: 0.3667948544025421 ,Train accuracy: 0.8828125\n",
            "Loss: 3.564768272235064e-11 ,Train accuracy: 1.0\n",
            "Loss: 3.629028189067185e-09 ,Train accuracy: 1.0\n",
            "Loss: 1.5352718492067652e-06 ,Train accuracy: 1.0\n",
            "Loss: 4.494203567504883 ,Train accuracy: 0.3125\n",
            "Loss: 0.008864292874932289 ,Train accuracy: 1.0\n",
            "Loss: 0.008874413557350636 ,Train accuracy: 1.0\n",
            "Loss: 1.640225498825143e-12 ,Train accuracy: 1.0\n",
            "Loss: 7.389414635738945e-10 ,Train accuracy: 1.0\n",
            "Loss: 2.2673322064292734e-07 ,Train accuracy: 1.0\n",
            "Loss: 3.801741600036621 ,Train accuracy: 0.3359375\n",
            "Loss: 0.08149462938308716 ,Train accuracy: 0.96875\n",
            "Loss: 0.10516171902418137 ,Train accuracy: 0.9453125\n",
            "Loss: 2.0125306315118413e-13 ,Train accuracy: 1.0\n",
            "Loss: 1.7796192297581115e-10 ,Train accuracy: 1.0\n",
            "Loss: 2.261320158902791e-10 ,Train accuracy: 1.0\n",
            "Loss: 2.602956771850586 ,Train accuracy: 0.453125\n",
            "Loss: 0.2734607458114624 ,Train accuracy: 0.8828125\n",
            "Loss: 0.26976388692855835 ,Train accuracy: 0.90625\n",
            "Loss: 1.3969993564733052e-11 ,Train accuracy: 1.0\n",
            "Loss: 3.372440673075905e-13 ,Train accuracy: 1.0\n",
            "Loss: 4.869720626743401e-09 ,Train accuracy: 1.0\n",
            "Loss: 3.1730384826660156 ,Train accuracy: 0.46875\n",
            "Loss: 0.07399947941303253 ,Train accuracy: 0.953125\n",
            "Loss: 0.20222777128219604 ,Train accuracy: 0.9140625\n",
            "Loss: 5.609493338581961e-12 ,Train accuracy: 1.0\n",
            "Loss: 1.883545809556672e-14 ,Train accuracy: 1.0\n",
            "Loss: 2.4725818614790285e-11 ,Train accuracy: 1.0\n",
            "Loss: 2.9505085945129395 ,Train accuracy: 0.4765625\n",
            "Loss: 0.04201429337263107 ,Train accuracy: 0.9921875\n",
            "Loss: 0.1505226492881775 ,Train accuracy: 0.9375\n",
            "Loss: 1.5178811441259044e-13 ,Train accuracy: 1.0\n",
            "Loss: 6.322587592366702e-11 ,Train accuracy: 1.0\n",
            "Loss: 9.367185499487007e-11 ,Train accuracy: 1.0\n",
            "Loss: 2.787504196166992 ,Train accuracy: 0.46875\n",
            "Loss: 0.05238062143325806 ,Train accuracy: 0.9765625\n",
            "Loss: 0.16992215812206268 ,Train accuracy: 0.9296875\n",
            "Loss: 2.9597485486781983e-12 ,Train accuracy: 1.0\n",
            "Loss: 1.890249290426027e-09 ,Train accuracy: 1.0\n",
            "Loss: 5.625247143092871e-11 ,Train accuracy: 1.0\n",
            "Loss: 2.7572619915008545 ,Train accuracy: 0.4609375\n",
            "Loss: 0.13744139671325684 ,Train accuracy: 0.9375\n",
            "Loss: 0.07217992842197418 ,Train accuracy: 0.9609375\n",
            "Loss: 7.612431464267683e-14 ,Train accuracy: 1.0\n",
            "Loss: 8.003672552121008e-16 ,Train accuracy: 1.0\n",
            "Loss: 5.701759064891121e-09 ,Train accuracy: 1.0\n",
            "Loss: 2.309495687484741 ,Train accuracy: 0.5\n",
            "Loss: 0.1680990606546402 ,Train accuracy: 0.921875\n",
            "Loss: 0.2247588336467743 ,Train accuracy: 0.890625\n",
            "Loss: 5.061658193346069e-16 ,Train accuracy: 1.0\n",
            "Loss: 2.3667510009109383e-14 ,Train accuracy: 1.0\n",
            "Loss: 1.8290452485913988e-09 ,Train accuracy: 1.0\n",
            "Loss: 2.9020843505859375 ,Train accuracy: 0.484375\n",
            "Loss: 0.046856995671987534 ,Train accuracy: 0.9765625\n",
            "Loss: 0.07645519077777863 ,Train accuracy: 0.953125\n",
            "Loss: 9.291821564023504e-18 ,Train accuracy: 1.0\n",
            "Loss: 3.235415719094191e-17 ,Train accuracy: 1.0\n",
            "Loss: 9.808808902915175e-14 ,Train accuracy: 1.0\n",
            "Loss: 2.169105052947998 ,Train accuracy: 0.5234375\n",
            "Loss: 0.10207963734865189 ,Train accuracy: 0.9609375\n",
            "Loss: 0.17843729257583618 ,Train accuracy: 0.953125\n",
            "Loss: 4.1377284187664714e-16 ,Train accuracy: 1.0\n",
            "Loss: 6.177682334868734e-14 ,Train accuracy: 1.0\n",
            "Loss: 6.837477632692934e-14 ,Train accuracy: 1.0\n",
            "Loss: 2.550682306289673 ,Train accuracy: 0.4921875\n",
            "Loss: 0.09635254740715027 ,Train accuracy: 0.96875\n",
            "Loss: 0.07650331407785416 ,Train accuracy: 0.9765625\n",
            "Loss: 4.180995986677854e-17 ,Train accuracy: 1.0\n",
            "Loss: 4.771901456980174e-16 ,Train accuracy: 1.0\n",
            "Loss: 1.0711218578762782e-09 ,Train accuracy: 1.0\n",
            "Loss: 2.4231925010681152 ,Train accuracy: 0.5390625\n",
            "Loss: 0.1135345995426178 ,Train accuracy: 0.953125\n",
            "Loss: 0.1277182251214981 ,Train accuracy: 0.9609375\n",
            "Loss: 2.59948450320735e-07 ,Train accuracy: 1.0\n",
            "Loss: 7.189708962267597e-17 ,Train accuracy: 1.0\n",
            "Loss: 1.496227295706698e-12 ,Train accuracy: 1.0\n",
            "Loss: 2.1661376953125 ,Train accuracy: 0.5859375\n",
            "Loss: 0.10033473372459412 ,Train accuracy: 0.953125\n",
            "Loss: 0.07619711756706238 ,Train accuracy: 0.9609375\n",
            "Loss: 8.476092050457851e-11 ,Train accuracy: 1.0\n",
            "Loss: 2.6668711575932213e-17 ,Train accuracy: 1.0\n",
            "Loss: 3.3521061225177604e-14 ,Train accuracy: 1.0\n",
            "Loss: 2.3836653232574463 ,Train accuracy: 0.5625\n",
            "Loss: 0.1405792534351349 ,Train accuracy: 0.9296875\n",
            "Loss: 0.21500062942504883 ,Train accuracy: 0.9375\n",
            "Loss: 8.823785686991473e-20 ,Train accuracy: 1.0\n",
            "Loss: 1.249085711877145e-15 ,Train accuracy: 1.0\n",
            "Loss: 7.146893632459239e-10 ,Train accuracy: 1.0\n",
            "Loss: 2.0588574409484863 ,Train accuracy: 0.5859375\n",
            "Loss: 0.07248326390981674 ,Train accuracy: 0.9609375\n",
            "Loss: 0.09737883508205414 ,Train accuracy: 0.953125\n",
            "Loss: 3.897128279964969e-18 ,Train accuracy: 1.0\n",
            "Loss: 5.969832917937512e-13 ,Train accuracy: 1.0\n",
            "Loss: 3.880495778223539e-14 ,Train accuracy: 1.0\n",
            "Loss: 1.963388442993164 ,Train accuracy: 0.5234375\n",
            "Loss: 0.11183768510818481 ,Train accuracy: 0.9453125\n",
            "Loss: 0.0764247477054596 ,Train accuracy: 0.9765625\n",
            "Loss: 4.657375932126933e-15 ,Train accuracy: 1.0\n",
            "Loss: 1.0721799289332631e-13 ,Train accuracy: 1.0\n",
            "Loss: 2.0301234651687317e-12 ,Train accuracy: 1.0\n",
            "Loss: 1.9547854661941528 ,Train accuracy: 0.6015625\n",
            "Loss: 0.1641499251127243 ,Train accuracy: 0.9296875\n",
            "Loss: 0.12816515564918518 ,Train accuracy: 0.9375\n",
            "Loss: 5.441975920488801e-17 ,Train accuracy: 1.0\n",
            "Loss: 7.476652358108526e-16 ,Train accuracy: 1.0\n",
            "Loss: 1.0747075430105058e-13 ,Train accuracy: 1.0\n",
            "Loss: 2.237138509750366 ,Train accuracy: 0.5625\n",
            "Loss: 0.014200256206095219 ,Train accuracy: 1.0\n",
            "Loss: 0.08806675672531128 ,Train accuracy: 0.96875\n",
            "Loss: 2.3426533014265426e-19 ,Train accuracy: 1.0\n",
            "Loss: 1.2426463440733524e-18 ,Train accuracy: 1.0\n",
            "Loss: 1.4076328095486128e-14 ,Train accuracy: 1.0\n",
            "Loss: 2.152147054672241 ,Train accuracy: 0.578125\n",
            "Loss: 0.15885941684246063 ,Train accuracy: 0.9375\n",
            "Loss: 0.1060955673456192 ,Train accuracy: 0.9609375\n",
            "Loss: 1.6871553253864496e-13 ,Train accuracy: 1.0\n",
            "Loss: 2.2792596252309634e-21 ,Train accuracy: 1.0\n",
            "Loss: 4.3646247098287627e-13 ,Train accuracy: 1.0\n",
            "Loss: 1.9668642282485962 ,Train accuracy: 0.578125\n",
            "Loss: 0.06196855008602142 ,Train accuracy: 0.96875\n",
            "Loss: 0.06274262070655823 ,Train accuracy: 0.9921875\n",
            "Loss: 2.848005679204981e-17 ,Train accuracy: 1.0\n",
            "Loss: 1.4928908641381769e-21 ,Train accuracy: 1.0\n",
            "Loss: 6.17606503133507e-16 ,Train accuracy: 1.0\n",
            "Loss: 1.6964890956878662 ,Train accuracy: 0.59375\n",
            "Loss: 0.09346862137317657 ,Train accuracy: 0.96875\n",
            "Loss: 0.08452701568603516 ,Train accuracy: 0.96875\n",
            "Loss: 6.978605773089825e-15 ,Train accuracy: 1.0\n",
            "Loss: 4.585956483059725e-17 ,Train accuracy: 1.0\n",
            "Loss: 2.458837754782642e-15 ,Train accuracy: 1.0\n",
            "Loss: 1.3224318027496338 ,Train accuracy: 0.6796875\n",
            "Loss: 0.06772342324256897 ,Train accuracy: 0.984375\n",
            "Loss: 0.08832310140132904 ,Train accuracy: 0.9609375\n",
            "Loss: 7.172076594578286e-23 ,Train accuracy: 1.0\n",
            "Loss: 3.388398158945902e-22 ,Train accuracy: 1.0\n",
            "Loss: 8.481051718515161e-17 ,Train accuracy: 1.0\n",
            "Loss: 1.8813036680221558 ,Train accuracy: 0.609375\n",
            "Loss: 0.05825752764940262 ,Train accuracy: 0.9765625\n",
            "Loss: 0.05844375491142273 ,Train accuracy: 0.9765625\n",
            "Loss: 2.5339304945745165e-17 ,Train accuracy: 1.0\n",
            "Loss: 1.7619685047582252e-19 ,Train accuracy: 1.0\n",
            "Loss: 3.410807125712995e-17 ,Train accuracy: 1.0\n",
            "Loss: 1.816273808479309 ,Train accuracy: 0.625\n",
            "Loss: 0.12055739760398865 ,Train accuracy: 0.9453125\n",
            "Loss: 0.10412997007369995 ,Train accuracy: 0.9609375\n",
            "Loss: 4.916134227238636e-17 ,Train accuracy: 1.0\n",
            "Loss: 1.1367389939922584e-16 ,Train accuracy: 1.0\n",
            "Loss: 1.0431753375918543e-16 ,Train accuracy: 1.0\n",
            "Loss: 1.758608341217041 ,Train accuracy: 0.59375\n",
            "Loss: 0.09197432547807693 ,Train accuracy: 0.9609375\n",
            "Loss: 0.10597191751003265 ,Train accuracy: 0.96875\n",
            "Loss: 2.423855717577513e-15 ,Train accuracy: 1.0\n",
            "Loss: 2.6948274866347944e-15 ,Train accuracy: 1.0\n",
            "Loss: 2.6518386802442033e-19 ,Train accuracy: 1.0\n",
            "Loss: 1.6914302110671997 ,Train accuracy: 0.5859375\n",
            "Loss: 0.08535082638263702 ,Train accuracy: 0.9453125\n",
            "Loss: 0.1179123967885971 ,Train accuracy: 0.953125\n",
            "Loss: 7.63506836841118e-24 ,Train accuracy: 1.0\n",
            "Loss: 3.0570463381931047e-18 ,Train accuracy: 1.0\n",
            "Loss: 1.190362863172805e-17 ,Train accuracy: 1.0\n",
            "Loss: 1.7633094787597656 ,Train accuracy: 0.640625\n",
            "Loss: 0.06941963732242584 ,Train accuracy: 0.9765625\n",
            "Loss: 0.10241256654262543 ,Train accuracy: 0.9453125\n",
            "Loss: 7.176360120065564e-16 ,Train accuracy: 1.0\n",
            "Loss: 4.7591225851301836e-20 ,Train accuracy: 1.0\n",
            "Loss: 3.9928848422077223e-11 ,Train accuracy: 1.0\n",
            "Loss: 1.2807735204696655 ,Train accuracy: 0.6640625\n",
            "Loss: 0.13925126194953918 ,Train accuracy: 0.9453125\n",
            "Loss: 0.11152443289756775 ,Train accuracy: 0.953125\n",
            "Loss: 1.340637427769156e-22 ,Train accuracy: 1.0\n",
            "Loss: 1.6298992164150035e-22 ,Train accuracy: 1.0\n",
            "Loss: 4.120704909411232e-16 ,Train accuracy: 1.0\n",
            "Loss: 1.7173287868499756 ,Train accuracy: 0.640625\n",
            "Loss: 0.057952821254730225 ,Train accuracy: 0.984375\n",
            "Loss: 0.06473536789417267 ,Train accuracy: 0.984375\n",
            "Loss: 2.1852391183353396e-21 ,Train accuracy: 1.0\n",
            "Loss: 8.46644720009418e-26 ,Train accuracy: 1.0\n",
            "Loss: 9.550366790644303e-19 ,Train accuracy: 1.0\n",
            "Loss: 1.825289249420166 ,Train accuracy: 0.6640625\n",
            "Loss: 0.04320533946156502 ,Train accuracy: 0.9921875\n",
            "Loss: 0.14889945089817047 ,Train accuracy: 0.9375\n",
            "Loss: 1.677761707341574e-09 ,Train accuracy: 1.0\n",
            "Loss: 1.5885397589396467e-27 ,Train accuracy: 1.0\n",
            "Loss: 3.79772422799567e-19 ,Train accuracy: 1.0\n",
            "Loss: 1.9394900798797607 ,Train accuracy: 0.5859375\n",
            "Loss: 0.02779606357216835 ,Train accuracy: 0.9921875\n",
            "Loss: 0.06282027065753937 ,Train accuracy: 0.96875\n",
            "Loss: 1.403761572533962e-23 ,Train accuracy: 1.0\n",
            "Loss: 7.135499569732755e-27 ,Train accuracy: 1.0\n",
            "Loss: 4.7261941403661453e-14 ,Train accuracy: 1.0\n",
            "Loss: 1.5701100826263428 ,Train accuracy: 0.65625\n",
            "Loss: 0.10314663499593735 ,Train accuracy: 0.9453125\n",
            "Loss: 0.11870619654655457 ,Train accuracy: 0.96875\n",
            "Loss: 1.0925801792312811e-22 ,Train accuracy: 1.0\n",
            "Loss: 6.2481313846055e-25 ,Train accuracy: 1.0\n",
            "Loss: 3.3583585809212127e-16 ,Train accuracy: 1.0\n",
            "Loss: 1.6433565616607666 ,Train accuracy: 0.640625\n",
            "Loss: 0.06412084400653839 ,Train accuracy: 0.96875\n",
            "Loss: 0.07111901044845581 ,Train accuracy: 0.9609375\n",
            "Loss: 7.199506510987224e-25 ,Train accuracy: 1.0\n",
            "Loss: 6.84210895213431e-22 ,Train accuracy: 1.0\n",
            "Loss: 2.7142291979986702e-21 ,Train accuracy: 1.0\n",
            "Loss: 1.318100929260254 ,Train accuracy: 0.671875\n",
            "Loss: 0.0828031525015831 ,Train accuracy: 0.953125\n",
            "Loss: 0.09394659847021103 ,Train accuracy: 0.9609375\n",
            "Loss: 1.8288858782006607e-26 ,Train accuracy: 1.0\n",
            "Loss: 3.046747524360926e-21 ,Train accuracy: 1.0\n",
            "Loss: 3.4405453936999094e-16 ,Train accuracy: 1.0\n",
            "Loss: 1.3467046022415161 ,Train accuracy: 0.6796875\n",
            "Loss: 0.06378184258937836 ,Train accuracy: 0.984375\n",
            "Loss: 0.14796246588230133 ,Train accuracy: 0.9296875\n",
            "Loss: 1.4036044314416419e-25 ,Train accuracy: 1.0\n",
            "Loss: 2.4264040102582078e-24 ,Train accuracy: 1.0\n",
            "Loss: 2.5262799010890135e-17 ,Train accuracy: 1.0\n",
            "Loss: 1.7725954055786133 ,Train accuracy: 0.6328125\n",
            "Loss: 0.03618818148970604 ,Train accuracy: 1.0\n",
            "Loss: 0.025815319269895554 ,Train accuracy: 1.0\n"
          ]
        }
      ]
    },
    {
      "cell_type": "code",
      "source": [
        "pred_class1, pred_class2 = get_predictions(dataloader2, model2)\n",
        "plt.scatter(Y2, pred_class1, label='Ferromagnetic')\n",
        "plt.scatter(Y2, pred_class2, label='Paramagnetic')\n",
        "plt.legend()"
      ],
      "metadata": {
        "id": "mlbOSx-7cnj6",
        "outputId": "34702cab-be52-4b42-f66c-851c0a586b3c",
        "colab": {
          "base_uri": "https://localhost:8080/",
          "height": 447
        }
      },
      "execution_count": 317,
      "outputs": [
        {
          "output_type": "execute_result",
          "data": {
            "text/plain": [
              "<matplotlib.legend.Legend at 0x7eaef988b590>"
            ]
          },
          "metadata": {},
          "execution_count": 317
        },
        {
          "output_type": "display_data",
          "data": {
            "text/plain": [
              "<Figure size 640x480 with 1 Axes>"
            ],
            "image/png": "[encoded data removed]"
          },
          "metadata": {}
        }
      ]
    },
    {
      "cell_type": "code",
      "source": [
        "plot_proba(np.array(Y2), np.array(pred_class1), np.array(pred_class2), 'Ferromagnetic', 'Paramagnetic')"
      ],
      "metadata": {
        "id": "5xL5vVd7cp6X",
        "outputId": "26ca18c2-d0c2-4ab7-efb6-64dc5591ac77",
        "colab": {
          "base_uri": "https://localhost:8080/",
          "height": 571
        }
      },
      "execution_count": 318,
      "outputs": [
        {
          "output_type": "display_data",
          "data": {
            "text/plain": [
              "<Figure size 800x600 with 1 Axes>"
            ],
            "image/png": "[encoded data removed]"
          },
          "metadata": {}
        }
      ]
    },
    {
      "cell_type": "code",
      "source": [
        "optimizer = optim.Adam([\n",
        "    {'params': model2.fc1.parameters()},\n",
        "    {'params': model2.fc2.parameters()}\n",
        "], lr=1*1e-4, betas=[0.9,0.999])\n",
        "train(model2, num_epochs=24, criterion=criterion, optimizer=optimizer, train_dataloader=dataloader2_filter)"
      ],
      "metadata": {
        "id": "y9A73pS3cuoJ",
        "outputId": "8e2f023f-af47-44dc-a25f-07f5b0679e3c",
        "colab": {
          "base_uri": "https://localhost:8080/"
        }
      },
      "execution_count": 319,
      "outputs": [
        {
          "output_type": "stream",
          "name": "stdout",
          "text": [
            "Loss: 1.1982100009918213 ,Train accuracy: 0.7109375\n",
            "Loss: 0.8534985780715942 ,Train accuracy: 0.7421875\n",
            "Loss: 0.5200448036193848 ,Train accuracy: 0.78125\n",
            "Loss: 0.6481658220291138 ,Train accuracy: 0.75\n",
            "Loss: 0.4346246123313904 ,Train accuracy: 0.796875\n",
            "Loss: 0.6648215055465698 ,Train accuracy: 0.8125\n",
            "Loss: 0.5874972343444824 ,Train accuracy: 0.8046875\n",
            "Loss: 0.5236960649490356 ,Train accuracy: 0.7890625\n",
            "Loss: 0.7332783341407776 ,Train accuracy: 0.734375\n",
            "Loss: 0.7044795751571655 ,Train accuracy: 0.78125\n",
            "Loss: 0.5885187387466431 ,Train accuracy: 0.7734375\n",
            "Loss: 0.5969269275665283 ,Train accuracy: 0.8046875\n",
            "Loss: 0.7048454284667969 ,Train accuracy: 0.765625\n",
            "Loss: 0.5878933668136597 ,Train accuracy: 0.8203125\n",
            "Loss: 0.6271549463272095 ,Train accuracy: 0.765625\n",
            "Loss: 0.5692610740661621 ,Train accuracy: 0.78125\n",
            "Loss: 0.6939743757247925 ,Train accuracy: 0.765625\n",
            "Loss: 0.4183826744556427 ,Train accuracy: 0.8046875\n",
            "Loss: 0.44122833013534546 ,Train accuracy: 0.8203125\n",
            "Loss: 0.6237325668334961 ,Train accuracy: 0.78125\n",
            "Loss: 0.45707637071609497 ,Train accuracy: 0.8046875\n",
            "Loss: 0.5083678960800171 ,Train accuracy: 0.7890625\n",
            "Loss: 0.5065067410469055 ,Train accuracy: 0.8203125\n",
            "Loss: 0.43098974227905273 ,Train accuracy: 0.8125\n"
          ]
        }
      ]
    },
    {
      "cell_type": "code",
      "source": [
        "optimizer = optim.Adam([\n",
        "    {'params': model2.fc1.parameters()},\n",
        "    {'params': model2.fc2.parameters()}\n",
        "], lr=3*1e-10, betas=[0.9,0.999])\n",
        "train(model2, num_epochs=5, criterion=criterion, optimizer=optimizer, train_dataloader=dataloader2_filter)"
      ],
      "metadata": {
        "id": "dKEOVFQhdO__",
        "outputId": "e3273a76-7baa-4265-bc90-a2aa8586d2f7",
        "colab": {
          "base_uri": "https://localhost:8080/"
        }
      },
      "execution_count": 364,
      "outputs": [
        {
          "output_type": "stream",
          "name": "stdout",
          "text": [
            "Loss: 0.3682434856891632 ,Train accuracy: 0.8359375\n",
            "Loss: 0.35947519540786743 ,Train accuracy: 0.828125\n",
            "Loss: 0.3658812940120697 ,Train accuracy: 0.8359375\n",
            "Loss: 0.4019022285938263 ,Train accuracy: 0.8203125\n",
            "Loss: 0.3458600640296936 ,Train accuracy: 0.828125\n"
          ]
        }
      ]
    },
    {
      "cell_type": "code",
      "source": [
        "pred_class1, pred_class2 = get_predictions(dataloader2, model2)\n",
        "plt.scatter(Y2, pred_class1, label='Ferromagnetic')\n",
        "plt.scatter(Y2, pred_class2, label='Paramagnetic')\n",
        "plt.legend()"
      ],
      "metadata": {
        "id": "E_XNEZYodeKf",
        "outputId": "2529a7d3-c966-4bc7-b46c-300c6f8b5518",
        "colab": {
          "base_uri": "https://localhost:8080/",
          "height": 447
        }
      },
      "execution_count": 365,
      "outputs": [
        {
          "output_type": "execute_result",
          "data": {
            "text/plain": [
              "<matplotlib.legend.Legend at 0x7eaefb7eb590>"
            ]
          },
          "metadata": {},
          "execution_count": 365
        },
        {
          "output_type": "display_data",
          "data": {
            "text/plain": [
              "<Figure size 640x480 with 1 Axes>"
            ],
            "image/png": "[encoded data removed]"
          },
          "metadata": {}
        }
      ]
    },
    {
      "cell_type": "code",
      "source": [
        "plot_proba(np.array(Y2), np.array(pred_class1), np.array(pred_class2), 'Ferromagnetic', 'Paramagnetic')"
      ],
      "metadata": {
        "id": "5HH3PtRLdmcK",
        "outputId": "ce5f241c-39c6-4057-d4ba-72305d21a76c",
        "colab": {
          "base_uri": "https://localhost:8080/",
          "height": 571
        }
      },
      "execution_count": 366,
      "outputs": [
        {
          "output_type": "display_data",
          "data": {
            "text/plain": [
              "<Figure size 800x600 with 1 Axes>"
            ],
            "image/png": "[encoded data removed]"
          },
          "metadata": {}
        }
      ]
    },
    {
      "cell_type": "code",
      "source": [],
      "metadata": {
        "id": "HLE3D-CKdzzT"
      },
      "execution_count": null,
      "outputs": []
    }
  ]
}