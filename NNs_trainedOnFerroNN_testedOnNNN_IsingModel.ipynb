{
  "cells": [
    {
      "cell_type": "markdown",
      "metadata": {
        "id": "view-in-github",
        "colab_type": "text"
      },
      "source": [
        "<a href=\"https://colab.research.google.com/github/PratyushJha254/BTP/blob/main/NNs_trainedOnFerroNN_testedOnNNN_IsingModel.ipynb\" target=\"_parent\"><img src=\"https://colab.research.google.com/assets/colab-badge.svg\" alt=\"Open In Colab\"/></a>"
      ]
    },
    {
      "cell_type": "markdown",
      "source": [
        "Do the following:\n",
        "1.   Code NNs using pytorch, test over NNN Ising Model.\n",
        "2.   Train the model using antiferro data [Note the results].\n",
        "3.   Train on ferro test on anti-ferro [Note the results].\n",
        "\n",
        "\n"
      ],
      "metadata": {
        "id": "Tih5gFAocas0"
      }
    },
    {
      "cell_type": "code",
      "execution_count": 1,
      "metadata": {
        "id": "CH9ENwKBYeOY"
      },
      "outputs": [],
      "source": [
        "import numpy as np\n",
        "from matplotlib import pyplot as plt\n",
        "import tensorflow as tf\n",
        "from tensorflow import keras\n",
        "from sklearn.model_selection import train_test_split\n",
        "from keras.utils import to_categorical\n",
        "import pickle\n",
        "from sklearn.manifold import TSNE\n",
        "import numpy as np\n",
        "import matplotlib.pyplot as plt\n",
        "import matplotlib.colors as mcol\n",
        "import matplotlib.cm as cm\n",
        "from keras.utils import to_categorical\n",
        "import keras.layers as layers\n",
        "from keras import Sequential\n",
        "from numba import jit\n",
        "\n",
        "import numpy as np\n",
        "import torch\n",
        "import torch.nn as nn\n",
        "import torch.optim as optim\n",
        "from torch.utils.data import Dataset, DataLoader\n",
        "import torchvision.utils as vutils\n",
        "import matplotlib.pyplot as plt\n",
        "import sys\n",
        "from torch.autograd import Variable\n",
        "from torch.autograd import grad as torch_grad\n",
        "import seaborn as sns\n"
      ]
    },
    {
      "cell_type": "markdown",
      "source": [
        "#### Metropolis Algorithm"
      ],
      "metadata": {
        "id": "DZUcbnKRp0LW"
      }
    },
    {
      "cell_type": "code",
      "execution_count": null,
      "metadata": {
        "id": "JxP8qAFiZ5eZ"
      },
      "outputs": [],
      "source": [
        "import numpy as np\n",
        "from numba import jit\n",
        "\n",
        "@jit(nopython=True)\n",
        "def data_generation_internal(l, J=1):\n",
        "    # J = 1  # coupling strength\n",
        "    L = l  # grid size\n",
        "\n",
        "    temperatures = np.arange(1, 3.51, 0.1)  # 26\n",
        "    ntherm = 100  # thermalization steps\n",
        "    nsamples = 100  # number of samples for every starting configuration\n",
        "    nbin = 10  # number of starting configurations\n",
        "\n",
        "    n = len(temperatures) * nbin * nsamples  # total number of samples\n",
        "\n",
        "    C = np.empty((n, L, L))\n",
        "    T = np.empty(n)\n",
        "\n",
        "    # checkerboard pattern\n",
        "    x = np.zeros((L, L), dtype=np.int64)\n",
        "    x[1::2, 0::2] = 1\n",
        "    x[0::2, 1::2] = 1\n",
        "\n",
        "    c = 0\n",
        "    for t in temperatures:\n",
        "        for i in range(nbin):\n",
        "            # start with polarized state\n",
        "            grid = np.ones((L, L)) * (-1)**(i % 2)\n",
        "            # draw a number of sample configurations\n",
        "            for j in range(nsamples):\n",
        "                # perform a number of updates until thermalization\n",
        "                for k in range(ntherm):\n",
        "                    # Calculate neighbors without using np.roll()\n",
        "                    neighbors = np.zeros((L, L))\n",
        "                    neighbors[:-1, :] += grid[1:, :]\n",
        "                    neighbors[1:, :] += grid[:-1, :]\n",
        "                    neighbors[:, :-1] += grid[:, 1:]\n",
        "                    neighbors[:, 1:] += grid[:, :-1]\n",
        "                    # calculate the potential changes in energy\n",
        "                    dE = 2 * J * (grid * neighbors)\n",
        "                    # calculate the transition probabilities\n",
        "                    p = np.exp(-dE / t)\n",
        "                    # decide which transitions will occur\n",
        "                    # (avoid updating neighbors using alternating checkerboard pattern)\n",
        "                    grid *= 1 - 2 * np.multiply((np.random.rand(L, L) < p).astype(np.int8), x ^ (k % 2))\n",
        "\n",
        "                C[c] = grid\n",
        "                T[c] = t\n",
        "                c += 1\n",
        "\n",
        "    return C, T"
      ]
    },
    {
      "cell_type": "code",
      "source": [
        "def data_generation(l, name, J):\n",
        "    C, T = data_generation_internal(l, J)\n",
        "    p = np.random.permutation(len(C))\n",
        "    np.savez_compressed(name, X=C[p], y=T[p])"
      ],
      "metadata": {
        "id": "_695L5ZXJIuG"
      },
      "execution_count": null,
      "outputs": []
    },
    {
      "cell_type": "code",
      "execution_count": null,
      "metadata": {
        "id": "vhxKd4C0Z5ea"
      },
      "outputs": [],
      "source": [
        "# data_generation(10, 'data1.npz', 1)\n",
        "# data_generation(20, 'data2.npz', 1)\n",
        "# data_generation(30, 'data3.npz', 1)\n",
        "# data_generation(40, 'data4.npz', 1)\n",
        "data_generation(64, 'data_anti.npz', -1)"
      ]
    },
    {
      "cell_type": "markdown",
      "source": [
        "#### Loading the file"
      ],
      "metadata": {
        "id": "bm-eCHQ5p5dz"
      }
    },
    {
      "cell_type": "code",
      "source": [
        "nu_G = 10\n",
        "Ny = 64\n",
        "Nx = 64\n",
        "nc = 1\n",
        "nz = 100\n",
        "ngf = 64\n",
        "ndf = 64\n",
        "num_epochs = 50\n",
        "lr = 0.001\n",
        "beta1 = 0.5\n",
        "ngpu = 1\n",
        "N = Ny * Nx\n",
        "device = torch.device('cuda:0' if (torch.cuda.is_available() and ngpu > 0) else 'cpu')"
      ],
      "metadata": {
        "id": "Z2YO9EViStuz"
      },
      "execution_count": 2,
      "outputs": []
    },
    {
      "cell_type": "code",
      "execution_count": 3,
      "metadata": {
        "id": "Wwq4a69qZ5eb"
      },
      "outputs": [],
      "source": [
        "def file_loader(file_name, Tc = 2.27):\n",
        "    data = np.load(file_name)\n",
        "    X = data['X']\n",
        "    y = data['y']\n",
        "    X_train, X_test, Y_train, Y_test = train_test_split(X, y, test_size=0.15)\n",
        "    # Tc = 2.27 # For a square lattice following Ising Model\n",
        "    y_train = Y_train > Tc\n",
        "    y_test = Y_test > Tc\n",
        "    y_train = to_categorical(y_train.astype(int))\n",
        "    y_test = to_categorical(y_test.astype(int))\n",
        "    return X_train, X_test, y_train, y_test, Y_train, Y_test"
      ]
    },
    {
      "cell_type": "code",
      "source": [
        "def full_file_loader(file_name, Tc = 2.27):\n",
        "    data = np.load(file_name)\n",
        "    X = data['X']\n",
        "    Y = data['y']\n",
        "    # Tc = 2.27 # For a square lattice following Ising Model\n",
        "    y = Y > Tc\n",
        "    y = to_categorical(y.astype(int))\n",
        "    return X, y, Y"
      ],
      "metadata": {
        "id": "Fy5Nz7d0SY1C"
      },
      "execution_count": 4,
      "outputs": []
    },
    {
      "cell_type": "markdown",
      "source": [
        "##### Generating various datasets"
      ],
      "metadata": {
        "id": "T5rT0fhC2TFf"
      }
    },
    {
      "cell_type": "markdown",
      "source": [
        "Ferromagnetic dataset"
      ],
      "metadata": {
        "id": "Ozw0sGQb2YcL"
      }
    },
    {
      "cell_type": "code",
      "execution_count": null,
      "metadata": {
        "id": "Y_8X1AJRZAaN"
      },
      "outputs": [],
      "source": [
        "# Ferromagnetic dataset: train and test\n",
        "\n",
        "X_train, X_test, y_train, y_test, Y_train, Y_test = file_loader('data.npz')"
      ]
    },
    {
      "cell_type": "markdown",
      "source": [
        "Anti-ferromagnetic dataset"
      ],
      "metadata": {
        "id": "u0EjKdfJ2gw-"
      }
    },
    {
      "cell_type": "code",
      "source": [
        "# Anti-ferromagnetic dataset: train and test\n",
        "\n",
        "X_train_anti, X_test_anti, y_train_anti, y_test_anti, Y_train_anti, Y_test_anti = file_loader('data_anti.npz')"
      ],
      "metadata": {
        "id": "puu1oIW8oxg1"
      },
      "execution_count": null,
      "outputs": []
    },
    {
      "cell_type": "code",
      "source": [
        "# Anti-ferromagnetic dataset: full dataset for testing\n",
        "\n",
        "X_anti, y_anti, Y_anti = full_file_loader('data_anti.npz')"
      ],
      "metadata": {
        "id": "8CYCj5PSSWFl"
      },
      "execution_count": null,
      "outputs": []
    },
    {
      "cell_type": "markdown",
      "source": [
        "NNN Ising model dataset"
      ],
      "metadata": {
        "id": "FQJvPwh_2knK"
      }
    },
    {
      "cell_type": "code",
      "source": [
        "# NNN Ising model dataset: train and test\n",
        "\n",
        "X_train_NNN, X_test_NNN, y_train_NNN, y_test_NNN, Y_train_NNN, Y_test_NNN = file_loader('data_64NNN_anti_noshuffle.npz', 8.5)"
      ],
      "metadata": {
        "id": "OY_WntZUu9FH"
      },
      "execution_count": 95,
      "outputs": []
    },
    {
      "cell_type": "code",
      "source": [
        "# NNN Ising model dataset: full dataset for testing\n",
        "\n",
        "X_NNN, y_NNN, Y_NNN = full_file_loader('data_64NNN_anti_noshuffle.npz', 8.5)"
      ],
      "metadata": {
        "id": "bUaRY1qlu9FI"
      },
      "execution_count": 96,
      "outputs": []
    },
    {
      "cell_type": "markdown",
      "source": [
        "Sudatt's dataset: NN-Ferro-64 <br>\n",
        "*For trial*\n",
        "\n"
      ],
      "metadata": {
        "id": "zNi88FX5yrCA"
      }
    },
    {
      "cell_type": "code",
      "source": [
        "# Ferromagnetic dataset: train and test\n",
        "\n",
        "X_train, X_test, y_train, y_test, Y_train, Y_test = file_loader('data_ferroNN64_Sudatt.npz')"
      ],
      "metadata": {
        "id": "voGAd1F8un6W"
      },
      "execution_count": 8,
      "outputs": []
    },
    {
      "cell_type": "markdown",
      "source": [
        "#### Dataset and DataLoader"
      ],
      "metadata": {
        "id": "BSS1i0APqJnU"
      }
    },
    {
      "cell_type": "code",
      "source": [
        "class IsingDataset(Dataset):\n",
        "    def __init__(self, x, y, anti_ferro=False):\n",
        "        self.n_samples = x.shape[0]\n",
        "        self.x = torch.tensor(torch.from_numpy(x))\n",
        "        self.y = torch.tensor(torch.from_numpy(y))\n",
        "        self.anti_ferro = anti_ferro\n",
        "\n",
        "    def __getitem__(self, index):\n",
        "        if self.anti_ferro:\n",
        "            x_transformed = self._apply_anti_ferro(self.x[index])\n",
        "            return x_transformed, self.y[index]\n",
        "        else:\n",
        "            return self.x[index], self.y[index]\n",
        "\n",
        "    def __len__(self):\n",
        "        return self.n_samples\n",
        "\n",
        "    def _apply_anti_ferro(self, x):\n",
        "        # Apply anti-ferromagnetic transformation\n",
        "        m, n = x.size()\n",
        "        x_copy = x.clone()\n",
        "        for i in range(m):\n",
        "            for j in range(n):\n",
        "                x_copy[i][j] *= (-1)**(i+j)\n",
        "        # indices = torch.arange(m).unsqueeze(1) + torch.arange(n)\n",
        "        return x_copy\n",
        "\n",
        "# Example usage\n",
        "# x = ...  # Your input data\n",
        "# y = ...  # Your target labels\n",
        "# anti_ferro = True  # Set to True to apply the anti-ferromagnetic transformation\n",
        "# dataset = IsingDataset(x, y, anti_ferro=anti_ferro)\n"
      ],
      "metadata": {
        "id": "OvGVpjWwJi8J"
      },
      "execution_count": 82,
      "outputs": []
    },
    {
      "cell_type": "code",
      "source": [
        "training_dataset = IsingDataset(X_train, y_train)\n",
        "testing_dataset = IsingDataset(X_test, y_test)\n",
        "batch_size = 128\n",
        "train_dataloader = DataLoader(dataset = training_dataset, batch_size = batch_size, shuffle = False)\n",
        "test_dataloader = DataLoader(dataset = testing_dataset, batch_size = batch_size, shuffle = False)"
      ],
      "metadata": {
        "colab": {
          "base_uri": "https://localhost:8080/"
        },
        "id": "MxE4frNKJw4y",
        "outputId": "ca619a5c-f144-4cd1-c058-5786b02856fe"
      },
      "execution_count": 10,
      "outputs": [
        {
          "output_type": "stream",
          "name": "stderr",
          "text": [
            "<ipython-input-9-2d1bccbc4b53>:4: UserWarning: To copy construct from a tensor, it is recommended to use sourceTensor.clone().detach() or sourceTensor.clone().detach().requires_grad_(True), rather than torch.tensor(sourceTensor).\n",
            "  self.x = torch.tensor(torch.from_numpy(x))\n",
            "<ipython-input-9-2d1bccbc4b53>:5: UserWarning: To copy construct from a tensor, it is recommended to use sourceTensor.clone().detach() or sourceTensor.clone().detach().requires_grad_(True), rather than torch.tensor(sourceTensor).\n",
            "  self.y = torch.tensor(torch.from_numpy(y))\n"
          ]
        }
      ]
    },
    {
      "cell_type": "code",
      "source": [
        "training_dataset_anti = IsingDataset(X_train_anti, y_train_anti)\n",
        "testing_dataset_anti = IsingDataset(X_test_anti, y_test_anti)\n",
        "batch_size = 128\n",
        "train_dataloader_anti = DataLoader(dataset = training_dataset_anti, batch_size = batch_size, shuffle = False)\n",
        "test_dataloader_anti = DataLoader(dataset = testing_dataset_anti, batch_size = batch_size, shuffle = False)"
      ],
      "metadata": {
        "colab": {
          "base_uri": "https://localhost:8080/"
        },
        "id": "TWZOcCBUobIc",
        "outputId": "3f7759f7-9656-4911-e5bd-feb1a64ae965"
      },
      "execution_count": null,
      "outputs": [
        {
          "output_type": "stream",
          "name": "stderr",
          "text": [
            "<ipython-input-13-de2182b412d1>:4: UserWarning: To copy construct from a tensor, it is recommended to use sourceTensor.clone().detach() or sourceTensor.clone().detach().requires_grad_(True), rather than torch.tensor(sourceTensor).\n",
            "  self.x = torch.tensor(torch.from_numpy(x))\n",
            "<ipython-input-13-de2182b412d1>:5: UserWarning: To copy construct from a tensor, it is recommended to use sourceTensor.clone().detach() or sourceTensor.clone().detach().requires_grad_(True), rather than torch.tensor(sourceTensor).\n",
            "  self.y = torch.tensor(torch.from_numpy(y))\n"
          ]
        }
      ]
    },
    {
      "cell_type": "code",
      "source": [
        "# training_dataset_anti_modified = IsingDataset(X_train_anti, y_train_anti, anti_ferro = True)\n",
        "# testing_dataset_anti_modified = IsingDataset(X_test_anti, y_test_anti, anti_ferro = True)\n",
        "# batch_size = 128\n",
        "# train_dataloader_anti_modified = DataLoader(dataset = training_dataset_anti_modified, batch_size = batch_size, shuffle = False)\n",
        "# test_dataloader_anti_modified = DataLoader(dataset = testing_dataset_anti_modified, batch_size = batch_size, shuffle = False)"
      ],
      "metadata": {
        "id": "r5VXqQT0MaP8"
      },
      "execution_count": null,
      "outputs": []
    },
    {
      "cell_type": "code",
      "source": [
        "dataset_anti_modified = IsingDataset(X_anti, y_anti, anti_ferro = True)\n",
        "batch_size = 128\n",
        "dataloader_anti_modified = DataLoader(dataset = dataset_anti_modified, batch_size = batch_size, shuffle = False)"
      ],
      "metadata": {
        "id": "HFApST16Sw-a"
      },
      "execution_count": null,
      "outputs": []
    },
    {
      "cell_type": "code",
      "source": [
        "dataset_NNN = IsingDataset(X_NNN, y_NNN)\n",
        "batch_size = 128\n",
        "dataloader_NNN = DataLoader(dataset = dataset_NNN, batch_size = batch_size, shuffle = False)"
      ],
      "metadata": {
        "colab": {
          "base_uri": "https://localhost:8080/"
        },
        "id": "06IrGxUZuXJb",
        "outputId": "101b7a8f-459b-484d-99ec-3ee8c0a0e6ce"
      },
      "execution_count": 97,
      "outputs": [
        {
          "output_type": "stream",
          "name": "stderr",
          "text": [
            "<ipython-input-82-7242be97cb86>:4: UserWarning: To copy construct from a tensor, it is recommended to use sourceTensor.clone().detach() or sourceTensor.clone().detach().requires_grad_(True), rather than torch.tensor(sourceTensor).\n",
            "  self.x = torch.tensor(torch.from_numpy(x))\n",
            "<ipython-input-82-7242be97cb86>:5: UserWarning: To copy construct from a tensor, it is recommended to use sourceTensor.clone().detach() or sourceTensor.clone().detach().requires_grad_(True), rather than torch.tensor(sourceTensor).\n",
            "  self.y = torch.tensor(torch.from_numpy(y))\n"
          ]
        }
      ]
    },
    {
      "cell_type": "code",
      "source": [
        "dataset_antiNNN_modified = IsingDataset(X_NNN, y_NNN, anti_ferro = True)\n",
        "batch_size = 128\n",
        "dataloader_antiNNN_modified = DataLoader(dataset = dataset_antiNNN_modified, batch_size = batch_size, shuffle = False)"
      ],
      "metadata": {
        "outputId": "6c7b33fb-096c-4ebf-e1fe-3ed1c791e890",
        "colab": {
          "base_uri": "https://localhost:8080/"
        },
        "id": "9rsOhZRL7hJV"
      },
      "execution_count": 78,
      "outputs": [
        {
          "output_type": "stream",
          "name": "stderr",
          "text": [
            "<ipython-input-55-f110231a1e28>:4: UserWarning: To copy construct from a tensor, it is recommended to use sourceTensor.clone().detach() or sourceTensor.clone().detach().requires_grad_(True), rather than torch.tensor(sourceTensor).\n",
            "  self.x = torch.tensor(torch.from_numpy(x))\n",
            "<ipython-input-55-f110231a1e28>:5: UserWarning: To copy construct from a tensor, it is recommended to use sourceTensor.clone().detach() or sourceTensor.clone().detach().requires_grad_(True), rather than torch.tensor(sourceTensor).\n",
            "  self.y = torch.tensor(torch.from_numpy(y))\n"
          ]
        }
      ]
    },
    {
      "cell_type": "markdown",
      "source": [
        "#### Accuracy, train and test functions"
      ],
      "metadata": {
        "id": "RZDqQL9sqtt5"
      }
    },
    {
      "cell_type": "code",
      "source": [
        "def calculate_accuracy(outputs, labels):\n",
        "    # Threshold the outputs at 0.5 to get binary predictions: below 0.5 becomes 0, above becomes 1\n",
        "    predicted = (outputs > 0.5).float()\n",
        "\n",
        "    # The labels need to have the same dimensions as the predictions for comparison\n",
        "    # Assuming labels are already in the correct shape (batch_size, 1) or (batch_size,)\n",
        "    # If not, you might need to adjust labels' shape, e.g., labels = labels.view(-1, 1)\n",
        "\n",
        "    # Calculate the number of correct predictions\n",
        "    correct = (predicted == labels).float().sum().item()/2\n",
        "\n",
        "    # Calculate the total number of labels (which is also the batch size)\n",
        "    total = labels.size(0)\n",
        "\n",
        "    # Calculate accuracy as the percentage of correct predictions\n",
        "    accuracy = correct / total\n",
        "    return accuracy\n"
      ],
      "metadata": {
        "id": "hOTDhh6OcgX9"
      },
      "execution_count": 12,
      "outputs": []
    },
    {
      "cell_type": "code",
      "source": [
        "def train(model, num_epochs, criterion, optimizer, train_dataloader):\n",
        "  for epoch in range(num_epochs):\n",
        "    for i, (x, label) in enumerate(train_dataloader):\n",
        "      x = x.to(device).float()\n",
        "      label = label.to(device).float()\n",
        "      b_size = x.size(0)\n",
        "      model.zero_grad()\n",
        "      output = model(x)\n",
        "      # if(epoch==0 and i==0):\n",
        "      #   print(output)\n",
        "      error = criterion(output, label)\n",
        "      error.backward()\n",
        "      optimizer.step()\n",
        "      acc_train = calculate_accuracy(output, label)\n",
        "      if i % 20 == 0:\n",
        "        print('Loss:', error.item(),',Train accuracy:', acc_train)"
      ],
      "metadata": {
        "id": "nOqtvmF4R72B"
      },
      "execution_count": 13,
      "outputs": []
    },
    {
      "cell_type": "code",
      "source": [
        "def test(model, criterion, test_dataloader):\n",
        "    for i, (x, label) in enumerate(test_dataloader):\n",
        "      x = x.to(device).float()\n",
        "      label = label.to(device).float()\n",
        "      output = model(x)\n",
        "      error = criterion(output, label)\n",
        "      acc_train = calculate_accuracy(output, label)\n",
        "      # if i % 20 == 0:\n",
        "      print(i,'::  Loss:', error.item(),',Test accuracy:', acc_train)"
      ],
      "metadata": {
        "id": "lkWQ7iweqBZ9"
      },
      "execution_count": 91,
      "outputs": []
    },
    {
      "cell_type": "code",
      "source": [
        "def get_predictions(test_loader, model):\n",
        "    # Assuming `test_loader` is your DataLoader for the test dataset\n",
        "    # Initialize lists to store predictions for each class\n",
        "    predictions_class_1 = []\n",
        "    predictions_class_2 = []\n",
        "\n",
        "    with torch.no_grad():  # Disable gradient tracking during inference\n",
        "        for inputs, _ in test_loader:\n",
        "            inputs = inputs.to(device).float()  # Move inputs to the device (e.g., GPU)\n",
        "            outputs = model(inputs)  # Forward pass to get predictions\n",
        "\n",
        "            # Assuming the output is softmax probabilities\n",
        "            # Separate the probabilities for class-1 and class-2\n",
        "            class_1_probs = outputs[:, 0].cpu().numpy()  # Probabilities for class-1\n",
        "            class_2_probs = outputs[:, 1].cpu().numpy()  # Probabilities for class-2\n",
        "\n",
        "            predictions_class_1.extend(class_1_probs)\n",
        "            predictions_class_2.extend(class_2_probs)\n",
        "\n",
        "    # `predictions_class_1` contains the probabilities for class-1 for all test samples\n",
        "    # `predictions_class_2` contains the probabilities for class-2 for all test samples\n",
        "    # You can further process or save these predictions as needed\n",
        "    return predictions_class_1, predictions_class_2\n"
      ],
      "metadata": {
        "id": "RZQwaexTynZw"
      },
      "execution_count": 15,
      "outputs": []
    },
    {
      "cell_type": "markdown",
      "metadata": {
        "id": "Jru3T1Rz1aRh"
      },
      "source": [
        "#### Fully Connected Neural Network"
      ]
    },
    {
      "cell_type": "code",
      "source": [
        "class neural_network(nn.Module):\n",
        "  def __init__(self):\n",
        "    super(neural_network, self).__init__()\n",
        "    self.main = nn.Sequential(\n",
        "        nn.Flatten(start_dim=1,end_dim=-1),\n",
        "        nn.Linear(Nx*Ny, 100),\n",
        "        nn.Sigmoid(),\n",
        "        nn.Linear(100, 2),\n",
        "        nn.Sigmoid()\n",
        "    )\n",
        "  def forward(self, input):\n",
        "      return self.main(input)"
      ],
      "metadata": {
        "id": "0lSfsrZCJ-0V"
      },
      "execution_count": 16,
      "outputs": []
    },
    {
      "cell_type": "code",
      "source": [
        "FCNN = neural_network().to(device)\n",
        "criterion_FCNN = nn.BCELoss()\n",
        "optimizer_FCNN = optim.Adam(FCNN.parameters(), lr=lr, betas=(0.9, 0.999))"
      ],
      "metadata": {
        "id": "K-euoH6nSSQP"
      },
      "execution_count": 17,
      "outputs": []
    },
    {
      "cell_type": "code",
      "source": [
        "num_epochs = 10\n",
        "train(FCNN, num_epochs, criterion_FCNN, optimizer_FCNN, train_dataloader)"
      ],
      "metadata": {
        "id": "yam54zMZeAXy",
        "outputId": "f6eb99d5-9293-468f-cb43-a63793e5ef50",
        "colab": {
          "base_uri": "https://localhost:8080/"
        }
      },
      "execution_count": 92,
      "outputs": [
        {
          "output_type": "stream",
          "name": "stdout",
          "text": [
            "Loss: 0.7347785830497742 ,Train accuracy: 0.79296875\n",
            "Loss: 1.1239769458770752 ,Train accuracy: 0.80859375\n",
            "Loss: 0.6711734533309937 ,Train accuracy: 0.8359375\n",
            "Loss: 0.34318357706069946 ,Train accuracy: 0.89453125\n",
            "Loss: 0.18698066473007202 ,Train accuracy: 0.9375\n",
            "Loss: 0.09000130742788315 ,Train accuracy: 0.96875\n",
            "Loss: 0.10641688108444214 ,Train accuracy: 0.9453125\n",
            "Loss: 0.00829769391566515 ,Train accuracy: 0.9921875\n",
            "Loss: 0.0036390097811818123 ,Train accuracy: 1.0\n",
            "Loss: 0.0004700332065112889 ,Train accuracy: 1.0\n",
            "Loss: 0.01640842668712139 ,Train accuracy: 0.984375\n",
            "Loss: 0.0055335331708192825 ,Train accuracy: 1.0\n",
            "Loss: 0.0017005293630063534 ,Train accuracy: 1.0\n",
            "Loss: 0.002357419114559889 ,Train accuracy: 1.0\n",
            "Loss: 0.00012466372572816908 ,Train accuracy: 1.0\n",
            "Loss: 0.0002529257908463478 ,Train accuracy: 1.0\n",
            "Loss: 0.0005549909546971321 ,Train accuracy: 1.0\n",
            "Loss: 0.0002220485475845635 ,Train accuracy: 1.0\n",
            "Loss: 8.066734881140292e-05 ,Train accuracy: 1.0\n",
            "Loss: 0.0002806349075399339 ,Train accuracy: 1.0\n",
            "Loss: 0.0003010789805557579 ,Train accuracy: 1.0\n",
            "Loss: 0.0004215161025058478 ,Train accuracy: 1.0\n",
            "Loss: 0.00010940055653918535 ,Train accuracy: 1.0\n",
            "Loss: 0.0002040530671365559 ,Train accuracy: 1.0\n",
            "Loss: 0.0003757368540391326 ,Train accuracy: 1.0\n",
            "Loss: 0.00018496165284886956 ,Train accuracy: 1.0\n",
            "Loss: 6.63318278384395e-05 ,Train accuracy: 1.0\n",
            "Loss: 0.00020920744282193482 ,Train accuracy: 1.0\n",
            "Loss: 0.00022657369845546782 ,Train accuracy: 1.0\n",
            "Loss: 0.00030593149131163955 ,Train accuracy: 1.0\n",
            "Loss: 9.757107181940228e-05 ,Train accuracy: 1.0\n",
            "Loss: 0.00017064419807866216 ,Train accuracy: 1.0\n",
            "Loss: 0.00028931451379321516 ,Train accuracy: 1.0\n",
            "Loss: 0.00015723664546385407 ,Train accuracy: 1.0\n",
            "Loss: 5.6686003517825156e-05 ,Train accuracy: 1.0\n",
            "Loss: 0.000168220853083767 ,Train accuracy: 1.0\n",
            "Loss: 0.0001786632346920669 ,Train accuracy: 1.0\n",
            "Loss: 0.00024039758136495948 ,Train accuracy: 1.0\n",
            "Loss: 8.813024032860994e-05 ,Train accuracy: 1.0\n",
            "Loss: 0.0001460490166209638 ,Train accuracy: 1.0\n",
            "Loss: 0.00023486727150157094 ,Train accuracy: 1.0\n",
            "Loss: 0.00013559051149059087 ,Train accuracy: 1.0\n",
            "Loss: 4.950391303282231e-05 ,Train accuracy: 1.0\n",
            "Loss: 0.00014052803453523666 ,Train accuracy: 1.0\n",
            "Loss: 0.00014533690409734845 ,Train accuracy: 1.0\n",
            "Loss: 0.00019706410239450634 ,Train accuracy: 1.0\n",
            "Loss: 8.030497701838613e-05 ,Train accuracy: 1.0\n",
            "Loss: 0.0001270562206627801 ,Train accuracy: 1.0\n",
            "Loss: 0.00019661821715999395 ,Train accuracy: 1.0\n",
            "Loss: 0.0001182086780318059 ,Train accuracy: 1.0\n",
            "Loss: 4.386217551655136e-05 ,Train accuracy: 1.0\n",
            "Loss: 0.00012017697736155242 ,Train accuracy: 1.0\n",
            "Loss: 0.00012088875519111753 ,Train accuracy: 1.0\n",
            "Loss: 0.0001659588742768392 ,Train accuracy: 1.0\n",
            "Loss: 7.365427154581994e-05 ,Train accuracy: 1.0\n",
            "Loss: 0.00011189994984306395 ,Train accuracy: 1.0\n",
            "Loss: 0.00016800846788100898 ,Train accuracy: 1.0\n",
            "Loss: 0.00010395619028713554 ,Train accuracy: 1.0\n",
            "Loss: 3.9277805626625195e-05 ,Train accuracy: 1.0\n",
            "Loss: 0.00010442542406963184 ,Train accuracy: 1.0\n",
            "Loss: 0.00010226295853499323 ,Train accuracy: 1.0\n",
            "Loss: 0.00014243056648410857 ,Train accuracy: 1.0\n",
            "Loss: 6.789075996493921e-05 ,Train accuracy: 1.0\n",
            "Loss: 9.949444938683882e-05 ,Train accuracy: 1.0\n",
            "Loss: 0.00014569552149623632 ,Train accuracy: 1.0\n",
            "Loss: 9.207864059135318e-05 ,Train accuracy: 1.0\n",
            "Loss: 3.545858635334298e-05 ,Train accuracy: 1.0\n",
            "Loss: 9.1798254288733e-05 ,Train accuracy: 1.0\n",
            "Loss: 8.76526246429421e-05 ,Train accuracy: 1.0\n",
            "Loss: 0.00012397351383697242 ,Train accuracy: 1.0\n",
            "Loss: 6.282979302341118e-05 ,Train accuracy: 1.0\n",
            "Loss: 8.914382488001138e-05 ,Train accuracy: 1.0\n",
            "Loss: 0.00012777785013895482 ,Train accuracy: 1.0\n",
            "Loss: 8.204959885915741e-05 ,Train accuracy: 1.0\n",
            "Loss: 3.2220021239481866e-05 ,Train accuracy: 1.0\n",
            "Loss: 8.142131991917267e-05 ,Train accuracy: 1.0\n",
            "Loss: 7.593737245770171e-05 ,Train accuracy: 1.0\n",
            "Loss: 0.00010910216951742768 ,Train accuracy: 1.0\n",
            "Loss: 5.8334866480436176e-05 ,Train accuracy: 1.0\n",
            "Loss: 8.037388033699244e-05 ,Train accuracy: 1.0\n"
          ]
        }
      ]
    },
    {
      "cell_type": "code",
      "source": [
        "test(FCNN, criterion_FCNN, test_dataloader)"
      ],
      "metadata": {
        "colab": {
          "base_uri": "https://localhost:8080/"
        },
        "id": "B3n_xRaZrrwa",
        "outputId": "54e2b079-d8b7-4797-d420-cded877a5e44"
      },
      "execution_count": 19,
      "outputs": [
        {
          "output_type": "stream",
          "name": "stdout",
          "text": [
            "Loss: 0.0012012120569124818 ,Test accuracy: 1.0\n",
            "Loss: 0.0010095927864313126 ,Test accuracy: 1.0\n"
          ]
        }
      ]
    },
    {
      "cell_type": "markdown",
      "source": [
        "Saving the trained weights"
      ],
      "metadata": {
        "id": "8j8UUsWIq4tq"
      }
    },
    {
      "cell_type": "code",
      "source": [
        "torch.save(FCNN.state_dict(), 'NeuralNetwork_trained_on_ferroNN64.pth')"
      ],
      "metadata": {
        "id": "s7A28z4Cjrip"
      },
      "execution_count": 20,
      "outputs": []
    },
    {
      "cell_type": "markdown",
      "source": [
        "Loading the trained weights"
      ],
      "metadata": {
        "id": "wCTl8j7YrBcw"
      }
    },
    {
      "cell_type": "code",
      "source": [
        "FCNN.load_state_dict(torch.load('NeuralNetwork_weights_anti64.pth'))"
      ],
      "metadata": {
        "id": "p0d8eIZdtcjZ",
        "outputId": "31c414cc-ebb1-4a3f-e814-a0b82bb242f7",
        "colab": {
          "base_uri": "https://localhost:8080/"
        }
      },
      "execution_count": 93,
      "outputs": [
        {
          "output_type": "execute_result",
          "data": {
            "text/plain": [
              "<All keys matched successfully>"
            ]
          },
          "metadata": {},
          "execution_count": 93
        }
      ]
    },
    {
      "cell_type": "markdown",
      "source": [
        "#### CNN"
      ],
      "metadata": {
        "id": "ahyH_oUYpvUa"
      }
    },
    {
      "cell_type": "code",
      "source": [
        "# model = Sequential([\n",
        "#           layers.Reshape(target_shape=(40,40,1), input_shape=(40,40)),\n",
        "#           layers.Conv2D(128, (3,3), padding='valid', activation='relu'),\n",
        "#           layers.Flatten(),\n",
        "#           layers.Dense(128, activation='relu'),\n",
        "#           layers.Dropout(.5),\n",
        "#           layers.Dense(2, activation='softmax')\n",
        "#         ])\n",
        "import torch.nn.functional as F\n",
        "\n",
        "class ConvNet(nn.Module):\n",
        "    def __init__(self, Nx, Ny):\n",
        "        super(ConvNet, self).__init__()\n",
        "        # Equivalent to Reshape in Keras, but in PyTorch, reshaping is typically done in the forward method.\n",
        "        # Conv2D layer with 128 filters, kernel size of 3x3, padding='valid' implies no padding in PyTorch\n",
        "        self.conv1 = nn.Conv2d(1, 64, kernel_size=2, padding=0)\n",
        "        # Determine the output size of the first convolutional layer\n",
        "        self.out_conv1 = self._calculate_output_size((Nx, Ny), kernel_size=2, padding=0)\n",
        "        # Dense layer with 128 units\n",
        "        self.fc1 = nn.Linear(64 * self.out_conv1[0] * self.out_conv1[1], 64)\n",
        "        # Dropout layer with p=0.5\n",
        "        self.dropout = nn.Dropout(p=0.5)\n",
        "        # Output Dense layer with 2 units for softmax output\n",
        "        self.fc2 = nn.Linear(64, 2)\n",
        "        self.flatten = nn.Flatten()\n",
        "\n",
        "    def forward(self, x):\n",
        "        # Reshape input to have one channel\n",
        "        x = x.view(-1, 1, x.size(1), x.size(2))\n",
        "        # Applying Convolutional Layer\n",
        "        x = F.relu(self.conv1(x))\n",
        "        # Flattening the output of the conv layer\n",
        "        x = x.view(-1, 64 * self.out_conv1[0] * self.out_conv1[1])    # ------------------\n",
        "        # Dense layer with ReLU activation\n",
        "        x = F.relu(self.fc1(x))\n",
        "        # Dropout layer\n",
        "        x = self.dropout(x)\n",
        "        # Output layer with softmax activation\n",
        "        return F.softmax(self.fc2(x))\n",
        "\n",
        "    def _calculate_output_size(self, input_size, kernel_size, padding):\n",
        "        # Calculate output size after convolutional layer\n",
        "        out_size = [(input_size[0] - kernel_size + 2 * padding) + 1,\n",
        "                    (input_size[1] - kernel_size + 2 * padding) + 1]\n",
        "        return out_size\n"
      ],
      "metadata": {
        "id": "4eyt1PidREIM"
      },
      "execution_count": null,
      "outputs": []
    },
    {
      "cell_type": "code",
      "source": [
        "# import torch\n",
        "# import torch.nn as nn\n",
        "# import torch.nn.functional as F\n",
        "\n",
        "# class ConvNet(nn.Module):\n",
        "#     def __init__(self, Nx, Ny):\n",
        "#         super(ConvNet, self).__init__()\n",
        "#         self.Nx = Nx  # Width of the input matrix\n",
        "#         self.Ny = Ny  # Height of the input matrix\n",
        "\n",
        "#         # Convolutional Layer 1: input channels = 1, output channels = 8, kernel size = 3x3\n",
        "#         self.conv1 = nn.Conv2d(1, 8, kernel_size=3, padding=1)\n",
        "#         # Convolutional Layer 2: input channels = 8, output channels = 16, kernel size = 3x3\n",
        "#         self.conv2 = nn.Conv2d(8, 16, kernel_size=3, padding=1)\n",
        "#         # Max pooling layer reduces size by a factor of 2\n",
        "#         self.pool = nn.MaxPool2d(kernel_size=2, stride=2)\n",
        "\n",
        "#         # Calculate the size of the output from the last conv layer after max pooling\n",
        "#         # This is necessary to know how many input features the first fully connected layer expects\n",
        "#         self.final_dim_x = Nx // 2  # Division by 2 due to max pooling\n",
        "#         self.final_dim_y = Ny // 2\n",
        "\n",
        "#         # Fully Connected Layer\n",
        "#         self.fc1 = nn.Linear(16 * self.final_dim_x * self.final_dim_y, 32)\n",
        "#         # Output layer with a single unit for binary classification\n",
        "#         self.output = nn.Linear(32, 2)\n",
        "\n",
        "#     def forward(self, x):\n",
        "#         x = x.view(-1, 1, self.Nx, self.Ny)\n",
        "#         x = F.relu(self.conv1(x))\n",
        "#         x = F.relu(self.conv2(x))\n",
        "#         x = self.pool(x)\n",
        "#         # Flatten the output for the fully connected layer\n",
        "#         x = x.view(-1, 16 * self.final_dim_x * self.final_dim_y)\n",
        "#         x = F.relu(self.fc1(x))\n",
        "#         x = torch.nn.functional.softmax(self.output(x))\n",
        "#         return x\n",
        "\n"
      ],
      "metadata": {
        "id": "aE_h1CEUd7O1"
      },
      "execution_count": null,
      "outputs": []
    },
    {
      "cell_type": "code",
      "source": [
        "# model.compile(optimizer='adam',\n",
        "#               loss='binary_crossentropy',\n",
        "#               metrics=['binary_accuracy'])\n",
        "CNN = ConvNet(Nx, Ny).to(device)\n",
        "criterion_CNN = nn.BCELoss()\n",
        "optimizer_CNN = optim.Adam(CNN.parameters(), lr=1e-4, betas=(0.9, 0.999))"
      ],
      "metadata": {
        "id": "qiEhnYvsrOcv"
      },
      "execution_count": null,
      "outputs": []
    },
    {
      "cell_type": "code",
      "source": [
        "train(CNN, 10, criterion_CNN, optimizer_CNN, train_dataloader)"
      ],
      "metadata": {
        "id": "HBQPkd7RsPuA"
      },
      "execution_count": null,
      "outputs": []
    },
    {
      "cell_type": "code",
      "source": [
        "test(CNN, criterion_CNN, test_dataloader)"
      ],
      "metadata": {
        "colab": {
          "base_uri": "https://localhost:8080/"
        },
        "id": "WOSpMELUtN7j",
        "outputId": "494b1432-7d98-430a-ac96-43d2cd4b3c95"
      },
      "execution_count": null,
      "outputs": [
        {
          "output_type": "stream",
          "name": "stderr",
          "text": [
            "<ipython-input-52-f45b59c371fa>:39: UserWarning: Implicit dimension choice for softmax has been deprecated. Change the call to include dim=X as an argument.\n",
            "  return F.softmax(self.fc2(x))\n"
          ]
        },
        {
          "output_type": "stream",
          "name": "stdout",
          "text": [
            "Loss: 0.05853045731782913 ,Test accuracy: 0.9765625\n",
            "Loss: 0.0017994147492572665 ,Test accuracy: 1.0\n"
          ]
        }
      ]
    },
    {
      "cell_type": "code",
      "source": [
        "pred_class1, pred_class2 = get_predictions(test_dataloader, CNN)"
      ],
      "metadata": {
        "colab": {
          "base_uri": "https://localhost:8080/"
        },
        "id": "z4dt_1iszAkO",
        "outputId": "bcfb0899-a203-4d3a-9bad-a45852c4d06d"
      },
      "execution_count": null,
      "outputs": [
        {
          "output_type": "stream",
          "name": "stderr",
          "text": [
            "<ipython-input-52-f45b59c371fa>:39: UserWarning: Implicit dimension choice for softmax has been deprecated. Change the call to include dim=X as an argument.\n",
            "  return F.softmax(self.fc2(x))\n"
          ]
        }
      ]
    },
    {
      "cell_type": "code",
      "source": [
        "plt.scatter(Y_test, pred_class1)\n",
        "plt.scatter(Y_test, pred_class2)"
      ],
      "metadata": {
        "colab": {
          "base_uri": "https://localhost:8080/",
          "height": 447
        },
        "id": "DloldQlHmFNv",
        "outputId": "597fc146-b909-48f3-d40a-04774252ac6c"
      },
      "execution_count": null,
      "outputs": [
        {
          "output_type": "execute_result",
          "data": {
            "text/plain": [
              "<matplotlib.collections.PathCollection at 0x7cbde4f65270>"
            ]
          },
          "metadata": {},
          "execution_count": 91
        },
        {
          "output_type": "display_data",
          "data": {
            "text/plain": [
              "<Figure size 640x480 with 1 Axes>"
            ],
            "image/png": "[encoded data removed]"
          },
          "metadata": {}
        }
      ]
    },
    {
      "cell_type": "markdown",
      "source": [
        "#### Training and testing on anti-ferromagnetic Ising model case"
      ],
      "metadata": {
        "id": "wFRUTvcrOEyp"
      }
    },
    {
      "cell_type": "markdown",
      "source": [
        "##### FCNN"
      ],
      "metadata": {
        "id": "GBSvKWHaO92g"
      }
    },
    {
      "cell_type": "markdown",
      "source": [
        "###### Training and testing on antiferromagnetic Ising model data"
      ],
      "metadata": {
        "id": "HfC-Y_GOQ6Mg"
      }
    },
    {
      "cell_type": "code",
      "source": [
        "FCNN_anti = neural_network().to(device)\n",
        "criterion_FCNN_anti = nn.BCELoss()\n",
        "optimizer_FCNN_anti = optim.Adam(FCNN_anti.parameters(), lr=lr, betas=(0.9, 0.999))"
      ],
      "metadata": {
        "id": "kiP7p_A0LZp0"
      },
      "execution_count": null,
      "outputs": []
    },
    {
      "cell_type": "code",
      "source": [
        "num_epochs = 10\n",
        "train(FCNN_anti, num_epochs, criterion_FCNN_anti, optimizer_FCNN_anti, train_dataloader_anti)"
      ],
      "metadata": {
        "id": "pK5_G-VuOmNe"
      },
      "execution_count": null,
      "outputs": []
    },
    {
      "cell_type": "code",
      "source": [
        "test(FCNN_anti, criterion_FCNN_anti, test_dataloader_anti)"
      ],
      "metadata": {
        "colab": {
          "base_uri": "https://localhost:8080/"
        },
        "outputId": "99c744c2-69e2-41f2-af7a-33c3b28339e5",
        "id": "H_KWvB7mOmNf"
      },
      "execution_count": null,
      "outputs": [
        {
          "output_type": "stream",
          "name": "stdout",
          "text": [
            "Loss: 0.10503491759300232 ,Test accuracy: 0.9609375\n",
            "Loss: 0.3403957784175873 ,Test accuracy: 0.9296875\n"
          ]
        }
      ]
    },
    {
      "cell_type": "markdown",
      "source": [
        "###### Saving/loading the trained weights"
      ],
      "metadata": {
        "id": "mpcDN1FDOmNg"
      }
    },
    {
      "cell_type": "code",
      "source": [
        "# torch.save(FCNN_anti.state_dict(), 'NeuralNetwork_weights_anti64.pth')"
      ],
      "metadata": {
        "id": "F-taUz4oOmNh"
      },
      "execution_count": null,
      "outputs": []
    },
    {
      "cell_type": "code",
      "source": [
        "# FCNN_anti.load_state_dict(torch.load('NeuralNetwork_weights_anti64.pth'))"
      ],
      "metadata": {
        "id": "TGu2nXdQOmNi"
      },
      "execution_count": null,
      "outputs": []
    },
    {
      "cell_type": "markdown",
      "source": [
        "###### Results"
      ],
      "metadata": {
        "id": "qeD9t5eDQAPt"
      }
    },
    {
      "cell_type": "code",
      "source": [
        "pred_class1, pred_class2 = get_predictions(test_dataloader_anti, FCNN_anti)"
      ],
      "metadata": {
        "id": "fLYlbaIkP4w3"
      },
      "execution_count": null,
      "outputs": []
    },
    {
      "cell_type": "code",
      "source": [
        "plt.scatter(Y_test_anti, pred_class1)\n",
        "plt.scatter(Y_test_anti, pred_class2)"
      ],
      "metadata": {
        "id": "iXfdAAOSP4w3"
      },
      "execution_count": null,
      "outputs": []
    },
    {
      "cell_type": "markdown",
      "source": [
        "##### CNN"
      ],
      "metadata": {
        "id": "MgyzloBIPHai"
      }
    },
    {
      "cell_type": "markdown",
      "source": [
        "###### Training and testing on antiferromagnetic Ising model data"
      ],
      "metadata": {
        "id": "oPc7MBUfQd2z"
      }
    },
    {
      "cell_type": "code",
      "source": [
        "CNN_anti = ConvNet().to(device)\n",
        "criterion_CNN_anti = nn.BCELoss()\n",
        "optimizer_CNN_anti = optim.Adam(CNN_anti.parameters(), lr=0.0001, betas=(0.9, 0.999))"
      ],
      "metadata": {
        "id": "BczVa9gKPTHz"
      },
      "execution_count": null,
      "outputs": []
    },
    {
      "cell_type": "code",
      "source": [
        "num_epochs = 10\n",
        "train(CNN_anti, num_epochs, criterion_CNN_anti, optimizer_CNN_anti, train_dataloader_anti)"
      ],
      "metadata": {
        "id": "Qzr0x5hOPTH7"
      },
      "execution_count": null,
      "outputs": []
    },
    {
      "cell_type": "code",
      "source": [
        "test(CNN_anti, criterion_CNN_anti, test_dataloader_anti)"
      ],
      "metadata": {
        "colab": {
          "base_uri": "https://localhost:8080/"
        },
        "outputId": "99c744c2-69e2-41f2-af7a-33c3b28339e5",
        "id": "vgHDSqD9PTH8"
      },
      "execution_count": null,
      "outputs": [
        {
          "output_type": "stream",
          "name": "stdout",
          "text": [
            "Loss: 0.10503491759300232 ,Test accuracy: 0.9609375\n",
            "Loss: 0.3403957784175873 ,Test accuracy: 0.9296875\n"
          ]
        }
      ]
    },
    {
      "cell_type": "markdown",
      "source": [
        "###### Saving/loading the trained weights"
      ],
      "metadata": {
        "id": "IWCxL9rpPTH8"
      }
    },
    {
      "cell_type": "code",
      "source": [
        "# torch.save(CNN_anti.state_dict(), 'CNN_weights_anti64.pth')"
      ],
      "metadata": {
        "id": "m9QefMI6PTH8"
      },
      "execution_count": null,
      "outputs": []
    },
    {
      "cell_type": "code",
      "source": [
        "# CNN_anti.load_state_dict(torch.load('CNN_weights_anti64.pth'))"
      ],
      "metadata": {
        "id": "96cFQyV0PTH9"
      },
      "execution_count": null,
      "outputs": []
    },
    {
      "cell_type": "markdown",
      "source": [
        "###### Results"
      ],
      "metadata": {
        "id": "rTI3oT8bQFvU"
      }
    },
    {
      "cell_type": "code",
      "source": [
        "pred_class1, pred_class2 = get_predictions(test_dataloader_anti, CNN_anti)"
      ],
      "metadata": {
        "id": "J6DFRlzLQFvd"
      },
      "execution_count": null,
      "outputs": []
    },
    {
      "cell_type": "code",
      "source": [
        "plt.scatter(Y_test_anti, pred_class1)\n",
        "plt.scatter(Y_test_anti, pred_class2)"
      ],
      "metadata": {
        "id": "qjyULd2ZQFvd"
      },
      "execution_count": null,
      "outputs": []
    },
    {
      "cell_type": "code",
      "source": [
        "# Implement cross validation\n",
        "# Re-implement training the anti_ferro data on an FCNN and a CNN\n",
        "# Make changes in the anti_ferro and use our ferro model to predict it"
      ],
      "metadata": {
        "id": "zPYLfI-iomFn"
      },
      "execution_count": null,
      "outputs": []
    },
    {
      "cell_type": "markdown",
      "source": [
        "#### Using model trained on ferromagnetic data to predict antiferromagnetic phase transition"
      ],
      "metadata": {
        "id": "LvQ7pDYrRDjB"
      }
    },
    {
      "cell_type": "markdown",
      "source": [
        "FCNN"
      ],
      "metadata": {
        "id": "BMHTSGOfR6vU"
      }
    },
    {
      "cell_type": "code",
      "source": [
        "test(FCNN, criterion_FCNN, dataloader_anti_modified)"
      ],
      "metadata": {
        "colab": {
          "base_uri": "https://localhost:8080/"
        },
        "outputId": "99c744c2-69e2-41f2-af7a-33c3b28339e5",
        "id": "nsLLzMiwRlZt"
      },
      "execution_count": null,
      "outputs": [
        {
          "output_type": "stream",
          "name": "stdout",
          "text": [
            "Loss: 0.10503491759300232 ,Test accuracy: 0.9609375\n",
            "Loss: 0.3403957784175873 ,Test accuracy: 0.9296875\n"
          ]
        }
      ]
    },
    {
      "cell_type": "code",
      "source": [
        "pred_class1, pred_class2 = get_predictions(dataloader_anti_modified, FCNN)"
      ],
      "metadata": {
        "id": "9iiye8pXRlZu"
      },
      "execution_count": null,
      "outputs": []
    },
    {
      "cell_type": "code",
      "source": [
        "plt.scatter(Y_anti_modified, pred_class1)\n",
        "plt.scatter(Y_anti_modified, pred_class2)"
      ],
      "metadata": {
        "id": "dD30RR7ZRlZu"
      },
      "execution_count": null,
      "outputs": []
    },
    {
      "cell_type": "markdown",
      "source": [
        "CNN"
      ],
      "metadata": {
        "id": "2tLa_DAXR8qE"
      }
    },
    {
      "cell_type": "code",
      "source": [
        "test(CNN, criterion_CNN, dataloader_anti_modified)"
      ],
      "metadata": {
        "colab": {
          "base_uri": "https://localhost:8080/"
        },
        "outputId": "99c744c2-69e2-41f2-af7a-33c3b28339e5",
        "id": "w3Ykm-vJSAzV"
      },
      "execution_count": null,
      "outputs": [
        {
          "output_type": "stream",
          "name": "stdout",
          "text": [
            "Loss: 0.10503491759300232 ,Test accuracy: 0.9609375\n",
            "Loss: 0.3403957784175873 ,Test accuracy: 0.9296875\n"
          ]
        }
      ]
    },
    {
      "cell_type": "code",
      "source": [
        "pred_class1, pred_class2 = get_predictions(dataloader_anti_modified, CNN)"
      ],
      "metadata": {
        "id": "lLNbDBOMSAzc"
      },
      "execution_count": null,
      "outputs": []
    },
    {
      "cell_type": "code",
      "source": [
        "plt.scatter(Y_anti_modified, pred_class1)\n",
        "plt.scatter(Y_anti_modified, pred_class2)"
      ],
      "metadata": {
        "id": "7DNpsLmsSAzc"
      },
      "execution_count": null,
      "outputs": []
    },
    {
      "cell_type": "markdown",
      "source": [
        "#### Using model trained on ferromagnetic data to predict NNN-ferromagnetic phase transition"
      ],
      "metadata": {
        "id": "SmhA4z4C1iky"
      }
    },
    {
      "cell_type": "code",
      "source": [
        "test(FCNN, criterion_FCNN, dataloader_NNN)"
      ],
      "metadata": {
        "colab": {
          "base_uri": "https://localhost:8080/"
        },
        "outputId": "c7def5f6-e722-469b-befa-8f725204af9f",
        "id": "79bY9DXUQIpm"
      },
      "execution_count": 98,
      "outputs": [
        {
          "output_type": "stream",
          "name": "stdout",
          "text": [
            "0 ::  Loss: 1.609616994857788 ,Test accuracy: 0.4453125\n",
            "1 ::  Loss: 1.4490931034088135 ,Test accuracy: 0.359375\n",
            "2 ::  Loss: 1.413283348083496 ,Test accuracy: 0.5390625\n",
            "3 ::  Loss: 1.246348261833191 ,Test accuracy: 0.43359375\n",
            "4 ::  Loss: 1.461244821548462 ,Test accuracy: 0.42578125\n",
            "5 ::  Loss: 2.174595832824707 ,Test accuracy: 0.296875\n",
            "6 ::  Loss: 2.417595624923706 ,Test accuracy: 0.26953125\n",
            "7 ::  Loss: 2.3402962684631348 ,Test accuracy: 0.3125\n",
            "8 ::  Loss: 0.4263375699520111 ,Test accuracy: 0.81640625\n",
            "9 ::  Loss: 0.5571684837341309 ,Test accuracy: 0.78125\n",
            "10 ::  Loss: 0.45419710874557495 ,Test accuracy: 0.78515625\n",
            "11 ::  Loss: 0.6223742365837097 ,Test accuracy: 0.8046875\n",
            "12 ::  Loss: 0.4041638970375061 ,Test accuracy: 0.83203125\n",
            "13 ::  Loss: 0.5794613361358643 ,Test accuracy: 0.7890625\n",
            "14 ::  Loss: 0.6049662828445435 ,Test accuracy: 0.7734375\n",
            "15 ::  Loss: 0.7353666424751282 ,Test accuracy: 0.7265625\n",
            "16 ::  Loss: 0.618674635887146 ,Test accuracy: 0.7734375\n",
            "17 ::  Loss: 0.6932799220085144 ,Test accuracy: 0.7083333333333334\n"
          ]
        }
      ]
    },
    {
      "cell_type": "code",
      "source": [
        "plt.imshow(dataset_antiNNN_modified[100-1][0])"
      ],
      "metadata": {
        "id": "BOVP78ksMecx",
        "outputId": "c84af59e-45f0-47aa-c766-a9f7d4e45939",
        "colab": {
          "base_uri": "https://localhost:8080/",
          "height": 449
        }
      },
      "execution_count": 81,
      "outputs": [
        {
          "output_type": "execute_result",
          "data": {
            "text/plain": [
              "<matplotlib.image.AxesImage at 0x7ba224cbff40>"
            ]
          },
          "metadata": {},
          "execution_count": 81
        },
        {
          "output_type": "display_data",
          "data": {
            "text/plain": [
              "<Figure size 640x480 with 1 Axes>"
            ],
            "image/png": "[encoded data removed]"
          },
          "metadata": {}
        }
      ]
    },
    {
      "cell_type": "code",
      "source": [
        "plt.imshow(dataset_NNN[10][0])"
      ],
      "metadata": {
        "id": "mYMrWZhE-iqn",
        "outputId": "b250f2f5-b9b9-40c6-8bb9-9163cca0a057",
        "colab": {
          "base_uri": "https://localhost:8080/",
          "height": 449
        }
      },
      "execution_count": 88,
      "outputs": [
        {
          "output_type": "execute_result",
          "data": {
            "text/plain": [
              "<matplotlib.image.AxesImage at 0x7ba2249fc610>"
            ]
          },
          "metadata": {},
          "execution_count": 88
        },
        {
          "output_type": "display_data",
          "data": {
            "text/plain": [
              "<Figure size 640x480 with 1 Axes>"
            ],
            "image/png": "[encoded data removed]"
          },
          "metadata": {}
        }
      ]
    },
    {
      "cell_type": "code",
      "source": [
        "plt.imshow(X_NNN[3000-1])"
      ],
      "metadata": {
        "id": "5Xosy4SO-AtL",
        "outputId": "ed39abb4-cb87-4933-9e0a-cc1fa1ace7cc",
        "colab": {
          "base_uri": "https://localhost:8080/",
          "height": 449
        }
      },
      "execution_count": 76,
      "outputs": [
        {
          "output_type": "execute_result",
          "data": {
            "text/plain": [
              "<matplotlib.image.AxesImage at 0x7ba2256741c0>"
            ]
          },
          "metadata": {},
          "execution_count": 76
        },
        {
          "output_type": "display_data",
          "data": {
            "text/plain": [
              "<Figure size 640x480 with 1 Axes>"
            ],
            "image/png": "[encoded data removed]"
          },
          "metadata": {}
        }
      ]
    },
    {
      "cell_type": "code",
      "source": [
        "pred_class1, pred_class2 = get_predictions(dataloader_antiNNN_modified, FCNN)"
      ],
      "metadata": {
        "id": "V-h42Y32QIpm"
      },
      "execution_count": 52,
      "outputs": []
    },
    {
      "cell_type": "code",
      "source": [
        "y_NNN"
      ],
      "metadata": {
        "id": "iIQOMEWoQf_K",
        "outputId": "6c3022ca-4497-49d9-8c3c-3044e482414e",
        "colab": {
          "base_uri": "https://localhost:8080/"
        }
      },
      "execution_count": 53,
      "outputs": [
        {
          "output_type": "execute_result",
          "data": {
            "text/plain": [
              "array([[1., 0.],\n",
              "       [1., 0.],\n",
              "       [1., 0.],\n",
              "       ...,\n",
              "       [0., 1.],\n",
              "       [0., 1.],\n",
              "       [0., 1.]], dtype=float32)"
            ]
          },
          "metadata": {},
          "execution_count": 53
        }
      ]
    },
    {
      "cell_type": "code",
      "source": [
        "pred_class1"
      ],
      "metadata": {
        "id": "mXl8YSuQKryc",
        "outputId": "fd835375-8735-431a-a257-582e8ae76c2a",
        "colab": {
          "base_uri": "https://localhost:8080/"
        }
      },
      "execution_count": 54,
      "outputs": [
        {
          "output_type": "execute_result",
          "data": {
            "text/plain": [
              "[0.0016185105,\n",
              " 0.00025604354,\n",
              " 0.0005472265,\n",
              " 0.0014750304,\n",
              " 0.0012389537,\n",
              " 0.00074789114,\n",
              " 0.0017261271,\n",
              " 0.00097507023,\n",
              " 0.0005238301,\n",
              " 0.00029620976,\n",
              " 0.0007267368,\n",
              " 0.0006303333,\n",
              " 0.00048178452,\n",
              " 0.00067964883,\n",
              " 0.00076327845,\n",
              " 0.0005845886,\n",
              " 0.00034912326,\n",
              " 0.00046844123,\n",
              " 0.00051467225,\n",
              " 0.00078263326,\n",
              " 0.00065118074,\n",
              " 0.0008383655,\n",
              " 0.0009570231,\n",
              " 0.0006846021,\n",
              " 0.0007091704,\n",
              " 0.0007030215,\n",
              " 0.0013188532,\n",
              " 0.0016790016,\n",
              " 0.0010229469,\n",
              " 0.0018310098,\n",
              " 0.0023747368,\n",
              " 0.0021826737,\n",
              " 0.001986124,\n",
              " 0.002018789,\n",
              " 0.0021165723,\n",
              " 0.0025702629,\n",
              " 0.0017546144,\n",
              " 0.0020466412,\n",
              " 0.0011759851,\n",
              " 0.0009779792,\n",
              " 0.0012635733,\n",
              " 0.0020394207,\n",
              " 0.0010090796,\n",
              " 0.00091182755,\n",
              " 0.000784012,\n",
              " 0.0012481939,\n",
              " 0.0013498964,\n",
              " 0.0014593133,\n",
              " 0.0012614351,\n",
              " 0.0011027198,\n",
              " 0.00083725475,\n",
              " 0.0015168968,\n",
              " 0.0008332505,\n",
              " 0.00079688296,\n",
              " 0.00067150715,\n",
              " 0.0011412367,\n",
              " 0.00096134393,\n",
              " 0.0010498726,\n",
              " 0.0006766072,\n",
              " 0.0007325093,\n",
              " 0.0005792831,\n",
              " 0.00061657216,\n",
              " 0.0006510231,\n",
              " 0.00083272945,\n",
              " 0.00059368805,\n",
              " 0.0005377695,\n",
              " 0.000544788,\n",
              " 0.0009015687,\n",
              " 0.00061451585,\n",
              " 0.0005743163,\n",
              " 0.00091559195,\n",
              " 0.0005473426,\n",
              " 0.000911323,\n",
              " 0.0011186386,\n",
              " 0.0012351201,\n",
              " 0.0011785193,\n",
              " 0.0010040514,\n",
              " 0.0009384844,\n",
              " 0.00071271014,\n",
              " 0.00077505194,\n",
              " 0.00058343774,\n",
              " 0.0015132192,\n",
              " 0.0008435951,\n",
              " 0.0008119565,\n",
              " 0.00067028595,\n",
              " 0.00092759443,\n",
              " 0.0009559952,\n",
              " 0.001160098,\n",
              " 0.0010125166,\n",
              " 0.0013346277,\n",
              " 0.0011537569,\n",
              " 0.00091515237,\n",
              " 0.00062786776,\n",
              " 0.0005790703,\n",
              " 0.0008059742,\n",
              " 0.0008487295,\n",
              " 0.0010550612,\n",
              " 0.0012224034,\n",
              " 0.001028273,\n",
              " 0.0011330761,\n",
              " 0.00041836192,\n",
              " 0.00045105407,\n",
              " 0.00037066636,\n",
              " 0.0012232047,\n",
              " 0.0005576121,\n",
              " 0.0010820543,\n",
              " 0.00053355604,\n",
              " 0.00053842214,\n",
              " 0.00070799445,\n",
              " 0.00036501366,\n",
              " 0.00032420305,\n",
              " 0.000587641,\n",
              " 0.0010917941,\n",
              " 0.00082073483,\n",
              " 0.0010658859,\n",
              " 0.00059202826,\n",
              " 0.0006793636,\n",
              " 0.00047060655,\n",
              " 0.0003636646,\n",
              " 0.00031135912,\n",
              " 0.00032758145,\n",
              " 0.00051643373,\n",
              " 0.00034535228,\n",
              " 0.00033441244,\n",
              " 0.0004812638,\n",
              " 0.0003612949,\n",
              " 0.00049758307,\n",
              " 0.00037394837,\n",
              " 0.0003569424,\n",
              " 0.00041341048,\n",
              " 0.00046887412,\n",
              " 0.0004386962,\n",
              " 0.0006986374,\n",
              " 0.00045524148,\n",
              " 0.0003534138,\n",
              " 0.00027480605,\n",
              " 0.0004035818,\n",
              " 0.00038181574,\n",
              " 0.00060058385,\n",
              " 0.00065469946,\n",
              " 0.00064142497,\n",
              " 0.0006425422,\n",
              " 0.0007943806,\n",
              " 0.0010224335,\n",
              " 0.00068689935,\n",
              " 0.00057360623,\n",
              " 0.00059970794,\n",
              " 0.0005021048,\n",
              " 0.00064591016,\n",
              " 0.0007885074,\n",
              " 0.0009024884,\n",
              " 0.0013360763,\n",
              " 0.0013251954,\n",
              " 0.0008506787,\n",
              " 0.00074952753,\n",
              " 0.00067798106,\n",
              " 0.00070710166,\n",
              " 0.0005236601,\n",
              " 0.00081948057,\n",
              " 0.00054325553,\n",
              " 0.0006181025,\n",
              " 0.00048023177,\n",
              " 0.00045021344,\n",
              " 0.0006549922,\n",
              " 0.0008897612,\n",
              " 0.00076853717,\n",
              " 0.0009050395,\n",
              " 0.00066900515,\n",
              " 0.0005889,\n",
              " 0.00051170937,\n",
              " 0.00069461256,\n",
              " 0.0005604602,\n",
              " 0.0006312347,\n",
              " 0.0003950704,\n",
              " 0.0003676761,\n",
              " 0.00032597614,\n",
              " 0.00043676508,\n",
              " 0.0006518171,\n",
              " 0.00048581246,\n",
              " 0.00049372076,\n",
              " 0.0006570131,\n",
              " 0.0007606253,\n",
              " 0.0011237732,\n",
              " 0.00080395833,\n",
              " 0.0011196967,\n",
              " 0.0008648319,\n",
              " 0.00060764316,\n",
              " 0.0005614897,\n",
              " 0.0007994941,\n",
              " 0.0006933658,\n",
              " 0.0012027227,\n",
              " 0.0009367936,\n",
              " 0.0008438524,\n",
              " 0.00078674435,\n",
              " 0.0005565958,\n",
              " 0.0007149503,\n",
              " 0.00082186185,\n",
              " 0.0006266745,\n",
              " 0.00085272593,\n",
              " 0.00079554,\n",
              " 0.00046762166,\n",
              " 0.00025961798,\n",
              " 0.00018256652,\n",
              " 0.0004433898,\n",
              " 0.00050118763,\n",
              " 0.00030883114,\n",
              " 0.00013103167,\n",
              " 0.00033530634,\n",
              " 0.00023737826,\n",
              " 0.0003395616,\n",
              " 0.0002689604,\n",
              " 0.00022660954,\n",
              " 0.00020047973,\n",
              " 0.00023428074,\n",
              " 0.00019023386,\n",
              " 0.000112702444,\n",
              " 0.00024157458,\n",
              " 0.0003929186,\n",
              " 0.00020913458,\n",
              " 0.00011822284,\n",
              " 0.00014868117,\n",
              " 0.00023898653,\n",
              " 0.00021881817,\n",
              " 0.00015744421,\n",
              " 0.00021012076,\n",
              " 0.00022442237,\n",
              " 0.00015435793,\n",
              " 0.00021543837,\n",
              " 0.0001959316,\n",
              " 0.00014844064,\n",
              " 0.00022183522,\n",
              " 0.00043715202,\n",
              " 0.00020043997,\n",
              " 0.00014199385,\n",
              " 0.00031408263,\n",
              " 0.0003561377,\n",
              " 0.0003179565,\n",
              " 0.00025353004,\n",
              " 0.000171673,\n",
              " 0.00018079848,\n",
              " 0.00037009435,\n",
              " 0.00033261915,\n",
              " 0.00033982864,\n",
              " 0.0002445096,\n",
              " 0.00033676493,\n",
              " 0.00028676412,\n",
              " 0.00033041628,\n",
              " 0.0002737073,\n",
              " 0.00025592855,\n",
              " 0.0003665513,\n",
              " 0.00034593832,\n",
              " 0.00026944987,\n",
              " 0.0002064024,\n",
              " 0.00027826327,\n",
              " 0.00029007485,\n",
              " 0.00021185869,\n",
              " 0.0003392458,\n",
              " 0.00018198515,\n",
              " 0.00026045475,\n",
              " 0.00025067313,\n",
              " 0.00026435024,\n",
              " 0.0002574857,\n",
              " 0.00025333383,\n",
              " 0.0002315411,\n",
              " 0.0003559525,\n",
              " 0.00034487376,\n",
              " 0.00019619144,\n",
              " 0.000244105,\n",
              " 0.0005101315,\n",
              " 0.0007519109,\n",
              " 0.0008316605,\n",
              " 0.0005488032,\n",
              " 0.00049185124,\n",
              " 0.0006120749,\n",
              " 0.0004532786,\n",
              " 0.00054772175,\n",
              " 0.00067401386,\n",
              " 0.0006231468,\n",
              " 0.0006595367,\n",
              " 0.0004873147,\n",
              " 0.00041030158,\n",
              " 0.0006303825,\n",
              " 0.000529844,\n",
              " 0.0005149868,\n",
              " 0.00050417683,\n",
              " 0.00042128257,\n",
              " 0.00054521894,\n",
              " 0.00044219632,\n",
              " 0.00025564592,\n",
              " 0.0002999376,\n",
              " 0.000385475,\n",
              " 0.0004183601,\n",
              " 0.00050273334,\n",
              " 0.00032012822,\n",
              " 0.0004138284,\n",
              " 0.00039663134,\n",
              " 0.0004578378,\n",
              " 0.0006772497,\n",
              " 0.00030256988,\n",
              " 0.00037114334,\n",
              " 0.0022953202,\n",
              " 0.0014126813,\n",
              " 0.0063529634,\n",
              " 0.0031040688,\n",
              " 0.00418087,\n",
              " 0.0030248454,\n",
              " 0.00355553,\n",
              " 0.00449534,\n",
              " 0.0015031835,\n",
              " 0.0010525966,\n",
              " 0.00070818677,\n",
              " 0.0008064813,\n",
              " 0.0005093303,\n",
              " 0.0005251262,\n",
              " 0.000942295,\n",
              " 0.0011338525,\n",
              " 0.0004329302,\n",
              " 0.0004243707,\n",
              " 0.00051956926,\n",
              " 0.0006849043,\n",
              " 0.0006594854,\n",
              " 0.00044662625,\n",
              " 0.00074913434,\n",
              " 0.00052444113,\n",
              " 0.0008854302,\n",
              " 0.0011122492,\n",
              " 0.0010931309,\n",
              " 0.00067936454,\n",
              " 0.0007032191,\n",
              " 0.0007506376,\n",
              " 0.0010601111,\n",
              " 0.00079219596,\n",
              " 0.001070919,\n",
              " 0.0013337733,\n",
              " 0.0017080486,\n",
              " 0.0006982873,\n",
              " 0.001115352,\n",
              " 0.00086330634,\n",
              " 0.000519704,\n",
              " 0.00072440034,\n",
              " 0.00054290384,\n",
              " 0.00056775875,\n",
              " 0.0006285935,\n",
              " 0.00051685894,\n",
              " 0.0008057162,\n",
              " 0.0009381581,\n",
              " 0.000652819,\n",
              " 0.00060746627,\n",
              " 0.00046762615,\n",
              " 0.00041594656,\n",
              " 0.00051111414,\n",
              " 0.0006554576,\n",
              " 0.0006465008,\n",
              " 0.0005106752,\n",
              " 0.000663457,\n",
              " 0.0010290102,\n",
              " 0.0007589954,\n",
              " 0.00047421266,\n",
              " 0.00066383334,\n",
              " 0.0005806703,\n",
              " 0.00053448725,\n",
              " 0.0006078051,\n",
              " 0.0004404815,\n",
              " 0.00062157115,\n",
              " 0.00057793723,\n",
              " 0.00058418204,\n",
              " 0.0007964384,\n",
              " 0.00090203446,\n",
              " 0.0007586476,\n",
              " 0.00053005136,\n",
              " 0.00049606385,\n",
              " 0.00050922885,\n",
              " 0.00036090473,\n",
              " 0.00028883683,\n",
              " 0.00056509575,\n",
              " 0.0004670092,\n",
              " 0.000379653,\n",
              " 0.00046300943,\n",
              " 0.0004087774,\n",
              " 0.0004593646,\n",
              " 0.000370221,\n",
              " 0.00034502055,\n",
              " 0.00023527442,\n",
              " 0.00024139708,\n",
              " 0.0002347172,\n",
              " 0.00033519062,\n",
              " 0.0002471683,\n",
              " 0.0003254948,\n",
              " 0.00034302453,\n",
              " 0.00028048654,\n",
              " 0.00026272808,\n",
              " 0.00030931938,\n",
              " 0.0002819749,\n",
              " 0.00023216472,\n",
              " 0.00024135358,\n",
              " 0.00025727172,\n",
              " 0.00025256738,\n",
              " 0.00024177322,\n",
              " 0.00031431628,\n",
              " 0.00027797688,\n",
              " 0.0010114922,\n",
              " 0.00031785038,\n",
              " 0.00031056994,\n",
              " 0.0006876047,\n",
              " 0.0015014883,\n",
              " 0.0009963438,\n",
              " 0.0004671031,\n",
              " 0.00037624637,\n",
              " 0.0005619285,\n",
              " 0.00071750203,\n",
              " 0.00041785912,\n",
              " 0.00035693558,\n",
              " 0.00021221672,\n",
              " 0.0003191972,\n",
              " 0.0003077431,\n",
              " 0.00018740531,\n",
              " 0.00021185241,\n",
              " 0.0001981349,\n",
              " 0.00021430684,\n",
              " 0.00025254427,\n",
              " 0.00014369383,\n",
              " 0.00020325385,\n",
              " 0.00032322935,\n",
              " 0.00024782904,\n",
              " 0.00018350441,\n",
              " 0.0002275572,\n",
              " 0.00024893376,\n",
              " 0.00020213929,\n",
              " 0.00015742109,\n",
              " 0.00021402686,\n",
              " 0.0001421792,\n",
              " 0.00022991997,\n",
              " 0.0002494096,\n",
              " 0.00019446775,\n",
              " 0.0001778294,\n",
              " 0.00022474206,\n",
              " 0.00019262252,\n",
              " 0.00012910741,\n",
              " 0.00013362907,\n",
              " 0.0001283623,\n",
              " 0.00011163541,\n",
              " 0.00011837153,\n",
              " 8.734693e-05,\n",
              " 0.00011817663,\n",
              " 8.57504e-05,\n",
              " 0.00011736515,\n",
              " 9.210309e-05,\n",
              " 9.358334e-05,\n",
              " 0.00011534641,\n",
              " 0.00010604776,\n",
              " 0.00013534618,\n",
              " 0.00017048934,\n",
              " 0.0001404631,\n",
              " 0.00017061392,\n",
              " 0.00011724109,\n",
              " 0.00013448784,\n",
              " 0.00011299395,\n",
              " 0.00013771844,\n",
              " 0.00010830549,\n",
              " 0.00014375674,\n",
              " 0.00015021735,\n",
              " 0.00012993229,\n",
              " 0.00014859217,\n",
              " 0.00013108403,\n",
              " 0.00013465068,\n",
              " 0.00014747676,\n",
              " 0.00020208357,\n",
              " 0.0001281418,\n",
              " 0.00011083596,\n",
              " 0.00012346743,\n",
              " 9.089457e-05,\n",
              " 0.000120523844,\n",
              " 0.00011922862,\n",
              " 0.00012100393,\n",
              " 9.9471974e-05,\n",
              " 0.000121568555,\n",
              " 0.0001134818,\n",
              " 8.24889e-05,\n",
              " 0.00014196473,\n",
              " 0.00015103834,\n",
              " 0.0001501001,\n",
              " 0.000112656024,\n",
              " 0.00010953846,\n",
              " 9.3087416e-05,\n",
              " 9.81535e-05,\n",
              " 8.044814e-05,\n",
              " 9.145545e-05,\n",
              " 8.469418e-05,\n",
              " 0.0001344477,\n",
              " 9.307232e-05,\n",
              " 8.3354746e-05,\n",
              " 9.631866e-05,\n",
              " 9.7967684e-05,\n",
              " 8.950274e-05,\n",
              " 7.551655e-05,\n",
              " 0.0001071298,\n",
              " 0.00017483432,\n",
              " 0.00012262371,\n",
              " 8.976404e-05,\n",
              " 9.969038e-05,\n",
              " 0.00056024495,\n",
              " 0.00014971058,\n",
              " 0.00013161195,\n",
              " 0.00042910516,\n",
              " 0.000104186605,\n",
              " 0.00015093382,\n",
              " 9.7736374e-05,\n",
              " 0.0005247781,\n",
              " 0.00025884388,\n",
              " 0.00015184093,\n",
              " 0.00029477017,\n",
              " 0.0003158591,\n",
              " 0.00022996998,\n",
              " 0.0002013312,\n",
              " 0.0001847939,\n",
              " 0.00020301406,\n",
              " 0.00020130874,\n",
              " 0.00023299742,\n",
              " 0.00029906727,\n",
              " 0.00019308223,\n",
              " 0.00020194106,\n",
              " 0.00018160968,\n",
              " 0.0001771401,\n",
              " 0.0003847356,\n",
              " 0.00029168942,\n",
              " 0.00023495631,\n",
              " 0.00020108871,\n",
              " 0.00019461078,\n",
              " 0.00020200365,\n",
              " 0.00019802345,\n",
              " 0.0002056508,\n",
              " 0.00029213695,\n",
              " 0.00017648158,\n",
              " 0.0001479723,\n",
              " 0.00015504696,\n",
              " 0.00018996613,\n",
              " 0.00014403004,\n",
              " 0.00017527382,\n",
              " 0.00019144773,\n",
              " 9.2624316e-05,\n",
              " 7.60348e-05,\n",
              " 6.628859e-05,\n",
              " 6.352171e-05,\n",
              " 6.563591e-05,\n",
              " 5.7165238e-05,\n",
              " 8.593269e-05,\n",
              " 8.4321946e-05,\n",
              " 7.641627e-05,\n",
              " 8.400717e-05,\n",
              " 7.482674e-05,\n",
              " 5.9503956e-05,\n",
              " 7.933147e-05,\n",
              " 0.000118556105,\n",
              " 8.350114e-05,\n",
              " 7.973275e-05,\n",
              " 7.9470185e-05,\n",
              " 9.364815e-05,\n",
              " 7.413892e-05,\n",
              " 8.491284e-05,\n",
              " 6.966412e-05,\n",
              " 9.6892574e-05,\n",
              " 7.928186e-05,\n",
              " 0.00015177521,\n",
              " 0.00010698861,\n",
              " 0.00013485138,\n",
              " 0.00013852725,\n",
              " 8.989322e-05,\n",
              " 6.653481e-05,\n",
              " 8.537075e-05,\n",
              " 0.00010253473,\n",
              " 0.00012757535,\n",
              " 0.00011688445,\n",
              " 0.00011548012,\n",
              " 0.00012811625,\n",
              " 0.00010661282,\n",
              " 0.000119917415,\n",
              " 9.059231e-05,\n",
              " 8.713937e-05,\n",
              " 0.00016342715,\n",
              " 0.000118488744,\n",
              " 0.00012188147,\n",
              " 0.00013092576,\n",
              " 0.00011393927,\n",
              " 0.000120928824,\n",
              " 6.954836e-05,\n",
              " 0.00012212578,\n",
              " 9.6299365e-05,\n",
              " 8.842173e-05,\n",
              " 9.0684625e-05,\n",
              " 0.00013298295,\n",
              " 8.472568e-05,\n",
              " 0.00012495612,\n",
              " 0.00011930914,\n",
              " 9.040341e-05,\n",
              " 0.000115517796,\n",
              " 0.0001600538,\n",
              " 0.00015994853,\n",
              " 0.00015940497,\n",
              " 0.00013237998,\n",
              " 0.00012887335,\n",
              " 0.00041575267,\n",
              " 0.0005721849,\n",
              " 0.0006622895,\n",
              " 0.00039495403,\n",
              " 0.00020675693,\n",
              " 0.00017693348,\n",
              " 0.00021516492,\n",
              " 0.0004761504,\n",
              " 0.00029530347,\n",
              " 0.0004920308,\n",
              " 0.00086860644,\n",
              " 0.0006888083,\n",
              " 0.0010805427,\n",
              " 0.00082465616,\n",
              " 0.0008368754,\n",
              " 0.0007778192,\n",
              " 0.00091947214,\n",
              " 0.0010127182,\n",
              " 0.0010376237,\n",
              " 0.0009823331,\n",
              " 0.00063813233,\n",
              " 0.00073937594,\n",
              " 0.0011984486,\n",
              " 0.0007307575,\n",
              " 0.0012837315,\n",
              " 0.0010300792,\n",
              " 0.0010433055,\n",
              " 0.00082763185,\n",
              " 0.0014372058,\n",
              " 0.0009506317,\n",
              " 0.0013095477,\n",
              " 0.0013153559,\n",
              " 0.00075029075,\n",
              " 0.001272593,\n",
              " 0.0011186359,\n",
              " 0.0012242596,\n",
              " 0.0016080606,\n",
              " 0.0020198557,\n",
              " 0.0019132766,\n",
              " 0.0014669808,\n",
              " 0.0012620239,\n",
              " 0.0009247419,\n",
              " 0.0014798767,\n",
              " 0.0010984845,\n",
              " 0.0010645575,\n",
              " 0.0010129937,\n",
              " 0.0012433201,\n",
              " 0.0009979226,\n",
              " 0.0020209365,\n",
              " 0.002093424,\n",
              " 0.002809568,\n",
              " 0.001669131,\n",
              " 0.002303976,\n",
              " 0.0016652667,\n",
              " 0.0016786051,\n",
              " 0.0019181008,\n",
              " 0.0026633067,\n",
              " 0.0018291275,\n",
              " 0.0010001184,\n",
              " 0.0011798391,\n",
              " 0.001126273,\n",
              " 0.0012002684,\n",
              " 0.0015525587,\n",
              " 0.0026891772,\n",
              " 0.0021909112,\n",
              " 0.0022041772,\n",
              " 0.0020453893,\n",
              " 0.001537633,\n",
              " 0.0013596235,\n",
              " 0.001023038,\n",
              " 0.0011393185,\n",
              " 0.002426024,\n",
              " 0.0017480138,\n",
              " 0.0017519064,\n",
              " 0.0015372108,\n",
              " 0.0012506096,\n",
              " 0.0014415598,\n",
              " 0.001530764,\n",
              " 0.0007902842,\n",
              " 0.0006814662,\n",
              " 0.0005649983,\n",
              " 0.0010227994,\n",
              " 0.0010310899,\n",
              " 0.0015839089,\n",
              " 0.0014947149,\n",
              " 0.0014452821,\n",
              " 0.0007602869,\n",
              " 0.000806033,\n",
              " 0.0007538598,\n",
              " 0.0006149612,\n",
              " 0.0005852063,\n",
              " 0.00083672913,\n",
              " 0.00073731714,\n",
              " 0.0008786923,\n",
              " 0.0008443881,\n",
              " 0.00061932375,\n",
              " 0.0005612011,\n",
              " 0.00069710636,\n",
              " 0.0006749449,\n",
              " 0.00084241026,\n",
              " 0.0022430685,\n",
              " 0.0065576476,\n",
              " 0.0011217624,\n",
              " 0.0017148391,\n",
              " 0.0012093466,\n",
              " 0.00094666745,\n",
              " 0.00094037387,\n",
              " 0.00086645636,\n",
              " 0.00075506343,\n",
              " 0.000669966,\n",
              " 0.0010172059,\n",
              " 0.0010292972,\n",
              " 0.00060960936,\n",
              " 0.0009872322,\n",
              " 0.00055183476,\n",
              " 0.0005398495,\n",
              " 0.0010724936,\n",
              " 0.0017300359,\n",
              " 0.0012481903,\n",
              " 0.0007640892,\n",
              " 0.0012202687,\n",
              " 0.0021773279,\n",
              " 0.0013255683,\n",
              " 0.0020196077,\n",
              " 0.0021763782,\n",
              " 0.0018502973,\n",
              " 0.0022788208,\n",
              " 0.0015972235,\n",
              " 0.0013229739,\n",
              " 0.00092480937,\n",
              " 0.0016098492,\n",
              " 0.002894418,\n",
              " 0.003778539,\n",
              " 0.0021380698,\n",
              " 0.002455651,\n",
              " 0.0011956203,\n",
              " 0.0009494016,\n",
              " 0.0012402714,\n",
              " 0.0022123451,\n",
              " 0.0042558857,\n",
              " 0.003554503,\n",
              " 0.0018363197,\n",
              " 0.0028177022,\n",
              " 0.003617661,\n",
              " 0.002764544,\n",
              " 0.0024286914,\n",
              " 0.0019846314,\n",
              " 0.0025591282,\n",
              " 0.0022279888,\n",
              " 0.0037908144,\n",
              " 0.0026731612,\n",
              " 0.0029664354,\n",
              " 0.0021866506,\n",
              " 0.003262532,\n",
              " 0.0019188375,\n",
              " 0.0017238032,\n",
              " 0.0015644014,\n",
              " 0.0014418213,\n",
              " 0.0018920602,\n",
              " 0.0016961737,\n",
              " 0.0013224417,\n",
              " 0.0013296315,\n",
              " 0.002206027,\n",
              " 0.0010332705,\n",
              " 0.0010185281,\n",
              " 0.0016982226,\n",
              " 0.0016660184,\n",
              " 0.0013999082,\n",
              " 0.0019622413,\n",
              " 0.001586049,\n",
              " 0.0009301619,\n",
              " 0.0010998171,\n",
              " 0.0012185762,\n",
              " 0.0010088913,\n",
              " 0.0014066986,\n",
              " 0.0010781207,\n",
              " 0.0010141018,\n",
              " 0.0014161424,\n",
              " 0.0008031379,\n",
              " 0.001407337,\n",
              " 0.0013875319,\n",
              " 0.0010408167,\n",
              " 0.0019000337,\n",
              " 0.001973949,\n",
              " 0.0015561271,\n",
              " 0.0011441507,\n",
              " 0.001498065,\n",
              " 0.0013542074,\n",
              " 0.00083271554,\n",
              " 0.0014378054,\n",
              " 0.0013026332,\n",
              " 0.0015006864,\n",
              " 0.0020974393,\n",
              " 0.0024284741,\n",
              " 0.0015793805,\n",
              " 0.0020063194,\n",
              " 0.002556164,\n",
              " 0.0027328024,\n",
              " 0.0013560962,\n",
              " 0.0011496515,\n",
              " 0.00023294301,\n",
              " 0.0002603547,\n",
              " 0.00029292845,\n",
              " 0.0012652937,\n",
              " 0.00093535637,\n",
              " 0.0010424019,\n",
              " 0.0016626044,\n",
              " 0.0014016484,\n",
              " 0.0015521736,\n",
              " 0.0016384295,\n",
              " 0.00050513865,\n",
              " 0.0011314081,\n",
              " 0.0013747469,\n",
              " 0.0019045487,\n",
              " 0.0030292284,\n",
              " 0.0024173707,\n",
              " 0.002024833,\n",
              " 0.0020573295,\n",
              " 0.0045852847,\n",
              " 0.003206942,\n",
              " 0.0015506941,\n",
              " 0.0024402323,\n",
              " 0.0022695074,\n",
              " 0.0032555675,\n",
              " 0.0018023041,\n",
              " 0.0017902972,\n",
              " 0.0016183425,\n",
              " 0.0016825028,\n",
              " 0.0017209945,\n",
              " 0.0025140427,\n",
              " 0.0029053655,\n",
              " 0.002512094,\n",
              " 0.0025038668,\n",
              " 0.0019788286,\n",
              " 0.0017508784,\n",
              " 0.0011528373,\n",
              " 0.0010994546,\n",
              " 0.0012957298,\n",
              " 0.0018856705,\n",
              " 0.0017335981,\n",
              " 0.0018405531,\n",
              " 0.0029118196,\n",
              " 0.0026553012,\n",
              " 0.0021300288,\n",
              " 0.0023734414,\n",
              " 0.002294032,\n",
              " 0.0023073403,\n",
              " 0.0028309838,\n",
              " 0.002940013,\n",
              " 0.00378999,\n",
              " 0.0036851033,\n",
              " 0.0021210436,\n",
              " 0.0033891662,\n",
              " 0.0032426172,\n",
              " 0.0034574184,\n",
              " 0.00383368,\n",
              " 0.0040645995,\n",
              " 0.0025533086,\n",
              " 0.0043536485,\n",
              " 0.0032966842,\n",
              " 0.0040377476,\n",
              " 0.0036798846,\n",
              " 0.0038918233,\n",
              " 0.0028604087,\n",
              " 0.0021165886,\n",
              " 0.004986541,\n",
              " 0.00323258,\n",
              " 0.003784866,\n",
              " 0.0059617274,\n",
              " 0.004503629,\n",
              " 0.004024234,\n",
              " 0.0039038644,\n",
              " 0.0025203824,\n",
              " 0.002611002,\n",
              " 0.0021106417,\n",
              " 0.0030917458,\n",
              " 0.0027006997,\n",
              " 0.0032291478,\n",
              " 0.0032923208,\n",
              " 0.0031449744,\n",
              " 0.0038161397,\n",
              " 0.0017666144,\n",
              " 0.0027105992,\n",
              " 0.002373569,\n",
              " 0.0033934677,\n",
              " 0.0033246297,\n",
              " 0.004638311,\n",
              " 0.0026696166,\n",
              " 0.0024374735,\n",
              " 0.0033026638,\n",
              " 0.003636208,\n",
              " 0.003465857,\n",
              " 0.0027682947,\n",
              " 0.0041622105,\n",
              " 0.0046003526,\n",
              " 0.0019882047,\n",
              " 0.0029466362,\n",
              " 0.0034649873,\n",
              " 0.0040905145,\n",
              " 0.0052302876,\n",
              " 0.0011006178,\n",
              " 0.00041842513,\n",
              " 0.00028719477,\n",
              " 0.0008625297,\n",
              " 0.00055272126,\n",
              " 0.00044113598,\n",
              " 0.0004634172,\n",
              " 0.00037168953,\n",
              " 0.0004694457,\n",
              " 0.0014079417,\n",
              " 0.00074418704,\n",
              " 0.0008872501,\n",
              " 0.0009053382,\n",
              " 0.0012910892,\n",
              " 0.0009833337,\n",
              " 0.0018854709,\n",
              " 0.0014870882,\n",
              " 0.002727386,\n",
              " 0.0013388474,\n",
              " 0.0018382943,\n",
              " 0.0011808494,\n",
              " 0.001772012,\n",
              " 0.0020590846,\n",
              " 0.0011696807,\n",
              " 0.0012931112,\n",
              " 0.0011327411,\n",
              " 0.0020006476,\n",
              " 0.0011092166,\n",
              " 0.0013411491,\n",
              " 0.0029535238,\n",
              " 0.0021473365,\n",
              " 0.0021418321,\n",
              " 0.0016920592,\n",
              " 0.0024007484,\n",
              " 0.0018721813,\n",
              " 0.0021682933,\n",
              " 0.0016304115,\n",
              " 0.0015324648,\n",
              " 0.0014704956,\n",
              " 0.0018899145,\n",
              " 0.001824923,\n",
              " 0.0018958667,\n",
              " 0.0015812907,\n",
              " 0.0018695279,\n",
              " 0.0022757375,\n",
              " 0.002317235,\n",
              " 0.0013769704,\n",
              " 0.0011778544,\n",
              " 0.0009834911,\n",
              " 0.0013393671,\n",
              " 0.0012818676,\n",
              " 0.0016385566,\n",
              " 0.0018751561,\n",
              " 0.00235607,\n",
              " 0.0024877258,\n",
              " 0.0025432801,\n",
              " 0.0017795643,\n",
              " 0.0011730739,\n",
              " 0.0017405587,\n",
              " 0.0011291692,\n",
              " 0.001261115,\n",
              " 0.0011560033,\n",
              " 0.0014253244,\n",
              " 0.0015755405,\n",
              " 0.0023420458,\n",
              " 0.0025347725,\n",
              " 0.0017378101,\n",
              " 0.0013850023,\n",
              " 0.0026810952,\n",
              " 0.0022013267,\n",
              " 0.0016707971,\n",
              " 0.0016594937,\n",
              " 0.0018370224,\n",
              " 0.0015993943,\n",
              " 0.0020409683,\n",
              " 0.0018215758,\n",
              " 0.0017580746,\n",
              " 0.0020834645,\n",
              " 0.0025962144,\n",
              " 0.0032815603,\n",
              " 0.0021782978,\n",
              " 0.002235298,\n",
              " 0.0031725261,\n",
              " 0.0026290496,\n",
              " 0.0038388588,\n",
              " 0.0032165009,\n",
              " 0.0034520961,\n",
              " 0.0022561667,\n",
              " 0.002689846,\n",
              " 0.0035764177,\n",
              " 0.0023117408,\n",
              " 0.0032369646,\n",
              " 0.003075855,\n",
              " 0.003066759,\n",
              " 0.0023225306,\n",
              " 0.0024044574,\n",
              " 0.0023635365,\n",
              " 0.0027431808,\n",
              " 0.0029757852,\n",
              " 0.0025134028,\n",
              " ...]"
            ]
          },
          "metadata": {},
          "execution_count": 54
        }
      ]
    },
    {
      "cell_type": "code",
      "source": [
        "plt.scatter(Y_NNN, pred_class1)\n",
        "plt.scatter(Y_NNN, pred_class2)"
      ],
      "metadata": {
        "id": "bA1-bhWgQIpn",
        "outputId": "291dfabd-f905-4995-b366-410e3ed58812",
        "colab": {
          "base_uri": "https://localhost:8080/",
          "height": 837
        }
      },
      "execution_count": 23,
      "outputs": [
        {
          "output_type": "execute_result",
          "data": {
            "text/plain": [
              "<matplotlib.collections.PathCollection at 0x7ebbc4e1a890>"
            ]
          },
          "metadata": {},
          "execution_count": 23
        },
        {
          "output_type": "stream",
          "name": "stdout",
          "text": [
            "Error in callback <function _draw_all_if_interactive at 0x7ebbc5c1d120> (for post_execute):\n"
          ]
        },
        {
          "output_type": "stream",
          "name": "stderr",
          "text": [
            "/usr/local/lib/python3.10/dist-packages/matplotlib/ticker.py:2094: RuntimeWarning: overflow encountered in multiply\n",
            "  steps = self._extended_steps * scale\n",
            "/usr/local/lib/python3.10/dist-packages/matplotlib/ticker.py:2127: RuntimeWarning: overflow encountered in multiply\n",
            "  ticks = np.arange(low, high + 1) * step + best_vmin\n"
          ]
        },
        {
          "output_type": "error",
          "ename": "OverflowError",
          "evalue": "cannot convert float infinity to integer",
          "traceback": [
            "\u001b[0;31m---------------------------------------------------------------------------\u001b[0m",
            "\u001b[0;31mOverflowError\u001b[0m                             Traceback (most recent call last)",
            "\u001b[0;32m/usr/local/lib/python3.10/dist-packages/matplotlib/pyplot.py\u001b[0m in \u001b[0;36m_draw_all_if_interactive\u001b[0;34m()\u001b[0m\n\u001b[1;32m    118\u001b[0m \u001b[0;32mdef\u001b[0m \u001b[0m_draw_all_if_interactive\u001b[0m\u001b[0;34m(\u001b[0m\u001b[0;34m)\u001b[0m\u001b[0;34m:\u001b[0m\u001b[0;34m\u001b[0m\u001b[0;34m\u001b[0m\u001b[0m\n\u001b[1;32m    119\u001b[0m     \u001b[0;32mif\u001b[0m \u001b[0mmatplotlib\u001b[0m\u001b[0;34m.\u001b[0m\u001b[0mis_interactive\u001b[0m\u001b[0;34m(\u001b[0m\u001b[0;34m)\u001b[0m\u001b[0;34m:\u001b[0m\u001b[0;34m\u001b[0m\u001b[0;34m\u001b[0m\u001b[0m\n\u001b[0;32m--> 120\u001b[0;31m         \u001b[0mdraw_all\u001b[0m\u001b[0;34m(\u001b[0m\u001b[0;34m)\u001b[0m\u001b[0;34m\u001b[0m\u001b[0;34m\u001b[0m\u001b[0m\n\u001b[0m\u001b[1;32m    121\u001b[0m \u001b[0;34m\u001b[0m\u001b[0m\n\u001b[1;32m    122\u001b[0m \u001b[0;34m\u001b[0m\u001b[0m\n",
            "\u001b[0;32m/usr/local/lib/python3.10/dist-packages/matplotlib/_pylab_helpers.py\u001b[0m in \u001b[0;36mdraw_all\u001b[0;34m(cls, force)\u001b[0m\n\u001b[1;32m    130\u001b[0m         \u001b[0;32mfor\u001b[0m \u001b[0mmanager\u001b[0m \u001b[0;32min\u001b[0m \u001b[0mcls\u001b[0m\u001b[0;34m.\u001b[0m\u001b[0mget_all_fig_managers\u001b[0m\u001b[0;34m(\u001b[0m\u001b[0;34m)\u001b[0m\u001b[0;34m:\u001b[0m\u001b[0;34m\u001b[0m\u001b[0;34m\u001b[0m\u001b[0m\n\u001b[1;32m    131\u001b[0m             \u001b[0;32mif\u001b[0m \u001b[0mforce\u001b[0m \u001b[0;32mor\u001b[0m \u001b[0mmanager\u001b[0m\u001b[0;34m.\u001b[0m\u001b[0mcanvas\u001b[0m\u001b[0;34m.\u001b[0m\u001b[0mfigure\u001b[0m\u001b[0;34m.\u001b[0m\u001b[0mstale\u001b[0m\u001b[0;34m:\u001b[0m\u001b[0;34m\u001b[0m\u001b[0;34m\u001b[0m\u001b[0m\n\u001b[0;32m--> 132\u001b[0;31m                 \u001b[0mmanager\u001b[0m\u001b[0;34m.\u001b[0m\u001b[0mcanvas\u001b[0m\u001b[0;34m.\u001b[0m\u001b[0mdraw_idle\u001b[0m\u001b[0;34m(\u001b[0m\u001b[0;34m)\u001b[0m\u001b[0;34m\u001b[0m\u001b[0;34m\u001b[0m\u001b[0m\n\u001b[0m\u001b[1;32m    133\u001b[0m \u001b[0;34m\u001b[0m\u001b[0m\n\u001b[1;32m    134\u001b[0m \u001b[0;34m\u001b[0m\u001b[0m\n",
            "\u001b[0;32m/usr/local/lib/python3.10/dist-packages/matplotlib/backend_bases.py\u001b[0m in \u001b[0;36mdraw_idle\u001b[0;34m(self, *args, **kwargs)\u001b[0m\n\u001b[1;32m   2080\u001b[0m         \u001b[0;32mif\u001b[0m \u001b[0;32mnot\u001b[0m \u001b[0mself\u001b[0m\u001b[0;34m.\u001b[0m\u001b[0m_is_idle_drawing\u001b[0m\u001b[0;34m:\u001b[0m\u001b[0;34m\u001b[0m\u001b[0;34m\u001b[0m\u001b[0m\n\u001b[1;32m   2081\u001b[0m             \u001b[0;32mwith\u001b[0m \u001b[0mself\u001b[0m\u001b[0;34m.\u001b[0m\u001b[0m_idle_draw_cntx\u001b[0m\u001b[0;34m(\u001b[0m\u001b[0;34m)\u001b[0m\u001b[0;34m:\u001b[0m\u001b[0;34m\u001b[0m\u001b[0;34m\u001b[0m\u001b[0m\n\u001b[0;32m-> 2082\u001b[0;31m                 \u001b[0mself\u001b[0m\u001b[0;34m.\u001b[0m\u001b[0mdraw\u001b[0m\u001b[0;34m(\u001b[0m\u001b[0;34m*\u001b[0m\u001b[0margs\u001b[0m\u001b[0;34m,\u001b[0m \u001b[0;34m**\u001b[0m\u001b[0mkwargs\u001b[0m\u001b[0;34m)\u001b[0m\u001b[0;34m\u001b[0m\u001b[0;34m\u001b[0m\u001b[0m\n\u001b[0m\u001b[1;32m   2083\u001b[0m \u001b[0;34m\u001b[0m\u001b[0m\n\u001b[1;32m   2084\u001b[0m     \u001b[0;34m@\u001b[0m\u001b[0mproperty\u001b[0m\u001b[0;34m\u001b[0m\u001b[0;34m\u001b[0m\u001b[0m\n",
            "\u001b[0;32m/usr/local/lib/python3.10/dist-packages/matplotlib/backends/backend_agg.py\u001b[0m in \u001b[0;36mdraw\u001b[0;34m(self)\u001b[0m\n\u001b[1;32m    398\u001b[0m              (self.toolbar._wait_cursor_for_draw_cm() if self.toolbar\n\u001b[1;32m    399\u001b[0m               else nullcontext()):\n\u001b[0;32m--> 400\u001b[0;31m             \u001b[0mself\u001b[0m\u001b[0;34m.\u001b[0m\u001b[0mfigure\u001b[0m\u001b[0;34m.\u001b[0m\u001b[0mdraw\u001b[0m\u001b[0;34m(\u001b[0m\u001b[0mself\u001b[0m\u001b[0;34m.\u001b[0m\u001b[0mrenderer\u001b[0m\u001b[0;34m)\u001b[0m\u001b[0;34m\u001b[0m\u001b[0;34m\u001b[0m\u001b[0m\n\u001b[0m\u001b[1;32m    401\u001b[0m             \u001b[0;31m# A GUI class may be need to update a window using this draw, so\u001b[0m\u001b[0;34m\u001b[0m\u001b[0;34m\u001b[0m\u001b[0m\n\u001b[1;32m    402\u001b[0m             \u001b[0;31m# don't forget to call the superclass.\u001b[0m\u001b[0;34m\u001b[0m\u001b[0;34m\u001b[0m\u001b[0m\n",
            "\u001b[0;32m/usr/local/lib/python3.10/dist-packages/matplotlib/artist.py\u001b[0m in \u001b[0;36mdraw_wrapper\u001b[0;34m(artist, renderer, *args, **kwargs)\u001b[0m\n\u001b[1;32m     93\u001b[0m     \u001b[0;34m@\u001b[0m\u001b[0mwraps\u001b[0m\u001b[0;34m(\u001b[0m\u001b[0mdraw\u001b[0m\u001b[0;34m)\u001b[0m\u001b[0;34m\u001b[0m\u001b[0;34m\u001b[0m\u001b[0m\n\u001b[1;32m     94\u001b[0m     \u001b[0;32mdef\u001b[0m \u001b[0mdraw_wrapper\u001b[0m\u001b[0;34m(\u001b[0m\u001b[0martist\u001b[0m\u001b[0;34m,\u001b[0m \u001b[0mrenderer\u001b[0m\u001b[0;34m,\u001b[0m \u001b[0;34m*\u001b[0m\u001b[0margs\u001b[0m\u001b[0;34m,\u001b[0m \u001b[0;34m**\u001b[0m\u001b[0mkwargs\u001b[0m\u001b[0;34m)\u001b[0m\u001b[0;34m:\u001b[0m\u001b[0;34m\u001b[0m\u001b[0;34m\u001b[0m\u001b[0m\n\u001b[0;32m---> 95\u001b[0;31m         \u001b[0mresult\u001b[0m \u001b[0;34m=\u001b[0m \u001b[0mdraw\u001b[0m\u001b[0;34m(\u001b[0m\u001b[0martist\u001b[0m\u001b[0;34m,\u001b[0m \u001b[0mrenderer\u001b[0m\u001b[0;34m,\u001b[0m \u001b[0;34m*\u001b[0m\u001b[0margs\u001b[0m\u001b[0;34m,\u001b[0m \u001b[0;34m**\u001b[0m\u001b[0mkwargs\u001b[0m\u001b[0;34m)\u001b[0m\u001b[0;34m\u001b[0m\u001b[0;34m\u001b[0m\u001b[0m\n\u001b[0m\u001b[1;32m     96\u001b[0m         \u001b[0;32mif\u001b[0m \u001b[0mrenderer\u001b[0m\u001b[0;34m.\u001b[0m\u001b[0m_rasterizing\u001b[0m\u001b[0;34m:\u001b[0m\u001b[0;34m\u001b[0m\u001b[0;34m\u001b[0m\u001b[0m\n\u001b[1;32m     97\u001b[0m             \u001b[0mrenderer\u001b[0m\u001b[0;34m.\u001b[0m\u001b[0mstop_rasterizing\u001b[0m\u001b[0;34m(\u001b[0m\u001b[0;34m)\u001b[0m\u001b[0;34m\u001b[0m\u001b[0;34m\u001b[0m\u001b[0m\n",
            "\u001b[0;32m/usr/local/lib/python3.10/dist-packages/matplotlib/artist.py\u001b[0m in \u001b[0;36mdraw_wrapper\u001b[0;34m(artist, renderer)\u001b[0m\n\u001b[1;32m     70\u001b[0m                 \u001b[0mrenderer\u001b[0m\u001b[0;34m.\u001b[0m\u001b[0mstart_filter\u001b[0m\u001b[0;34m(\u001b[0m\u001b[0;34m)\u001b[0m\u001b[0;34m\u001b[0m\u001b[0;34m\u001b[0m\u001b[0m\n\u001b[1;32m     71\u001b[0m \u001b[0;34m\u001b[0m\u001b[0m\n\u001b[0;32m---> 72\u001b[0;31m             \u001b[0;32mreturn\u001b[0m \u001b[0mdraw\u001b[0m\u001b[0;34m(\u001b[0m\u001b[0martist\u001b[0m\u001b[0;34m,\u001b[0m \u001b[0mrenderer\u001b[0m\u001b[0;34m)\u001b[0m\u001b[0;34m\u001b[0m\u001b[0;34m\u001b[0m\u001b[0m\n\u001b[0m\u001b[1;32m     73\u001b[0m         \u001b[0;32mfinally\u001b[0m\u001b[0;34m:\u001b[0m\u001b[0;34m\u001b[0m\u001b[0;34m\u001b[0m\u001b[0m\n\u001b[1;32m     74\u001b[0m             \u001b[0;32mif\u001b[0m \u001b[0martist\u001b[0m\u001b[0;34m.\u001b[0m\u001b[0mget_agg_filter\u001b[0m\u001b[0;34m(\u001b[0m\u001b[0;34m)\u001b[0m \u001b[0;32mis\u001b[0m \u001b[0;32mnot\u001b[0m \u001b[0;32mNone\u001b[0m\u001b[0;34m:\u001b[0m\u001b[0;34m\u001b[0m\u001b[0;34m\u001b[0m\u001b[0m\n",
            "\u001b[0;32m/usr/local/lib/python3.10/dist-packages/matplotlib/figure.py\u001b[0m in \u001b[0;36mdraw\u001b[0;34m(self, renderer)\u001b[0m\n\u001b[1;32m   3138\u001b[0m \u001b[0;34m\u001b[0m\u001b[0m\n\u001b[1;32m   3139\u001b[0m             \u001b[0mself\u001b[0m\u001b[0;34m.\u001b[0m\u001b[0mpatch\u001b[0m\u001b[0;34m.\u001b[0m\u001b[0mdraw\u001b[0m\u001b[0;34m(\u001b[0m\u001b[0mrenderer\u001b[0m\u001b[0;34m)\u001b[0m\u001b[0;34m\u001b[0m\u001b[0;34m\u001b[0m\u001b[0m\n\u001b[0;32m-> 3140\u001b[0;31m             mimage._draw_list_compositing_images(\n\u001b[0m\u001b[1;32m   3141\u001b[0m                 renderer, self, artists, self.suppressComposite)\n\u001b[1;32m   3142\u001b[0m \u001b[0;34m\u001b[0m\u001b[0m\n",
            "\u001b[0;32m/usr/local/lib/python3.10/dist-packages/matplotlib/image.py\u001b[0m in \u001b[0;36m_draw_list_compositing_images\u001b[0;34m(renderer, parent, artists, suppress_composite)\u001b[0m\n\u001b[1;32m    129\u001b[0m     \u001b[0;32mif\u001b[0m \u001b[0mnot_composite\u001b[0m \u001b[0;32mor\u001b[0m \u001b[0;32mnot\u001b[0m \u001b[0mhas_images\u001b[0m\u001b[0;34m:\u001b[0m\u001b[0;34m\u001b[0m\u001b[0;34m\u001b[0m\u001b[0m\n\u001b[1;32m    130\u001b[0m         \u001b[0;32mfor\u001b[0m \u001b[0ma\u001b[0m \u001b[0;32min\u001b[0m \u001b[0martists\u001b[0m\u001b[0;34m:\u001b[0m\u001b[0;34m\u001b[0m\u001b[0;34m\u001b[0m\u001b[0m\n\u001b[0;32m--> 131\u001b[0;31m             \u001b[0ma\u001b[0m\u001b[0;34m.\u001b[0m\u001b[0mdraw\u001b[0m\u001b[0;34m(\u001b[0m\u001b[0mrenderer\u001b[0m\u001b[0;34m)\u001b[0m\u001b[0;34m\u001b[0m\u001b[0;34m\u001b[0m\u001b[0m\n\u001b[0m\u001b[1;32m    132\u001b[0m     \u001b[0;32melse\u001b[0m\u001b[0;34m:\u001b[0m\u001b[0;34m\u001b[0m\u001b[0;34m\u001b[0m\u001b[0m\n\u001b[1;32m    133\u001b[0m         \u001b[0;31m# Composite any adjacent images together\u001b[0m\u001b[0;34m\u001b[0m\u001b[0;34m\u001b[0m\u001b[0m\n",
            "\u001b[0;32m/usr/local/lib/python3.10/dist-packages/matplotlib/artist.py\u001b[0m in \u001b[0;36mdraw_wrapper\u001b[0;34m(artist, renderer)\u001b[0m\n\u001b[1;32m     70\u001b[0m                 \u001b[0mrenderer\u001b[0m\u001b[0;34m.\u001b[0m\u001b[0mstart_filter\u001b[0m\u001b[0;34m(\u001b[0m\u001b[0;34m)\u001b[0m\u001b[0;34m\u001b[0m\u001b[0;34m\u001b[0m\u001b[0m\n\u001b[1;32m     71\u001b[0m \u001b[0;34m\u001b[0m\u001b[0m\n\u001b[0;32m---> 72\u001b[0;31m             \u001b[0;32mreturn\u001b[0m \u001b[0mdraw\u001b[0m\u001b[0;34m(\u001b[0m\u001b[0martist\u001b[0m\u001b[0;34m,\u001b[0m \u001b[0mrenderer\u001b[0m\u001b[0;34m)\u001b[0m\u001b[0;34m\u001b[0m\u001b[0;34m\u001b[0m\u001b[0m\n\u001b[0m\u001b[1;32m     73\u001b[0m         \u001b[0;32mfinally\u001b[0m\u001b[0;34m:\u001b[0m\u001b[0;34m\u001b[0m\u001b[0;34m\u001b[0m\u001b[0m\n\u001b[1;32m     74\u001b[0m             \u001b[0;32mif\u001b[0m \u001b[0martist\u001b[0m\u001b[0;34m.\u001b[0m\u001b[0mget_agg_filter\u001b[0m\u001b[0;34m(\u001b[0m\u001b[0;34m)\u001b[0m \u001b[0;32mis\u001b[0m \u001b[0;32mnot\u001b[0m \u001b[0;32mNone\u001b[0m\u001b[0;34m:\u001b[0m\u001b[0;34m\u001b[0m\u001b[0;34m\u001b[0m\u001b[0m\n",
            "\u001b[0;32m/usr/local/lib/python3.10/dist-packages/matplotlib/axes/_base.py\u001b[0m in \u001b[0;36mdraw\u001b[0;34m(self, renderer)\u001b[0m\n\u001b[1;32m   3062\u001b[0m             \u001b[0m_draw_rasterized\u001b[0m\u001b[0;34m(\u001b[0m\u001b[0mself\u001b[0m\u001b[0;34m.\u001b[0m\u001b[0mfigure\u001b[0m\u001b[0;34m,\u001b[0m \u001b[0martists_rasterized\u001b[0m\u001b[0;34m,\u001b[0m \u001b[0mrenderer\u001b[0m\u001b[0;34m)\u001b[0m\u001b[0;34m\u001b[0m\u001b[0;34m\u001b[0m\u001b[0m\n\u001b[1;32m   3063\u001b[0m \u001b[0;34m\u001b[0m\u001b[0m\n\u001b[0;32m-> 3064\u001b[0;31m         mimage._draw_list_compositing_images(\n\u001b[0m\u001b[1;32m   3065\u001b[0m             renderer, self, artists, self.figure.suppressComposite)\n\u001b[1;32m   3066\u001b[0m \u001b[0;34m\u001b[0m\u001b[0m\n",
            "\u001b[0;32m/usr/local/lib/python3.10/dist-packages/matplotlib/image.py\u001b[0m in \u001b[0;36m_draw_list_compositing_images\u001b[0;34m(renderer, parent, artists, suppress_composite)\u001b[0m\n\u001b[1;32m    129\u001b[0m     \u001b[0;32mif\u001b[0m \u001b[0mnot_composite\u001b[0m \u001b[0;32mor\u001b[0m \u001b[0;32mnot\u001b[0m \u001b[0mhas_images\u001b[0m\u001b[0;34m:\u001b[0m\u001b[0;34m\u001b[0m\u001b[0;34m\u001b[0m\u001b[0m\n\u001b[1;32m    130\u001b[0m         \u001b[0;32mfor\u001b[0m \u001b[0ma\u001b[0m \u001b[0;32min\u001b[0m \u001b[0martists\u001b[0m\u001b[0;34m:\u001b[0m\u001b[0;34m\u001b[0m\u001b[0;34m\u001b[0m\u001b[0m\n\u001b[0;32m--> 131\u001b[0;31m             \u001b[0ma\u001b[0m\u001b[0;34m.\u001b[0m\u001b[0mdraw\u001b[0m\u001b[0;34m(\u001b[0m\u001b[0mrenderer\u001b[0m\u001b[0;34m)\u001b[0m\u001b[0;34m\u001b[0m\u001b[0;34m\u001b[0m\u001b[0m\n\u001b[0m\u001b[1;32m    132\u001b[0m     \u001b[0;32melse\u001b[0m\u001b[0;34m:\u001b[0m\u001b[0;34m\u001b[0m\u001b[0;34m\u001b[0m\u001b[0m\n\u001b[1;32m    133\u001b[0m         \u001b[0;31m# Composite any adjacent images together\u001b[0m\u001b[0;34m\u001b[0m\u001b[0;34m\u001b[0m\u001b[0m\n",
            "\u001b[0;32m/usr/local/lib/python3.10/dist-packages/matplotlib/artist.py\u001b[0m in \u001b[0;36mdraw_wrapper\u001b[0;34m(artist, renderer)\u001b[0m\n\u001b[1;32m     70\u001b[0m                 \u001b[0mrenderer\u001b[0m\u001b[0;34m.\u001b[0m\u001b[0mstart_filter\u001b[0m\u001b[0;34m(\u001b[0m\u001b[0;34m)\u001b[0m\u001b[0;34m\u001b[0m\u001b[0;34m\u001b[0m\u001b[0m\n\u001b[1;32m     71\u001b[0m \u001b[0;34m\u001b[0m\u001b[0m\n\u001b[0;32m---> 72\u001b[0;31m             \u001b[0;32mreturn\u001b[0m \u001b[0mdraw\u001b[0m\u001b[0;34m(\u001b[0m\u001b[0martist\u001b[0m\u001b[0;34m,\u001b[0m \u001b[0mrenderer\u001b[0m\u001b[0;34m)\u001b[0m\u001b[0;34m\u001b[0m\u001b[0;34m\u001b[0m\u001b[0m\n\u001b[0m\u001b[1;32m     73\u001b[0m         \u001b[0;32mfinally\u001b[0m\u001b[0;34m:\u001b[0m\u001b[0;34m\u001b[0m\u001b[0;34m\u001b[0m\u001b[0m\n\u001b[1;32m     74\u001b[0m             \u001b[0;32mif\u001b[0m \u001b[0martist\u001b[0m\u001b[0;34m.\u001b[0m\u001b[0mget_agg_filter\u001b[0m\u001b[0;34m(\u001b[0m\u001b[0;34m)\u001b[0m \u001b[0;32mis\u001b[0m \u001b[0;32mnot\u001b[0m \u001b[0;32mNone\u001b[0m\u001b[0;34m:\u001b[0m\u001b[0;34m\u001b[0m\u001b[0;34m\u001b[0m\u001b[0m\n",
            "\u001b[0;32m/usr/local/lib/python3.10/dist-packages/matplotlib/axis.py\u001b[0m in \u001b[0;36mdraw\u001b[0;34m(self, renderer, *args, **kwargs)\u001b[0m\n\u001b[1;32m   1374\u001b[0m         \u001b[0mrenderer\u001b[0m\u001b[0;34m.\u001b[0m\u001b[0mopen_group\u001b[0m\u001b[0;34m(\u001b[0m\u001b[0m__name__\u001b[0m\u001b[0;34m,\u001b[0m \u001b[0mgid\u001b[0m\u001b[0;34m=\u001b[0m\u001b[0mself\u001b[0m\u001b[0;34m.\u001b[0m\u001b[0mget_gid\u001b[0m\u001b[0;34m(\u001b[0m\u001b[0;34m)\u001b[0m\u001b[0;34m)\u001b[0m\u001b[0;34m\u001b[0m\u001b[0;34m\u001b[0m\u001b[0m\n\u001b[1;32m   1375\u001b[0m \u001b[0;34m\u001b[0m\u001b[0m\n\u001b[0;32m-> 1376\u001b[0;31m         \u001b[0mticks_to_draw\u001b[0m \u001b[0;34m=\u001b[0m \u001b[0mself\u001b[0m\u001b[0;34m.\u001b[0m\u001b[0m_update_ticks\u001b[0m\u001b[0;34m(\u001b[0m\u001b[0;34m)\u001b[0m\u001b[0;34m\u001b[0m\u001b[0;34m\u001b[0m\u001b[0m\n\u001b[0m\u001b[1;32m   1377\u001b[0m         \u001b[0mtlb1\u001b[0m\u001b[0;34m,\u001b[0m \u001b[0mtlb2\u001b[0m \u001b[0;34m=\u001b[0m \u001b[0mself\u001b[0m\u001b[0;34m.\u001b[0m\u001b[0m_get_ticklabel_bboxes\u001b[0m\u001b[0;34m(\u001b[0m\u001b[0mticks_to_draw\u001b[0m\u001b[0;34m,\u001b[0m \u001b[0mrenderer\u001b[0m\u001b[0;34m)\u001b[0m\u001b[0;34m\u001b[0m\u001b[0;34m\u001b[0m\u001b[0m\n\u001b[1;32m   1378\u001b[0m \u001b[0;34m\u001b[0m\u001b[0m\n",
            "\u001b[0;32m/usr/local/lib/python3.10/dist-packages/matplotlib/axis.py\u001b[0m in \u001b[0;36m_update_ticks\u001b[0;34m(self)\u001b[0m\n\u001b[1;32m   1261\u001b[0m         \"\"\"\n\u001b[1;32m   1262\u001b[0m         \u001b[0mmajor_locs\u001b[0m \u001b[0;34m=\u001b[0m \u001b[0mself\u001b[0m\u001b[0;34m.\u001b[0m\u001b[0mget_majorticklocs\u001b[0m\u001b[0;34m(\u001b[0m\u001b[0;34m)\u001b[0m\u001b[0;34m\u001b[0m\u001b[0;34m\u001b[0m\u001b[0m\n\u001b[0;32m-> 1263\u001b[0;31m         \u001b[0mmajor_labels\u001b[0m \u001b[0;34m=\u001b[0m \u001b[0mself\u001b[0m\u001b[0;34m.\u001b[0m\u001b[0mmajor\u001b[0m\u001b[0;34m.\u001b[0m\u001b[0mformatter\u001b[0m\u001b[0;34m.\u001b[0m\u001b[0mformat_ticks\u001b[0m\u001b[0;34m(\u001b[0m\u001b[0mmajor_locs\u001b[0m\u001b[0;34m)\u001b[0m\u001b[0;34m\u001b[0m\u001b[0;34m\u001b[0m\u001b[0m\n\u001b[0m\u001b[1;32m   1264\u001b[0m         \u001b[0mmajor_ticks\u001b[0m \u001b[0;34m=\u001b[0m \u001b[0mself\u001b[0m\u001b[0;34m.\u001b[0m\u001b[0mget_major_ticks\u001b[0m\u001b[0;34m(\u001b[0m\u001b[0mlen\u001b[0m\u001b[0;34m(\u001b[0m\u001b[0mmajor_locs\u001b[0m\u001b[0;34m)\u001b[0m\u001b[0;34m)\u001b[0m\u001b[0;34m\u001b[0m\u001b[0;34m\u001b[0m\u001b[0m\n\u001b[1;32m   1265\u001b[0m         \u001b[0mself\u001b[0m\u001b[0;34m.\u001b[0m\u001b[0mmajor\u001b[0m\u001b[0;34m.\u001b[0m\u001b[0mformatter\u001b[0m\u001b[0;34m.\u001b[0m\u001b[0mset_locs\u001b[0m\u001b[0;34m(\u001b[0m\u001b[0mmajor_locs\u001b[0m\u001b[0;34m)\u001b[0m\u001b[0;34m\u001b[0m\u001b[0;34m\u001b[0m\u001b[0m\n",
            "\u001b[0;32m/usr/local/lib/python3.10/dist-packages/matplotlib/ticker.py\u001b[0m in \u001b[0;36mformat_ticks\u001b[0;34m(self, values)\u001b[0m\n\u001b[1;32m    215\u001b[0m     \u001b[0;32mdef\u001b[0m \u001b[0mformat_ticks\u001b[0m\u001b[0;34m(\u001b[0m\u001b[0mself\u001b[0m\u001b[0;34m,\u001b[0m \u001b[0mvalues\u001b[0m\u001b[0;34m)\u001b[0m\u001b[0;34m:\u001b[0m\u001b[0;34m\u001b[0m\u001b[0;34m\u001b[0m\u001b[0m\n\u001b[1;32m    216\u001b[0m         \u001b[0;34m\"\"\"Return the tick labels for all the ticks at once.\"\"\"\u001b[0m\u001b[0;34m\u001b[0m\u001b[0;34m\u001b[0m\u001b[0m\n\u001b[0;32m--> 217\u001b[0;31m         \u001b[0mself\u001b[0m\u001b[0;34m.\u001b[0m\u001b[0mset_locs\u001b[0m\u001b[0;34m(\u001b[0m\u001b[0mvalues\u001b[0m\u001b[0;34m)\u001b[0m\u001b[0;34m\u001b[0m\u001b[0;34m\u001b[0m\u001b[0m\n\u001b[0m\u001b[1;32m    218\u001b[0m         \u001b[0;32mreturn\u001b[0m \u001b[0;34m[\u001b[0m\u001b[0mself\u001b[0m\u001b[0;34m(\u001b[0m\u001b[0mvalue\u001b[0m\u001b[0;34m,\u001b[0m \u001b[0mi\u001b[0m\u001b[0;34m)\u001b[0m \u001b[0;32mfor\u001b[0m \u001b[0mi\u001b[0m\u001b[0;34m,\u001b[0m \u001b[0mvalue\u001b[0m \u001b[0;32min\u001b[0m \u001b[0menumerate\u001b[0m\u001b[0;34m(\u001b[0m\u001b[0mvalues\u001b[0m\u001b[0;34m)\u001b[0m\u001b[0;34m]\u001b[0m\u001b[0;34m\u001b[0m\u001b[0;34m\u001b[0m\u001b[0m\n\u001b[1;32m    219\u001b[0m \u001b[0;34m\u001b[0m\u001b[0m\n",
            "\u001b[0;32m/usr/local/lib/python3.10/dist-packages/matplotlib/ticker.py\u001b[0m in \u001b[0;36mset_locs\u001b[0;34m(self, locs)\u001b[0m\n\u001b[1;32m    701\u001b[0m                 \u001b[0mself\u001b[0m\u001b[0;34m.\u001b[0m\u001b[0m_compute_offset\u001b[0m\u001b[0;34m(\u001b[0m\u001b[0;34m)\u001b[0m\u001b[0;34m\u001b[0m\u001b[0;34m\u001b[0m\u001b[0m\n\u001b[1;32m    702\u001b[0m             \u001b[0mself\u001b[0m\u001b[0;34m.\u001b[0m\u001b[0m_set_order_of_magnitude\u001b[0m\u001b[0;34m(\u001b[0m\u001b[0;34m)\u001b[0m\u001b[0;34m\u001b[0m\u001b[0;34m\u001b[0m\u001b[0m\n\u001b[0;32m--> 703\u001b[0;31m             \u001b[0mself\u001b[0m\u001b[0;34m.\u001b[0m\u001b[0m_set_format\u001b[0m\u001b[0;34m(\u001b[0m\u001b[0;34m)\u001b[0m\u001b[0;34m\u001b[0m\u001b[0;34m\u001b[0m\u001b[0m\n\u001b[0m\u001b[1;32m    704\u001b[0m \u001b[0;34m\u001b[0m\u001b[0m\n\u001b[1;32m    705\u001b[0m     \u001b[0;32mdef\u001b[0m \u001b[0m_compute_offset\u001b[0m\u001b[0;34m(\u001b[0m\u001b[0mself\u001b[0m\u001b[0;34m)\u001b[0m\u001b[0;34m:\u001b[0m\u001b[0;34m\u001b[0m\u001b[0;34m\u001b[0m\u001b[0m\n",
            "\u001b[0;32m/usr/local/lib/python3.10/dist-packages/matplotlib/ticker.py\u001b[0m in \u001b[0;36m_set_format\u001b[0;34m(self)\u001b[0m\n\u001b[1;32m    794\u001b[0m             \u001b[0;31m# We needed the end points only for the loc_range calculation.\u001b[0m\u001b[0;34m\u001b[0m\u001b[0;34m\u001b[0m\u001b[0m\n\u001b[1;32m    795\u001b[0m             \u001b[0mlocs\u001b[0m \u001b[0;34m=\u001b[0m \u001b[0mlocs\u001b[0m\u001b[0;34m[\u001b[0m\u001b[0;34m:\u001b[0m\u001b[0;34m-\u001b[0m\u001b[0;36m2\u001b[0m\u001b[0;34m]\u001b[0m\u001b[0;34m\u001b[0m\u001b[0;34m\u001b[0m\u001b[0m\n\u001b[0;32m--> 796\u001b[0;31m         \u001b[0mloc_range_oom\u001b[0m \u001b[0;34m=\u001b[0m \u001b[0mint\u001b[0m\u001b[0;34m(\u001b[0m\u001b[0mmath\u001b[0m\u001b[0;34m.\u001b[0m\u001b[0mfloor\u001b[0m\u001b[0;34m(\u001b[0m\u001b[0mmath\u001b[0m\u001b[0;34m.\u001b[0m\u001b[0mlog10\u001b[0m\u001b[0;34m(\u001b[0m\u001b[0mloc_range\u001b[0m\u001b[0;34m)\u001b[0m\u001b[0;34m)\u001b[0m\u001b[0;34m)\u001b[0m\u001b[0;34m\u001b[0m\u001b[0;34m\u001b[0m\u001b[0m\n\u001b[0m\u001b[1;32m    797\u001b[0m         \u001b[0;31m# first estimate:\u001b[0m\u001b[0;34m\u001b[0m\u001b[0;34m\u001b[0m\u001b[0m\n\u001b[1;32m    798\u001b[0m         \u001b[0msigfigs\u001b[0m \u001b[0;34m=\u001b[0m \u001b[0mmax\u001b[0m\u001b[0;34m(\u001b[0m\u001b[0;36m0\u001b[0m\u001b[0;34m,\u001b[0m \u001b[0;36m3\u001b[0m \u001b[0;34m-\u001b[0m \u001b[0mloc_range_oom\u001b[0m\u001b[0;34m)\u001b[0m\u001b[0;34m\u001b[0m\u001b[0;34m\u001b[0m\u001b[0m\n",
            "\u001b[0;31mOverflowError\u001b[0m: cannot convert float infinity to integer"
          ]
        },
        {
          "output_type": "error",
          "ename": "OverflowError",
          "evalue": "cannot convert float infinity to integer",
          "traceback": [
            "\u001b[0;31m---------------------------------------------------------------------------\u001b[0m",
            "\u001b[0;31mOverflowError\u001b[0m                             Traceback (most recent call last)",
            "\u001b[0;32m/usr/local/lib/python3.10/dist-packages/IPython/core/formatters.py\u001b[0m in \u001b[0;36m__call__\u001b[0;34m(self, obj)\u001b[0m\n\u001b[1;32m    339\u001b[0m                 \u001b[0;32mpass\u001b[0m\u001b[0;34m\u001b[0m\u001b[0;34m\u001b[0m\u001b[0m\n\u001b[1;32m    340\u001b[0m             \u001b[0;32melse\u001b[0m\u001b[0;34m:\u001b[0m\u001b[0;34m\u001b[0m\u001b[0;34m\u001b[0m\u001b[0m\n\u001b[0;32m--> 341\u001b[0;31m                 \u001b[0;32mreturn\u001b[0m \u001b[0mprinter\u001b[0m\u001b[0;34m(\u001b[0m\u001b[0mobj\u001b[0m\u001b[0;34m)\u001b[0m\u001b[0;34m\u001b[0m\u001b[0;34m\u001b[0m\u001b[0m\n\u001b[0m\u001b[1;32m    342\u001b[0m             \u001b[0;31m# Finally look for special method names\u001b[0m\u001b[0;34m\u001b[0m\u001b[0;34m\u001b[0m\u001b[0m\n\u001b[1;32m    343\u001b[0m             \u001b[0mmethod\u001b[0m \u001b[0;34m=\u001b[0m \u001b[0mget_real_method\u001b[0m\u001b[0;34m(\u001b[0m\u001b[0mobj\u001b[0m\u001b[0;34m,\u001b[0m \u001b[0mself\u001b[0m\u001b[0;34m.\u001b[0m\u001b[0mprint_method\u001b[0m\u001b[0;34m)\u001b[0m\u001b[0;34m\u001b[0m\u001b[0;34m\u001b[0m\u001b[0m\n",
            "\u001b[0;32m/usr/local/lib/python3.10/dist-packages/IPython/core/pylabtools.py\u001b[0m in \u001b[0;36mprint_figure\u001b[0;34m(fig, fmt, bbox_inches, base64, **kwargs)\u001b[0m\n\u001b[1;32m    149\u001b[0m         \u001b[0mFigureCanvasBase\u001b[0m\u001b[0;34m(\u001b[0m\u001b[0mfig\u001b[0m\u001b[0;34m)\u001b[0m\u001b[0;34m\u001b[0m\u001b[0;34m\u001b[0m\u001b[0m\n\u001b[1;32m    150\u001b[0m \u001b[0;34m\u001b[0m\u001b[0m\n\u001b[0;32m--> 151\u001b[0;31m     \u001b[0mfig\u001b[0m\u001b[0;34m.\u001b[0m\u001b[0mcanvas\u001b[0m\u001b[0;34m.\u001b[0m\u001b[0mprint_figure\u001b[0m\u001b[0;34m(\u001b[0m\u001b[0mbytes_io\u001b[0m\u001b[0;34m,\u001b[0m \u001b[0;34m**\u001b[0m\u001b[0mkw\u001b[0m\u001b[0;34m)\u001b[0m\u001b[0;34m\u001b[0m\u001b[0;34m\u001b[0m\u001b[0m\n\u001b[0m\u001b[1;32m    152\u001b[0m     \u001b[0mdata\u001b[0m \u001b[0;34m=\u001b[0m \u001b[0mbytes_io\u001b[0m\u001b[0;34m.\u001b[0m\u001b[0mgetvalue\u001b[0m\u001b[0;34m(\u001b[0m\u001b[0;34m)\u001b[0m\u001b[0;34m\u001b[0m\u001b[0;34m\u001b[0m\u001b[0m\n\u001b[1;32m    153\u001b[0m     \u001b[0;32mif\u001b[0m \u001b[0mfmt\u001b[0m \u001b[0;34m==\u001b[0m \u001b[0;34m'svg'\u001b[0m\u001b[0;34m:\u001b[0m\u001b[0;34m\u001b[0m\u001b[0;34m\u001b[0m\u001b[0m\n",
            "\u001b[0;32m/usr/local/lib/python3.10/dist-packages/matplotlib/backend_bases.py\u001b[0m in \u001b[0;36mprint_figure\u001b[0;34m(self, filename, dpi, facecolor, edgecolor, orientation, format, bbox_inches, pad_inches, bbox_extra_artists, backend, **kwargs)\u001b[0m\n\u001b[1;32m   2340\u001b[0m                 )\n\u001b[1;32m   2341\u001b[0m                 \u001b[0;32mwith\u001b[0m \u001b[0mgetattr\u001b[0m\u001b[0;34m(\u001b[0m\u001b[0mrenderer\u001b[0m\u001b[0;34m,\u001b[0m \u001b[0;34m\"_draw_disabled\"\u001b[0m\u001b[0;34m,\u001b[0m \u001b[0mnullcontext\u001b[0m\u001b[0;34m)\u001b[0m\u001b[0;34m(\u001b[0m\u001b[0;34m)\u001b[0m\u001b[0;34m:\u001b[0m\u001b[0;34m\u001b[0m\u001b[0;34m\u001b[0m\u001b[0m\n\u001b[0;32m-> 2342\u001b[0;31m                     \u001b[0mself\u001b[0m\u001b[0;34m.\u001b[0m\u001b[0mfigure\u001b[0m\u001b[0;34m.\u001b[0m\u001b[0mdraw\u001b[0m\u001b[0;34m(\u001b[0m\u001b[0mrenderer\u001b[0m\u001b[0;34m)\u001b[0m\u001b[0;34m\u001b[0m\u001b[0;34m\u001b[0m\u001b[0m\n\u001b[0m\u001b[1;32m   2343\u001b[0m \u001b[0;34m\u001b[0m\u001b[0m\n\u001b[1;32m   2344\u001b[0m             \u001b[0;32mif\u001b[0m \u001b[0mbbox_inches\u001b[0m\u001b[0;34m:\u001b[0m\u001b[0;34m\u001b[0m\u001b[0;34m\u001b[0m\u001b[0m\n",
            "\u001b[0;32m/usr/local/lib/python3.10/dist-packages/matplotlib/artist.py\u001b[0m in \u001b[0;36mdraw_wrapper\u001b[0;34m(artist, renderer, *args, **kwargs)\u001b[0m\n\u001b[1;32m     93\u001b[0m     \u001b[0;34m@\u001b[0m\u001b[0mwraps\u001b[0m\u001b[0;34m(\u001b[0m\u001b[0mdraw\u001b[0m\u001b[0;34m)\u001b[0m\u001b[0;34m\u001b[0m\u001b[0;34m\u001b[0m\u001b[0m\n\u001b[1;32m     94\u001b[0m     \u001b[0;32mdef\u001b[0m \u001b[0mdraw_wrapper\u001b[0m\u001b[0;34m(\u001b[0m\u001b[0martist\u001b[0m\u001b[0;34m,\u001b[0m \u001b[0mrenderer\u001b[0m\u001b[0;34m,\u001b[0m \u001b[0;34m*\u001b[0m\u001b[0margs\u001b[0m\u001b[0;34m,\u001b[0m \u001b[0;34m**\u001b[0m\u001b[0mkwargs\u001b[0m\u001b[0;34m)\u001b[0m\u001b[0;34m:\u001b[0m\u001b[0;34m\u001b[0m\u001b[0;34m\u001b[0m\u001b[0m\n\u001b[0;32m---> 95\u001b[0;31m         \u001b[0mresult\u001b[0m \u001b[0;34m=\u001b[0m \u001b[0mdraw\u001b[0m\u001b[0;34m(\u001b[0m\u001b[0martist\u001b[0m\u001b[0;34m,\u001b[0m \u001b[0mrenderer\u001b[0m\u001b[0;34m,\u001b[0m \u001b[0;34m*\u001b[0m\u001b[0margs\u001b[0m\u001b[0;34m,\u001b[0m \u001b[0;34m**\u001b[0m\u001b[0mkwargs\u001b[0m\u001b[0;34m)\u001b[0m\u001b[0;34m\u001b[0m\u001b[0;34m\u001b[0m\u001b[0m\n\u001b[0m\u001b[1;32m     96\u001b[0m         \u001b[0;32mif\u001b[0m \u001b[0mrenderer\u001b[0m\u001b[0;34m.\u001b[0m\u001b[0m_rasterizing\u001b[0m\u001b[0;34m:\u001b[0m\u001b[0;34m\u001b[0m\u001b[0;34m\u001b[0m\u001b[0m\n\u001b[1;32m     97\u001b[0m             \u001b[0mrenderer\u001b[0m\u001b[0;34m.\u001b[0m\u001b[0mstop_rasterizing\u001b[0m\u001b[0;34m(\u001b[0m\u001b[0;34m)\u001b[0m\u001b[0;34m\u001b[0m\u001b[0;34m\u001b[0m\u001b[0m\n",
            "\u001b[0;32m/usr/local/lib/python3.10/dist-packages/matplotlib/artist.py\u001b[0m in \u001b[0;36mdraw_wrapper\u001b[0;34m(artist, renderer)\u001b[0m\n\u001b[1;32m     70\u001b[0m                 \u001b[0mrenderer\u001b[0m\u001b[0;34m.\u001b[0m\u001b[0mstart_filter\u001b[0m\u001b[0;34m(\u001b[0m\u001b[0;34m)\u001b[0m\u001b[0;34m\u001b[0m\u001b[0;34m\u001b[0m\u001b[0m\n\u001b[1;32m     71\u001b[0m \u001b[0;34m\u001b[0m\u001b[0m\n\u001b[0;32m---> 72\u001b[0;31m             \u001b[0;32mreturn\u001b[0m \u001b[0mdraw\u001b[0m\u001b[0;34m(\u001b[0m\u001b[0martist\u001b[0m\u001b[0;34m,\u001b[0m \u001b[0mrenderer\u001b[0m\u001b[0;34m)\u001b[0m\u001b[0;34m\u001b[0m\u001b[0;34m\u001b[0m\u001b[0m\n\u001b[0m\u001b[1;32m     73\u001b[0m         \u001b[0;32mfinally\u001b[0m\u001b[0;34m:\u001b[0m\u001b[0;34m\u001b[0m\u001b[0;34m\u001b[0m\u001b[0m\n\u001b[1;32m     74\u001b[0m             \u001b[0;32mif\u001b[0m \u001b[0martist\u001b[0m\u001b[0;34m.\u001b[0m\u001b[0mget_agg_filter\u001b[0m\u001b[0;34m(\u001b[0m\u001b[0;34m)\u001b[0m \u001b[0;32mis\u001b[0m \u001b[0;32mnot\u001b[0m \u001b[0;32mNone\u001b[0m\u001b[0;34m:\u001b[0m\u001b[0;34m\u001b[0m\u001b[0;34m\u001b[0m\u001b[0m\n",
            "\u001b[0;32m/usr/local/lib/python3.10/dist-packages/matplotlib/figure.py\u001b[0m in \u001b[0;36mdraw\u001b[0;34m(self, renderer)\u001b[0m\n\u001b[1;32m   3138\u001b[0m \u001b[0;34m\u001b[0m\u001b[0m\n\u001b[1;32m   3139\u001b[0m             \u001b[0mself\u001b[0m\u001b[0;34m.\u001b[0m\u001b[0mpatch\u001b[0m\u001b[0;34m.\u001b[0m\u001b[0mdraw\u001b[0m\u001b[0;34m(\u001b[0m\u001b[0mrenderer\u001b[0m\u001b[0;34m)\u001b[0m\u001b[0;34m\u001b[0m\u001b[0;34m\u001b[0m\u001b[0m\n\u001b[0;32m-> 3140\u001b[0;31m             mimage._draw_list_compositing_images(\n\u001b[0m\u001b[1;32m   3141\u001b[0m                 renderer, self, artists, self.suppressComposite)\n\u001b[1;32m   3142\u001b[0m \u001b[0;34m\u001b[0m\u001b[0m\n",
            "\u001b[0;32m/usr/local/lib/python3.10/dist-packages/matplotlib/image.py\u001b[0m in \u001b[0;36m_draw_list_compositing_images\u001b[0;34m(renderer, parent, artists, suppress_composite)\u001b[0m\n\u001b[1;32m    129\u001b[0m     \u001b[0;32mif\u001b[0m \u001b[0mnot_composite\u001b[0m \u001b[0;32mor\u001b[0m \u001b[0;32mnot\u001b[0m \u001b[0mhas_images\u001b[0m\u001b[0;34m:\u001b[0m\u001b[0;34m\u001b[0m\u001b[0;34m\u001b[0m\u001b[0m\n\u001b[1;32m    130\u001b[0m         \u001b[0;32mfor\u001b[0m \u001b[0ma\u001b[0m \u001b[0;32min\u001b[0m \u001b[0martists\u001b[0m\u001b[0;34m:\u001b[0m\u001b[0;34m\u001b[0m\u001b[0;34m\u001b[0m\u001b[0m\n\u001b[0;32m--> 131\u001b[0;31m             \u001b[0ma\u001b[0m\u001b[0;34m.\u001b[0m\u001b[0mdraw\u001b[0m\u001b[0;34m(\u001b[0m\u001b[0mrenderer\u001b[0m\u001b[0;34m)\u001b[0m\u001b[0;34m\u001b[0m\u001b[0;34m\u001b[0m\u001b[0m\n\u001b[0m\u001b[1;32m    132\u001b[0m     \u001b[0;32melse\u001b[0m\u001b[0;34m:\u001b[0m\u001b[0;34m\u001b[0m\u001b[0;34m\u001b[0m\u001b[0m\n\u001b[1;32m    133\u001b[0m         \u001b[0;31m# Composite any adjacent images together\u001b[0m\u001b[0;34m\u001b[0m\u001b[0;34m\u001b[0m\u001b[0m\n",
            "\u001b[0;32m/usr/local/lib/python3.10/dist-packages/matplotlib/artist.py\u001b[0m in \u001b[0;36mdraw_wrapper\u001b[0;34m(artist, renderer)\u001b[0m\n\u001b[1;32m     70\u001b[0m                 \u001b[0mrenderer\u001b[0m\u001b[0;34m.\u001b[0m\u001b[0mstart_filter\u001b[0m\u001b[0;34m(\u001b[0m\u001b[0;34m)\u001b[0m\u001b[0;34m\u001b[0m\u001b[0;34m\u001b[0m\u001b[0m\n\u001b[1;32m     71\u001b[0m \u001b[0;34m\u001b[0m\u001b[0m\n\u001b[0;32m---> 72\u001b[0;31m             \u001b[0;32mreturn\u001b[0m \u001b[0mdraw\u001b[0m\u001b[0;34m(\u001b[0m\u001b[0martist\u001b[0m\u001b[0;34m,\u001b[0m \u001b[0mrenderer\u001b[0m\u001b[0;34m)\u001b[0m\u001b[0;34m\u001b[0m\u001b[0;34m\u001b[0m\u001b[0m\n\u001b[0m\u001b[1;32m     73\u001b[0m         \u001b[0;32mfinally\u001b[0m\u001b[0;34m:\u001b[0m\u001b[0;34m\u001b[0m\u001b[0;34m\u001b[0m\u001b[0m\n\u001b[1;32m     74\u001b[0m             \u001b[0;32mif\u001b[0m \u001b[0martist\u001b[0m\u001b[0;34m.\u001b[0m\u001b[0mget_agg_filter\u001b[0m\u001b[0;34m(\u001b[0m\u001b[0;34m)\u001b[0m \u001b[0;32mis\u001b[0m \u001b[0;32mnot\u001b[0m \u001b[0;32mNone\u001b[0m\u001b[0;34m:\u001b[0m\u001b[0;34m\u001b[0m\u001b[0;34m\u001b[0m\u001b[0m\n",
            "\u001b[0;32m/usr/local/lib/python3.10/dist-packages/matplotlib/axes/_base.py\u001b[0m in \u001b[0;36mdraw\u001b[0;34m(self, renderer)\u001b[0m\n\u001b[1;32m   3062\u001b[0m             \u001b[0m_draw_rasterized\u001b[0m\u001b[0;34m(\u001b[0m\u001b[0mself\u001b[0m\u001b[0;34m.\u001b[0m\u001b[0mfigure\u001b[0m\u001b[0;34m,\u001b[0m \u001b[0martists_rasterized\u001b[0m\u001b[0;34m,\u001b[0m \u001b[0mrenderer\u001b[0m\u001b[0;34m)\u001b[0m\u001b[0;34m\u001b[0m\u001b[0;34m\u001b[0m\u001b[0m\n\u001b[1;32m   3063\u001b[0m \u001b[0;34m\u001b[0m\u001b[0m\n\u001b[0;32m-> 3064\u001b[0;31m         mimage._draw_list_compositing_images(\n\u001b[0m\u001b[1;32m   3065\u001b[0m             renderer, self, artists, self.figure.suppressComposite)\n\u001b[1;32m   3066\u001b[0m \u001b[0;34m\u001b[0m\u001b[0m\n",
            "\u001b[0;32m/usr/local/lib/python3.10/dist-packages/matplotlib/image.py\u001b[0m in \u001b[0;36m_draw_list_compositing_images\u001b[0;34m(renderer, parent, artists, suppress_composite)\u001b[0m\n\u001b[1;32m    129\u001b[0m     \u001b[0;32mif\u001b[0m \u001b[0mnot_composite\u001b[0m \u001b[0;32mor\u001b[0m \u001b[0;32mnot\u001b[0m \u001b[0mhas_images\u001b[0m\u001b[0;34m:\u001b[0m\u001b[0;34m\u001b[0m\u001b[0;34m\u001b[0m\u001b[0m\n\u001b[1;32m    130\u001b[0m         \u001b[0;32mfor\u001b[0m \u001b[0ma\u001b[0m \u001b[0;32min\u001b[0m \u001b[0martists\u001b[0m\u001b[0;34m:\u001b[0m\u001b[0;34m\u001b[0m\u001b[0;34m\u001b[0m\u001b[0m\n\u001b[0;32m--> 131\u001b[0;31m             \u001b[0ma\u001b[0m\u001b[0;34m.\u001b[0m\u001b[0mdraw\u001b[0m\u001b[0;34m(\u001b[0m\u001b[0mrenderer\u001b[0m\u001b[0;34m)\u001b[0m\u001b[0;34m\u001b[0m\u001b[0;34m\u001b[0m\u001b[0m\n\u001b[0m\u001b[1;32m    132\u001b[0m     \u001b[0;32melse\u001b[0m\u001b[0;34m:\u001b[0m\u001b[0;34m\u001b[0m\u001b[0;34m\u001b[0m\u001b[0m\n\u001b[1;32m    133\u001b[0m         \u001b[0;31m# Composite any adjacent images together\u001b[0m\u001b[0;34m\u001b[0m\u001b[0;34m\u001b[0m\u001b[0m\n",
            "\u001b[0;32m/usr/local/lib/python3.10/dist-packages/matplotlib/artist.py\u001b[0m in \u001b[0;36mdraw_wrapper\u001b[0;34m(artist, renderer)\u001b[0m\n\u001b[1;32m     70\u001b[0m                 \u001b[0mrenderer\u001b[0m\u001b[0;34m.\u001b[0m\u001b[0mstart_filter\u001b[0m\u001b[0;34m(\u001b[0m\u001b[0;34m)\u001b[0m\u001b[0;34m\u001b[0m\u001b[0;34m\u001b[0m\u001b[0m\n\u001b[1;32m     71\u001b[0m \u001b[0;34m\u001b[0m\u001b[0m\n\u001b[0;32m---> 72\u001b[0;31m             \u001b[0;32mreturn\u001b[0m \u001b[0mdraw\u001b[0m\u001b[0;34m(\u001b[0m\u001b[0martist\u001b[0m\u001b[0;34m,\u001b[0m \u001b[0mrenderer\u001b[0m\u001b[0;34m)\u001b[0m\u001b[0;34m\u001b[0m\u001b[0;34m\u001b[0m\u001b[0m\n\u001b[0m\u001b[1;32m     73\u001b[0m         \u001b[0;32mfinally\u001b[0m\u001b[0;34m:\u001b[0m\u001b[0;34m\u001b[0m\u001b[0;34m\u001b[0m\u001b[0m\n\u001b[1;32m     74\u001b[0m             \u001b[0;32mif\u001b[0m \u001b[0martist\u001b[0m\u001b[0;34m.\u001b[0m\u001b[0mget_agg_filter\u001b[0m\u001b[0;34m(\u001b[0m\u001b[0;34m)\u001b[0m \u001b[0;32mis\u001b[0m \u001b[0;32mnot\u001b[0m \u001b[0;32mNone\u001b[0m\u001b[0;34m:\u001b[0m\u001b[0;34m\u001b[0m\u001b[0;34m\u001b[0m\u001b[0m\n",
            "\u001b[0;32m/usr/local/lib/python3.10/dist-packages/matplotlib/axis.py\u001b[0m in \u001b[0;36mdraw\u001b[0;34m(self, renderer, *args, **kwargs)\u001b[0m\n\u001b[1;32m   1374\u001b[0m         \u001b[0mrenderer\u001b[0m\u001b[0;34m.\u001b[0m\u001b[0mopen_group\u001b[0m\u001b[0;34m(\u001b[0m\u001b[0m__name__\u001b[0m\u001b[0;34m,\u001b[0m \u001b[0mgid\u001b[0m\u001b[0;34m=\u001b[0m\u001b[0mself\u001b[0m\u001b[0;34m.\u001b[0m\u001b[0mget_gid\u001b[0m\u001b[0;34m(\u001b[0m\u001b[0;34m)\u001b[0m\u001b[0;34m)\u001b[0m\u001b[0;34m\u001b[0m\u001b[0;34m\u001b[0m\u001b[0m\n\u001b[1;32m   1375\u001b[0m \u001b[0;34m\u001b[0m\u001b[0m\n\u001b[0;32m-> 1376\u001b[0;31m         \u001b[0mticks_to_draw\u001b[0m \u001b[0;34m=\u001b[0m \u001b[0mself\u001b[0m\u001b[0;34m.\u001b[0m\u001b[0m_update_ticks\u001b[0m\u001b[0;34m(\u001b[0m\u001b[0;34m)\u001b[0m\u001b[0;34m\u001b[0m\u001b[0;34m\u001b[0m\u001b[0m\n\u001b[0m\u001b[1;32m   1377\u001b[0m         \u001b[0mtlb1\u001b[0m\u001b[0;34m,\u001b[0m \u001b[0mtlb2\u001b[0m \u001b[0;34m=\u001b[0m \u001b[0mself\u001b[0m\u001b[0;34m.\u001b[0m\u001b[0m_get_ticklabel_bboxes\u001b[0m\u001b[0;34m(\u001b[0m\u001b[0mticks_to_draw\u001b[0m\u001b[0;34m,\u001b[0m \u001b[0mrenderer\u001b[0m\u001b[0;34m)\u001b[0m\u001b[0;34m\u001b[0m\u001b[0;34m\u001b[0m\u001b[0m\n\u001b[1;32m   1378\u001b[0m \u001b[0;34m\u001b[0m\u001b[0m\n",
            "\u001b[0;32m/usr/local/lib/python3.10/dist-packages/matplotlib/axis.py\u001b[0m in \u001b[0;36m_update_ticks\u001b[0;34m(self)\u001b[0m\n\u001b[1;32m   1261\u001b[0m         \"\"\"\n\u001b[1;32m   1262\u001b[0m         \u001b[0mmajor_locs\u001b[0m \u001b[0;34m=\u001b[0m \u001b[0mself\u001b[0m\u001b[0;34m.\u001b[0m\u001b[0mget_majorticklocs\u001b[0m\u001b[0;34m(\u001b[0m\u001b[0;34m)\u001b[0m\u001b[0;34m\u001b[0m\u001b[0;34m\u001b[0m\u001b[0m\n\u001b[0;32m-> 1263\u001b[0;31m         \u001b[0mmajor_labels\u001b[0m \u001b[0;34m=\u001b[0m \u001b[0mself\u001b[0m\u001b[0;34m.\u001b[0m\u001b[0mmajor\u001b[0m\u001b[0;34m.\u001b[0m\u001b[0mformatter\u001b[0m\u001b[0;34m.\u001b[0m\u001b[0mformat_ticks\u001b[0m\u001b[0;34m(\u001b[0m\u001b[0mmajor_locs\u001b[0m\u001b[0;34m)\u001b[0m\u001b[0;34m\u001b[0m\u001b[0;34m\u001b[0m\u001b[0m\n\u001b[0m\u001b[1;32m   1264\u001b[0m         \u001b[0mmajor_ticks\u001b[0m \u001b[0;34m=\u001b[0m \u001b[0mself\u001b[0m\u001b[0;34m.\u001b[0m\u001b[0mget_major_ticks\u001b[0m\u001b[0;34m(\u001b[0m\u001b[0mlen\u001b[0m\u001b[0;34m(\u001b[0m\u001b[0mmajor_locs\u001b[0m\u001b[0;34m)\u001b[0m\u001b[0;34m)\u001b[0m\u001b[0;34m\u001b[0m\u001b[0;34m\u001b[0m\u001b[0m\n\u001b[1;32m   1265\u001b[0m         \u001b[0mself\u001b[0m\u001b[0;34m.\u001b[0m\u001b[0mmajor\u001b[0m\u001b[0;34m.\u001b[0m\u001b[0mformatter\u001b[0m\u001b[0;34m.\u001b[0m\u001b[0mset_locs\u001b[0m\u001b[0;34m(\u001b[0m\u001b[0mmajor_locs\u001b[0m\u001b[0;34m)\u001b[0m\u001b[0;34m\u001b[0m\u001b[0;34m\u001b[0m\u001b[0m\n",
            "\u001b[0;32m/usr/local/lib/python3.10/dist-packages/matplotlib/ticker.py\u001b[0m in \u001b[0;36mformat_ticks\u001b[0;34m(self, values)\u001b[0m\n\u001b[1;32m    215\u001b[0m     \u001b[0;32mdef\u001b[0m \u001b[0mformat_ticks\u001b[0m\u001b[0;34m(\u001b[0m\u001b[0mself\u001b[0m\u001b[0;34m,\u001b[0m \u001b[0mvalues\u001b[0m\u001b[0;34m)\u001b[0m\u001b[0;34m:\u001b[0m\u001b[0;34m\u001b[0m\u001b[0;34m\u001b[0m\u001b[0m\n\u001b[1;32m    216\u001b[0m         \u001b[0;34m\"\"\"Return the tick labels for all the ticks at once.\"\"\"\u001b[0m\u001b[0;34m\u001b[0m\u001b[0;34m\u001b[0m\u001b[0m\n\u001b[0;32m--> 217\u001b[0;31m         \u001b[0mself\u001b[0m\u001b[0;34m.\u001b[0m\u001b[0mset_locs\u001b[0m\u001b[0;34m(\u001b[0m\u001b[0mvalues\u001b[0m\u001b[0;34m)\u001b[0m\u001b[0;34m\u001b[0m\u001b[0;34m\u001b[0m\u001b[0m\n\u001b[0m\u001b[1;32m    218\u001b[0m         \u001b[0;32mreturn\u001b[0m \u001b[0;34m[\u001b[0m\u001b[0mself\u001b[0m\u001b[0;34m(\u001b[0m\u001b[0mvalue\u001b[0m\u001b[0;34m,\u001b[0m \u001b[0mi\u001b[0m\u001b[0;34m)\u001b[0m \u001b[0;32mfor\u001b[0m \u001b[0mi\u001b[0m\u001b[0;34m,\u001b[0m \u001b[0mvalue\u001b[0m \u001b[0;32min\u001b[0m \u001b[0menumerate\u001b[0m\u001b[0;34m(\u001b[0m\u001b[0mvalues\u001b[0m\u001b[0;34m)\u001b[0m\u001b[0;34m]\u001b[0m\u001b[0;34m\u001b[0m\u001b[0;34m\u001b[0m\u001b[0m\n\u001b[1;32m    219\u001b[0m \u001b[0;34m\u001b[0m\u001b[0m\n",
            "\u001b[0;32m/usr/local/lib/python3.10/dist-packages/matplotlib/ticker.py\u001b[0m in \u001b[0;36mset_locs\u001b[0;34m(self, locs)\u001b[0m\n\u001b[1;32m    701\u001b[0m                 \u001b[0mself\u001b[0m\u001b[0;34m.\u001b[0m\u001b[0m_compute_offset\u001b[0m\u001b[0;34m(\u001b[0m\u001b[0;34m)\u001b[0m\u001b[0;34m\u001b[0m\u001b[0;34m\u001b[0m\u001b[0m\n\u001b[1;32m    702\u001b[0m             \u001b[0mself\u001b[0m\u001b[0;34m.\u001b[0m\u001b[0m_set_order_of_magnitude\u001b[0m\u001b[0;34m(\u001b[0m\u001b[0;34m)\u001b[0m\u001b[0;34m\u001b[0m\u001b[0;34m\u001b[0m\u001b[0m\n\u001b[0;32m--> 703\u001b[0;31m             \u001b[0mself\u001b[0m\u001b[0;34m.\u001b[0m\u001b[0m_set_format\u001b[0m\u001b[0;34m(\u001b[0m\u001b[0;34m)\u001b[0m\u001b[0;34m\u001b[0m\u001b[0;34m\u001b[0m\u001b[0m\n\u001b[0m\u001b[1;32m    704\u001b[0m \u001b[0;34m\u001b[0m\u001b[0m\n\u001b[1;32m    705\u001b[0m     \u001b[0;32mdef\u001b[0m \u001b[0m_compute_offset\u001b[0m\u001b[0;34m(\u001b[0m\u001b[0mself\u001b[0m\u001b[0;34m)\u001b[0m\u001b[0;34m:\u001b[0m\u001b[0;34m\u001b[0m\u001b[0;34m\u001b[0m\u001b[0m\n",
            "\u001b[0;32m/usr/local/lib/python3.10/dist-packages/matplotlib/ticker.py\u001b[0m in \u001b[0;36m_set_format\u001b[0;34m(self)\u001b[0m\n\u001b[1;32m    794\u001b[0m             \u001b[0;31m# We needed the end points only for the loc_range calculation.\u001b[0m\u001b[0;34m\u001b[0m\u001b[0;34m\u001b[0m\u001b[0m\n\u001b[1;32m    795\u001b[0m             \u001b[0mlocs\u001b[0m \u001b[0;34m=\u001b[0m \u001b[0mlocs\u001b[0m\u001b[0;34m[\u001b[0m\u001b[0;34m:\u001b[0m\u001b[0;34m-\u001b[0m\u001b[0;36m2\u001b[0m\u001b[0;34m]\u001b[0m\u001b[0;34m\u001b[0m\u001b[0;34m\u001b[0m\u001b[0m\n\u001b[0;32m--> 796\u001b[0;31m         \u001b[0mloc_range_oom\u001b[0m \u001b[0;34m=\u001b[0m \u001b[0mint\u001b[0m\u001b[0;34m(\u001b[0m\u001b[0mmath\u001b[0m\u001b[0;34m.\u001b[0m\u001b[0mfloor\u001b[0m\u001b[0;34m(\u001b[0m\u001b[0mmath\u001b[0m\u001b[0;34m.\u001b[0m\u001b[0mlog10\u001b[0m\u001b[0;34m(\u001b[0m\u001b[0mloc_range\u001b[0m\u001b[0;34m)\u001b[0m\u001b[0;34m)\u001b[0m\u001b[0;34m)\u001b[0m\u001b[0;34m\u001b[0m\u001b[0;34m\u001b[0m\u001b[0m\n\u001b[0m\u001b[1;32m    797\u001b[0m         \u001b[0;31m# first estimate:\u001b[0m\u001b[0;34m\u001b[0m\u001b[0;34m\u001b[0m\u001b[0m\n\u001b[1;32m    798\u001b[0m         \u001b[0msigfigs\u001b[0m \u001b[0;34m=\u001b[0m \u001b[0mmax\u001b[0m\u001b[0;34m(\u001b[0m\u001b[0;36m0\u001b[0m\u001b[0;34m,\u001b[0m \u001b[0;36m3\u001b[0m \u001b[0;34m-\u001b[0m \u001b[0mloc_range_oom\u001b[0m\u001b[0;34m)\u001b[0m\u001b[0;34m\u001b[0m\u001b[0;34m\u001b[0m\u001b[0m\n",
            "\u001b[0;31mOverflowError\u001b[0m: cannot convert float infinity to integer"
          ]
        },
        {
          "output_type": "display_data",
          "data": {
            "text/plain": [
              "<Figure size 640x480 with 1 Axes>"
            ]
          },
          "metadata": {}
        }
      ]
    },
    {
      "cell_type": "markdown",
      "source": [
        "#### Previous code"
      ],
      "metadata": {
        "id": "sXnoLyrUTSb6"
      }
    },
    {
      "cell_type": "markdown",
      "source": [
        "-----------------------------------------------------\n",
        "Write a code to evaluate the model, you may do so by adding evaluation related steps in the training loop as well.<br>\n",
        "Plot the graphs as required.<br>\n",
        "Plot the graph by testing the model on NNN case as well.<br>\n",
        "Code a CNN model and perform all the actions as performed on an neural network."
      ],
      "metadata": {
        "id": "9W3iZDGskNdQ"
      }
    },
    {
      "cell_type": "code",
      "execution_count": null,
      "metadata": {
        "id": "WpH37d3OZ5ee",
        "outputId": "51d82fd6-6f01-4c43-e210-58caab927f99"
      },
      "outputs": [
        {
          "name": "stdout",
          "output_type": "stream",
          "text": [
            "MODEL1\n",
            "122/122 [==============================] - 4s 2ms/step - loss: 0.1936 - accuracy: 0.9279\n",
            "MODEL3\n",
            "122/122 [==============================] - 4s 2ms/step - loss: 0.1081 - accuracy: 0.9708\n",
            "MODEL4\n",
            "122/122 [==============================] - 4s 2ms/step - loss: 0.1187 - accuracy: 0.9697\n"
          ]
        }
      ],
      "source": [
        "print('MODEL1')\n",
        "model1 = keras.Sequential()\n",
        "model1 = neural(model1, X_train1, X_test1, y_train1, y_test1)\n",
        "print('MODEL3')\n",
        "model3 = keras.Sequential()\n",
        "model3 = neural(model3, X_train3, X_test3, y_train3, y_test3)\n",
        "print('MODEL4')\n",
        "model4 = keras.Sequential()\n",
        "model4 = neural(model4, X_train4, X_test4, y_train4, y_test4)\n"
      ]
    },
    {
      "cell_type": "code",
      "execution_count": null,
      "metadata": {
        "id": "5SoVN2ljZ5ef",
        "outputId": "1429eff5-a274-4649-b257-57f48f156311"
      },
      "outputs": [
        {
          "data": {
            "text/plain": [
              "Text(0, 0.5, 'Accuracy')"
            ]
          },
          "execution_count": 272,
          "metadata": {},
          "output_type": "execute_result"
        },
        {
          "data": {
            "image/png": "[encoded data removed]",
            "text/plain": [
              "<Figure size 432x288 with 1 Axes>"
            ]
          },
          "metadata": {
            "needs_background": "light"
          },
          "output_type": "display_data"
        }
      ],
      "source": [
        "plt.plot([10,20,30], [0.9279,0.9644, 0.9708])\n",
        "plt.scatter([10,20,30], [0.9279,0.9644, 0.9708])\n",
        "plt.xlabel('Lattice size')\n",
        "plt.ylabel('Accuracy')"
      ]
    },
    {
      "cell_type": "code",
      "execution_count": null,
      "metadata": {
        "id": "BADZ6t5TZ5ef"
      },
      "outputs": [],
      "source": [
        "def preds(model, X_test, size):\n",
        "    l = []\n",
        "\n",
        "#     print('PREDICTIONS:')\n",
        "    for i in range(1,size):\n",
        "#         print('i=',i)\n",
        "        l.append(model.predict(X_test[(i-1):(i)], verbose = 0))\n",
        "    l = np.array(l)\n",
        "\n",
        "    return l"
      ]
    },
    {
      "cell_type": "code",
      "execution_count": null,
      "metadata": {
        "id": "s284mcL9Z5ef"
      },
      "outputs": [],
      "source": [
        "def sortIt(l, y):\n",
        "    size = l.shape[0]\n",
        "    a = np.zeros(size)\n",
        "    b = np.zeros(size)\n",
        "    l1 = np.zeros(size)\n",
        "    l2 = np.zeros(size)\n",
        "    for x in range(size):\n",
        "      a[x]=l[x][0][0]\n",
        "      b[x]=l[x][0][1]\n",
        "      l1[x]=y[x]\n",
        "\n",
        "    c = np.array([l1, a])\n",
        "    sorted_c = c.T[l1.argsort()]\n",
        "\n",
        "    d = np.array([l1, b])\n",
        "    sorted_d = d.T[l1.argsort()]\n",
        "\n",
        "    return sorted_c, sorted_d"
      ]
    },
    {
      "cell_type": "code",
      "execution_count": null,
      "metadata": {
        "id": "hr-CIgUaZ5ef"
      },
      "outputs": [],
      "source": [
        "def plotIt(sorted, y_test, yes=True):\n",
        "\n",
        "    t = np.arange(1, 3.51, 0.1)\n",
        "    vals = np.zeros(t.shape[0])\n",
        "    x_axisc = sorted[:,0]\n",
        "    y_axis = sorted[:,1]\n",
        "    k2=0\n",
        "\n",
        "    for i in t:\n",
        "        val=0\n",
        "        count=0\n",
        "        flag=0\n",
        "        k=0\n",
        "        for j in x_axis:\n",
        "            if(i==j):\n",
        "                val=val+y_axis[k]\n",
        "                count=count+1\n",
        "                flag=1\n",
        "            k=k+1\n",
        "        if(flag==1):\n",
        "            vals[k2] = val/count\n",
        "        if(flag==0 and k2!=0):\n",
        "            vals[k2] = vals[k2-1]\n",
        "        k2+=1\n",
        "\n",
        "    plt.plot(t, vals)\n",
        "\n",
        "#     if(yes):\n",
        "#         first_line = LineString(np.column_stack((t, vals)))\n",
        "#         return first_line\n",
        "#     else:\n",
        "#         second_line = LineString(np.column_stack((t, vals)))\n",
        "#         return second_line"
      ]
    },
    {
      "cell_type": "code",
      "execution_count": null,
      "metadata": {
        "id": "IqvqVG2tZ5ef"
      },
      "outputs": [],
      "source": [
        "l1 = preds(model1, X_test1, size)"
      ]
    },
    {
      "cell_type": "code",
      "execution_count": null,
      "metadata": {
        "id": "8L9SkZYEZ5ef"
      },
      "outputs": [],
      "source": [
        "# l = preds(model, X_test2, size)\n"
      ]
    },
    {
      "cell_type": "code",
      "execution_count": null,
      "metadata": {
        "id": "E4neWAjpZ5ef"
      },
      "outputs": [],
      "source": [
        "l3 = preds(model3, X_test3, size)\n"
      ]
    },
    {
      "cell_type": "code",
      "execution_count": null,
      "metadata": {
        "id": "bnCR4R83Z5eg"
      },
      "outputs": [],
      "source": [
        "# l4 = preds(model3, X_test4, size)"
      ]
    },
    {
      "cell_type": "code",
      "execution_count": null,
      "metadata": {
        "id": "_krNFGidZ5eg"
      },
      "outputs": [],
      "source": [
        "def plot_all(model, l, X_test2, y_test2, Y_test2, size = 100):\n",
        "\n",
        "#     l = preds(model, X_test2, size)\n",
        "    sorted_c, sorted_d = sortIt(l, Y_test2)\n",
        "    plotIt(sorted_c, y_test2)\n",
        "    plotIt(sorted_d, y_test2)\n",
        "    return sorted_c[:,0], sorted_c[:,1], sorted_d[:,0], sorted_d[:,1], val1, val2"
      ]
    },
    {
      "cell_type": "code",
      "execution_count": null,
      "metadata": {
        "scrolled": true,
        "id": "-nU82v-KZ5eg",
        "outputId": "0eb79da6-800f-44b3-98f6-d3c2adbad410"
      },
      "outputs": [
        {
          "data": {
            "text/plain": [
              "Text(0, 0.5, 'Output Layer')"
            ]
          },
          "execution_count": 270,
          "metadata": {},
          "output_type": "execute_result"
        },
        {
          "data": {
            "image/png": "[encoded data removed]",
            "text/plain": [
              "<Figure size 432x288 with 1 Axes>"
            ]
          },
          "metadata": {
            "needs_background": "light"
          },
          "output_type": "display_data"
        }
      ],
      "source": [
        "from shapely.geometry import LineString\n",
        "\n",
        "scx1, scy1, sdx1, sdy1 = plot_all(model1, l1, X_test1, y_test1, Y_test1)\n",
        "plt.scatter(scx1, scy1)\n",
        "plt.scatter(sdx1, sdy1)\n",
        "plt.plot(np.linspace(2.27,2.27,scy3.shape[0]),scy3)\n",
        "# scx2, scy2, sdx2, sdy2 = plot_all(model3, l, X_test2, y_test2, Y_test2)\n",
        "# scx3, scy3, sdx3, sdy3 = plot_all(model3, l3, X_test3, y_test3, Y_test3)\n",
        "plt.xlabel('T/J')\n",
        "plt.ylabel('Output Layer')\n",
        "\n"
      ]
    },
    {
      "cell_type": "code",
      "execution_count": null,
      "metadata": {
        "id": "jBDBS_aJZ5eg",
        "outputId": "e3eeed86-e6d2-4ea1-d6be-de648c29d4c1"
      },
      "outputs": [
        {
          "data": {
            "text/plain": [
              "Text(0, 0.5, 'Output Layer')"
            ]
          },
          "execution_count": 259,
          "metadata": {},
          "output_type": "execute_result"
        },
        {
          "data": {
            "image/png": "[encoded data removed]",
            "text/plain": [
              "<Figure size 432x288 with 1 Axes>"
            ]
          },
          "metadata": {
            "needs_background": "light"
          },
          "output_type": "display_data"
        }
      ],
      "source": [
        "scx2, scy2, sdx2, sdy2 = plot_all(model3, l, X_test2, y_test2, Y_test2)\n",
        "plt.scatter(scx2, scy2)\n",
        "plt.scatter(sdx2, sdy2)\n",
        "plt.plot(np.linspace(2.27,2.27,scy3.shape[0]),scy3)\n",
        "plt.xlabel('T/J')\n",
        "plt.ylabel('Output Layer')"
      ]
    },
    {
      "cell_type": "code",
      "execution_count": null,
      "metadata": {
        "id": "u35lZI77Z5eg",
        "outputId": "9af944ae-5aad-4d1e-bca4-084bbd2e1aa8"
      },
      "outputs": [
        {
          "data": {
            "text/plain": [
              "Text(0, 0.5, 'Output Layer')"
            ]
          },
          "execution_count": 261,
          "metadata": {},
          "output_type": "execute_result"
        },
        {
          "data": {
            "image/png": "[encoded data removed]",
            "text/plain": [
              "<Figure size 432x288 with 1 Axes>"
            ]
          },
          "metadata": {
            "needs_background": "light"
          },
          "output_type": "display_data"
        }
      ],
      "source": [
        "plt.scatter(scx3, scy3)\n",
        "plt.scatter(sdx3, sdy3)\n",
        "# plt.scatter(sdx3, sdy3)\n",
        "plt.plot(np.linspace(2.27,2.27,scy3.shape[0]),scy3, color='g')\n",
        "plt.xlabel('T/J')\n",
        "plt.ylabel('Output Layer')"
      ]
    },
    {
      "cell_type": "code",
      "execution_count": null,
      "metadata": {
        "id": "UlV7QaWKZ5eg"
      },
      "outputs": [],
      "source": [
        "def plotIt2(sorted, y_test, latt):\n",
        "\n",
        "    t = np.arange(1, 3.51, 0.1)\n",
        "    vals = np.zeros(t.shape[0])\n",
        "    x_axisc = sorted[:,0]\n",
        "    y_axis = sorted[:,1]\n",
        "    k2=0\n",
        "\n",
        "    for i in t:\n",
        "        val=0\n",
        "        count=0\n",
        "        flag=0\n",
        "        k=0\n",
        "        for j in x_axis:\n",
        "            if(i==j):\n",
        "                val=val+y_axis[k]\n",
        "                count=count+1\n",
        "                flag=1\n",
        "            k=k+1\n",
        "        if(flag==1):\n",
        "            vals[k2] = val/count\n",
        "        if(flag==0 and k2!=0):\n",
        "            vals[k2] = vals[k2-1]\n",
        "        k2+=1\n",
        "\n",
        "    plt.plot(t, (vals-2.27)*(latt))"
      ]
    },
    {
      "cell_type": "code",
      "execution_count": null,
      "metadata": {
        "id": "9aV4w6YAZ5eh"
      },
      "outputs": [],
      "source": [
        "# plt.scatter(scx1, (scy1-2.27)*(10))\n",
        "# plt.scatter(sdx1, (sdy1-2.27)*(10))\n",
        "# sorted_c, sorted_d = sortIt(l, Y_test1)\n",
        "# plotIt2(sorted_c, y_test1, 10)\n",
        "# plotIt2(sorted_d, y_test1, 10)\n",
        "# plt.xlabel('$tL^{1/v}$')\n",
        "# plt.ylabel('Output Layer')"
      ]
    },
    {
      "cell_type": "code",
      "execution_count": null,
      "metadata": {
        "id": "P1kBTfArZ5eh"
      },
      "outputs": [],
      "source": []
    },
    {
      "cell_type": "markdown",
      "metadata": {
        "id": "bYkujZv-1YfP"
      },
      "source": [
        "##### CNN"
      ]
    },
    {
      "cell_type": "code",
      "execution_count": null,
      "metadata": {
        "colab": {
          "base_uri": "https://localhost:8080/"
        },
        "id": "vnSEJIB0KFKT",
        "outputId": "9b38133d-8bc5-4240-cb0b-ca0054c9f968"
      },
      "outputs": [
        {
          "name": "stdout",
          "output_type": "stream",
          "text": [
            "Epoch 1/10\n",
            "32/32 [==============================] - 16s 369ms/step - loss: 0.5765 - binary_accuracy: 0.9080 - val_loss: 0.0919 - val_binary_accuracy: 0.9700\n",
            "Epoch 2/10\n",
            "32/32 [==============================] - 11s 341ms/step - loss: 0.0624 - binary_accuracy: 0.9820 - val_loss: 0.0451 - val_binary_accuracy: 0.9800\n",
            "Epoch 3/10\n",
            "32/32 [==============================] - 11s 345ms/step - loss: 0.0301 - binary_accuracy: 0.9930 - val_loss: 0.0032 - val_binary_accuracy: 1.0000\n",
            "Epoch 4/10\n",
            "32/32 [==============================] - 11s 338ms/step - loss: 0.0195 - binary_accuracy: 0.9950 - val_loss: 0.0496 - val_binary_accuracy: 0.9900\n",
            "Epoch 5/10\n",
            "32/32 [==============================] - 11s 342ms/step - loss: 0.0116 - binary_accuracy: 0.9960 - val_loss: 0.0022 - val_binary_accuracy: 1.0000\n",
            "Epoch 6/10\n",
            "32/32 [==============================] - 9s 289ms/step - loss: 0.0056 - binary_accuracy: 0.9980 - val_loss: 0.0131 - val_binary_accuracy: 0.9900\n",
            "Epoch 7/10\n",
            "32/32 [==============================] - 9s 288ms/step - loss: 0.0029 - binary_accuracy: 0.9990 - val_loss: 0.0180 - val_binary_accuracy: 1.0000\n",
            "Epoch 8/10\n",
            "32/32 [==============================] - 9s 281ms/step - loss: 0.0051 - binary_accuracy: 0.9990 - val_loss: 0.0049 - val_binary_accuracy: 1.0000\n",
            "Epoch 9/10\n",
            "32/32 [==============================] - 10s 299ms/step - loss: 0.0030 - binary_accuracy: 1.0000 - val_loss: 0.0152 - val_binary_accuracy: 0.9900\n",
            "Epoch 10/10\n",
            "32/32 [==============================] - 9s 276ms/step - loss: 0.0024 - binary_accuracy: 1.0000 - val_loss: 0.0158 - val_binary_accuracy: 0.9900\n"
          ]
        }
      ],
      "source": [
        "model = Sequential([\n",
        "          layers.Reshape(target_shape=(40,40,1), input_shape=(40,40)),\n",
        "          layers.Conv2D(128, (3,3), padding='valid', activation='relu'),\n",
        "          layers.Flatten(),\n",
        "          layers.Dense(128, activation='relu'),\n",
        "          layers.Dropout(.5),\n",
        "          layers.Dense(2, activation='softmax')\n",
        "        ])\n",
        "\n",
        "\n",
        "model.compile(optimizer='adam',\n",
        "              loss='binary_crossentropy',\n",
        "              metrics=['binary_accuracy'])\n",
        "\n",
        "hist = model.fit(X_train4[:1000], y_train4[:1000], epochs=10, batch_size=32, validation_data = (X_test4[:100], y_test4[:100]))\n"
      ]
    }
  ],
  "metadata": {
    "colab": {
      "provenance": [],
      "gpuType": "T4",
      "include_colab_link": true
    },
    "kernelspec": {
      "display_name": "Python 3",
      "name": "python3"
    },
    "language_info": {
      "codemirror_mode": {
        "name": "ipython",
        "version": 3
      },
      "file_extension": ".py",
      "mimetype": "text/x-python",
      "name": "python",
      "nbconvert_exporter": "python",
      "pygments_lexer": "ipython3",
      "version": "3.9.7"
    },
    "accelerator": "GPU"
  },
  "nbformat": 4,
  "nbformat_minor": 0
}