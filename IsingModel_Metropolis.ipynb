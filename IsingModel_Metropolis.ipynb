{
  "cells": [
    {
      "cell_type": "markdown",
      "metadata": {
        "id": "view-in-github",
        "colab_type": "text"
      },
      "source": [
        "<a href=\"https://colab.research.google.com/github/PratyushJha254/BTP/blob/main/IsingModel_Metropolis.ipynb\" target=\"_parent\"><img src=\"https://colab.research.google.com/assets/colab-badge.svg\" alt=\"Open In Colab\"/></a>"
      ]
    },
    {
      "cell_type": "markdown",
      "source": [
        "Do the following:\n",
        "1.   Code NNs using pytorch, test over NNN Ising Model.\n",
        "2.   Train the model using antiferro data [Note the results].\n",
        "3.   Train on ferro test on anti-ferro [Note the results].\n",
        "\n",
        "\n"
      ],
      "metadata": {
        "id": "Tih5gFAocas0"
      }
    },
    {
      "cell_type": "code",
      "execution_count": null,
      "metadata": {
        "id": "CH9ENwKBYeOY"
      },
      "outputs": [],
      "source": [
        "import numpy as np\n",
        "from matplotlib import pyplot as plt\n",
        "import tensorflow as tf\n",
        "from tensorflow import keras\n",
        "from sklearn.model_selection import train_test_split\n",
        "from keras.utils import to_categorical\n",
        "import pickle\n",
        "from sklearn.manifold import TSNE\n",
        "import numpy as np\n",
        "import matplotlib.pyplot as plt\n",
        "import matplotlib.colors as mcol\n",
        "import matplotlib.cm as cm\n",
        "from keras.utils import to_categorical\n",
        "import keras.layers as layers\n",
        "from keras import Sequential\n",
        "from numba import jit\n",
        "\n",
        "import numpy as np\n",
        "import torch\n",
        "import torch.nn as nn\n",
        "import torch.optim as optim\n",
        "from torch.utils.data import Dataset, DataLoader\n",
        "import torchvision.utils as vutils\n",
        "import matplotlib.pyplot as plt\n",
        "import sys\n",
        "from torch.autograd import Variable\n",
        "from torch.autograd import grad as torch_grad\n",
        "import seaborn as sns\n"
      ]
    },
    {
      "cell_type": "markdown",
      "source": [
        "#### Metropolis Algorithm"
      ],
      "metadata": {
        "id": "DZUcbnKRp0LW"
      }
    },
    {
      "cell_type": "code",
      "execution_count": null,
      "metadata": {
        "id": "JxP8qAFiZ5eZ"
      },
      "outputs": [],
      "source": [
        "import numpy as np\n",
        "from numba import jit\n",
        "\n",
        "@jit(nopython=True)\n",
        "def data_generation_internal(l, J=1):\n",
        "    # J = 1  # coupling strength\n",
        "    L = l  # grid size\n",
        "\n",
        "    temperatures = np.arange(1, 3.51, 0.1)  # 26\n",
        "    ntherm = 100  # thermalization steps\n",
        "    nsamples = 100  # number of samples for every starting configuration\n",
        "    nbin = 10  # number of starting configurations\n",
        "\n",
        "    n = len(temperatures) * nbin * nsamples  # total number of samples\n",
        "\n",
        "    C = np.empty((n, L, L))\n",
        "    T = np.empty(n)\n",
        "\n",
        "    # checkerboard pattern\n",
        "    x = np.zeros((L, L), dtype=np.int64)\n",
        "    x[1::2, 0::2] = 1\n",
        "    x[0::2, 1::2] = 1\n",
        "\n",
        "    c = 0\n",
        "    for t in temperatures:\n",
        "        for i in range(nbin):\n",
        "            # start with polarized state\n",
        "            grid = np.ones((L, L)) * (-1)**(i % 2)\n",
        "            # draw a number of sample configurations\n",
        "            for j in range(nsamples):\n",
        "                # perform a number of updates until thermalization\n",
        "                for k in range(ntherm):\n",
        "                    # Calculate neighbors without using np.roll()\n",
        "                    neighbors = np.zeros((L, L))\n",
        "                    neighbors[:-1, :] += grid[1:, :]\n",
        "                    neighbors[1:, :] += grid[:-1, :]\n",
        "                    neighbors[:, :-1] += grid[:, 1:]\n",
        "                    neighbors[:, 1:] += grid[:, :-1]\n",
        "                    # calculate the potential changes in energy\n",
        "                    dE = 2 * J * (grid * neighbors)\n",
        "                    # calculate the transition probabilities\n",
        "                    p = np.exp(-dE / t)\n",
        "                    # decide which transitions will occur\n",
        "                    # (avoid updating neighbors using alternating checkerboard pattern)\n",
        "                    grid *= 1 - 2 * np.multiply((np.random.rand(L, L) < p).astype(np.int8), x ^ (k % 2))\n",
        "\n",
        "                C[c] = grid\n",
        "                T[c] = t\n",
        "                c += 1\n",
        "\n",
        "    return C, T"
      ]
    },
    {
      "cell_type": "code",
      "source": [
        "def data_generation(l, name, J):\n",
        "    C, T = data_generation_internal(l, J)\n",
        "    p = np.random.permutation(len(C))\n",
        "    np.savez_compressed(name, X=C[p], y=T[p])"
      ],
      "metadata": {
        "id": "_695L5ZXJIuG"
      },
      "execution_count": null,
      "outputs": []
    },
    {
      "cell_type": "code",
      "execution_count": null,
      "metadata": {
        "id": "vhxKd4C0Z5ea"
      },
      "outputs": [],
      "source": [
        "# data_generation(10, 'data1.npz', 1)\n",
        "# data_generation(20, 'data2.npz', 1)\n",
        "# data_generation(30, 'data3.npz', 1)\n",
        "# data_generation(40, 'data4.npz', 1)\n",
        "data_generation(64, 'data_anti.npz', -1)"
      ]
    },
    {
      "cell_type": "markdown",
      "source": [
        "#### Loading the file"
      ],
      "metadata": {
        "id": "bm-eCHQ5p5dz"
      }
    },
    {
      "cell_type": "code",
      "source": [
        "nu_G = 10\n",
        "Ny = 64\n",
        "Nx = 64\n",
        "nc = 1\n",
        "nz = 100\n",
        "ngf = 64\n",
        "ndf = 64\n",
        "num_epochs = 50\n",
        "lr = 0.001\n",
        "beta1 = 0.5\n",
        "ngpu = 1\n",
        "N = Ny * Nx\n",
        "device = torch.device('cuda:0' if (torch.cuda.is_available() and ngpu > 0) else 'cpu')"
      ],
      "metadata": {
        "id": "Z2YO9EViStuz"
      },
      "execution_count": null,
      "outputs": []
    },
    {
      "cell_type": "code",
      "execution_count": null,
      "metadata": {
        "id": "Wwq4a69qZ5eb"
      },
      "outputs": [],
      "source": [
        "def file_loader(file_name):\n",
        "    data = np.load(file_name)\n",
        "    X = data['X']\n",
        "    y = data['y']\n",
        "    X_train, X_test, Y_train, Y_test = train_test_split(X, y, test_size=0.15)\n",
        "    Tc = 2.27 # For a square lattice following Ising Model\n",
        "    y_train = Y_train > Tc\n",
        "    y_test = Y_test > Tc\n",
        "    y_train = to_categorical(y_train.astype(int))\n",
        "    y_test = to_categorical(y_test.astype(int))\n",
        "    return X_train, X_test, y_train, y_test, Y_train, Y_test"
      ]
    },
    {
      "cell_type": "code",
      "source": [
        "def full_file_loader(file_name):\n",
        "    data = np.load(file_name)\n",
        "    X = data['X']\n",
        "    Y = data['y']\n",
        "    Tc = 2.27 # For a square lattice following Ising Model\n",
        "    y = Y > Tc\n",
        "    y = to_categorical(y.astype(int))\n",
        "    return X, y, Y"
      ],
      "metadata": {
        "id": "Fy5Nz7d0SY1C"
      },
      "execution_count": null,
      "outputs": []
    },
    {
      "cell_type": "code",
      "execution_count": null,
      "metadata": {
        "id": "Y_8X1AJRZAaN"
      },
      "outputs": [],
      "source": [
        "# data -\n",
        "\n",
        "# X_train1, X_test1, y_train1, y_test1, Y_train1, Y_test1 = file_loader('data1.npz')\n",
        "\n",
        "# X_train2, X_test2, y_train2, y_test2, Y_train2, Y_test2 = file_loader('data2.npz')\n",
        "\n",
        "# X_train3, X_test3, y_train3, y_test3, Y_train3, Y_test3 = file_loader('data3.npz')\n",
        "\n",
        "# X_train4, X_test4, y_train4, y_test4, Y_train4, Y_test4 = file_loader('data4.npz')\n",
        "\n",
        "X_train, X_test, y_train, y_test, Y_train, Y_test = file_loader('data.npz')"
      ]
    },
    {
      "cell_type": "code",
      "source": [
        "X_train_anti, X_test_anti, y_train_anti, y_test_anti, Y_train_anti, Y_test_anti = file_loader('data_anti.npz')"
      ],
      "metadata": {
        "id": "puu1oIW8oxg1"
      },
      "execution_count": null,
      "outputs": []
    },
    {
      "cell_type": "code",
      "source": [
        "X_anti, y_anti, Y_anti = full_file_loader('data_anti.npz')"
      ],
      "metadata": {
        "id": "8CYCj5PSSWFl"
      },
      "execution_count": null,
      "outputs": []
    }
  ],
  "metadata": {
    "colab": {
      "provenance": [],
      "gpuType": "T4",
      "include_colab_link": true
    },
    "kernelspec": {
      "display_name": "Python 3",
      "name": "python3"
    },
    "language_info": {
      "codemirror_mode": {
        "name": "ipython",
        "version": 3
      },
      "file_extension": ".py",
      "mimetype": "text/x-python",
      "name": "python",
      "nbconvert_exporter": "python",
      "pygments_lexer": "ipython3",
      "version": "3.9.7"
    },
    "accelerator": "GPU"
  },
  "nbformat": 4,
  "nbformat_minor": 0
}