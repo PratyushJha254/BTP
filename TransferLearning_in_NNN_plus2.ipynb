{
  "nbformat": 4,
  "nbformat_minor": 0,
  "metadata": {
    "colab": {
      "provenance": [],
      "gpuType": "T4",
      "include_colab_link": true
    },
    "kernelspec": {
      "name": "python3",
      "display_name": "Python 3"
    },
    "language_info": {
      "name": "python"
    },
    "accelerator": "GPU"
  },
  "cells": [
    {
      "cell_type": "markdown",
      "metadata": {
        "id": "view-in-github",
        "colab_type": "text"
      },
      "source": [
        "<a href=\"https://colab.research.google.com/github/PratyushJha254/BTP/blob/main/TransferLearning_in_NNN_plus2.ipynb\" target=\"_parent\"><img src=\"https://colab.research.google.com/assets/colab-badge.svg\" alt=\"Open In Colab\"/></a>"
      ]
    },
    {
      "cell_type": "markdown",
      "source": [
        "# BTP"
      ],
      "metadata": {
        "id": "P0Bia1WipsUn"
      }
    },
    {
      "cell_type": "code",
      "execution_count": 1,
      "metadata": {
        "id": "CH9ENwKBYeOY"
      },
      "outputs": [],
      "source": [
        "import numpy as np\n",
        "from matplotlib import pyplot as plt\n",
        "import tensorflow as tf\n",
        "from tensorflow import keras\n",
        "from sklearn.model_selection import train_test_split\n",
        "from keras.utils import to_categorical\n",
        "import pickle\n",
        "from sklearn.manifold import TSNE\n",
        "import numpy as np\n",
        "import matplotlib.pyplot as plt\n",
        "import matplotlib.colors as mcol\n",
        "import matplotlib.cm as cm\n",
        "from keras.utils import to_categorical\n",
        "import keras.layers as layers\n",
        "from keras import Sequential\n",
        "from numba import jit\n",
        "\n",
        "import numpy as np\n",
        "import torch\n",
        "import torch.nn as nn\n",
        "import torch.optim as optim\n",
        "from torch.utils.data import Dataset, DataLoader\n",
        "import torchvision.utils as vutils\n",
        "import matplotlib.pyplot as plt\n",
        "import sys\n",
        "from torch.autograd import Variable\n",
        "from torch.autograd import grad as torch_grad\n",
        "import seaborn as sns\n"
      ]
    },
    {
      "cell_type": "code",
      "source": [
        "nu_G = 10\n",
        "Ny = 64\n",
        "Nx = 64\n",
        "nc = 1\n",
        "nz = 100\n",
        "ngf = 64\n",
        "ndf = 64\n",
        "num_epochs = 50\n",
        "lr = 0.001\n",
        "beta1 = 0.5\n",
        "ngpu = 1\n",
        "N = Ny * Nx\n",
        "device = torch.device('cuda:0' if (torch.cuda.is_available() and ngpu > 0) else 'cpu')"
      ],
      "metadata": {
        "id": "G0UzsRA7hLJk"
      },
      "execution_count": 2,
      "outputs": []
    },
    {
      "cell_type": "markdown",
      "source": [
        "### Concatenate npz files"
      ],
      "metadata": {
        "id": "5bxg3KIwc0W7"
      }
    },
    {
      "cell_type": "code",
      "source": [
        "def combine_npz_files(file1, file2, combined_file):\n",
        "    # Load data and labels from the first .npz file\n",
        "    data1 = np.load(file1)['X']\n",
        "    labels1 = np.load(file1)['y']\n",
        "\n",
        "    # Load data and labels from the second .npz file\n",
        "    data2 = np.load(file2)['X']\n",
        "    labels2 = np.load(file2)['y']\n",
        "\n",
        "    # Concatenate data and labels along the appropriate axis\n",
        "    combined_data = np.concatenate((data1, data2), axis=0)\n",
        "    combined_labels = np.concatenate((labels1, labels2), axis=0)\n",
        "\n",
        "    # Save the combined data and labels into a new .npz file\n",
        "    np.savez(combined_file, X=combined_data, y=combined_labels)"
      ],
      "metadata": {
        "id": "IsCsHCNuc4u7"
      },
      "execution_count": 61,
      "outputs": []
    },
    {
      "cell_type": "markdown",
      "source": [
        "### Model"
      ],
      "metadata": {
        "id": "3A3wbLIJpZjQ"
      }
    },
    {
      "cell_type": "markdown",
      "source": [
        "#### Accuracy, train and test functions"
      ],
      "metadata": {
        "id": "RZDqQL9sqtt5"
      }
    },
    {
      "cell_type": "code",
      "source": [
        "def calculate_accuracy(outputs, labels):\n",
        "    # Threshold the outputs at 0.5 to get binary predictions: below 0.5 becomes 0, above becomes 1\n",
        "    predicted = (outputs > 0.5).float()\n",
        "\n",
        "    # The labels need to have the same dimensions as the predictions for comparison\n",
        "    # Assuming labels are already in the correct shape (batch_size, 1) or (batch_size,)\n",
        "    # If not, you might need to adjust labels' shape, e.g., labels = labels.view(-1, 1)\n",
        "\n",
        "    # Calculate the number of correct predictions\n",
        "    correct = (predicted == labels).float().sum().item()/2\n",
        "\n",
        "    # Calculate the total number of labels (which is also the batch size)\n",
        "    total = labels.size(0)\n",
        "\n",
        "    # Calculate accuracy as the percentage of correct predictions\n",
        "    accuracy = correct / total\n",
        "    return accuracy\n"
      ],
      "metadata": {
        "id": "hOTDhh6OcgX9"
      },
      "execution_count": 3,
      "outputs": []
    },
    {
      "cell_type": "code",
      "source": [
        "def train(model, num_epochs, criterion, optimizer, train_dataloader):\n",
        "  model.train()\n",
        "  for epoch in range(num_epochs):\n",
        "    for i, (x, label) in enumerate(train_dataloader):\n",
        "      x = x.to(device).float()\n",
        "      label = label.to(device).float()\n",
        "      b_size = x.size(0)\n",
        "      model.zero_grad()\n",
        "      output = model(x)\n",
        "      # if(epoch==0 and i==0):\n",
        "      #   print(output)\n",
        "      error = criterion(output, label)\n",
        "      error.backward()\n",
        "      optimizer.step()\n",
        "      acc_train = calculate_accuracy(output, label)\n",
        "      if i % 20 == 0:\n",
        "        print('Loss:', error.item(),',Train accuracy:', acc_train)"
      ],
      "metadata": {
        "id": "nOqtvmF4R72B"
      },
      "execution_count": 4,
      "outputs": []
    },
    {
      "cell_type": "code",
      "source": [
        "def test(model, criterion, test_dataloader):\n",
        "    for i, (x, label) in enumerate(test_dataloader):\n",
        "      x = x.to(device).float()\n",
        "      label = label.to(device).float()\n",
        "      output = model(x)\n",
        "      error = criterion(output, label)\n",
        "      acc_train = calculate_accuracy(output, label)\n",
        "      # if i % 20 == 0:\n",
        "      print(i,':: Loss:', error.item(),',Test accuracy:', acc_train)"
      ],
      "metadata": {
        "id": "lkWQ7iweqBZ9"
      },
      "execution_count": 5,
      "outputs": []
    },
    {
      "cell_type": "code",
      "source": [
        "def get_predictions(test_loader, model):\n",
        "    # Assuming `test_loader` is your DataLoader for the test dataset\n",
        "    # Initialize lists to store predictions for each class\n",
        "    predictions_class_1 = []\n",
        "    predictions_class_2 = []\n",
        "\n",
        "    with torch.no_grad():  # Disable gradient tracking during inference\n",
        "        for inputs, _ in test_loader:\n",
        "            inputs = inputs.to(device).float()  # Move inputs to the device (e.g., GPU)\n",
        "            outputs = model(inputs)  # Forward pass to get predictions\n",
        "\n",
        "            # Assuming the output is softmax probabilities\n",
        "            # Separate the probabilities for class-1 and class-2\n",
        "            class_1_probs = outputs[:, 0].cpu().numpy()  # Probabilities for class-1\n",
        "            class_2_probs = outputs[:, 1].cpu().numpy()  # Probabilities for class-2\n",
        "\n",
        "            predictions_class_1.extend(class_1_probs)\n",
        "            predictions_class_2.extend(class_2_probs)\n",
        "\n",
        "    # `predictions_class_1` contains the probabilities for class-1 for all test samples\n",
        "    # `predictions_class_2` contains the probabilities for class-2 for all test samples\n",
        "    # You can further process or save these predictions as needed\n",
        "    return predictions_class_1, predictions_class_2\n"
      ],
      "metadata": {
        "id": "RZQwaexTynZw"
      },
      "execution_count": 6,
      "outputs": []
    },
    {
      "cell_type": "code",
      "source": [
        "def get_predictions_np(input_matrix, model, device):\n",
        "    # Convert numpy matrix to PyTorch tensor\n",
        "    inputs = torch.tensor(input_matrix).to(device).float()\n",
        "\n",
        "    # Forward pass to get predictions\n",
        "    with torch.no_grad():  # Disable gradient tracking during inference\n",
        "        outputs = model(inputs)  # Forward pass to get predictions\n",
        "\n",
        "        # Assuming the output is softmax probabilities\n",
        "        # Separate the probabilities for class-1 and class-2\n",
        "        class_1_probs = outputs[:, 0].cpu().numpy()  # Probabilities for class-1\n",
        "        class_2_probs = outputs[:, 1].cpu().numpy()  # Probabilities for class-2\n",
        "\n",
        "    # `class_1_probs` contains the probabilities for class-1 for all samples\n",
        "    # `class_2_probs` contains the probabilities for class-2 for all samples\n",
        "    # You can further process or save these predictions as needed\n",
        "    return class_1_probs, class_2_probs\n"
      ],
      "metadata": {
        "id": "VKMyp3Tf8a6L"
      },
      "execution_count": 7,
      "outputs": []
    },
    {
      "cell_type": "markdown",
      "source": [
        "#### File loaders"
      ],
      "metadata": {
        "id": "o4VE9sWbq1Bt"
      }
    },
    {
      "cell_type": "code",
      "source": [
        "import torch\n",
        "from torch.utils.data import DataLoader, ConcatDataset\n",
        "from torchvision import transforms\n",
        "\n",
        "# Define a function to generate rotated data\n",
        "def rotate_data(X):\n",
        "    rotated_X = torch.rot90(X, k=1, dims=(0, 1))  # Rotate data by 90 degrees clockwise\n",
        "    return rotated_X\n",
        "\n",
        "# Modify the dataset to include both original and rotated data\n",
        "def create_combined_dataset_with_augmentation(original_dataset):\n",
        "    combined_dataset = []\n",
        "    for X, Y in original_dataset:\n",
        "        rotated_X = rotate_data(X)\n",
        "        combined_dataset.append((X, Y))  # Add original data\n",
        "        combined_dataset.append((rotated_X, Y))  # Add rotated data\n",
        "    return combined_dataset"
      ],
      "metadata": {
        "id": "uvH1pCvm3VmY"
      },
      "execution_count": 8,
      "outputs": []
    },
    {
      "cell_type": "code",
      "source": [
        "def create_combined_dataset(dataset1, dataset2):\n",
        "    combined_dataset = []\n",
        "    for X, Y in dataset1:\n",
        "        combined_dataset.append((X, Y))  # Add original data\n",
        "    for X, Y in dataset2:\n",
        "        combined_dataset.append((X, Y))  # Add original data\n",
        "    return combined_dataset"
      ],
      "metadata": {
        "id": "99GN9mgJGROc"
      },
      "execution_count": 9,
      "outputs": []
    },
    {
      "cell_type": "code",
      "execution_count": 10,
      "metadata": {
        "id": "Wwq4a69qZ5eb"
      },
      "outputs": [],
      "source": [
        "def file_loader(file_name, Tc = 2.27):\n",
        "    data = np.load(file_name)\n",
        "    X = data['X']\n",
        "    y = data['y']\n",
        "    X_train, X_test, Y_train, Y_test = train_test_split(X, y, test_size=0.15)\n",
        "    Tc = 2.27 # For a square lattice following Ising Model\n",
        "    y_train = Y_train > Tc\n",
        "    y_test = Y_test > Tc\n",
        "    y_train = to_categorical(y_train.astype(int))\n",
        "    y_test = to_categorical(y_test.astype(int))\n",
        "    return X_train, X_test, y_train, y_test, Y_train, Y_test"
      ]
    },
    {
      "cell_type": "code",
      "source": [
        "def full_file_loader(file_name, Tc = 2.27):\n",
        "    data = np.load(file_name)\n",
        "    X = data['X']\n",
        "    Y = data['y']\n",
        "    # Tc = 2.27 # For a square lattice following Ising Model\n",
        "    y = Y > Tc\n",
        "    y = to_categorical(y.astype(int))\n",
        "    return X, y, Y"
      ],
      "metadata": {
        "id": "Fy5Nz7d0SY1C"
      },
      "execution_count": 11,
      "outputs": []
    },
    {
      "cell_type": "markdown",
      "source": [
        "#### Dataset and DataLoader"
      ],
      "metadata": {
        "id": "BSS1i0APqJnU"
      }
    },
    {
      "cell_type": "code",
      "source": [
        "class IsingDataset(Dataset):\n",
        "    def __init__(self, x, y, anti_ferro=False):\n",
        "        self.n_samples = x.shape[0]\n",
        "        self.x = torch.tensor(torch.from_numpy(x))\n",
        "        self.y = torch.tensor(torch.from_numpy(y))\n",
        "        self.anti_ferro = anti_ferro\n",
        "\n",
        "    def __getitem__(self, index):\n",
        "        if self.anti_ferro:\n",
        "            x_transformed = self._apply_anti_ferro(self.x[index])\n",
        "            return x_transformed, self.y[index]\n",
        "        else:\n",
        "            return self.x[index], self.y[index]\n",
        "\n",
        "    def __len__(self):\n",
        "        return self.n_samples\n",
        "\n",
        "    def _apply_anti_ferro(self, x):\n",
        "        # Apply anti-ferromagnetic transformation\n",
        "        return (-1) ** torch.arange(x.size(0)).unsqueeze(1) + (-1) ** torch.arange(x.size(1))\n",
        "\n",
        "# # Example usage\n",
        "# x = ...  # Your input data\n",
        "# y = ...  # Your target labels\n",
        "# anti_ferro = True  # Set to True to apply the anti-ferromagnetic transformation\n",
        "# dataset = IsingDataset(x, y, anti_ferro=anti_ferro)\n"
      ],
      "metadata": {
        "id": "OvGVpjWwJi8J"
      },
      "execution_count": 12,
      "outputs": []
    },
    {
      "cell_type": "code",
      "source": [
        "import torch\n",
        "from torch.utils.data import DataLoader\n",
        "\n",
        "# Assuming you have a DataLoader named original_dataloader\n",
        "# Define a new DataLoader class to subset the original DataLoader\n",
        "class SubsetDataLoader(DataLoader):\n",
        "    def __init__(self, dataloader, num_batches):\n",
        "        super(SubsetDataLoader, self).__init__(dataloader.dataset, batch_size=dataloader.batch_size)\n",
        "        self.dataloader = dataloader\n",
        "        self.num_batches = num_batches\n",
        "        self.current_batch = 0\n",
        "\n",
        "    def __iter__(self):\n",
        "        self.current_batch = 0\n",
        "        self.dataloader_iter = iter(self.dataloader)\n",
        "        return self\n",
        "\n",
        "    def __next__(self):\n",
        "        if self.current_batch >= self.num_batches:\n",
        "            raise StopIteration\n",
        "        self.current_batch += 1\n",
        "        return next(self.dataloader_iter)"
      ],
      "metadata": {
        "id": "djo-WsfyEF7U"
      },
      "execution_count": 13,
      "outputs": []
    },
    {
      "cell_type": "markdown",
      "source": [
        "Train and test data:"
      ],
      "metadata": {
        "id": "xivu-5krocYa"
      }
    },
    {
      "cell_type": "code",
      "source": [
        "# Anti-ferromagnetic dataset: train and test\n",
        "\n",
        "X_train_anti, X_test_anti, y_train_anti, y_test_anti, Y_train_anti, Y_test_anti = file_loader('data_anti.npz')"
      ],
      "metadata": {
        "id": "puu1oIW8oxg1"
      },
      "execution_count": 16,
      "outputs": []
    },
    {
      "cell_type": "code",
      "source": [
        "training_dataset_anti = IsingDataset(X_train_anti, y_train_anti)\n",
        "testing_dataset_anti = IsingDataset(X_test_anti, y_test_anti)\n",
        "batch_size = 128\n",
        "train_dataloader_anti = DataLoader(dataset = training_dataset_anti, batch_size = batch_size, shuffle = False)\n",
        "test_dataloader_anti = DataLoader(dataset = testing_dataset_anti, batch_size = batch_size, shuffle = False)"
      ],
      "metadata": {
        "colab": {
          "base_uri": "https://localhost:8080/"
        },
        "id": "TWZOcCBUobIc",
        "outputId": "3b73952b-f2d3-4010-8b2f-8053c7e460da"
      },
      "execution_count": 17,
      "outputs": [
        {
          "output_type": "stream",
          "name": "stderr",
          "text": [
            "<ipython-input-12-2d1bccbc4b53>:4: UserWarning: To copy construct from a tensor, it is recommended to use sourceTensor.clone().detach() or sourceTensor.clone().detach().requires_grad_(True), rather than torch.tensor(sourceTensor).\n",
            "  self.x = torch.tensor(torch.from_numpy(x))\n",
            "<ipython-input-12-2d1bccbc4b53>:5: UserWarning: To copy construct from a tensor, it is recommended to use sourceTensor.clone().detach() or sourceTensor.clone().detach().requires_grad_(True), rather than torch.tensor(sourceTensor).\n",
            "  self.y = torch.tensor(torch.from_numpy(y))\n"
          ]
        }
      ]
    },
    {
      "cell_type": "code",
      "source": [
        "plt.imshow(X_train_anti[30])\n",
        "print(\"Class:\", y_train_anti[30])\n",
        "print(\"Temperature:\", Y_train_anti[30])"
      ],
      "metadata": {
        "colab": {
          "base_uri": "https://localhost:8080/",
          "height": 467
        },
        "id": "6-dJRZvbsGgY",
        "outputId": "e55c548d-868d-44e4-efe2-6a8222d491e9"
      },
      "execution_count": 18,
      "outputs": [
        {
          "output_type": "stream",
          "name": "stdout",
          "text": [
            "Class: [1. 0.]\n",
            "Temperature: 1.5\n"
          ]
        },
        {
          "output_type": "display_data",
          "data": {
            "text/plain": [
              "<Figure size 640x480 with 1 Axes>"
            ],
            "image/png": "[encoded data removed]"
          },
          "metadata": {}
        }
      ]
    },
    {
      "cell_type": "markdown",
      "metadata": {
        "id": "Jru3T1Rz1aRh"
      },
      "source": [
        "#### Fully Connected Neural Network"
      ]
    },
    {
      "cell_type": "code",
      "source": [
        "class neural_network(nn.Module):\n",
        "  def __init__(self):\n",
        "    super(neural_network, self).__init__()\n",
        "    self.main = nn.Sequential(\n",
        "        nn.Flatten(start_dim=1,end_dim=-1),\n",
        "        nn.Linear(Nx*Ny, 100),\n",
        "        nn.Sigmoid(),\n",
        "        nn.Linear(100, 2),\n",
        "        nn.Sigmoid()\n",
        "    )\n",
        "  def forward(self, input):\n",
        "      return self.main(input)"
      ],
      "metadata": {
        "id": "0lSfsrZCJ-0V"
      },
      "execution_count": null,
      "outputs": []
    },
    {
      "cell_type": "code",
      "source": [
        "FCNN = neural_network().to(device)\n",
        "criterion_FCNN = nn.BCELoss()\n",
        "optimizer_FCNN = optim.Adam(FCNN.parameters(), lr=lr, betas=(0.9, 0.999))"
      ],
      "metadata": {
        "id": "K-euoH6nSSQP"
      },
      "execution_count": null,
      "outputs": []
    },
    {
      "cell_type": "code",
      "source": [
        "# # Dataset 1, NN -> antiFe, NNN -> Fe\n",
        "# X_anti, y_anti, Y_anti = full_file_loader('data_anti.npz')\n",
        "# dataset_anti = IsingDataset(X_anti, y_anti)\n",
        "# batch_size = 128\n",
        "# dataloader_anti = DataLoader(dataset = dataset_anti, batch_size = batch_size, shuffle = False)"
      ],
      "metadata": {
        "id": "RfdOdKcpGsv4"
      },
      "execution_count": null,
      "outputs": []
    },
    {
      "cell_type": "code",
      "source": [
        "train(FCNN, 10, criterion_FCNN, optimizer_FCNN, train_dataloader_anti)"
      ],
      "metadata": {
        "colab": {
          "base_uri": "https://localhost:8080/"
        },
        "id": "0P0CkZNWp8k0",
        "outputId": "19564bea-21db-49d5-80c7-2c200dc9f679"
      },
      "execution_count": null,
      "outputs": [
        {
          "output_type": "stream",
          "name": "stdout",
          "text": [
            "Loss: 0.694808840751648 ,Train accuracy: 0.6015625\n",
            "Loss: 0.6998928785324097 ,Train accuracy: 0.4765625\n",
            "Loss: 0.6956212520599365 ,Train accuracy: 0.703125\n",
            "Loss: 0.6933309435844421 ,Train accuracy: 0.5390625\n",
            "Loss: 0.6729944348335266 ,Train accuracy: 0.546875\n",
            "Loss: 0.6664677858352661 ,Train accuracy: 0.79296875\n",
            "Loss: 0.7108287215232849 ,Train accuracy: 0.49609375\n",
            "Loss: 0.6884220838546753 ,Train accuracy: 0.75\n",
            "Loss: 0.6801477670669556 ,Train accuracy: 0.57421875\n",
            "Loss: 0.6276676654815674 ,Train accuracy: 0.8671875\n",
            "Loss: 0.6431004405021667 ,Train accuracy: 0.7734375\n",
            "Loss: 0.6468219757080078 ,Train accuracy: 0.75390625\n",
            "Loss: 0.6360934972763062 ,Train accuracy: 0.7890625\n",
            "Loss: 0.601184606552124 ,Train accuracy: 0.8125\n",
            "Loss: 0.566032886505127 ,Train accuracy: 0.8671875\n",
            "Loss: 0.6966426372528076 ,Train accuracy: 0.79296875\n",
            "Loss: 0.6068639159202576 ,Train accuracy: 0.80859375\n",
            "Loss: 0.5976171493530273 ,Train accuracy: 0.8203125\n",
            "Loss: 0.570264995098114 ,Train accuracy: 0.83203125\n",
            "Loss: 0.5279619693756104 ,Train accuracy: 0.796875\n",
            "Loss: 0.5636724829673767 ,Train accuracy: 0.81640625\n",
            "Loss: 0.5221796631813049 ,Train accuracy: 0.859375\n",
            "Loss: 0.4802488088607788 ,Train accuracy: 0.8671875\n",
            "Loss: 0.44180285930633545 ,Train accuracy: 0.89453125\n",
            "Loss: 0.6269868016242981 ,Train accuracy: 0.796875\n",
            "Loss: 0.47137391567230225 ,Train accuracy: 0.875\n",
            "Loss: 0.49112609028816223 ,Train accuracy: 0.86328125\n",
            "Loss: 0.44165870547294617 ,Train accuracy: 0.87890625\n",
            "Loss: 0.36897826194763184 ,Train accuracy: 0.90234375\n",
            "Loss: 0.42659881711006165 ,Train accuracy: 0.875\n",
            "Loss: 0.37995195388793945 ,Train accuracy: 0.87890625\n",
            "Loss: 0.34179431200027466 ,Train accuracy: 0.9140625\n",
            "Loss: 0.3227998614311218 ,Train accuracy: 0.92578125\n",
            "Loss: 0.4922146797180176 ,Train accuracy: 0.8515625\n",
            "Loss: 0.3242245018482208 ,Train accuracy: 0.92578125\n",
            "Loss: 0.3547118306159973 ,Train accuracy: 0.8984375\n",
            "Loss: 0.29217949509620667 ,Train accuracy: 0.9453125\n",
            "Loss: 0.22920536994934082 ,Train accuracy: 0.9609375\n",
            "Loss: 0.26776599884033203 ,Train accuracy: 0.8984375\n",
            "Loss: 0.24032923579216003 ,Train accuracy: 0.94921875\n",
            "Loss: 0.2064826786518097 ,Train accuracy: 0.9609375\n",
            "Loss: 0.1991012990474701 ,Train accuracy: 0.96484375\n",
            "Loss: 0.32160982489585876 ,Train accuracy: 0.91796875\n",
            "Loss: 0.18882489204406738 ,Train accuracy: 0.96875\n",
            "Loss: 0.19641061127185822 ,Train accuracy: 0.9609375\n",
            "Loss: 0.18576395511627197 ,Train accuracy: 0.953125\n",
            "Loss: 0.12857592105865479 ,Train accuracy: 0.97265625\n",
            "Loss: 0.15979322791099548 ,Train accuracy: 0.97265625\n",
            "Loss: 0.13275007903575897 ,Train accuracy: 0.98828125\n",
            "Loss: 0.11412951350212097 ,Train accuracy: 0.98828125\n",
            "Loss: 0.12322948127985 ,Train accuracy: 0.984375\n",
            "Loss: 0.1825394183397293 ,Train accuracy: 0.9609375\n",
            "Loss: 0.09921310842037201 ,Train accuracy: 0.984375\n",
            "Loss: 0.09963170439004898 ,Train accuracy: 0.98828125\n",
            "Loss: 0.10528916120529175 ,Train accuracy: 0.984375\n",
            "Loss: 0.07014623284339905 ,Train accuracy: 1.0\n",
            "Loss: 0.09425726532936096 ,Train accuracy: 0.984375\n",
            "Loss: 0.08386458456516266 ,Train accuracy: 0.9921875\n",
            "Loss: 0.06847625970840454 ,Train accuracy: 1.0\n",
            "Loss: 0.07742321491241455 ,Train accuracy: 0.9921875\n",
            "Loss: 0.10917915403842926 ,Train accuracy: 0.984375\n",
            "Loss: 0.06084713712334633 ,Train accuracy: 0.9921875\n",
            "Loss: 0.0570172443985939 ,Train accuracy: 0.9921875\n",
            "Loss: 0.0689384788274765 ,Train accuracy: 0.9921875\n",
            "Loss: 0.046703025698661804 ,Train accuracy: 0.99609375\n",
            "Loss: 0.04777780920267105 ,Train accuracy: 1.0\n",
            "Loss: 0.05742655694484711 ,Train accuracy: 0.9921875\n",
            "Loss: 0.04579426348209381 ,Train accuracy: 1.0\n",
            "Loss: 0.046251457184553146 ,Train accuracy: 1.0\n",
            "Loss: 0.0568104013800621 ,Train accuracy: 0.9921875\n",
            "Loss: 0.035966381430625916 ,Train accuracy: 1.0\n",
            "Loss: 0.038475438952445984 ,Train accuracy: 1.0\n",
            "Loss: 0.04854930192232132 ,Train accuracy: 0.9921875\n",
            "Loss: 0.031001046299934387 ,Train accuracy: 1.0\n",
            "Loss: 0.030961234122514725 ,Train accuracy: 1.0\n",
            "Loss: 0.04769279062747955 ,Train accuracy: 0.9921875\n",
            "Loss: 0.02779308147728443 ,Train accuracy: 1.0\n",
            "Loss: 0.025199690833687782 ,Train accuracy: 1.0\n",
            "Loss: 0.03818298131227493 ,Train accuracy: 0.99609375\n",
            "Loss: 0.024920454248785973 ,Train accuracy: 1.0\n",
            "Loss: 0.02413669228553772 ,Train accuracy: 1.0\n",
            "Loss: 0.03358534723520279 ,Train accuracy: 0.9921875\n",
            "Loss: 0.01868477649986744 ,Train accuracy: 1.0\n",
            "Loss: 0.019133538007736206 ,Train accuracy: 1.0\n",
            "Loss: 0.02932651713490486 ,Train accuracy: 0.9921875\n",
            "Loss: 0.019059069454669952 ,Train accuracy: 1.0\n",
            "Loss: 0.018792327493429184 ,Train accuracy: 1.0\n",
            "Loss: 0.027678199112415314 ,Train accuracy: 1.0\n",
            "Loss: 0.016014251857995987 ,Train accuracy: 1.0\n",
            "Loss: 0.017899468541145325 ,Train accuracy: 1.0\n"
          ]
        }
      ]
    },
    {
      "cell_type": "code",
      "source": [
        "test(FCNN, criterion_FCNN, test_dataloader_anti)"
      ],
      "metadata": {
        "colab": {
          "base_uri": "https://localhost:8080/"
        },
        "id": "JD4Gw-84HAu-",
        "outputId": "9ac9206b-4d07-4195-f981-044f821d9f34"
      },
      "execution_count": null,
      "outputs": [
        {
          "output_type": "stream",
          "name": "stdout",
          "text": [
            "0 :: Loss: 0.1944330930709839 ,Test accuracy: 0.9296875\n",
            "1 :: Loss: 0.3490474820137024 ,Test accuracy: 0.87890625\n",
            "2 :: Loss: 0.2394697368144989 ,Test accuracy: 0.93359375\n",
            "3 :: Loss: 0.3447885811328888 ,Test accuracy: 0.90625\n",
            "4 :: Loss: 0.3742731213569641 ,Test accuracy: 0.890625\n",
            "5 :: Loss: 0.1726294755935669 ,Test accuracy: 0.9375\n",
            "6 :: Loss: 0.37815940380096436 ,Test accuracy: 0.89453125\n",
            "7 :: Loss: 0.35600364208221436 ,Test accuracy: 0.890625\n",
            "8 :: Loss: 0.22086834907531738 ,Test accuracy: 0.90625\n",
            "9 :: Loss: 0.38123810291290283 ,Test accuracy: 0.875\n",
            "10 :: Loss: 0.22011587023735046 ,Test accuracy: 0.9375\n",
            "11 :: Loss: 0.39048415422439575 ,Test accuracy: 0.8671875\n",
            "12 :: Loss: 0.5222269296646118 ,Test accuracy: 0.8671875\n",
            "13 :: Loss: 0.22922751307487488 ,Test accuracy: 0.91015625\n",
            "14 :: Loss: 0.31962859630584717 ,Test accuracy: 0.875\n",
            "15 :: Loss: 0.3035730719566345 ,Test accuracy: 0.9296875\n",
            "16 :: Loss: 0.4342727065086365 ,Test accuracy: 0.86328125\n",
            "17 :: Loss: 0.3147673010826111 ,Test accuracy: 0.8984375\n",
            "18 :: Loss: 0.17969167232513428 ,Test accuracy: 0.92578125\n",
            "19 :: Loss: 0.2734311521053314 ,Test accuracy: 0.8671875\n",
            "20 :: Loss: 0.32886141538619995 ,Test accuracy: 0.89453125\n",
            "21 :: Loss: 0.3506907820701599 ,Test accuracy: 0.875\n",
            "22 :: Loss: 0.3218614459037781 ,Test accuracy: 0.91796875\n",
            "23 :: Loss: 0.31264400482177734 ,Test accuracy: 0.875\n",
            "24 :: Loss: 0.2927728295326233 ,Test accuracy: 0.8984375\n",
            "25 :: Loss: 0.3218671977519989 ,Test accuracy: 0.87890625\n",
            "26 :: Loss: 0.3200051486492157 ,Test accuracy: 0.88671875\n",
            "27 :: Loss: 0.265186607837677 ,Test accuracy: 0.921875\n",
            "28 :: Loss: 0.18450629711151123 ,Test accuracy: 0.9375\n",
            "29 :: Loss: 0.24362459778785706 ,Test accuracy: 0.9140625\n",
            "30 :: Loss: 0.09636522084474564 ,Test accuracy: 0.9583333333333334\n"
          ]
        }
      ]
    },
    {
      "cell_type": "markdown",
      "source": [
        "#### CNN:"
      ],
      "metadata": {
        "id": "wuEBPp6emlIe"
      }
    },
    {
      "cell_type": "code",
      "source": [
        "import torch\n",
        "import torch.nn as nn\n",
        "import torch.nn.functional as F\n",
        "import matplotlib.pyplot as plt\n",
        "\n",
        "class ConvNet(nn.Module):\n",
        "    def __init__(self, Nx, Ny):\n",
        "        super(ConvNet, self).__init__()\n",
        "        self.conv1 = nn.Conv2d(1, 64, kernel_size=2, padding=0)\n",
        "        self.out_conv1 = self._calculate_output_size((Nx, Ny), kernel_size=2, padding=0)\n",
        "        self.fc1 = nn.Linear(64 * self.out_conv1[0] * self.out_conv1[1], 64)\n",
        "        self.dropout = nn.Dropout(p=0.5)\n",
        "        self.fc2 = nn.Linear(64, 2)\n",
        "        self.flatten = nn.Flatten()\n",
        "\n",
        "    def forward(self, x, return_feature_maps=False):\n",
        "        x = x.view(-1, 1, x.size(1), x.size(2))\n",
        "        x = F.relu(self.conv1(x))\n",
        "        if return_feature_maps:\n",
        "            return x\n",
        "        x = self.flatten(x)\n",
        "        x = F.relu(self.fc1(x))\n",
        "        x = self.dropout(x)\n",
        "        return F.softmax(self.fc2(x), dim=1)\n",
        "\n",
        "    def _calculate_output_size(self, input_size, kernel_size, padding):\n",
        "        out_size = [(input_size[0] - kernel_size + 2 * padding) + 1,\n",
        "                    (input_size[1] - kernel_size + 2 * padding) + 1]\n",
        "        return out_size\n",
        "\n",
        "## Example Usage:\n",
        "# model = ConvNet(40, 40)\n",
        "# x = torch.randn(1, 40, 40)\n",
        "# feature_maps = model(x, return_feature_maps=True)\n",
        "\n",
        "## Plotting the first feature map from the first sample in the batch\n",
        "# plt.imshow(feature_maps[0, 0].detach().numpy(), cmap='gray')\n",
        "# plt.colorbar()\n",
        "# plt.title('Feature Map from Conv1')\n",
        "# plt.show()\n"
      ],
      "metadata": {
        "id": "pRR-FLa7cegZ"
      },
      "execution_count": 19,
      "outputs": []
    },
    {
      "cell_type": "code",
      "source": [
        "import torch\n",
        "import torch.nn as nn\n",
        "import torch.nn.functional as F\n",
        "import matplotlib.pyplot as plt\n",
        "\n",
        "class ConvNet_for(nn.Module):\n",
        "    def __init__(self, Nx, Ny):\n",
        "        super(ConvNet, self).__init__()\n",
        "        self.conv1 = nn.Conv2d(1, 64, kernel_size=2, padding=0)\n",
        "        self.out_conv1 = self._calculate_output_size((Nx, Ny), kernel_size=2, padding=0)\n",
        "        self.fc1 = nn.Linear(64 * self.out_conv1[0] * self.out_conv1[1], 64)\n",
        "        self.dropout = nn.Dropout(p=0.5)\n",
        "        self.fc2 = nn.Linear(64, 2)\n",
        "        self.flatten = nn.Flatten()\n",
        "\n",
        "    def forward(self, x, return_feature_maps=False):\n",
        "        x = x.view(-1, 1, x.size(1), x.size(2))\n",
        "        x = F.relu(self.conv1(x))\n",
        "        if return_feature_maps:\n",
        "            return x\n",
        "        x = self.flatten(x)\n",
        "        x = F.relu(self.fc1(x))\n",
        "        x = self.dropout(x)\n",
        "        return F.softmax(self.fc2(x), dim=1)\n",
        "\n",
        "    def _calculate_output_size(self, input_size, kernel_size, padding):\n",
        "        out_size = [(input_size[0] - kernel_size + 2 * padding) + 1,\n",
        "                    (input_size[1] - kernel_size + 2 * padding) + 1]\n",
        "        return out_size\n",
        "\n",
        "## Example Usage:\n",
        "# model = ConvNet(40, 40)\n",
        "# x = torch.randn(1, 40, 40)\n",
        "# feature_maps = model(x, return_feature_maps=True)\n",
        "\n",
        "## Plotting the first feature map from the first sample in the batch\n",
        "# plt.imshow(feature_maps[0, 0].detach().numpy(), cmap='gray')\n",
        "# plt.colorbar()\n",
        "# plt.title('Feature Map from Conv1')\n",
        "# plt.show()\n"
      ],
      "metadata": {
        "id": "HmItdo0Xx2mg"
      },
      "execution_count": null,
      "outputs": []
    },
    {
      "cell_type": "code",
      "source": [
        "CNN = ConvNet(Nx, Ny).to(device)\n",
        "criterion_CNN = nn.BCELoss()\n",
        "optimizer_CNN = optim.Adam(CNN.parameters(), lr=1e-4, betas=(0.9, 0.999))"
      ],
      "metadata": {
        "id": "qiEhnYvsrOcv"
      },
      "execution_count": 20,
      "outputs": []
    },
    {
      "cell_type": "code",
      "source": [
        "train(CNN, 10, criterion_CNN, optimizer_CNN, train_dataloader_anti)"
      ],
      "metadata": {
        "id": "HBQPkd7RsPuA",
        "colab": {
          "base_uri": "https://localhost:8080/"
        },
        "outputId": "341d08f1-416d-43ff-888f-fb7ae19abd22"
      },
      "execution_count": 21,
      "outputs": [
        {
          "output_type": "stream",
          "name": "stdout",
          "text": [
            "Loss: 0.6955673098564148 ,Train accuracy: 0.484375\n",
            "Loss: 0.06831638514995575 ,Train accuracy: 0.96875\n",
            "Loss: 0.03218010067939758 ,Train accuracy: 0.9765625\n",
            "Loss: 0.04006648808717728 ,Train accuracy: 0.984375\n",
            "Loss: 0.04277155175805092 ,Train accuracy: 0.984375\n",
            "Loss: 0.020191745832562447 ,Train accuracy: 0.9921875\n",
            "Loss: 0.051074378192424774 ,Train accuracy: 0.9921875\n",
            "Loss: 0.0050677028484642506 ,Train accuracy: 1.0\n",
            "Loss: 0.009306860156357288 ,Train accuracy: 1.0\n",
            "Loss: 0.0802638828754425 ,Train accuracy: 0.9765625\n",
            "Loss: 0.034280963242053986 ,Train accuracy: 0.984375\n",
            "Loss: 0.025802772492170334 ,Train accuracy: 0.9921875\n",
            "Loss: 0.050462506711483 ,Train accuracy: 0.96875\n",
            "Loss: 0.026139402762055397 ,Train accuracy: 0.9921875\n",
            "Loss: 0.019056277349591255 ,Train accuracy: 0.9921875\n",
            "Loss: 0.0207544956356287 ,Train accuracy: 0.9921875\n",
            "Loss: 0.0018777984660118818 ,Train accuracy: 1.0\n",
            "Loss: 0.009999390691518784 ,Train accuracy: 1.0\n",
            "Loss: 0.005658666603267193 ,Train accuracy: 1.0\n",
            "Loss: 0.03831027075648308 ,Train accuracy: 0.9921875\n",
            "Loss: 0.03650185465812683 ,Train accuracy: 0.984375\n",
            "Loss: 0.01896730810403824 ,Train accuracy: 0.9921875\n",
            "Loss: 0.012578384950757027 ,Train accuracy: 0.9921875\n",
            "Loss: 0.007146432995796204 ,Train accuracy: 0.9921875\n",
            "Loss: 0.04434938728809357 ,Train accuracy: 0.984375\n",
            "Loss: 0.006521265022456646 ,Train accuracy: 1.0\n",
            "Loss: 0.0034767482429742813 ,Train accuracy: 1.0\n",
            "Loss: 0.008530132472515106 ,Train accuracy: 1.0\n",
            "Loss: 0.02138022519648075 ,Train accuracy: 0.9921875\n",
            "Loss: 0.021584436297416687 ,Train accuracy: 1.0\n",
            "Loss: 0.02461400255560875 ,Train accuracy: 0.9921875\n",
            "Loss: 0.006096686236560345 ,Train accuracy: 1.0\n",
            "Loss: 0.006882154382765293 ,Train accuracy: 1.0\n",
            "Loss: 0.03190368413925171 ,Train accuracy: 0.984375\n",
            "Loss: 0.0013130679726600647 ,Train accuracy: 1.0\n",
            "Loss: 0.0081781642511487 ,Train accuracy: 0.9921875\n",
            "Loss: 0.0025596334598958492 ,Train accuracy: 1.0\n",
            "Loss: 0.011578088626265526 ,Train accuracy: 0.9921875\n",
            "Loss: 0.030342867597937584 ,Train accuracy: 0.9921875\n",
            "Loss: 0.022321801632642746 ,Train accuracy: 0.9921875\n",
            "Loss: 0.022682012990117073 ,Train accuracy: 0.984375\n",
            "Loss: 0.003338068025186658 ,Train accuracy: 1.0\n",
            "Loss: 0.02927268296480179 ,Train accuracy: 0.9921875\n",
            "Loss: 0.0033780948724597692 ,Train accuracy: 1.0\n",
            "Loss: 0.005460890009999275 ,Train accuracy: 1.0\n",
            "Loss: 0.03487108647823334 ,Train accuracy: 0.984375\n",
            "Loss: 0.0066501726396381855 ,Train accuracy: 1.0\n",
            "Loss: 0.00913273636251688 ,Train accuracy: 1.0\n",
            "Loss: 0.039944861084222794 ,Train accuracy: 0.984375\n",
            "Loss: 0.032018523663282394 ,Train accuracy: 0.9921875\n",
            "Loss: 0.004142723046243191 ,Train accuracy: 1.0\n",
            "Loss: 0.07096095383167267 ,Train accuracy: 0.9765625\n",
            "Loss: 0.014082864858210087 ,Train accuracy: 0.9921875\n",
            "Loss: 0.0053627984598279 ,Train accuracy: 1.0\n",
            "Loss: 0.0010790852829813957 ,Train accuracy: 1.0\n",
            "Loss: 0.014915677718818188 ,Train accuracy: 0.9921875\n",
            "Loss: 0.021166760474443436 ,Train accuracy: 0.9921875\n",
            "Loss: 0.04146498441696167 ,Train accuracy: 0.984375\n",
            "Loss: 0.006819533184170723 ,Train accuracy: 1.0\n",
            "Loss: 0.000971740810200572 ,Train accuracy: 1.0\n",
            "Loss: 0.00505402497947216 ,Train accuracy: 1.0\n",
            "Loss: 0.0003438159474171698 ,Train accuracy: 1.0\n",
            "Loss: 0.013678953051567078 ,Train accuracy: 0.9921875\n",
            "Loss: 0.005064602475613356 ,Train accuracy: 1.0\n",
            "Loss: 0.009258890524506569 ,Train accuracy: 1.0\n",
            "Loss: 0.007095099426805973 ,Train accuracy: 1.0\n",
            "Loss: 0.004051458556205034 ,Train accuracy: 1.0\n",
            "Loss: 0.004515054635703564 ,Train accuracy: 1.0\n",
            "Loss: 0.013191952370107174 ,Train accuracy: 0.9921875\n",
            "Loss: 0.002336762147024274 ,Train accuracy: 1.0\n",
            "Loss: 0.0007373836124315858 ,Train accuracy: 1.0\n",
            "Loss: 0.0011153847444802523 ,Train accuracy: 1.0\n",
            "Loss: 0.0023934331256896257 ,Train accuracy: 1.0\n",
            "Loss: 0.0002810726291500032 ,Train accuracy: 1.0\n",
            "Loss: 0.0012735351920127869 ,Train accuracy: 1.0\n",
            "Loss: 0.0014381149085238576 ,Train accuracy: 1.0\n",
            "Loss: 0.00187242915853858 ,Train accuracy: 1.0\n",
            "Loss: 0.0002980661520268768 ,Train accuracy: 1.0\n",
            "Loss: 0.004578653257340193 ,Train accuracy: 1.0\n",
            "Loss: 0.0013770664809271693 ,Train accuracy: 1.0\n",
            "Loss: 0.002606029389426112 ,Train accuracy: 1.0\n",
            "Loss: 0.001018983544781804 ,Train accuracy: 1.0\n",
            "Loss: 0.00039134753751568496 ,Train accuracy: 1.0\n",
            "Loss: 0.0006067574140615761 ,Train accuracy: 1.0\n",
            "Loss: 0.003460874315351248 ,Train accuracy: 1.0\n",
            "Loss: 0.0015930690569803119 ,Train accuracy: 1.0\n",
            "Loss: 0.0035177082754671574 ,Train accuracy: 1.0\n",
            "Loss: 0.0025820014998316765 ,Train accuracy: 1.0\n",
            "Loss: 0.0008777862531132996 ,Train accuracy: 1.0\n",
            "Loss: 0.0007968680583871901 ,Train accuracy: 1.0\n"
          ]
        }
      ]
    },
    {
      "cell_type": "code",
      "source": [
        "test(CNN, criterion_CNN, test_dataloader_anti)"
      ],
      "metadata": {
        "colab": {
          "base_uri": "https://localhost:8080/"
        },
        "id": "WOSpMELUtN7j",
        "outputId": "38b813b5-2438-4086-8e9e-a290050f376f"
      },
      "execution_count": 22,
      "outputs": [
        {
          "output_type": "stream",
          "name": "stdout",
          "text": [
            "0 :: Loss: 0.0139703880995512 ,Test accuracy: 0.9921875\n",
            "1 :: Loss: 0.013584917411208153 ,Test accuracy: 0.984375\n",
            "2 :: Loss: 0.002507227472960949 ,Test accuracy: 1.0\n",
            "3 :: Loss: 2.5168556021526456e-05 ,Test accuracy: 1.0\n",
            "4 :: Loss: 0.05477740243077278 ,Test accuracy: 0.9921875\n",
            "5 :: Loss: 0.009793594479560852 ,Test accuracy: 0.9921875\n",
            "6 :: Loss: 0.011609249748289585 ,Test accuracy: 0.9921875\n",
            "7 :: Loss: 0.00329402182251215 ,Test accuracy: 1.0\n",
            "8 :: Loss: 0.012253194116055965 ,Test accuracy: 0.9921875\n",
            "9 :: Loss: 0.019425954669713974 ,Test accuracy: 0.9921875\n",
            "10 :: Loss: 0.026539260521531105 ,Test accuracy: 0.9921875\n",
            "11 :: Loss: 0.0177169069647789 ,Test accuracy: 0.9921875\n",
            "12 :: Loss: 0.007679128088057041 ,Test accuracy: 0.9921875\n",
            "13 :: Loss: 0.015010520815849304 ,Test accuracy: 0.9921875\n",
            "14 :: Loss: 0.03966445475816727 ,Test accuracy: 0.984375\n",
            "15 :: Loss: 0.14596574008464813 ,Test accuracy: 0.9765625\n",
            "16 :: Loss: 0.0018683311063796282 ,Test accuracy: 1.0\n",
            "17 :: Loss: 0.017835458740592003 ,Test accuracy: 0.9921875\n",
            "18 :: Loss: 0.00037621360388584435 ,Test accuracy: 1.0\n",
            "19 :: Loss: 0.013546665199100971 ,Test accuracy: 0.9921875\n",
            "20 :: Loss: 0.07672407478094101 ,Test accuracy: 0.984375\n",
            "21 :: Loss: 0.0030620121397078037 ,Test accuracy: 1.0\n",
            "22 :: Loss: 0.0005356369656510651 ,Test accuracy: 1.0\n",
            "23 :: Loss: 0.004262317903339863 ,Test accuracy: 1.0\n",
            "24 :: Loss: 0.004011193290352821 ,Test accuracy: 1.0\n",
            "25 :: Loss: 0.0110019501298666 ,Test accuracy: 0.9921875\n",
            "26 :: Loss: 0.0294888224452734 ,Test accuracy: 0.984375\n",
            "27 :: Loss: 2.0203964595566504e-05 ,Test accuracy: 1.0\n",
            "28 :: Loss: 0.035027891397476196 ,Test accuracy: 0.9921875\n",
            "29 :: Loss: 0.021426154300570488 ,Test accuracy: 0.9921875\n",
            "30 :: Loss: 0.025491179898381233 ,Test accuracy: 0.9833333333333333\n"
          ]
        }
      ]
    },
    {
      "cell_type": "code",
      "source": [
        "torch.save(CNN.state_dict(), 'CNN_anti.pth')"
      ],
      "metadata": {
        "id": "lTzY7GrAfB6s"
      },
      "execution_count": 23,
      "outputs": []
    },
    {
      "cell_type": "markdown",
      "source": [
        "### CNN 2"
      ],
      "metadata": {
        "id": "tq589ECh7EJX"
      }
    },
    {
      "cell_type": "code",
      "source": [
        "import torch\n",
        "import torch.nn as nn\n",
        "import torch.nn.functional as F\n",
        "import matplotlib.pyplot as plt\n",
        "\n",
        "class ConvNet2(nn.Module):\n",
        "    def __init__(self, Nx, Ny):\n",
        "        super(ConvNet2, self).__init__()\n",
        "        self.conv1 = nn.Conv2d(1, 32, kernel_size=3, padding=0)\n",
        "        self.out_conv1 = self._calculate_output_size((Nx, Ny), kernel_size=2, padding=0)\n",
        "        self.conv2 = nn.Conv2d(32, 64, kernel_size=3, padding=0)\n",
        "        self.conv3 = nn.Conv2d(64, 64, kernel_size=3, padding=0)\n",
        "        self.max_pool_layer = nn.MaxPool2d(kernel_size=2, stride=2)\n",
        "        # self.out_conv2 = self._calculate_output_size(self.out_conv1, kernel_size=2, padding=0)\n",
        "        self.fc1 = nn.Linear(9216, 64)  # Adjusted input size for fc1\n",
        "        self.fc2 = nn.Linear(64, 2)\n",
        "        self.dropout = nn.Dropout(p=0.5)\n",
        "        self.flatten = nn.Flatten()\n",
        "\n",
        "    def forward(self, x, return_feature_maps=False):\n",
        "        x = x.view(-1, 1, x.size(1), x.size(2))\n",
        "        x = self.max_pool_layer(F.relu(self.conv1(x)))\n",
        "        x = self.max_pool_layer(F.relu(self.conv2(x)))\n",
        "        x = F.relu(self.conv3(x))\n",
        "        if return_feature_maps:\n",
        "            return x\n",
        "        x = self.flatten(x)\n",
        "        x = F.relu(self.fc1(x))\n",
        "        x = self.dropout(x)\n",
        "        return F.softmax(self.fc2(x), dim=1)\n",
        "\n",
        "    def _calculate_output_size(self, input_size, kernel_size, padding):\n",
        "        out_size = [(input_size[0] - kernel_size + 2 * padding) + 1,\n",
        "                    (input_size[1] - kernel_size + 2 * padding) + 1]\n",
        "        return out_size\n",
        "\n",
        "# Example Usage:\n",
        "# model = ConvNet(40, 40)\n",
        "# x = torch.randn(1, 40, 40)\n",
        "# feature_maps = model(x, return_feature_maps=True)\n",
        "\n",
        "# Plotting the first feature map from the first sample in the batch\n",
        "# plt.imshow(feature_maps[0, 0].detach().numpy(), cmap='gray')\n",
        "# plt.colorbar()\n",
        "# plt.title('Feature Map from Conv1')\n",
        "# plt.show()\n"
      ],
      "metadata": {
        "id": "nD7KBc2f7CPS"
      },
      "execution_count": 156,
      "outputs": []
    },
    {
      "cell_type": "code",
      "source": [
        "CNN_2 = ConvNet2(Nx, Ny).to(device)\n",
        "criterion_CNN_2 = nn.BCELoss()\n",
        "optimizer_CNN_2 = optim.Adam(CNN_2.parameters(), lr=1e-4, betas=(0.9, 0.999))"
      ],
      "metadata": {
        "id": "TERfGtQLFssg"
      },
      "execution_count": 163,
      "outputs": []
    },
    {
      "cell_type": "code",
      "source": [
        "train(CNN_2, 10, criterion_CNN_2, optimizer_CNN_2, train_dataloader_anti)"
      ],
      "metadata": {
        "colab": {
          "base_uri": "https://localhost:8080/"
        },
        "outputId": "80ed37e8-b342-43d5-ac4b-54810334981d",
        "id": "LMbWX3zSFsss"
      },
      "execution_count": 164,
      "outputs": [
        {
          "output_type": "stream",
          "name": "stdout",
          "text": [
            "Loss: 0.6981297731399536 ,Train accuracy: 0.4765625\n",
            "Loss: 0.34903058409690857 ,Train accuracy: 0.9140625\n",
            "Loss: 0.0958879366517067 ,Train accuracy: 0.984375\n",
            "Loss: 0.0316026508808136 ,Train accuracy: 1.0\n",
            "Loss: 0.030363257974386215 ,Train accuracy: 0.9921875\n",
            "Loss: 0.019866425544023514 ,Train accuracy: 0.9921875\n",
            "Loss: 0.05823357403278351 ,Train accuracy: 0.9921875\n",
            "Loss: 0.025172170251607895 ,Train accuracy: 0.9921875\n",
            "Loss: 0.02593664452433586 ,Train accuracy: 0.9921875\n",
            "Loss: 0.007003065198659897 ,Train accuracy: 1.0\n",
            "Loss: 0.021389588713645935 ,Train accuracy: 0.9921875\n",
            "Loss: 0.01937885954976082 ,Train accuracy: 1.0\n",
            "Loss: 0.018554825335741043 ,Train accuracy: 0.9921875\n",
            "Loss: 0.017464324831962585 ,Train accuracy: 1.0\n",
            "Loss: 0.022030245512723923 ,Train accuracy: 0.9921875\n",
            "Loss: 0.03551489859819412 ,Train accuracy: 0.984375\n",
            "Loss: 0.01079770177602768 ,Train accuracy: 1.0\n",
            "Loss: 0.025781959295272827 ,Train accuracy: 0.9921875\n",
            "Loss: 0.024043699726462364 ,Train accuracy: 0.984375\n",
            "Loss: 0.010453131049871445 ,Train accuracy: 1.0\n",
            "Loss: 0.02891506440937519 ,Train accuracy: 0.9921875\n",
            "Loss: 0.004808553960174322 ,Train accuracy: 1.0\n",
            "Loss: 0.006757685914635658 ,Train accuracy: 1.0\n",
            "Loss: 0.011340765282511711 ,Train accuracy: 0.9921875\n",
            "Loss: 0.033054910600185394 ,Train accuracy: 0.984375\n",
            "Loss: 0.008048282004892826 ,Train accuracy: 1.0\n",
            "Loss: 0.01824798621237278 ,Train accuracy: 0.9921875\n",
            "Loss: 0.021339772269129753 ,Train accuracy: 0.9921875\n",
            "Loss: 0.0071923090144991875 ,Train accuracy: 0.9921875\n",
            "Loss: 0.049264900386333466 ,Train accuracy: 0.984375\n",
            "Loss: 0.004741758573800325 ,Train accuracy: 1.0\n",
            "Loss: 0.002288590185344219 ,Train accuracy: 1.0\n",
            "Loss: 0.017388982698321342 ,Train accuracy: 1.0\n",
            "Loss: 0.01894916035234928 ,Train accuracy: 0.9921875\n",
            "Loss: 0.0019791817758232355 ,Train accuracy: 1.0\n",
            "Loss: 0.028423167765140533 ,Train accuracy: 0.9921875\n",
            "Loss: 0.012776697054505348 ,Train accuracy: 1.0\n",
            "Loss: 0.009396092034876347 ,Train accuracy: 1.0\n",
            "Loss: 0.01668350212275982 ,Train accuracy: 0.9921875\n",
            "Loss: 0.011498074978590012 ,Train accuracy: 1.0\n",
            "Loss: 0.002989949891343713 ,Train accuracy: 1.0\n",
            "Loss: 0.024501986801624298 ,Train accuracy: 0.9921875\n",
            "Loss: 0.030648287385702133 ,Train accuracy: 0.984375\n",
            "Loss: 0.010968242771923542 ,Train accuracy: 1.0\n",
            "Loss: 0.00882473774254322 ,Train accuracy: 1.0\n",
            "Loss: 0.004781174473464489 ,Train accuracy: 1.0\n",
            "Loss: 0.015621903352439404 ,Train accuracy: 1.0\n",
            "Loss: 0.029456347227096558 ,Train accuracy: 0.984375\n",
            "Loss: 0.012301073409616947 ,Train accuracy: 0.9921875\n",
            "Loss: 0.0064383395947515965 ,Train accuracy: 1.0\n",
            "Loss: 0.00675617391243577 ,Train accuracy: 1.0\n",
            "Loss: 0.025410182774066925 ,Train accuracy: 0.9765625\n",
            "Loss: 0.0011658759322017431 ,Train accuracy: 1.0\n",
            "Loss: 0.012949081137776375 ,Train accuracy: 0.9921875\n",
            "Loss: 0.003541113343089819 ,Train accuracy: 1.0\n",
            "Loss: 0.0033349073491990566 ,Train accuracy: 1.0\n",
            "Loss: 0.03343050181865692 ,Train accuracy: 0.9921875\n",
            "Loss: 0.008370762690901756 ,Train accuracy: 1.0\n",
            "Loss: 0.005444459151476622 ,Train accuracy: 1.0\n",
            "Loss: 0.01334871631115675 ,Train accuracy: 0.9921875\n",
            "Loss: 0.020468465983867645 ,Train accuracy: 0.9921875\n",
            "Loss: 0.006534819956868887 ,Train accuracy: 0.9921875\n",
            "Loss: 0.007685137912631035 ,Train accuracy: 1.0\n",
            "Loss: 0.002213715575635433 ,Train accuracy: 1.0\n",
            "Loss: 0.005271861329674721 ,Train accuracy: 1.0\n",
            "Loss: 0.02344229258596897 ,Train accuracy: 0.9921875\n",
            "Loss: 0.020319733768701553 ,Train accuracy: 0.9921875\n",
            "Loss: 0.0023249874357134104 ,Train accuracy: 1.0\n",
            "Loss: 0.0012259294744580984 ,Train accuracy: 1.0\n",
            "Loss: 0.03686431050300598 ,Train accuracy: 0.9765625\n",
            "Loss: 0.006371910218149424 ,Train accuracy: 1.0\n",
            "Loss: 0.009869664907455444 ,Train accuracy: 0.9921875\n",
            "Loss: 0.008243409916758537 ,Train accuracy: 0.9921875\n",
            "Loss: 0.005571763962507248 ,Train accuracy: 1.0\n",
            "Loss: 0.05540851131081581 ,Train accuracy: 0.984375\n",
            "Loss: 0.012461401522159576 ,Train accuracy: 0.9921875\n",
            "Loss: 0.00535260746255517 ,Train accuracy: 1.0\n",
            "Loss: 0.007579377852380276 ,Train accuracy: 0.9921875\n",
            "Loss: 0.02484041079878807 ,Train accuracy: 0.984375\n",
            "Loss: 0.008047867566347122 ,Train accuracy: 1.0\n",
            "Loss: 0.011998613364994526 ,Train accuracy: 0.9921875\n",
            "Loss: 0.007652526255697012 ,Train accuracy: 0.9921875\n",
            "Loss: 0.018028706312179565 ,Train accuracy: 0.9921875\n",
            "Loss: 0.04021493345499039 ,Train accuracy: 0.984375\n",
            "Loss: 0.009971413761377335 ,Train accuracy: 1.0\n",
            "Loss: 0.002508368343114853 ,Train accuracy: 1.0\n",
            "Loss: 0.007857760414481163 ,Train accuracy: 1.0\n",
            "Loss: 0.021478066220879555 ,Train accuracy: 0.9921875\n",
            "Loss: 0.020733755081892014 ,Train accuracy: 0.9921875\n",
            "Loss: 0.01526281051337719 ,Train accuracy: 0.9921875\n"
          ]
        }
      ]
    },
    {
      "cell_type": "code",
      "source": [
        "test(CNN_2, criterion_CNN_2, test_dataloader_anti)"
      ],
      "metadata": {
        "colab": {
          "base_uri": "https://localhost:8080/"
        },
        "outputId": "836fe8c3-f0bb-4933-f61b-c1a214884f80",
        "id": "x8qdoJg4Fsss"
      },
      "execution_count": 165,
      "outputs": [
        {
          "output_type": "stream",
          "name": "stdout",
          "text": [
            "0 :: Loss: 0.0024574038106948137 ,Test accuracy: 1.0\n",
            "1 :: Loss: 0.025391951203346252 ,Test accuracy: 0.9921875\n",
            "2 :: Loss: 0.0008000958478078246 ,Test accuracy: 1.0\n",
            "3 :: Loss: 0.0007118704961612821 ,Test accuracy: 1.0\n",
            "4 :: Loss: 0.03668081760406494 ,Test accuracy: 0.984375\n",
            "5 :: Loss: 0.004521663766354322 ,Test accuracy: 1.0\n",
            "6 :: Loss: 0.02243628352880478 ,Test accuracy: 0.9921875\n",
            "7 :: Loss: 0.0009648398845456541 ,Test accuracy: 1.0\n",
            "8 :: Loss: 0.008787400089204311 ,Test accuracy: 1.0\n",
            "9 :: Loss: 0.009762611240148544 ,Test accuracy: 1.0\n",
            "10 :: Loss: 0.01136540062725544 ,Test accuracy: 0.9921875\n",
            "11 :: Loss: 0.009596597403287888 ,Test accuracy: 1.0\n",
            "12 :: Loss: 0.002427361672744155 ,Test accuracy: 1.0\n",
            "13 :: Loss: 0.004564937204122543 ,Test accuracy: 1.0\n",
            "14 :: Loss: 0.002492651343345642 ,Test accuracy: 1.0\n",
            "15 :: Loss: 0.0436052605509758 ,Test accuracy: 0.9921875\n",
            "16 :: Loss: 0.013137796893715858 ,Test accuracy: 0.9921875\n",
            "17 :: Loss: 0.005207322537899017 ,Test accuracy: 1.0\n",
            "18 :: Loss: 0.0027016105595976114 ,Test accuracy: 1.0\n",
            "19 :: Loss: 0.007161813788115978 ,Test accuracy: 0.9921875\n",
            "20 :: Loss: 0.0028698055539280176 ,Test accuracy: 1.0\n",
            "21 :: Loss: 0.006654121447354555 ,Test accuracy: 1.0\n",
            "22 :: Loss: 0.002620700281113386 ,Test accuracy: 1.0\n",
            "23 :: Loss: 0.020944654941558838 ,Test accuracy: 0.984375\n",
            "24 :: Loss: 0.0069900862872600555 ,Test accuracy: 1.0\n",
            "25 :: Loss: 0.0033525717444717884 ,Test accuracy: 1.0\n",
            "26 :: Loss: 0.027851276099681854 ,Test accuracy: 0.9921875\n",
            "27 :: Loss: 0.006443650461733341 ,Test accuracy: 1.0\n",
            "28 :: Loss: 0.01005024928599596 ,Test accuracy: 0.9921875\n",
            "29 :: Loss: 0.00796714797616005 ,Test accuracy: 1.0\n",
            "30 :: Loss: 0.013626238331198692 ,Test accuracy: 1.0\n"
          ]
        }
      ]
    },
    {
      "cell_type": "code",
      "source": [
        "torch.save(CNN_2.state_dict(), 'CNN_anti.pth')"
      ],
      "metadata": {
        "id": "VyVENyzaFsst"
      },
      "execution_count": 166,
      "outputs": []
    },
    {
      "cell_type": "markdown",
      "source": [
        "### Feature Maps"
      ],
      "metadata": {
        "id": "GfGabH6WdFfA"
      }
    },
    {
      "cell_type": "code",
      "source": [
        "# Example Usage:\n",
        "# model = ConvNet(40, 40)\n",
        "def plot_feature_map(model, x, y, print_data = False):\n",
        "  x = torch.from_numpy(x).unsqueeze(0).float().to(device)\n",
        "  feature_maps = model(x, return_feature_maps=True)\n",
        "\n",
        "  # Plotting the first feature map from the first sample in the batch\n",
        "  data = feature_maps[0, 0].cpu().detach().numpy()\n",
        "  print(data)\n",
        "  plt.imshow(data)\n",
        "  plt.colorbar()\n",
        "  plt.title(f'Temperature={y}')\n",
        "  plt.show()"
      ],
      "metadata": {
        "id": "RoJ2uLrUdMFJ"
      },
      "execution_count": 24,
      "outputs": []
    },
    {
      "cell_type": "code",
      "source": [
        "plt.imshow(X_train_anti[0])\n",
        "plt.title(f\"Temperature={Y_train_anti[0]}\")"
      ],
      "metadata": {
        "colab": {
          "base_uri": "https://localhost:8080/",
          "height": 469
        },
        "id": "Opnw6SqBeWA9",
        "outputId": "77f421f9-89b6-42e0-9357-b1f8376a11f2"
      },
      "execution_count": 25,
      "outputs": [
        {
          "output_type": "execute_result",
          "data": {
            "text/plain": [
              "Text(0.5, 1.0, 'Temperature=1.0')"
            ]
          },
          "metadata": {},
          "execution_count": 25
        },
        {
          "output_type": "display_data",
          "data": {
            "text/plain": [
              "<Figure size 640x480 with 1 Axes>"
            ],
            "image/png": "[encoded data removed]"
          },
          "metadata": {}
        }
      ]
    },
    {
      "cell_type": "code",
      "source": [
        "plot_feature_map(CNN, X_train_anti[2000], Y_train_anti[2000])"
      ],
      "metadata": {
        "colab": {
          "base_uri": "https://localhost:8080/",
          "height": 573
        },
        "id": "II1e5XEAfiXr",
        "outputId": "21573b68-b707-4b45-be0f-775fdc7eb288"
      },
      "execution_count": 26,
      "outputs": [
        {
          "output_type": "stream",
          "name": "stdout",
          "text": [
            "[[1.0353074  0.         0.         ... 0.         1.0353074  0.5947193 ]\n",
            " [0.         0.         1.0353074  ... 1.0353074  0.         0.12124181]\n",
            " [1.0353074  0.5947193  0.         ... 0.         1.0353074  0.        ]\n",
            " ...\n",
            " [1.0353074  0.         1.0353074  ... 0.43821007 0.5947193  0.12593082]\n",
            " [0.27775103 0.43821007 0.         ... 0.12124181 0.         0.56651884]\n",
            " [0.         0.         1.0353074  ... 0.         0.56651884 1.1918166 ]]\n"
          ]
        },
        {
          "output_type": "display_data",
          "data": {
            "text/plain": [
              "<Figure size 640x480 with 2 Axes>"
            ],
            "image/png": "[encoded data removed]"
          },
          "metadata": {}
        }
      ]
    },
    {
      "cell_type": "markdown",
      "source": [
        "### Test on the R = +2 data"
      ],
      "metadata": {
        "id": "RqzGi_Uty7tI"
      }
    },
    {
      "cell_type": "markdown",
      "source": [
        "###### Loading the datasets and the trained model"
      ],
      "metadata": {
        "id": "Km4S8Uiay7tZ"
      }
    },
    {
      "cell_type": "code",
      "source": [
        "X2, y2, Y2 = full_file_loader('data_64NNN_anti_noshuffle_Rplus2.npz', 4.5)"
      ],
      "metadata": {
        "id": "CLFw_yHVy7ta",
        "colab": {
          "base_uri": "https://localhost:8080/",
          "height": 304
        },
        "outputId": "64cf6455-cdf4-40fd-873f-5019d62faf03"
      },
      "execution_count": 27,
      "outputs": [
        {
          "output_type": "error",
          "ename": "FileNotFoundError",
          "evalue": "[Errno 2] No such file or directory: 'data_64NNN_anti_noshuffle_Rplus2.npz'",
          "traceback": [
            "\u001b[0;31m---------------------------------------------------------------------------\u001b[0m",
            "\u001b[0;31mFileNotFoundError\u001b[0m                         Traceback (most recent call last)",
            "\u001b[0;32m<ipython-input-27-51af78a5bec2>\u001b[0m in \u001b[0;36m<cell line: 1>\u001b[0;34m()\u001b[0m\n\u001b[0;32m----> 1\u001b[0;31m \u001b[0mX2\u001b[0m\u001b[0;34m,\u001b[0m \u001b[0my2\u001b[0m\u001b[0;34m,\u001b[0m \u001b[0mY2\u001b[0m \u001b[0;34m=\u001b[0m \u001b[0mfull_file_loader\u001b[0m\u001b[0;34m(\u001b[0m\u001b[0;34m'data_64NNN_anti_noshuffle_Rplus2.npz'\u001b[0m\u001b[0;34m,\u001b[0m \u001b[0;36m4.5\u001b[0m\u001b[0;34m)\u001b[0m\u001b[0;34m\u001b[0m\u001b[0;34m\u001b[0m\u001b[0m\n\u001b[0m",
            "\u001b[0;32m<ipython-input-11-4253358cefd0>\u001b[0m in \u001b[0;36mfull_file_loader\u001b[0;34m(file_name, Tc)\u001b[0m\n\u001b[1;32m      1\u001b[0m \u001b[0;32mdef\u001b[0m \u001b[0mfull_file_loader\u001b[0m\u001b[0;34m(\u001b[0m\u001b[0mfile_name\u001b[0m\u001b[0;34m,\u001b[0m \u001b[0mTc\u001b[0m \u001b[0;34m=\u001b[0m \u001b[0;36m2.27\u001b[0m\u001b[0;34m)\u001b[0m\u001b[0;34m:\u001b[0m\u001b[0;34m\u001b[0m\u001b[0;34m\u001b[0m\u001b[0m\n\u001b[0;32m----> 2\u001b[0;31m     \u001b[0mdata\u001b[0m \u001b[0;34m=\u001b[0m \u001b[0mnp\u001b[0m\u001b[0;34m.\u001b[0m\u001b[0mload\u001b[0m\u001b[0;34m(\u001b[0m\u001b[0mfile_name\u001b[0m\u001b[0;34m)\u001b[0m\u001b[0;34m\u001b[0m\u001b[0;34m\u001b[0m\u001b[0m\n\u001b[0m\u001b[1;32m      3\u001b[0m     \u001b[0mX\u001b[0m \u001b[0;34m=\u001b[0m \u001b[0mdata\u001b[0m\u001b[0;34m[\u001b[0m\u001b[0;34m'X'\u001b[0m\u001b[0;34m]\u001b[0m\u001b[0;34m\u001b[0m\u001b[0;34m\u001b[0m\u001b[0m\n\u001b[1;32m      4\u001b[0m     \u001b[0mY\u001b[0m \u001b[0;34m=\u001b[0m \u001b[0mdata\u001b[0m\u001b[0;34m[\u001b[0m\u001b[0;34m'y'\u001b[0m\u001b[0;34m]\u001b[0m\u001b[0;34m\u001b[0m\u001b[0;34m\u001b[0m\u001b[0m\n\u001b[1;32m      5\u001b[0m     \u001b[0;31m# Tc = 2.27 # For a square lattice following Ising Model\u001b[0m\u001b[0;34m\u001b[0m\u001b[0;34m\u001b[0m\u001b[0m\n",
            "\u001b[0;32m/usr/local/lib/python3.10/dist-packages/numpy/lib/npyio.py\u001b[0m in \u001b[0;36mload\u001b[0;34m(file, mmap_mode, allow_pickle, fix_imports, encoding, max_header_size)\u001b[0m\n\u001b[1;32m    425\u001b[0m             \u001b[0mown_fid\u001b[0m \u001b[0;34m=\u001b[0m \u001b[0;32mFalse\u001b[0m\u001b[0;34m\u001b[0m\u001b[0;34m\u001b[0m\u001b[0m\n\u001b[1;32m    426\u001b[0m         \u001b[0;32melse\u001b[0m\u001b[0;34m:\u001b[0m\u001b[0;34m\u001b[0m\u001b[0;34m\u001b[0m\u001b[0m\n\u001b[0;32m--> 427\u001b[0;31m             \u001b[0mfid\u001b[0m \u001b[0;34m=\u001b[0m \u001b[0mstack\u001b[0m\u001b[0;34m.\u001b[0m\u001b[0menter_context\u001b[0m\u001b[0;34m(\u001b[0m\u001b[0mopen\u001b[0m\u001b[0;34m(\u001b[0m\u001b[0mos_fspath\u001b[0m\u001b[0;34m(\u001b[0m\u001b[0mfile\u001b[0m\u001b[0;34m)\u001b[0m\u001b[0;34m,\u001b[0m \u001b[0;34m\"rb\"\u001b[0m\u001b[0;34m)\u001b[0m\u001b[0;34m)\u001b[0m\u001b[0;34m\u001b[0m\u001b[0;34m\u001b[0m\u001b[0m\n\u001b[0m\u001b[1;32m    428\u001b[0m             \u001b[0mown_fid\u001b[0m \u001b[0;34m=\u001b[0m \u001b[0;32mTrue\u001b[0m\u001b[0;34m\u001b[0m\u001b[0;34m\u001b[0m\u001b[0m\n\u001b[1;32m    429\u001b[0m \u001b[0;34m\u001b[0m\u001b[0m\n",
            "\u001b[0;31mFileNotFoundError\u001b[0m: [Errno 2] No such file or directory: 'data_64NNN_anti_noshuffle_Rplus2.npz'"
          ]
        }
      ]
    },
    {
      "cell_type": "code",
      "source": [
        "dataset2 = IsingDataset(X2, y2)\n",
        "batch_size = 128\n",
        "dataloader2 = DataLoader(dataset = dataset2, batch_size = batch_size, shuffle = False)"
      ],
      "metadata": {
        "id": "XjFsfqi9y7ta"
      },
      "execution_count": null,
      "outputs": []
    },
    {
      "cell_type": "markdown",
      "source": [
        "###### CNN"
      ],
      "metadata": {
        "id": "TAdG_BAWy7tb"
      }
    },
    {
      "cell_type": "code",
      "source": [
        "dataset2.__len__()"
      ],
      "metadata": {
        "id": "D0KziQsmy7tb"
      },
      "execution_count": null,
      "outputs": []
    },
    {
      "cell_type": "code",
      "source": [
        "test(CNN, criterion_CNN, dataloader2)"
      ],
      "metadata": {
        "id": "vgQWfVi3y7tc"
      },
      "execution_count": null,
      "outputs": []
    },
    {
      "cell_type": "code",
      "source": [
        "pred_class1, pred_class2 = get_predictions(dataloader2, CNN)"
      ],
      "metadata": {
        "id": "E5mY7bNBy7td"
      },
      "execution_count": null,
      "outputs": []
    },
    {
      "cell_type": "code",
      "source": [
        "plt.scatter(Y2, pred_class1, label='Antiferromagnetic')\n",
        "plt.scatter(Y2, pred_class2, label='Paramagnetic')\n",
        "plt.legend()"
      ],
      "metadata": {
        "id": "xhdBpi_Py7te"
      },
      "execution_count": null,
      "outputs": []
    },
    {
      "cell_type": "markdown",
      "source": [
        "###### Visualization"
      ],
      "metadata": {
        "id": "sigKbfY0y7tg"
      }
    },
    {
      "cell_type": "code",
      "source": [
        "plt.imshow(X2[1600])\n",
        "plt.title(f\"Temperature={Y2[1600]}\")"
      ],
      "metadata": {
        "id": "YniaNGINgI98"
      },
      "execution_count": null,
      "outputs": []
    },
    {
      "cell_type": "code",
      "source": [
        "plot_feature_map(CNN, X2[1600], Y2[1600])"
      ],
      "metadata": {
        "id": "7HoXR5-qf_-j"
      },
      "execution_count": null,
      "outputs": []
    },
    {
      "cell_type": "code",
      "source": [
        "plt.imshow(X2[0])\n",
        "plt.title(f\"Temperature={Y2[0]}\")"
      ],
      "metadata": {
        "id": "FazTtRx6goXo"
      },
      "execution_count": null,
      "outputs": []
    },
    {
      "cell_type": "code",
      "source": [
        "  x = X2[8]\n",
        "  x = torch.from_numpy(x).unsqueeze(0).float().to(device)\n",
        "  feature_maps = CNN(x, return_feature_maps=True)\n",
        "\n",
        "  # Plotting the first feature map from the first sample in the batch\n",
        "  data = feature_maps[0, 0].cpu().detach().numpy()\n",
        "  data"
      ],
      "metadata": {
        "id": "cGk4A2wwyV59"
      },
      "execution_count": null,
      "outputs": []
    },
    {
      "cell_type": "code",
      "source": [
        "plot_feature_map(CNN, X2[0], Y2[0], print_data = True)"
      ],
      "metadata": {
        "id": "SpfuD8-ngmNr"
      },
      "execution_count": null,
      "outputs": []
    },
    {
      "cell_type": "markdown",
      "source": [
        "### Testing on the second (best) R=+2 data"
      ],
      "metadata": {
        "id": "pCKr2QBHnMWS"
      }
    },
    {
      "cell_type": "markdown",
      "source": [
        "###### Loading the datasets and the trained model"
      ],
      "metadata": {
        "id": "R9vaqQiCnrPt"
      }
    },
    {
      "cell_type": "code",
      "source": [
        "X1, y1, Y1 = full_file_loader('data_64NNN_anti_noshuffle_Rplus2_best.npz', 4.5)"
      ],
      "metadata": {
        "id": "s3AiYzNRnrPu"
      },
      "execution_count": 28,
      "outputs": []
    },
    {
      "cell_type": "code",
      "source": [
        "dataset1 = IsingDataset(X1, y1)\n",
        "batch_size = 128\n",
        "dataloader1 = DataLoader(dataset = dataset1, batch_size = batch_size, shuffle = False)"
      ],
      "metadata": {
        "colab": {
          "base_uri": "https://localhost:8080/"
        },
        "outputId": "e7d0c851-09cf-4dbf-e6b6-fd87938eaf2d",
        "id": "XNCiyrwPnrPu"
      },
      "execution_count": 29,
      "outputs": [
        {
          "output_type": "stream",
          "name": "stderr",
          "text": [
            "<ipython-input-12-2d1bccbc4b53>:4: UserWarning: To copy construct from a tensor, it is recommended to use sourceTensor.clone().detach() or sourceTensor.clone().detach().requires_grad_(True), rather than torch.tensor(sourceTensor).\n",
            "  self.x = torch.tensor(torch.from_numpy(x))\n",
            "<ipython-input-12-2d1bccbc4b53>:5: UserWarning: To copy construct from a tensor, it is recommended to use sourceTensor.clone().detach() or sourceTensor.clone().detach().requires_grad_(True), rather than torch.tensor(sourceTensor).\n",
            "  self.y = torch.tensor(torch.from_numpy(y))\n"
          ]
        }
      ]
    },
    {
      "cell_type": "markdown",
      "source": [
        "###### CNN"
      ],
      "metadata": {
        "id": "1sZUbNjynrPv"
      }
    },
    {
      "cell_type": "code",
      "source": [
        "dataset1.__len__()"
      ],
      "metadata": {
        "colab": {
          "base_uri": "https://localhost:8080/"
        },
        "outputId": "248a267b-f83b-4f6e-b4b3-c708a758452d",
        "id": "qMognp7anrPv"
      },
      "execution_count": null,
      "outputs": [
        {
          "output_type": "execute_result",
          "data": {
            "text/plain": [
              "1200"
            ]
          },
          "metadata": {},
          "execution_count": 45
        }
      ]
    },
    {
      "cell_type": "code",
      "source": [
        "test(CNN, criterion_CNN, dataloader1)"
      ],
      "metadata": {
        "colab": {
          "base_uri": "https://localhost:8080/"
        },
        "outputId": "0f943259-1209-4e8c-f7c0-c9a0f3677001",
        "id": "d6lN3NUKnrPv"
      },
      "execution_count": null,
      "outputs": [
        {
          "output_type": "stream",
          "name": "stdout",
          "text": [
            "0 :: Loss: 78.46733093261719 ,Test accuracy: 0.0\n",
            "1 :: Loss: 76.0719985961914 ,Test accuracy: 0.0\n",
            "2 :: Loss: 77.00880432128906 ,Test accuracy: 0.0\n",
            "3 :: Loss: 70.47657775878906 ,Test accuracy: 0.09375\n",
            "4 :: Loss: 3.869296882896833e-09 ,Test accuracy: 1.0\n",
            "5 :: Loss: 1.4303594420006505e-10 ,Test accuracy: 1.0\n",
            "6 :: Loss: 6.393663352355361e-05 ,Test accuracy: 1.0\n",
            "7 :: Loss: 0.005375302862375975 ,Test accuracy: 1.0\n",
            "8 :: Loss: 1.6784797551849806e-08 ,Test accuracy: 1.0\n",
            "9 :: Loss: 5.1166371139999e-10 ,Test accuracy: 1.0\n"
          ]
        }
      ]
    },
    {
      "cell_type": "code",
      "source": [
        "pred_class1, pred_class2 = get_predictions(dataloader1, CNN)"
      ],
      "metadata": {
        "id": "W61gZbfjnrPv"
      },
      "execution_count": null,
      "outputs": []
    },
    {
      "cell_type": "code",
      "source": [
        "plt.scatter(Y1, pred_class1, label='Antiferromagnetic')\n",
        "plt.scatter(Y1, pred_class2, label='Paramagnetic')\n",
        "plt.legend()"
      ],
      "metadata": {
        "colab": {
          "base_uri": "https://localhost:8080/",
          "height": 447
        },
        "outputId": "a7bd9b89-180e-46fa-bd8d-f2818f92db2a",
        "id": "fSxlPATUnrPv"
      },
      "execution_count": null,
      "outputs": [
        {
          "output_type": "execute_result",
          "data": {
            "text/plain": [
              "<matplotlib.legend.Legend at 0x7b83fdb498a0>"
            ]
          },
          "metadata": {},
          "execution_count": 48
        },
        {
          "output_type": "display_data",
          "data": {
            "text/plain": [
              "<Figure size 640x480 with 1 Axes>"
            ],
            "image/png": "[encoded data removed]"
          },
          "metadata": {}
        }
      ]
    },
    {
      "cell_type": "code",
      "source": [
        "plt.imshow(X1[10])\n",
        "plt.title(f\"Temperature={Y1[10]}\")"
      ],
      "metadata": {
        "colab": {
          "base_uri": "https://localhost:8080/",
          "height": 469
        },
        "outputId": "86618d12-a316-47a5-a570-9b0f0bf29f37",
        "id": "8fHtsL4enrPv"
      },
      "execution_count": null,
      "outputs": [
        {
          "output_type": "execute_result",
          "data": {
            "text/plain": [
              "Text(0.5, 1.0, 'Temperature=2.5')"
            ]
          },
          "metadata": {},
          "execution_count": 49
        },
        {
          "output_type": "display_data",
          "data": {
            "text/plain": [
              "<Figure size 640x480 with 1 Axes>"
            ],
            "image/png": "[encoded data removed]"
          },
          "metadata": {}
        }
      ]
    },
    {
      "cell_type": "code",
      "source": [
        "plot_feature_map(CNN, X1[0], Y1[0])"
      ],
      "metadata": {
        "colab": {
          "base_uri": "https://localhost:8080/",
          "height": 573
        },
        "outputId": "585b590d-e3a9-4062-88fd-7b6735537938",
        "id": "NGQ0_ymRnrPv"
      },
      "execution_count": null,
      "outputs": [
        {
          "output_type": "stream",
          "name": "stdout",
          "text": [
            "[[0.01853183 0.         0.01853183 ... 0.01853183 0.         0.01853183]\n",
            " [0.01853183 0.         0.01853183 ... 0.01853183 0.         0.01853183]\n",
            " [0.01853183 0.         0.01853183 ... 0.01853183 0.         0.01853183]\n",
            " ...\n",
            " [0.01853183 0.         0.01853183 ... 0.01853183 0.         0.01853183]\n",
            " [0.01853183 0.         0.01853183 ... 0.01853183 0.         0.        ]\n",
            " [0.01853183 0.         0.01853183 ... 0.01853183 0.         0.        ]]\n"
          ]
        },
        {
          "output_type": "display_data",
          "data": {
            "text/plain": [
              "<Figure size 640x480 with 2 Axes>"
            ],
            "image/png": "[encoded data removed]"
          },
          "metadata": {}
        }
      ]
    },
    {
      "cell_type": "markdown",
      "source": [
        "### Transfer Learning"
      ],
      "metadata": {
        "id": "UiWxZDJRjvY2"
      }
    },
    {
      "cell_type": "markdown",
      "source": [
        "###### Loading the Dataset"
      ],
      "metadata": {
        "id": "hLtJ_z4uuKiQ"
      }
    },
    {
      "cell_type": "markdown",
      "source": [
        "Full Data"
      ],
      "metadata": {
        "id": "urp2wXLeuxWp"
      }
    },
    {
      "cell_type": "code",
      "source": [
        "file1 = 'data_64NNN_anti_noshuffle_Rplus2_best3.npz'\n",
        "file2 = 'data_64NNN_anti_noshuffle_Rplus2_best4.npz'\n",
        "combined_file = 'data_64NNN_anti_noshuffle_Rplus2_best34.npz'\n",
        "\n",
        "combine_npz_files(file1, file2, combined_file)\n"
      ],
      "metadata": {
        "id": "RaAOO5S9crZV"
      },
      "execution_count": 62,
      "outputs": []
    },
    {
      "cell_type": "code",
      "source": [
        "X1, y1, Y1 = full_file_loader('data_64NNN_anti_noshuffle_Rplus2_best.npz', 4.5)"
      ],
      "metadata": {
        "id": "ah5USta1uhwB"
      },
      "execution_count": 30,
      "outputs": []
    },
    {
      "cell_type": "code",
      "source": [
        "dataset1 = IsingDataset(X1, y1)\n",
        "batch_size = 128\n",
        "dataloader1 = DataLoader(dataset = dataset1, batch_size = batch_size, shuffle = False)"
      ],
      "metadata": {
        "colab": {
          "base_uri": "https://localhost:8080/"
        },
        "outputId": "19815af5-b2c9-444f-b301-6b3a011c3ac5",
        "id": "H81orRbOuhwB"
      },
      "execution_count": 31,
      "outputs": [
        {
          "output_type": "stream",
          "name": "stderr",
          "text": [
            "<ipython-input-12-2d1bccbc4b53>:4: UserWarning: To copy construct from a tensor, it is recommended to use sourceTensor.clone().detach() or sourceTensor.clone().detach().requires_grad_(True), rather than torch.tensor(sourceTensor).\n",
            "  self.x = torch.tensor(torch.from_numpy(x))\n",
            "<ipython-input-12-2d1bccbc4b53>:5: UserWarning: To copy construct from a tensor, it is recommended to use sourceTensor.clone().detach() or sourceTensor.clone().detach().requires_grad_(True), rather than torch.tensor(sourceTensor).\n",
            "  self.y = torch.tensor(torch.from_numpy(y))\n"
          ]
        }
      ]
    },
    {
      "cell_type": "code",
      "source": [
        "X2, y2, Y2 = full_file_loader('data_64NNN_anti_noshuffle_Rplus2_best2.npz', 4.5)"
      ],
      "metadata": {
        "id": "lIr2mJcZuj09"
      },
      "execution_count": 32,
      "outputs": []
    },
    {
      "cell_type": "code",
      "source": [
        "dataset2 = IsingDataset(X2, y2)\n",
        "batch_size = 128\n",
        "dataloader2 = DataLoader(dataset = dataset2, batch_size = batch_size, shuffle = False)"
      ],
      "metadata": {
        "colab": {
          "base_uri": "https://localhost:8080/"
        },
        "outputId": "d4cede16-70bf-42fd-9f91-7a446395c8d7",
        "id": "r9wkQSOguj1E"
      },
      "execution_count": 33,
      "outputs": [
        {
          "output_type": "stream",
          "name": "stderr",
          "text": [
            "<ipython-input-12-2d1bccbc4b53>:4: UserWarning: To copy construct from a tensor, it is recommended to use sourceTensor.clone().detach() or sourceTensor.clone().detach().requires_grad_(True), rather than torch.tensor(sourceTensor).\n",
            "  self.x = torch.tensor(torch.from_numpy(x))\n",
            "<ipython-input-12-2d1bccbc4b53>:5: UserWarning: To copy construct from a tensor, it is recommended to use sourceTensor.clone().detach() or sourceTensor.clone().detach().requires_grad_(True), rather than torch.tensor(sourceTensor).\n",
            "  self.y = torch.tensor(torch.from_numpy(y))\n"
          ]
        }
      ]
    },
    {
      "cell_type": "code",
      "source": [
        "X3, y3, Y3 = full_file_loader('data_64NNN_anti_noshuffle_Rplus2_best3.npz', 4.5)"
      ],
      "metadata": {
        "id": "SGyYuojbN7-h"
      },
      "execution_count": 34,
      "outputs": []
    },
    {
      "cell_type": "code",
      "source": [
        "dataset3 = IsingDataset(X3, y3)\n",
        "batch_size = 128\n",
        "dataloader3 = DataLoader(dataset = dataset3, batch_size = batch_size, shuffle = False)"
      ],
      "metadata": {
        "colab": {
          "base_uri": "https://localhost:8080/"
        },
        "outputId": "7e556a25-3e9c-4248-defc-ca7fabef1fef",
        "id": "fzj5zuelN7-h"
      },
      "execution_count": 35,
      "outputs": [
        {
          "output_type": "stream",
          "name": "stderr",
          "text": [
            "<ipython-input-12-2d1bccbc4b53>:4: UserWarning: To copy construct from a tensor, it is recommended to use sourceTensor.clone().detach() or sourceTensor.clone().detach().requires_grad_(True), rather than torch.tensor(sourceTensor).\n",
            "  self.x = torch.tensor(torch.from_numpy(x))\n",
            "<ipython-input-12-2d1bccbc4b53>:5: UserWarning: To copy construct from a tensor, it is recommended to use sourceTensor.clone().detach() or sourceTensor.clone().detach().requires_grad_(True), rather than torch.tensor(sourceTensor).\n",
            "  self.y = torch.tensor(torch.from_numpy(y))\n"
          ]
        }
      ]
    },
    {
      "cell_type": "code",
      "source": [
        "X34, y34, Y34 = full_file_loader('data_64NNN_anti_noshuffle_Rplus2_best34.npz', 4.5)"
      ],
      "metadata": {
        "id": "XkvmaYeAVYno"
      },
      "execution_count": 63,
      "outputs": []
    },
    {
      "cell_type": "code",
      "source": [
        "dataset34 = IsingDataset(X34, y34)\n",
        "batch_size = 128\n",
        "dataloader34 = DataLoader(dataset = dataset34, batch_size = batch_size, shuffle = False)"
      ],
      "metadata": {
        "colab": {
          "base_uri": "https://localhost:8080/"
        },
        "outputId": "1bdeaf23-9ca3-4cca-cdf5-1a0a87994204",
        "id": "ZL6y88YRVYnp"
      },
      "execution_count": 64,
      "outputs": [
        {
          "output_type": "stream",
          "name": "stderr",
          "text": [
            "<ipython-input-12-2d1bccbc4b53>:4: UserWarning: To copy construct from a tensor, it is recommended to use sourceTensor.clone().detach() or sourceTensor.clone().detach().requires_grad_(True), rather than torch.tensor(sourceTensor).\n",
            "  self.x = torch.tensor(torch.from_numpy(x))\n",
            "<ipython-input-12-2d1bccbc4b53>:5: UserWarning: To copy construct from a tensor, it is recommended to use sourceTensor.clone().detach() or sourceTensor.clone().detach().requires_grad_(True), rather than torch.tensor(sourceTensor).\n",
            "  self.y = torch.tensor(torch.from_numpy(y))\n"
          ]
        }
      ]
    },
    {
      "cell_type": "markdown",
      "source": [
        "Train and test data"
      ],
      "metadata": {
        "id": "XQXqaC7wuzcW"
      }
    },
    {
      "cell_type": "code",
      "source": [
        "X_train1, X_test1, y_train1, y_test1, Y_train1, Y_test1 = file_loader('data_64NNN_anti_noshuffle_Rplus2_best.npz', 4.5)"
      ],
      "metadata": {
        "id": "seOuKCInloIV"
      },
      "execution_count": null,
      "outputs": []
    },
    {
      "cell_type": "code",
      "source": [
        "training_dataset1 = IsingDataset(X_train1, y_train1)\n",
        "testing_dataset1 = IsingDataset(X_test1, y_test1)\n",
        "batch_size = 128\n",
        "train_dataloader1 = DataLoader(dataset = training_dataset1, batch_size = batch_size, shuffle = False)\n",
        "test_dataloader1 = DataLoader(dataset = testing_dataset1, batch_size = batch_size, shuffle = False)"
      ],
      "metadata": {
        "colab": {
          "base_uri": "https://localhost:8080/"
        },
        "outputId": "177f7782-0a0e-4e34-8fd6-d1806309d437",
        "id": "AItUukPkloIV"
      },
      "execution_count": null,
      "outputs": [
        {
          "output_type": "stream",
          "name": "stderr",
          "text": [
            "<ipython-input-10-2d1bccbc4b53>:4: UserWarning: To copy construct from a tensor, it is recommended to use sourceTensor.clone().detach() or sourceTensor.clone().detach().requires_grad_(True), rather than torch.tensor(sourceTensor).\n",
            "  self.x = torch.tensor(torch.from_numpy(x))\n",
            "<ipython-input-10-2d1bccbc4b53>:5: UserWarning: To copy construct from a tensor, it is recommended to use sourceTensor.clone().detach() or sourceTensor.clone().detach().requires_grad_(True), rather than torch.tensor(sourceTensor).\n",
            "  self.y = torch.tensor(torch.from_numpy(y))\n"
          ]
        }
      ]
    },
    {
      "cell_type": "code",
      "source": [
        "X_train2, X_test2, y_train2, y_test2, Y_train2, Y_test2 = file_loader('data_64NNN_anti_noshuffle_Rplus2_best2.npz', 4.5)"
      ],
      "metadata": {
        "id": "DDhAg4OUttXy"
      },
      "execution_count": null,
      "outputs": []
    },
    {
      "cell_type": "code",
      "source": [
        "training_dataset2 = IsingDataset(X_train2, y_train2)\n",
        "testing_dataset2 = IsingDataset(X_test2, y_test2)\n",
        "batch_size = 128\n",
        "train_dataloader2 = DataLoader(dataset = training_dataset2, batch_size = batch_size, shuffle = False)\n",
        "test_dataloader2 = DataLoader(dataset = testing_dataset2, batch_size = batch_size, shuffle = False)"
      ],
      "metadata": {
        "colab": {
          "base_uri": "https://localhost:8080/"
        },
        "outputId": "a310d6fa-a000-46d5-ae68-5e105f4dc40a",
        "id": "4YWNezKattXy"
      },
      "execution_count": null,
      "outputs": [
        {
          "output_type": "stream",
          "name": "stderr",
          "text": [
            "<ipython-input-10-2d1bccbc4b53>:4: UserWarning: To copy construct from a tensor, it is recommended to use sourceTensor.clone().detach() or sourceTensor.clone().detach().requires_grad_(True), rather than torch.tensor(sourceTensor).\n",
            "  self.x = torch.tensor(torch.from_numpy(x))\n",
            "<ipython-input-10-2d1bccbc4b53>:5: UserWarning: To copy construct from a tensor, it is recommended to use sourceTensor.clone().detach() or sourceTensor.clone().detach().requires_grad_(True), rather than torch.tensor(sourceTensor).\n",
            "  self.y = torch.tensor(torch.from_numpy(y))\n"
          ]
        }
      ]
    },
    {
      "cell_type": "markdown",
      "source": [
        "Combined Data"
      ],
      "metadata": {
        "id": "yLNc7cd4JET2"
      }
    },
    {
      "cell_type": "code",
      "source": [
        "# Create the combined dataset\n",
        "combined_dataset_wo_aug12 = create_combined_dataset(dataset1, dataset2)\n",
        "\n",
        "# Create a new DataLoader for the combined dataset\n",
        "combined_dataloader_wo_aug12 = DataLoader(dataset = combined_dataset_wo_aug12, batch_size=batch_size, shuffle=False)"
      ],
      "metadata": {
        "id": "BSZpH4PTJFw5"
      },
      "execution_count": 123,
      "outputs": []
    },
    {
      "cell_type": "code",
      "source": [
        "# Create the combined dataset\n",
        "combined_dataset_wo_aug123 = create_combined_dataset(combined_dataset_wo_aug12, dataset3)\n",
        "\n",
        "# Create a new DataLoader for the combined dataset\n",
        "combined_dataloader_wo_aug123 = DataLoader(dataset = combined_dataset_wo_aug123, batch_size=batch_size, shuffle=False)"
      ],
      "metadata": {
        "id": "uhL7qUMpOFM-"
      },
      "execution_count": 124,
      "outputs": []
    },
    {
      "cell_type": "code",
      "source": [
        "# Create the combined dataset\n",
        "combined_dataset_wo_aug1234 = create_combined_dataset(combined_dataset_wo_aug12, dataset34)\n",
        "\n",
        "# Create a new DataLoader for the combined dataset\n",
        "combined_dataloader_wo_aug1234 = DataLoader(dataset = combined_dataset_wo_aug1234, batch_size=batch_size, shuffle=False)"
      ],
      "metadata": {
        "id": "hNUfbBcYVgra"
      },
      "execution_count": 125,
      "outputs": []
    },
    {
      "cell_type": "markdown",
      "source": [
        "Augmented data"
      ],
      "metadata": {
        "id": "Ms7ojaTE3c9n"
      }
    },
    {
      "cell_type": "code",
      "source": [
        "# Assuming you already have an original DataLoader named original_dataloader\n",
        "# You can get the original dataset from original_dataloader.dataset\n",
        "original_dataset1 = dataloader1.dataset\n",
        "\n",
        "# Create the combined dataset\n",
        "combined_dataset1 = create_combined_dataset_with_augmentation(original_dataset1)\n",
        "\n",
        "\n",
        "# Create a new DataLoader for the combined dataset\n",
        "combined_dataloader1 = DataLoader(dataset = combined_dataset1, batch_size=dataloader1.batch_size, shuffle=False)\n",
        "\n",
        "# Now, new_dataloader contains both the original data and the 90-degree rotated data, with labels unchanged\n"
      ],
      "metadata": {
        "id": "sjMYILNs3e9e"
      },
      "execution_count": null,
      "outputs": []
    },
    {
      "cell_type": "code",
      "source": [
        "# Assuming you already have an original DataLoader named original_dataloader\n",
        "# You can get the original dataset from original_dataloader.dataset\n",
        "original_dataset2 = dataloader2.dataset\n",
        "\n",
        "# Create the combined dataset\n",
        "combined_dataset2 = create_combined_dataset_with_augmentation(original_dataset2)\n",
        "\n",
        "\n",
        "# Create a new DataLoader for the combined dataset\n",
        "combined_dataloader2 = DataLoader(dataset = combined_dataset2, batch_size=dataloader2.batch_size, shuffle=False)\n",
        "\n",
        "# Now, new_dataloader contains both the original data and the 90-degree rotated data, with labels unchanged\n"
      ],
      "metadata": {
        "id": "-sT42tuJF574"
      },
      "execution_count": null,
      "outputs": []
    },
    {
      "cell_type": "code",
      "source": [
        "# Assuming you already have an original DataLoader named original_dataloader\n",
        "# You can get the original dataset from original_dataloader.dataset\n",
        "comb_dataset1 = combined_dataloader1.dataset\n",
        "comb_dataset2 = combined_dataloader2.dataset\n",
        "\n",
        "# Create the combined dataset\n",
        "combined_dataset = create_combined_dataset(comb_dataset2, comb_dataset1)\n",
        "\n",
        "# Create a new DataLoader for the combined dataset\n",
        "combined_dataloader = DataLoader(dataset = combined_dataset, batch_size=combined_dataloader2.batch_size, shuffle=False)\n",
        "\n",
        "# Now, new_dataloader contains both the original data and the 90-degree rotated data, with labels unchanged\n"
      ],
      "metadata": {
        "id": "5EMZGJk2GBY_"
      },
      "execution_count": null,
      "outputs": []
    },
    {
      "cell_type": "markdown",
      "source": [
        "###### Training a model to compare the results"
      ],
      "metadata": {
        "id": "1rxf6_M5qXTK"
      }
    },
    {
      "cell_type": "code",
      "source": [
        "import torch\n",
        "import torch.nn as nn\n",
        "import torch.optim as optim\n",
        "\n",
        "CNN2 = ConvNet2(Nx, Ny)\n",
        "CNN2.to(device)\n",
        "\n",
        "# Setup optimizer\n",
        "optimizer = optim.Adam(CNN2.parameters(), lr=1e-4, betas=[0.9,0.999])\n",
        "\n",
        "# Define the loss function\n",
        "criterion = nn.BCELoss()\n",
        "\n",
        "# Example usage of the training function with dataloader8\n",
        "train(CNN2, num_epochs=10, criterion=criterion, optimizer=optimizer, train_dataloader=combined_dataloader_wo_aug1234)\n",
        "# train(CNN2, num_epochs=10, criterion=criterion, optimizer=optimizer, train_dataloader=dataset34)"
      ],
      "metadata": {
        "colab": {
          "base_uri": "https://localhost:8080/"
        },
        "id": "9-0JTV5ItjTA",
        "outputId": "000cba5a-b051-4d5a-d5ba-41c537072c6c"
      },
      "execution_count": 157,
      "outputs": [
        {
          "output_type": "stream",
          "name": "stdout",
          "text": [
            "Loss: 0.5914928913116455 ,Train accuracy: 1.0\n",
            "Loss: 4.704442024230957 ,Train accuracy: 0.0\n",
            "Loss: 0.599990725517273 ,Train accuracy: 1.0\n",
            "Loss: 0.5204341411590576 ,Train accuracy: 1.0\n",
            "Loss: 0.9109238386154175 ,Train accuracy: 0.0\n",
            "Loss: 0.594893217086792 ,Train accuracy: 0.9375\n",
            "Loss: 1.1401392221450806 ,Train accuracy: 0.0\n",
            "Loss: 0.5184777975082397 ,Train accuracy: 1.0\n",
            "Loss: 0.7639718055725098 ,Train accuracy: 0.0\n",
            "Loss: 0.020026400685310364 ,Train accuracy: 1.0\n",
            "Loss: 0.7166668772697449 ,Train accuracy: 0.28125\n",
            "Loss: 0.426876425743103 ,Train accuracy: 1.0\n",
            "Loss: 0.10773324966430664 ,Train accuracy: 1.0\n",
            "Loss: 0.1083107739686966 ,Train accuracy: 1.0\n",
            "Loss: 0.026201924309134483 ,Train accuracy: 1.0\n",
            "Loss: 0.08078145980834961 ,Train accuracy: 1.0\n",
            "Loss: 7.264518737792969 ,Train accuracy: 0.0\n",
            "Loss: 0.22815197706222534 ,Train accuracy: 1.0\n",
            "Loss: 0.10757829248905182 ,Train accuracy: 1.0\n",
            "Loss: 2.3028783798217773 ,Train accuracy: 0.125\n",
            "Loss: 0.0635085254907608 ,Train accuracy: 1.0\n",
            "Loss: 1.5764563083648682 ,Train accuracy: 0.0\n",
            "Loss: 0.5373478531837463 ,Train accuracy: 1.0\n",
            "Loss: 0.8148046135902405 ,Train accuracy: 0.0\n",
            "Loss: 0.7855823040008545 ,Train accuracy: 0.0\n",
            "Loss: 0.19556079804897308 ,Train accuracy: 1.0\n",
            "Loss: 0.06610625982284546 ,Train accuracy: 1.0\n",
            "Loss: 0.08120621740818024 ,Train accuracy: 1.0\n",
            "Loss: 0.06321271508932114 ,Train accuracy: 1.0\n",
            "Loss: 0.05804593861103058 ,Train accuracy: 1.0\n",
            "Loss: 0.04163556545972824 ,Train accuracy: 1.0\n",
            "Loss: 4.826471328735352 ,Train accuracy: 0.0\n",
            "Loss: 0.8827544450759888 ,Train accuracy: 0.21875\n",
            "Loss: 0.10824552923440933 ,Train accuracy: 1.0\n",
            "Loss: 0.2353019416332245 ,Train accuracy: 0.90625\n",
            "Loss: 0.018934043124318123 ,Train accuracy: 1.0\n",
            "Loss: 0.3428589105606079 ,Train accuracy: 0.9375\n",
            "Loss: 0.25246524810791016 ,Train accuracy: 1.0\n",
            "Loss: 0.105094775557518 ,Train accuracy: 1.0\n",
            "Loss: 0.03158076852560043 ,Train accuracy: 1.0\n",
            "Loss: 0.25127923488616943 ,Train accuracy: 0.9375\n",
            "Loss: 0.13605394959449768 ,Train accuracy: 1.0\n",
            "Loss: 0.10247723013162613 ,Train accuracy: 1.0\n",
            "Loss: 0.10316359996795654 ,Train accuracy: 1.0\n",
            "Loss: 0.19166192412376404 ,Train accuracy: 1.0\n",
            "Loss: 0.1302264928817749 ,Train accuracy: 1.0\n",
            "Loss: 0.21358972787857056 ,Train accuracy: 0.96875\n",
            "Loss: 0.12785424292087555 ,Train accuracy: 1.0\n",
            "Loss: 0.17071430385112762 ,Train accuracy: 1.0\n",
            "Loss: 0.04028429836034775 ,Train accuracy: 1.0\n",
            "Loss: 0.010944853536784649 ,Train accuracy: 1.0\n",
            "Loss: 0.10501082241535187 ,Train accuracy: 1.0\n",
            "Loss: 0.8131415843963623 ,Train accuracy: 0.5625\n",
            "Loss: 0.026767756789922714 ,Train accuracy: 1.0\n",
            "Loss: 0.006406921893358231 ,Train accuracy: 1.0\n",
            "Loss: 0.07707350701093674 ,Train accuracy: 1.0\n",
            "Loss: 0.08545056730508804 ,Train accuracy: 1.0\n",
            "Loss: 0.09042401611804962 ,Train accuracy: 1.0\n",
            "Loss: 0.1034073680639267 ,Train accuracy: 1.0\n",
            "Loss: 0.1273186206817627 ,Train accuracy: 1.0\n",
            "Loss: 0.05111938342452049 ,Train accuracy: 1.0\n",
            "Loss: 0.11159036308526993 ,Train accuracy: 1.0\n",
            "Loss: 0.03697757422924042 ,Train accuracy: 1.0\n",
            "Loss: 0.1110818013548851 ,Train accuracy: 1.0\n",
            "Loss: 0.05141088366508484 ,Train accuracy: 1.0\n",
            "Loss: 0.01597195863723755 ,Train accuracy: 1.0\n",
            "Loss: 0.09127311408519745 ,Train accuracy: 1.0\n",
            "Loss: 0.8063175082206726 ,Train accuracy: 0.5\n",
            "Loss: 0.039742883294820786 ,Train accuracy: 1.0\n",
            "Loss: 0.01015487965196371 ,Train accuracy: 1.0\n",
            "Loss: 0.08229294419288635 ,Train accuracy: 1.0\n",
            "Loss: 0.05423011630773544 ,Train accuracy: 1.0\n",
            "Loss: 0.04383706673979759 ,Train accuracy: 1.0\n",
            "Loss: 0.028546975925564766 ,Train accuracy: 1.0\n",
            "Loss: 0.09534217417240143 ,Train accuracy: 1.0\n",
            "Loss: 0.056425802409648895 ,Train accuracy: 1.0\n",
            "Loss: 0.09159933030605316 ,Train accuracy: 1.0\n",
            "Loss: 0.05406636744737625 ,Train accuracy: 1.0\n",
            "Loss: 0.03511366620659828 ,Train accuracy: 1.0\n",
            "Loss: 0.028706513345241547 ,Train accuracy: 1.0\n",
            "Loss: 0.013104435056447983 ,Train accuracy: 1.0\n",
            "Loss: 0.06457575410604477 ,Train accuracy: 1.0\n",
            "Loss: 0.9079749584197998 ,Train accuracy: 0.53125\n",
            "Loss: 0.029623068869113922 ,Train accuracy: 1.0\n",
            "Loss: 0.011816680431365967 ,Train accuracy: 1.0\n",
            "Loss: 0.048221178352832794 ,Train accuracy: 1.0\n",
            "Loss: 0.043460626155138016 ,Train accuracy: 1.0\n",
            "Loss: 0.05327238887548447 ,Train accuracy: 1.0\n",
            "Loss: 0.023694952949881554 ,Train accuracy: 1.0\n",
            "Loss: 0.05907677114009857 ,Train accuracy: 1.0\n",
            "Loss: 0.03849799931049347 ,Train accuracy: 1.0\n",
            "Loss: 0.08519204705953598 ,Train accuracy: 1.0\n",
            "Loss: 0.05449660122394562 ,Train accuracy: 1.0\n",
            "Loss: 0.025342430919408798 ,Train accuracy: 1.0\n",
            "Loss: 0.014760147780179977 ,Train accuracy: 1.0\n",
            "Loss: 0.0032014399766921997 ,Train accuracy: 1.0\n",
            "Loss: 0.04006270319223404 ,Train accuracy: 1.0\n",
            "Loss: 0.7046598196029663 ,Train accuracy: 0.59375\n",
            "Loss: 0.025301508605480194 ,Train accuracy: 1.0\n",
            "Loss: 0.009702874347567558 ,Train accuracy: 1.0\n",
            "Loss: 0.05440900847315788 ,Train accuracy: 1.0\n",
            "Loss: 0.04487302154302597 ,Train accuracy: 1.0\n",
            "Loss: 0.05141700804233551 ,Train accuracy: 1.0\n",
            "Loss: 0.05768933892250061 ,Train accuracy: 1.0\n",
            "Loss: 0.05599460005760193 ,Train accuracy: 1.0\n",
            "Loss: 0.02533436380326748 ,Train accuracy: 1.0\n",
            "Loss: 0.037190258502960205 ,Train accuracy: 1.0\n",
            "Loss: 0.055385008454322815 ,Train accuracy: 1.0\n",
            "Loss: 0.0800439715385437 ,Train accuracy: 1.0\n",
            "Loss: 0.018102597445249557 ,Train accuracy: 1.0\n",
            "Loss: 0.002509742509573698 ,Train accuracy: 1.0\n",
            "Loss: 0.024232149124145508 ,Train accuracy: 1.0\n",
            "Loss: 0.5142444372177124 ,Train accuracy: 0.71875\n",
            "Loss: 0.015579255297780037 ,Train accuracy: 1.0\n",
            "Loss: 0.007778009865432978 ,Train accuracy: 1.0\n",
            "Loss: 0.02940012887120247 ,Train accuracy: 1.0\n",
            "Loss: 0.03475169464945793 ,Train accuracy: 1.0\n",
            "Loss: 0.07234743237495422 ,Train accuracy: 1.0\n",
            "Loss: 0.030858755111694336 ,Train accuracy: 1.0\n",
            "Loss: 0.08691379427909851 ,Train accuracy: 1.0\n",
            "Loss: 0.014641620218753815 ,Train accuracy: 1.0\n",
            "Loss: 0.02816981077194214 ,Train accuracy: 1.0\n",
            "Loss: 0.010122409090399742 ,Train accuracy: 1.0\n",
            "Loss: 0.010792871005833149 ,Train accuracy: 1.0\n",
            "Loss: 0.01174218114465475 ,Train accuracy: 1.0\n",
            "Loss: 0.0046331873163580894 ,Train accuracy: 1.0\n",
            "Loss: 0.03280150145292282 ,Train accuracy: 1.0\n",
            "Loss: 0.6173282861709595 ,Train accuracy: 0.75\n",
            "Loss: 0.013492180965840816 ,Train accuracy: 1.0\n",
            "Loss: 0.011386407539248466 ,Train accuracy: 1.0\n",
            "Loss: 0.05131001025438309 ,Train accuracy: 1.0\n",
            "Loss: 0.026461496949195862 ,Train accuracy: 1.0\n",
            "Loss: 0.03738323226571083 ,Train accuracy: 1.0\n",
            "Loss: 0.04491797089576721 ,Train accuracy: 1.0\n",
            "Loss: 0.04464127868413925 ,Train accuracy: 1.0\n",
            "Loss: 0.006914080120623112 ,Train accuracy: 1.0\n",
            "Loss: 0.0234980471432209 ,Train accuracy: 1.0\n",
            "Loss: 0.0014915000647306442 ,Train accuracy: 1.0\n",
            "Loss: 0.026198260486125946 ,Train accuracy: 1.0\n",
            "Loss: 0.0125320078805089 ,Train accuracy: 1.0\n",
            "Loss: 0.008964280597865582 ,Train accuracy: 1.0\n",
            "Loss: 0.03914933651685715 ,Train accuracy: 1.0\n",
            "Loss: 0.4667303264141083 ,Train accuracy: 0.71875\n",
            "Loss: 0.008826712146401405 ,Train accuracy: 1.0\n",
            "Loss: 0.002501309383660555 ,Train accuracy: 1.0\n",
            "Loss: 0.07182218134403229 ,Train accuracy: 1.0\n",
            "Loss: 0.06384048610925674 ,Train accuracy: 1.0\n",
            "Loss: 0.04339960217475891 ,Train accuracy: 1.0\n",
            "Loss: 0.10414105653762817 ,Train accuracy: 1.0\n",
            "Loss: 0.0811012014746666 ,Train accuracy: 1.0\n"
          ]
        }
      ]
    },
    {
      "cell_type": "code",
      "source": [
        "test(CNN2, criterion, combined_dataloader_wo_aug1234)"
      ],
      "metadata": {
        "colab": {
          "base_uri": "https://localhost:8080/"
        },
        "id": "4V8ut_AQt-sd",
        "outputId": "3610cfe0-1665-43af-ea05-e6a6a9c55275"
      },
      "execution_count": 158,
      "outputs": [
        {
          "output_type": "stream",
          "name": "stdout",
          "text": [
            "0 :: Loss: 0.023375697433948517 ,Test accuracy: 1.0\n",
            "1 :: Loss: 0.023378929123282433 ,Test accuracy: 1.0\n",
            "2 :: Loss: 0.009032957255840302 ,Test accuracy: 1.0\n",
            "3 :: Loss: 0.004813063889741898 ,Test accuracy: 1.0\n",
            "4 :: Loss: 0.0029362859204411507 ,Test accuracy: 1.0\n",
            "5 :: Loss: 0.009523054584860802 ,Test accuracy: 1.0\n",
            "6 :: Loss: 0.0197250135242939 ,Test accuracy: 1.0\n",
            "7 :: Loss: 0.00598133634775877 ,Test accuracy: 1.0\n",
            "8 :: Loss: 0.023643773049116135 ,Test accuracy: 1.0\n",
            "9 :: Loss: 0.06295117735862732 ,Test accuracy: 1.0\n",
            "10 :: Loss: 0.01634833961725235 ,Test accuracy: 1.0\n",
            "11 :: Loss: 0.031227029860019684 ,Test accuracy: 1.0\n",
            "12 :: Loss: 0.44174134731292725 ,Test accuracy: 0.75\n",
            "13 :: Loss: 0.8809809684753418 ,Test accuracy: 0.5\n",
            "14 :: Loss: 0.9347849488258362 ,Test accuracy: 0.5\n",
            "15 :: Loss: 0.5771487951278687 ,Test accuracy: 0.71875\n",
            "16 :: Loss: 0.009957442060112953 ,Test accuracy: 1.0\n",
            "17 :: Loss: 0.014697400853037834 ,Test accuracy: 1.0\n",
            "18 :: Loss: 0.01246115006506443 ,Test accuracy: 1.0\n",
            "19 :: Loss: 0.01357864961028099 ,Test accuracy: 1.0\n",
            "20 :: Loss: 0.010608432814478874 ,Test accuracy: 1.0\n",
            "21 :: Loss: 0.004126413259655237 ,Test accuracy: 1.0\n",
            "22 :: Loss: 0.009616605006158352 ,Test accuracy: 1.0\n",
            "23 :: Loss: 0.003998882137238979 ,Test accuracy: 1.0\n",
            "24 :: Loss: 0.0036197053268551826 ,Test accuracy: 1.0\n",
            "25 :: Loss: 0.008759845979511738 ,Test accuracy: 1.0\n",
            "26 :: Loss: 0.005302952602505684 ,Test accuracy: 1.0\n",
            "27 :: Loss: 0.003129847114905715 ,Test accuracy: 1.0\n",
            "28 :: Loss: 0.0010546562261879444 ,Test accuracy: 1.0\n",
            "29 :: Loss: 0.004333713091909885 ,Test accuracy: 1.0\n",
            "30 :: Loss: 0.0025510690174996853 ,Test accuracy: 1.0\n",
            "31 :: Loss: 0.002182108350098133 ,Test accuracy: 1.0\n",
            "32 :: Loss: 0.002813412807881832 ,Test accuracy: 1.0\n",
            "33 :: Loss: 0.0034201706293970346 ,Test accuracy: 1.0\n",
            "34 :: Loss: 0.0068280017003417015 ,Test accuracy: 1.0\n",
            "35 :: Loss: 0.003336012829095125 ,Test accuracy: 1.0\n",
            "36 :: Loss: 0.0026922079268842936 ,Test accuracy: 1.0\n",
            "37 :: Loss: 0.0036980516742914915 ,Test accuracy: 1.0\n",
            "38 :: Loss: 0.006279269699007273 ,Test accuracy: 1.0\n",
            "39 :: Loss: 0.026395658031105995 ,Test accuracy: 1.0\n",
            "40 :: Loss: 0.004047862254083157 ,Test accuracy: 1.0\n",
            "41 :: Loss: 0.024627162143588066 ,Test accuracy: 1.0\n",
            "42 :: Loss: 0.039493829011917114 ,Test accuracy: 1.0\n",
            "43 :: Loss: 0.0029674347024410963 ,Test accuracy: 1.0\n",
            "44 :: Loss: 0.0029233202803879976 ,Test accuracy: 1.0\n",
            "45 :: Loss: 0.00538275670260191 ,Test accuracy: 1.0\n",
            "46 :: Loss: 0.020022019743919373 ,Test accuracy: 1.0\n",
            "47 :: Loss: 0.02220265381038189 ,Test accuracy: 1.0\n",
            "48 :: Loss: 0.04362483322620392 ,Test accuracy: 1.0\n",
            "49 :: Loss: 0.0008748292457312346 ,Test accuracy: 1.0\n",
            "50 :: Loss: 0.00849037617444992 ,Test accuracy: 1.0\n",
            "51 :: Loss: 0.04100963845849037 ,Test accuracy: 1.0\n",
            "52 :: Loss: 0.0032207584008574486 ,Test accuracy: 1.0\n",
            "53 :: Loss: 0.010489251464605331 ,Test accuracy: 1.0\n",
            "54 :: Loss: 0.01126172672957182 ,Test accuracy: 1.0\n",
            "55 :: Loss: 0.020172180607914925 ,Test accuracy: 1.0\n",
            "56 :: Loss: 0.014654271304607391 ,Test accuracy: 1.0\n",
            "57 :: Loss: 0.009407753124833107 ,Test accuracy: 1.0\n",
            "58 :: Loss: 0.0064309947192668915 ,Test accuracy: 1.0\n",
            "59 :: Loss: 0.035015836358070374 ,Test accuracy: 1.0\n",
            "60 :: Loss: 0.05592137575149536 ,Test accuracy: 1.0\n",
            "61 :: Loss: 0.02540680393576622 ,Test accuracy: 1.0\n",
            "62 :: Loss: 0.7304050922393799 ,Test accuracy: 0.6875\n",
            "63 :: Loss: 0.88335120677948 ,Test accuracy: 0.5625\n",
            "64 :: Loss: 0.39694198966026306 ,Test accuracy: 0.78125\n",
            "65 :: Loss: 1.2051916122436523 ,Test accuracy: 0.5\n",
            "66 :: Loss: 0.7047269940376282 ,Test accuracy: 0.65625\n",
            "67 :: Loss: 0.5575297474861145 ,Test accuracy: 0.6875\n",
            "68 :: Loss: 0.5206739902496338 ,Test accuracy: 0.78125\n",
            "69 :: Loss: 0.014868718571960926 ,Test accuracy: 1.0\n",
            "70 :: Loss: 0.02041289210319519 ,Test accuracy: 1.0\n",
            "71 :: Loss: 0.010754555463790894 ,Test accuracy: 1.0\n",
            "72 :: Loss: 0.01603814586997032 ,Test accuracy: 1.0\n",
            "73 :: Loss: 0.03199690952897072 ,Test accuracy: 1.0\n",
            "74 :: Loss: 0.017853427678346634 ,Test accuracy: 1.0\n",
            "75 :: Loss: 0.010881873778998852 ,Test accuracy: 1.0\n",
            "76 :: Loss: 0.013137794099748135 ,Test accuracy: 1.0\n",
            "77 :: Loss: 0.007938377559185028 ,Test accuracy: 1.0\n",
            "78 :: Loss: 0.010639217682182789 ,Test accuracy: 1.0\n",
            "79 :: Loss: 0.007678840309381485 ,Test accuracy: 1.0\n",
            "80 :: Loss: 0.016139023005962372 ,Test accuracy: 1.0\n",
            "81 :: Loss: 0.008108959533274174 ,Test accuracy: 1.0\n",
            "82 :: Loss: 0.0058275144547224045 ,Test accuracy: 1.0\n",
            "83 :: Loss: 0.003660866990685463 ,Test accuracy: 1.0\n",
            "84 :: Loss: 0.0047490764409303665 ,Test accuracy: 1.0\n",
            "85 :: Loss: 0.004040085710585117 ,Test accuracy: 1.0\n",
            "86 :: Loss: 0.004374266602098942 ,Test accuracy: 1.0\n",
            "87 :: Loss: 0.011326367035508156 ,Test accuracy: 1.0\n",
            "88 :: Loss: 0.005529501475393772 ,Test accuracy: 1.0\n",
            "89 :: Loss: 0.0027294582687318325 ,Test accuracy: 1.0\n",
            "90 :: Loss: 0.003887732047587633 ,Test accuracy: 1.0\n",
            "91 :: Loss: 0.003159858286380768 ,Test accuracy: 1.0\n",
            "92 :: Loss: 0.015049228444695473 ,Test accuracy: 1.0\n",
            "93 :: Loss: 0.0062973471358418465 ,Test accuracy: 1.0\n",
            "94 :: Loss: 0.0058726295828819275 ,Test accuracy: 1.0\n",
            "95 :: Loss: 0.01327996514737606 ,Test accuracy: 1.0\n",
            "96 :: Loss: 0.004006757866591215 ,Test accuracy: 1.0\n",
            "97 :: Loss: 0.0033000032417476177 ,Test accuracy: 1.0\n",
            "98 :: Loss: 0.0017010169103741646 ,Test accuracy: 1.0\n",
            "99 :: Loss: 0.0028860263992100954 ,Test accuracy: 1.0\n",
            "100 :: Loss: 0.001517107360996306 ,Test accuracy: 1.0\n",
            "101 :: Loss: 0.0069672707468271255 ,Test accuracy: 1.0\n",
            "102 :: Loss: 0.005726609379053116 ,Test accuracy: 1.0\n",
            "103 :: Loss: 0.00437624566257 ,Test accuracy: 1.0\n",
            "104 :: Loss: 0.0030807205475866795 ,Test accuracy: 1.0\n",
            "105 :: Loss: 0.004749744199216366 ,Test accuracy: 1.0\n",
            "106 :: Loss: 0.0015125737991183996 ,Test accuracy: 1.0\n",
            "107 :: Loss: 0.004138762131333351 ,Test accuracy: 1.0\n",
            "108 :: Loss: 0.004306452348828316 ,Test accuracy: 1.0\n",
            "109 :: Loss: 0.002288640011101961 ,Test accuracy: 1.0\n",
            "110 :: Loss: 0.0021075077820569277 ,Test accuracy: 1.0\n",
            "111 :: Loss: 0.002896808320656419 ,Test accuracy: 1.0\n",
            "112 :: Loss: 0.013155484572052956 ,Test accuracy: 1.0\n",
            "113 :: Loss: 0.024892576038837433 ,Test accuracy: 1.0\n",
            "114 :: Loss: 0.0329703725874424 ,Test accuracy: 1.0\n",
            "115 :: Loss: 0.020752571523189545 ,Test accuracy: 1.0\n",
            "116 :: Loss: 0.0027115510310977697 ,Test accuracy: 1.0\n",
            "117 :: Loss: 0.004322047811001539 ,Test accuracy: 1.0\n",
            "118 :: Loss: 0.027120977640151978 ,Test accuracy: 1.0\n",
            "119 :: Loss: 0.01909733936190605 ,Test accuracy: 1.0\n",
            "120 :: Loss: 0.0027405526489019394 ,Test accuracy: 1.0\n",
            "121 :: Loss: 0.015251866541802883 ,Test accuracy: 1.0\n",
            "122 :: Loss: 0.0168711356818676 ,Test accuracy: 1.0\n",
            "123 :: Loss: 0.0035921630915254354 ,Test accuracy: 1.0\n",
            "124 :: Loss: 0.022788550704717636 ,Test accuracy: 1.0\n",
            "125 :: Loss: 0.007836027070879936 ,Test accuracy: 1.0\n",
            "126 :: Loss: 0.012213555164635181 ,Test accuracy: 1.0\n",
            "127 :: Loss: 0.022717002779245377 ,Test accuracy: 1.0\n",
            "128 :: Loss: 0.0012015848187729716 ,Test accuracy: 1.0\n",
            "129 :: Loss: 0.005140021909028292 ,Test accuracy: 1.0\n",
            "130 :: Loss: 0.001988366711884737 ,Test accuracy: 1.0\n",
            "131 :: Loss: 0.0050770011730492115 ,Test accuracy: 1.0\n",
            "132 :: Loss: 0.020437706261873245 ,Test accuracy: 1.0\n",
            "133 :: Loss: 0.012899990193545818 ,Test accuracy: 1.0\n",
            "134 :: Loss: 0.015358342789113522 ,Test accuracy: 1.0\n",
            "135 :: Loss: 0.03958354890346527 ,Test accuracy: 1.0\n",
            "136 :: Loss: 0.012484020553529263 ,Test accuracy: 1.0\n",
            "137 :: Loss: 0.16705679893493652 ,Test accuracy: 0.9375\n",
            "138 :: Loss: 1.0768100023269653 ,Test accuracy: 0.375\n",
            "139 :: Loss: 0.7804705500602722 ,Test accuracy: 0.625\n",
            "140 :: Loss: 0.7206300497055054 ,Test accuracy: 0.65625\n",
            "141 :: Loss: 0.9306250810623169 ,Test accuracy: 0.5\n",
            "142 :: Loss: 0.5622128844261169 ,Test accuracy: 0.71875\n",
            "143 :: Loss: 0.5515158176422119 ,Test accuracy: 0.75\n",
            "144 :: Loss: 0.025183387100696564 ,Test accuracy: 1.0\n",
            "145 :: Loss: 0.011655578389763832 ,Test accuracy: 1.0\n",
            "146 :: Loss: 0.0330381877720356 ,Test accuracy: 1.0\n",
            "147 :: Loss: 0.01569484919309616 ,Test accuracy: 1.0\n",
            "148 :: Loss: 0.010494574904441833 ,Test accuracy: 1.0\n",
            "149 :: Loss: 0.027223065495491028 ,Test accuracy: 1.0\n",
            "150 :: Loss: 0.014115823432803154 ,Test accuracy: 1.0\n",
            "151 :: Loss: 0.002541236812248826 ,Test accuracy: 1.0\n",
            "152 :: Loss: 0.010941742919385433 ,Test accuracy: 1.0\n",
            "153 :: Loss: 0.005719629116356373 ,Test accuracy: 1.0\n",
            "154 :: Loss: 0.006280297413468361 ,Test accuracy: 1.0\n",
            "155 :: Loss: 0.00955360196530819 ,Test accuracy: 1.0\n",
            "156 :: Loss: 0.005777738522738218 ,Test accuracy: 1.0\n",
            "157 :: Loss: 0.006505342200398445 ,Test accuracy: 1.0\n",
            "158 :: Loss: 0.006547566503286362 ,Test accuracy: 1.0\n",
            "159 :: Loss: 0.005004930309951305 ,Test accuracy: 1.0\n",
            "160 :: Loss: 0.008617812767624855 ,Test accuracy: 1.0\n",
            "161 :: Loss: 0.01005997322499752 ,Test accuracy: 1.0\n",
            "162 :: Loss: 0.01599477231502533 ,Test accuracy: 1.0\n",
            "163 :: Loss: 0.006278545595705509 ,Test accuracy: 1.0\n",
            "164 :: Loss: 0.005121334455907345 ,Test accuracy: 1.0\n",
            "165 :: Loss: 0.0034617220517247915 ,Test accuracy: 1.0\n",
            "166 :: Loss: 0.0036044076550751925 ,Test accuracy: 1.0\n",
            "167 :: Loss: 0.0055798934772610664 ,Test accuracy: 1.0\n",
            "168 :: Loss: 0.00342651829123497 ,Test accuracy: 1.0\n",
            "169 :: Loss: 0.0017895230557769537 ,Test accuracy: 1.0\n",
            "170 :: Loss: 0.010647997260093689 ,Test accuracy: 1.0\n",
            "171 :: Loss: 0.009177799336612225 ,Test accuracy: 1.0\n",
            "172 :: Loss: 0.005198476370424032 ,Test accuracy: 1.0\n",
            "173 :: Loss: 0.001926351455040276 ,Test accuracy: 1.0\n",
            "174 :: Loss: 0.0029245447367429733 ,Test accuracy: 1.0\n",
            "175 :: Loss: 0.003627810860052705 ,Test accuracy: 1.0\n",
            "176 :: Loss: 0.005153477191925049 ,Test accuracy: 1.0\n",
            "177 :: Loss: 0.001847089035436511 ,Test accuracy: 1.0\n",
            "178 :: Loss: 0.001512441667728126 ,Test accuracy: 1.0\n",
            "179 :: Loss: 0.0030822698026895523 ,Test accuracy: 1.0\n",
            "180 :: Loss: 0.005892080254852772 ,Test accuracy: 1.0\n",
            "181 :: Loss: 0.004562037531286478 ,Test accuracy: 1.0\n",
            "182 :: Loss: 0.0036969254724681377 ,Test accuracy: 1.0\n",
            "183 :: Loss: 0.005247787106782198 ,Test accuracy: 1.0\n",
            "184 :: Loss: 0.002707377076148987 ,Test accuracy: 1.0\n",
            "185 :: Loss: 0.002332054078578949 ,Test accuracy: 1.0\n",
            "186 :: Loss: 0.004850203171372414 ,Test accuracy: 1.0\n",
            "187 :: Loss: 0.03308353200554848 ,Test accuracy: 1.0\n",
            "188 :: Loss: 0.044898197054862976 ,Test accuracy: 1.0\n",
            "189 :: Loss: 0.02457999810576439 ,Test accuracy: 1.0\n",
            "190 :: Loss: 0.054054565727710724 ,Test accuracy: 1.0\n",
            "191 :: Loss: 0.07362644374370575 ,Test accuracy: 1.0\n",
            "192 :: Loss: 0.014786526560783386 ,Test accuracy: 1.0\n",
            "193 :: Loss: 0.033729035407304764 ,Test accuracy: 1.0\n",
            "194 :: Loss: 0.06086248904466629 ,Test accuracy: 1.0\n",
            "195 :: Loss: 0.04580499231815338 ,Test accuracy: 1.0\n",
            "196 :: Loss: 0.06202276051044464 ,Test accuracy: 1.0\n",
            "197 :: Loss: 0.05998586490750313 ,Test accuracy: 1.0\n",
            "198 :: Loss: 0.04627350717782974 ,Test accuracy: 1.0\n",
            "199 :: Loss: 0.03305487334728241 ,Test accuracy: 1.0\n",
            "200 :: Loss: 0.0511183962225914 ,Test accuracy: 1.0\n",
            "201 :: Loss: 0.011201931163668633 ,Test accuracy: 1.0\n",
            "202 :: Loss: 0.0235796719789505 ,Test accuracy: 1.0\n",
            "203 :: Loss: 0.03763403370976448 ,Test accuracy: 1.0\n",
            "204 :: Loss: 0.05946473032236099 ,Test accuracy: 1.0\n",
            "205 :: Loss: 0.05561907961964607 ,Test accuracy: 1.0\n",
            "206 :: Loss: 0.061016909778118134 ,Test accuracy: 1.0\n",
            "207 :: Loss: 0.011125395074486732 ,Test accuracy: 1.0\n",
            "208 :: Loss: 0.03602045774459839 ,Test accuracy: 1.0\n",
            "209 :: Loss: 0.05817943811416626 ,Test accuracy: 1.0\n",
            "210 :: Loss: 0.01757093518972397 ,Test accuracy: 1.0\n",
            "211 :: Loss: 0.05800056457519531 ,Test accuracy: 1.0\n",
            "212 :: Loss: 0.01799687370657921 ,Test accuracy: 1.0\n",
            "213 :: Loss: 0.0074859135784208775 ,Test accuracy: 1.0\n",
            "214 :: Loss: 0.055836424231529236 ,Test accuracy: 1.0\n",
            "215 :: Loss: 0.052438005805015564 ,Test accuracy: 1.0\n",
            "216 :: Loss: 0.038314010947942734 ,Test accuracy: 1.0\n",
            "217 :: Loss: 0.033482640981674194 ,Test accuracy: 1.0\n",
            "218 :: Loss: 0.023972831666469574 ,Test accuracy: 1.0\n",
            "219 :: Loss: 0.010048625990748405 ,Test accuracy: 1.0\n",
            "220 :: Loss: 0.031903475522994995 ,Test accuracy: 1.0\n",
            "221 :: Loss: 0.020795349031686783 ,Test accuracy: 1.0\n",
            "222 :: Loss: 0.011476131156086922 ,Test accuracy: 1.0\n",
            "223 :: Loss: 0.02128858119249344 ,Test accuracy: 1.0\n",
            "224 :: Loss: 0.05035250633955002 ,Test accuracy: 1.0\n",
            "225 :: Loss: 0.039647020399570465 ,Test accuracy: 1.0\n",
            "226 :: Loss: 0.02513417974114418 ,Test accuracy: 1.0\n",
            "227 :: Loss: 0.0719156563282013 ,Test accuracy: 1.0\n",
            "228 :: Loss: 0.03381778672337532 ,Test accuracy: 1.0\n",
            "229 :: Loss: 0.02191631868481636 ,Test accuracy: 1.0\n",
            "230 :: Loss: 0.03700719028711319 ,Test accuracy: 1.0\n",
            "231 :: Loss: 0.033461347222328186 ,Test accuracy: 1.0\n",
            "232 :: Loss: 0.029931770637631416 ,Test accuracy: 1.0\n",
            "233 :: Loss: 0.0661836490035057 ,Test accuracy: 1.0\n",
            "234 :: Loss: 0.04420021176338196 ,Test accuracy: 1.0\n",
            "235 :: Loss: 0.045222245156764984 ,Test accuracy: 1.0\n",
            "236 :: Loss: 0.08722566068172455 ,Test accuracy: 1.0\n",
            "237 :: Loss: 0.042696915566921234 ,Test accuracy: 1.0\n",
            "238 :: Loss: 0.07180241495370865 ,Test accuracy: 1.0\n",
            "239 :: Loss: 0.03649868071079254 ,Test accuracy: 1.0\n",
            "240 :: Loss: 0.07920689880847931 ,Test accuracy: 1.0\n",
            "241 :: Loss: 0.037119124084711075 ,Test accuracy: 1.0\n",
            "242 :: Loss: 0.05073142796754837 ,Test accuracy: 1.0\n",
            "243 :: Loss: 0.06917181611061096 ,Test accuracy: 1.0\n",
            "244 :: Loss: 0.05454101040959358 ,Test accuracy: 1.0\n",
            "245 :: Loss: 0.01537087932229042 ,Test accuracy: 1.0\n",
            "246 :: Loss: 0.036709532141685486 ,Test accuracy: 1.0\n",
            "247 :: Loss: 0.017875710502266884 ,Test accuracy: 1.0\n",
            "248 :: Loss: 0.05249805748462677 ,Test accuracy: 1.0\n",
            "249 :: Loss: 0.0389033667743206 ,Test accuracy: 1.0\n",
            "250 :: Loss: 0.06957527995109558 ,Test accuracy: 1.0\n",
            "251 :: Loss: 0.03343478962779045 ,Test accuracy: 1.0\n",
            "252 :: Loss: 0.06293632090091705 ,Test accuracy: 1.0\n",
            "253 :: Loss: 0.02609819546341896 ,Test accuracy: 1.0\n",
            "254 :: Loss: 0.015271931886672974 ,Test accuracy: 1.0\n",
            "255 :: Loss: 0.020927099511027336 ,Test accuracy: 1.0\n",
            "256 :: Loss: 0.04430770128965378 ,Test accuracy: 1.0\n",
            "257 :: Loss: 0.055184200406074524 ,Test accuracy: 1.0\n",
            "258 :: Loss: 0.06561358273029327 ,Test accuracy: 1.0\n",
            "259 :: Loss: 0.033237770199775696 ,Test accuracy: 1.0\n",
            "260 :: Loss: 0.025979164987802505 ,Test accuracy: 1.0\n",
            "261 :: Loss: 0.04896756261587143 ,Test accuracy: 1.0\n",
            "262 :: Loss: 0.03062162920832634 ,Test accuracy: 1.0\n",
            "263 :: Loss: 0.0492551214993 ,Test accuracy: 1.0\n",
            "264 :: Loss: 0.029471566900610924 ,Test accuracy: 1.0\n",
            "265 :: Loss: 0.055753469467163086 ,Test accuracy: 1.0\n",
            "266 :: Loss: 0.06476243585348129 ,Test accuracy: 1.0\n",
            "267 :: Loss: 0.06733480095863342 ,Test accuracy: 1.0\n",
            "268 :: Loss: 0.051849365234375 ,Test accuracy: 1.0\n",
            "269 :: Loss: 0.08821512758731842 ,Test accuracy: 1.0\n",
            "270 :: Loss: 0.03457661718130112 ,Test accuracy: 1.0\n",
            "271 :: Loss: 0.08969039469957352 ,Test accuracy: 1.0\n",
            "272 :: Loss: 0.01538750808686018 ,Test accuracy: 1.0\n",
            "273 :: Loss: 0.05087112635374069 ,Test accuracy: 1.0\n",
            "274 :: Loss: 0.028759028762578964 ,Test accuracy: 1.0\n",
            "275 :: Loss: 0.03243763744831085 ,Test accuracy: 1.0\n",
            "276 :: Loss: 0.0872204452753067 ,Test accuracy: 1.0\n",
            "277 :: Loss: 0.07896066457033157 ,Test accuracy: 1.0\n",
            "278 :: Loss: 0.04898419231176376 ,Test accuracy: 1.0\n",
            "279 :: Loss: 0.06983408331871033 ,Test accuracy: 1.0\n",
            "280 :: Loss: 0.07050741463899612 ,Test accuracy: 1.0\n",
            "281 :: Loss: 0.009759700857102871 ,Test accuracy: 1.0\n"
          ]
        }
      ]
    },
    {
      "cell_type": "code",
      "source": [
        "print(Y3[6000-idx])\n",
        "print(y3[6000-idx])\n",
        "plt.imshow(X3[6000-idx])"
      ],
      "metadata": {
        "colab": {
          "base_uri": "https://localhost:8080/",
          "height": 484
        },
        "id": "jw8vzTaEkyt7",
        "outputId": "791df789-049f-4347-a7e6-313123c21934"
      },
      "execution_count": 122,
      "outputs": [
        {
          "output_type": "stream",
          "name": "stdout",
          "text": [
            "3.0\n",
            "[1. 0.]\n"
          ]
        },
        {
          "output_type": "execute_result",
          "data": {
            "text/plain": [
              "<matplotlib.image.AxesImage at 0x7e8d33a08ca0>"
            ]
          },
          "metadata": {},
          "execution_count": 122
        },
        {
          "output_type": "display_data",
          "data": {
            "text/plain": [
              "<Figure size 640x480 with 1 Axes>"
            ],
            "image/png": "[encoded data removed]"
          },
          "metadata": {}
        }
      ]
    },
    {
      "cell_type": "code",
      "source": [
        "# 5120, Y3=880\n",
        "idx = 5760\n",
        "dataset = combined_dataloader_wo_aug1234.dataset\n",
        "plt.imshow(dataset[idx][0].cpu().detach().float().numpy())\n",
        "plt.title(f\"Correct={combined_dataset_wo_aug1234[idx][1]}, Labelled=[{pred_class1[idx], pred_class2[idx]}]\")\n",
        "print(Y3[6000-idx])"
      ],
      "metadata": {
        "colab": {
          "base_uri": "https://localhost:8080/",
          "height": 469
        },
        "id": "22z798Qwhr0q",
        "outputId": "97c6b7af-62b0-4dc2-d7d0-18e600e48107"
      },
      "execution_count": 126,
      "outputs": [
        {
          "output_type": "stream",
          "name": "stdout",
          "text": [
            "3.0\n"
          ]
        },
        {
          "output_type": "display_data",
          "data": {
            "text/plain": [
              "<Figure size 640x480 with 1 Axes>"
            ],
            "image/png": "[encoded data removed]"
          },
          "metadata": {}
        }
      ]
    },
    {
      "cell_type": "code",
      "source": [
        "pred_class1, pred_class2 = get_predictions(combined_dataloader_wo_aug1234, CNN2)"
      ],
      "metadata": {
        "id": "-h0cHbESuFJv"
      },
      "execution_count": 159,
      "outputs": []
    },
    {
      "cell_type": "code",
      "source": [
        "Y_comb12 = np.append(Y1, Y2)\n",
        "Y_comb123 = np.append(Y_comb12, Y3)\n",
        "Y_comb1234 = np.append(Y_comb123, Y4)\n",
        "Y_comb1234.shape"
      ],
      "metadata": {
        "id": "ysZU-VpP7ijG",
        "colab": {
          "base_uri": "https://localhost:8080/"
        },
        "outputId": "509a4b94-0b3c-4523-fde5-1bb168a86b3e"
      },
      "execution_count": 161,
      "outputs": [
        {
          "output_type": "execute_result",
          "data": {
            "text/plain": [
              "(9000,)"
            ]
          },
          "metadata": {},
          "execution_count": 161
        }
      ]
    },
    {
      "cell_type": "code",
      "source": [
        "plt.scatter(Y_comb1234, pred_class1, label='Antiferromagnetic')\n",
        "plt.scatter(Y_comb1234, pred_class2, label='Paramagnetic')\n",
        "plt.legend()"
      ],
      "metadata": {
        "colab": {
          "base_uri": "https://localhost:8080/",
          "height": 447
        },
        "id": "96mOKdCcuINA",
        "outputId": "328cf44e-ea19-4ffc-bc4d-2bf59cf39f1c"
      },
      "execution_count": 162,
      "outputs": [
        {
          "output_type": "execute_result",
          "data": {
            "text/plain": [
              "<matplotlib.legend.Legend at 0x7e8caf649c60>"
            ]
          },
          "metadata": {},
          "execution_count": 162
        },
        {
          "output_type": "display_data",
          "data": {
            "text/plain": [
              "<Figure size 640x480 with 1 Axes>"
            ],
            "image/png": "[encoded data removed]"
          },
          "metadata": {}
        }
      ]
    },
    {
      "cell_type": "code",
      "source": [
        "plot_feature_map(CNN2, X1[100], Y1[100], print_data = True)"
      ],
      "metadata": {
        "colab": {
          "base_uri": "https://localhost:8080/",
          "height": 573
        },
        "id": "AXxyKS-3-m3L",
        "outputId": "2a5a0837-465b-4165-8dc4-a0879d2204f1"
      },
      "execution_count": null,
      "outputs": [
        {
          "output_type": "stream",
          "name": "stdout",
          "text": [
            "[[0.08239272 0.6047244  0.08239272 ... 0.08239272 0.6047244  0.08239272]\n",
            " [0.08239272 0.6047244  0.08239272 ... 0.08239272 0.6047244  0.08239272]\n",
            " [0.08239272 0.6047244  0.08239272 ... 0.08239272 0.6047244  0.08239272]\n",
            " ...\n",
            " [0.08239272 0.6047244  0.08239272 ... 0.08239272 0.6047244  0.08239272]\n",
            " [0.08239272 0.6047244  0.08239272 ... 0.08239272 0.6047244  0.08239272]\n",
            " [0.08239272 0.6047244  0.08239272 ... 0.08239272 0.6047244  0.08239272]]\n"
          ]
        },
        {
          "output_type": "display_data",
          "data": {
            "text/plain": [
              "<Figure size 640x480 with 2 Axes>"
            ],
            "image/png": "[encoded data removed]"
          },
          "metadata": {}
        }
      ]
    },
    {
      "cell_type": "markdown",
      "source": [
        "###### Transfer learning on NNN R=+2 data"
      ],
      "metadata": {
        "id": "2lRHIdStAkUK"
      }
    },
    {
      "cell_type": "code",
      "source": [
        "import torch\n",
        "import torch.nn as nn\n",
        "import torch.optim as optim\n",
        "\n",
        "# Load your pre-trained model\n",
        "model2 = ConvNet2(Nx, Ny)  # or load from saved state\n",
        "pretrained_model = ConvNet2(Nx, Ny)\n",
        "state_dict = torch.load(\"CNN_anti.pth\")\n",
        "pretrained_model.load_state_dict(state_dict)\n",
        "model2.conv1.weight.data = pretrained_model.conv1.weight.data\n",
        "model2.conv1.bias.data = pretrained_model.conv1.bias.data\n",
        "model2.conv2.weight.data = pretrained_model.conv2.weight.data\n",
        "model2.conv2.bias.data = pretrained_model.conv2.bias.data\n",
        "model2.conv3.weight.data = pretrained_model.conv3.weight.data\n",
        "model2.conv3.bias.data = pretrained_model.conv3.bias.data\n",
        "####\n",
        "# model2.fc1.weight.data = pretrained_model.fc1.weight.data\n",
        "# model2.fc1.bias.data = pretrained_model.fc1.bias.data\n",
        "\n",
        "# model2.fc2.weight.data = pretrained_model.fc2.weight.data\n",
        "# model2.fc2.bias.data = pretrained_model.fc2.bias.data\n",
        "\n",
        "# Freeze all parameters in the model first\n",
        "for param in model2.parameters():\n",
        "    param.requires_grad = False\n",
        "\n",
        "# Unfreeze the layers that you want to train (fc1 and fc2)\n",
        "model2.fc1.weight.requires_grad = True\n",
        "model2.fc1.bias.requires_grad = True\n",
        "model2.fc2.weight.requires_grad = True\n",
        "model2.fc2.bias.requires_grad = True\n",
        "# model2.conv2.weight.requires_grad = True\n",
        "# model2.conv2.bias.requires_grad = True\n",
        "model2.conv3.weight.requires_grad = True\n",
        "model2.conv3.bias.requires_grad = True\n",
        "\n",
        "model2.to(device)\n",
        "\n",
        "# Setup optimizer - only optimize the unfrozen parameters\n",
        "optimizer = optim.Adam([\n",
        "    {'params': model2.fc1.parameters()},\n",
        "    {'params': model2.fc2.parameters()}\n",
        "], lr=1e-4, betas=[0.9,0.999])\n",
        "# optimizer = optim.Adam(model.parameters(), lr=1e-4, betas=[0.9,0.999])\n",
        "\n",
        "# Define the loss function\n",
        "criterion = nn.BCELoss()\n",
        "\n",
        "\n",
        "# Example usage of the training function with dataloader8\n",
        "train(model2, num_epochs=10, criterion=criterion, optimizer=optimizer, train_dataloader=combined_dataloader_wo_aug1234)\n"
      ],
      "metadata": {
        "id": "a1QqhgRlNHFa",
        "outputId": "e52bf914-2859-4c45-d89a-ef5c4ae620f6",
        "colab": {
          "base_uri": "https://localhost:8080/"
        }
      },
      "execution_count": 184,
      "outputs": [
        {
          "output_type": "stream",
          "name": "stdout",
          "text": [
            "Loss: 0.7399665117263794 ,Train accuracy: 0.0\n",
            "Loss: 2.6552491188049316 ,Train accuracy: 0.0\n",
            "Loss: 0.8722383975982666 ,Train accuracy: 0.0\n",
            "Loss: 0.7011089324951172 ,Train accuracy: 0.46875\n",
            "Loss: 0.5307871103286743 ,Train accuracy: 1.0\n",
            "Loss: 0.36250269412994385 ,Train accuracy: 1.0\n",
            "Loss: 0.5335628986358643 ,Train accuracy: 0.84375\n",
            "Loss: 0.6028413772583008 ,Train accuracy: 0.71875\n",
            "Loss: 0.31838035583496094 ,Train accuracy: 1.0\n",
            "Loss: 0.3025134801864624 ,Train accuracy: 1.0\n",
            "Loss: 1.3752028942108154 ,Train accuracy: 0.0\n",
            "Loss: 0.9302430152893066 ,Train accuracy: 0.0\n",
            "Loss: 0.7721647024154663 ,Train accuracy: 0.0\n",
            "Loss: 0.769831657409668 ,Train accuracy: 0.0\n",
            "Loss: 0.7675471305847168 ,Train accuracy: 0.0\n",
            "Loss: 0.3699114918708801 ,Train accuracy: 0.96875\n",
            "Loss: 0.6254478693008423 ,Train accuracy: 1.0\n",
            "Loss: 0.2247314453125 ,Train accuracy: 1.0\n",
            "Loss: 0.17596526443958282 ,Train accuracy: 1.0\n",
            "Loss: 0.6244807243347168 ,Train accuracy: 1.0\n",
            "Loss: 0.6228708624839783 ,Train accuracy: 1.0\n",
            "Loss: 0.23294954001903534 ,Train accuracy: 0.96875\n",
            "Loss: 0.6145666837692261 ,Train accuracy: 0.65625\n",
            "Loss: 0.6216983199119568 ,Train accuracy: 1.0\n",
            "Loss: 0.6200714111328125 ,Train accuracy: 1.0\n",
            "Loss: 0.772730827331543 ,Train accuracy: 0.0\n",
            "Loss: 0.7707344889640808 ,Train accuracy: 0.0\n",
            "Loss: 0.7683385610580444 ,Train accuracy: 0.0\n",
            "Loss: 0.7659186720848083 ,Train accuracy: 0.0\n",
            "Loss: 0.7635182738304138 ,Train accuracy: 0.0\n",
            "Loss: 0.07985048741102219 ,Train accuracy: 1.0\n",
            "Loss: 0.6369752883911133 ,Train accuracy: 1.0\n",
            "Loss: 0.11109629273414612 ,Train accuracy: 1.0\n",
            "Loss: 0.10617587715387344 ,Train accuracy: 1.0\n",
            "Loss: 0.6272575855255127 ,Train accuracy: 1.0\n",
            "Loss: 0.6256664395332336 ,Train accuracy: 1.0\n",
            "Loss: 0.09913510084152222 ,Train accuracy: 1.0\n",
            "Loss: 0.3918956518173218 ,Train accuracy: 0.9375\n",
            "Loss: 0.6236605644226074 ,Train accuracy: 1.0\n",
            "Loss: 0.6219319105148315 ,Train accuracy: 1.0\n",
            "Loss: 0.7706019282341003 ,Train accuracy: 0.0\n",
            "Loss: 0.7685505151748657 ,Train accuracy: 0.0\n",
            "Loss: 0.7660855054855347 ,Train accuracy: 0.0\n",
            "Loss: 0.7635949850082397 ,Train accuracy: 0.0\n",
            "Loss: 0.7611242532730103 ,Train accuracy: 0.0\n",
            "Loss: 0.04644600674510002 ,Train accuracy: 1.0\n",
            "Loss: 0.6344603300094604 ,Train accuracy: 1.0\n",
            "Loss: 0.03662949427962303 ,Train accuracy: 1.0\n",
            "Loss: 0.06910912692546844 ,Train accuracy: 1.0\n",
            "Loss: 0.6290322542190552 ,Train accuracy: 1.0\n",
            "Loss: 0.6273816823959351 ,Train accuracy: 1.0\n",
            "Loss: 0.03715203329920769 ,Train accuracy: 1.0\n",
            "Loss: 0.3085874915122986 ,Train accuracy: 1.0\n",
            "Loss: 0.6251355409622192 ,Train accuracy: 1.0\n",
            "Loss: 0.6233669519424438 ,Train accuracy: 1.0\n",
            "Loss: 0.7689566016197205 ,Train accuracy: 0.0\n",
            "Loss: 0.7668770551681519 ,Train accuracy: 0.0\n",
            "Loss: 0.7643759846687317 ,Train accuracy: 0.0\n",
            "Loss: 0.761847972869873 ,Train accuracy: 0.0\n",
            "Loss: 0.7593395709991455 ,Train accuracy: 0.0\n",
            "Loss: 0.03126467391848564 ,Train accuracy: 1.0\n",
            "Loss: 0.6322618126869202 ,Train accuracy: 1.0\n",
            "Loss: 0.04103417694568634 ,Train accuracy: 1.0\n",
            "Loss: 0.03307735174894333 ,Train accuracy: 1.0\n",
            "Loss: 0.630430281162262 ,Train accuracy: 1.0\n",
            "Loss: 0.6287358999252319 ,Train accuracy: 1.0\n",
            "Loss: 0.03733009845018387 ,Train accuracy: 1.0\n",
            "Loss: 0.301802396774292 ,Train accuracy: 1.0\n",
            "Loss: 0.6263573169708252 ,Train accuracy: 1.0\n",
            "Loss: 0.6245595216751099 ,Train accuracy: 1.0\n",
            "Loss: 0.7675905227661133 ,Train accuracy: 0.0\n",
            "Loss: 0.7654962539672852 ,Train accuracy: 0.0\n",
            "Loss: 0.7629757523536682 ,Train accuracy: 0.0\n",
            "Loss: 0.7604272961616516 ,Train accuracy: 0.0\n",
            "Loss: 0.7578979134559631 ,Train accuracy: 0.0\n",
            "Loss: 0.023709919303655624 ,Train accuracy: 1.0\n",
            "Loss: 0.6344248056411743 ,Train accuracy: 1.0\n",
            "Loss: 0.03103489987552166 ,Train accuracy: 1.0\n",
            "Loss: 0.03725895285606384 ,Train accuracy: 1.0\n",
            "Loss: 0.6316386461257935 ,Train accuracy: 1.0\n",
            "Loss: 0.6299343109130859 ,Train accuracy: 1.0\n",
            "Loss: 0.01550233643501997 ,Train accuracy: 1.0\n",
            "Loss: 0.32674258947372437 ,Train accuracy: 0.96875\n",
            "Loss: 0.6274948120117188 ,Train accuracy: 1.0\n",
            "Loss: 0.6256871223449707 ,Train accuracy: 1.0\n",
            "Loss: 0.7662984132766724 ,Train accuracy: 0.0\n",
            "Loss: 0.7641948461532593 ,Train accuracy: 0.0\n",
            "Loss: 0.7616620659828186 ,Train accuracy: 0.0\n",
            "Loss: 0.759100615978241 ,Train accuracy: 0.0\n",
            "Loss: 0.756557822227478 ,Train accuracy: 0.0\n",
            "Loss: 0.012728940695524216 ,Train accuracy: 1.0\n",
            "Loss: 0.6356655359268188 ,Train accuracy: 1.0\n",
            "Loss: 0.006275443360209465 ,Train accuracy: 1.0\n",
            "Loss: 0.03202494606375694 ,Train accuracy: 1.0\n",
            "Loss: 0.6326934099197388 ,Train accuracy: 1.0\n",
            "Loss: 0.6309676766395569 ,Train accuracy: 1.0\n",
            "Loss: 0.009334754198789597 ,Train accuracy: 1.0\n",
            "Loss: 0.23601126670837402 ,Train accuracy: 0.96875\n",
            "Loss: 0.6284304857254028 ,Train accuracy: 1.0\n",
            "Loss: 0.6266065835952759 ,Train accuracy: 1.0\n",
            "Loss: 0.7652485370635986 ,Train accuracy: 0.0\n",
            "Loss: 0.7631375789642334 ,Train accuracy: 0.0\n",
            "Loss: 0.7605949640274048 ,Train accuracy: 0.0\n",
            "Loss: 0.7580232620239258 ,Train accuracy: 0.0\n",
            "Loss: 0.7554700374603271 ,Train accuracy: 0.0\n",
            "Loss: 0.007284905761480331 ,Train accuracy: 1.0\n",
            "Loss: 0.6365798711776733 ,Train accuracy: 1.0\n",
            "Loss: 0.011021463200449944 ,Train accuracy: 1.0\n",
            "Loss: 0.02266809530556202 ,Train accuracy: 1.0\n",
            "Loss: 0.6335594654083252 ,Train accuracy: 1.0\n",
            "Loss: 0.6318151950836182 ,Train accuracy: 1.0\n",
            "Loss: 0.005693644285202026 ,Train accuracy: 1.0\n",
            "Loss: 0.2437846064567566 ,Train accuracy: 0.96875\n",
            "Loss: 0.6292368769645691 ,Train accuracy: 1.0\n",
            "Loss: 0.6274005770683289 ,Train accuracy: 1.0\n",
            "Loss: 0.764342725276947 ,Train accuracy: 0.0\n",
            "Loss: 0.7622275352478027 ,Train accuracy: 0.0\n",
            "Loss: 0.7596790790557861 ,Train accuracy: 0.0\n",
            "Loss: 0.7571010589599609 ,Train accuracy: 0.0\n",
            "Loss: 0.7545415163040161 ,Train accuracy: 0.0\n",
            "Loss: 0.006289281416684389 ,Train accuracy: 1.0\n",
            "Loss: 0.6364595890045166 ,Train accuracy: 1.0\n",
            "Loss: 0.008415821008384228 ,Train accuracy: 1.0\n",
            "Loss: 0.010214019566774368 ,Train accuracy: 1.0\n",
            "Loss: 0.6343932151794434 ,Train accuracy: 1.0\n",
            "Loss: 0.6326442956924438 ,Train accuracy: 1.0\n",
            "Loss: 0.01012906339019537 ,Train accuracy: 1.0\n",
            "Loss: 0.241032212972641 ,Train accuracy: 0.96875\n",
            "Loss: 0.6300422549247742 ,Train accuracy: 1.0\n",
            "Loss: 0.6281977295875549 ,Train accuracy: 1.0\n",
            "Loss: 0.7634336948394775 ,Train accuracy: 0.0\n",
            "Loss: 0.7613164782524109 ,Train accuracy: 0.0\n",
            "Loss: 0.7587649822235107 ,Train accuracy: 0.0\n",
            "Loss: 0.7561835050582886 ,Train accuracy: 0.0\n",
            "Loss: 0.7536202669143677 ,Train accuracy: 0.0\n",
            "Loss: 0.006026287097483873 ,Train accuracy: 1.0\n",
            "Loss: 0.6374474167823792 ,Train accuracy: 1.0\n",
            "Loss: 0.0019016304286196828 ,Train accuracy: 1.0\n",
            "Loss: 0.009182581678032875 ,Train accuracy: 1.0\n",
            "Loss: 0.6351853609085083 ,Train accuracy: 1.0\n",
            "Loss: 0.6334251165390015 ,Train accuracy: 1.0\n",
            "Loss: 0.00367076531983912 ,Train accuracy: 1.0\n",
            "Loss: 0.2895282506942749 ,Train accuracy: 0.96875\n",
            "Loss: 0.6308292150497437 ,Train accuracy: 1.0\n",
            "Loss: 0.6289801597595215 ,Train accuracy: 1.0\n",
            "Loss: 0.7625418901443481 ,Train accuracy: 0.0\n",
            "Loss: 0.7604242563247681 ,Train accuracy: 0.0\n",
            "Loss: 0.7578715682029724 ,Train accuracy: 0.0\n",
            "Loss: 0.7552887201309204 ,Train accuracy: 0.0\n",
            "Loss: 0.7527240514755249 ,Train accuracy: 0.0\n"
          ]
        }
      ]
    },
    {
      "cell_type": "code",
      "source": [
        "# test(model2, criterion, combined_dataloader_wo_aug123)"
      ],
      "metadata": {
        "id": "_xD4j9RfUjdX"
      },
      "execution_count": 173,
      "outputs": []
    },
    {
      "cell_type": "code",
      "source": [
        "pred_class1, pred_class2 = get_predictions(combined_dataloader_wo_aug1234, model2)\n",
        "Y_comb12 = np.append(Y1, Y2)\n",
        "Y_comb123 = np.append(Y_comb12, Y3)\n",
        "Y_comb1234 = np.append(Y_comb123, Y4)\n",
        "Y_comb1234.shape\n",
        "plt.scatter(Y_comb1234, pred_class1, label='Antiferromagnetic')\n",
        "plt.scatter(Y_comb1234, pred_class2, label='Paramagnetic')\n",
        "plt.legend()"
      ],
      "metadata": {
        "id": "D8lbY9u4Loio",
        "outputId": "cdd6ea8c-5461-4891-d149-0337013cea67",
        "colab": {
          "base_uri": "https://localhost:8080/",
          "height": 447
        }
      },
      "execution_count": 182,
      "outputs": [
        {
          "output_type": "execute_result",
          "data": {
            "text/plain": [
              "<matplotlib.legend.Legend at 0x7e8caeb4c130>"
            ]
          },
          "metadata": {},
          "execution_count": 182
        },
        {
          "output_type": "display_data",
          "data": {
            "text/plain": [
              "<Figure size 640x480 with 1 Axes>"
            ],
            "image/png": "[encoded data removed]"
          },
          "metadata": {}
        }
      ]
    },
    {
      "cell_type": "code",
      "source": [],
      "metadata": {
        "colab": {
          "base_uri": "https://localhost:8080/",
          "height": 447
        },
        "outputId": "3ef0b8c7-65d1-4b78-b5be-bbd5a0009806",
        "id": "-7wgRSGbmqqA"
      },
      "execution_count": 176,
      "outputs": [
        {
          "output_type": "execute_result",
          "data": {
            "text/plain": [
              "<matplotlib.legend.Legend at 0x7e8caedd7dc0>"
            ]
          },
          "metadata": {},
          "execution_count": 176
        },
        {
          "output_type": "display_data",
          "data": {
            "text/plain": [
              "<Figure size 640x480 with 1 Axes>"
            ],
            "image/png": "[encoded data removed]"
          },
          "metadata": {}
        }
      ]
    },
    {
      "cell_type": "markdown",
      "source": [
        "### Training CNN on horizontal and vertical stripes"
      ],
      "metadata": {
        "id": "xFTJli9GLkdp"
      }
    },
    {
      "cell_type": "code",
      "source": [
        "import numpy as np\n",
        "\n",
        "def generate_horizontal_stripes(size):\n",
        "    stripes = np.zeros((size, size))\n",
        "    for i in range(size):\n",
        "        if i % 2 == 0:\n",
        "            stripes[i] = 1\n",
        "    return stripes\n",
        "\n",
        "def generate_vertical_stripes(size):\n",
        "    stripes = np.zeros((size, size))\n",
        "    for i in range(size):\n",
        "        if i % 2 == 0:\n",
        "            stripes[:, i] = 1\n",
        "    return stripes\n",
        "\n",
        "def generate_dataset(num_samples, size):\n",
        "    dataset = []\n",
        "    labels = []\n",
        "    for _ in range(num_samples // 2):\n",
        "        horizontal_stripes = generate_horizontal_stripes(size)\n",
        "        vertical_stripes = generate_vertical_stripes(size)\n",
        "        dataset.append(horizontal_stripes)\n",
        "        dataset.append(vertical_stripes)\n",
        "        labels.append([0, 1])  # Label for horizontal stripes\n",
        "        labels.append([1, 0])  # Label for vertical stripes\n",
        "    return dataset, labels\n",
        "\n",
        "# Generate the dataset\n",
        "num_samples = 20000\n",
        "size = 64\n",
        "dataset, labels = generate_dataset(num_samples, size)\n",
        "\n",
        "# Convert lists to numpy arrays\n",
        "dataset = np.array(dataset)\n",
        "labels = np.array(labels)\n",
        "\n",
        "# Shuffle the dataset and labels\n",
        "shuffle_indices = np.random.permutation(num_samples)\n",
        "dataset = dataset[shuffle_indices]\n",
        "labels = labels[shuffle_indices]\n",
        "\n",
        "# Split the dataset into training and validation sets (80-20 split)\n",
        "split_index = int(0.8 * num_samples)\n",
        "train_dataset, val_dataset = dataset[:split_index], dataset[split_index:]\n",
        "train_labels, val_labels = labels[:split_index], labels[split_index:]\n",
        "\n",
        "# Print shapes of datasets and labels\n",
        "print(\"Training dataset shape:\", train_dataset.shape)\n",
        "print(\"Training labels shape:\", train_labels.shape)\n",
        "print(\"Validation dataset shape:\", val_dataset.shape)\n",
        "print(\"Validation labels shape:\", val_labels.shape)\n"
      ],
      "metadata": {
        "id": "hBuw73YvLvZT",
        "outputId": "1bb9f7c7-3a26-47fe-81c8-533c7270f328",
        "colab": {
          "base_uri": "https://localhost:8080/"
        }
      },
      "execution_count": 83,
      "outputs": [
        {
          "output_type": "stream",
          "name": "stdout",
          "text": [
            "Training dataset shape: (16000, 64, 64)\n",
            "Training labels shape: (16000, 2)\n",
            "Validation dataset shape: (4000, 64, 64)\n",
            "Validation labels shape: (4000, 2)\n"
          ]
        }
      ]
    },
    {
      "cell_type": "code",
      "source": [
        "import torch\n",
        "from torch.utils.data import Dataset, DataLoader\n",
        "\n",
        "class StripesDataset(Dataset):\n",
        "    def __init__(self, dataset, labels, transform=None):\n",
        "        self.dataset = dataset\n",
        "        self.labels = labels\n",
        "        self.transform = transform\n",
        "\n",
        "    def __len__(self):\n",
        "        return len(self.dataset)\n",
        "\n",
        "    def __getitem__(self, idx):\n",
        "        sample = self.dataset[idx]\n",
        "        label = self.labels[idx]\n",
        "        if self.transform:\n",
        "            sample = self.transform(sample)\n",
        "        return sample, label\n",
        "\n",
        "# Define any transformations you want to apply to the data here\n",
        "# For example, you can convert the NumPy array to a PyTorch tensor\n",
        "transform = torch.tensor\n",
        "\n",
        "# Create training and validation datasets\n",
        "train_dataset = StripesDataset(train_dataset, train_labels, transform=transform)\n",
        "val_dataset = StripesDataset(val_dataset, val_labels, transform=transform)\n",
        "\n",
        "# Define batch size\n",
        "batch_size = 32\n",
        "\n",
        "# Create DataLoader instances for training and validation sets\n",
        "train_dataloader = DataLoader(train_dataset, batch_size=batch_size, shuffle=True)\n",
        "val_dataloader = DataLoader(val_dataset, batch_size=batch_size, shuffle=False)\n"
      ],
      "metadata": {
        "id": "673w0SkIRnqR"
      },
      "execution_count": 84,
      "outputs": []
    },
    {
      "cell_type": "code",
      "source": [
        "CNNstripes = ConvNet(Nx, Ny)\n",
        "CNNstripes.to(device)\n",
        "\n",
        "# Setup optimizer\n",
        "optimizer = optim.Adam(CNNstripes.parameters(), lr=1e-4, betas=[0.9,0.999])\n",
        "\n",
        "# Define the loss function\n",
        "criterion = nn.BCELoss()\n",
        "\n",
        "# Example usage of the training function with dataloader8\n",
        "train(CNNstripes, num_epochs=10, criterion=criterion, optimizer=optimizer, train_dataloader=train_dataloader)"
      ],
      "metadata": {
        "id": "OjGHar5SQ5-Y",
        "outputId": "d1643b40-65f8-4dde-df95-c511b4e26c15",
        "colab": {
          "base_uri": "https://localhost:8080/"
        }
      },
      "execution_count": 85,
      "outputs": [
        {
          "output_type": "stream",
          "name": "stdout",
          "text": [
            "Loss: 0.6735201478004456 ,Train accuracy: 0.65625\n",
            "Loss: 0.0008536069071851671 ,Train accuracy: 1.0\n",
            "Loss: 5.224625510891201e-06 ,Train accuracy: 1.0\n",
            "Loss: 2.713499611672887e-07 ,Train accuracy: 1.0\n",
            "Loss: 1.1774956192311947e-06 ,Train accuracy: 1.0\n",
            "Loss: 2.27370922090131e-08 ,Train accuracy: 1.0\n",
            "Loss: 5.711643098038621e-06 ,Train accuracy: 1.0\n",
            "Loss: 3.789684797084192e-07 ,Train accuracy: 1.0\n",
            "Loss: 2.76349328487413e-06 ,Train accuracy: 1.0\n",
            "Loss: 1.9878246604321248e-08 ,Train accuracy: 1.0\n",
            "Loss: 6.712479461157272e-08 ,Train accuracy: 1.0\n",
            "Loss: 8.619349500804674e-08 ,Train accuracy: 1.0\n",
            "Loss: 5.965186744560924e-08 ,Train accuracy: 1.0\n",
            "Loss: 1.962596911653236e-07 ,Train accuracy: 1.0\n",
            "Loss: 6.883316245875903e-07 ,Train accuracy: 1.0\n",
            "Loss: 5.772777456058975e-08 ,Train accuracy: 1.0\n",
            "Loss: 5.703286376501637e-08 ,Train accuracy: 1.0\n",
            "Loss: 1.227429891059728e-07 ,Train accuracy: 1.0\n",
            "Loss: 1.2694179929439997e-08 ,Train accuracy: 1.0\n",
            "Loss: 4.325645761582564e-07 ,Train accuracy: 1.0\n",
            "Loss: 8.477391384076327e-05 ,Train accuracy: 1.0\n",
            "Loss: 1.801191956474213e-06 ,Train accuracy: 1.0\n",
            "Loss: 7.59957146101442e-08 ,Train accuracy: 1.0\n",
            "Loss: 5.572935606323881e-07 ,Train accuracy: 1.0\n",
            "Loss: 1.10713017420494e-07 ,Train accuracy: 1.0\n",
            "Loss: 6.641990779598927e-08 ,Train accuracy: 1.0\n",
            "Loss: 2.78238605488923e-08 ,Train accuracy: 1.0\n",
            "Loss: 3.838323792137999e-08 ,Train accuracy: 1.0\n",
            "Loss: 4.0443123907607514e-06 ,Train accuracy: 1.0\n",
            "Loss: 6.304439466475742e-06 ,Train accuracy: 1.0\n",
            "Loss: 1.215396991938178e-06 ,Train accuracy: 1.0\n",
            "Loss: 1.500537472054475e-08 ,Train accuracy: 1.0\n",
            "Loss: 1.418781153006421e-06 ,Train accuracy: 1.0\n",
            "Loss: 1.2735726784285362e-07 ,Train accuracy: 1.0\n",
            "Loss: 3.8617761788373173e-07 ,Train accuracy: 1.0\n",
            "Loss: 9.145655894826632e-07 ,Train accuracy: 1.0\n",
            "Loss: 1.0544108874910307e-07 ,Train accuracy: 1.0\n",
            "Loss: 1.9532317310222425e-06 ,Train accuracy: 1.0\n",
            "Loss: 1.3154149769434298e-07 ,Train accuracy: 1.0\n",
            "Loss: 9.477526873524766e-06 ,Train accuracy: 1.0\n",
            "Loss: 4.518958303378895e-05 ,Train accuracy: 1.0\n",
            "Loss: 6.410443234017293e-07 ,Train accuracy: 1.0\n",
            "Loss: 7.197434115369106e-07 ,Train accuracy: 1.0\n",
            "Loss: 1.1305970559760681e-07 ,Train accuracy: 1.0\n",
            "Loss: 7.718179404037073e-06 ,Train accuracy: 1.0\n",
            "Loss: 3.1090471863670643e-10 ,Train accuracy: 1.0\n",
            "Loss: 4.346170356939183e-08 ,Train accuracy: 1.0\n",
            "Loss: 4.262628863216378e-06 ,Train accuracy: 1.0\n",
            "Loss: 3.3065434763557278e-06 ,Train accuracy: 1.0\n",
            "Loss: 4.81017465858713e-08 ,Train accuracy: 1.0\n",
            "Loss: 2.6756424631457776e-07 ,Train accuracy: 1.0\n",
            "Loss: 7.010370950411016e-09 ,Train accuracy: 1.0\n",
            "Loss: 3.5094225303566873e-09 ,Train accuracy: 1.0\n",
            "Loss: 4.797234254283467e-08 ,Train accuracy: 1.0\n",
            "Loss: 7.760533662803937e-06 ,Train accuracy: 1.0\n",
            "Loss: 6.366911264876762e-08 ,Train accuracy: 1.0\n",
            "Loss: 1.6009250813908693e-08 ,Train accuracy: 1.0\n",
            "Loss: 9.245144610758871e-05 ,Train accuracy: 1.0\n",
            "Loss: 2.2330482352117542e-07 ,Train accuracy: 1.0\n",
            "Loss: 1.8758714759314898e-07 ,Train accuracy: 1.0\n",
            "Loss: 4.437441347704407e-08 ,Train accuracy: 1.0\n",
            "Loss: 9.52672962739598e-08 ,Train accuracy: 1.0\n",
            "Loss: 3.103282075755942e-10 ,Train accuracy: 1.0\n",
            "Loss: 1.057693111761182e-06 ,Train accuracy: 1.0\n",
            "Loss: 2.2530953103228057e-08 ,Train accuracy: 1.0\n",
            "Loss: 3.3305580018350156e-06 ,Train accuracy: 1.0\n",
            "Loss: 9.422200673725456e-05 ,Train accuracy: 1.0\n",
            "Loss: 7.4129018479140996e-09 ,Train accuracy: 1.0\n",
            "Loss: 1.4845144669095589e-08 ,Train accuracy: 1.0\n",
            "Loss: 1.6160593077074736e-06 ,Train accuracy: 1.0\n",
            "Loss: 2.9830687253706856e-08 ,Train accuracy: 1.0\n",
            "Loss: 3.733970515895635e-06 ,Train accuracy: 1.0\n",
            "Loss: 5.366968593989441e-07 ,Train accuracy: 1.0\n",
            "Loss: 1.3464638868754264e-05 ,Train accuracy: 1.0\n",
            "Loss: 7.309144844924731e-09 ,Train accuracy: 1.0\n",
            "Loss: 1.5566449462767196e-08 ,Train accuracy: 1.0\n",
            "Loss: 9.361677655306266e-08 ,Train accuracy: 1.0\n",
            "Loss: 9.978855786130225e-08 ,Train accuracy: 1.0\n",
            "Loss: 7.300026027223794e-06 ,Train accuracy: 1.0\n",
            "Loss: 4.508961737315076e-08 ,Train accuracy: 1.0\n",
            "Loss: 4.527016539412898e-10 ,Train accuracy: 1.0\n",
            "Loss: 8.015319963305956e-08 ,Train accuracy: 1.0\n",
            "Loss: 3.836435098492075e-07 ,Train accuracy: 1.0\n",
            "Loss: 7.793185829996219e-08 ,Train accuracy: 1.0\n",
            "Loss: 3.193268582890596e-08 ,Train accuracy: 1.0\n",
            "Loss: 8.403203466400555e-09 ,Train accuracy: 1.0\n",
            "Loss: 3.5155618860471805e-08 ,Train accuracy: 1.0\n",
            "Loss: 4.833314903862629e-08 ,Train accuracy: 1.0\n",
            "Loss: 1.4021109606687787e-08 ,Train accuracy: 1.0\n",
            "Loss: 6.377014187819441e-07 ,Train accuracy: 1.0\n",
            "Loss: 3.212513490780111e-07 ,Train accuracy: 1.0\n",
            "Loss: 7.515434941041121e-10 ,Train accuracy: 1.0\n",
            "Loss: 2.42771807279496e-06 ,Train accuracy: 1.0\n",
            "Loss: 3.2693719731469173e-07 ,Train accuracy: 1.0\n",
            "Loss: 8.200738221830761e-08 ,Train accuracy: 1.0\n",
            "Loss: 2.113449137919332e-10 ,Train accuracy: 1.0\n",
            "Loss: 1.2297274309958084e-08 ,Train accuracy: 1.0\n",
            "Loss: 6.771951888140393e-10 ,Train accuracy: 1.0\n",
            "Loss: 9.738270989601006e-08 ,Train accuracy: 1.0\n",
            "Loss: 1.6214031006711593e-08 ,Train accuracy: 1.0\n",
            "Loss: 1.1147135126066132e-07 ,Train accuracy: 1.0\n",
            "Loss: 6.362932936099241e-07 ,Train accuracy: 1.0\n",
            "Loss: 2.764317059700261e-06 ,Train accuracy: 1.0\n",
            "Loss: 2.7172084173798794e-06 ,Train accuracy: 1.0\n",
            "Loss: 7.508946509915404e-06 ,Train accuracy: 1.0\n",
            "Loss: 1.309512831504378e-09 ,Train accuracy: 1.0\n",
            "Loss: 9.901542918910877e-10 ,Train accuracy: 1.0\n",
            "Loss: 1.3989655656132527e-08 ,Train accuracy: 1.0\n",
            "Loss: 3.208245336061566e-10 ,Train accuracy: 1.0\n",
            "Loss: 3.7432673707371578e-06 ,Train accuracy: 1.0\n",
            "Loss: 2.19915321508779e-08 ,Train accuracy: 1.0\n",
            "Loss: 6.330635127227424e-09 ,Train accuracy: 1.0\n",
            "Loss: 1.0804034999978285e-08 ,Train accuracy: 1.0\n",
            "Loss: 6.510658678848813e-10 ,Train accuracy: 1.0\n",
            "Loss: 4.946593435306568e-06 ,Train accuracy: 1.0\n",
            "Loss: 1.8350317532167537e-07 ,Train accuracy: 1.0\n",
            "Loss: 8.157569936884101e-06 ,Train accuracy: 1.0\n",
            "Loss: 6.740725666531944e-08 ,Train accuracy: 1.0\n",
            "Loss: 1.288014495059997e-08 ,Train accuracy: 1.0\n",
            "Loss: 3.0511921522702323e-06 ,Train accuracy: 1.0\n",
            "Loss: 5.917834641877562e-06 ,Train accuracy: 1.0\n",
            "Loss: 7.491170208595577e-07 ,Train accuracy: 1.0\n",
            "Loss: 4.3021511353380504e-10 ,Train accuracy: 1.0\n",
            "Loss: 1.0802401448017918e-05 ,Train accuracy: 1.0\n",
            "Loss: 1.1237225594484812e-09 ,Train accuracy: 1.0\n",
            "Loss: 2.6945971853820083e-07 ,Train accuracy: 1.0\n",
            "Loss: 7.941887425477745e-11 ,Train accuracy: 1.0\n",
            "Loss: 5.2805940953248864e-08 ,Train accuracy: 1.0\n",
            "Loss: 3.2447913245192694e-09 ,Train accuracy: 1.0\n",
            "Loss: 3.93382180163826e-07 ,Train accuracy: 1.0\n",
            "Loss: 1.5158926631314573e-12 ,Train accuracy: 1.0\n",
            "Loss: 9.07377943804022e-06 ,Train accuracy: 1.0\n",
            "Loss: 1.0396822602842803e-07 ,Train accuracy: 1.0\n",
            "Loss: 1.0877315048674063e-07 ,Train accuracy: 1.0\n",
            "Loss: 1.2895522871758658e-08 ,Train accuracy: 1.0\n",
            "Loss: 4.8503316918413475e-09 ,Train accuracy: 1.0\n",
            "Loss: 1.6902132471408038e-10 ,Train accuracy: 1.0\n",
            "Loss: 6.169302291247902e-10 ,Train accuracy: 1.0\n",
            "Loss: 7.10759495703428e-09 ,Train accuracy: 1.0\n",
            "Loss: 2.1313580067516824e-10 ,Train accuracy: 1.0\n",
            "Loss: 2.9983870941663326e-09 ,Train accuracy: 1.0\n",
            "Loss: 8.528480179847975e-07 ,Train accuracy: 1.0\n",
            "Loss: 5.2949450379813356e-11 ,Train accuracy: 1.0\n",
            "Loss: 1.4066664277834207e-08 ,Train accuracy: 1.0\n",
            "Loss: 1.5286644838852226e-08 ,Train accuracy: 1.0\n",
            "Loss: 1.236277967109345e-06 ,Train accuracy: 1.0\n",
            "Loss: 6.653171169546113e-08 ,Train accuracy: 1.0\n",
            "Loss: 3.6028188765691027e-10 ,Train accuracy: 1.0\n",
            "Loss: 7.79812268092428e-08 ,Train accuracy: 1.0\n",
            "Loss: 6.364472682207634e-08 ,Train accuracy: 1.0\n",
            "Loss: 1.788750259024141e-10 ,Train accuracy: 1.0\n",
            "Loss: 4.5354368921834975e-05 ,Train accuracy: 1.0\n",
            "Loss: 5.755724230560588e-10 ,Train accuracy: 1.0\n",
            "Loss: 1.0474314124375717e-11 ,Train accuracy: 1.0\n",
            "Loss: 4.203069003949622e-09 ,Train accuracy: 1.0\n",
            "Loss: 1.2759876710788376e-08 ,Train accuracy: 1.0\n",
            "Loss: 2.4360882755480873e-10 ,Train accuracy: 1.0\n",
            "Loss: 1.7088824799671443e-10 ,Train accuracy: 1.0\n",
            "Loss: 1.5723675517165248e-07 ,Train accuracy: 1.0\n",
            "Loss: 2.0229949659889002e-10 ,Train accuracy: 1.0\n",
            "Loss: 3.2780855807601483e-09 ,Train accuracy: 1.0\n",
            "Loss: 2.2029158230907342e-07 ,Train accuracy: 1.0\n",
            "Loss: 2.0518273231573403e-06 ,Train accuracy: 1.0\n",
            "Loss: 6.378760986081033e-07 ,Train accuracy: 1.0\n",
            "Loss: 1.852435893567872e-08 ,Train accuracy: 1.0\n",
            "Loss: 1.0829804934775478e-11 ,Train accuracy: 1.0\n",
            "Loss: 6.774640848306035e-09 ,Train accuracy: 1.0\n",
            "Loss: 3.6755072319039073e-09 ,Train accuracy: 1.0\n",
            "Loss: 1.006855376850524e-09 ,Train accuracy: 1.0\n",
            "Loss: 6.2276990320242476e-06 ,Train accuracy: 1.0\n",
            "Loss: 2.799124274588394e-07 ,Train accuracy: 1.0\n",
            "Loss: 2.9607758023075803e-08 ,Train accuracy: 1.0\n",
            "Loss: 4.571077294457382e-09 ,Train accuracy: 1.0\n",
            "Loss: 7.005994451247943e-09 ,Train accuracy: 1.0\n",
            "Loss: 4.1592632116227435e-10 ,Train accuracy: 1.0\n",
            "Loss: 3.8477576680406855e-09 ,Train accuracy: 1.0\n",
            "Loss: 1.1714183401068112e-08 ,Train accuracy: 1.0\n",
            "Loss: 4.151927968099045e-10 ,Train accuracy: 1.0\n",
            "Loss: 4.2229740537802485e-11 ,Train accuracy: 1.0\n",
            "Loss: 7.791757516972808e-11 ,Train accuracy: 1.0\n",
            "Loss: 4.111651991101084e-12 ,Train accuracy: 1.0\n",
            "Loss: 1.935607315317611e-06 ,Train accuracy: 1.0\n",
            "Loss: 8.40197245111085e-09 ,Train accuracy: 1.0\n",
            "Loss: 1.561786859838321e-07 ,Train accuracy: 1.0\n",
            "Loss: 9.620247654051894e-11 ,Train accuracy: 1.0\n",
            "Loss: 7.93360527495679e-07 ,Train accuracy: 1.0\n",
            "Loss: 5.251553081286886e-10 ,Train accuracy: 1.0\n",
            "Loss: 2.7629283749774913e-08 ,Train accuracy: 1.0\n",
            "Loss: 4.850650157095515e-07 ,Train accuracy: 1.0\n",
            "Loss: 4.103213768757996e-09 ,Train accuracy: 1.0\n",
            "Loss: 1.872491467436177e-10 ,Train accuracy: 1.0\n",
            "Loss: 4.148353969363194e-12 ,Train accuracy: 1.0\n",
            "Loss: 1.5579392993458896e-06 ,Train accuracy: 1.0\n",
            "Loss: 9.220929086950491e-08 ,Train accuracy: 1.0\n",
            "Loss: 2.5596506247893558e-08 ,Train accuracy: 1.0\n",
            "Loss: 1.3180381785993234e-10 ,Train accuracy: 1.0\n",
            "Loss: 2.0498840472282787e-11 ,Train accuracy: 1.0\n",
            "Loss: 1.2063621213087572e-08 ,Train accuracy: 1.0\n",
            "Loss: 1.830386536783024e-11 ,Train accuracy: 1.0\n",
            "Loss: 2.1881106301857578e-11 ,Train accuracy: 1.0\n",
            "Loss: 9.329662020718388e-08 ,Train accuracy: 1.0\n",
            "Loss: 6.241529515449429e-10 ,Train accuracy: 1.0\n",
            "Loss: 9.739821962284623e-07 ,Train accuracy: 1.0\n",
            "Loss: 4.521458318862415e-09 ,Train accuracy: 1.0\n",
            "Loss: 2.437789414777569e-10 ,Train accuracy: 1.0\n",
            "Loss: 4.554008725676795e-09 ,Train accuracy: 1.0\n",
            "Loss: 3.76644813115945e-08 ,Train accuracy: 1.0\n",
            "Loss: 4.0996170014295785e-08 ,Train accuracy: 1.0\n",
            "Loss: 1.3590426533482969e-05 ,Train accuracy: 1.0\n",
            "Loss: 2.9061266726415624e-09 ,Train accuracy: 1.0\n",
            "Loss: 1.1641464875422614e-10 ,Train accuracy: 1.0\n",
            "Loss: 1.1506085684231948e-06 ,Train accuracy: 1.0\n",
            "Loss: 5.966653020550439e-07 ,Train accuracy: 1.0\n",
            "Loss: 7.41210026689032e-09 ,Train accuracy: 1.0\n",
            "Loss: 1.5768618355505026e-10 ,Train accuracy: 1.0\n",
            "Loss: 1.199905730331352e-10 ,Train accuracy: 1.0\n",
            "Loss: 7.2447825516519515e-09 ,Train accuracy: 1.0\n",
            "Loss: 5.901872324187707e-10 ,Train accuracy: 1.0\n",
            "Loss: 2.1531182392564574e-10 ,Train accuracy: 1.0\n",
            "Loss: 2.2530133314546674e-10 ,Train accuracy: 1.0\n",
            "Loss: 6.429059506984913e-10 ,Train accuracy: 1.0\n",
            "Loss: 1.0527644728197671e-10 ,Train accuracy: 1.0\n",
            "Loss: 3.178603691367243e-08 ,Train accuracy: 1.0\n",
            "Loss: 1.2253297931863472e-08 ,Train accuracy: 1.0\n",
            "Loss: 3.177296775902505e-06 ,Train accuracy: 1.0\n",
            "Loss: 1.517502745684851e-08 ,Train accuracy: 1.0\n",
            "Loss: 5.972174754731441e-09 ,Train accuracy: 1.0\n",
            "Loss: 1.4596343231310094e-11 ,Train accuracy: 1.0\n",
            "Loss: 1.669927041803021e-05 ,Train accuracy: 1.0\n",
            "Loss: 2.9207778418083308e-09 ,Train accuracy: 1.0\n",
            "Loss: 2.6889791115536354e-05 ,Train accuracy: 1.0\n",
            "Loss: 7.08672080436748e-14 ,Train accuracy: 1.0\n",
            "Loss: 2.0578812091887055e-12 ,Train accuracy: 1.0\n",
            "Loss: 2.152094752405631e-10 ,Train accuracy: 1.0\n",
            "Loss: 2.8777534175072894e-11 ,Train accuracy: 1.0\n",
            "Loss: 5.4854343289889584e-11 ,Train accuracy: 1.0\n",
            "Loss: 7.69925190269305e-09 ,Train accuracy: 1.0\n",
            "Loss: 1.1961940118987435e-11 ,Train accuracy: 1.0\n",
            "Loss: 4.5145700511284304e-08 ,Train accuracy: 1.0\n",
            "Loss: 5.436193162289271e-12 ,Train accuracy: 1.0\n",
            "Loss: 4.5915692226117244e-07 ,Train accuracy: 1.0\n",
            "Loss: 3.165604889332485e-09 ,Train accuracy: 1.0\n",
            "Loss: 3.36868559713821e-08 ,Train accuracy: 1.0\n",
            "Loss: 1.050787512557605e-10 ,Train accuracy: 1.0\n",
            "Loss: 2.95838561981121e-11 ,Train accuracy: 1.0\n",
            "Loss: 4.699416637082843e-12 ,Train accuracy: 1.0\n",
            "Loss: 7.511297361872948e-09 ,Train accuracy: 1.0\n",
            "Loss: 3.420743155402306e-08 ,Train accuracy: 1.0\n",
            "Loss: 1.1741343453053332e-09 ,Train accuracy: 1.0\n",
            "Loss: 3.6908125444767848e-09 ,Train accuracy: 1.0\n"
          ]
        }
      ]
    },
    {
      "cell_type": "code",
      "source": [
        "xstripe, ystripe = train_dataset[15999]"
      ],
      "metadata": {
        "id": "Hk_0Qll-SO5G"
      },
      "execution_count": 86,
      "outputs": []
    },
    {
      "cell_type": "code",
      "source": [
        "plot_feature_map(CNNstripes, X1[500], ystripe)"
      ],
      "metadata": {
        "id": "Tk9yA9wBSD0s",
        "outputId": "a54669a2-6bf7-4c1b-9490-9705922efcfa",
        "colab": {
          "base_uri": "https://localhost:8080/",
          "height": 573
        }
      },
      "execution_count": 87,
      "outputs": [
        {
          "output_type": "stream",
          "name": "stdout",
          "text": [
            "[[0.         0.7204093  0.         ... 0.11523159 0.         0.        ]\n",
            " [0.         0.7204093  0.         ... 0.9109688  0.9109688  0.00126371]\n",
            " [0.         0.7204093  0.         ... 0.         0.         0.        ]\n",
            " ...\n",
            " [0.9109688  0.00126371 0.7204093  ... 0.         0.         0.5607427 ]\n",
            " [0.         0.         0.5607427  ... 0.         0.7204093  0.        ]\n",
            " [0.         0.7204093  0.         ... 0.         0.7204093  0.        ]]\n"
          ]
        },
        {
          "output_type": "display_data",
          "data": {
            "text/plain": [
              "<Figure size 640x480 with 2 Axes>"
            ],
            "image/png": "[encoded data removed]"
          },
          "metadata": {}
        }
      ]
    },
    {
      "cell_type": "code",
      "source": [
        "import torch\n",
        "import torch.nn as nn\n",
        "import torch.optim as optim\n",
        "import torchvision.models as models\n",
        "\n",
        "# Load the pre-trained VGG model\n",
        "vgg = models.vgg16(pretrained=True)\n",
        "\n",
        "# Modify the first convolutional layer to accept single-channel input\n",
        "vgg.features[0] = nn.Conv2d(32, 64, kernel_size=3, padding=1)\n",
        "\n",
        "\n",
        "# Freeze the parameters of the pre-trained layers\n",
        "for param in vgg.parameters():\n",
        "    param.requires_grad = False\n",
        "\n",
        "# Modify the final fully connected layer to match your classification task\n",
        "num_features = vgg.classifier[6].in_features\n",
        "vgg.classifier[6] = nn.Linear(num_features, 2)  # 2 output classes\n",
        "\n",
        "# Convert model parameters to the appropriate data type\n",
        "vgg = vgg.double()\n",
        "\n",
        "# Define the optimizer and loss function\n",
        "optimizer = optim.SGD(vgg.parameters(), lr=0.001, momentum=0.9)\n",
        "criterion = nn.CrossEntropyLoss()\n",
        "\n",
        "# Move the model to the appropriate device (GPU if available)\n",
        "device = torch.device(\"cuda\" if torch.cuda.is_available() else \"cpu\")\n",
        "vgg = vgg.to(device)\n",
        "\n",
        "# Train the model\n",
        "def train_model(model, criterion, optimizer, dataloader, num_epochs=5):\n",
        "    model.train()\n",
        "    for epoch in range(num_epochs):\n",
        "        running_loss = 0.0\n",
        "        for inputs, labels in dataloader:\n",
        "            inputs, labels = inputs.to(device), labels.to(device)\n",
        "            optimizer.zero_grad()\n",
        "            outputs = model(inputs)\n",
        "            loss = criterion(outputs, labels)\n",
        "            loss.backward()\n",
        "            optimizer.step()\n",
        "            running_loss += loss.item() * inputs.size(0)\n",
        "        epoch_loss = running_loss / len(dataloader.dataset)\n",
        "        print(f\"Epoch {epoch + 1}/{num_epochs}, Loss: {epoch_loss:.4f}\")\n",
        "\n",
        "# Example usage:\n",
        "# train_model(vgg, criterion, optimizer, your_dataloader)\n"
      ],
      "metadata": {
        "id": "9Mf4rtlA29Xq"
      },
      "execution_count": 133,
      "outputs": []
    },
    {
      "cell_type": "code",
      "source": [
        "\n",
        "# Example usage:\n",
        "train_model(vgg, criterion, optimizer, combined_dataloader_wo_aug1234)\n"
      ],
      "metadata": {
        "id": "DCeBZalOzl2i",
        "outputId": "a224beaf-144d-40ff-996c-297068a6154b",
        "colab": {
          "base_uri": "https://localhost:8080/",
          "height": 1000
        }
      },
      "execution_count": 134,
      "outputs": [
        {
          "output_type": "error",
          "ename": "RuntimeError",
          "evalue": "mat1 and mat2 shapes cannot be multiplied (512x49 and 25088x4096)",
          "traceback": [
            "\u001b[0;31m---------------------------------------------------------------------------\u001b[0m",
            "\u001b[0;31mRuntimeError\u001b[0m                              Traceback (most recent call last)",
            "\u001b[0;32m<ipython-input-134-f3728191952c>\u001b[0m in \u001b[0;36m<cell line: 2>\u001b[0;34m()\u001b[0m\n\u001b[1;32m      1\u001b[0m \u001b[0;31m# Example usage:\u001b[0m\u001b[0;34m\u001b[0m\u001b[0;34m\u001b[0m\u001b[0m\n\u001b[0;32m----> 2\u001b[0;31m \u001b[0mtrain_model\u001b[0m\u001b[0;34m(\u001b[0m\u001b[0mvgg\u001b[0m\u001b[0;34m,\u001b[0m \u001b[0mcriterion\u001b[0m\u001b[0;34m,\u001b[0m \u001b[0moptimizer\u001b[0m\u001b[0;34m,\u001b[0m \u001b[0mcombined_dataloader_wo_aug1234\u001b[0m\u001b[0;34m)\u001b[0m\u001b[0;34m\u001b[0m\u001b[0;34m\u001b[0m\u001b[0m\n\u001b[0m",
            "\u001b[0;32m<ipython-input-133-85694ffcbc0e>\u001b[0m in \u001b[0;36mtrain_model\u001b[0;34m(model, criterion, optimizer, dataloader, num_epochs)\u001b[0m\n\u001b[1;32m     38\u001b[0m             \u001b[0minputs\u001b[0m\u001b[0;34m,\u001b[0m \u001b[0mlabels\u001b[0m \u001b[0;34m=\u001b[0m \u001b[0minputs\u001b[0m\u001b[0;34m.\u001b[0m\u001b[0mto\u001b[0m\u001b[0;34m(\u001b[0m\u001b[0mdevice\u001b[0m\u001b[0;34m)\u001b[0m\u001b[0;34m,\u001b[0m \u001b[0mlabels\u001b[0m\u001b[0;34m.\u001b[0m\u001b[0mto\u001b[0m\u001b[0;34m(\u001b[0m\u001b[0mdevice\u001b[0m\u001b[0;34m)\u001b[0m\u001b[0;34m\u001b[0m\u001b[0;34m\u001b[0m\u001b[0m\n\u001b[1;32m     39\u001b[0m             \u001b[0moptimizer\u001b[0m\u001b[0;34m.\u001b[0m\u001b[0mzero_grad\u001b[0m\u001b[0;34m(\u001b[0m\u001b[0;34m)\u001b[0m\u001b[0;34m\u001b[0m\u001b[0;34m\u001b[0m\u001b[0m\n\u001b[0;32m---> 40\u001b[0;31m             \u001b[0moutputs\u001b[0m \u001b[0;34m=\u001b[0m \u001b[0mmodel\u001b[0m\u001b[0;34m(\u001b[0m\u001b[0minputs\u001b[0m\u001b[0;34m)\u001b[0m\u001b[0;34m\u001b[0m\u001b[0;34m\u001b[0m\u001b[0m\n\u001b[0m\u001b[1;32m     41\u001b[0m             \u001b[0mloss\u001b[0m \u001b[0;34m=\u001b[0m \u001b[0mcriterion\u001b[0m\u001b[0;34m(\u001b[0m\u001b[0moutputs\u001b[0m\u001b[0;34m,\u001b[0m \u001b[0mlabels\u001b[0m\u001b[0;34m)\u001b[0m\u001b[0;34m\u001b[0m\u001b[0;34m\u001b[0m\u001b[0m\n\u001b[1;32m     42\u001b[0m             \u001b[0mloss\u001b[0m\u001b[0;34m.\u001b[0m\u001b[0mbackward\u001b[0m\u001b[0;34m(\u001b[0m\u001b[0;34m)\u001b[0m\u001b[0;34m\u001b[0m\u001b[0;34m\u001b[0m\u001b[0m\n",
            "\u001b[0;32m/usr/local/lib/python3.10/dist-packages/torch/nn/modules/module.py\u001b[0m in \u001b[0;36m_wrapped_call_impl\u001b[0;34m(self, *args, **kwargs)\u001b[0m\n\u001b[1;32m   1509\u001b[0m             \u001b[0;32mreturn\u001b[0m \u001b[0mself\u001b[0m\u001b[0;34m.\u001b[0m\u001b[0m_compiled_call_impl\u001b[0m\u001b[0;34m(\u001b[0m\u001b[0;34m*\u001b[0m\u001b[0margs\u001b[0m\u001b[0;34m,\u001b[0m \u001b[0;34m**\u001b[0m\u001b[0mkwargs\u001b[0m\u001b[0;34m)\u001b[0m  \u001b[0;31m# type: ignore[misc]\u001b[0m\u001b[0;34m\u001b[0m\u001b[0;34m\u001b[0m\u001b[0m\n\u001b[1;32m   1510\u001b[0m         \u001b[0;32melse\u001b[0m\u001b[0;34m:\u001b[0m\u001b[0;34m\u001b[0m\u001b[0;34m\u001b[0m\u001b[0m\n\u001b[0;32m-> 1511\u001b[0;31m             \u001b[0;32mreturn\u001b[0m \u001b[0mself\u001b[0m\u001b[0;34m.\u001b[0m\u001b[0m_call_impl\u001b[0m\u001b[0;34m(\u001b[0m\u001b[0;34m*\u001b[0m\u001b[0margs\u001b[0m\u001b[0;34m,\u001b[0m \u001b[0;34m**\u001b[0m\u001b[0mkwargs\u001b[0m\u001b[0;34m)\u001b[0m\u001b[0;34m\u001b[0m\u001b[0;34m\u001b[0m\u001b[0m\n\u001b[0m\u001b[1;32m   1512\u001b[0m \u001b[0;34m\u001b[0m\u001b[0m\n\u001b[1;32m   1513\u001b[0m     \u001b[0;32mdef\u001b[0m \u001b[0m_call_impl\u001b[0m\u001b[0;34m(\u001b[0m\u001b[0mself\u001b[0m\u001b[0;34m,\u001b[0m \u001b[0;34m*\u001b[0m\u001b[0margs\u001b[0m\u001b[0;34m,\u001b[0m \u001b[0;34m**\u001b[0m\u001b[0mkwargs\u001b[0m\u001b[0;34m)\u001b[0m\u001b[0;34m:\u001b[0m\u001b[0;34m\u001b[0m\u001b[0;34m\u001b[0m\u001b[0m\n",
            "\u001b[0;32m/usr/local/lib/python3.10/dist-packages/torch/nn/modules/module.py\u001b[0m in \u001b[0;36m_call_impl\u001b[0;34m(self, *args, **kwargs)\u001b[0m\n\u001b[1;32m   1518\u001b[0m                 \u001b[0;32mor\u001b[0m \u001b[0m_global_backward_pre_hooks\u001b[0m \u001b[0;32mor\u001b[0m \u001b[0m_global_backward_hooks\u001b[0m\u001b[0;34m\u001b[0m\u001b[0;34m\u001b[0m\u001b[0m\n\u001b[1;32m   1519\u001b[0m                 or _global_forward_hooks or _global_forward_pre_hooks):\n\u001b[0;32m-> 1520\u001b[0;31m             \u001b[0;32mreturn\u001b[0m \u001b[0mforward_call\u001b[0m\u001b[0;34m(\u001b[0m\u001b[0;34m*\u001b[0m\u001b[0margs\u001b[0m\u001b[0;34m,\u001b[0m \u001b[0;34m**\u001b[0m\u001b[0mkwargs\u001b[0m\u001b[0;34m)\u001b[0m\u001b[0;34m\u001b[0m\u001b[0;34m\u001b[0m\u001b[0m\n\u001b[0m\u001b[1;32m   1521\u001b[0m \u001b[0;34m\u001b[0m\u001b[0m\n\u001b[1;32m   1522\u001b[0m         \u001b[0;32mtry\u001b[0m\u001b[0;34m:\u001b[0m\u001b[0;34m\u001b[0m\u001b[0;34m\u001b[0m\u001b[0m\n",
            "\u001b[0;32m/usr/local/lib/python3.10/dist-packages/torchvision/models/vgg.py\u001b[0m in \u001b[0;36mforward\u001b[0;34m(self, x)\u001b[0m\n\u001b[1;32m     67\u001b[0m         \u001b[0mx\u001b[0m \u001b[0;34m=\u001b[0m \u001b[0mself\u001b[0m\u001b[0;34m.\u001b[0m\u001b[0mavgpool\u001b[0m\u001b[0;34m(\u001b[0m\u001b[0mx\u001b[0m\u001b[0;34m)\u001b[0m\u001b[0;34m\u001b[0m\u001b[0;34m\u001b[0m\u001b[0m\n\u001b[1;32m     68\u001b[0m         \u001b[0mx\u001b[0m \u001b[0;34m=\u001b[0m \u001b[0mtorch\u001b[0m\u001b[0;34m.\u001b[0m\u001b[0mflatten\u001b[0m\u001b[0;34m(\u001b[0m\u001b[0mx\u001b[0m\u001b[0;34m,\u001b[0m \u001b[0;36m1\u001b[0m\u001b[0;34m)\u001b[0m\u001b[0;34m\u001b[0m\u001b[0;34m\u001b[0m\u001b[0m\n\u001b[0;32m---> 69\u001b[0;31m         \u001b[0mx\u001b[0m \u001b[0;34m=\u001b[0m \u001b[0mself\u001b[0m\u001b[0;34m.\u001b[0m\u001b[0mclassifier\u001b[0m\u001b[0;34m(\u001b[0m\u001b[0mx\u001b[0m\u001b[0;34m)\u001b[0m\u001b[0;34m\u001b[0m\u001b[0;34m\u001b[0m\u001b[0m\n\u001b[0m\u001b[1;32m     70\u001b[0m         \u001b[0;32mreturn\u001b[0m \u001b[0mx\u001b[0m\u001b[0;34m\u001b[0m\u001b[0;34m\u001b[0m\u001b[0m\n\u001b[1;32m     71\u001b[0m \u001b[0;34m\u001b[0m\u001b[0m\n",
            "\u001b[0;32m/usr/local/lib/python3.10/dist-packages/torch/nn/modules/module.py\u001b[0m in \u001b[0;36m_wrapped_call_impl\u001b[0;34m(self, *args, **kwargs)\u001b[0m\n\u001b[1;32m   1509\u001b[0m             \u001b[0;32mreturn\u001b[0m \u001b[0mself\u001b[0m\u001b[0;34m.\u001b[0m\u001b[0m_compiled_call_impl\u001b[0m\u001b[0;34m(\u001b[0m\u001b[0;34m*\u001b[0m\u001b[0margs\u001b[0m\u001b[0;34m,\u001b[0m \u001b[0;34m**\u001b[0m\u001b[0mkwargs\u001b[0m\u001b[0;34m)\u001b[0m  \u001b[0;31m# type: ignore[misc]\u001b[0m\u001b[0;34m\u001b[0m\u001b[0;34m\u001b[0m\u001b[0m\n\u001b[1;32m   1510\u001b[0m         \u001b[0;32melse\u001b[0m\u001b[0;34m:\u001b[0m\u001b[0;34m\u001b[0m\u001b[0;34m\u001b[0m\u001b[0m\n\u001b[0;32m-> 1511\u001b[0;31m             \u001b[0;32mreturn\u001b[0m \u001b[0mself\u001b[0m\u001b[0;34m.\u001b[0m\u001b[0m_call_impl\u001b[0m\u001b[0;34m(\u001b[0m\u001b[0;34m*\u001b[0m\u001b[0margs\u001b[0m\u001b[0;34m,\u001b[0m \u001b[0;34m**\u001b[0m\u001b[0mkwargs\u001b[0m\u001b[0;34m)\u001b[0m\u001b[0;34m\u001b[0m\u001b[0;34m\u001b[0m\u001b[0m\n\u001b[0m\u001b[1;32m   1512\u001b[0m \u001b[0;34m\u001b[0m\u001b[0m\n\u001b[1;32m   1513\u001b[0m     \u001b[0;32mdef\u001b[0m \u001b[0m_call_impl\u001b[0m\u001b[0;34m(\u001b[0m\u001b[0mself\u001b[0m\u001b[0;34m,\u001b[0m \u001b[0;34m*\u001b[0m\u001b[0margs\u001b[0m\u001b[0;34m,\u001b[0m \u001b[0;34m**\u001b[0m\u001b[0mkwargs\u001b[0m\u001b[0;34m)\u001b[0m\u001b[0;34m:\u001b[0m\u001b[0;34m\u001b[0m\u001b[0;34m\u001b[0m\u001b[0m\n",
            "\u001b[0;32m/usr/local/lib/python3.10/dist-packages/torch/nn/modules/module.py\u001b[0m in \u001b[0;36m_call_impl\u001b[0;34m(self, *args, **kwargs)\u001b[0m\n\u001b[1;32m   1518\u001b[0m                 \u001b[0;32mor\u001b[0m \u001b[0m_global_backward_pre_hooks\u001b[0m \u001b[0;32mor\u001b[0m \u001b[0m_global_backward_hooks\u001b[0m\u001b[0;34m\u001b[0m\u001b[0;34m\u001b[0m\u001b[0m\n\u001b[1;32m   1519\u001b[0m                 or _global_forward_hooks or _global_forward_pre_hooks):\n\u001b[0;32m-> 1520\u001b[0;31m             \u001b[0;32mreturn\u001b[0m \u001b[0mforward_call\u001b[0m\u001b[0;34m(\u001b[0m\u001b[0;34m*\u001b[0m\u001b[0margs\u001b[0m\u001b[0;34m,\u001b[0m \u001b[0;34m**\u001b[0m\u001b[0mkwargs\u001b[0m\u001b[0;34m)\u001b[0m\u001b[0;34m\u001b[0m\u001b[0;34m\u001b[0m\u001b[0m\n\u001b[0m\u001b[1;32m   1521\u001b[0m \u001b[0;34m\u001b[0m\u001b[0m\n\u001b[1;32m   1522\u001b[0m         \u001b[0;32mtry\u001b[0m\u001b[0;34m:\u001b[0m\u001b[0;34m\u001b[0m\u001b[0;34m\u001b[0m\u001b[0m\n",
            "\u001b[0;32m/usr/local/lib/python3.10/dist-packages/torch/nn/modules/container.py\u001b[0m in \u001b[0;36mforward\u001b[0;34m(self, input)\u001b[0m\n\u001b[1;32m    215\u001b[0m     \u001b[0;32mdef\u001b[0m \u001b[0mforward\u001b[0m\u001b[0;34m(\u001b[0m\u001b[0mself\u001b[0m\u001b[0;34m,\u001b[0m \u001b[0minput\u001b[0m\u001b[0;34m)\u001b[0m\u001b[0;34m:\u001b[0m\u001b[0;34m\u001b[0m\u001b[0;34m\u001b[0m\u001b[0m\n\u001b[1;32m    216\u001b[0m         \u001b[0;32mfor\u001b[0m \u001b[0mmodule\u001b[0m \u001b[0;32min\u001b[0m \u001b[0mself\u001b[0m\u001b[0;34m:\u001b[0m\u001b[0;34m\u001b[0m\u001b[0;34m\u001b[0m\u001b[0m\n\u001b[0;32m--> 217\u001b[0;31m             \u001b[0minput\u001b[0m \u001b[0;34m=\u001b[0m \u001b[0mmodule\u001b[0m\u001b[0;34m(\u001b[0m\u001b[0minput\u001b[0m\u001b[0;34m)\u001b[0m\u001b[0;34m\u001b[0m\u001b[0;34m\u001b[0m\u001b[0m\n\u001b[0m\u001b[1;32m    218\u001b[0m         \u001b[0;32mreturn\u001b[0m \u001b[0minput\u001b[0m\u001b[0;34m\u001b[0m\u001b[0;34m\u001b[0m\u001b[0m\n\u001b[1;32m    219\u001b[0m \u001b[0;34m\u001b[0m\u001b[0m\n",
            "\u001b[0;32m/usr/local/lib/python3.10/dist-packages/torch/nn/modules/module.py\u001b[0m in \u001b[0;36m_wrapped_call_impl\u001b[0;34m(self, *args, **kwargs)\u001b[0m\n\u001b[1;32m   1509\u001b[0m             \u001b[0;32mreturn\u001b[0m \u001b[0mself\u001b[0m\u001b[0;34m.\u001b[0m\u001b[0m_compiled_call_impl\u001b[0m\u001b[0;34m(\u001b[0m\u001b[0;34m*\u001b[0m\u001b[0margs\u001b[0m\u001b[0;34m,\u001b[0m \u001b[0;34m**\u001b[0m\u001b[0mkwargs\u001b[0m\u001b[0;34m)\u001b[0m  \u001b[0;31m# type: ignore[misc]\u001b[0m\u001b[0;34m\u001b[0m\u001b[0;34m\u001b[0m\u001b[0m\n\u001b[1;32m   1510\u001b[0m         \u001b[0;32melse\u001b[0m\u001b[0;34m:\u001b[0m\u001b[0;34m\u001b[0m\u001b[0;34m\u001b[0m\u001b[0m\n\u001b[0;32m-> 1511\u001b[0;31m             \u001b[0;32mreturn\u001b[0m \u001b[0mself\u001b[0m\u001b[0;34m.\u001b[0m\u001b[0m_call_impl\u001b[0m\u001b[0;34m(\u001b[0m\u001b[0;34m*\u001b[0m\u001b[0margs\u001b[0m\u001b[0;34m,\u001b[0m \u001b[0;34m**\u001b[0m\u001b[0mkwargs\u001b[0m\u001b[0;34m)\u001b[0m\u001b[0;34m\u001b[0m\u001b[0;34m\u001b[0m\u001b[0m\n\u001b[0m\u001b[1;32m   1512\u001b[0m \u001b[0;34m\u001b[0m\u001b[0m\n\u001b[1;32m   1513\u001b[0m     \u001b[0;32mdef\u001b[0m \u001b[0m_call_impl\u001b[0m\u001b[0;34m(\u001b[0m\u001b[0mself\u001b[0m\u001b[0;34m,\u001b[0m \u001b[0;34m*\u001b[0m\u001b[0margs\u001b[0m\u001b[0;34m,\u001b[0m \u001b[0;34m**\u001b[0m\u001b[0mkwargs\u001b[0m\u001b[0;34m)\u001b[0m\u001b[0;34m:\u001b[0m\u001b[0;34m\u001b[0m\u001b[0;34m\u001b[0m\u001b[0m\n",
            "\u001b[0;32m/usr/local/lib/python3.10/dist-packages/torch/nn/modules/module.py\u001b[0m in \u001b[0;36m_call_impl\u001b[0;34m(self, *args, **kwargs)\u001b[0m\n\u001b[1;32m   1518\u001b[0m                 \u001b[0;32mor\u001b[0m \u001b[0m_global_backward_pre_hooks\u001b[0m \u001b[0;32mor\u001b[0m \u001b[0m_global_backward_hooks\u001b[0m\u001b[0;34m\u001b[0m\u001b[0;34m\u001b[0m\u001b[0m\n\u001b[1;32m   1519\u001b[0m                 or _global_forward_hooks or _global_forward_pre_hooks):\n\u001b[0;32m-> 1520\u001b[0;31m             \u001b[0;32mreturn\u001b[0m \u001b[0mforward_call\u001b[0m\u001b[0;34m(\u001b[0m\u001b[0;34m*\u001b[0m\u001b[0margs\u001b[0m\u001b[0;34m,\u001b[0m \u001b[0;34m**\u001b[0m\u001b[0mkwargs\u001b[0m\u001b[0;34m)\u001b[0m\u001b[0;34m\u001b[0m\u001b[0;34m\u001b[0m\u001b[0m\n\u001b[0m\u001b[1;32m   1521\u001b[0m \u001b[0;34m\u001b[0m\u001b[0m\n\u001b[1;32m   1522\u001b[0m         \u001b[0;32mtry\u001b[0m\u001b[0;34m:\u001b[0m\u001b[0;34m\u001b[0m\u001b[0;34m\u001b[0m\u001b[0m\n",
            "\u001b[0;32m/usr/local/lib/python3.10/dist-packages/torch/nn/modules/linear.py\u001b[0m in \u001b[0;36mforward\u001b[0;34m(self, input)\u001b[0m\n\u001b[1;32m    114\u001b[0m \u001b[0;34m\u001b[0m\u001b[0m\n\u001b[1;32m    115\u001b[0m     \u001b[0;32mdef\u001b[0m \u001b[0mforward\u001b[0m\u001b[0;34m(\u001b[0m\u001b[0mself\u001b[0m\u001b[0;34m,\u001b[0m \u001b[0minput\u001b[0m\u001b[0;34m:\u001b[0m \u001b[0mTensor\u001b[0m\u001b[0;34m)\u001b[0m \u001b[0;34m->\u001b[0m \u001b[0mTensor\u001b[0m\u001b[0;34m:\u001b[0m\u001b[0;34m\u001b[0m\u001b[0;34m\u001b[0m\u001b[0m\n\u001b[0;32m--> 116\u001b[0;31m         \u001b[0;32mreturn\u001b[0m \u001b[0mF\u001b[0m\u001b[0;34m.\u001b[0m\u001b[0mlinear\u001b[0m\u001b[0;34m(\u001b[0m\u001b[0minput\u001b[0m\u001b[0;34m,\u001b[0m \u001b[0mself\u001b[0m\u001b[0;34m.\u001b[0m\u001b[0mweight\u001b[0m\u001b[0;34m,\u001b[0m \u001b[0mself\u001b[0m\u001b[0;34m.\u001b[0m\u001b[0mbias\u001b[0m\u001b[0;34m)\u001b[0m\u001b[0;34m\u001b[0m\u001b[0;34m\u001b[0m\u001b[0m\n\u001b[0m\u001b[1;32m    117\u001b[0m \u001b[0;34m\u001b[0m\u001b[0m\n\u001b[1;32m    118\u001b[0m     \u001b[0;32mdef\u001b[0m \u001b[0mextra_repr\u001b[0m\u001b[0;34m(\u001b[0m\u001b[0mself\u001b[0m\u001b[0;34m)\u001b[0m \u001b[0;34m->\u001b[0m \u001b[0mstr\u001b[0m\u001b[0;34m:\u001b[0m\u001b[0;34m\u001b[0m\u001b[0;34m\u001b[0m\u001b[0m\n",
            "\u001b[0;31mRuntimeError\u001b[0m: mat1 and mat2 shapes cannot be multiplied (512x49 and 25088x4096)"
          ]
        }
      ]
    },
    {
      "cell_type": "markdown",
      "source": [
        "### Ideas"
      ],
      "metadata": {
        "id": "R-8REi45byxk"
      }
    },
    {
      "cell_type": "markdown",
      "source": [
        "TO-DO List:\n",
        "1. Print class attribution maps\n",
        "2. Transfer learning in FCNN\n",
        "3. Check for CNN"
      ],
      "metadata": {
        "id": "rd1FmfDnyyK_"
      }
    }
  ]
}