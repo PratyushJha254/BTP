{
  "nbformat": 4,
  "nbformat_minor": 0,
  "metadata": {
    "colab": {
      "provenance": [],
      "gpuType": "T4",
      "include_colab_link": true
    },
    "kernelspec": {
      "name": "python3",
      "display_name": "Python 3"
    },
    "language_info": {
      "name": "python"
    },
    "accelerator": "GPU"
  },
  "cells": [
    {
      "cell_type": "markdown",
      "metadata": {
        "id": "view-in-github",
        "colab_type": "text"
      },
      "source": [
        "<a href=\"https://colab.research.google.com/github/PratyushJha254/BTP/blob/main/TransferLearning_in_NNN_plus2.ipynb\" target=\"_parent\"><img src=\"https://colab.research.google.com/assets/colab-badge.svg\" alt=\"Open In Colab\"/></a>"
      ]
    },
    {
      "cell_type": "markdown",
      "source": [
        "# BTP"
      ],
      "metadata": {
        "id": "P0Bia1WipsUn"
      }
    },
    {
      "cell_type": "code",
      "execution_count": 1,
      "metadata": {
        "id": "CH9ENwKBYeOY"
      },
      "outputs": [],
      "source": [
        "import numpy as np\n",
        "from matplotlib import pyplot as plt\n",
        "import tensorflow as tf\n",
        "from tensorflow import keras\n",
        "from sklearn.model_selection import train_test_split\n",
        "from keras.utils import to_categorical\n",
        "import pickle\n",
        "from sklearn.manifold import TSNE\n",
        "import numpy as np\n",
        "import matplotlib.pyplot as plt\n",
        "import matplotlib.colors as mcol\n",
        "import matplotlib.cm as cm\n",
        "from keras.utils import to_categorical\n",
        "import keras.layers as layers\n",
        "from keras import Sequential\n",
        "from numba import jit\n",
        "\n",
        "import numpy as np\n",
        "import torch\n",
        "import torch.nn as nn\n",
        "import torch.optim as optim\n",
        "from torch.utils.data import Dataset, DataLoader\n",
        "import torchvision.utils as vutils\n",
        "import matplotlib.pyplot as plt\n",
        "import sys\n",
        "from torch.autograd import Variable\n",
        "from torch.autograd import grad as torch_grad\n",
        "import seaborn as sns\n"
      ]
    },
    {
      "cell_type": "code",
      "source": [
        "nu_G = 10\n",
        "Ny = 64\n",
        "Nx = 64\n",
        "nc = 1\n",
        "nz = 100\n",
        "ngf = 64\n",
        "ndf = 64\n",
        "num_epochs = 50\n",
        "lr = 0.001\n",
        "beta1 = 0.5\n",
        "ngpu = 1\n",
        "N = Ny * Nx\n",
        "device = torch.device('cuda:0' if (torch.cuda.is_available() and ngpu > 0) else 'cpu')"
      ],
      "metadata": {
        "id": "G0UzsRA7hLJk"
      },
      "execution_count": 2,
      "outputs": []
    },
    {
      "cell_type": "markdown",
      "source": [
        "### Model"
      ],
      "metadata": {
        "id": "3A3wbLIJpZjQ"
      }
    },
    {
      "cell_type": "markdown",
      "source": [
        "#### Accuracy, train and test functions"
      ],
      "metadata": {
        "id": "RZDqQL9sqtt5"
      }
    },
    {
      "cell_type": "code",
      "source": [
        "def calculate_accuracy(outputs, labels):\n",
        "    # Threshold the outputs at 0.5 to get binary predictions: below 0.5 becomes 0, above becomes 1\n",
        "    predicted = (outputs > 0.5).float()\n",
        "\n",
        "    # The labels need to have the same dimensions as the predictions for comparison\n",
        "    # Assuming labels are already in the correct shape (batch_size, 1) or (batch_size,)\n",
        "    # If not, you might need to adjust labels' shape, e.g., labels = labels.view(-1, 1)\n",
        "\n",
        "    # Calculate the number of correct predictions\n",
        "    correct = (predicted == labels).float().sum().item()/2\n",
        "\n",
        "    # Calculate the total number of labels (which is also the batch size)\n",
        "    total = labels.size(0)\n",
        "\n",
        "    # Calculate accuracy as the percentage of correct predictions\n",
        "    accuracy = correct / total\n",
        "    return accuracy\n"
      ],
      "metadata": {
        "id": "hOTDhh6OcgX9"
      },
      "execution_count": 3,
      "outputs": []
    },
    {
      "cell_type": "code",
      "source": [
        "def train(model, num_epochs, criterion, optimizer, train_dataloader):\n",
        "  model.train()\n",
        "  for epoch in range(num_epochs):\n",
        "    for i, (x, label) in enumerate(train_dataloader):\n",
        "      x = x.to(device).float()\n",
        "      label = label.to(device).float()\n",
        "      b_size = x.size(0)\n",
        "      model.zero_grad()\n",
        "      output = model(x)\n",
        "      # if(epoch==0 and i==0):\n",
        "      #   print(output)\n",
        "      error = criterion(output, label)\n",
        "      error.backward()\n",
        "      optimizer.step()\n",
        "      acc_train = calculate_accuracy(output, label)\n",
        "      if i % 20 == 0:\n",
        "        print('Loss:', error.item(),',Train accuracy:', acc_train)"
      ],
      "metadata": {
        "id": "nOqtvmF4R72B"
      },
      "execution_count": 80,
      "outputs": []
    },
    {
      "cell_type": "code",
      "source": [
        "def test(model, criterion, test_dataloader):\n",
        "    for i, (x, label) in enumerate(test_dataloader):\n",
        "      x = x.to(device).float()\n",
        "      label = label.to(device).float()\n",
        "      output = model(x)\n",
        "      error = criterion(output, label)\n",
        "      acc_train = calculate_accuracy(output, label)\n",
        "      # if i % 20 == 0:\n",
        "      print(i,':: Loss:', error.item(),',Test accuracy:', acc_train)"
      ],
      "metadata": {
        "id": "lkWQ7iweqBZ9"
      },
      "execution_count": 5,
      "outputs": []
    },
    {
      "cell_type": "code",
      "source": [
        "def get_predictions(test_loader, model):\n",
        "    # Assuming `test_loader` is your DataLoader for the test dataset\n",
        "    # Initialize lists to store predictions for each class\n",
        "    predictions_class_1 = []\n",
        "    predictions_class_2 = []\n",
        "\n",
        "    with torch.no_grad():  # Disable gradient tracking during inference\n",
        "        for inputs, _ in test_loader:\n",
        "            inputs = inputs.to(device).float()  # Move inputs to the device (e.g., GPU)\n",
        "            outputs = model(inputs)  # Forward pass to get predictions\n",
        "\n",
        "            # Assuming the output is softmax probabilities\n",
        "            # Separate the probabilities for class-1 and class-2\n",
        "            class_1_probs = outputs[:, 0].cpu().numpy()  # Probabilities for class-1\n",
        "            class_2_probs = outputs[:, 1].cpu().numpy()  # Probabilities for class-2\n",
        "\n",
        "            predictions_class_1.extend(class_1_probs)\n",
        "            predictions_class_2.extend(class_2_probs)\n",
        "\n",
        "    # `predictions_class_1` contains the probabilities for class-1 for all test samples\n",
        "    # `predictions_class_2` contains the probabilities for class-2 for all test samples\n",
        "    # You can further process or save these predictions as needed\n",
        "    return predictions_class_1, predictions_class_2\n"
      ],
      "metadata": {
        "id": "RZQwaexTynZw"
      },
      "execution_count": 6,
      "outputs": []
    },
    {
      "cell_type": "code",
      "source": [
        "def get_predictions_np(input_matrix, model, device):\n",
        "    # Convert numpy matrix to PyTorch tensor\n",
        "    inputs = torch.tensor(input_matrix).to(device).float()\n",
        "\n",
        "    # Forward pass to get predictions\n",
        "    with torch.no_grad():  # Disable gradient tracking during inference\n",
        "        outputs = model(inputs)  # Forward pass to get predictions\n",
        "\n",
        "        # Assuming the output is softmax probabilities\n",
        "        # Separate the probabilities for class-1 and class-2\n",
        "        class_1_probs = outputs[:, 0].cpu().numpy()  # Probabilities for class-1\n",
        "        class_2_probs = outputs[:, 1].cpu().numpy()  # Probabilities for class-2\n",
        "\n",
        "    # `class_1_probs` contains the probabilities for class-1 for all samples\n",
        "    # `class_2_probs` contains the probabilities for class-2 for all samples\n",
        "    # You can further process or save these predictions as needed\n",
        "    return class_1_probs, class_2_probs\n"
      ],
      "metadata": {
        "id": "VKMyp3Tf8a6L"
      },
      "execution_count": 7,
      "outputs": []
    },
    {
      "cell_type": "markdown",
      "source": [
        "#### File loaders"
      ],
      "metadata": {
        "id": "o4VE9sWbq1Bt"
      }
    },
    {
      "cell_type": "code",
      "source": [
        "import torch\n",
        "from torch.utils.data import DataLoader, ConcatDataset\n",
        "from torchvision import transforms\n",
        "\n",
        "# Define a function to generate rotated data\n",
        "def rotate_data(X):\n",
        "    rotated_X = torch.rot90(X, k=1, dims=(0, 1))  # Rotate data by 90 degrees clockwise\n",
        "    return rotated_X\n",
        "\n",
        "# Modify the dataset to include both original and rotated data\n",
        "def create_combined_dataset_with_augmentation(original_dataset):\n",
        "    combined_dataset = []\n",
        "    for X, Y in original_dataset:\n",
        "        rotated_X = rotate_data(X)\n",
        "        combined_dataset.append((X, Y))  # Add original data\n",
        "        combined_dataset.append((rotated_X, Y))  # Add rotated data\n",
        "    return combined_dataset"
      ],
      "metadata": {
        "id": "uvH1pCvm3VmY"
      },
      "execution_count": 130,
      "outputs": []
    },
    {
      "cell_type": "code",
      "source": [
        "def create_combined_dataset(dataset1, dataset2):\n",
        "    combined_dataset = []\n",
        "    for X, Y in dataset1:\n",
        "        combined_dataset.append((X, Y))  # Add original data\n",
        "    for X, Y in dataset2:\n",
        "        combined_dataset.append((X, Y))  # Add original data\n",
        "    return combined_dataset"
      ],
      "metadata": {
        "id": "99GN9mgJGROc"
      },
      "execution_count": 128,
      "outputs": []
    },
    {
      "cell_type": "code",
      "execution_count": 8,
      "metadata": {
        "id": "Wwq4a69qZ5eb"
      },
      "outputs": [],
      "source": [
        "def file_loader(file_name, Tc = 2.27):\n",
        "    data = np.load(file_name)\n",
        "    X = data['X']\n",
        "    y = data['y']\n",
        "    X_train, X_test, Y_train, Y_test = train_test_split(X, y, test_size=0.15)\n",
        "    Tc = 2.27 # For a square lattice following Ising Model\n",
        "    y_train = Y_train > Tc\n",
        "    y_test = Y_test > Tc\n",
        "    y_train = to_categorical(y_train.astype(int))\n",
        "    y_test = to_categorical(y_test.astype(int))\n",
        "    return X_train, X_test, y_train, y_test, Y_train, Y_test"
      ]
    },
    {
      "cell_type": "code",
      "source": [
        "def full_file_loader(file_name, Tc = 2.27):\n",
        "    data = np.load(file_name)\n",
        "    X = data['X']\n",
        "    Y = data['y']\n",
        "    # Tc = 2.27 # For a square lattice following Ising Model\n",
        "    y = Y > Tc\n",
        "    y = to_categorical(y.astype(int))\n",
        "    return X, y, Y"
      ],
      "metadata": {
        "id": "Fy5Nz7d0SY1C"
      },
      "execution_count": 9,
      "outputs": []
    },
    {
      "cell_type": "markdown",
      "source": [
        "#### Dataset and DataLoader"
      ],
      "metadata": {
        "id": "BSS1i0APqJnU"
      }
    },
    {
      "cell_type": "code",
      "source": [
        "class IsingDataset(Dataset):\n",
        "    def __init__(self, x, y, anti_ferro=False):\n",
        "        self.n_samples = x.shape[0]\n",
        "        self.x = torch.tensor(torch.from_numpy(x))\n",
        "        self.y = torch.tensor(torch.from_numpy(y))\n",
        "        self.anti_ferro = anti_ferro\n",
        "\n",
        "    def __getitem__(self, index):\n",
        "        if self.anti_ferro:\n",
        "            x_transformed = self._apply_anti_ferro(self.x[index])\n",
        "            return x_transformed, self.y[index]\n",
        "        else:\n",
        "            return self.x[index], self.y[index]\n",
        "\n",
        "    def __len__(self):\n",
        "        return self.n_samples\n",
        "\n",
        "    def _apply_anti_ferro(self, x):\n",
        "        # Apply anti-ferromagnetic transformation\n",
        "        return (-1) ** torch.arange(x.size(0)).unsqueeze(1) + (-1) ** torch.arange(x.size(1))\n",
        "\n",
        "# # Example usage\n",
        "# x = ...  # Your input data\n",
        "# y = ...  # Your target labels\n",
        "# anti_ferro = True  # Set to True to apply the anti-ferromagnetic transformation\n",
        "# dataset = IsingDataset(x, y, anti_ferro=anti_ferro)\n"
      ],
      "metadata": {
        "id": "OvGVpjWwJi8J"
      },
      "execution_count": 10,
      "outputs": []
    },
    {
      "cell_type": "code",
      "source": [
        "import torch\n",
        "from torch.utils.data import DataLoader\n",
        "\n",
        "# Assuming you have a DataLoader named original_dataloader\n",
        "# Define a new DataLoader class to subset the original DataLoader\n",
        "class SubsetDataLoader(DataLoader):\n",
        "    def __init__(self, dataloader, num_batches):\n",
        "        super(SubsetDataLoader, self).__init__(dataloader.dataset, batch_size=dataloader.batch_size)\n",
        "        self.dataloader = dataloader\n",
        "        self.num_batches = num_batches\n",
        "        self.current_batch = 0\n",
        "\n",
        "    def __iter__(self):\n",
        "        self.current_batch = 0\n",
        "        self.dataloader_iter = iter(self.dataloader)\n",
        "        return self\n",
        "\n",
        "    def __next__(self):\n",
        "        if self.current_batch >= self.num_batches:\n",
        "            raise StopIteration\n",
        "        self.current_batch += 1\n",
        "        return next(self.dataloader_iter)"
      ],
      "metadata": {
        "id": "djo-WsfyEF7U"
      },
      "execution_count": 11,
      "outputs": []
    },
    {
      "cell_type": "markdown",
      "source": [
        "Train and test data:"
      ],
      "metadata": {
        "id": "xivu-5krocYa"
      }
    },
    {
      "cell_type": "code",
      "source": [
        "# Anti-ferromagnetic dataset: train and test\n",
        "\n",
        "X_train_anti, X_test_anti, y_train_anti, y_test_anti, Y_train_anti, Y_test_anti = file_loader('data_anti.npz')"
      ],
      "metadata": {
        "id": "puu1oIW8oxg1"
      },
      "execution_count": 12,
      "outputs": []
    },
    {
      "cell_type": "code",
      "source": [
        "training_dataset_anti = IsingDataset(X_train_anti, y_train_anti)\n",
        "testing_dataset_anti = IsingDataset(X_test_anti, y_test_anti)\n",
        "batch_size = 128\n",
        "train_dataloader_anti = DataLoader(dataset = training_dataset_anti, batch_size = batch_size, shuffle = False)\n",
        "test_dataloader_anti = DataLoader(dataset = testing_dataset_anti, batch_size = batch_size, shuffle = False)"
      ],
      "metadata": {
        "colab": {
          "base_uri": "https://localhost:8080/"
        },
        "id": "TWZOcCBUobIc",
        "outputId": "d8fbc36d-04ad-46f1-a4db-f2cf15d08e0d"
      },
      "execution_count": 13,
      "outputs": [
        {
          "output_type": "stream",
          "name": "stderr",
          "text": [
            "<ipython-input-10-2d1bccbc4b53>:4: UserWarning: To copy construct from a tensor, it is recommended to use sourceTensor.clone().detach() or sourceTensor.clone().detach().requires_grad_(True), rather than torch.tensor(sourceTensor).\n",
            "  self.x = torch.tensor(torch.from_numpy(x))\n",
            "<ipython-input-10-2d1bccbc4b53>:5: UserWarning: To copy construct from a tensor, it is recommended to use sourceTensor.clone().detach() or sourceTensor.clone().detach().requires_grad_(True), rather than torch.tensor(sourceTensor).\n",
            "  self.y = torch.tensor(torch.from_numpy(y))\n"
          ]
        }
      ]
    },
    {
      "cell_type": "code",
      "source": [
        "plt.imshow(X_train_anti[30])\n",
        "print(\"Class:\", y_train_anti[30])\n",
        "print(\"Temperature:\", Y_train_anti[30])"
      ],
      "metadata": {
        "colab": {
          "base_uri": "https://localhost:8080/",
          "height": 467
        },
        "id": "6-dJRZvbsGgY",
        "outputId": "d2a7fb9a-dede-4ce9-d994-0f3ffa5c6692"
      },
      "execution_count": 14,
      "outputs": [
        {
          "output_type": "stream",
          "name": "stdout",
          "text": [
            "Class: [0. 1.]\n",
            "Temperature: 2.3\n"
          ]
        },
        {
          "output_type": "display_data",
          "data": {
            "text/plain": [
              "<Figure size 640x480 with 1 Axes>"
            ],
            "image/png": "[encoded data removed]"
          },
          "metadata": {}
        }
      ]
    },
    {
      "cell_type": "markdown",
      "metadata": {
        "id": "Jru3T1Rz1aRh"
      },
      "source": [
        "#### Fully Connected Neural Network"
      ]
    },
    {
      "cell_type": "code",
      "source": [
        "class neural_network(nn.Module):\n",
        "  def __init__(self):\n",
        "    super(neural_network, self).__init__()\n",
        "    self.main = nn.Sequential(\n",
        "        nn.Flatten(start_dim=1,end_dim=-1),\n",
        "        nn.Linear(Nx*Ny, 100),\n",
        "        nn.Sigmoid(),\n",
        "        nn.Linear(100, 2),\n",
        "        nn.Sigmoid()\n",
        "    )\n",
        "  def forward(self, input):\n",
        "      return self.main(input)"
      ],
      "metadata": {
        "id": "0lSfsrZCJ-0V"
      },
      "execution_count": null,
      "outputs": []
    },
    {
      "cell_type": "code",
      "source": [
        "FCNN = neural_network().to(device)\n",
        "criterion_FCNN = nn.BCELoss()\n",
        "optimizer_FCNN = optim.Adam(FCNN.parameters(), lr=lr, betas=(0.9, 0.999))"
      ],
      "metadata": {
        "id": "K-euoH6nSSQP"
      },
      "execution_count": null,
      "outputs": []
    },
    {
      "cell_type": "code",
      "source": [
        "# # Dataset 1, NN -> antiFe, NNN -> Fe\n",
        "# X_anti, y_anti, Y_anti = full_file_loader('data_anti.npz')\n",
        "# dataset_anti = IsingDataset(X_anti, y_anti)\n",
        "# batch_size = 128\n",
        "# dataloader_anti = DataLoader(dataset = dataset_anti, batch_size = batch_size, shuffle = False)"
      ],
      "metadata": {
        "id": "RfdOdKcpGsv4"
      },
      "execution_count": null,
      "outputs": []
    },
    {
      "cell_type": "code",
      "source": [
        "train(FCNN, 10, criterion_FCNN, optimizer_FCNN, train_dataloader_anti)"
      ],
      "metadata": {
        "colab": {
          "base_uri": "https://localhost:8080/"
        },
        "id": "0P0CkZNWp8k0",
        "outputId": "19564bea-21db-49d5-80c7-2c200dc9f679"
      },
      "execution_count": null,
      "outputs": [
        {
          "output_type": "stream",
          "name": "stdout",
          "text": [
            "Loss: 0.694808840751648 ,Train accuracy: 0.6015625\n",
            "Loss: 0.6998928785324097 ,Train accuracy: 0.4765625\n",
            "Loss: 0.6956212520599365 ,Train accuracy: 0.703125\n",
            "Loss: 0.6933309435844421 ,Train accuracy: 0.5390625\n",
            "Loss: 0.6729944348335266 ,Train accuracy: 0.546875\n",
            "Loss: 0.6664677858352661 ,Train accuracy: 0.79296875\n",
            "Loss: 0.7108287215232849 ,Train accuracy: 0.49609375\n",
            "Loss: 0.6884220838546753 ,Train accuracy: 0.75\n",
            "Loss: 0.6801477670669556 ,Train accuracy: 0.57421875\n",
            "Loss: 0.6276676654815674 ,Train accuracy: 0.8671875\n",
            "Loss: 0.6431004405021667 ,Train accuracy: 0.7734375\n",
            "Loss: 0.6468219757080078 ,Train accuracy: 0.75390625\n",
            "Loss: 0.6360934972763062 ,Train accuracy: 0.7890625\n",
            "Loss: 0.601184606552124 ,Train accuracy: 0.8125\n",
            "Loss: 0.566032886505127 ,Train accuracy: 0.8671875\n",
            "Loss: 0.6966426372528076 ,Train accuracy: 0.79296875\n",
            "Loss: 0.6068639159202576 ,Train accuracy: 0.80859375\n",
            "Loss: 0.5976171493530273 ,Train accuracy: 0.8203125\n",
            "Loss: 0.570264995098114 ,Train accuracy: 0.83203125\n",
            "Loss: 0.5279619693756104 ,Train accuracy: 0.796875\n",
            "Loss: 0.5636724829673767 ,Train accuracy: 0.81640625\n",
            "Loss: 0.5221796631813049 ,Train accuracy: 0.859375\n",
            "Loss: 0.4802488088607788 ,Train accuracy: 0.8671875\n",
            "Loss: 0.44180285930633545 ,Train accuracy: 0.89453125\n",
            "Loss: 0.6269868016242981 ,Train accuracy: 0.796875\n",
            "Loss: 0.47137391567230225 ,Train accuracy: 0.875\n",
            "Loss: 0.49112609028816223 ,Train accuracy: 0.86328125\n",
            "Loss: 0.44165870547294617 ,Train accuracy: 0.87890625\n",
            "Loss: 0.36897826194763184 ,Train accuracy: 0.90234375\n",
            "Loss: 0.42659881711006165 ,Train accuracy: 0.875\n",
            "Loss: 0.37995195388793945 ,Train accuracy: 0.87890625\n",
            "Loss: 0.34179431200027466 ,Train accuracy: 0.9140625\n",
            "Loss: 0.3227998614311218 ,Train accuracy: 0.92578125\n",
            "Loss: 0.4922146797180176 ,Train accuracy: 0.8515625\n",
            "Loss: 0.3242245018482208 ,Train accuracy: 0.92578125\n",
            "Loss: 0.3547118306159973 ,Train accuracy: 0.8984375\n",
            "Loss: 0.29217949509620667 ,Train accuracy: 0.9453125\n",
            "Loss: 0.22920536994934082 ,Train accuracy: 0.9609375\n",
            "Loss: 0.26776599884033203 ,Train accuracy: 0.8984375\n",
            "Loss: 0.24032923579216003 ,Train accuracy: 0.94921875\n",
            "Loss: 0.2064826786518097 ,Train accuracy: 0.9609375\n",
            "Loss: 0.1991012990474701 ,Train accuracy: 0.96484375\n",
            "Loss: 0.32160982489585876 ,Train accuracy: 0.91796875\n",
            "Loss: 0.18882489204406738 ,Train accuracy: 0.96875\n",
            "Loss: 0.19641061127185822 ,Train accuracy: 0.9609375\n",
            "Loss: 0.18576395511627197 ,Train accuracy: 0.953125\n",
            "Loss: 0.12857592105865479 ,Train accuracy: 0.97265625\n",
            "Loss: 0.15979322791099548 ,Train accuracy: 0.97265625\n",
            "Loss: 0.13275007903575897 ,Train accuracy: 0.98828125\n",
            "Loss: 0.11412951350212097 ,Train accuracy: 0.98828125\n",
            "Loss: 0.12322948127985 ,Train accuracy: 0.984375\n",
            "Loss: 0.1825394183397293 ,Train accuracy: 0.9609375\n",
            "Loss: 0.09921310842037201 ,Train accuracy: 0.984375\n",
            "Loss: 0.09963170439004898 ,Train accuracy: 0.98828125\n",
            "Loss: 0.10528916120529175 ,Train accuracy: 0.984375\n",
            "Loss: 0.07014623284339905 ,Train accuracy: 1.0\n",
            "Loss: 0.09425726532936096 ,Train accuracy: 0.984375\n",
            "Loss: 0.08386458456516266 ,Train accuracy: 0.9921875\n",
            "Loss: 0.06847625970840454 ,Train accuracy: 1.0\n",
            "Loss: 0.07742321491241455 ,Train accuracy: 0.9921875\n",
            "Loss: 0.10917915403842926 ,Train accuracy: 0.984375\n",
            "Loss: 0.06084713712334633 ,Train accuracy: 0.9921875\n",
            "Loss: 0.0570172443985939 ,Train accuracy: 0.9921875\n",
            "Loss: 0.0689384788274765 ,Train accuracy: 0.9921875\n",
            "Loss: 0.046703025698661804 ,Train accuracy: 0.99609375\n",
            "Loss: 0.04777780920267105 ,Train accuracy: 1.0\n",
            "Loss: 0.05742655694484711 ,Train accuracy: 0.9921875\n",
            "Loss: 0.04579426348209381 ,Train accuracy: 1.0\n",
            "Loss: 0.046251457184553146 ,Train accuracy: 1.0\n",
            "Loss: 0.0568104013800621 ,Train accuracy: 0.9921875\n",
            "Loss: 0.035966381430625916 ,Train accuracy: 1.0\n",
            "Loss: 0.038475438952445984 ,Train accuracy: 1.0\n",
            "Loss: 0.04854930192232132 ,Train accuracy: 0.9921875\n",
            "Loss: 0.031001046299934387 ,Train accuracy: 1.0\n",
            "Loss: 0.030961234122514725 ,Train accuracy: 1.0\n",
            "Loss: 0.04769279062747955 ,Train accuracy: 0.9921875\n",
            "Loss: 0.02779308147728443 ,Train accuracy: 1.0\n",
            "Loss: 0.025199690833687782 ,Train accuracy: 1.0\n",
            "Loss: 0.03818298131227493 ,Train accuracy: 0.99609375\n",
            "Loss: 0.024920454248785973 ,Train accuracy: 1.0\n",
            "Loss: 0.02413669228553772 ,Train accuracy: 1.0\n",
            "Loss: 0.03358534723520279 ,Train accuracy: 0.9921875\n",
            "Loss: 0.01868477649986744 ,Train accuracy: 1.0\n",
            "Loss: 0.019133538007736206 ,Train accuracy: 1.0\n",
            "Loss: 0.02932651713490486 ,Train accuracy: 0.9921875\n",
            "Loss: 0.019059069454669952 ,Train accuracy: 1.0\n",
            "Loss: 0.018792327493429184 ,Train accuracy: 1.0\n",
            "Loss: 0.027678199112415314 ,Train accuracy: 1.0\n",
            "Loss: 0.016014251857995987 ,Train accuracy: 1.0\n",
            "Loss: 0.017899468541145325 ,Train accuracy: 1.0\n"
          ]
        }
      ]
    },
    {
      "cell_type": "code",
      "source": [
        "test(FCNN, criterion_FCNN, test_dataloader_anti)"
      ],
      "metadata": {
        "colab": {
          "base_uri": "https://localhost:8080/"
        },
        "id": "JD4Gw-84HAu-",
        "outputId": "9ac9206b-4d07-4195-f981-044f821d9f34"
      },
      "execution_count": null,
      "outputs": [
        {
          "output_type": "stream",
          "name": "stdout",
          "text": [
            "0 :: Loss: 0.1944330930709839 ,Test accuracy: 0.9296875\n",
            "1 :: Loss: 0.3490474820137024 ,Test accuracy: 0.87890625\n",
            "2 :: Loss: 0.2394697368144989 ,Test accuracy: 0.93359375\n",
            "3 :: Loss: 0.3447885811328888 ,Test accuracy: 0.90625\n",
            "4 :: Loss: 0.3742731213569641 ,Test accuracy: 0.890625\n",
            "5 :: Loss: 0.1726294755935669 ,Test accuracy: 0.9375\n",
            "6 :: Loss: 0.37815940380096436 ,Test accuracy: 0.89453125\n",
            "7 :: Loss: 0.35600364208221436 ,Test accuracy: 0.890625\n",
            "8 :: Loss: 0.22086834907531738 ,Test accuracy: 0.90625\n",
            "9 :: Loss: 0.38123810291290283 ,Test accuracy: 0.875\n",
            "10 :: Loss: 0.22011587023735046 ,Test accuracy: 0.9375\n",
            "11 :: Loss: 0.39048415422439575 ,Test accuracy: 0.8671875\n",
            "12 :: Loss: 0.5222269296646118 ,Test accuracy: 0.8671875\n",
            "13 :: Loss: 0.22922751307487488 ,Test accuracy: 0.91015625\n",
            "14 :: Loss: 0.31962859630584717 ,Test accuracy: 0.875\n",
            "15 :: Loss: 0.3035730719566345 ,Test accuracy: 0.9296875\n",
            "16 :: Loss: 0.4342727065086365 ,Test accuracy: 0.86328125\n",
            "17 :: Loss: 0.3147673010826111 ,Test accuracy: 0.8984375\n",
            "18 :: Loss: 0.17969167232513428 ,Test accuracy: 0.92578125\n",
            "19 :: Loss: 0.2734311521053314 ,Test accuracy: 0.8671875\n",
            "20 :: Loss: 0.32886141538619995 ,Test accuracy: 0.89453125\n",
            "21 :: Loss: 0.3506907820701599 ,Test accuracy: 0.875\n",
            "22 :: Loss: 0.3218614459037781 ,Test accuracy: 0.91796875\n",
            "23 :: Loss: 0.31264400482177734 ,Test accuracy: 0.875\n",
            "24 :: Loss: 0.2927728295326233 ,Test accuracy: 0.8984375\n",
            "25 :: Loss: 0.3218671977519989 ,Test accuracy: 0.87890625\n",
            "26 :: Loss: 0.3200051486492157 ,Test accuracy: 0.88671875\n",
            "27 :: Loss: 0.265186607837677 ,Test accuracy: 0.921875\n",
            "28 :: Loss: 0.18450629711151123 ,Test accuracy: 0.9375\n",
            "29 :: Loss: 0.24362459778785706 ,Test accuracy: 0.9140625\n",
            "30 :: Loss: 0.09636522084474564 ,Test accuracy: 0.9583333333333334\n"
          ]
        }
      ]
    },
    {
      "cell_type": "markdown",
      "source": [
        "#### CNN:"
      ],
      "metadata": {
        "id": "wuEBPp6emlIe"
      }
    },
    {
      "cell_type": "code",
      "source": [
        "import torch\n",
        "import torch.nn as nn\n",
        "import torch.nn.functional as F\n",
        "import matplotlib.pyplot as plt\n",
        "\n",
        "class ConvNet(nn.Module):\n",
        "    def __init__(self, Nx, Ny):\n",
        "        super(ConvNet, self).__init__()\n",
        "        self.conv1 = nn.Conv2d(1, 64, kernel_size=2, padding=0)\n",
        "        self.out_conv1 = self._calculate_output_size((Nx, Ny), kernel_size=2, padding=0)\n",
        "        self.fc1 = nn.Linear(64 * self.out_conv1[0] * self.out_conv1[1], 64)\n",
        "        self.dropout = nn.Dropout(p=0.5)\n",
        "        self.fc2 = nn.Linear(64, 2)\n",
        "        self.flatten = nn.Flatten()\n",
        "\n",
        "    def forward(self, x, return_feature_maps=False):\n",
        "        x = x.view(-1, 1, x.size(1), x.size(2))\n",
        "        x = F.relu(self.conv1(x))\n",
        "        if return_feature_maps:\n",
        "            return x\n",
        "        x = self.flatten(x)\n",
        "        x = F.relu(self.fc1(x))\n",
        "        x = self.dropout(x)\n",
        "        return F.softmax(self.fc2(x), dim=1)\n",
        "\n",
        "    def _calculate_output_size(self, input_size, kernel_size, padding):\n",
        "        out_size = [(input_size[0] - kernel_size + 2 * padding) + 1,\n",
        "                    (input_size[1] - kernel_size + 2 * padding) + 1]\n",
        "        return out_size\n",
        "\n",
        "## Example Usage:\n",
        "# model = ConvNet(40, 40)\n",
        "# x = torch.randn(1, 40, 40)\n",
        "# feature_maps = model(x, return_feature_maps=True)\n",
        "\n",
        "## Plotting the first feature map from the first sample in the batch\n",
        "# plt.imshow(feature_maps[0, 0].detach().numpy(), cmap='gray')\n",
        "# plt.colorbar()\n",
        "# plt.title('Feature Map from Conv1')\n",
        "# plt.show()\n"
      ],
      "metadata": {
        "id": "pRR-FLa7cegZ"
      },
      "execution_count": 15,
      "outputs": []
    },
    {
      "cell_type": "code",
      "source": [
        "CNN = ConvNet(Nx, Ny).to(device)\n",
        "criterion_CNN = nn.BCELoss()\n",
        "optimizer_CNN = optim.Adam(CNN.parameters(), lr=1e-4, betas=(0.9, 0.999))"
      ],
      "metadata": {
        "id": "qiEhnYvsrOcv"
      },
      "execution_count": 16,
      "outputs": []
    },
    {
      "cell_type": "code",
      "source": [
        "train(CNN, 10, criterion_CNN, optimizer_CNN, train_dataloader_anti)"
      ],
      "metadata": {
        "id": "HBQPkd7RsPuA",
        "colab": {
          "base_uri": "https://localhost:8080/"
        },
        "outputId": "3dbd8340-bc39-4cd5-f9a6-2bee3042709e"
      },
      "execution_count": 17,
      "outputs": [
        {
          "output_type": "stream",
          "name": "stdout",
          "text": [
            "Loss: 0.6911834478378296 ,Train accuracy: 0.6015625\n",
            "Loss: 0.0819387286901474 ,Train accuracy: 0.9765625\n",
            "Loss: 0.010372400283813477 ,Train accuracy: 1.0\n",
            "Loss: 0.06475871801376343 ,Train accuracy: 0.9765625\n",
            "Loss: 0.07788801193237305 ,Train accuracy: 0.9765625\n",
            "Loss: 0.04800435155630112 ,Train accuracy: 0.984375\n",
            "Loss: 0.026330027729272842 ,Train accuracy: 0.9921875\n",
            "Loss: 0.04162187501788139 ,Train accuracy: 0.9921875\n",
            "Loss: 0.014439670369029045 ,Train accuracy: 0.9921875\n",
            "Loss: 0.013878967612981796 ,Train accuracy: 1.0\n",
            "Loss: 0.010243971832096577 ,Train accuracy: 1.0\n",
            "Loss: 0.02073645032942295 ,Train accuracy: 0.9921875\n",
            "Loss: 0.037468113005161285 ,Train accuracy: 0.9921875\n",
            "Loss: 0.029499903321266174 ,Train accuracy: 0.9921875\n",
            "Loss: 0.022158564999699593 ,Train accuracy: 0.9921875\n",
            "Loss: 0.013990726321935654 ,Train accuracy: 0.9921875\n",
            "Loss: 0.02375848963856697 ,Train accuracy: 0.9921875\n",
            "Loss: 0.010721063241362572 ,Train accuracy: 1.0\n",
            "Loss: 0.01428645197302103 ,Train accuracy: 1.0\n",
            "Loss: 0.006837991997599602 ,Train accuracy: 1.0\n",
            "Loss: 0.0056989737786352634 ,Train accuracy: 1.0\n",
            "Loss: 0.06402495503425598 ,Train accuracy: 0.9765625\n",
            "Loss: 0.010058308951556683 ,Train accuracy: 1.0\n",
            "Loss: 0.017112335190176964 ,Train accuracy: 0.9921875\n",
            "Loss: 0.015133053064346313 ,Train accuracy: 0.9921875\n",
            "Loss: 0.018225891515612602 ,Train accuracy: 0.9921875\n",
            "Loss: 0.011644558981060982 ,Train accuracy: 0.9921875\n",
            "Loss: 0.01430307887494564 ,Train accuracy: 0.9921875\n",
            "Loss: 0.003679096233099699 ,Train accuracy: 1.0\n",
            "Loss: 0.006453557405620813 ,Train accuracy: 1.0\n",
            "Loss: 0.024596214294433594 ,Train accuracy: 0.9921875\n",
            "Loss: 0.03250553458929062 ,Train accuracy: 0.984375\n",
            "Loss: 0.03588058799505234 ,Train accuracy: 0.984375\n",
            "Loss: 0.011866910383105278 ,Train accuracy: 1.0\n",
            "Loss: 0.02952672354876995 ,Train accuracy: 0.9921875\n",
            "Loss: 0.0087471017614007 ,Train accuracy: 1.0\n",
            "Loss: 0.001796803786419332 ,Train accuracy: 1.0\n",
            "Loss: 0.0035037605557590723 ,Train accuracy: 1.0\n",
            "Loss: 0.0010409096721559763 ,Train accuracy: 1.0\n",
            "Loss: 0.03366877883672714 ,Train accuracy: 0.9765625\n",
            "Loss: 0.023622799664735794 ,Train accuracy: 0.9921875\n",
            "Loss: 0.008942920714616776 ,Train accuracy: 1.0\n",
            "Loss: 0.030736558139324188 ,Train accuracy: 0.984375\n",
            "Loss: 0.02551286481320858 ,Train accuracy: 0.9921875\n",
            "Loss: 0.01569373533129692 ,Train accuracy: 0.9921875\n",
            "Loss: 0.0020413664169609547 ,Train accuracy: 1.0\n",
            "Loss: 0.005245748441666365 ,Train accuracy: 1.0\n",
            "Loss: 0.0013096574693918228 ,Train accuracy: 1.0\n",
            "Loss: 0.01945824921131134 ,Train accuracy: 0.9921875\n",
            "Loss: 0.005376061424612999 ,Train accuracy: 1.0\n",
            "Loss: 0.0029389839619398117 ,Train accuracy: 1.0\n",
            "Loss: 0.004757194314152002 ,Train accuracy: 1.0\n",
            "Loss: 0.02898290753364563 ,Train accuracy: 0.9765625\n",
            "Loss: 0.005189358256757259 ,Train accuracy: 1.0\n",
            "Loss: 0.0017864862456917763 ,Train accuracy: 1.0\n",
            "Loss: 0.0034620859660208225 ,Train accuracy: 1.0\n",
            "Loss: 0.004332399927079678 ,Train accuracy: 1.0\n",
            "Loss: 0.017362935468554497 ,Train accuracy: 0.9921875\n",
            "Loss: 0.007058738265186548 ,Train accuracy: 1.0\n",
            "Loss: 0.01969318278133869 ,Train accuracy: 0.9921875\n",
            "Loss: 0.0008474671631120145 ,Train accuracy: 1.0\n",
            "Loss: 0.008040688931941986 ,Train accuracy: 0.9921875\n",
            "Loss: 0.00702648563310504 ,Train accuracy: 1.0\n",
            "Loss: 0.0017637449782341719 ,Train accuracy: 1.0\n",
            "Loss: 0.0014326050877571106 ,Train accuracy: 1.0\n",
            "Loss: 0.0032240920700132847 ,Train accuracy: 1.0\n",
            "Loss: 0.006861476227641106 ,Train accuracy: 1.0\n",
            "Loss: 0.008855259045958519 ,Train accuracy: 0.9921875\n",
            "Loss: 0.007328657899051905 ,Train accuracy: 1.0\n",
            "Loss: 0.003532318165525794 ,Train accuracy: 1.0\n",
            "Loss: 0.0037757614627480507 ,Train accuracy: 1.0\n",
            "Loss: 0.0035127713344991207 ,Train accuracy: 1.0\n",
            "Loss: 0.0015245297690853477 ,Train accuracy: 1.0\n",
            "Loss: 0.00010222831042483449 ,Train accuracy: 1.0\n",
            "Loss: 0.0011851233430206776 ,Train accuracy: 1.0\n",
            "Loss: 0.0066946130245924 ,Train accuracy: 1.0\n",
            "Loss: 0.0053926147520542145 ,Train accuracy: 1.0\n",
            "Loss: 0.003844665829092264 ,Train accuracy: 1.0\n",
            "Loss: 0.0021732538007199764 ,Train accuracy: 1.0\n",
            "Loss: 0.021001605316996574 ,Train accuracy: 0.984375\n",
            "Loss: 0.013289587572216988 ,Train accuracy: 0.9921875\n",
            "Loss: 0.0013638820964843035 ,Train accuracy: 1.0\n",
            "Loss: 0.0005441129906103015 ,Train accuracy: 1.0\n",
            "Loss: 0.0009305726853199303 ,Train accuracy: 1.0\n",
            "Loss: 0.009267537854611874 ,Train accuracy: 0.9921875\n",
            "Loss: 0.004312588833272457 ,Train accuracy: 1.0\n",
            "Loss: 0.004707224667072296 ,Train accuracy: 1.0\n",
            "Loss: 0.0004048890550620854 ,Train accuracy: 1.0\n",
            "Loss: 0.045433107763528824 ,Train accuracy: 0.984375\n",
            "Loss: 0.0014058975502848625 ,Train accuracy: 1.0\n"
          ]
        }
      ]
    },
    {
      "cell_type": "code",
      "source": [
        "test(CNN, criterion_CNN, test_dataloader_anti)"
      ],
      "metadata": {
        "colab": {
          "base_uri": "https://localhost:8080/"
        },
        "id": "WOSpMELUtN7j",
        "outputId": "0cec2125-398d-4abb-b53f-9941f13a1b0e"
      },
      "execution_count": 18,
      "outputs": [
        {
          "output_type": "stream",
          "name": "stdout",
          "text": [
            "0 :: Loss: 0.07541362196207047 ,Test accuracy: 0.9921875\n",
            "1 :: Loss: 0.05703245848417282 ,Test accuracy: 0.984375\n",
            "2 :: Loss: 0.018215160816907883 ,Test accuracy: 0.9921875\n",
            "3 :: Loss: 0.018244687467813492 ,Test accuracy: 0.9921875\n",
            "4 :: Loss: 0.006369207054376602 ,Test accuracy: 1.0\n",
            "5 :: Loss: 0.012952939607203007 ,Test accuracy: 0.9921875\n",
            "6 :: Loss: 0.04294814541935921 ,Test accuracy: 0.9921875\n",
            "7 :: Loss: 0.025407904759049416 ,Test accuracy: 0.984375\n",
            "8 :: Loss: 0.028592273592948914 ,Test accuracy: 0.9921875\n",
            "9 :: Loss: 0.014981485903263092 ,Test accuracy: 0.9921875\n",
            "10 :: Loss: 0.01785825937986374 ,Test accuracy: 0.9921875\n",
            "11 :: Loss: 0.0019818651489913464 ,Test accuracy: 1.0\n",
            "12 :: Loss: 0.043637197464704514 ,Test accuracy: 0.984375\n",
            "13 :: Loss: 0.05807701498270035 ,Test accuracy: 0.9765625\n",
            "14 :: Loss: 0.0006219490896910429 ,Test accuracy: 1.0\n",
            "15 :: Loss: 0.0022828758228570223 ,Test accuracy: 1.0\n",
            "16 :: Loss: 0.00099460082128644 ,Test accuracy: 1.0\n",
            "17 :: Loss: 0.10039760172367096 ,Test accuracy: 0.9921875\n",
            "18 :: Loss: 0.05723690614104271 ,Test accuracy: 0.984375\n",
            "19 :: Loss: 0.001442712265998125 ,Test accuracy: 1.0\n",
            "20 :: Loss: 0.009011827409267426 ,Test accuracy: 1.0\n",
            "21 :: Loss: 0.0039411988109350204 ,Test accuracy: 1.0\n",
            "22 :: Loss: 0.04286309331655502 ,Test accuracy: 0.9921875\n",
            "23 :: Loss: 0.019269946962594986 ,Test accuracy: 0.9921875\n",
            "24 :: Loss: 0.0025238380767405033 ,Test accuracy: 1.0\n",
            "25 :: Loss: 0.0024422151036560535 ,Test accuracy: 1.0\n",
            "26 :: Loss: 0.01567615196108818 ,Test accuracy: 0.9921875\n",
            "27 :: Loss: 0.47899189591407776 ,Test accuracy: 0.984375\n",
            "28 :: Loss: 0.04083224758505821 ,Test accuracy: 0.9921875\n",
            "29 :: Loss: 0.02301304042339325 ,Test accuracy: 0.984375\n",
            "30 :: Loss: 0.0004504907410591841 ,Test accuracy: 1.0\n"
          ]
        }
      ]
    },
    {
      "cell_type": "code",
      "source": [
        "torch.save(CNN.state_dict(), 'CNN_anti.pth')"
      ],
      "metadata": {
        "id": "lTzY7GrAfB6s"
      },
      "execution_count": 19,
      "outputs": []
    },
    {
      "cell_type": "markdown",
      "source": [
        "### Feature Maps"
      ],
      "metadata": {
        "id": "GfGabH6WdFfA"
      }
    },
    {
      "cell_type": "code",
      "source": [
        "# Example Usage:\n",
        "# model = ConvNet(40, 40)\n",
        "def plot_feature_map(model, x, y, print_data = False):\n",
        "  x = torch.from_numpy(x).unsqueeze(0).float().to(device)\n",
        "  feature_maps = model(x, return_feature_maps=True)\n",
        "\n",
        "  # Plotting the first feature map from the first sample in the batch\n",
        "  data = feature_maps[0, 0].cpu().detach().numpy()\n",
        "  print(data)\n",
        "  plt.imshow(data)\n",
        "  plt.colorbar()\n",
        "  plt.title(f'Temperature={y}')\n",
        "  plt.show()"
      ],
      "metadata": {
        "id": "RoJ2uLrUdMFJ"
      },
      "execution_count": 20,
      "outputs": []
    },
    {
      "cell_type": "code",
      "source": [
        "plt.imshow(X_train_anti[0])\n",
        "plt.title(f\"Temperature={Y_train_anti[0]}\")"
      ],
      "metadata": {
        "colab": {
          "base_uri": "https://localhost:8080/",
          "height": 469
        },
        "id": "Opnw6SqBeWA9",
        "outputId": "91d915b5-9657-4ee9-b009-3bd9e77827b1"
      },
      "execution_count": 21,
      "outputs": [
        {
          "output_type": "execute_result",
          "data": {
            "text/plain": [
              "Text(0.5, 1.0, 'Temperature=1.4')"
            ]
          },
          "metadata": {},
          "execution_count": 21
        },
        {
          "output_type": "display_data",
          "data": {
            "text/plain": [
              "<Figure size 640x480 with 1 Axes>"
            ],
            "image/png": "[encoded data removed]"
          },
          "metadata": {}
        }
      ]
    },
    {
      "cell_type": "code",
      "source": [
        "plot_feature_map(CNN, X_train_anti[2000], Y_train_anti[2000])"
      ],
      "metadata": {
        "colab": {
          "base_uri": "https://localhost:8080/",
          "height": 573
        },
        "id": "II1e5XEAfiXr",
        "outputId": "2b3fc210-c647-4b6e-fb39-47dd7b73947d"
      },
      "execution_count": 22,
      "outputs": [
        {
          "output_type": "stream",
          "name": "stdout",
          "text": [
            "[[0.         0.01853183 0.         ... 0.         0.         0.83314335]\n",
            " [0.1021854  0.         0.1021854  ... 0.01853183 0.         0.        ]\n",
            " [0.         0.1021854  0.         ... 0.         0.         0.1021854 ]\n",
            " ...\n",
            " [0.02982375 0.01853183 0.         ... 0.         0.         0.1021854 ]\n",
            " [0.83314335 0.         0.1021854  ... 0.         0.1021854  0.        ]\n",
            " [0.         0.1021854  0.         ... 0.1021854  0.         0.02982375]]\n"
          ]
        },
        {
          "output_type": "display_data",
          "data": {
            "text/plain": [
              "<Figure size 640x480 with 2 Axes>"
            ],
            "image/png": "[encoded data removed]"
          },
          "metadata": {}
        }
      ]
    },
    {
      "cell_type": "markdown",
      "source": [
        "### Test on the R = +2 data"
      ],
      "metadata": {
        "id": "RqzGi_Uty7tI"
      }
    },
    {
      "cell_type": "markdown",
      "source": [
        "###### Loading the datasets and the trained model"
      ],
      "metadata": {
        "id": "Km4S8Uiay7tZ"
      }
    },
    {
      "cell_type": "code",
      "source": [
        "X2, y2, Y2 = full_file_loader('data_64NNN_anti_noshuffle_Rplus2.npz', 4.5)"
      ],
      "metadata": {
        "id": "CLFw_yHVy7ta"
      },
      "execution_count": 28,
      "outputs": []
    },
    {
      "cell_type": "code",
      "source": [
        "dataset2 = IsingDataset(X2, y2)\n",
        "batch_size = 128\n",
        "dataloader2 = DataLoader(dataset = dataset2, batch_size = batch_size, shuffle = False)"
      ],
      "metadata": {
        "colab": {
          "base_uri": "https://localhost:8080/"
        },
        "outputId": "3279f1ed-59dd-4faf-8eeb-69d357e1d149",
        "id": "XjFsfqi9y7ta"
      },
      "execution_count": 32,
      "outputs": [
        {
          "output_type": "stream",
          "name": "stderr",
          "text": [
            "<ipython-input-10-2d1bccbc4b53>:4: UserWarning: To copy construct from a tensor, it is recommended to use sourceTensor.clone().detach() or sourceTensor.clone().detach().requires_grad_(True), rather than torch.tensor(sourceTensor).\n",
            "  self.x = torch.tensor(torch.from_numpy(x))\n",
            "<ipython-input-10-2d1bccbc4b53>:5: UserWarning: To copy construct from a tensor, it is recommended to use sourceTensor.clone().detach() or sourceTensor.clone().detach().requires_grad_(True), rather than torch.tensor(sourceTensor).\n",
            "  self.y = torch.tensor(torch.from_numpy(y))\n"
          ]
        }
      ]
    },
    {
      "cell_type": "markdown",
      "source": [
        "###### CNN"
      ],
      "metadata": {
        "id": "TAdG_BAWy7tb"
      }
    },
    {
      "cell_type": "code",
      "source": [
        "dataset2.__len__()"
      ],
      "metadata": {
        "colab": {
          "base_uri": "https://localhost:8080/"
        },
        "outputId": "01a6a286-a61c-4e8a-c872-d90f59869563",
        "id": "D0KziQsmy7tb"
      },
      "execution_count": 33,
      "outputs": [
        {
          "output_type": "execute_result",
          "data": {
            "text/plain": [
              "1800"
            ]
          },
          "metadata": {},
          "execution_count": 33
        }
      ]
    },
    {
      "cell_type": "code",
      "source": [
        "test(CNN, criterion_CNN, dataloader2)"
      ],
      "metadata": {
        "colab": {
          "base_uri": "https://localhost:8080/"
        },
        "outputId": "456d484b-8411-4583-c41d-9ce334a9fa8b",
        "id": "vgQWfVi3y7tc"
      },
      "execution_count": 34,
      "outputs": [
        {
          "output_type": "stream",
          "name": "stdout",
          "text": [
            "0 :: Loss: 77.94239807128906 ,Test accuracy: 0.0\n",
            "1 :: Loss: 79.69538116455078 ,Test accuracy: 0.0\n",
            "2 :: Loss: 77.57235717773438 ,Test accuracy: 0.0\n",
            "3 :: Loss: 78.89511108398438 ,Test accuracy: 0.0\n",
            "4 :: Loss: 76.48472595214844 ,Test accuracy: 0.0\n",
            "5 :: Loss: 77.3636474609375 ,Test accuracy: 0.0\n",
            "6 :: Loss: 17.88688850402832 ,Test accuracy: 0.75\n",
            "7 :: Loss: 0.005372568964958191 ,Test accuracy: 1.0\n",
            "8 :: Loss: 8.313768921652809e-05 ,Test accuracy: 1.0\n",
            "9 :: Loss: 7.955499086165219e-07 ,Test accuracy: 1.0\n",
            "10 :: Loss: 8.402476669289172e-05 ,Test accuracy: 1.0\n",
            "11 :: Loss: 2.4169688472852613e-10 ,Test accuracy: 1.0\n",
            "12 :: Loss: 1.7724785720929503e-05 ,Test accuracy: 1.0\n",
            "13 :: Loss: 1.3301384438335617e-09 ,Test accuracy: 1.0\n",
            "14 :: Loss: 2.6136188324699106e-08 ,Test accuracy: 1.0\n"
          ]
        }
      ]
    },
    {
      "cell_type": "code",
      "source": [
        "pred_class1, pred_class2 = get_predictions(dataloader2, CNN)"
      ],
      "metadata": {
        "id": "E5mY7bNBy7td"
      },
      "execution_count": 35,
      "outputs": []
    },
    {
      "cell_type": "code",
      "source": [
        "plt.scatter(Y2, pred_class1, label='Antiferromagnetic')\n",
        "plt.scatter(Y2, pred_class2, label='Paramagnetic')\n",
        "plt.legend()"
      ],
      "metadata": {
        "colab": {
          "base_uri": "https://localhost:8080/",
          "height": 447
        },
        "outputId": "33054ecf-55e4-4dae-bd0b-537a236cc0f0",
        "id": "xhdBpi_Py7te"
      },
      "execution_count": 36,
      "outputs": [
        {
          "output_type": "execute_result",
          "data": {
            "text/plain": [
              "<matplotlib.legend.Legend at 0x7b8440032ad0>"
            ]
          },
          "metadata": {},
          "execution_count": 36
        },
        {
          "output_type": "display_data",
          "data": {
            "text/plain": [
              "<Figure size 640x480 with 1 Axes>"
            ],
            "image/png": "[encoded data removed]"
          },
          "metadata": {}
        }
      ]
    },
    {
      "cell_type": "markdown",
      "source": [
        "###### Visualization"
      ],
      "metadata": {
        "id": "sigKbfY0y7tg"
      }
    },
    {
      "cell_type": "code",
      "source": [
        "plt.imshow(X2[1600])\n",
        "plt.title(f\"Temperature={Y2[1600]}\")"
      ],
      "metadata": {
        "colab": {
          "base_uri": "https://localhost:8080/",
          "height": 469
        },
        "id": "YniaNGINgI98",
        "outputId": "c7feba12-fb4d-43ae-fe36-3f6de6ba9efa"
      },
      "execution_count": 37,
      "outputs": [
        {
          "output_type": "execute_result",
          "data": {
            "text/plain": [
              "Text(0.5, 1.0, 'Temperature=9.0')"
            ]
          },
          "metadata": {},
          "execution_count": 37
        },
        {
          "output_type": "display_data",
          "data": {
            "text/plain": [
              "<Figure size 640x480 with 1 Axes>"
            ],
            "image/png": "[encoded data removed]"
          },
          "metadata": {}
        }
      ]
    },
    {
      "cell_type": "code",
      "source": [
        "plot_feature_map(CNN, X2[1600], Y2[1600])"
      ],
      "metadata": {
        "colab": {
          "base_uri": "https://localhost:8080/",
          "height": 573
        },
        "id": "7HoXR5-qf_-j",
        "outputId": "47858bb0-4a86-444a-cd7d-6edc57e023fb"
      },
      "execution_count": 38,
      "outputs": [
        {
          "output_type": "stream",
          "name": "stdout",
          "text": [
            "[[0.47338605 0.         0.         ... 0.83314335 0.40102434 0.        ]\n",
            " [0.         0.         0.1021854  ... 0.01853183 0.         0.83314335]\n",
            " [0.01853183 0.         0.         ... 0.         0.02982375 0.        ]\n",
            " ...\n",
            " [0.         0.         0.         ... 0.1021854  0.47338605 0.47338605]\n",
            " [0.         0.         0.47338605 ... 0.         0.         0.        ]\n",
            " [0.         0.         0.         ... 0.         0.83314335 0.47338605]]\n"
          ]
        },
        {
          "output_type": "display_data",
          "data": {
            "text/plain": [
              "<Figure size 640x480 with 2 Axes>"
            ],
            "image/png": "[encoded data removed]"
          },
          "metadata": {}
        }
      ]
    },
    {
      "cell_type": "code",
      "source": [
        "plt.imshow(X2[0])\n",
        "plt.title(f\"Temperature={Y2[0]}\")"
      ],
      "metadata": {
        "colab": {
          "base_uri": "https://localhost:8080/",
          "height": 469
        },
        "id": "FazTtRx6goXo",
        "outputId": "605f3ec8-bf27-44c3-dca7-fb9eb4d0905f"
      },
      "execution_count": 39,
      "outputs": [
        {
          "output_type": "execute_result",
          "data": {
            "text/plain": [
              "Text(0.5, 1.0, 'Temperature=1.0')"
            ]
          },
          "metadata": {},
          "execution_count": 39
        },
        {
          "output_type": "display_data",
          "data": {
            "text/plain": [
              "<Figure size 640x480 with 1 Axes>"
            ],
            "image/png": "[encoded data removed]"
          },
          "metadata": {}
        }
      ]
    },
    {
      "cell_type": "code",
      "source": [
        "  x = X2[8]\n",
        "  x = torch.from_numpy(x).unsqueeze(0).float().to(device)\n",
        "  feature_maps = CNN(x, return_feature_maps=True)\n",
        "\n",
        "  # Plotting the first feature map from the first sample in the batch\n",
        "  data = feature_maps[0, 0].cpu().detach().numpy()\n",
        "  data"
      ],
      "metadata": {
        "colab": {
          "base_uri": "https://localhost:8080/"
        },
        "id": "cGk4A2wwyV59",
        "outputId": "74a4a8f9-2509-4a35-ffa3-deb924f013e1"
      },
      "execution_count": 40,
      "outputs": [
        {
          "output_type": "execute_result",
          "data": {
            "text/plain": [
              "array([[0.        , 0.        , 0.        , ..., 0.        , 0.        ,\n",
              "        0.        ],\n",
              "       [0.47338605, 0.47338605, 0.47338605, ..., 0.47338605, 0.47338605,\n",
              "        0.47338605],\n",
              "       [0.        , 0.        , 0.        , ..., 0.        , 0.        ,\n",
              "        0.        ],\n",
              "       ...,\n",
              "       [0.        , 0.        , 0.        , ..., 0.        , 0.        ,\n",
              "        0.        ],\n",
              "       [0.47338605, 0.47338605, 0.47338605, ..., 0.47338605, 0.47338605,\n",
              "        0.47338605],\n",
              "       [0.        , 0.        , 0.        , ..., 0.        , 0.        ,\n",
              "        0.        ]], dtype=float32)"
            ]
          },
          "metadata": {},
          "execution_count": 40
        }
      ]
    },
    {
      "cell_type": "code",
      "source": [
        "plot_feature_map(CNN, X2[0], Y2[0], print_data = True)"
      ],
      "metadata": {
        "colab": {
          "base_uri": "https://localhost:8080/",
          "height": 573
        },
        "id": "SpfuD8-ngmNr",
        "outputId": "806cb4fe-ef42-421b-93b9-ad72ca1fb25f"
      },
      "execution_count": 41,
      "outputs": [
        {
          "output_type": "stream",
          "name": "stdout",
          "text": [
            "[[0.         0.         0.         ... 0.         0.         0.        ]\n",
            " [0.47338605 0.47338605 0.47338605 ... 0.47338605 0.47338605 0.47338605]\n",
            " [0.         0.         0.         ... 0.         0.         0.        ]\n",
            " ...\n",
            " [0.01853183 0.         0.         ... 0.01853183 0.         0.01853183]\n",
            " [0.         0.         0.47338605 ... 0.01853183 0.         0.01853183]\n",
            " [0.         0.         0.         ... 0.         0.02982375 0.        ]]\n"
          ]
        },
        {
          "output_type": "display_data",
          "data": {
            "text/plain": [
              "<Figure size 640x480 with 2 Axes>"
            ],
            "image/png": "[encoded data removed]"
          },
          "metadata": {}
        }
      ]
    },
    {
      "cell_type": "markdown",
      "source": [
        "### Testing on the second (best) R=+2 data"
      ],
      "metadata": {
        "id": "pCKr2QBHnMWS"
      }
    },
    {
      "cell_type": "markdown",
      "source": [
        "###### Loading the datasets and the trained model"
      ],
      "metadata": {
        "id": "R9vaqQiCnrPt"
      }
    },
    {
      "cell_type": "code",
      "source": [
        "X1, y1, Y1 = full_file_loader('data_64NNN_anti_noshuffle_Rplus2_best.npz', 4.5)"
      ],
      "metadata": {
        "id": "s3AiYzNRnrPu"
      },
      "execution_count": 42,
      "outputs": []
    },
    {
      "cell_type": "code",
      "source": [
        "dataset1 = IsingDataset(X1, y1)\n",
        "batch_size = 128\n",
        "dataloader1 = DataLoader(dataset = dataset1, batch_size = batch_size, shuffle = False)"
      ],
      "metadata": {
        "colab": {
          "base_uri": "https://localhost:8080/"
        },
        "outputId": "77fb0baf-6b44-4cc0-d422-78e1026b955e",
        "id": "XNCiyrwPnrPu"
      },
      "execution_count": 43,
      "outputs": [
        {
          "output_type": "stream",
          "name": "stderr",
          "text": [
            "<ipython-input-10-2d1bccbc4b53>:4: UserWarning: To copy construct from a tensor, it is recommended to use sourceTensor.clone().detach() or sourceTensor.clone().detach().requires_grad_(True), rather than torch.tensor(sourceTensor).\n",
            "  self.x = torch.tensor(torch.from_numpy(x))\n",
            "<ipython-input-10-2d1bccbc4b53>:5: UserWarning: To copy construct from a tensor, it is recommended to use sourceTensor.clone().detach() or sourceTensor.clone().detach().requires_grad_(True), rather than torch.tensor(sourceTensor).\n",
            "  self.y = torch.tensor(torch.from_numpy(y))\n"
          ]
        }
      ]
    },
    {
      "cell_type": "markdown",
      "source": [
        "###### CNN"
      ],
      "metadata": {
        "id": "1sZUbNjynrPv"
      }
    },
    {
      "cell_type": "code",
      "source": [
        "dataset1.__len__()"
      ],
      "metadata": {
        "colab": {
          "base_uri": "https://localhost:8080/"
        },
        "outputId": "248a267b-f83b-4f6e-b4b3-c708a758452d",
        "id": "qMognp7anrPv"
      },
      "execution_count": 45,
      "outputs": [
        {
          "output_type": "execute_result",
          "data": {
            "text/plain": [
              "1200"
            ]
          },
          "metadata": {},
          "execution_count": 45
        }
      ]
    },
    {
      "cell_type": "code",
      "source": [
        "test(CNN, criterion_CNN, dataloader1)"
      ],
      "metadata": {
        "colab": {
          "base_uri": "https://localhost:8080/"
        },
        "outputId": "0f943259-1209-4e8c-f7c0-c9a0f3677001",
        "id": "d6lN3NUKnrPv"
      },
      "execution_count": 46,
      "outputs": [
        {
          "output_type": "stream",
          "name": "stdout",
          "text": [
            "0 :: Loss: 78.46733093261719 ,Test accuracy: 0.0\n",
            "1 :: Loss: 76.0719985961914 ,Test accuracy: 0.0\n",
            "2 :: Loss: 77.00880432128906 ,Test accuracy: 0.0\n",
            "3 :: Loss: 70.47657775878906 ,Test accuracy: 0.09375\n",
            "4 :: Loss: 3.869296882896833e-09 ,Test accuracy: 1.0\n",
            "5 :: Loss: 1.4303594420006505e-10 ,Test accuracy: 1.0\n",
            "6 :: Loss: 6.393663352355361e-05 ,Test accuracy: 1.0\n",
            "7 :: Loss: 0.005375302862375975 ,Test accuracy: 1.0\n",
            "8 :: Loss: 1.6784797551849806e-08 ,Test accuracy: 1.0\n",
            "9 :: Loss: 5.1166371139999e-10 ,Test accuracy: 1.0\n"
          ]
        }
      ]
    },
    {
      "cell_type": "code",
      "source": [
        "pred_class1, pred_class2 = get_predictions(dataloader1, CNN)"
      ],
      "metadata": {
        "id": "W61gZbfjnrPv"
      },
      "execution_count": 47,
      "outputs": []
    },
    {
      "cell_type": "code",
      "source": [
        "plt.scatter(Y1, pred_class1, label='Antiferromagnetic')\n",
        "plt.scatter(Y1, pred_class2, label='Paramagnetic')\n",
        "plt.legend()"
      ],
      "metadata": {
        "colab": {
          "base_uri": "https://localhost:8080/",
          "height": 447
        },
        "outputId": "a7bd9b89-180e-46fa-bd8d-f2818f92db2a",
        "id": "fSxlPATUnrPv"
      },
      "execution_count": 48,
      "outputs": [
        {
          "output_type": "execute_result",
          "data": {
            "text/plain": [
              "<matplotlib.legend.Legend at 0x7b83fdb498a0>"
            ]
          },
          "metadata": {},
          "execution_count": 48
        },
        {
          "output_type": "display_data",
          "data": {
            "text/plain": [
              "<Figure size 640x480 with 1 Axes>"
            ],
            "image/png": "[encoded data removed]"
          },
          "metadata": {}
        }
      ]
    },
    {
      "cell_type": "code",
      "source": [
        "plt.imshow(X1[10])\n",
        "plt.title(f\"Temperature={Y1[10]}\")"
      ],
      "metadata": {
        "colab": {
          "base_uri": "https://localhost:8080/",
          "height": 469
        },
        "outputId": "86618d12-a316-47a5-a570-9b0f0bf29f37",
        "id": "8fHtsL4enrPv"
      },
      "execution_count": 49,
      "outputs": [
        {
          "output_type": "execute_result",
          "data": {
            "text/plain": [
              "Text(0.5, 1.0, 'Temperature=2.5')"
            ]
          },
          "metadata": {},
          "execution_count": 49
        },
        {
          "output_type": "display_data",
          "data": {
            "text/plain": [
              "<Figure size 640x480 with 1 Axes>"
            ],
            "image/png": "[encoded data removed]"
          },
          "metadata": {}
        }
      ]
    },
    {
      "cell_type": "code",
      "source": [
        "plot_feature_map(CNN, X1[0], Y1[0])"
      ],
      "metadata": {
        "colab": {
          "base_uri": "https://localhost:8080/",
          "height": 573
        },
        "outputId": "585b590d-e3a9-4062-88fd-7b6735537938",
        "id": "NGQ0_ymRnrPv"
      },
      "execution_count": 66,
      "outputs": [
        {
          "output_type": "stream",
          "name": "stdout",
          "text": [
            "[[0.01853183 0.         0.01853183 ... 0.01853183 0.         0.01853183]\n",
            " [0.01853183 0.         0.01853183 ... 0.01853183 0.         0.01853183]\n",
            " [0.01853183 0.         0.01853183 ... 0.01853183 0.         0.01853183]\n",
            " ...\n",
            " [0.01853183 0.         0.01853183 ... 0.01853183 0.         0.01853183]\n",
            " [0.01853183 0.         0.01853183 ... 0.01853183 0.         0.        ]\n",
            " [0.01853183 0.         0.01853183 ... 0.01853183 0.         0.        ]]\n"
          ]
        },
        {
          "output_type": "display_data",
          "data": {
            "text/plain": [
              "<Figure size 640x480 with 2 Axes>"
            ],
            "image/png": "[encoded data removed]"
          },
          "metadata": {}
        }
      ]
    },
    {
      "cell_type": "markdown",
      "source": [
        "### Transfer Learning"
      ],
      "metadata": {
        "id": "UiWxZDJRjvY2"
      }
    },
    {
      "cell_type": "markdown",
      "source": [
        "###### Loading the Dataset"
      ],
      "metadata": {
        "id": "hLtJ_z4uuKiQ"
      }
    },
    {
      "cell_type": "markdown",
      "source": [
        "Full Data"
      ],
      "metadata": {
        "id": "urp2wXLeuxWp"
      }
    },
    {
      "cell_type": "code",
      "source": [
        "X1, y1, Y1 = full_file_loader('data_64NNN_anti_noshuffle_Rplus2_best.npz', 4.5)"
      ],
      "metadata": {
        "id": "ah5USta1uhwB"
      },
      "execution_count": 258,
      "outputs": []
    },
    {
      "cell_type": "code",
      "source": [
        "dataset1 = IsingDataset(X1, y1)\n",
        "batch_size = 128\n",
        "dataloader1 = DataLoader(dataset = dataset1, batch_size = batch_size, shuffle = False)"
      ],
      "metadata": {
        "colab": {
          "base_uri": "https://localhost:8080/"
        },
        "outputId": "e6fe9063-b6e8-4a5c-c322-2e9265f32fee",
        "id": "H81orRbOuhwB"
      },
      "execution_count": 259,
      "outputs": [
        {
          "output_type": "stream",
          "name": "stderr",
          "text": [
            "<ipython-input-10-2d1bccbc4b53>:4: UserWarning: To copy construct from a tensor, it is recommended to use sourceTensor.clone().detach() or sourceTensor.clone().detach().requires_grad_(True), rather than torch.tensor(sourceTensor).\n",
            "  self.x = torch.tensor(torch.from_numpy(x))\n",
            "<ipython-input-10-2d1bccbc4b53>:5: UserWarning: To copy construct from a tensor, it is recommended to use sourceTensor.clone().detach() or sourceTensor.clone().detach().requires_grad_(True), rather than torch.tensor(sourceTensor).\n",
            "  self.y = torch.tensor(torch.from_numpy(y))\n"
          ]
        }
      ]
    },
    {
      "cell_type": "code",
      "source": [
        "X2, y2, Y2 = full_file_loader('data_64NNN_anti_noshuffle_Rplus2_best2.npz', 4.5)"
      ],
      "metadata": {
        "id": "lIr2mJcZuj09"
      },
      "execution_count": 260,
      "outputs": []
    },
    {
      "cell_type": "code",
      "source": [
        "dataset2 = IsingDataset(X2, y2)\n",
        "batch_size = 128\n",
        "dataloader2 = DataLoader(dataset = dataset2, batch_size = batch_size, shuffle = False)"
      ],
      "metadata": {
        "colab": {
          "base_uri": "https://localhost:8080/"
        },
        "outputId": "81f41c32-a6b6-4108-cd4d-f1132e08d732",
        "id": "r9wkQSOguj1E"
      },
      "execution_count": 261,
      "outputs": [
        {
          "output_type": "stream",
          "name": "stderr",
          "text": [
            "<ipython-input-10-2d1bccbc4b53>:4: UserWarning: To copy construct from a tensor, it is recommended to use sourceTensor.clone().detach() or sourceTensor.clone().detach().requires_grad_(True), rather than torch.tensor(sourceTensor).\n",
            "  self.x = torch.tensor(torch.from_numpy(x))\n",
            "<ipython-input-10-2d1bccbc4b53>:5: UserWarning: To copy construct from a tensor, it is recommended to use sourceTensor.clone().detach() or sourceTensor.clone().detach().requires_grad_(True), rather than torch.tensor(sourceTensor).\n",
            "  self.y = torch.tensor(torch.from_numpy(y))\n"
          ]
        }
      ]
    },
    {
      "cell_type": "code",
      "source": [
        "X3, y3, Y3 = full_file_loader('data_64NNN_anti_noshuffle_Rplus2_best3.npz', 4.5)"
      ],
      "metadata": {
        "id": "SGyYuojbN7-h"
      },
      "execution_count": 262,
      "outputs": []
    },
    {
      "cell_type": "code",
      "source": [
        "dataset3 = IsingDataset(X3, y3)\n",
        "batch_size = 128\n",
        "dataloader3 = DataLoader(dataset = dataset3, batch_size = batch_size, shuffle = False)"
      ],
      "metadata": {
        "colab": {
          "base_uri": "https://localhost:8080/"
        },
        "outputId": "044f6955-d070-467c-879f-6a5ea85b80a9",
        "id": "fzj5zuelN7-h"
      },
      "execution_count": 263,
      "outputs": [
        {
          "output_type": "stream",
          "name": "stderr",
          "text": [
            "<ipython-input-10-2d1bccbc4b53>:4: UserWarning: To copy construct from a tensor, it is recommended to use sourceTensor.clone().detach() or sourceTensor.clone().detach().requires_grad_(True), rather than torch.tensor(sourceTensor).\n",
            "  self.x = torch.tensor(torch.from_numpy(x))\n",
            "<ipython-input-10-2d1bccbc4b53>:5: UserWarning: To copy construct from a tensor, it is recommended to use sourceTensor.clone().detach() or sourceTensor.clone().detach().requires_grad_(True), rather than torch.tensor(sourceTensor).\n",
            "  self.y = torch.tensor(torch.from_numpy(y))\n"
          ]
        }
      ]
    },
    {
      "cell_type": "code",
      "source": [
        "X4, y4, Y4 = full_file_loader('data_64NNN_anti_noshuffle_Rplus2_best4.npz', 4.5)"
      ],
      "metadata": {
        "id": "XkvmaYeAVYno"
      },
      "execution_count": 264,
      "outputs": []
    },
    {
      "cell_type": "code",
      "source": [
        "dataset4 = IsingDataset(X4, y4)\n",
        "batch_size = 128\n",
        "dataloader4 = DataLoader(dataset = dataset4, batch_size = batch_size, shuffle = False)"
      ],
      "metadata": {
        "colab": {
          "base_uri": "https://localhost:8080/"
        },
        "outputId": "13af9b02-14d7-4524-f372-36c163c3796d",
        "id": "ZL6y88YRVYnp"
      },
      "execution_count": 265,
      "outputs": [
        {
          "output_type": "stream",
          "name": "stderr",
          "text": [
            "<ipython-input-10-2d1bccbc4b53>:4: UserWarning: To copy construct from a tensor, it is recommended to use sourceTensor.clone().detach() or sourceTensor.clone().detach().requires_grad_(True), rather than torch.tensor(sourceTensor).\n",
            "  self.x = torch.tensor(torch.from_numpy(x))\n",
            "<ipython-input-10-2d1bccbc4b53>:5: UserWarning: To copy construct from a tensor, it is recommended to use sourceTensor.clone().detach() or sourceTensor.clone().detach().requires_grad_(True), rather than torch.tensor(sourceTensor).\n",
            "  self.y = torch.tensor(torch.from_numpy(y))\n"
          ]
        }
      ]
    },
    {
      "cell_type": "markdown",
      "source": [
        "Train and test data"
      ],
      "metadata": {
        "id": "XQXqaC7wuzcW"
      }
    },
    {
      "cell_type": "code",
      "source": [
        "X_train1, X_test1, y_train1, y_test1, Y_train1, Y_test1 = file_loader('data_64NNN_anti_noshuffle_Rplus2_best.npz', 4.5)"
      ],
      "metadata": {
        "id": "seOuKCInloIV"
      },
      "execution_count": 147,
      "outputs": []
    },
    {
      "cell_type": "code",
      "source": [
        "training_dataset1 = IsingDataset(X_train1, y_train1)\n",
        "testing_dataset1 = IsingDataset(X_test1, y_test1)\n",
        "batch_size = 128\n",
        "train_dataloader1 = DataLoader(dataset = training_dataset1, batch_size = batch_size, shuffle = False)\n",
        "test_dataloader1 = DataLoader(dataset = testing_dataset1, batch_size = batch_size, shuffle = False)"
      ],
      "metadata": {
        "colab": {
          "base_uri": "https://localhost:8080/"
        },
        "outputId": "177f7782-0a0e-4e34-8fd6-d1806309d437",
        "id": "AItUukPkloIV"
      },
      "execution_count": 148,
      "outputs": [
        {
          "output_type": "stream",
          "name": "stderr",
          "text": [
            "<ipython-input-10-2d1bccbc4b53>:4: UserWarning: To copy construct from a tensor, it is recommended to use sourceTensor.clone().detach() or sourceTensor.clone().detach().requires_grad_(True), rather than torch.tensor(sourceTensor).\n",
            "  self.x = torch.tensor(torch.from_numpy(x))\n",
            "<ipython-input-10-2d1bccbc4b53>:5: UserWarning: To copy construct from a tensor, it is recommended to use sourceTensor.clone().detach() or sourceTensor.clone().detach().requires_grad_(True), rather than torch.tensor(sourceTensor).\n",
            "  self.y = torch.tensor(torch.from_numpy(y))\n"
          ]
        }
      ]
    },
    {
      "cell_type": "code",
      "source": [
        "X_train2, X_test2, y_train2, y_test2, Y_train2, Y_test2 = file_loader('data_64NNN_anti_noshuffle_Rplus2_best2.npz', 4.5)"
      ],
      "metadata": {
        "id": "DDhAg4OUttXy"
      },
      "execution_count": 149,
      "outputs": []
    },
    {
      "cell_type": "code",
      "source": [
        "training_dataset2 = IsingDataset(X_train2, y_train2)\n",
        "testing_dataset2 = IsingDataset(X_test2, y_test2)\n",
        "batch_size = 128\n",
        "train_dataloader2 = DataLoader(dataset = training_dataset2, batch_size = batch_size, shuffle = False)\n",
        "test_dataloader2 = DataLoader(dataset = testing_dataset2, batch_size = batch_size, shuffle = False)"
      ],
      "metadata": {
        "colab": {
          "base_uri": "https://localhost:8080/"
        },
        "outputId": "a310d6fa-a000-46d5-ae68-5e105f4dc40a",
        "id": "4YWNezKattXy"
      },
      "execution_count": 150,
      "outputs": [
        {
          "output_type": "stream",
          "name": "stderr",
          "text": [
            "<ipython-input-10-2d1bccbc4b53>:4: UserWarning: To copy construct from a tensor, it is recommended to use sourceTensor.clone().detach() or sourceTensor.clone().detach().requires_grad_(True), rather than torch.tensor(sourceTensor).\n",
            "  self.x = torch.tensor(torch.from_numpy(x))\n",
            "<ipython-input-10-2d1bccbc4b53>:5: UserWarning: To copy construct from a tensor, it is recommended to use sourceTensor.clone().detach() or sourceTensor.clone().detach().requires_grad_(True), rather than torch.tensor(sourceTensor).\n",
            "  self.y = torch.tensor(torch.from_numpy(y))\n"
          ]
        }
      ]
    },
    {
      "cell_type": "markdown",
      "source": [
        "Combined Data"
      ],
      "metadata": {
        "id": "yLNc7cd4JET2"
      }
    },
    {
      "cell_type": "code",
      "source": [
        "# Create the combined dataset\n",
        "combined_dataset_wo_aug12 = create_combined_dataset(dataset2, dataset1)\n",
        "\n",
        "# Create a new DataLoader for the combined dataset\n",
        "combined_dataloader_wo_aug12 = DataLoader(dataset = combined_dataset_wo_aug12, batch_size=batch_size, shuffle=False)"
      ],
      "metadata": {
        "id": "BSZpH4PTJFw5"
      },
      "execution_count": 266,
      "outputs": []
    },
    {
      "cell_type": "code",
      "source": [
        "# Create the combined dataset\n",
        "combined_dataset_wo_aug123 = create_combined_dataset(combined_dataset_wo_aug12, dataset3)\n",
        "\n",
        "# Create a new DataLoader for the combined dataset\n",
        "combined_dataloader_wo_aug123 = DataLoader(dataset = combined_dataset_wo_aug123, batch_size=batch_size, shuffle=False)"
      ],
      "metadata": {
        "id": "uhL7qUMpOFM-"
      },
      "execution_count": 267,
      "outputs": []
    },
    {
      "cell_type": "code",
      "source": [
        "# Create the combined dataset\n",
        "combined_dataset_wo_aug1234 = create_combined_dataset(combined_dataset_wo_aug123, dataset4)\n",
        "\n",
        "# Create a new DataLoader for the combined dataset\n",
        "combined_dataloader_wo_aug1234 = DataLoader(dataset = combined_dataset_wo_aug1234, batch_size=batch_size, shuffle=False)"
      ],
      "metadata": {
        "id": "hNUfbBcYVgra"
      },
      "execution_count": 255,
      "outputs": []
    },
    {
      "cell_type": "markdown",
      "source": [
        "Augmented data"
      ],
      "metadata": {
        "id": "Ms7ojaTE3c9n"
      }
    },
    {
      "cell_type": "code",
      "source": [
        "# Assuming you already have an original DataLoader named original_dataloader\n",
        "# You can get the original dataset from original_dataloader.dataset\n",
        "original_dataset1 = dataloader1.dataset\n",
        "\n",
        "# Create the combined dataset\n",
        "combined_dataset1 = create_combined_dataset_with_augmentation(original_dataset1)\n",
        "\n",
        "\n",
        "# Create a new DataLoader for the combined dataset\n",
        "combined_dataloader1 = DataLoader(dataset = combined_dataset1, batch_size=dataloader1.batch_size, shuffle=False)\n",
        "\n",
        "# Now, new_dataloader contains both the original data and the 90-degree rotated data, with labels unchanged\n"
      ],
      "metadata": {
        "id": "sjMYILNs3e9e"
      },
      "execution_count": 178,
      "outputs": []
    },
    {
      "cell_type": "code",
      "source": [
        "# Assuming you already have an original DataLoader named original_dataloader\n",
        "# You can get the original dataset from original_dataloader.dataset\n",
        "original_dataset2 = dataloader2.dataset\n",
        "\n",
        "# Create the combined dataset\n",
        "combined_dataset2 = create_combined_dataset_with_augmentation(original_dataset2)\n",
        "\n",
        "\n",
        "# Create a new DataLoader for the combined dataset\n",
        "combined_dataloader2 = DataLoader(dataset = combined_dataset2, batch_size=dataloader2.batch_size, shuffle=False)\n",
        "\n",
        "# Now, new_dataloader contains both the original data and the 90-degree rotated data, with labels unchanged\n"
      ],
      "metadata": {
        "id": "-sT42tuJF574"
      },
      "execution_count": 179,
      "outputs": []
    },
    {
      "cell_type": "code",
      "source": [
        "# Assuming you already have an original DataLoader named original_dataloader\n",
        "# You can get the original dataset from original_dataloader.dataset\n",
        "comb_dataset1 = combined_dataloader1.dataset\n",
        "comb_dataset2 = combined_dataloader2.dataset\n",
        "\n",
        "# Create the combined dataset\n",
        "combined_dataset = create_combined_dataset(comb_dataset2, comb_dataset1)\n",
        "\n",
        "# Create a new DataLoader for the combined dataset\n",
        "combined_dataloader = DataLoader(dataset = combined_dataset, batch_size=combined_dataloader2.batch_size, shuffle=False)\n",
        "\n",
        "# Now, new_dataloader contains both the original data and the 90-degree rotated data, with labels unchanged\n"
      ],
      "metadata": {
        "id": "5EMZGJk2GBY_"
      },
      "execution_count": 180,
      "outputs": []
    },
    {
      "cell_type": "markdown",
      "source": [
        "###### Training a model to compare the results"
      ],
      "metadata": {
        "id": "1rxf6_M5qXTK"
      }
    },
    {
      "cell_type": "code",
      "source": [
        "import torch\n",
        "import torch.nn as nn\n",
        "import torch.optim as optim\n",
        "\n",
        "CNN2 = ConvNet(Nx, Ny)\n",
        "CNN2.to(device)\n",
        "\n",
        "# Setup optimizer\n",
        "optimizer = optim.Adam(CNN2.parameters(), lr=1e-4, betas=[0.9,0.999])\n",
        "\n",
        "# Define the loss function\n",
        "criterion = nn.BCELoss()\n",
        "\n",
        "# Example usage of the training function with dataloader8\n",
        "train(CNN2, num_epochs=10, criterion=criterion, optimizer=optimizer, train_dataloader=combined_dataloader_wo_aug1234)"
      ],
      "metadata": {
        "colab": {
          "base_uri": "https://localhost:8080/",
          "height": 408
        },
        "id": "9-0JTV5ItjTA",
        "outputId": "9fbf11df-711a-4514-855f-9057845b1bd4"
      },
      "execution_count": 257,
      "outputs": [
        {
          "output_type": "stream",
          "name": "stdout",
          "text": [
            "Loss: 0.7010658979415894 ,Train accuracy: 0.4765625\n",
            "Loss: 3.6990644931793213 ,Train accuracy: 0.6640625\n",
            "Loss: 46.836875915527344 ,Train accuracy: 0.1484375\n"
          ]
        },
        {
          "output_type": "error",
          "ename": "RuntimeError",
          "evalue": "stack expects each tensor to be equal size, but got [2] at entry 0 and [1] at entry 112",
          "traceback": [
            "\u001b[0;31m---------------------------------------------------------------------------\u001b[0m",
            "\u001b[0;31mRuntimeError\u001b[0m                              Traceback (most recent call last)",
            "\u001b[0;32m<ipython-input-257-1828fa3f3e5f>\u001b[0m in \u001b[0;36m<cell line: 15>\u001b[0;34m()\u001b[0m\n\u001b[1;32m     13\u001b[0m \u001b[0;34m\u001b[0m\u001b[0m\n\u001b[1;32m     14\u001b[0m \u001b[0;31m# Example usage of the training function with dataloader8\u001b[0m\u001b[0;34m\u001b[0m\u001b[0;34m\u001b[0m\u001b[0m\n\u001b[0;32m---> 15\u001b[0;31m \u001b[0mtrain\u001b[0m\u001b[0;34m(\u001b[0m\u001b[0mCNN2\u001b[0m\u001b[0;34m,\u001b[0m \u001b[0mnum_epochs\u001b[0m\u001b[0;34m=\u001b[0m\u001b[0;36m10\u001b[0m\u001b[0;34m,\u001b[0m \u001b[0mcriterion\u001b[0m\u001b[0;34m=\u001b[0m\u001b[0mcriterion\u001b[0m\u001b[0;34m,\u001b[0m \u001b[0moptimizer\u001b[0m\u001b[0;34m=\u001b[0m\u001b[0moptimizer\u001b[0m\u001b[0;34m,\u001b[0m \u001b[0mtrain_dataloader\u001b[0m\u001b[0;34m=\u001b[0m\u001b[0mcombined_dataloader_wo_aug1234\u001b[0m\u001b[0;34m)\u001b[0m\u001b[0;34m\u001b[0m\u001b[0;34m\u001b[0m\u001b[0m\n\u001b[0m",
            "\u001b[0;32m<ipython-input-80-f96eae2713cd>\u001b[0m in \u001b[0;36mtrain\u001b[0;34m(model, num_epochs, criterion, optimizer, train_dataloader)\u001b[0m\n\u001b[1;32m      2\u001b[0m   \u001b[0mmodel\u001b[0m\u001b[0;34m.\u001b[0m\u001b[0mtrain\u001b[0m\u001b[0;34m(\u001b[0m\u001b[0;34m)\u001b[0m\u001b[0;34m\u001b[0m\u001b[0;34m\u001b[0m\u001b[0m\n\u001b[1;32m      3\u001b[0m   \u001b[0;32mfor\u001b[0m \u001b[0mepoch\u001b[0m \u001b[0;32min\u001b[0m \u001b[0mrange\u001b[0m\u001b[0;34m(\u001b[0m\u001b[0mnum_epochs\u001b[0m\u001b[0;34m)\u001b[0m\u001b[0;34m:\u001b[0m\u001b[0;34m\u001b[0m\u001b[0;34m\u001b[0m\u001b[0m\n\u001b[0;32m----> 4\u001b[0;31m     \u001b[0;32mfor\u001b[0m \u001b[0mi\u001b[0m\u001b[0;34m,\u001b[0m \u001b[0;34m(\u001b[0m\u001b[0mx\u001b[0m\u001b[0;34m,\u001b[0m \u001b[0mlabel\u001b[0m\u001b[0;34m)\u001b[0m \u001b[0;32min\u001b[0m \u001b[0menumerate\u001b[0m\u001b[0;34m(\u001b[0m\u001b[0mtrain_dataloader\u001b[0m\u001b[0;34m)\u001b[0m\u001b[0;34m:\u001b[0m\u001b[0;34m\u001b[0m\u001b[0;34m\u001b[0m\u001b[0m\n\u001b[0m\u001b[1;32m      5\u001b[0m       \u001b[0mx\u001b[0m \u001b[0;34m=\u001b[0m \u001b[0mx\u001b[0m\u001b[0;34m.\u001b[0m\u001b[0mto\u001b[0m\u001b[0;34m(\u001b[0m\u001b[0mdevice\u001b[0m\u001b[0;34m)\u001b[0m\u001b[0;34m.\u001b[0m\u001b[0mfloat\u001b[0m\u001b[0;34m(\u001b[0m\u001b[0;34m)\u001b[0m\u001b[0;34m\u001b[0m\u001b[0;34m\u001b[0m\u001b[0m\n\u001b[1;32m      6\u001b[0m       \u001b[0mlabel\u001b[0m \u001b[0;34m=\u001b[0m \u001b[0mlabel\u001b[0m\u001b[0;34m.\u001b[0m\u001b[0mto\u001b[0m\u001b[0;34m(\u001b[0m\u001b[0mdevice\u001b[0m\u001b[0;34m)\u001b[0m\u001b[0;34m.\u001b[0m\u001b[0mfloat\u001b[0m\u001b[0;34m(\u001b[0m\u001b[0;34m)\u001b[0m\u001b[0;34m\u001b[0m\u001b[0;34m\u001b[0m\u001b[0m\n",
            "\u001b[0;32m/usr/local/lib/python3.10/dist-packages/torch/utils/data/dataloader.py\u001b[0m in \u001b[0;36m__next__\u001b[0;34m(self)\u001b[0m\n\u001b[1;32m    629\u001b[0m                 \u001b[0;31m# TODO(https://github.com/pytorch/pytorch/issues/76750)\u001b[0m\u001b[0;34m\u001b[0m\u001b[0;34m\u001b[0m\u001b[0m\n\u001b[1;32m    630\u001b[0m                 \u001b[0mself\u001b[0m\u001b[0;34m.\u001b[0m\u001b[0m_reset\u001b[0m\u001b[0;34m(\u001b[0m\u001b[0;34m)\u001b[0m  \u001b[0;31m# type: ignore[call-arg]\u001b[0m\u001b[0;34m\u001b[0m\u001b[0;34m\u001b[0m\u001b[0m\n\u001b[0;32m--> 631\u001b[0;31m             \u001b[0mdata\u001b[0m \u001b[0;34m=\u001b[0m \u001b[0mself\u001b[0m\u001b[0;34m.\u001b[0m\u001b[0m_next_data\u001b[0m\u001b[0;34m(\u001b[0m\u001b[0;34m)\u001b[0m\u001b[0;34m\u001b[0m\u001b[0;34m\u001b[0m\u001b[0m\n\u001b[0m\u001b[1;32m    632\u001b[0m             \u001b[0mself\u001b[0m\u001b[0;34m.\u001b[0m\u001b[0m_num_yielded\u001b[0m \u001b[0;34m+=\u001b[0m \u001b[0;36m1\u001b[0m\u001b[0;34m\u001b[0m\u001b[0;34m\u001b[0m\u001b[0m\n\u001b[1;32m    633\u001b[0m             \u001b[0;32mif\u001b[0m \u001b[0mself\u001b[0m\u001b[0;34m.\u001b[0m\u001b[0m_dataset_kind\u001b[0m \u001b[0;34m==\u001b[0m \u001b[0m_DatasetKind\u001b[0m\u001b[0;34m.\u001b[0m\u001b[0mIterable\u001b[0m \u001b[0;32mand\u001b[0m\u001b[0;31m \u001b[0m\u001b[0;31m\\\u001b[0m\u001b[0;34m\u001b[0m\u001b[0;34m\u001b[0m\u001b[0m\n",
            "\u001b[0;32m/usr/local/lib/python3.10/dist-packages/torch/utils/data/dataloader.py\u001b[0m in \u001b[0;36m_next_data\u001b[0;34m(self)\u001b[0m\n\u001b[1;32m    673\u001b[0m     \u001b[0;32mdef\u001b[0m \u001b[0m_next_data\u001b[0m\u001b[0;34m(\u001b[0m\u001b[0mself\u001b[0m\u001b[0;34m)\u001b[0m\u001b[0;34m:\u001b[0m\u001b[0;34m\u001b[0m\u001b[0;34m\u001b[0m\u001b[0m\n\u001b[1;32m    674\u001b[0m         \u001b[0mindex\u001b[0m \u001b[0;34m=\u001b[0m \u001b[0mself\u001b[0m\u001b[0;34m.\u001b[0m\u001b[0m_next_index\u001b[0m\u001b[0;34m(\u001b[0m\u001b[0;34m)\u001b[0m  \u001b[0;31m# may raise StopIteration\u001b[0m\u001b[0;34m\u001b[0m\u001b[0;34m\u001b[0m\u001b[0m\n\u001b[0;32m--> 675\u001b[0;31m         \u001b[0mdata\u001b[0m \u001b[0;34m=\u001b[0m \u001b[0mself\u001b[0m\u001b[0;34m.\u001b[0m\u001b[0m_dataset_fetcher\u001b[0m\u001b[0;34m.\u001b[0m\u001b[0mfetch\u001b[0m\u001b[0;34m(\u001b[0m\u001b[0mindex\u001b[0m\u001b[0;34m)\u001b[0m  \u001b[0;31m# may raise StopIteration\u001b[0m\u001b[0;34m\u001b[0m\u001b[0;34m\u001b[0m\u001b[0m\n\u001b[0m\u001b[1;32m    676\u001b[0m         \u001b[0;32mif\u001b[0m \u001b[0mself\u001b[0m\u001b[0;34m.\u001b[0m\u001b[0m_pin_memory\u001b[0m\u001b[0;34m:\u001b[0m\u001b[0;34m\u001b[0m\u001b[0;34m\u001b[0m\u001b[0m\n\u001b[1;32m    677\u001b[0m             \u001b[0mdata\u001b[0m \u001b[0;34m=\u001b[0m \u001b[0m_utils\u001b[0m\u001b[0;34m.\u001b[0m\u001b[0mpin_memory\u001b[0m\u001b[0;34m.\u001b[0m\u001b[0mpin_memory\u001b[0m\u001b[0;34m(\u001b[0m\u001b[0mdata\u001b[0m\u001b[0;34m,\u001b[0m \u001b[0mself\u001b[0m\u001b[0;34m.\u001b[0m\u001b[0m_pin_memory_device\u001b[0m\u001b[0;34m)\u001b[0m\u001b[0;34m\u001b[0m\u001b[0;34m\u001b[0m\u001b[0m\n",
            "\u001b[0;32m/usr/local/lib/python3.10/dist-packages/torch/utils/data/_utils/fetch.py\u001b[0m in \u001b[0;36mfetch\u001b[0;34m(self, possibly_batched_index)\u001b[0m\n\u001b[1;32m     52\u001b[0m         \u001b[0;32melse\u001b[0m\u001b[0;34m:\u001b[0m\u001b[0;34m\u001b[0m\u001b[0;34m\u001b[0m\u001b[0m\n\u001b[1;32m     53\u001b[0m             \u001b[0mdata\u001b[0m \u001b[0;34m=\u001b[0m \u001b[0mself\u001b[0m\u001b[0;34m.\u001b[0m\u001b[0mdataset\u001b[0m\u001b[0;34m[\u001b[0m\u001b[0mpossibly_batched_index\u001b[0m\u001b[0;34m]\u001b[0m\u001b[0;34m\u001b[0m\u001b[0;34m\u001b[0m\u001b[0m\n\u001b[0;32m---> 54\u001b[0;31m         \u001b[0;32mreturn\u001b[0m \u001b[0mself\u001b[0m\u001b[0;34m.\u001b[0m\u001b[0mcollate_fn\u001b[0m\u001b[0;34m(\u001b[0m\u001b[0mdata\u001b[0m\u001b[0;34m)\u001b[0m\u001b[0;34m\u001b[0m\u001b[0;34m\u001b[0m\u001b[0m\n\u001b[0m",
            "\u001b[0;32m/usr/local/lib/python3.10/dist-packages/torch/utils/data/_utils/collate.py\u001b[0m in \u001b[0;36mdefault_collate\u001b[0;34m(batch)\u001b[0m\n\u001b[1;32m    275\u001b[0m         \u001b[0;34m>>\u001b[0m\u001b[0;34m>\u001b[0m \u001b[0mdefault_collate\u001b[0m\u001b[0;34m(\u001b[0m\u001b[0mbatch\u001b[0m\u001b[0;34m)\u001b[0m  \u001b[0;31m# Handle `CustomType` automatically\u001b[0m\u001b[0;34m\u001b[0m\u001b[0;34m\u001b[0m\u001b[0m\n\u001b[1;32m    276\u001b[0m     \"\"\"\n\u001b[0;32m--> 277\u001b[0;31m     \u001b[0;32mreturn\u001b[0m \u001b[0mcollate\u001b[0m\u001b[0;34m(\u001b[0m\u001b[0mbatch\u001b[0m\u001b[0;34m,\u001b[0m \u001b[0mcollate_fn_map\u001b[0m\u001b[0;34m=\u001b[0m\u001b[0mdefault_collate_fn_map\u001b[0m\u001b[0;34m)\u001b[0m\u001b[0;34m\u001b[0m\u001b[0;34m\u001b[0m\u001b[0m\n\u001b[0m",
            "\u001b[0;32m/usr/local/lib/python3.10/dist-packages/torch/utils/data/_utils/collate.py\u001b[0m in \u001b[0;36mcollate\u001b[0;34m(batch, collate_fn_map)\u001b[0m\n\u001b[1;32m    142\u001b[0m \u001b[0;34m\u001b[0m\u001b[0m\n\u001b[1;32m    143\u001b[0m         \u001b[0;32mif\u001b[0m \u001b[0misinstance\u001b[0m\u001b[0;34m(\u001b[0m\u001b[0melem\u001b[0m\u001b[0;34m,\u001b[0m \u001b[0mtuple\u001b[0m\u001b[0;34m)\u001b[0m\u001b[0;34m:\u001b[0m\u001b[0;34m\u001b[0m\u001b[0;34m\u001b[0m\u001b[0m\n\u001b[0;32m--> 144\u001b[0;31m             \u001b[0;32mreturn\u001b[0m \u001b[0;34m[\u001b[0m\u001b[0mcollate\u001b[0m\u001b[0;34m(\u001b[0m\u001b[0msamples\u001b[0m\u001b[0;34m,\u001b[0m \u001b[0mcollate_fn_map\u001b[0m\u001b[0;34m=\u001b[0m\u001b[0mcollate_fn_map\u001b[0m\u001b[0;34m)\u001b[0m \u001b[0;32mfor\u001b[0m \u001b[0msamples\u001b[0m \u001b[0;32min\u001b[0m \u001b[0mtransposed\u001b[0m\u001b[0;34m]\u001b[0m  \u001b[0;31m# Backwards compatibility.\u001b[0m\u001b[0;34m\u001b[0m\u001b[0;34m\u001b[0m\u001b[0m\n\u001b[0m\u001b[1;32m    145\u001b[0m         \u001b[0;32melse\u001b[0m\u001b[0;34m:\u001b[0m\u001b[0;34m\u001b[0m\u001b[0;34m\u001b[0m\u001b[0m\n\u001b[1;32m    146\u001b[0m             \u001b[0;32mtry\u001b[0m\u001b[0;34m:\u001b[0m\u001b[0;34m\u001b[0m\u001b[0;34m\u001b[0m\u001b[0m\n",
            "\u001b[0;32m/usr/local/lib/python3.10/dist-packages/torch/utils/data/_utils/collate.py\u001b[0m in \u001b[0;36m<listcomp>\u001b[0;34m(.0)\u001b[0m\n\u001b[1;32m    142\u001b[0m \u001b[0;34m\u001b[0m\u001b[0m\n\u001b[1;32m    143\u001b[0m         \u001b[0;32mif\u001b[0m \u001b[0misinstance\u001b[0m\u001b[0;34m(\u001b[0m\u001b[0melem\u001b[0m\u001b[0;34m,\u001b[0m \u001b[0mtuple\u001b[0m\u001b[0;34m)\u001b[0m\u001b[0;34m:\u001b[0m\u001b[0;34m\u001b[0m\u001b[0;34m\u001b[0m\u001b[0m\n\u001b[0;32m--> 144\u001b[0;31m             \u001b[0;32mreturn\u001b[0m \u001b[0;34m[\u001b[0m\u001b[0mcollate\u001b[0m\u001b[0;34m(\u001b[0m\u001b[0msamples\u001b[0m\u001b[0;34m,\u001b[0m \u001b[0mcollate_fn_map\u001b[0m\u001b[0;34m=\u001b[0m\u001b[0mcollate_fn_map\u001b[0m\u001b[0;34m)\u001b[0m \u001b[0;32mfor\u001b[0m \u001b[0msamples\u001b[0m \u001b[0;32min\u001b[0m \u001b[0mtransposed\u001b[0m\u001b[0;34m]\u001b[0m  \u001b[0;31m# Backwards compatibility.\u001b[0m\u001b[0;34m\u001b[0m\u001b[0;34m\u001b[0m\u001b[0m\n\u001b[0m\u001b[1;32m    145\u001b[0m         \u001b[0;32melse\u001b[0m\u001b[0;34m:\u001b[0m\u001b[0;34m\u001b[0m\u001b[0;34m\u001b[0m\u001b[0m\n\u001b[1;32m    146\u001b[0m             \u001b[0;32mtry\u001b[0m\u001b[0;34m:\u001b[0m\u001b[0;34m\u001b[0m\u001b[0;34m\u001b[0m\u001b[0m\n",
            "\u001b[0;32m/usr/local/lib/python3.10/dist-packages/torch/utils/data/_utils/collate.py\u001b[0m in \u001b[0;36mcollate\u001b[0;34m(batch, collate_fn_map)\u001b[0m\n\u001b[1;32m    119\u001b[0m     \u001b[0;32mif\u001b[0m \u001b[0mcollate_fn_map\u001b[0m \u001b[0;32mis\u001b[0m \u001b[0;32mnot\u001b[0m \u001b[0;32mNone\u001b[0m\u001b[0;34m:\u001b[0m\u001b[0;34m\u001b[0m\u001b[0;34m\u001b[0m\u001b[0m\n\u001b[1;32m    120\u001b[0m         \u001b[0;32mif\u001b[0m \u001b[0melem_type\u001b[0m \u001b[0;32min\u001b[0m \u001b[0mcollate_fn_map\u001b[0m\u001b[0;34m:\u001b[0m\u001b[0;34m\u001b[0m\u001b[0;34m\u001b[0m\u001b[0m\n\u001b[0;32m--> 121\u001b[0;31m             \u001b[0;32mreturn\u001b[0m \u001b[0mcollate_fn_map\u001b[0m\u001b[0;34m[\u001b[0m\u001b[0melem_type\u001b[0m\u001b[0;34m]\u001b[0m\u001b[0;34m(\u001b[0m\u001b[0mbatch\u001b[0m\u001b[0;34m,\u001b[0m \u001b[0mcollate_fn_map\u001b[0m\u001b[0;34m=\u001b[0m\u001b[0mcollate_fn_map\u001b[0m\u001b[0;34m)\u001b[0m\u001b[0;34m\u001b[0m\u001b[0;34m\u001b[0m\u001b[0m\n\u001b[0m\u001b[1;32m    122\u001b[0m \u001b[0;34m\u001b[0m\u001b[0m\n\u001b[1;32m    123\u001b[0m         \u001b[0;32mfor\u001b[0m \u001b[0mcollate_type\u001b[0m \u001b[0;32min\u001b[0m \u001b[0mcollate_fn_map\u001b[0m\u001b[0;34m:\u001b[0m\u001b[0;34m\u001b[0m\u001b[0;34m\u001b[0m\u001b[0m\n",
            "\u001b[0;32m/usr/local/lib/python3.10/dist-packages/torch/utils/data/_utils/collate.py\u001b[0m in \u001b[0;36mcollate_tensor_fn\u001b[0;34m(batch, collate_fn_map)\u001b[0m\n\u001b[1;32m    172\u001b[0m         \u001b[0mstorage\u001b[0m \u001b[0;34m=\u001b[0m \u001b[0melem\u001b[0m\u001b[0;34m.\u001b[0m\u001b[0m_typed_storage\u001b[0m\u001b[0;34m(\u001b[0m\u001b[0;34m)\u001b[0m\u001b[0;34m.\u001b[0m\u001b[0m_new_shared\u001b[0m\u001b[0;34m(\u001b[0m\u001b[0mnumel\u001b[0m\u001b[0;34m,\u001b[0m \u001b[0mdevice\u001b[0m\u001b[0;34m=\u001b[0m\u001b[0melem\u001b[0m\u001b[0;34m.\u001b[0m\u001b[0mdevice\u001b[0m\u001b[0;34m)\u001b[0m\u001b[0;34m\u001b[0m\u001b[0;34m\u001b[0m\u001b[0m\n\u001b[1;32m    173\u001b[0m         \u001b[0mout\u001b[0m \u001b[0;34m=\u001b[0m \u001b[0melem\u001b[0m\u001b[0;34m.\u001b[0m\u001b[0mnew\u001b[0m\u001b[0;34m(\u001b[0m\u001b[0mstorage\u001b[0m\u001b[0;34m)\u001b[0m\u001b[0;34m.\u001b[0m\u001b[0mresize_\u001b[0m\u001b[0;34m(\u001b[0m\u001b[0mlen\u001b[0m\u001b[0;34m(\u001b[0m\u001b[0mbatch\u001b[0m\u001b[0;34m)\u001b[0m\u001b[0;34m,\u001b[0m \u001b[0;34m*\u001b[0m\u001b[0mlist\u001b[0m\u001b[0;34m(\u001b[0m\u001b[0melem\u001b[0m\u001b[0;34m.\u001b[0m\u001b[0msize\u001b[0m\u001b[0;34m(\u001b[0m\u001b[0;34m)\u001b[0m\u001b[0;34m)\u001b[0m\u001b[0;34m)\u001b[0m\u001b[0;34m\u001b[0m\u001b[0;34m\u001b[0m\u001b[0m\n\u001b[0;32m--> 174\u001b[0;31m     \u001b[0;32mreturn\u001b[0m \u001b[0mtorch\u001b[0m\u001b[0;34m.\u001b[0m\u001b[0mstack\u001b[0m\u001b[0;34m(\u001b[0m\u001b[0mbatch\u001b[0m\u001b[0;34m,\u001b[0m \u001b[0;36m0\u001b[0m\u001b[0;34m,\u001b[0m \u001b[0mout\u001b[0m\u001b[0;34m=\u001b[0m\u001b[0mout\u001b[0m\u001b[0;34m)\u001b[0m\u001b[0;34m\u001b[0m\u001b[0;34m\u001b[0m\u001b[0m\n\u001b[0m\u001b[1;32m    175\u001b[0m \u001b[0;34m\u001b[0m\u001b[0m\n\u001b[1;32m    176\u001b[0m \u001b[0;34m\u001b[0m\u001b[0m\n",
            "\u001b[0;31mRuntimeError\u001b[0m: stack expects each tensor to be equal size, but got [2] at entry 0 and [1] at entry 112"
          ]
        }
      ]
    },
    {
      "cell_type": "code",
      "source": [
        "test(CNN2, criterion, combined_dataloader)"
      ],
      "metadata": {
        "colab": {
          "base_uri": "https://localhost:8080/"
        },
        "id": "4V8ut_AQt-sd",
        "outputId": "c7f8317a-c3c9-47ab-bbb3-bebdc75977d2"
      },
      "execution_count": 142,
      "outputs": [
        {
          "output_type": "stream",
          "name": "stdout",
          "text": [
            "0 :: Loss: 30.013607025146484 ,Test accuracy: 0.6015625\n",
            "1 :: Loss: 42.262535095214844 ,Test accuracy: 0.5390625\n",
            "2 :: Loss: 32.87379455566406 ,Test accuracy: 0.609375\n",
            "3 :: Loss: 29.968687057495117 ,Test accuracy: 0.6484375\n",
            "4 :: Loss: 30.023483276367188 ,Test accuracy: 0.6171875\n",
            "5 :: Loss: 34.0621452331543 ,Test accuracy: 0.59375\n",
            "6 :: Loss: 35.534324645996094 ,Test accuracy: 0.6015625\n",
            "7 :: Loss: 26.806791305541992 ,Test accuracy: 0.6953125\n",
            "8 :: Loss: 37.4066162109375 ,Test accuracy: 0.5703125\n",
            "9 :: Loss: 27.755645751953125 ,Test accuracy: 0.6640625\n",
            "10 :: Loss: 42.54936218261719 ,Test accuracy: 0.5234375\n",
            "11 :: Loss: 42.844078063964844 ,Test accuracy: 0.5390625\n",
            "12 :: Loss: 47.98371124267578 ,Test accuracy: 0.4453125\n",
            "13 :: Loss: 53.57196044921875 ,Test accuracy: 0.359375\n",
            "14 :: Loss: 49.318763732910156 ,Test accuracy: 0.4296875\n",
            "15 :: Loss: 48.903194427490234 ,Test accuracy: 0.4296875\n",
            "16 :: Loss: 47.28243637084961 ,Test accuracy: 0.4765625\n",
            "17 :: Loss: 48.26862335205078 ,Test accuracy: 0.453125\n",
            "18 :: Loss: 44.75733184814453 ,Test accuracy: 0.46875\n",
            "19 :: Loss: 48.731101989746094 ,Test accuracy: 0.4375\n",
            "20 :: Loss: 54.9379768371582 ,Test accuracy: 0.3359375\n",
            "21 :: Loss: 45.96614456176758 ,Test accuracy: 0.484375\n",
            "22 :: Loss: 39.95246887207031 ,Test accuracy: 0.5234375\n",
            "23 :: Loss: 54.66141891479492 ,Test accuracy: 0.3828125\n",
            "24 :: Loss: 52.5747184753418 ,Test accuracy: 0.3828125\n",
            "25 :: Loss: 54.71902084350586 ,Test accuracy: 0.390625\n",
            "26 :: Loss: 52.4476432800293 ,Test accuracy: 0.4375\n",
            "27 :: Loss: 49.24018096923828 ,Test accuracy: 0.4375\n",
            "28 :: Loss: 15.341939926147461 ,Test accuracy: 0.78125\n",
            "29 :: Loss: 7.031490325927734 ,Test accuracy: 0.9140625\n",
            "30 :: Loss: 9.93921184539795 ,Test accuracy: 0.859375\n",
            "31 :: Loss: 13.345848083496094 ,Test accuracy: 0.7890625\n",
            "32 :: Loss: 11.0429048538208 ,Test accuracy: 0.828125\n",
            "33 :: Loss: 15.513518333435059 ,Test accuracy: 0.796875\n",
            "34 :: Loss: 27.12846565246582 ,Test accuracy: 0.6796875\n",
            "35 :: Loss: 32.089969635009766 ,Test accuracy: 0.6015625\n",
            "36 :: Loss: 47.44004821777344 ,Test accuracy: 0.4296875\n",
            "37 :: Loss: 48.07518768310547 ,Test accuracy: 0.484375\n",
            "38 :: Loss: 55.23194885253906 ,Test accuracy: 0.3984375\n",
            "39 :: Loss: 42.025177001953125 ,Test accuracy: 0.5078125\n",
            "40 :: Loss: 52.478424072265625 ,Test accuracy: 0.390625\n",
            "41 :: Loss: 47.214576721191406 ,Test accuracy: 0.453125\n",
            "42 :: Loss: 44.83270263671875 ,Test accuracy: 0.4921875\n",
            "43 :: Loss: 53.824195861816406 ,Test accuracy: 0.390625\n",
            "44 :: Loss: 46.52114486694336 ,Test accuracy: 0.453125\n",
            "45 :: Loss: 50.87763595581055 ,Test accuracy: 0.421875\n",
            "46 :: Loss: 49.69789123535156 ,Test accuracy: 0.44642857142857145\n"
          ]
        }
      ]
    },
    {
      "cell_type": "code",
      "source": [
        "pred_class1, pred_class2 = get_predictions(combined_dataloader, CNN2)"
      ],
      "metadata": {
        "id": "-h0cHbESuFJv"
      },
      "execution_count": 124,
      "outputs": []
    },
    {
      "cell_type": "code",
      "source": [
        "a = np.array(pred_class1)\n",
        "a.shape"
      ],
      "metadata": {
        "id": "OJH_dHV_CtCE",
        "outputId": "7b9f6578-9b49-45bf-8afa-2ab864f825e4",
        "colab": {
          "base_uri": "https://localhost:8080/"
        }
      },
      "execution_count": 125,
      "outputs": [
        {
          "output_type": "execute_result",
          "data": {
            "text/plain": [
              "(2400,)"
            ]
          },
          "metadata": {},
          "execution_count": 125
        }
      ]
    },
    {
      "cell_type": "code",
      "source": [
        "combined_labels = np.array([y for _, y in combined_dataset])"
      ],
      "metadata": {
        "id": "J_l7AYyh6p0C"
      },
      "execution_count": null,
      "outputs": []
    },
    {
      "cell_type": "code",
      "source": [
        "Y_comb = np.append(Y1, Y1)"
      ],
      "metadata": {
        "id": "ysZU-VpP7ijG"
      },
      "execution_count": 126,
      "outputs": []
    },
    {
      "cell_type": "code",
      "source": [
        "plt.scatter(Y_comb, pred_class1, label='Antiferromagnetic')\n",
        "plt.scatter(Y_comb, pred_class2, label='Paramagnetic')\n",
        "plt.legend()"
      ],
      "metadata": {
        "colab": {
          "base_uri": "https://localhost:8080/",
          "height": 447
        },
        "id": "96mOKdCcuINA",
        "outputId": "e31cee22-f6b9-405f-fe50-de79e053c691"
      },
      "execution_count": 127,
      "outputs": [
        {
          "output_type": "execute_result",
          "data": {
            "text/plain": [
              "<matplotlib.legend.Legend at 0x7b83ca0fe140>"
            ]
          },
          "metadata": {},
          "execution_count": 127
        },
        {
          "output_type": "display_data",
          "data": {
            "text/plain": [
              "<Figure size 640x480 with 1 Axes>"
            ],
            "image/png": "[encoded data removed]"
          },
          "metadata": {}
        }
      ]
    },
    {
      "cell_type": "code",
      "source": [
        "plot_feature_map(CNN2, X1[100], Y1[100], print_data = True)"
      ],
      "metadata": {
        "colab": {
          "base_uri": "https://localhost:8080/",
          "height": 573
        },
        "id": "AXxyKS-3-m3L",
        "outputId": "2a5a0837-465b-4165-8dc4-a0879d2204f1"
      },
      "execution_count": 154,
      "outputs": [
        {
          "output_type": "stream",
          "name": "stdout",
          "text": [
            "[[0.08239272 0.6047244  0.08239272 ... 0.08239272 0.6047244  0.08239272]\n",
            " [0.08239272 0.6047244  0.08239272 ... 0.08239272 0.6047244  0.08239272]\n",
            " [0.08239272 0.6047244  0.08239272 ... 0.08239272 0.6047244  0.08239272]\n",
            " ...\n",
            " [0.08239272 0.6047244  0.08239272 ... 0.08239272 0.6047244  0.08239272]\n",
            " [0.08239272 0.6047244  0.08239272 ... 0.08239272 0.6047244  0.08239272]\n",
            " [0.08239272 0.6047244  0.08239272 ... 0.08239272 0.6047244  0.08239272]]\n"
          ]
        },
        {
          "output_type": "display_data",
          "data": {
            "text/plain": [
              "<Figure size 640x480 with 2 Axes>"
            ],
            "image/png": "[encoded data removed]"
          },
          "metadata": {}
        }
      ]
    },
    {
      "cell_type": "markdown",
      "source": [
        "###### Transfer learning on NNN R=+2 data"
      ],
      "metadata": {
        "id": "2lRHIdStAkUK"
      }
    },
    {
      "cell_type": "code",
      "source": [
        "import torch\n",
        "import torch.nn as nn\n",
        "import torch.optim as optim\n",
        "\n",
        "# Load your pre-trained model\n",
        "model2 = ConvNet(Nx, Ny)  # or load from saved state\n",
        "pretrained_model = ConvNet(Nx, Ny)\n",
        "state_dict = torch.load(\"CNN_anti.pth\")\n",
        "pretrained_model.load_state_dict(state_dict)\n",
        "model2.conv1.weight.data = CNNstripes.conv1.weight.data\n",
        "model2.conv1.bias.data = CNNstripes.conv1.bias.data\n",
        "####\n",
        "# model.fc1.weight.data = pretrained_model.fc1.weight.data\n",
        "# model.fc1.bias.data = pretrained_model.fc1.bias.data\n",
        "\n",
        "model2.fc2.weight.data = pretrained_model.fc2.weight.data\n",
        "model2.fc2.bias.data = pretrained_model.fc2.bias.data\n",
        "\n",
        "# Freeze all parameters in the model first\n",
        "for param in model2.parameters():\n",
        "    param.requires_grad = False\n",
        "\n",
        "# Unfreeze the layers that you want to train (fc1 and fc2)\n",
        "model2.fc1.weight.requires_grad = True\n",
        "model2.fc1.bias.requires_grad = True\n",
        "model2.fc2.weight.requires_grad = True\n",
        "model2.fc2.bias.requires_grad = True\n",
        "\n",
        "model2.to(device)\n",
        "\n",
        "# Setup optimizer - only optimize the unfrozen parameters\n",
        "optimizer = optim.Adam([\n",
        "    {'params': model2.fc1.parameters()},\n",
        "    {'params': model2.fc2.parameters()}\n",
        "], lr=1e-4, betas=[0.9,0.999])\n",
        "# optimizer = optim.Adam(model.parameters(), lr=1e-4, betas=[0.9,0.999])\n",
        "\n",
        "# Define the loss function\n",
        "criterion = nn.BCELoss()\n",
        "\n",
        "\n",
        "# Example usage of the training function with dataloader8\n",
        "train(model2, num_epochs=20, criterion=criterion, optimizer=optimizer, train_dataloader=combined_dataloader_wo_aug123)\n"
      ],
      "metadata": {
        "id": "a1QqhgRlNHFa",
        "outputId": "4b5c909f-31e9-4a26-fd60-2508be289e75",
        "colab": {
          "base_uri": "https://localhost:8080/"
        }
      },
      "execution_count": 247,
      "outputs": [
        {
          "output_type": "stream",
          "name": "stdout",
          "text": [
            "Loss: 0.6311445236206055 ,Train accuracy: 0.8046875\n",
            "Loss: 0.18573588132858276 ,Train accuracy: 0.96875\n",
            "Loss: 60.68537139892578 ,Train accuracy: 0.0703125\n",
            "Loss: 0.4542888402938843 ,Train accuracy: 0.9453125\n",
            "Loss: 2.6802117824554443 ,Train accuracy: 0.921875\n",
            "Loss: 74.46214294433594 ,Train accuracy: 0.046875\n",
            "Loss: 3.353804588317871 ,Train accuracy: 0.875\n",
            "Loss: 3.794844150543213 ,Train accuracy: 0.8984375\n",
            "Loss: 74.63880157470703 ,Train accuracy: 0.0859375\n",
            "Loss: 2.2066478729248047 ,Train accuracy: 0.9453125\n",
            "Loss: 2.0957694053649902 ,Train accuracy: 0.9609375\n",
            "Loss: 82.76739501953125 ,Train accuracy: 0.0390625\n",
            "Loss: 1.6702113151550293 ,Train accuracy: 0.9375\n",
            "Loss: 3.063051700592041 ,Train accuracy: 0.921875\n",
            "Loss: 75.49563598632812 ,Train accuracy: 0.1171875\n",
            "Loss: 4.176292419433594 ,Train accuracy: 0.9375\n",
            "Loss: 9.108317375183105 ,Train accuracy: 0.8515625\n",
            "Loss: 78.2739028930664 ,Train accuracy: 0.09375\n",
            "Loss: 6.229202747344971 ,Train accuracy: 0.8828125\n",
            "Loss: 3.6259799003601074 ,Train accuracy: 0.90625\n",
            "Loss: 79.66693878173828 ,Train accuracy: 0.0859375\n",
            "Loss: 6.877777099609375 ,Train accuracy: 0.875\n",
            "Loss: 5.420393466949463 ,Train accuracy: 0.9140625\n",
            "Loss: 82.5634536743164 ,Train accuracy: 0.09375\n",
            "Loss: 5.366166114807129 ,Train accuracy: 0.875\n",
            "Loss: 3.0478062629699707 ,Train accuracy: 0.90625\n",
            "Loss: 80.04150390625 ,Train accuracy: 0.125\n",
            "Loss: 3.8000922203063965 ,Train accuracy: 0.9453125\n",
            "Loss: 5.458639144897461 ,Train accuracy: 0.90625\n",
            "Loss: 82.17997741699219 ,Train accuracy: 0.1171875\n",
            "Loss: 6.434609413146973 ,Train accuracy: 0.90625\n",
            "Loss: 5.79849100112915 ,Train accuracy: 0.890625\n",
            "Loss: 88.31501007080078 ,Train accuracy: 0.078125\n",
            "Loss: 6.717808723449707 ,Train accuracy: 0.90625\n",
            "Loss: 2.701345920562744 ,Train accuracy: 0.9453125\n",
            "Loss: 88.88006591796875 ,Train accuracy: 0.0859375\n",
            "Loss: 3.387737274169922 ,Train accuracy: 0.9453125\n",
            "Loss: 3.7410902976989746 ,Train accuracy: 0.921875\n",
            "Loss: 87.65293884277344 ,Train accuracy: 0.0859375\n",
            "Loss: 10.649077415466309 ,Train accuracy: 0.8515625\n",
            "Loss: 7.0681328773498535 ,Train accuracy: 0.890625\n",
            "Loss: 87.67481994628906 ,Train accuracy: 0.09375\n",
            "Loss: 7.2648138999938965 ,Train accuracy: 0.8984375\n",
            "Loss: 2.9861292839050293 ,Train accuracy: 0.953125\n",
            "Loss: 80.0495834350586 ,Train accuracy: 0.125\n",
            "Loss: 7.195557594299316 ,Train accuracy: 0.8828125\n",
            "Loss: 7.777473449707031 ,Train accuracy: 0.875\n",
            "Loss: 83.16706848144531 ,Train accuracy: 0.109375\n",
            "Loss: 6.997125148773193 ,Train accuracy: 0.90625\n",
            "Loss: 9.786162376403809 ,Train accuracy: 0.875\n",
            "Loss: 79.77467346191406 ,Train accuracy: 0.1484375\n",
            "Loss: 9.008411407470703 ,Train accuracy: 0.875\n",
            "Loss: 9.444128036499023 ,Train accuracy: 0.8828125\n",
            "Loss: 80.96147918701172 ,Train accuracy: 0.140625\n",
            "Loss: 2.8423123359680176 ,Train accuracy: 0.9375\n",
            "Loss: 10.99502944946289 ,Train accuracy: 0.8515625\n",
            "Loss: 90.88479614257812 ,Train accuracy: 0.0703125\n",
            "Loss: 7.390138149261475 ,Train accuracy: 0.90625\n",
            "Loss: 7.349444389343262 ,Train accuracy: 0.90625\n",
            "Loss: 80.88355255126953 ,Train accuracy: 0.1328125\n"
          ]
        }
      ]
    },
    {
      "cell_type": "code",
      "source": [
        "test(model2, criterion, combined_dataloader_wo_aug123)"
      ],
      "metadata": {
        "id": "_xD4j9RfUjdX",
        "outputId": "2dea8630-e37d-49c0-f6ed-8a2e79b71758",
        "colab": {
          "base_uri": "https://localhost:8080/"
        }
      },
      "execution_count": 248,
      "outputs": [
        {
          "output_type": "stream",
          "name": "stdout",
          "text": [
            "0 :: Loss: 6.864424705505371 ,Test accuracy: 0.8984375\n",
            "1 :: Loss: 7.593120574951172 ,Test accuracy: 0.8828125\n",
            "2 :: Loss: 8.374237060546875 ,Test accuracy: 0.90625\n",
            "3 :: Loss: 7.682986259460449 ,Test accuracy: 0.8671875\n",
            "4 :: Loss: 8.581506729125977 ,Test accuracy: 0.8984375\n",
            "5 :: Loss: 12.813628196716309 ,Test accuracy: 0.84375\n",
            "6 :: Loss: 11.642353057861328 ,Test accuracy: 0.8671875\n",
            "7 :: Loss: 25.146757125854492 ,Test accuracy: 0.703125\n",
            "8 :: Loss: 79.87289428710938 ,Test accuracy: 0.15625\n",
            "9 :: Loss: 79.00057983398438 ,Test accuracy: 0.171875\n",
            "10 :: Loss: 79.99528503417969 ,Test accuracy: 0.140625\n",
            "11 :: Loss: 75.73442077636719 ,Test accuracy: 0.1953125\n",
            "12 :: Loss: 79.87281036376953 ,Test accuracy: 0.1796875\n",
            "13 :: Loss: 84.82415008544922 ,Test accuracy: 0.1328125\n",
            "14 :: Loss: 83.70866394042969 ,Test accuracy: 0.1484375\n",
            "15 :: Loss: 84.25352478027344 ,Test accuracy: 0.1171875\n",
            "16 :: Loss: 79.3724594116211 ,Test accuracy: 0.15625\n",
            "17 :: Loss: 80.77681732177734 ,Test accuracy: 0.140625\n",
            "18 :: Loss: 63.852195739746094 ,Test accuracy: 0.328125\n",
            "19 :: Loss: 7.216336250305176 ,Test accuracy: 0.90625\n",
            "20 :: Loss: 9.79838752746582 ,Test accuracy: 0.8828125\n",
            "21 :: Loss: 10.820158004760742 ,Test accuracy: 0.859375\n",
            "22 :: Loss: 39.16265106201172 ,Test accuracy: 0.5390625\n",
            "23 :: Loss: 78.35000610351562 ,Test accuracy: 0.171875\n",
            "24 :: Loss: 79.0352554321289 ,Test accuracy: 0.1875\n",
            "25 :: Loss: 77.77510070800781 ,Test accuracy: 0.1640625\n",
            "26 :: Loss: 79.99034881591797 ,Test accuracy: 0.1875\n",
            "27 :: Loss: 80.68547058105469 ,Test accuracy: 0.1640625\n",
            "28 :: Loss: 15.969034194946289 ,Test accuracy: 0.8046875\n",
            "29 :: Loss: 8.917766571044922 ,Test accuracy: 0.875\n",
            "30 :: Loss: 12.957338333129883 ,Test accuracy: 0.828125\n",
            "31 :: Loss: 9.825084686279297 ,Test accuracy: 0.875\n",
            "32 :: Loss: 13.289387702941895 ,Test accuracy: 0.84375\n",
            "33 :: Loss: 13.162394523620605 ,Test accuracy: 0.8046875\n",
            "34 :: Loss: 13.935583114624023 ,Test accuracy: 0.8203125\n",
            "35 :: Loss: 11.384721755981445 ,Test accuracy: 0.8515625\n",
            "36 :: Loss: 81.60203552246094 ,Test accuracy: 0.1484375\n",
            "37 :: Loss: 81.98526763916016 ,Test accuracy: 0.1484375\n",
            "38 :: Loss: 85.89312744140625 ,Test accuracy: 0.1015625\n",
            "39 :: Loss: 83.5256118774414 ,Test accuracy: 0.1484375\n",
            "40 :: Loss: 77.86752319335938 ,Test accuracy: 0.1640625\n",
            "41 :: Loss: 82.45652770996094 ,Test accuracy: 0.125\n",
            "42 :: Loss: 74.896240234375 ,Test accuracy: 0.203125\n",
            "43 :: Loss: 75.18811798095703 ,Test accuracy: 0.21875\n",
            "44 :: Loss: 80.85453796386719 ,Test accuracy: 0.1328125\n",
            "45 :: Loss: 83.92417907714844 ,Test accuracy: 0.1015625\n",
            "46 :: Loss: 81.95211791992188 ,Test accuracy: 0.125\n"
          ]
        }
      ]
    },
    {
      "cell_type": "code",
      "source": [
        "import torch\n",
        "import torch.nn as nn\n",
        "import torch.optim as optim\n",
        "\n",
        "# Load your pre-trained model\n",
        "model = ConvNet(Nx, Ny)  # or load from saved state\n",
        "pretrained_model = ConvNet(Nx, Ny)\n",
        "state_dict = torch.load(\"CNN_anti.pth\")\n",
        "pretrained_model.load_state_dict(state_dict)\n",
        "model.conv1.weight.data = pretrained_model.conv1.weight.data\n",
        "model.conv1.bias.data = pretrained_model.conv1.bias.data\n",
        "####\n",
        "# model.fc1.weight.data = pretrained_model.fc1.weight.data\n",
        "# model.fc1.bias.data = pretrained_model.fc1.bias.data\n",
        "\n",
        "model.fc2.weight.data = pretrained_model.fc2.weight.data\n",
        "model.fc2.bias.data = pretrained_model.fc2.bias.data\n",
        "\n",
        "# Freeze all parameters in the model first\n",
        "for param in model.parameters():\n",
        "    param.requires_grad = False\n",
        "\n",
        "# Unfreeze the layers that you want to train (fc1 and fc2)\n",
        "model.fc1.weight.requires_grad = True\n",
        "model.fc1.bias.requires_grad = True\n",
        "model.fc2.weight.requires_grad = True\n",
        "model.fc2.bias.requires_grad = True\n",
        "\n",
        "model.to(device)\n",
        "\n",
        "# Setup optimizer - only optimize the unfrozen parameters\n",
        "optimizer = optim.Adam([\n",
        "    {'params': model.fc1.parameters()},\n",
        "    {'params': model.fc2.parameters()}\n",
        "], lr=1e-3, betas=[0.9,0.999])\n",
        "# optimizer = optim.Adam(model.parameters(), lr=1e-4, betas=[0.9,0.999])\n",
        "\n",
        "# Define the loss function\n",
        "criterion = nn.BCELoss()\n",
        "\n",
        "\n",
        "# Example usage of the training function with dataloader8\n",
        "train(model, num_epochs=0, criterion=criterion, optimizer=optimizer, train_dataloader=combined_dataloader_wo_aug123)\n"
      ],
      "metadata": {
        "id": "vzSkxvbgjxGA"
      },
      "execution_count": 236,
      "outputs": []
    },
    {
      "cell_type": "code",
      "source": [
        "pred_class1, pred_class2 = get_predictions(combined_dataloader_wo_aug123, model2)"
      ],
      "metadata": {
        "id": "jT5GCYdfmqp_"
      },
      "execution_count": 249,
      "outputs": []
    },
    {
      "cell_type": "code",
      "source": [
        "a=np.array(pred_class1)\n",
        "a.shape"
      ],
      "metadata": {
        "id": "lTmvnS6kMCEJ",
        "outputId": "54518b77-1063-43ec-f45d-9d781034d93e",
        "colab": {
          "base_uri": "https://localhost:8080/"
        }
      },
      "execution_count": 250,
      "outputs": [
        {
          "output_type": "execute_result",
          "data": {
            "text/plain": [
              "(6000,)"
            ]
          },
          "metadata": {},
          "execution_count": 250
        }
      ]
    },
    {
      "cell_type": "code",
      "source": [
        "Y_comb12 = np.append(Y1, Y2)\n",
        "Y_comb123 = np.append(Y_comb12, Y3)\n",
        "Y_comb123.shape"
      ],
      "metadata": {
        "id": "D8lbY9u4Loio",
        "outputId": "72811557-d411-49a6-8ad4-688c577c72a0",
        "colab": {
          "base_uri": "https://localhost:8080/"
        }
      },
      "execution_count": 251,
      "outputs": [
        {
          "output_type": "execute_result",
          "data": {
            "text/plain": [
              "(6000,)"
            ]
          },
          "metadata": {},
          "execution_count": 251
        }
      ]
    },
    {
      "cell_type": "code",
      "source": [
        "plt.scatter(Y_comb123, pred_class1, label='Antiferromagnetic')\n",
        "plt.scatter(Y_comb123, pred_class2, label='Paramagnetic')\n",
        "plt.legend()"
      ],
      "metadata": {
        "colab": {
          "base_uri": "https://localhost:8080/",
          "height": 447
        },
        "outputId": "446ccc01-b094-4b8f-ebd6-8561d193699a",
        "id": "-7wgRSGbmqqA"
      },
      "execution_count": 252,
      "outputs": [
        {
          "output_type": "execute_result",
          "data": {
            "text/plain": [
              "<matplotlib.legend.Legend at 0x7b83ca551990>"
            ]
          },
          "metadata": {},
          "execution_count": 252
        },
        {
          "output_type": "display_data",
          "data": {
            "text/plain": [
              "<Figure size 640x480 with 1 Axes>"
            ],
            "image/png": "[encoded data removed]"
          },
          "metadata": {}
        }
      ]
    },
    {
      "cell_type": "markdown",
      "source": [
        "### Training CNN on horizontal and vertical stripes"
      ],
      "metadata": {
        "id": "xFTJli9GLkdp"
      }
    },
    {
      "cell_type": "code",
      "source": [
        "import numpy as np\n",
        "\n",
        "def generate_horizontal_stripes(size):\n",
        "    stripes = np.zeros((size, size))\n",
        "    for i in range(size):\n",
        "        if i % 2 == 0:\n",
        "            stripes[i] = 1\n",
        "    return stripes\n",
        "\n",
        "def generate_vertical_stripes(size):\n",
        "    stripes = np.zeros((size, size))\n",
        "    for i in range(size):\n",
        "        if i % 2 == 0:\n",
        "            stripes[:, i] = 1\n",
        "    return stripes\n",
        "\n",
        "def generate_dataset(num_samples, size):\n",
        "    dataset = []\n",
        "    labels = []\n",
        "    for _ in range(num_samples // 2):\n",
        "        horizontal_stripes = generate_horizontal_stripes(size)\n",
        "        vertical_stripes = generate_vertical_stripes(size)\n",
        "        dataset.append(horizontal_stripes)\n",
        "        dataset.append(vertical_stripes)\n",
        "        labels.append([0, 1])  # Label for horizontal stripes\n",
        "        labels.append([1, 0])  # Label for vertical stripes\n",
        "    return dataset, labels\n",
        "\n",
        "# Generate the dataset\n",
        "num_samples = 20000\n",
        "size = 64\n",
        "dataset, labels = generate_dataset(num_samples, size)\n",
        "\n",
        "# Convert lists to numpy arrays\n",
        "dataset = np.array(dataset)\n",
        "labels = np.array(labels)\n",
        "\n",
        "# Shuffle the dataset and labels\n",
        "shuffle_indices = np.random.permutation(num_samples)\n",
        "dataset = dataset[shuffle_indices]\n",
        "labels = labels[shuffle_indices]\n",
        "\n",
        "# Split the dataset into training and validation sets (80-20 split)\n",
        "split_index = int(0.8 * num_samples)\n",
        "train_dataset, val_dataset = dataset[:split_index], dataset[split_index:]\n",
        "train_labels, val_labels = labels[:split_index], labels[split_index:]\n",
        "\n",
        "# Print shapes of datasets and labels\n",
        "print(\"Training dataset shape:\", train_dataset.shape)\n",
        "print(\"Training labels shape:\", train_labels.shape)\n",
        "print(\"Validation dataset shape:\", val_dataset.shape)\n",
        "print(\"Validation labels shape:\", val_labels.shape)\n"
      ],
      "metadata": {
        "id": "hBuw73YvLvZT",
        "outputId": "6738292d-8710-4b5d-9ce3-0af75378b638",
        "colab": {
          "base_uri": "https://localhost:8080/"
        }
      },
      "execution_count": 212,
      "outputs": [
        {
          "output_type": "stream",
          "name": "stdout",
          "text": [
            "Training dataset shape: (16000, 64, 64)\n",
            "Training labels shape: (16000, 2)\n",
            "Validation dataset shape: (4000, 64, 64)\n",
            "Validation labels shape: (4000, 2)\n"
          ]
        }
      ]
    },
    {
      "cell_type": "code",
      "source": [
        "import torch\n",
        "from torch.utils.data import Dataset, DataLoader\n",
        "\n",
        "class StripesDataset(Dataset):\n",
        "    def __init__(self, dataset, labels, transform=None):\n",
        "        self.dataset = dataset\n",
        "        self.labels = labels\n",
        "        self.transform = transform\n",
        "\n",
        "    def __len__(self):\n",
        "        return len(self.dataset)\n",
        "\n",
        "    def __getitem__(self, idx):\n",
        "        sample = self.dataset[idx]\n",
        "        label = self.labels[idx]\n",
        "        if self.transform:\n",
        "            sample = self.transform(sample)\n",
        "        return sample, label\n",
        "\n",
        "# Define any transformations you want to apply to the data here\n",
        "# For example, you can convert the NumPy array to a PyTorch tensor\n",
        "transform = torch.tensor\n",
        "\n",
        "# Create training and validation datasets\n",
        "train_dataset = StripesDataset(train_dataset, train_labels, transform=transform)\n",
        "val_dataset = StripesDataset(val_dataset, val_labels, transform=transform)\n",
        "\n",
        "# Define batch size\n",
        "batch_size = 32\n",
        "\n",
        "# Create DataLoader instances for training and validation sets\n",
        "train_dataloader = DataLoader(train_dataset, batch_size=batch_size, shuffle=True)\n",
        "val_dataloader = DataLoader(val_dataset, batch_size=batch_size, shuffle=False)\n"
      ],
      "metadata": {
        "id": "673w0SkIRnqR"
      },
      "execution_count": 214,
      "outputs": []
    },
    {
      "cell_type": "code",
      "source": [
        "CNNstripes = ConvNet(Nx, Ny)\n",
        "CNNstripes.to(device)\n",
        "\n",
        "# Setup optimizer\n",
        "optimizer = optim.Adam(CNNstripes.parameters(), lr=1e-4, betas=[0.9,0.999])\n",
        "\n",
        "# Define the loss function\n",
        "criterion = nn.BCELoss()\n",
        "\n",
        "# Example usage of the training function with dataloader8\n",
        "train(CNNstripes, num_epochs=10, criterion=criterion, optimizer=optimizer, train_dataloader=train_dataloader)"
      ],
      "metadata": {
        "id": "OjGHar5SQ5-Y",
        "outputId": "0c7a4082-2399-453e-bbb2-080ee31299ec",
        "colab": {
          "base_uri": "https://localhost:8080/"
        }
      },
      "execution_count": 217,
      "outputs": [
        {
          "output_type": "stream",
          "name": "stdout",
          "text": [
            "Loss: 0.7014683485031128 ,Train accuracy: 0.46875\n",
            "Loss: 0.00236326246522367 ,Train accuracy: 1.0\n",
            "Loss: 0.002407826017588377 ,Train accuracy: 1.0\n",
            "Loss: 3.644883236120222e-06 ,Train accuracy: 1.0\n",
            "Loss: 4.0654881559021305e-06 ,Train accuracy: 1.0\n",
            "Loss: 4.525090480456129e-05 ,Train accuracy: 1.0\n",
            "Loss: 3.1272953492589295e-05 ,Train accuracy: 1.0\n",
            "Loss: 1.907734940687078e-06 ,Train accuracy: 1.0\n",
            "Loss: 0.0002373303286731243 ,Train accuracy: 1.0\n",
            "Loss: 3.675221933008288e-06 ,Train accuracy: 1.0\n",
            "Loss: 3.1851550374994986e-07 ,Train accuracy: 1.0\n",
            "Loss: 7.123898285499308e-06 ,Train accuracy: 1.0\n",
            "Loss: 0.0032088356092572212 ,Train accuracy: 1.0\n",
            "Loss: 2.476069198564801e-07 ,Train accuracy: 1.0\n",
            "Loss: 1.5857327525736764e-05 ,Train accuracy: 1.0\n",
            "Loss: 3.094903831879492e-06 ,Train accuracy: 1.0\n",
            "Loss: 2.2959338821237907e-05 ,Train accuracy: 1.0\n",
            "Loss: 1.3799325415675412e-06 ,Train accuracy: 1.0\n",
            "Loss: 2.768891960158726e-08 ,Train accuracy: 1.0\n",
            "Loss: 0.00011195236584171653 ,Train accuracy: 1.0\n",
            "Loss: 7.609498879901366e-07 ,Train accuracy: 1.0\n",
            "Loss: 1.9224389689043164e-06 ,Train accuracy: 1.0\n",
            "Loss: 0.00017288888921029866 ,Train accuracy: 1.0\n",
            "Loss: 4.994583946427156e-07 ,Train accuracy: 1.0\n",
            "Loss: 1.8839573101558926e-07 ,Train accuracy: 1.0\n",
            "Loss: 0.0007821778417564929 ,Train accuracy: 1.0\n",
            "Loss: 3.703319251258108e-08 ,Train accuracy: 1.0\n",
            "Loss: 2.3459641340650705e-07 ,Train accuracy: 1.0\n",
            "Loss: 1.9166166111972416e-06 ,Train accuracy: 1.0\n",
            "Loss: 1.6769974990893388e-06 ,Train accuracy: 1.0\n",
            "Loss: 7.367602705699028e-08 ,Train accuracy: 1.0\n",
            "Loss: 2.8946487873326987e-07 ,Train accuracy: 1.0\n",
            "Loss: 2.6002498998423107e-07 ,Train accuracy: 1.0\n",
            "Loss: 5.095696309354025e-09 ,Train accuracy: 1.0\n",
            "Loss: 0.00013904855586588383 ,Train accuracy: 1.0\n",
            "Loss: 6.63566709135921e-07 ,Train accuracy: 1.0\n",
            "Loss: 4.225375960231759e-06 ,Train accuracy: 1.0\n",
            "Loss: 7.984444528119639e-05 ,Train accuracy: 1.0\n",
            "Loss: 8.923157110984903e-06 ,Train accuracy: 1.0\n",
            "Loss: 2.795681393763516e-05 ,Train accuracy: 1.0\n",
            "Loss: 4.398207693157019e-06 ,Train accuracy: 1.0\n",
            "Loss: 4.093542429473018e-06 ,Train accuracy: 1.0\n",
            "Loss: 1.3532321645470802e-06 ,Train accuracy: 1.0\n",
            "Loss: 3.764374589820818e-09 ,Train accuracy: 1.0\n",
            "Loss: 3.4009829050773988e-06 ,Train accuracy: 1.0\n",
            "Loss: 3.0858446908865744e-09 ,Train accuracy: 1.0\n",
            "Loss: 9.658025419412297e-07 ,Train accuracy: 1.0\n",
            "Loss: 5.922172931605019e-06 ,Train accuracy: 1.0\n",
            "Loss: 7.091872248565778e-06 ,Train accuracy: 1.0\n",
            "Loss: 6.045415261723974e-07 ,Train accuracy: 1.0\n",
            "Loss: 6.269147888815496e-06 ,Train accuracy: 1.0\n",
            "Loss: 7.78631431330723e-07 ,Train accuracy: 1.0\n",
            "Loss: 9.04745718344202e-07 ,Train accuracy: 1.0\n",
            "Loss: 2.2604080385235648e-08 ,Train accuracy: 1.0\n",
            "Loss: 4.857532530877506e-06 ,Train accuracy: 1.0\n",
            "Loss: 1.2674973959292402e-06 ,Train accuracy: 1.0\n",
            "Loss: 2.0504845110735914e-07 ,Train accuracy: 1.0\n",
            "Loss: 3.501820344808948e-07 ,Train accuracy: 1.0\n",
            "Loss: 1.183905862234269e-08 ,Train accuracy: 1.0\n",
            "Loss: 2.3506622426339163e-07 ,Train accuracy: 1.0\n",
            "Loss: 1.7640864768964093e-08 ,Train accuracy: 1.0\n",
            "Loss: 3.3264141166000627e-06 ,Train accuracy: 1.0\n",
            "Loss: 2.6409227871226904e-07 ,Train accuracy: 1.0\n",
            "Loss: 1.0799011533890734e-06 ,Train accuracy: 1.0\n",
            "Loss: 3.3037824323400855e-05 ,Train accuracy: 1.0\n",
            "Loss: 4.982335303793661e-05 ,Train accuracy: 1.0\n",
            "Loss: 1.1999072846435865e-08 ,Train accuracy: 1.0\n",
            "Loss: 0.020685294643044472 ,Train accuracy: 1.0\n",
            "Loss: 1.8735947548975673e-07 ,Train accuracy: 1.0\n",
            "Loss: 4.321135236295959e-07 ,Train accuracy: 1.0\n",
            "Loss: 3.3924060005574574e-08 ,Train accuracy: 1.0\n",
            "Loss: 8.417657113568566e-07 ,Train accuracy: 1.0\n",
            "Loss: 5.275181180763866e-08 ,Train accuracy: 1.0\n",
            "Loss: 6.376374130923068e-07 ,Train accuracy: 1.0\n",
            "Loss: 4.506631512413151e-09 ,Train accuracy: 1.0\n",
            "Loss: 4.263091213374537e-09 ,Train accuracy: 1.0\n",
            "Loss: 5.964417937320832e-07 ,Train accuracy: 1.0\n",
            "Loss: 2.2463513715820227e-08 ,Train accuracy: 1.0\n",
            "Loss: 2.88913271084823e-09 ,Train accuracy: 1.0\n",
            "Loss: 2.096455318678636e-06 ,Train accuracy: 1.0\n",
            "Loss: 5.514178837984218e-07 ,Train accuracy: 1.0\n",
            "Loss: 6.792924978071824e-08 ,Train accuracy: 1.0\n",
            "Loss: 3.8202038865620125e-08 ,Train accuracy: 1.0\n",
            "Loss: 8.492972369822382e-07 ,Train accuracy: 1.0\n",
            "Loss: 3.259934828747646e-06 ,Train accuracy: 1.0\n",
            "Loss: 4.091598171385158e-08 ,Train accuracy: 1.0\n",
            "Loss: 3.796476903517032e-06 ,Train accuracy: 1.0\n",
            "Loss: 2.5534312442232476e-08 ,Train accuracy: 1.0\n",
            "Loss: 3.78237707820972e-09 ,Train accuracy: 1.0\n",
            "Loss: 1.678639137026039e-06 ,Train accuracy: 1.0\n",
            "Loss: 6.829874443781137e-10 ,Train accuracy: 1.0\n",
            "Loss: 6.937880812074582e-07 ,Train accuracy: 1.0\n",
            "Loss: 0.020661260932683945 ,Train accuracy: 1.0\n",
            "Loss: 1.2212126865307482e-09 ,Train accuracy: 1.0\n",
            "Loss: 1.1221452211884753e-08 ,Train accuracy: 1.0\n",
            "Loss: 3.362289291430898e-08 ,Train accuracy: 1.0\n",
            "Loss: 1.0372839653882693e-07 ,Train accuracy: 1.0\n",
            "Loss: 1.4905520373531544e-08 ,Train accuracy: 1.0\n",
            "Loss: 1.314593589540891e-07 ,Train accuracy: 1.0\n",
            "Loss: 9.743976736587001e-10 ,Train accuracy: 1.0\n",
            "Loss: 8.05015998306402e-10 ,Train accuracy: 1.0\n",
            "Loss: 2.129151397411988e-07 ,Train accuracy: 1.0\n",
            "Loss: 1.118539557865006e-06 ,Train accuracy: 1.0\n",
            "Loss: 3.576722065190552e-07 ,Train accuracy: 1.0\n",
            "Loss: 7.107661076588556e-05 ,Train accuracy: 1.0\n",
            "Loss: 1.1049015036235232e-08 ,Train accuracy: 1.0\n",
            "Loss: 2.3257276552612893e-05 ,Train accuracy: 1.0\n",
            "Loss: 1.424857121179457e-08 ,Train accuracy: 1.0\n",
            "Loss: 5.030684633311466e-07 ,Train accuracy: 1.0\n",
            "Loss: 5.22787231602706e-05 ,Train accuracy: 1.0\n",
            "Loss: 3.856374775068616e-09 ,Train accuracy: 1.0\n",
            "Loss: 4.2285066115255177e-08 ,Train accuracy: 1.0\n",
            "Loss: 6.670664021157791e-10 ,Train accuracy: 1.0\n",
            "Loss: 7.828607806459331e-08 ,Train accuracy: 1.0\n",
            "Loss: 1.7656562079082505e-07 ,Train accuracy: 1.0\n",
            "Loss: 1.1189120741050829e-09 ,Train accuracy: 1.0\n",
            "Loss: 1.668792606324132e-07 ,Train accuracy: 1.0\n",
            "Loss: 5.507477567334718e-07 ,Train accuracy: 1.0\n",
            "Loss: 3.745602583649088e-08 ,Train accuracy: 1.0\n",
            "Loss: 1.8621230992721394e-05 ,Train accuracy: 1.0\n",
            "Loss: 4.1300344832961855e-07 ,Train accuracy: 1.0\n",
            "Loss: 1.532607711851597e-05 ,Train accuracy: 1.0\n",
            "Loss: 6.552526770065015e-07 ,Train accuracy: 1.0\n",
            "Loss: 2.2703257940293042e-08 ,Train accuracy: 1.0\n",
            "Loss: 1.9821369545702794e-10 ,Train accuracy: 1.0\n",
            "Loss: 3.346675043758296e-07 ,Train accuracy: 1.0\n",
            "Loss: 8.57379382068757e-06 ,Train accuracy: 1.0\n",
            "Loss: 1.4199747511156602e-07 ,Train accuracy: 1.0\n",
            "Loss: 3.133221753159887e-07 ,Train accuracy: 1.0\n",
            "Loss: 6.030709442939042e-08 ,Train accuracy: 1.0\n",
            "Loss: 0.00010309259232599288 ,Train accuracy: 1.0\n",
            "Loss: 1.329742735833861e-05 ,Train accuracy: 1.0\n",
            "Loss: 8.821027797090153e-10 ,Train accuracy: 1.0\n",
            "Loss: 0.0005510080372914672 ,Train accuracy: 1.0\n",
            "Loss: 2.980979907363235e-10 ,Train accuracy: 1.0\n",
            "Loss: 8.559199216051638e-08 ,Train accuracy: 1.0\n",
            "Loss: 3.732413347279362e-07 ,Train accuracy: 1.0\n",
            "Loss: 1.2183590802905542e-09 ,Train accuracy: 1.0\n",
            "Loss: 6.529776896968542e-07 ,Train accuracy: 1.0\n",
            "Loss: 0.0006461217417381704 ,Train accuracy: 1.0\n",
            "Loss: 2.926054398777467e-10 ,Train accuracy: 1.0\n",
            "Loss: 1.0606547817815226e-07 ,Train accuracy: 1.0\n",
            "Loss: 1.337789184985283e-10 ,Train accuracy: 1.0\n",
            "Loss: 2.755676575816324e-07 ,Train accuracy: 1.0\n",
            "Loss: 1.6441093748653657e-06 ,Train accuracy: 1.0\n",
            "Loss: 3.424692127107498e-11 ,Train accuracy: 1.0\n",
            "Loss: 1.3136491361365188e-05 ,Train accuracy: 1.0\n",
            "Loss: 1.1518164200197134e-09 ,Train accuracy: 1.0\n",
            "Loss: 3.109132012468763e-05 ,Train accuracy: 1.0\n",
            "Loss: 3.748984227058827e-06 ,Train accuracy: 1.0\n",
            "Loss: 6.546583275479634e-10 ,Train accuracy: 1.0\n",
            "Loss: 3.5674676546193496e-09 ,Train accuracy: 1.0\n",
            "Loss: 1.2493500207710895e-06 ,Train accuracy: 1.0\n",
            "Loss: 5.109715743856214e-07 ,Train accuracy: 1.0\n",
            "Loss: 2.310080660095082e-08 ,Train accuracy: 1.0\n",
            "Loss: 6.518463487736881e-05 ,Train accuracy: 1.0\n",
            "Loss: 3.6698168059956515e-08 ,Train accuracy: 1.0\n",
            "Loss: 5.072912645509575e-10 ,Train accuracy: 1.0\n",
            "Loss: 4.133089870350659e-09 ,Train accuracy: 1.0\n",
            "Loss: 4.7943158278940246e-05 ,Train accuracy: 1.0\n",
            "Loss: 5.7198931813218223e-08 ,Train accuracy: 1.0\n",
            "Loss: 9.630372943547627e-08 ,Train accuracy: 1.0\n",
            "Loss: 7.941185685922392e-06 ,Train accuracy: 1.0\n",
            "Loss: 3.4612533283961966e-08 ,Train accuracy: 1.0\n",
            "Loss: 1.6094121590981558e-09 ,Train accuracy: 1.0\n",
            "Loss: 1.0089488569064997e-06 ,Train accuracy: 1.0\n",
            "Loss: 1.6228636212645142e-08 ,Train accuracy: 1.0\n",
            "Loss: 2.4053244729316248e-08 ,Train accuracy: 1.0\n",
            "Loss: 7.475996000039231e-08 ,Train accuracy: 1.0\n",
            "Loss: 2.5802444625355747e-08 ,Train accuracy: 1.0\n",
            "Loss: 1.0601520443742629e-05 ,Train accuracy: 1.0\n",
            "Loss: 1.4385046931408851e-08 ,Train accuracy: 1.0\n",
            "Loss: 4.7729919572248036e-08 ,Train accuracy: 1.0\n",
            "Loss: 7.496975484855284e-09 ,Train accuracy: 1.0\n",
            "Loss: 1.295418883273669e-08 ,Train accuracy: 1.0\n",
            "Loss: 5.80414258322115e-11 ,Train accuracy: 1.0\n",
            "Loss: 1.1649722075901536e-08 ,Train accuracy: 1.0\n",
            "Loss: 5.725930307676208e-08 ,Train accuracy: 1.0\n",
            "Loss: 8.094099939626176e-06 ,Train accuracy: 1.0\n",
            "Loss: 2.386428263889684e-07 ,Train accuracy: 1.0\n",
            "Loss: 1.4963070782414434e-08 ,Train accuracy: 1.0\n",
            "Loss: 2.033332252571185e-10 ,Train accuracy: 1.0\n",
            "Loss: 0.00012722847168333828 ,Train accuracy: 1.0\n",
            "Loss: 4.336396523285657e-05 ,Train accuracy: 1.0\n",
            "Loss: 1.7764863287084154e-06 ,Train accuracy: 1.0\n",
            "Loss: 1.908630565594649e-06 ,Train accuracy: 1.0\n",
            "Loss: 5.900027488792148e-08 ,Train accuracy: 1.0\n",
            "Loss: 8.66418304212857e-06 ,Train accuracy: 1.0\n",
            "Loss: 6.804438956731218e-11 ,Train accuracy: 1.0\n",
            "Loss: 5.747075038087246e-10 ,Train accuracy: 1.0\n",
            "Loss: 4.879165960147702e-10 ,Train accuracy: 1.0\n",
            "Loss: 6.446025508921593e-05 ,Train accuracy: 1.0\n",
            "Loss: 4.204079098735214e-11 ,Train accuracy: 1.0\n",
            "Loss: 1.8828410830451503e-08 ,Train accuracy: 1.0\n",
            "Loss: 1.9357810288056498e-07 ,Train accuracy: 1.0\n",
            "Loss: 1.751472922251196e-07 ,Train accuracy: 1.0\n",
            "Loss: 1.2868265912402421e-05 ,Train accuracy: 1.0\n",
            "Loss: 1.6132320013184653e-07 ,Train accuracy: 1.0\n",
            "Loss: 5.653712220610174e-11 ,Train accuracy: 1.0\n",
            "Loss: 2.738239324173719e-08 ,Train accuracy: 1.0\n",
            "Loss: 3.549628646570824e-10 ,Train accuracy: 1.0\n",
            "Loss: 2.666341281098994e-08 ,Train accuracy: 1.0\n",
            "Loss: 1.5198081015910248e-08 ,Train accuracy: 1.0\n",
            "Loss: 6.246215633609609e-08 ,Train accuracy: 1.0\n",
            "Loss: 1.1212551720429786e-11 ,Train accuracy: 1.0\n",
            "Loss: 1.1408719302608006e-07 ,Train accuracy: 1.0\n",
            "Loss: 3.883056098885618e-09 ,Train accuracy: 1.0\n",
            "Loss: 5.769852477743864e-12 ,Train accuracy: 1.0\n",
            "Loss: 3.591433150873513e-09 ,Train accuracy: 1.0\n",
            "Loss: 7.91508864494972e-06 ,Train accuracy: 1.0\n",
            "Loss: 6.148219995338877e-07 ,Train accuracy: 1.0\n",
            "Loss: 7.467375162661938e-09 ,Train accuracy: 1.0\n",
            "Loss: 9.978866728488356e-06 ,Train accuracy: 1.0\n",
            "Loss: 7.522329287246166e-11 ,Train accuracy: 1.0\n",
            "Loss: 3.934048820042335e-08 ,Train accuracy: 1.0\n",
            "Loss: 1.4445529841755622e-11 ,Train accuracy: 1.0\n",
            "Loss: 4.028677835776762e-09 ,Train accuracy: 1.0\n",
            "Loss: 3.961759392767661e-11 ,Train accuracy: 1.0\n",
            "Loss: 6.793318685360816e-11 ,Train accuracy: 1.0\n",
            "Loss: 2.907197593771116e-09 ,Train accuracy: 1.0\n",
            "Loss: 8.468749257417585e-09 ,Train accuracy: 1.0\n",
            "Loss: 5.960573616903275e-06 ,Train accuracy: 1.0\n",
            "Loss: 5.27123553695219e-08 ,Train accuracy: 1.0\n",
            "Loss: 6.023344323313751e-11 ,Train accuracy: 1.0\n",
            "Loss: 7.041941074703573e-08 ,Train accuracy: 1.0\n",
            "Loss: 1.1031172107323073e-05 ,Train accuracy: 1.0\n",
            "Loss: 6.599339599233645e-07 ,Train accuracy: 1.0\n",
            "Loss: 9.686137900644098e-07 ,Train accuracy: 1.0\n",
            "Loss: 1.1127972321389734e-08 ,Train accuracy: 1.0\n",
            "Loss: 0.020211592316627502 ,Train accuracy: 1.0\n",
            "Loss: 1.8689547687245067e-08 ,Train accuracy: 1.0\n",
            "Loss: 4.216789051270098e-08 ,Train accuracy: 1.0\n",
            "Loss: 2.2755891393444472e-08 ,Train accuracy: 1.0\n",
            "Loss: 1.1252802245564908e-08 ,Train accuracy: 1.0\n",
            "Loss: 4.317931567854316e-10 ,Train accuracy: 1.0\n",
            "Loss: 9.209292528566948e-08 ,Train accuracy: 1.0\n",
            "Loss: 4.4869902238175996e-10 ,Train accuracy: 1.0\n",
            "Loss: 1.5896468539722264e-05 ,Train accuracy: 1.0\n",
            "Loss: 1.3668903682539923e-11 ,Train accuracy: 1.0\n",
            "Loss: 7.193143574113492e-06 ,Train accuracy: 1.0\n",
            "Loss: 5.03530998230417e-07 ,Train accuracy: 1.0\n",
            "Loss: 3.3727651782555768e-09 ,Train accuracy: 1.0\n",
            "Loss: 7.819909164652472e-09 ,Train accuracy: 1.0\n",
            "Loss: 6.714222511305934e-09 ,Train accuracy: 1.0\n",
            "Loss: 7.212469732564841e-09 ,Train accuracy: 1.0\n",
            "Loss: 1.313056191554196e-10 ,Train accuracy: 1.0\n",
            "Loss: 1.0795139004926568e-08 ,Train accuracy: 1.0\n",
            "Loss: 5.510333267011447e-06 ,Train accuracy: 1.0\n",
            "Loss: 6.4610105460216616e-12 ,Train accuracy: 1.0\n",
            "Loss: 1.4164816093398258e-05 ,Train accuracy: 1.0\n"
          ]
        }
      ]
    },
    {
      "cell_type": "code",
      "source": [
        "xstripe, ystripe = train_dataset[15999]"
      ],
      "metadata": {
        "id": "Hk_0Qll-SO5G"
      },
      "execution_count": 227,
      "outputs": []
    },
    {
      "cell_type": "code",
      "source": [
        "plot_feature_map(CNNstripes, X1[500], ystripe)"
      ],
      "metadata": {
        "id": "Tk9yA9wBSD0s",
        "outputId": "8766b5c3-ce93-4eda-f531-180274125eec",
        "colab": {
          "base_uri": "https://localhost:8080/",
          "height": 573
        }
      },
      "execution_count": 232,
      "outputs": [
        {
          "output_type": "stream",
          "name": "stdout",
          "text": [
            "[[0.43600205 0.         0.43600205 ... 0.         0.         0.        ]\n",
            " [0.43600205 0.         0.43600205 ... 0.5069642  0.5069642  0.35303345]\n",
            " [0.43600205 0.         0.43600205 ... 0.         0.         0.        ]\n",
            " ...\n",
            " [0.5069642  0.35303345 0.         ... 0.43600205 0.         0.        ]\n",
            " [0.         0.         0.         ... 0.43600205 0.         0.43600205]\n",
            " [0.43600205 0.         0.43600205 ... 0.43600205 0.         0.43600205]]\n"
          ]
        },
        {
          "output_type": "display_data",
          "data": {
            "text/plain": [
              "<Figure size 640x480 with 2 Axes>"
            ],
            "image/png": "[encoded data removed]"
          },
          "metadata": {}
        }
      ]
    },
    {
      "cell_type": "code",
      "source": [
        "plt.imshow()"
      ],
      "metadata": {
        "id": "jAugfhzsL0pW"
      },
      "execution_count": null,
      "outputs": []
    },
    {
      "cell_type": "code",
      "source": [
        "CNNstripes = ConvNet(64,64)\n"
      ],
      "metadata": {
        "id": "zxqYGrsuLq4K"
      },
      "execution_count": null,
      "outputs": []
    },
    {
      "cell_type": "markdown",
      "source": [
        "### Ideas"
      ],
      "metadata": {
        "id": "R-8REi45byxk"
      }
    },
    {
      "cell_type": "markdown",
      "source": [
        "TO-DO List:\n",
        "1. Print class attribution maps\n",
        "2. Transfer learning in FCNN\n",
        "3. Check for CNN"
      ],
      "metadata": {
        "id": "rd1FmfDnyyK_"
      }
    }
  ]
}