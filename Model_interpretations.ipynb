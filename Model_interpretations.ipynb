{
  "nbformat": 4,
  "nbformat_minor": 0,
  "metadata": {
    "colab": {
      "provenance": [],
      "gpuType": "T4",
      "authorship_tag": "ABX9TyO4XuHw4/0Yuh+L5h1ptuw3",
      "include_colab_link": true
    },
    "kernelspec": {
      "name": "python3",
      "display_name": "Python 3"
    },
    "language_info": {
      "name": "python"
    },
    "accelerator": "GPU"
  },
  "cells": [
    {
      "cell_type": "markdown",
      "metadata": {
        "id": "view-in-github",
        "colab_type": "text"
      },
      "source": [
        "<a href=\"https://colab.research.google.com/github/PratyushJha254/BTP/blob/main/Model_interpretations.ipynb\" target=\"_parent\"><img src=\"https://colab.research.google.com/assets/colab-badge.svg\" alt=\"Open In Colab\"/></a>"
      ]
    },
    {
      "cell_type": "code",
      "execution_count": 1,
      "metadata": {
        "id": "CH9ENwKBYeOY"
      },
      "outputs": [],
      "source": [
        "import numpy as np\n",
        "from matplotlib import pyplot as plt\n",
        "import tensorflow as tf\n",
        "from tensorflow import keras\n",
        "from sklearn.model_selection import train_test_split\n",
        "from keras.utils import to_categorical\n",
        "import pickle\n",
        "from sklearn.manifold import TSNE\n",
        "import numpy as np\n",
        "import matplotlib.pyplot as plt\n",
        "import matplotlib.colors as mcol\n",
        "import matplotlib.cm as cm\n",
        "from keras.utils import to_categorical\n",
        "import keras.layers as layers\n",
        "from keras import Sequential\n",
        "from numba import jit\n",
        "\n",
        "import numpy as np\n",
        "import torch\n",
        "import torch.nn as nn\n",
        "import torch.optim as optim\n",
        "from torch.utils.data import Dataset, DataLoader\n",
        "import torchvision.utils as vutils\n",
        "import matplotlib.pyplot as plt\n",
        "import sys\n",
        "from torch.autograd import Variable\n",
        "from torch.autograd import grad as torch_grad\n",
        "import seaborn as sns\n"
      ]
    },
    {
      "cell_type": "code",
      "source": [
        "nu_G = 10\n",
        "Ny = 64\n",
        "Nx = 64\n",
        "nc = 1\n",
        "nz = 100\n",
        "ngf = 64\n",
        "ndf = 64\n",
        "num_epochs = 50\n",
        "lr = 0.001\n",
        "beta1 = 0.5\n",
        "ngpu = 1\n",
        "N = Ny * Nx\n",
        "device = torch.device('cuda:0' if (torch.cuda.is_available() and ngpu > 0) else 'cpu')"
      ],
      "metadata": {
        "id": "G0UzsRA7hLJk"
      },
      "execution_count": 2,
      "outputs": []
    },
    {
      "cell_type": "markdown",
      "source": [
        "### Model"
      ],
      "metadata": {
        "id": "3A3wbLIJpZjQ"
      }
    },
    {
      "cell_type": "markdown",
      "source": [
        "#### Accuracy, train and test functions"
      ],
      "metadata": {
        "id": "RZDqQL9sqtt5"
      }
    },
    {
      "cell_type": "code",
      "source": [
        "def calculate_accuracy(outputs, labels):\n",
        "    # Threshold the outputs at 0.5 to get binary predictions: below 0.5 becomes 0, above becomes 1\n",
        "    predicted = (outputs > 0.5).float()\n",
        "\n",
        "    # The labels need to have the same dimensions as the predictions for comparison\n",
        "    # Assuming labels are already in the correct shape (batch_size, 1) or (batch_size,)\n",
        "    # If not, you might need to adjust labels' shape, e.g., labels = labels.view(-1, 1)\n",
        "\n",
        "    # Calculate the number of correct predictions\n",
        "    correct = (predicted == labels).float().sum().item()/2\n",
        "\n",
        "    # Calculate the total number of labels (which is also the batch size)\n",
        "    total = labels.size(0)\n",
        "\n",
        "    # Calculate accuracy as the percentage of correct predictions\n",
        "    accuracy = correct / total\n",
        "    return accuracy\n"
      ],
      "metadata": {
        "id": "hOTDhh6OcgX9"
      },
      "execution_count": 3,
      "outputs": []
    },
    {
      "cell_type": "code",
      "source": [
        "def train(model, num_epochs, criterion, optimizer, train_dataloader):\n",
        "  for epoch in range(num_epochs):\n",
        "    for i, (x, label) in enumerate(train_dataloader):\n",
        "      x = x.to(device).float()\n",
        "      label = label.to(device).float()\n",
        "      b_size = x.size(0)\n",
        "      model.zero_grad()\n",
        "      output = model(x)\n",
        "      # if(epoch==0 and i==0):\n",
        "      #   print(output)\n",
        "      error = criterion(output, label)\n",
        "      error.backward()\n",
        "      optimizer.step()\n",
        "      acc_train = calculate_accuracy(output, label)\n",
        "      if i % 20 == 0:\n",
        "        print('Loss:', error.item(),',Train accuracy:', acc_train)"
      ],
      "metadata": {
        "id": "nOqtvmF4R72B"
      },
      "execution_count": 4,
      "outputs": []
    },
    {
      "cell_type": "code",
      "source": [
        "def test(model, criterion, test_dataloader):\n",
        "    for i, (x, label) in enumerate(test_dataloader):\n",
        "      x = x.to(device).float()\n",
        "      label = label.to(device).float()\n",
        "      output = model(x)\n",
        "      error = criterion(output, label)\n",
        "      acc_train = calculate_accuracy(output, label)\n",
        "      # if i % 20 == 0:\n",
        "      print(i,':: Loss:', error.item(),',Test accuracy:', acc_train)"
      ],
      "metadata": {
        "id": "lkWQ7iweqBZ9"
      },
      "execution_count": 5,
      "outputs": []
    },
    {
      "cell_type": "code",
      "source": [
        "def get_predictions(test_loader, model):\n",
        "    # Assuming `test_loader` is your DataLoader for the test dataset\n",
        "    # Initialize lists to store predictions for each class\n",
        "    predictions_class_1 = []\n",
        "    predictions_class_2 = []\n",
        "\n",
        "    with torch.no_grad():  # Disable gradient tracking during inference\n",
        "        for inputs, _ in test_loader:\n",
        "            inputs = inputs.to(device).float()  # Move inputs to the device (e.g., GPU)\n",
        "            outputs = model(inputs)  # Forward pass to get predictions\n",
        "\n",
        "            # Assuming the output is softmax probabilities\n",
        "            # Separate the probabilities for class-1 and class-2\n",
        "            class_1_probs = outputs[:, 0].cpu().numpy()  # Probabilities for class-1\n",
        "            class_2_probs = outputs[:, 1].cpu().numpy()  # Probabilities for class-2\n",
        "\n",
        "            predictions_class_1.extend(class_1_probs)\n",
        "            predictions_class_2.extend(class_2_probs)\n",
        "\n",
        "    # `predictions_class_1` contains the probabilities for class-1 for all test samples\n",
        "    # `predictions_class_2` contains the probabilities for class-2 for all test samples\n",
        "    # You can further process or save these predictions as needed\n",
        "    return predictions_class_1, predictions_class_2\n"
      ],
      "metadata": {
        "id": "RZQwaexTynZw"
      },
      "execution_count": 6,
      "outputs": []
    },
    {
      "cell_type": "code",
      "source": [
        "def get_predictions_np(input_matrix, model, device):\n",
        "    # Convert numpy matrix to PyTorch tensor\n",
        "    inputs = torch.tensor(input_matrix).to(device).float()\n",
        "\n",
        "    # Forward pass to get predictions\n",
        "    with torch.no_grad():  # Disable gradient tracking during inference\n",
        "        outputs = model(inputs)  # Forward pass to get predictions\n",
        "\n",
        "        # Assuming the output is softmax probabilities\n",
        "        # Separate the probabilities for class-1 and class-2\n",
        "        class_1_probs = outputs[:, 0].cpu().numpy()  # Probabilities for class-1\n",
        "        class_2_probs = outputs[:, 1].cpu().numpy()  # Probabilities for class-2\n",
        "\n",
        "    # `class_1_probs` contains the probabilities for class-1 for all samples\n",
        "    # `class_2_probs` contains the probabilities for class-2 for all samples\n",
        "    # You can further process or save these predictions as needed\n",
        "    return class_1_probs, class_2_probs\n"
      ],
      "metadata": {
        "id": "VKMyp3Tf8a6L"
      },
      "execution_count": 7,
      "outputs": []
    },
    {
      "cell_type": "markdown",
      "source": [
        "#### File loaders"
      ],
      "metadata": {
        "id": "o4VE9sWbq1Bt"
      }
    },
    {
      "cell_type": "code",
      "execution_count": 61,
      "metadata": {
        "id": "Wwq4a69qZ5eb"
      },
      "outputs": [],
      "source": [
        "def file_loader(file_name, Tc = 2.27):\n",
        "    data = np.load(file_name)\n",
        "    X = data['X']\n",
        "    y = data['y']\n",
        "    X_train, X_test, Y_train, Y_test = train_test_split(X, y, test_size=0.15)\n",
        "    Tc = 2.27 # For a square lattice following Ising Model\n",
        "    y_train = Y_train > Tc\n",
        "    y_test = Y_test > Tc\n",
        "    y_train = to_categorical(y_train.astype(int))\n",
        "    y_test = to_categorical(y_test.astype(int))\n",
        "    return X_train, X_test, y_train, y_test, Y_train, Y_test"
      ]
    },
    {
      "cell_type": "code",
      "source": [
        "def full_file_loader(file_name, Tc = 2.27):\n",
        "    data = np.load(file_name)\n",
        "    X = data['X']\n",
        "    Y = data['y']\n",
        "    # Tc = 2.27 # For a square lattice following Ising Model\n",
        "    y = Y > Tc\n",
        "    y = to_categorical(y.astype(int))\n",
        "    return X, y, Y"
      ],
      "metadata": {
        "id": "Fy5Nz7d0SY1C"
      },
      "execution_count": 62,
      "outputs": []
    },
    {
      "cell_type": "markdown",
      "source": [
        "#### Dataset and DataLoader"
      ],
      "metadata": {
        "id": "BSS1i0APqJnU"
      }
    },
    {
      "cell_type": "code",
      "source": [
        "class IsingDataset(Dataset):\n",
        "    def __init__(self, x, y, anti_ferro=False):\n",
        "        self.n_samples = x.shape[0]\n",
        "        self.x = torch.tensor(torch.from_numpy(x))\n",
        "        self.y = torch.tensor(torch.from_numpy(y))\n",
        "        self.anti_ferro = anti_ferro\n",
        "\n",
        "    def __getitem__(self, index):\n",
        "        if self.anti_ferro:\n",
        "            x_transformed = self._apply_anti_ferro(self.x[index])\n",
        "            return x_transformed, self.y[index]\n",
        "        else:\n",
        "            return self.x[index], self.y[index]\n",
        "\n",
        "    def __len__(self):\n",
        "        return self.n_samples\n",
        "\n",
        "    def _apply_anti_ferro(self, x):\n",
        "        # Apply anti-ferromagnetic transformation\n",
        "        return (-1) ** torch.arange(x.size(0)).unsqueeze(1) + (-1) ** torch.arange(x.size(1))\n",
        "\n",
        "# # Example usage\n",
        "# x = ...  # Your input data\n",
        "# y = ...  # Your target labels\n",
        "# anti_ferro = True  # Set to True to apply the anti-ferromagnetic transformation\n",
        "# dataset = IsingDataset(x, y, anti_ferro=anti_ferro)\n"
      ],
      "metadata": {
        "id": "OvGVpjWwJi8J"
      },
      "execution_count": 10,
      "outputs": []
    },
    {
      "cell_type": "markdown",
      "source": [
        "Train and test data:"
      ],
      "metadata": {
        "id": "xivu-5krocYa"
      }
    },
    {
      "cell_type": "code",
      "source": [
        "# Anti-ferromagnetic dataset: train and test\n",
        "\n",
        "X_train_anti, X_test_anti, y_train_anti, y_test_anti, Y_train_anti, Y_test_anti = file_loader('data_anti.npz')"
      ],
      "metadata": {
        "id": "puu1oIW8oxg1"
      },
      "execution_count": 21,
      "outputs": []
    },
    {
      "cell_type": "code",
      "source": [
        "training_dataset_anti = IsingDataset(X_train_anti, y_train_anti)\n",
        "testing_dataset_anti = IsingDataset(X_test_anti, y_test_anti)\n",
        "batch_size = 128\n",
        "train_dataloader_anti = DataLoader(dataset = training_dataset_anti, batch_size = batch_size, shuffle = False)\n",
        "test_dataloader_anti = DataLoader(dataset = testing_dataset_anti, batch_size = batch_size, shuffle = False)"
      ],
      "metadata": {
        "colab": {
          "base_uri": "https://localhost:8080/"
        },
        "id": "TWZOcCBUobIc",
        "outputId": "24accf9b-8a0a-42ab-d7d9-991cbd748bc8"
      },
      "execution_count": 22,
      "outputs": [
        {
          "output_type": "stream",
          "name": "stderr",
          "text": [
            "<ipython-input-10-2d1bccbc4b53>:4: UserWarning: To copy construct from a tensor, it is recommended to use sourceTensor.clone().detach() or sourceTensor.clone().detach().requires_grad_(True), rather than torch.tensor(sourceTensor).\n",
            "  self.x = torch.tensor(torch.from_numpy(x))\n",
            "<ipython-input-10-2d1bccbc4b53>:5: UserWarning: To copy construct from a tensor, it is recommended to use sourceTensor.clone().detach() or sourceTensor.clone().detach().requires_grad_(True), rather than torch.tensor(sourceTensor).\n",
            "  self.y = torch.tensor(torch.from_numpy(y))\n"
          ]
        }
      ]
    },
    {
      "cell_type": "code",
      "source": [
        "print(\"Class:\", y_train_anti[10])\n",
        "print(\"Temperature:\", Y_train_anti[10])"
      ],
      "metadata": {
        "colab": {
          "base_uri": "https://localhost:8080/"
        },
        "id": "1GskyaF7sC7P",
        "outputId": "f9050476-106b-4331-8487-c061e47bf744"
      },
      "execution_count": 46,
      "outputs": [
        {
          "output_type": "stream",
          "name": "stdout",
          "text": [
            "Class: [1. 0.]\n",
            "Temperature: 1.9\n"
          ]
        }
      ]
    },
    {
      "cell_type": "code",
      "source": [
        "plt.imshow(X_train_anti[10])"
      ],
      "metadata": {
        "colab": {
          "base_uri": "https://localhost:8080/",
          "height": 449
        },
        "id": "6-dJRZvbsGgY",
        "outputId": "febc3790-1b05-4f1c-991b-04cf23d1e17c"
      },
      "execution_count": 47,
      "outputs": [
        {
          "output_type": "execute_result",
          "data": {
            "text/plain": [
              "<matplotlib.image.AxesImage at 0x7be2d98d9ff0>"
            ]
          },
          "metadata": {},
          "execution_count": 47
        },
        {
          "output_type": "display_data",
          "data": {
            "text/plain": [
              "<Figure size 640x480 with 1 Axes>"
            ],
            "image/png": "[encoded data removed]"
          },
          "metadata": {}
        }
      ]
    },
    {
      "cell_type": "markdown",
      "metadata": {
        "id": "Jru3T1Rz1aRh"
      },
      "source": [
        "#### Fully Connected Neural Network"
      ]
    },
    {
      "cell_type": "code",
      "source": [
        "class neural_network(nn.Module):\n",
        "  def __init__(self):\n",
        "    super(neural_network, self).__init__()\n",
        "    self.main = nn.Sequential(\n",
        "        nn.Flatten(start_dim=1,end_dim=-1),\n",
        "        nn.Linear(Nx*Ny, 100),\n",
        "        nn.Sigmoid(),\n",
        "        nn.Linear(100, 2),\n",
        "        nn.Sigmoid()\n",
        "    )\n",
        "  def forward(self, input):\n",
        "      return self.main(input)"
      ],
      "metadata": {
        "id": "0lSfsrZCJ-0V"
      },
      "execution_count": 29,
      "outputs": []
    },
    {
      "cell_type": "code",
      "source": [
        "FCNN = neural_network().to(device)\n",
        "criterion_FCNN = nn.BCELoss()\n",
        "optimizer_FCNN = optim.Adam(FCNN.parameters(), lr=lr, betas=(0.9, 0.999))"
      ],
      "metadata": {
        "id": "K-euoH6nSSQP"
      },
      "execution_count": 30,
      "outputs": []
    },
    {
      "cell_type": "code",
      "source": [
        "# # Dataset 1, NN -> antiFe, NNN -> Fe\n",
        "# X_anti, y_anti, Y_anti = full_file_loader('data_anti.npz')\n",
        "# dataset_anti = IsingDataset(X_anti, y_anti)\n",
        "# batch_size = 128\n",
        "# dataloader_anti = DataLoader(dataset = dataset_anti, batch_size = batch_size, shuffle = False)"
      ],
      "metadata": {
        "colab": {
          "base_uri": "https://localhost:8080/"
        },
        "id": "RfdOdKcpGsv4",
        "outputId": "bc355d28-9d6c-4ec2-eb0c-42bd26691463"
      },
      "execution_count": null,
      "outputs": [
        {
          "output_type": "stream",
          "name": "stderr",
          "text": [
            "<ipython-input-39-2d1bccbc4b53>:4: UserWarning: To copy construct from a tensor, it is recommended to use sourceTensor.clone().detach() or sourceTensor.clone().detach().requires_grad_(True), rather than torch.tensor(sourceTensor).\n",
            "  self.x = torch.tensor(torch.from_numpy(x))\n",
            "<ipython-input-39-2d1bccbc4b53>:5: UserWarning: To copy construct from a tensor, it is recommended to use sourceTensor.clone().detach() or sourceTensor.clone().detach().requires_grad_(True), rather than torch.tensor(sourceTensor).\n",
            "  self.y = torch.tensor(torch.from_numpy(y))\n"
          ]
        }
      ]
    },
    {
      "cell_type": "code",
      "source": [
        "train(FCNN, 10, criterion_FCNN, optimizer_FCNN, train_dataloader_anti)"
      ],
      "metadata": {
        "colab": {
          "base_uri": "https://localhost:8080/"
        },
        "id": "0P0CkZNWp8k0",
        "outputId": "a27abf28-7d0b-4748-d466-c749e362005d"
      },
      "execution_count": 31,
      "outputs": [
        {
          "output_type": "stream",
          "name": "stdout",
          "text": [
            "Loss: 0.6876479387283325 ,Train accuracy: 0.546875\n",
            "Loss: 0.6931283473968506 ,Train accuracy: 0.47265625\n",
            "Loss: 0.6957177519798279 ,Train accuracy: 0.59765625\n",
            "Loss: 0.6825841069221497 ,Train accuracy: 0.3125\n",
            "Loss: 0.6959665417671204 ,Train accuracy: 0.69140625\n",
            "Loss: 0.6700637936592102 ,Train accuracy: 0.60546875\n",
            "Loss: 0.6770510673522949 ,Train accuracy: 0.66796875\n",
            "Loss: 0.6782938241958618 ,Train accuracy: 0.77734375\n",
            "Loss: 0.6776275634765625 ,Train accuracy: 0.5625\n",
            "Loss: 0.6313097476959229 ,Train accuracy: 0.8828125\n",
            "Loss: 0.6322832703590393 ,Train accuracy: 0.59765625\n",
            "Loss: 0.6284573674201965 ,Train accuracy: 0.82421875\n",
            "Loss: 0.6185092329978943 ,Train accuracy: 0.8359375\n",
            "Loss: 0.6177538633346558 ,Train accuracy: 0.80859375\n",
            "Loss: 0.5875008702278137 ,Train accuracy: 0.8515625\n",
            "Loss: 0.5802537798881531 ,Train accuracy: 0.84765625\n",
            "Loss: 0.5761789679527283 ,Train accuracy: 0.8515625\n",
            "Loss: 0.5980709791183472 ,Train accuracy: 0.84765625\n",
            "Loss: 0.5667077302932739 ,Train accuracy: 0.8671875\n",
            "Loss: 0.5312691926956177 ,Train accuracy: 0.875\n",
            "Loss: 0.5390264391899109 ,Train accuracy: 0.83203125\n",
            "Loss: 0.5086153745651245 ,Train accuracy: 0.87109375\n",
            "Loss: 0.48353323340415955 ,Train accuracy: 0.85546875\n",
            "Loss: 0.45758622884750366 ,Train accuracy: 0.8984375\n",
            "Loss: 0.46657049655914307 ,Train accuracy: 0.87890625\n",
            "Loss: 0.4378941059112549 ,Train accuracy: 0.890625\n",
            "Loss: 0.46434420347213745 ,Train accuracy: 0.921875\n",
            "Loss: 0.4638780951499939 ,Train accuracy: 0.875\n",
            "Loss: 0.41517913341522217 ,Train accuracy: 0.9140625\n",
            "Loss: 0.4183395504951477 ,Train accuracy: 0.86328125\n",
            "Loss: 0.3714248538017273 ,Train accuracy: 0.90625\n",
            "Loss: 0.34338974952697754 ,Train accuracy: 0.90234375\n",
            "Loss: 0.3124006986618042 ,Train accuracy: 0.9453125\n",
            "Loss: 0.33487266302108765 ,Train accuracy: 0.93359375\n",
            "Loss: 0.28157326579093933 ,Train accuracy: 0.94140625\n",
            "Loss: 0.3227619528770447 ,Train accuracy: 0.94921875\n",
            "Loss: 0.3165341019630432 ,Train accuracy: 0.921875\n",
            "Loss: 0.2695735991001129 ,Train accuracy: 0.93359375\n",
            "Loss: 0.2861652970314026 ,Train accuracy: 0.90625\n",
            "Loss: 0.2347567230463028 ,Train accuracy: 0.96484375\n",
            "Loss: 0.2140776813030243 ,Train accuracy: 0.94140625\n",
            "Loss: 0.18495795130729675 ,Train accuracy: 0.96875\n",
            "Loss: 0.21154341101646423 ,Train accuracy: 0.96875\n",
            "Loss: 0.15652772784233093 ,Train accuracy: 0.984375\n",
            "Loss: 0.20135577023029327 ,Train accuracy: 0.96484375\n",
            "Loss: 0.18670998513698578 ,Train accuracy: 0.9609375\n",
            "Loss: 0.1444026529788971 ,Train accuracy: 0.98046875\n",
            "Loss: 0.1686316281557083 ,Train accuracy: 0.9375\n",
            "Loss: 0.14060059189796448 ,Train accuracy: 0.9765625\n",
            "Loss: 0.12051227688789368 ,Train accuracy: 0.9765625\n",
            "Loss: 0.10347984731197357 ,Train accuracy: 0.9921875\n",
            "Loss: 0.11364160478115082 ,Train accuracy: 0.9765625\n",
            "Loss: 0.08934639394283295 ,Train accuracy: 1.0\n",
            "Loss: 0.11162197589874268 ,Train accuracy: 0.984375\n",
            "Loss: 0.10149392485618591 ,Train accuracy: 0.984375\n",
            "Loss: 0.0857231616973877 ,Train accuracy: 0.99609375\n",
            "Loss: 0.09090054035186768 ,Train accuracy: 0.98828125\n",
            "Loss: 0.09356728196144104 ,Train accuracy: 0.98046875\n",
            "Loss: 0.06649728864431381 ,Train accuracy: 1.0\n",
            "Loss: 0.056718356907367706 ,Train accuracy: 1.0\n",
            "Loss: 0.05444113165140152 ,Train accuracy: 0.9921875\n",
            "Loss: 0.05603916943073273 ,Train accuracy: 1.0\n",
            "Loss: 0.06387358158826828 ,Train accuracy: 0.9921875\n",
            "Loss: 0.0702856183052063 ,Train accuracy: 0.984375\n",
            "Loss: 0.04504881054162979 ,Train accuracy: 1.0\n",
            "Loss: 0.05866790935397148 ,Train accuracy: 0.9921875\n",
            "Loss: 0.054361313581466675 ,Train accuracy: 0.98828125\n",
            "Loss: 0.04113679751753807 ,Train accuracy: 1.0\n",
            "Loss: 0.03174315765500069 ,Train accuracy: 1.0\n",
            "Loss: 0.03127297759056091 ,Train accuracy: 1.0\n",
            "Loss: 0.03390076756477356 ,Train accuracy: 1.0\n",
            "Loss: 0.039296578615903854 ,Train accuracy: 0.99609375\n",
            "Loss: 0.04007287323474884 ,Train accuracy: 1.0\n",
            "Loss: 0.028523951768875122 ,Train accuracy: 1.0\n",
            "Loss: 0.03624539449810982 ,Train accuracy: 1.0\n",
            "Loss: 0.03550059348344803 ,Train accuracy: 0.9921875\n",
            "Loss: 0.026481054723262787 ,Train accuracy: 1.0\n",
            "Loss: 0.022382372990250587 ,Train accuracy: 1.0\n",
            "Loss: 0.021657204255461693 ,Train accuracy: 1.0\n",
            "Loss: 0.024220140650868416 ,Train accuracy: 1.0\n",
            "Loss: 0.027648579329252243 ,Train accuracy: 1.0\n",
            "Loss: 0.02408912032842636 ,Train accuracy: 1.0\n",
            "Loss: 0.01967873051762581 ,Train accuracy: 1.0\n",
            "Loss: 0.022603914141654968 ,Train accuracy: 1.0\n",
            "Loss: 0.026728332042694092 ,Train accuracy: 0.9921875\n",
            "Loss: 0.018059223890304565 ,Train accuracy: 1.0\n",
            "Loss: 0.016034090891480446 ,Train accuracy: 1.0\n",
            "Loss: 0.01515184249728918 ,Train accuracy: 1.0\n",
            "Loss: 0.016972092911601067 ,Train accuracy: 1.0\n",
            "Loss: 0.01835714653134346 ,Train accuracy: 1.0\n"
          ]
        }
      ]
    },
    {
      "cell_type": "code",
      "source": [
        "test(FCNN, criterion_FCNN, test_dataloader_anti)"
      ],
      "metadata": {
        "colab": {
          "base_uri": "https://localhost:8080/"
        },
        "id": "JD4Gw-84HAu-",
        "outputId": "31163520-f36c-48fd-923d-b854e133d059"
      },
      "execution_count": 32,
      "outputs": [
        {
          "output_type": "stream",
          "name": "stdout",
          "text": [
            "0 :: Loss: 0.4198528230190277 ,Test accuracy: 0.8515625\n",
            "1 :: Loss: 0.35507187247276306 ,Test accuracy: 0.890625\n",
            "2 :: Loss: 0.2963845729827881 ,Test accuracy: 0.8984375\n",
            "3 :: Loss: 0.3349599838256836 ,Test accuracy: 0.8828125\n",
            "4 :: Loss: 0.24811866879463196 ,Test accuracy: 0.91015625\n",
            "5 :: Loss: 0.3799694776535034 ,Test accuracy: 0.8515625\n",
            "6 :: Loss: 0.3863770365715027 ,Test accuracy: 0.89453125\n",
            "7 :: Loss: 0.23530161380767822 ,Test accuracy: 0.9375\n",
            "8 :: Loss: 0.22361020743846893 ,Test accuracy: 0.90625\n",
            "9 :: Loss: 0.25119855999946594 ,Test accuracy: 0.8984375\n",
            "10 :: Loss: 0.29407626390457153 ,Test accuracy: 0.8828125\n",
            "11 :: Loss: 0.3150583803653717 ,Test accuracy: 0.88671875\n",
            "12 :: Loss: 0.35631653666496277 ,Test accuracy: 0.90625\n",
            "13 :: Loss: 0.3081590235233307 ,Test accuracy: 0.90625\n",
            "14 :: Loss: 0.41661936044692993 ,Test accuracy: 0.85546875\n",
            "15 :: Loss: 0.4445633292198181 ,Test accuracy: 0.8671875\n",
            "16 :: Loss: 0.15099060535430908 ,Test accuracy: 0.953125\n",
            "17 :: Loss: 0.2790911793708801 ,Test accuracy: 0.88671875\n",
            "18 :: Loss: 0.299765944480896 ,Test accuracy: 0.921875\n",
            "19 :: Loss: 0.2961506247520447 ,Test accuracy: 0.91015625\n",
            "20 :: Loss: 0.26866862177848816 ,Test accuracy: 0.875\n",
            "21 :: Loss: 0.28419238328933716 ,Test accuracy: 0.90625\n",
            "22 :: Loss: 0.381040096282959 ,Test accuracy: 0.9140625\n",
            "23 :: Loss: 0.26070570945739746 ,Test accuracy: 0.92578125\n",
            "24 :: Loss: 0.45630961656570435 ,Test accuracy: 0.8515625\n",
            "25 :: Loss: 0.44460877776145935 ,Test accuracy: 0.84765625\n",
            "26 :: Loss: 0.38671112060546875 ,Test accuracy: 0.8828125\n",
            "27 :: Loss: 0.18114572763442993 ,Test accuracy: 0.93359375\n",
            "28 :: Loss: 0.4217345714569092 ,Test accuracy: 0.859375\n",
            "29 :: Loss: 0.2064506858587265 ,Test accuracy: 0.90625\n",
            "30 :: Loss: 0.4284919202327728 ,Test accuracy: 0.875\n"
          ]
        }
      ]
    },
    {
      "cell_type": "markdown",
      "source": [
        "#### CNN:"
      ],
      "metadata": {
        "id": "wuEBPp6emlIe"
      }
    },
    {
      "cell_type": "code",
      "source": [
        "# model = Sequential([\n",
        "#           layers.Reshape(target_shape=(40,40,1), input_shape=(40,40)),\n",
        "#           layers.Conv2D(128, (3,3), padding='valid', activation='relu'),\n",
        "#           layers.Flatten(),\n",
        "#           layers.Dense(128, activation='relu'),\n",
        "#           layers.Dropout(.5),\n",
        "#           layers.Dense(2, activation='softmax')\n",
        "#         ])\n",
        "import torch.nn.functional as F\n",
        "\n",
        "class ConvNet(nn.Module):\n",
        "    def __init__(self, Nx, Ny):\n",
        "        super(ConvNet, self).__init__()\n",
        "        # Equivalent to Reshape in Keras, but in PyTorch, reshaping is typically done in the forward method.\n",
        "        # Conv2D layer with 128 filters, kernel size of 3x3, padding='valid' implies no padding in PyTorch\n",
        "        self.conv1 = nn.Conv2d(1, 64, kernel_size=2, padding=0)\n",
        "        # Determine the output size of the first convolutional layer\n",
        "        self.out_conv1 = self._calculate_output_size((Nx, Ny), kernel_size=2, padding=0)\n",
        "        # Dense layer with 128 units\n",
        "        self.fc1 = nn.Linear(64 * self.out_conv1[0] * self.out_conv1[1], 64)\n",
        "        # Dropout layer with p=0.5\n",
        "        self.dropout = nn.Dropout(p=0.5)\n",
        "        # Output Dense layer with 2 units for softmax output\n",
        "        self.fc2 = nn.Linear(64, 2)\n",
        "        self.flatten = nn.Flatten()\n",
        "\n",
        "    def forward(self, x):\n",
        "        # Reshape input to have one channel\n",
        "        x = x.view(-1, 1, x.size(1), x.size(2))\n",
        "        # Applying Convolutional Layer\n",
        "        x = F.relu(self.conv1(x))\n",
        "        # Flattening the output of the conv layer\n",
        "        x = x.view(-1, 64 * self.out_conv1[0] * self.out_conv1[1])    # ------------------\n",
        "        # Dense layer with ReLU activation\n",
        "        x = F.relu(self.fc1(x))\n",
        "        # Dropout layer\n",
        "        x = self.dropout(x)\n",
        "        # Output layer with softmax activation\n",
        "        return F.softmax(self.fc2(x))\n",
        "\n",
        "    def _calculate_output_size(self, input_size, kernel_size, padding):\n",
        "        # Calculate output size after convolutional layer\n",
        "        out_size = [(input_size[0] - kernel_size + 2 * padding) + 1,\n",
        "                    (input_size[1] - kernel_size + 2 * padding) + 1]\n",
        "        return out_size\n"
      ],
      "metadata": {
        "id": "y4LRpHS9muK9"
      },
      "execution_count": 13,
      "outputs": []
    },
    {
      "cell_type": "code",
      "source": [
        "# model.compile(optimizer='adam',\n",
        "#               loss='binary_crossentropy',\n",
        "#               metrics=['binary_accuracy'])\n",
        "CNN = ConvNet(Nx, Ny).to(device)\n",
        "criterion_CNN = nn.BCELoss()\n",
        "optimizer_CNN = optim.Adam(CNN.parameters(), lr=1e-4, betas=(0.9, 0.999))"
      ],
      "metadata": {
        "id": "qiEhnYvsrOcv"
      },
      "execution_count": 74,
      "outputs": []
    },
    {
      "cell_type": "code",
      "source": [
        "train(CNN, 10, criterion_CNN, optimizer_CNN, train_dataloader_anti)"
      ],
      "metadata": {
        "id": "HBQPkd7RsPuA",
        "colab": {
          "base_uri": "https://localhost:8080/"
        },
        "outputId": "ef4aab7c-82d7-442a-f5a6-5f9362a63552"
      },
      "execution_count": 75,
      "outputs": [
        {
          "output_type": "stream",
          "name": "stderr",
          "text": [
            "<ipython-input-13-341eff41c761>:39: UserWarning: Implicit dimension choice for softmax has been deprecated. Change the call to include dim=X as an argument.\n",
            "  return F.softmax(self.fc2(x))\n"
          ]
        },
        {
          "output_type": "stream",
          "name": "stdout",
          "text": [
            "Loss: 0.6922791004180908 ,Train accuracy: 0.53125\n",
            "Loss: 0.020207084715366364 ,Train accuracy: 0.984375\n",
            "Loss: 0.10165642946958542 ,Train accuracy: 0.984375\n",
            "Loss: 0.059685833752155304 ,Train accuracy: 0.9921875\n",
            "Loss: 0.018403541296720505 ,Train accuracy: 0.9921875\n",
            "Loss: 0.011462502181529999 ,Train accuracy: 0.9921875\n",
            "Loss: 0.020670343190431595 ,Train accuracy: 0.9921875\n",
            "Loss: 0.011152057908475399 ,Train accuracy: 0.9921875\n",
            "Loss: 0.06586307287216187 ,Train accuracy: 0.984375\n",
            "Loss: 0.0192645862698555 ,Train accuracy: 0.9921875\n",
            "Loss: 0.015852659940719604 ,Train accuracy: 0.9921875\n",
            "Loss: 0.03045506775379181 ,Train accuracy: 0.9921875\n",
            "Loss: 0.0063675930723547935 ,Train accuracy: 1.0\n",
            "Loss: 0.009256459772586823 ,Train accuracy: 1.0\n",
            "Loss: 0.0012420308776199818 ,Train accuracy: 1.0\n",
            "Loss: 0.0060473959892988205 ,Train accuracy: 1.0\n",
            "Loss: 0.005653879139572382 ,Train accuracy: 1.0\n",
            "Loss: 0.032693177461624146 ,Train accuracy: 0.984375\n",
            "Loss: 0.025758102536201477 ,Train accuracy: 0.9765625\n",
            "Loss: 0.0036522692535072565 ,Train accuracy: 1.0\n",
            "Loss: 0.06929977983236313 ,Train accuracy: 0.984375\n",
            "Loss: 0.05012970790266991 ,Train accuracy: 0.984375\n",
            "Loss: 0.019467925652861595 ,Train accuracy: 1.0\n",
            "Loss: 0.014538801275193691 ,Train accuracy: 0.9921875\n",
            "Loss: 0.003989284858107567 ,Train accuracy: 1.0\n",
            "Loss: 0.006216301582753658 ,Train accuracy: 1.0\n",
            "Loss: 0.017141880467534065 ,Train accuracy: 0.9921875\n",
            "Loss: 0.006253908388316631 ,Train accuracy: 1.0\n",
            "Loss: 0.00287531572394073 ,Train accuracy: 1.0\n",
            "Loss: 0.03720763325691223 ,Train accuracy: 0.984375\n",
            "Loss: 0.01811862364411354 ,Train accuracy: 0.9921875\n",
            "Loss: 0.012427233159542084 ,Train accuracy: 1.0\n",
            "Loss: 0.0026857396587729454 ,Train accuracy: 1.0\n",
            "Loss: 0.0029432689771056175 ,Train accuracy: 1.0\n",
            "Loss: 0.00422408664599061 ,Train accuracy: 1.0\n",
            "Loss: 0.02862006239593029 ,Train accuracy: 0.9921875\n",
            "Loss: 0.008176477625966072 ,Train accuracy: 0.9921875\n",
            "Loss: 0.0033384831622242928 ,Train accuracy: 1.0\n",
            "Loss: 0.006757594645023346 ,Train accuracy: 1.0\n",
            "Loss: 0.012940378859639168 ,Train accuracy: 0.9921875\n",
            "Loss: 0.006367371417582035 ,Train accuracy: 1.0\n",
            "Loss: 0.0044273631647229195 ,Train accuracy: 1.0\n",
            "Loss: 0.005296491552144289 ,Train accuracy: 1.0\n",
            "Loss: 0.015929702669382095 ,Train accuracy: 0.9921875\n",
            "Loss: 0.015935387462377548 ,Train accuracy: 0.9921875\n",
            "Loss: 0.003642431693151593 ,Train accuracy: 1.0\n",
            "Loss: 0.00666106678545475 ,Train accuracy: 1.0\n",
            "Loss: 0.0026392200961709023 ,Train accuracy: 1.0\n",
            "Loss: 0.0012339320965111256 ,Train accuracy: 1.0\n",
            "Loss: 0.008889018557965755 ,Train accuracy: 0.9921875\n",
            "Loss: 0.0007018736796453595 ,Train accuracy: 1.0\n",
            "Loss: 0.0005893213674426079 ,Train accuracy: 1.0\n",
            "Loss: 0.012687928043305874 ,Train accuracy: 0.9921875\n",
            "Loss: 0.007874643430113792 ,Train accuracy: 0.9921875\n",
            "Loss: 0.0011431742459535599 ,Train accuracy: 1.0\n",
            "Loss: 0.0006260580848902464 ,Train accuracy: 1.0\n",
            "Loss: 0.0022868916857987642 ,Train accuracy: 1.0\n",
            "Loss: 0.009281909093260765 ,Train accuracy: 0.9921875\n",
            "Loss: 0.004899573512375355 ,Train accuracy: 1.0\n",
            "Loss: 0.0018764811102300882 ,Train accuracy: 1.0\n",
            "Loss: 0.007205050904303789 ,Train accuracy: 1.0\n",
            "Loss: 0.010228948667645454 ,Train accuracy: 0.9921875\n",
            "Loss: 0.0112394317984581 ,Train accuracy: 0.9921875\n",
            "Loss: 0.0022481251507997513 ,Train accuracy: 1.0\n",
            "Loss: 6.916247366461903e-05 ,Train accuracy: 1.0\n",
            "Loss: 0.0008805682882666588 ,Train accuracy: 1.0\n",
            "Loss: 0.010278400033712387 ,Train accuracy: 0.9921875\n",
            "Loss: 0.005704809445887804 ,Train accuracy: 1.0\n",
            "Loss: 0.0059226262383162975 ,Train accuracy: 0.9921875\n",
            "Loss: 0.0017805525567382574 ,Train accuracy: 1.0\n",
            "Loss: 0.006626253481954336 ,Train accuracy: 1.0\n",
            "Loss: 0.012225760146975517 ,Train accuracy: 0.9921875\n",
            "Loss: 0.005212939810007811 ,Train accuracy: 1.0\n",
            "Loss: 0.009708787314593792 ,Train accuracy: 0.9921875\n",
            "Loss: 0.0013611011672765017 ,Train accuracy: 1.0\n",
            "Loss: 0.010825413279235363 ,Train accuracy: 0.9921875\n",
            "Loss: 0.0017805768875405192 ,Train accuracy: 1.0\n",
            "Loss: 0.00012629805132746696 ,Train accuracy: 1.0\n",
            "Loss: 0.006726440973579884 ,Train accuracy: 1.0\n",
            "Loss: 0.0020633661188185215 ,Train accuracy: 1.0\n",
            "Loss: 0.00882037915289402 ,Train accuracy: 0.9921875\n",
            "Loss: 0.0008342512883245945 ,Train accuracy: 1.0\n",
            "Loss: 0.01145701389759779 ,Train accuracy: 0.9921875\n",
            "Loss: 0.001109160715714097 ,Train accuracy: 1.0\n",
            "Loss: 0.000556965300347656 ,Train accuracy: 1.0\n",
            "Loss: 0.02237640507519245 ,Train accuracy: 0.9921875\n",
            "Loss: 0.00011910188186448067 ,Train accuracy: 1.0\n",
            "Loss: 0.00027356462669558823 ,Train accuracy: 1.0\n",
            "Loss: 0.0025197670329362154 ,Train accuracy: 1.0\n",
            "Loss: 0.00967488158494234 ,Train accuracy: 0.9921875\n"
          ]
        }
      ]
    },
    {
      "cell_type": "code",
      "source": [
        "test(CNN, criterion_CNN, test_dataloader_anti)"
      ],
      "metadata": {
        "colab": {
          "base_uri": "https://localhost:8080/"
        },
        "id": "WOSpMELUtN7j",
        "outputId": "16c1c3b1-f4a5-4662-c0f8-2965f5c0d839"
      },
      "execution_count": 76,
      "outputs": [
        {
          "output_type": "stream",
          "name": "stderr",
          "text": [
            "<ipython-input-13-341eff41c761>:39: UserWarning: Implicit dimension choice for softmax has been deprecated. Change the call to include dim=X as an argument.\n",
            "  return F.softmax(self.fc2(x))\n"
          ]
        },
        {
          "output_type": "stream",
          "name": "stdout",
          "text": [
            "0 :: Loss: 0.11614495515823364 ,Test accuracy: 0.984375\n",
            "1 :: Loss: 0.03730158507823944 ,Test accuracy: 0.9765625\n",
            "2 :: Loss: 0.0011313584400340915 ,Test accuracy: 1.0\n",
            "3 :: Loss: 0.02025325410068035 ,Test accuracy: 0.984375\n",
            "4 :: Loss: 0.039311014115810394 ,Test accuracy: 0.9921875\n",
            "5 :: Loss: 0.06214701011776924 ,Test accuracy: 0.984375\n",
            "6 :: Loss: 0.007940392941236496 ,Test accuracy: 0.9921875\n",
            "7 :: Loss: 0.045885056257247925 ,Test accuracy: 0.984375\n",
            "8 :: Loss: 0.0024380036629736423 ,Test accuracy: 1.0\n",
            "9 :: Loss: 0.0029644090682268143 ,Test accuracy: 1.0\n",
            "10 :: Loss: 0.08626677095890045 ,Test accuracy: 0.9765625\n",
            "11 :: Loss: 0.06669402867555618 ,Test accuracy: 0.984375\n",
            "12 :: Loss: 0.005725751165300608 ,Test accuracy: 1.0\n",
            "13 :: Loss: 0.010306691750884056 ,Test accuracy: 0.9921875\n",
            "14 :: Loss: 0.015333455055952072 ,Test accuracy: 0.9921875\n",
            "15 :: Loss: 0.08322874456644058 ,Test accuracy: 0.984375\n",
            "16 :: Loss: 0.00031545659294351935 ,Test accuracy: 1.0\n",
            "17 :: Loss: 0.006311403587460518 ,Test accuracy: 0.9921875\n",
            "18 :: Loss: 0.0060289958491921425 ,Test accuracy: 0.9921875\n",
            "19 :: Loss: 0.009197634644806385 ,Test accuracy: 0.9921875\n",
            "20 :: Loss: 0.0035544380079954863 ,Test accuracy: 1.0\n",
            "21 :: Loss: 0.004770033992826939 ,Test accuracy: 1.0\n",
            "22 :: Loss: 0.004618778824806213 ,Test accuracy: 1.0\n",
            "23 :: Loss: 0.10285081714391708 ,Test accuracy: 0.984375\n",
            "24 :: Loss: 0.021671608090400696 ,Test accuracy: 0.9921875\n",
            "25 :: Loss: 0.07166852056980133 ,Test accuracy: 0.9765625\n",
            "26 :: Loss: 0.005612403154373169 ,Test accuracy: 1.0\n",
            "27 :: Loss: 0.016106612980365753 ,Test accuracy: 0.9921875\n",
            "28 :: Loss: 0.008425217121839523 ,Test accuracy: 1.0\n",
            "29 :: Loss: 0.00044600729597732425 ,Test accuracy: 1.0\n",
            "30 :: Loss: 0.0306983832269907 ,Test accuracy: 0.9833333333333333\n"
          ]
        }
      ]
    },
    {
      "cell_type": "markdown",
      "source": [
        "### Testing on NNN data"
      ],
      "metadata": {
        "id": "pS8Oau4Gpb4C"
      }
    },
    {
      "cell_type": "markdown",
      "source": [
        "#### Loading the datasets and the trained model"
      ],
      "metadata": {
        "id": "0i2p44lTrItu"
      }
    },
    {
      "cell_type": "code",
      "source": [
        "# Dataset 1, NN -> antiFe, NNN -> Fe\n",
        "# X1, y1, Y1 = full_file_loader('data_64NNN_antiferroNN_ferroNNN_R2.npz')"
      ],
      "metadata": {
        "id": "8CYCj5PSSWFl"
      },
      "execution_count": null,
      "outputs": []
    },
    {
      "cell_type": "code",
      "source": [
        "# Dataset 2, NN -> antiFe\n",
        "# X2, y2, Y2 = full_file_loader('data_anti.npz')"
      ],
      "metadata": {
        "id": "qnQYzFPPigyt"
      },
      "execution_count": null,
      "outputs": []
    },
    {
      "cell_type": "code",
      "source": [
        "# Dataset 3, NN -> antiFe, NNN -> Fe, reduced\n",
        "X3, y3, Y3 = full_file_loader('data_64NNN_anti_noshuffle_reduced.npz', 8.5)"
      ],
      "metadata": {
        "id": "bXiSFlmWotQn"
      },
      "execution_count": 63,
      "outputs": []
    },
    {
      "cell_type": "code",
      "source": [
        "# dataset1 = IsingDataset(X1, y1)\n",
        "# dataset2 = IsingDataset(X2, y2)\n",
        "dataset3 = IsingDataset(X3, y3)\n",
        "batch_size = 128\n",
        "# dataloader1 = DataLoader(dataset = dataset1, batch_size = batch_size, shuffle = False)\n",
        "# dataloader2 = DataLoader(dataset = dataset2, batch_size = batch_size, shuffle = False)\n",
        "dataloader3 = DataLoader(dataset = dataset3, batch_size = batch_size, shuffle = False)"
      ],
      "metadata": {
        "colab": {
          "base_uri": "https://localhost:8080/"
        },
        "outputId": "f8af56cb-955b-4552-b8ed-6e4ef89cfc23",
        "id": "C-jWCU4EqQ8l"
      },
      "execution_count": 64,
      "outputs": [
        {
          "output_type": "stream",
          "name": "stderr",
          "text": [
            "<ipython-input-10-2d1bccbc4b53>:4: UserWarning: To copy construct from a tensor, it is recommended to use sourceTensor.clone().detach() or sourceTensor.clone().detach().requires_grad_(True), rather than torch.tensor(sourceTensor).\n",
            "  self.x = torch.tensor(torch.from_numpy(x))\n",
            "<ipython-input-10-2d1bccbc4b53>:5: UserWarning: To copy construct from a tensor, it is recommended to use sourceTensor.clone().detach() or sourceTensor.clone().detach().requires_grad_(True), rather than torch.tensor(sourceTensor).\n",
            "  self.y = torch.tensor(torch.from_numpy(y))\n"
          ]
        }
      ]
    },
    {
      "cell_type": "code",
      "source": [
        "FCNN.load_state_dict(torch.load('NeuralNetwork_weights_anti64.pth', map_location=torch.device('cpu')))"
      ],
      "metadata": {
        "colab": {
          "base_uri": "https://localhost:8080/"
        },
        "id": "2_3finKPsIb6",
        "outputId": "8792eaf6-d645-4fa5-c4a1-fb0f96619fe9"
      },
      "execution_count": null,
      "outputs": [
        {
          "output_type": "execute_result",
          "data": {
            "text/plain": [
              "<All keys matched successfully>"
            ]
          },
          "metadata": {},
          "execution_count": 48
        }
      ]
    },
    {
      "cell_type": "markdown",
      "source": [
        "CNN"
      ],
      "metadata": {
        "id": "BMHTSGOfR6vU"
      }
    },
    {
      "cell_type": "code",
      "source": [
        "dataset3.__len__()"
      ],
      "metadata": {
        "colab": {
          "base_uri": "https://localhost:8080/"
        },
        "id": "icEwc65ouFCb",
        "outputId": "d1c59811-8fce-4d6d-9c66-edb31e3444e4"
      },
      "execution_count": null,
      "outputs": [
        {
          "output_type": "execute_result",
          "data": {
            "text/plain": [
              "2200"
            ]
          },
          "metadata": {},
          "execution_count": 53
        }
      ]
    },
    {
      "cell_type": "code",
      "source": [
        "test(CNN, criterion_CNN, dataloader3)"
      ],
      "metadata": {
        "colab": {
          "base_uri": "https://localhost:8080/"
        },
        "outputId": "29cc0db4-f4f5-42dc-ccdf-9efa079750d9",
        "id": "nsLLzMiwRlZt"
      },
      "execution_count": 77,
      "outputs": [
        {
          "output_type": "stream",
          "name": "stdout",
          "text": [
            "0 :: Loss: 0.29558154940605164 ,Test accuracy: 0.8046875\n",
            "1 :: Loss: 0.36221787333488464 ,Test accuracy: 0.7734375\n",
            "2 :: Loss: 0.5728088617324829 ,Test accuracy: 0.640625\n",
            "3 :: Loss: 1.1437149047851562 ,Test accuracy: 0.453125\n",
            "4 :: Loss: 2.1804964542388916 ,Test accuracy: 0.2890625\n",
            "5 :: Loss: 6.9383697509765625 ,Test accuracy: 0.0390625\n",
            "6 :: Loss: 14.726797103881836 ,Test accuracy: 0.03125\n",
            "7 :: Loss: 23.744009017944336 ,Test accuracy: 0.1875\n",
            "8 :: Loss: 3.6306802940089256e-05 ,Test accuracy: 1.0\n",
            "9 :: Loss: 4.2523242882452905e-06 ,Test accuracy: 1.0\n",
            "10 :: Loss: 1.218090687871154e-06 ,Test accuracy: 1.0\n",
            "11 :: Loss: 6.011301593389362e-06 ,Test accuracy: 1.0\n",
            "12 :: Loss: 2.9521771693907795e-07 ,Test accuracy: 1.0\n",
            "13 :: Loss: 7.926639227662235e-06 ,Test accuracy: 1.0\n",
            "14 :: Loss: 1.3338017197384033e-06 ,Test accuracy: 1.0\n",
            "15 :: Loss: 9.740622317622183e-07 ,Test accuracy: 1.0\n",
            "16 :: Loss: 8.488352705171565e-07 ,Test accuracy: 1.0\n",
            "17 :: Loss: 1.0601809360966108e-11 ,Test accuracy: 1.0\n"
          ]
        },
        {
          "output_type": "stream",
          "name": "stderr",
          "text": [
            "<ipython-input-13-341eff41c761>:39: UserWarning: Implicit dimension choice for softmax has been deprecated. Change the call to include dim=X as an argument.\n",
            "  return F.softmax(self.fc2(x))\n"
          ]
        }
      ]
    },
    {
      "cell_type": "code",
      "source": [
        "pred_class1, pred_class2 = get_predictions(dataloader3, CNN)"
      ],
      "metadata": {
        "id": "9iiye8pXRlZu",
        "colab": {
          "base_uri": "https://localhost:8080/"
        },
        "outputId": "24e67868-147f-4d8a-c0e7-c1e240595536"
      },
      "execution_count": 79,
      "outputs": [
        {
          "output_type": "stream",
          "name": "stderr",
          "text": [
            "<ipython-input-13-341eff41c761>:39: UserWarning: Implicit dimension choice for softmax has been deprecated. Change the call to include dim=X as an argument.\n",
            "  return F.softmax(self.fc2(x))\n"
          ]
        }
      ]
    },
    {
      "cell_type": "code",
      "source": [
        "plt.scatter(Y3, pred_class1, label='Antiferromagnetic')\n",
        "plt.scatter(Y3, pred_class2, label='Paramagnetic')\n",
        "plt.legend()"
      ],
      "metadata": {
        "id": "dD30RR7ZRlZu",
        "colab": {
          "base_uri": "https://localhost:8080/",
          "height": 447
        },
        "outputId": "43a82309-51b9-4c5e-b2e7-3ce7576733b0"
      },
      "execution_count": 80,
      "outputs": [
        {
          "output_type": "execute_result",
          "data": {
            "text/plain": [
              "<matplotlib.legend.Legend at 0x7be2b40da1d0>"
            ]
          },
          "metadata": {},
          "execution_count": 80
        },
        {
          "output_type": "display_data",
          "data": {
            "text/plain": [
              "<Figure size 640x480 with 1 Axes>"
            ],
            "image/png": "[encoded data removed]"
          },
          "metadata": {}
        }
      ]
    },
    {
      "cell_type": "markdown",
      "source": [
        "FCNN"
      ],
      "metadata": {
        "id": "lu_yszMsqYdb"
      }
    },
    {
      "cell_type": "code",
      "source": [
        "dataset3.__len__()"
      ],
      "metadata": {
        "colab": {
          "base_uri": "https://localhost:8080/"
        },
        "outputId": "005a5302-3641-4363-9d09-10f99361aa11",
        "id": "WG0fetnVqYdc"
      },
      "execution_count": 33,
      "outputs": [
        {
          "output_type": "execute_result",
          "data": {
            "text/plain": [
              "2200"
            ]
          },
          "metadata": {},
          "execution_count": 33
        }
      ]
    },
    {
      "cell_type": "code",
      "source": [
        "test(FCNN, criterion_FCNN, dataloader3)"
      ],
      "metadata": {
        "colab": {
          "base_uri": "https://localhost:8080/"
        },
        "outputId": "906b7dcd-0d5d-4277-9323-9c10397205d4",
        "id": "XmwAuFtyqYdc"
      },
      "execution_count": 81,
      "outputs": [
        {
          "output_type": "stream",
          "name": "stdout",
          "text": [
            "0 :: Loss: 1.7272565364837646 ,Test accuracy: 0.55859375\n",
            "1 :: Loss: 1.6813437938690186 ,Test accuracy: 0.4140625\n",
            "2 :: Loss: 2.280813455581665 ,Test accuracy: 0.37109375\n",
            "3 :: Loss: 1.712501883506775 ,Test accuracy: 0.43359375\n",
            "4 :: Loss: 1.4424455165863037 ,Test accuracy: 0.54296875\n",
            "5 :: Loss: 1.9115322828292847 ,Test accuracy: 0.42578125\n",
            "6 :: Loss: 2.667715072631836 ,Test accuracy: 0.328125\n",
            "7 :: Loss: 2.931903600692749 ,Test accuracy: 0.3515625\n",
            "8 :: Loss: 0.6326177716255188 ,Test accuracy: 0.7890625\n",
            "9 :: Loss: 0.7200087308883667 ,Test accuracy: 0.8046875\n",
            "10 :: Loss: 0.4871750771999359 ,Test accuracy: 0.796875\n",
            "11 :: Loss: 0.8627126216888428 ,Test accuracy: 0.8125\n",
            "12 :: Loss: 0.6343590021133423 ,Test accuracy: 0.75390625\n",
            "13 :: Loss: 0.6946726441383362 ,Test accuracy: 0.76171875\n",
            "14 :: Loss: 0.730778694152832 ,Test accuracy: 0.7578125\n",
            "15 :: Loss: 0.8178161382675171 ,Test accuracy: 0.74609375\n",
            "16 :: Loss: 0.6539164185523987 ,Test accuracy: 0.78125\n",
            "17 :: Loss: 0.7420551180839539 ,Test accuracy: 0.7708333333333334\n"
          ]
        }
      ]
    },
    {
      "cell_type": "code",
      "source": [
        "pred_class1, pred_class2 = get_predictions(dataloader3, FCNN)"
      ],
      "metadata": {
        "id": "zpOD9j47qYdd"
      },
      "execution_count": 82,
      "outputs": []
    },
    {
      "cell_type": "code",
      "source": [
        "plt.scatter(Y3, pred_class1, label='Antiferromagnetic')\n",
        "plt.scatter(Y3, pred_class2, label='Paramagnetic')\n",
        "plt.legend()"
      ],
      "metadata": {
        "colab": {
          "base_uri": "https://localhost:8080/",
          "height": 447
        },
        "outputId": "eaeacc92-051a-4c33-e219-e3e215c28012",
        "id": "16_L5j5HqYdd"
      },
      "execution_count": 83,
      "outputs": [
        {
          "output_type": "execute_result",
          "data": {
            "text/plain": [
              "<matplotlib.legend.Legend at 0x7be2b4166ad0>"
            ]
          },
          "metadata": {},
          "execution_count": 83
        },
        {
          "output_type": "display_data",
          "data": {
            "text/plain": [
              "<Figure size 640x480 with 1 Axes>"
            ],
            "image/png": "[encoded data removed]"
          },
          "metadata": {}
        }
      ]
    },
    {
      "cell_type": "markdown",
      "source": [
        "#### Data Visualization"
      ],
      "metadata": {
        "id": "7Br46aMFtJhp"
      }
    },
    {
      "cell_type": "code",
      "source": [
        "for idx, i in enumerate(Y2):\n",
        "  if i>3:\n",
        "    print(idx)\n",
        "    print(i)\n",
        "    break"
      ],
      "metadata": {
        "colab": {
          "base_uri": "https://localhost:8080/"
        },
        "id": "k946YajslsrC",
        "outputId": "733abf70-b0c0-44cf-bd16-96853e857e70"
      },
      "execution_count": null,
      "outputs": [
        {
          "output_type": "stream",
          "name": "stdout",
          "text": [
            "3\n",
            "3.1\n"
          ]
        }
      ]
    },
    {
      "cell_type": "code",
      "source": [
        "plt.imshow(X3[900])\n",
        "plt.title(f\"Temperature = {Y3[900]}, Class = {y3[900]}\")"
      ],
      "metadata": {
        "colab": {
          "base_uri": "https://localhost:8080/",
          "height": 469
        },
        "id": "t3E2q7C2mLZr",
        "outputId": "149b13cd-bebe-49fd-d02a-ac53276b5233"
      },
      "execution_count": 73,
      "outputs": [
        {
          "output_type": "execute_result",
          "data": {
            "text/plain": [
              "Text(0.5, 1.0, 'Temperature = 8.5, Class = [1. 0.]')"
            ]
          },
          "metadata": {},
          "execution_count": 73
        },
        {
          "output_type": "display_data",
          "data": {
            "text/plain": [
              "<Figure size 640x480 with 1 Axes>"
            ],
            "image/png": "[encoded data removed]"
          },
          "metadata": {}
        }
      ]
    },
    {
      "cell_type": "code",
      "source": [
        "plt.imshow(X3[0])\n",
        "plt.title(f\"Temperature = {Y3[0]}\")"
      ],
      "metadata": {
        "colab": {
          "base_uri": "https://localhost:8080/",
          "height": 469
        },
        "id": "mhQVlTH0kSB1",
        "outputId": "e695f3a9-96f6-4d42-bf3f-7cca2c70966b"
      },
      "execution_count": 20,
      "outputs": [
        {
          "output_type": "execute_result",
          "data": {
            "text/plain": [
              "Text(0.5, 1.0, 'Temperature = 4.0')"
            ]
          },
          "metadata": {},
          "execution_count": 20
        },
        {
          "output_type": "display_data",
          "data": {
            "text/plain": [
              "<Figure size 640x480 with 1 Axes>"
            ],
            "image/png": "[encoded data removed]"
          },
          "metadata": {}
        }
      ]
    },
    {
      "cell_type": "code",
      "source": [
        "# Class 1 -> Paramagnetic, Class 2 -> Antiferromagnetic ([0. 1.] -> AFM)\n",
        "## Samples getting predicted incorrectly:\n",
        "for index in range(dataset3.__len__()):\n",
        "    if(np.round(pred_class1[index]) != y3[index][0]):\n",
        "        print(f\"\\033[1mIndex: {index}\\033[0m\")\n",
        "        print(f\"PREDICTED: {pred_class1[index]}, {pred_class2[index]}\")\n",
        "        print(f\"EXPECTED: {y3[index]}\")"
      ],
      "metadata": {
        "id": "j_ksmASJkUre"
      },
      "execution_count": null,
      "outputs": []
    },
    {
      "cell_type": "markdown",
      "source": [
        "---\n",
        "A few datapoints from the above printed data: <br>\n",
        "<small><b>Index: 1</b> <br>\n",
        "PREDICTED: 0.5311572551727295, 0.4595322012901306 <br>\n",
        "EXPECTED: [0. 1.]<br>\n",
        "<b>Index: 12</b><br>\n",
        "PREDICTED: 0.723466694355011, 0.26100102066993713<br>\n",
        "EXPECTED: [0. 1.]<br>\n",
        "<b>Index: 13 </b><br>\n",
        "PREDICTED: 0.8141891360282898, 0.19164887070655823<br>\n",
        "EXPECTED: [0. 1.]<br></small>"
      ],
      "metadata": {
        "id": "dYUKT14m5EPF"
      }
    },
    {
      "cell_type": "code",
      "source": [
        "index = 0\n",
        "print(f\"PREDICTED: {pred_class1[index]}, {pred_class2[index]}\")\n",
        "print(f\"EXPECTED: {y3[index]}\")\n",
        "plt.imshow(X3[index])\n",
        "plt.title(f\"Temperature = {Y3[index]}\")"
      ],
      "metadata": {
        "colab": {
          "base_uri": "https://localhost:8080/",
          "height": 504
        },
        "id": "-EsSHM5s68ZP",
        "outputId": "23e20e4a-3f16-42b8-f128-7088afc62fd9"
      },
      "execution_count": null,
      "outputs": [
        {
          "output_type": "stream",
          "name": "stdout",
          "text": [
            "PREDICTED: 0.02166641131043434, 0.971859335899353\n",
            "EXPECTED: [0. 1.]\n"
          ]
        },
        {
          "output_type": "execute_result",
          "data": {
            "text/plain": [
              "Text(0.5, 1.0, 'Temperature = 4.0')"
            ]
          },
          "metadata": {},
          "execution_count": 78
        },
        {
          "output_type": "display_data",
          "data": {
            "text/plain": [
              "<Figure size 640x480 with 1 Axes>"
            ],
            "image/png": "[encoded data removed]"
          },
          "metadata": {}
        }
      ]
    },
    {
      "cell_type": "code",
      "source": [
        "index = 13\n",
        "print(f\"PREDICTED: {pred_class1[index]}, {pred_class2[index]}\")\n",
        "print(f\"EXPECTED: {y3[index]}\")\n",
        "plt.imshow(X3[index])\n",
        "plt.title(f\"Temperature = {Y3[index]}\")"
      ],
      "metadata": {
        "colab": {
          "base_uri": "https://localhost:8080/",
          "height": 504
        },
        "id": "pVGfWjvdkxDQ",
        "outputId": "2ced53dc-2596-40e3-aae7-770ca9260946"
      },
      "execution_count": null,
      "outputs": [
        {
          "output_type": "stream",
          "name": "stdout",
          "text": [
            "PREDICTED: 0.8141891360282898, 0.19164887070655823\n",
            "EXPECTED: [0. 1.]\n"
          ]
        },
        {
          "output_type": "execute_result",
          "data": {
            "text/plain": [
              "Text(0.5, 1.0, 'Temperature = 4.0')"
            ]
          },
          "metadata": {},
          "execution_count": 77
        },
        {
          "output_type": "display_data",
          "data": {
            "text/plain": [
              "<Figure size 640x480 with 1 Axes>"
            ],
            "image/png": "[encoded data removed]"
          },
          "metadata": {}
        }
      ]
    },
    {
      "cell_type": "markdown",
      "source": [
        "To check if the model correctly predicts a perfectly anti-ferromagnetic lattice"
      ],
      "metadata": {
        "id": "nPsaDUp_rpsu"
      }
    },
    {
      "cell_type": "code",
      "source": [
        "test_input1 = np.ones((1, 64, 64))  # Add an additional dimension for batch size of 1\n",
        "test_input1[:, 1::2, ::2] = -1\n",
        "test_input1[:, ::2, 1::2] = -1\n",
        "\n",
        "plt.imshow(test_input1.squeeze())  # Squeeze the batch dimension for visualization\n",
        "plt.show()"
      ],
      "metadata": {
        "colab": {
          "base_uri": "https://localhost:8080/",
          "height": 432
        },
        "id": "s_SYQhxv7i5T",
        "outputId": "be592626-8568-4cee-eae2-dc87600c1172"
      },
      "execution_count": 37,
      "outputs": [
        {
          "output_type": "display_data",
          "data": {
            "text/plain": [
              "<Figure size 640x480 with 1 Axes>"
            ],
            "image/png": "[encoded data removed]"
          },
          "metadata": {}
        }
      ]
    },
    {
      "cell_type": "markdown",
      "source": [
        "CNN"
      ],
      "metadata": {
        "id": "O7Md6ZWMrwjf"
      }
    },
    {
      "cell_type": "code",
      "source": [
        "# Resolve the error\n",
        "pred_c1, pred_c2 = get_predictions_np(test_input1, CNN, device)"
      ],
      "metadata": {
        "id": "ea3MNld78jd_",
        "colab": {
          "base_uri": "https://localhost:8080/"
        },
        "outputId": "471ac5f7-5ad5-41ff-c594-6c50c5276490"
      },
      "execution_count": 38,
      "outputs": [
        {
          "output_type": "stream",
          "name": "stderr",
          "text": [
            "<ipython-input-13-341eff41c761>:39: UserWarning: Implicit dimension choice for softmax has been deprecated. Change the call to include dim=X as an argument.\n",
            "  return F.softmax(self.fc2(x))\n"
          ]
        }
      ]
    },
    {
      "cell_type": "code",
      "source": [
        "print(f\"{pred_c1}, {pred_c2}\")"
      ],
      "metadata": {
        "colab": {
          "base_uri": "https://localhost:8080/"
        },
        "id": "A-Cy7W2_EZzC",
        "outputId": "682ebc91-5719-46de-c633-d46408f2c113"
      },
      "execution_count": 39,
      "outputs": [
        {
          "output_type": "stream",
          "name": "stdout",
          "text": [
            "[1.], [1.1239331e-12]\n"
          ]
        }
      ]
    },
    {
      "cell_type": "markdown",
      "source": [
        "FCNN"
      ],
      "metadata": {
        "id": "1I5J957Sr1pw"
      }
    },
    {
      "cell_type": "code",
      "source": [
        "# Resolve the error\n",
        "pred_c1, pred_c2 = get_predictions_np(test_input1, FCNN, device)"
      ],
      "metadata": {
        "id": "j29fB4DUr1pw"
      },
      "execution_count": 40,
      "outputs": []
    },
    {
      "cell_type": "code",
      "source": [
        "print(f\"{pred_c1}, {pred_c2}\")"
      ],
      "metadata": {
        "colab": {
          "base_uri": "https://localhost:8080/"
        },
        "outputId": "20d7c2a2-f6f5-43be-9c40-e957bf81d572",
        "id": "elfGeSrur1px"
      },
      "execution_count": 41,
      "outputs": [
        {
          "output_type": "stream",
          "name": "stdout",
          "text": [
            "[0.9846149], [0.01495955]\n"
          ]
        }
      ]
    },
    {
      "cell_type": "markdown",
      "source": [
        "TO-DO List:\n",
        "1. Print class attribution maps\n",
        "2. Transfer learning in FCNN\n",
        "3. Check for CNN"
      ],
      "metadata": {
        "id": "rd1FmfDnyyK_"
      }
    },
    {
      "cell_type": "markdown",
      "source": [
        "---\n",
        "---\n"
      ],
      "metadata": {
        "id": "MuI9oTE_uuOK"
      }
    },
    {
      "cell_type": "markdown",
      "source": [
        "#### Train a CNN on NNN data\n"
      ],
      "metadata": {
        "id": "pAhhfVE3uro7"
      }
    },
    {
      "cell_type": "code",
      "source": [
        "# Anti-ferromagnetic dataset: train and test\n",
        "\n",
        "X3_train, X3_test, y3_train, y3_test, Y3_train, Y3_test = file_loader('data_64NNN_anti_noshuffle_reduced.npz', 8.5)"
      ],
      "metadata": {
        "id": "WKGrGOqywLin"
      },
      "execution_count": 84,
      "outputs": []
    },
    {
      "cell_type": "code",
      "source": [
        "training_dataset3 = IsingDataset(X3_train, y3_train)\n",
        "testing_dataset3 = IsingDataset(X3_test, y3_test)\n",
        "batch_size = 128\n",
        "train_dataloader3 = DataLoader(dataset = training_dataset3, batch_size = batch_size, shuffle = False)\n",
        "test_dataloader3 = DataLoader(dataset = testing_dataset3, batch_size = batch_size, shuffle = False)"
      ],
      "metadata": {
        "colab": {
          "base_uri": "https://localhost:8080/"
        },
        "outputId": "5c067c11-5fe9-4177-da2a-07d5e12c9057",
        "id": "3ANln12vwLin"
      },
      "execution_count": 85,
      "outputs": [
        {
          "output_type": "stream",
          "name": "stderr",
          "text": [
            "<ipython-input-10-2d1bccbc4b53>:4: UserWarning: To copy construct from a tensor, it is recommended to use sourceTensor.clone().detach() or sourceTensor.clone().detach().requires_grad_(True), rather than torch.tensor(sourceTensor).\n",
            "  self.x = torch.tensor(torch.from_numpy(x))\n",
            "<ipython-input-10-2d1bccbc4b53>:5: UserWarning: To copy construct from a tensor, it is recommended to use sourceTensor.clone().detach() or sourceTensor.clone().detach().requires_grad_(True), rather than torch.tensor(sourceTensor).\n",
            "  self.y = torch.tensor(torch.from_numpy(y))\n"
          ]
        }
      ]
    },
    {
      "cell_type": "code",
      "source": [
        "CNN_NNN = ConvNet(Nx, Ny).to(device)\n",
        "criterion_CNN_NNN = nn.BCELoss()\n",
        "optimizer_CNN_NNN = optim.Adam(CNN_NNN.parameters(), lr=1e-4, betas=(0.9, 0.999))"
      ],
      "metadata": {
        "id": "TqUvdeJTvA0_"
      },
      "execution_count": 89,
      "outputs": []
    },
    {
      "cell_type": "code",
      "source": [
        "train(CNN_NNN, 10, criterion_CNN_NNN, optimizer_CNN_NNN, train_dataloader3)"
      ],
      "metadata": {
        "colab": {
          "base_uri": "https://localhost:8080/"
        },
        "outputId": "5d07f19b-08a1-4b54-8f4a-4412211b33a1",
        "id": "EnFgG44fvA1A"
      },
      "execution_count": 90,
      "outputs": [
        {
          "output_type": "stream",
          "name": "stderr",
          "text": [
            "<ipython-input-13-341eff41c761>:39: UserWarning: Implicit dimension choice for softmax has been deprecated. Change the call to include dim=X as an argument.\n",
            "  return F.softmax(self.fc2(x))\n"
          ]
        },
        {
          "output_type": "stream",
          "name": "stdout",
          "text": [
            "Loss: 0.6628439426422119 ,Train accuracy: 0.6796875\n",
            "Loss: 3.975001107621185e-15 ,Train accuracy: 1.0\n",
            "Loss: 5.2653908922460834e-18 ,Train accuracy: 1.0\n",
            "Loss: 1.7489364241339382e-17 ,Train accuracy: 1.0\n",
            "Loss: 4.7070643274158585e-17 ,Train accuracy: 1.0\n",
            "Loss: 6.212670449240576e-21 ,Train accuracy: 1.0\n",
            "Loss: 3.736870004358564e-21 ,Train accuracy: 1.0\n",
            "Loss: 1.2790432216038747e-18 ,Train accuracy: 1.0\n",
            "Loss: 2.983737146212863e-19 ,Train accuracy: 1.0\n",
            "Loss: 1.7660018880898462e-16 ,Train accuracy: 1.0\n"
          ]
        }
      ]
    },
    {
      "cell_type": "code",
      "source": [
        "test(CNN_NNN, criterion_CNN_NNN, test_dataloader3)"
      ],
      "metadata": {
        "colab": {
          "base_uri": "https://localhost:8080/"
        },
        "outputId": "f6a2c9a7-af30-44e0-bf3f-6051c95d8ba7",
        "id": "eZtrBp4JvA1A"
      },
      "execution_count": 91,
      "outputs": [
        {
          "output_type": "stream",
          "name": "stdout",
          "text": [
            "0 :: Loss: 7.121848243021054e-23 ,Test accuracy: 1.0\n",
            "1 :: Loss: 1.526085232084884e-16 ,Test accuracy: 1.0\n",
            "2 :: Loss: 1.2620517153040522e-13 ,Test accuracy: 1.0\n"
          ]
        },
        {
          "output_type": "stream",
          "name": "stderr",
          "text": [
            "<ipython-input-13-341eff41c761>:39: UserWarning: Implicit dimension choice for softmax has been deprecated. Change the call to include dim=X as an argument.\n",
            "  return F.softmax(self.fc2(x))\n"
          ]
        }
      ]
    },
    {
      "cell_type": "code",
      "source": [
        "# Other way round it is not working\n",
        "test(CNN_NNN, criterion_CNN_NNN, test_dataloader_anti)"
      ],
      "metadata": {
        "id": "aR3_e6lMufac",
        "outputId": "7c89fb2e-c630-4a6e-e4dc-8d0cd790b956",
        "colab": {
          "base_uri": "https://localhost:8080/"
        }
      },
      "execution_count": 92,
      "outputs": [
        {
          "output_type": "stream",
          "name": "stderr",
          "text": [
            "<ipython-input-13-341eff41c761>:39: UserWarning: Implicit dimension choice for softmax has been deprecated. Change the call to include dim=X as an argument.\n",
            "  return F.softmax(self.fc2(x))\n"
          ]
        },
        {
          "output_type": "stream",
          "name": "stdout",
          "text": [
            "0 :: Loss: 37.17237854003906 ,Test accuracy: 0.578125\n",
            "1 :: Loss: 39.872161865234375 ,Test accuracy: 0.546875\n",
            "2 :: Loss: 44.020572662353516 ,Test accuracy: 0.5\n",
            "3 :: Loss: 44.79127883911133 ,Test accuracy: 0.5\n",
            "4 :: Loss: 42.041595458984375 ,Test accuracy: 0.5234375\n",
            "5 :: Loss: 41.87174987792969 ,Test accuracy: 0.53125\n",
            "6 :: Loss: 41.75581741333008 ,Test accuracy: 0.53125\n",
            "7 :: Loss: 47.38581848144531 ,Test accuracy: 0.4609375\n",
            "8 :: Loss: 50.064476013183594 ,Test accuracy: 0.4375\n",
            "9 :: Loss: 46.29566192626953 ,Test accuracy: 0.4765625\n",
            "10 :: Loss: 50.66930389404297 ,Test accuracy: 0.421875\n",
            "11 :: Loss: 43.111297607421875 ,Test accuracy: 0.5078125\n",
            "12 :: Loss: 42.2779655456543 ,Test accuracy: 0.5234375\n",
            "13 :: Loss: 43.29917907714844 ,Test accuracy: 0.515625\n",
            "14 :: Loss: 39.417694091796875 ,Test accuracy: 0.5546875\n",
            "15 :: Loss: 42.808807373046875 ,Test accuracy: 0.515625\n",
            "16 :: Loss: 42.911128997802734 ,Test accuracy: 0.515625\n",
            "17 :: Loss: 36.57139205932617 ,Test accuracy: 0.5859375\n",
            "18 :: Loss: 39.55314636230469 ,Test accuracy: 0.546875\n",
            "19 :: Loss: 53.239295959472656 ,Test accuracy: 0.3828125\n",
            "20 :: Loss: 48.53781509399414 ,Test accuracy: 0.453125\n",
            "21 :: Loss: 43.886985778808594 ,Test accuracy: 0.5\n",
            "22 :: Loss: 45.918006896972656 ,Test accuracy: 0.484375\n",
            "23 :: Loss: 47.48277282714844 ,Test accuracy: 0.4609375\n",
            "24 :: Loss: 39.98774337768555 ,Test accuracy: 0.5546875\n",
            "25 :: Loss: 45.877689361572266 ,Test accuracy: 0.484375\n",
            "26 :: Loss: 46.238258361816406 ,Test accuracy: 0.4765625\n",
            "27 :: Loss: 51.218894958496094 ,Test accuracy: 0.421875\n",
            "28 :: Loss: 45.36716842651367 ,Test accuracy: 0.484375\n",
            "29 :: Loss: 42.144569396972656 ,Test accuracy: 0.5234375\n",
            "30 :: Loss: 44.4713134765625 ,Test accuracy: 0.48333333333333334\n"
          ]
        }
      ]
    },
    {
      "cell_type": "code",
      "source": [],
      "metadata": {
        "id": "nuX3sa2Xztnz"
      },
      "execution_count": null,
      "outputs": []
    }
  ]
}